{
 "cells": [
  {
   "metadata": {},
   "cell_type": "markdown",
   "source": [
    "<h1 style=\"text-align: center; font-size: 36px;\">Cost/Loss Functions</h1>\n",
    "\n",
    "---"
   ],
   "id": "99243ebb295b1cf6"
  },
  {
   "metadata": {},
   "cell_type": "markdown",
   "source": [
    "<h2 style=\"text-align: center; font-size: 24px;\">Table of Contents</h2>\n",
    "\n",
    "1. Cross-Entropy Loss Function\n",
    "2. #### TODO: Add more functions\n"
   ],
   "id": "54c73776698ef685"
  },
  {
   "metadata": {},
   "cell_type": "markdown",
   "source": [
    "## Cross-Entropy Loss Function\n",
    "\n",
    "In deep learning and machine learning, the cross-entropy loss \n",
    "is a loss function used to measure the difference between two \n",
    "probability distributions `H(P, Q)`. The cross-entropy loss \n",
    "is commonly used in classification problems to measure the \n",
    "difference between the predicted probabilities and the true labels. \n",
    "It measures the variance between the two distributions namely `P` and `Q`.\n",
    "\n",
    "The cross-entropy loss is defined as follows:\n",
    "\n",
    "$$\n",
    "\\begin{equation}\n",
    "L = H(P, Q) = \\mathbb{E}_{z \\sim P(z)}\\left[\\log Q(z)\\right] = \\int_{i}^{N} P(z) \\log Q(z) \\, dz.\n",
    "\\end{equation}\n",
    "$$\n",
    "\n",
    "Where:\n",
    "- ( L ) is the cross-entropy loss\n",
    "- ( H ) is the cross-entropy function\n",
    "- ( P ) is the true probability distribution\n",
    "- ( Q ) is the predicted probability distribution\n",
    "- ( z ) is the random variable\n",
    "- ( 𝔼 ) is the expected value\n",
    "- ( $\\log$ ) is the natural logarithm\n",
    "- ( ∫ ) is the integration function over the interval (i, N)\n",
    "- ( i ) is the initial value\n",
    "- ( N ) is the final value \n",
    "- ( dz ) is the differential of the random variable\n",
    "- ( P(z) ) is the true probability distribution\n",
    "- ( Q(z) ) is the predicted probability distribu"
   ],
   "id": "25b03e99e3040fb1"
  },
  {
   "metadata": {},
   "cell_type": "markdown",
   "source": [
    "<h3 id=\"mathematical-description-of-the-cross-entropy-equation\" \n",
    "style=\"text-align: center; font-size: 24px;\">\n",
    "Mathematical Description of the Cross-Entropy Equation</h3>\n",
    "\n",
    "The cross-entropy loss function can be described mathematically as follows:\n",
    "\n",
    "$$\n",
    "\\begin{equation*}\n",
    "L = H(P, Q) = -\\sum_{i=1}^{N} \\left( P_i \\log Q_i + (1 - P_i) \\log (1 - Q_i) \\right)\n",
    "\\end{equation*}\n",
    "$$\n",
    "\n",
    "Where:\n",
    "- \\( $L$ \\) is the cross-entropy loss.\n",
    "- \\( $H(P, Q)$ \\) is the cross-entropy function.\n",
    "- \\( $P_i$ \\) represents the true label for the i-th data point `(1 for the positive class, 0 for the negative class)`.\n",
    "- \\( $Q_i$ \\) represents the predicted probability that the i-th data point belongs to the positive class `(between 0 and 1)`.\n",
    "- \\( $N$ \\) is the total number of data points.\n",
    "- The logarithm `($log$)` is typically the natural logarithm `(base \\($e$\\))`.\n"
   ],
   "id": "29a8d26f8b303a55"
  },
  {
   "metadata": {},
   "cell_type": "markdown",
   "source": [
    "<h3 id=\"laymans-description-of-cross-entropy-loss\"\n",
    "style=\"text-align: center; font-size: 24px;\">\n",
    "Layman's Description of Cross-Entropy Loss</h3>\n",
    "\n",
    "The cross-entropy loss measures how well our model's predictions match the actual labels `(AKA \"truth\" or \"ground truth\" )` for a set of data. Here's a simplified way to describe it:\n",
    "\n",
    "1. **Prediction vs. Reality**: Imagine you have a model that predicts the likelihood of something happening, like whether an email is spam or not. The model gives you a probability for each email being spam.\n",
    "\n",
    "2. **True Labels**: In reality, each email is either spam `(label 1)` or not spam `(label 0)`. These are the true labels.\n",
    "\n",
    "3. **Comparison**: The cross-entropy loss compares the model's predicted probabilities to the true labels. It checks:\n",
    "   - How close the predicted probability for spam is to `1`, if the email is actually spam.\n",
    "   - How close the predicted probability for not spam is to `1`, if the email is not spam.\n",
    "\n",
    "4. **Penalizing Bad Predictions**: If the model predicts a probability far from the true label (e.g., predicting 0.2 for an email that is actually spam), the loss is higher. This penalizes the model for being wrong.\n",
    "\n",
    "5. **Summing It Up**: The cross-entropy loss adds up all these differences (errors) for every email (or data point) in the dataset. The goal is to minimize this loss, meaning you want the model to make predictions that are as close to the true labels as possible.\n"
   ],
   "id": "b1dda1fde5e031dc"
  },
  {
   "metadata": {},
   "cell_type": "markdown",
   "source": [
    "<h3 id=\"real-world-analogy-cross-entropy-loss-in-a-binary-classification-problem\"\n",
    "style=\"text-align: center; font-size: 24px;\">\n",
    "Real-World Analogy: Cross-Entropy Loss in a Binary Classification Problem</h3>\n",
    "\n",
    "Let's consider a binary classification problem where we want to classify whether \n",
    "an email is spam or not. We have a model that predicts the probability that an \n",
    "email is spam. The true label \\( $P$ \\) for each email is either 1 (spam) or 0 (not spam), \n",
    "and the predicted probability \\( $Q$ \\) is the model's output.\n",
    "\n",
    "Suppose we have the following true labels and predicted probabilities:\n",
    "\n",
    "| Email ID | True Label ( $P$ ) | Predicted Probability ( $Q$ )  |\n",
    "|----------|------------------|--------------------------------|\n",
    "| 1        | 1                | 0.9                            |\n",
    "| 2        | 0                | 0.1                            |\n",
    "| 3        | 1                | 0.8                            |\n",
    "| 4        | 0                | 0.3                            |\n",
    "\n",
    "$$\n",
    "\\begin{align*}\n",
    "\\text{The cross-entropy loss for each email is calculated as:} \\\\\n",
    "L &= H(P, Q) = -\\sum_{i=1}^{N} \\left( P_i \\log Q_i + (1 - P_i) \\log (1 - Q_i) \\right)\n",
    "\\end{align*}\n",
    "$$\n",
    "\n",
    "$$\n",
    "\\begin{align*}\n",
    "\\text{For each email, the loss is calculated as:} \\\\\n",
    "L_1 &= -\\left( 1 \\times \\log 0.9 ) + (1 - 1) \\times \\log (1 - 0.9) \\right) = 0.1054 \\\\\n",
    "L_2 &= -\\left( 0 \\times \\log 0.1 ) + (1 - 0) \\times \\log (1 - 0.1) \\right) = 0.1054 \\\\\n",
    "L_3 &= -\\left( 1 \\times \\log 0.8 ) + (1 - 1) \\times \\log (1 - 0.8) \\right) = 0.2231 \\\\\n",
    "L_4 &= -\\left( 0 \\times \\log 0.3 ) + (1 - 0) \\times \\log (1 - 0.3) \\right) = 0.3567 \\\\\n",
    "\\\\\n",
    "\\text{Calculate the average loss:} \\\\\n",
    "L &= \\frac{1}{4} \\times (0.1054 + 0.1054 + 0.2231 + 0.3567) \\\\\n",
    "L &= 0.19765\n",
    "\\end{align*}\n",
    "$$\n",
    "\n",
    "The average cross-entropy loss for these emails is 0.19765. This means that \\\n",
    "the model's predictions are not very accurate. The goal is to minimize this \\\n",
    "loss by adjusting the model's parameters during training.\n",
    "\n",
    "#### Graphing the Cross-Entropy Loss Function\n",
    "\n",
    "![Cross-Entropy Loss Function](../assets/images/cross-entropy-loss-charts.png)\n",
    "\n",
    "#### Key Points:\n",
    "- The cross-entropy loss measures the difference between the true labels and predicted probabilities.\n",
    "- Lower cross-entropy loss indicates better model predictions.\n",
    "- The goal is to minimize the cross-entropy loss during model training.\n",
    "- The cross-entropy loss is commonly used in classification problems.\n",
    "- The loss function penalizes the model for incorrect predictions.\n",
    "- The loss is calculated as the average of the losses for each sample in the dataset.\n",
    "- The loss is typically minimized using optimization algorithms like gradient descent.\n",
    "- The cross-entropy loss is a fundamental concept in deep learning and machine learning.\n",
    "- The loss function plays a crucial role in training neural networks and evaluating model performance.\n",
    "- The loss function guides the learning process by providing feedback on the model's predictions.\n",
    "- The cross-entropy loss is widely used in various applications, including image classification, natural language processing, and more.\n",
    "- Understanding the cross-entropy loss is essential for building and training machine learning models.\n",
    "- The loss function helps quantify the model's performance and provides insights into its predictive accuracy.\n",
    "- The cross-entropy loss is a key component of the training process in supervised learning tasks.\n"
   ],
   "id": "73e86583e1350a0f"
  },
  {
   "metadata": {
    "ExecuteTime": {
     "end_time": "2024-08-19T08:42:02.465494Z",
     "start_time": "2024-08-19T08:42:02.458648Z"
    }
   },
   "cell_type": "code",
   "source": [
    "import numpy as np\n",
    "\n",
    "# Example usage\n",
    "true_labels = np.array([1, 0, 1, 0])\n",
    "\n",
    "# This is the output of a model after applying the sigmoid function\n",
    "predicted_probs = np.array([0.9, 0.1, 0.8, 0.3])  \n",
    "L = []\n",
    "# Manual application of the cross-entropy loss function\n",
    "for P, Q in zip(true_labels, predicted_probs):\n",
    "    loss = - (P * np.log(Q) + (1 - P) * np.log(1 - Q))\n",
    "    L.append(loss)\n",
    "    print(f\"True Label: {P}, Predicted Probability: {Q}, Cross-Entropy Loss: {loss:.4f}\")\n",
    "print(f\"Average Cross-Entropy Loss: {sum(L)/len(L):.4f}\")"
   ],
   "id": "2f876ddadb9753ed",
   "outputs": [
    {
     "name": "stdout",
     "output_type": "stream",
     "text": [
      "True Label: 1, Predicted Probability: 0.9, Cross-Entropy Loss: 0.1054\n",
      "True Label: 0, Predicted Probability: 0.1, Cross-Entropy Loss: 0.1054\n",
      "True Label: 1, Predicted Probability: 0.8, Cross-Entropy Loss: 0.2231\n",
      "True Label: 0, Predicted Probability: 0.3, Cross-Entropy Loss: 0.3567\n",
      "Average Cross-Entropy Loss: 0.1976\n"
     ]
    }
   ],
   "execution_count": 11
  },
  {
   "metadata": {
    "ExecuteTime": {
     "end_time": "2024-08-19T08:42:02.505598Z",
     "start_time": "2024-08-19T08:42:02.497760Z"
    }
   },
   "cell_type": "code",
   "source": [
    "import numpy as np\n",
    "from functions.losses import sort_cross_entropy_loss\n",
    "\n",
    "# Example usage\n",
    "predicted_probs = np.array([0.9, 0.1, 0.8, 0.3])\n",
    "cross_entropy_losses = np.array([0.1054, 0.1054, 0.2231, 0.3567])\n",
    "\n",
    "sorted_probs, sorted_losses = sort_cross_entropy_loss(predicted_probs, cross_entropy_losses)\n",
    "print(\"Sorted Predicted Probabilities:\", sorted_probs)\n",
    "print(\"Sorted Cross-Entropy Losses:\", sorted_losses)"
   ],
   "id": "b05f2f7f17778ea8",
   "outputs": [
    {
     "name": "stdout",
     "output_type": "stream",
     "text": [
      "Sorted Predicted Probabilities: [0.1 0.3 0.8 0.9]\n",
      "Sorted Cross-Entropy Losses: [0.1054 0.3567 0.2231 0.1054]\n"
     ]
    }
   ],
   "execution_count": 12
  },
  {
   "metadata": {
    "ExecuteTime": {
     "end_time": "2024-08-19T08:42:02.593653Z",
     "start_time": "2024-08-19T08:42:02.527939Z"
    }
   },
   "cell_type": "code",
   "source": [
    "from plotly.subplots import make_subplots\n",
    "import plotly.graph_objects as go\n",
    "from functions.losses import cross_entropy_loss, sort_cross_entropy_loss\n",
    "import numpy as np\n",
    "\n",
    "# Example usage\n",
    "true_labels = np.array([1, 0, 1, 0])\n",
    "\n",
    "# This is the output of a model after applying the sigmoid function\n",
    "predicted_probs = np.array([0.9, 0.1, 0.8, 0.3])  \n",
    "\n",
    "# Calculate the cross-entropy loss using the function\n",
    "loss, losses = cross_entropy_loss(true_labels, predicted_probs)\n",
    "sorted_probs, sorted_losses = sort_cross_entropy_loss(predicted_probs, losses)\n",
    "print(f\"\"\"Cross-entropy loss: {loss:.4f}. \\n\n",
    "The sorted probabilities are: {sorted_probs}.\\n\n",
    "The sorted losses are: {sorted_losses}.\\n\n",
    "\"\"\")\n",
    "\n",
    "# Plot the true labels and predicted probabilities\n",
    "fig = make_subplots(\n",
    "    rows=1, cols=3, \n",
    "    subplot_titles=(\"True Labels\", \"Predicted Probabilities\", \"Cross-Entropy Loss\"))\n",
    "\n",
    "# Add bar chart for true labels\n",
    "fig.add_trace(\n",
    "    go.Bar(\n",
    "        x=[\"Email 1\", \"Email 2\", \"Email 3\", \"Email 4\"], \n",
    "        y=true_labels, \n",
    "        name=\"True Labels\"),\n",
    "    row=1, col=1\n",
    ")\n",
    "\n",
    "# Add bar chart for predicted probabilities\n",
    "fig.add_trace(\n",
    "    go.Bar(\n",
    "        x=[\"Email 1\", \"Email 2\", \"Email 3\", \"Email 4\"], \n",
    "        y=predicted_probs, \n",
    "        name=\"Predicted Probabilities\"),\n",
    "    row=1, col=2\n",
    ")\n",
    "\n",
    "# predicted_probs.sort()\n",
    "fig.add_trace(\n",
    "    go.Scatter(\n",
    "        x=sorted_probs, \n",
    "        y=sorted_losses, \n",
    "        mode=\"lines+markers\", \n",
    "        name=\"Cross-Entropy Loss\", \n",
    "        marker=dict(color=\"red\", line=dict(color=\"black\", width=2))\n",
    "\n",
    "    ),\n",
    "    row=1, \n",
    "    col=3\n",
    ")\n",
    "\n",
    "# Update x-axis and y-axis labels\n",
    "fig.update_xaxes(title_text=\"Email ID\", row=1, col=1)\n",
    " \n",
    " # Update x-axis and y-axis labels\n",
    "fig.update_xaxes(title_text=\"Email ID\", row=1, col=2)\n",
    "\n",
    "# Update y-axis labels\n",
    "fig.update_yaxes(title_text=\"Label\", row=1, col=1)\n",
    "\n",
    "# Update y-axis labels\n",
    "fig.update_yaxes(title_text=\"Probability\", row=1, col=2)\n",
    "\n",
    "# Update x-axis and y-axis labels\n",
    "fig.update_xaxes(title_text=\"Predicted Probability\", \n",
    "                 row=1, col=3, tickvals=sorted_probs, \n",
    "                 ticktext=[f\"{prob:.1f}\" for prob in sorted_probs])\n",
    "\n",
    "# Update y-axis labels\n",
    "fig.update_yaxes(title_text=\"Cross-Entropy Losses\", row=1, col=3)\n",
    "\n",
    "# Update layout\n",
    "fig.update_layout(\n",
    "    title=\"Cross-Entropy Loss for Each Email, Comparing True Labels and Predicted Probabilities\",\n",
    "    \n",
    "                  showlegend=True)\n",
    "\n",
    "\n",
    "# Show the plot\n",
    "fig.show()"
   ],
   "id": "35e4bf3d6aa36396",
   "outputs": [
    {
     "name": "stdout",
     "output_type": "stream",
     "text": [
      "Cross-entropy loss: 0.1976. \n",
      "\n",
      "The sorted probabilities are: [0.1 0.3 0.8 0.9].\n",
      "\n",
      "The sorted losses are: [0.10536052 0.35667494 0.22314355 0.10536052].\n",
      "\n",
      "\n"
     ]
    },
    {
     "data": {
      "application/vnd.plotly.v1+json": {
       "data": [
        {
         "name": "True Labels",
         "x": [
          "Email 1",
          "Email 2",
          "Email 3",
          "Email 4"
         ],
         "y": [
          1,
          0,
          1,
          0
         ],
         "type": "bar",
         "xaxis": "x",
         "yaxis": "y"
        },
        {
         "name": "Predicted Probabilities",
         "x": [
          "Email 1",
          "Email 2",
          "Email 3",
          "Email 4"
         ],
         "y": [
          0.9,
          0.1,
          0.8,
          0.3
         ],
         "type": "bar",
         "xaxis": "x2",
         "yaxis": "y2"
        },
        {
         "marker": {
          "color": "red",
          "line": {
           "color": "black",
           "width": 2
          }
         },
         "mode": "lines+markers",
         "name": "Cross-Entropy Loss",
         "x": [
          0.1,
          0.3,
          0.8,
          0.9
         ],
         "y": [
          0.10536051565782628,
          0.35667494393873245,
          0.2231435513142097,
          0.10536051565782628
         ],
         "type": "scatter",
         "xaxis": "x3",
         "yaxis": "y3"
        }
       ],
       "layout": {
        "template": {
         "data": {
          "histogram2dcontour": [
           {
            "type": "histogram2dcontour",
            "colorbar": {
             "outlinewidth": 0,
             "ticks": ""
            },
            "colorscale": [
             [
              0.0,
              "#0d0887"
             ],
             [
              0.1111111111111111,
              "#46039f"
             ],
             [
              0.2222222222222222,
              "#7201a8"
             ],
             [
              0.3333333333333333,
              "#9c179e"
             ],
             [
              0.4444444444444444,
              "#bd3786"
             ],
             [
              0.5555555555555556,
              "#d8576b"
             ],
             [
              0.6666666666666666,
              "#ed7953"
             ],
             [
              0.7777777777777778,
              "#fb9f3a"
             ],
             [
              0.8888888888888888,
              "#fdca26"
             ],
             [
              1.0,
              "#f0f921"
             ]
            ]
           }
          ],
          "choropleth": [
           {
            "type": "choropleth",
            "colorbar": {
             "outlinewidth": 0,
             "ticks": ""
            }
           }
          ],
          "histogram2d": [
           {
            "type": "histogram2d",
            "colorbar": {
             "outlinewidth": 0,
             "ticks": ""
            },
            "colorscale": [
             [
              0.0,
              "#0d0887"
             ],
             [
              0.1111111111111111,
              "#46039f"
             ],
             [
              0.2222222222222222,
              "#7201a8"
             ],
             [
              0.3333333333333333,
              "#9c179e"
             ],
             [
              0.4444444444444444,
              "#bd3786"
             ],
             [
              0.5555555555555556,
              "#d8576b"
             ],
             [
              0.6666666666666666,
              "#ed7953"
             ],
             [
              0.7777777777777778,
              "#fb9f3a"
             ],
             [
              0.8888888888888888,
              "#fdca26"
             ],
             [
              1.0,
              "#f0f921"
             ]
            ]
           }
          ],
          "heatmap": [
           {
            "type": "heatmap",
            "colorbar": {
             "outlinewidth": 0,
             "ticks": ""
            },
            "colorscale": [
             [
              0.0,
              "#0d0887"
             ],
             [
              0.1111111111111111,
              "#46039f"
             ],
             [
              0.2222222222222222,
              "#7201a8"
             ],
             [
              0.3333333333333333,
              "#9c179e"
             ],
             [
              0.4444444444444444,
              "#bd3786"
             ],
             [
              0.5555555555555556,
              "#d8576b"
             ],
             [
              0.6666666666666666,
              "#ed7953"
             ],
             [
              0.7777777777777778,
              "#fb9f3a"
             ],
             [
              0.8888888888888888,
              "#fdca26"
             ],
             [
              1.0,
              "#f0f921"
             ]
            ]
           }
          ],
          "heatmapgl": [
           {
            "type": "heatmapgl",
            "colorbar": {
             "outlinewidth": 0,
             "ticks": ""
            },
            "colorscale": [
             [
              0.0,
              "#0d0887"
             ],
             [
              0.1111111111111111,
              "#46039f"
             ],
             [
              0.2222222222222222,
              "#7201a8"
             ],
             [
              0.3333333333333333,
              "#9c179e"
             ],
             [
              0.4444444444444444,
              "#bd3786"
             ],
             [
              0.5555555555555556,
              "#d8576b"
             ],
             [
              0.6666666666666666,
              "#ed7953"
             ],
             [
              0.7777777777777778,
              "#fb9f3a"
             ],
             [
              0.8888888888888888,
              "#fdca26"
             ],
             [
              1.0,
              "#f0f921"
             ]
            ]
           }
          ],
          "contourcarpet": [
           {
            "type": "contourcarpet",
            "colorbar": {
             "outlinewidth": 0,
             "ticks": ""
            }
           }
          ],
          "contour": [
           {
            "type": "contour",
            "colorbar": {
             "outlinewidth": 0,
             "ticks": ""
            },
            "colorscale": [
             [
              0.0,
              "#0d0887"
             ],
             [
              0.1111111111111111,
              "#46039f"
             ],
             [
              0.2222222222222222,
              "#7201a8"
             ],
             [
              0.3333333333333333,
              "#9c179e"
             ],
             [
              0.4444444444444444,
              "#bd3786"
             ],
             [
              0.5555555555555556,
              "#d8576b"
             ],
             [
              0.6666666666666666,
              "#ed7953"
             ],
             [
              0.7777777777777778,
              "#fb9f3a"
             ],
             [
              0.8888888888888888,
              "#fdca26"
             ],
             [
              1.0,
              "#f0f921"
             ]
            ]
           }
          ],
          "surface": [
           {
            "type": "surface",
            "colorbar": {
             "outlinewidth": 0,
             "ticks": ""
            },
            "colorscale": [
             [
              0.0,
              "#0d0887"
             ],
             [
              0.1111111111111111,
              "#46039f"
             ],
             [
              0.2222222222222222,
              "#7201a8"
             ],
             [
              0.3333333333333333,
              "#9c179e"
             ],
             [
              0.4444444444444444,
              "#bd3786"
             ],
             [
              0.5555555555555556,
              "#d8576b"
             ],
             [
              0.6666666666666666,
              "#ed7953"
             ],
             [
              0.7777777777777778,
              "#fb9f3a"
             ],
             [
              0.8888888888888888,
              "#fdca26"
             ],
             [
              1.0,
              "#f0f921"
             ]
            ]
           }
          ],
          "mesh3d": [
           {
            "type": "mesh3d",
            "colorbar": {
             "outlinewidth": 0,
             "ticks": ""
            }
           }
          ],
          "scatter": [
           {
            "marker": {
             "line": {
              "color": "#283442"
             }
            },
            "type": "scatter"
           }
          ],
          "parcoords": [
           {
            "type": "parcoords",
            "line": {
             "colorbar": {
              "outlinewidth": 0,
              "ticks": ""
             }
            }
           }
          ],
          "scatterpolargl": [
           {
            "type": "scatterpolargl",
            "marker": {
             "colorbar": {
              "outlinewidth": 0,
              "ticks": ""
             }
            }
           }
          ],
          "bar": [
           {
            "error_x": {
             "color": "#f2f5fa"
            },
            "error_y": {
             "color": "#f2f5fa"
            },
            "marker": {
             "line": {
              "color": "rgb(17,17,17)",
              "width": 0.5
             },
             "pattern": {
              "fillmode": "overlay",
              "size": 10,
              "solidity": 0.2
             }
            },
            "type": "bar"
           }
          ],
          "scattergeo": [
           {
            "type": "scattergeo",
            "marker": {
             "colorbar": {
              "outlinewidth": 0,
              "ticks": ""
             }
            }
           }
          ],
          "scatterpolar": [
           {
            "type": "scatterpolar",
            "marker": {
             "colorbar": {
              "outlinewidth": 0,
              "ticks": ""
             }
            }
           }
          ],
          "histogram": [
           {
            "marker": {
             "pattern": {
              "fillmode": "overlay",
              "size": 10,
              "solidity": 0.2
             }
            },
            "type": "histogram"
           }
          ],
          "scattergl": [
           {
            "marker": {
             "line": {
              "color": "#283442"
             }
            },
            "type": "scattergl"
           }
          ],
          "scatter3d": [
           {
            "type": "scatter3d",
            "line": {
             "colorbar": {
              "outlinewidth": 0,
              "ticks": ""
             }
            },
            "marker": {
             "colorbar": {
              "outlinewidth": 0,
              "ticks": ""
             }
            }
           }
          ],
          "scattermapbox": [
           {
            "type": "scattermapbox",
            "marker": {
             "colorbar": {
              "outlinewidth": 0,
              "ticks": ""
             }
            }
           }
          ],
          "scatterternary": [
           {
            "type": "scatterternary",
            "marker": {
             "colorbar": {
              "outlinewidth": 0,
              "ticks": ""
             }
            }
           }
          ],
          "scattercarpet": [
           {
            "type": "scattercarpet",
            "marker": {
             "colorbar": {
              "outlinewidth": 0,
              "ticks": ""
             }
            }
           }
          ],
          "carpet": [
           {
            "aaxis": {
             "endlinecolor": "#A2B1C6",
             "gridcolor": "#506784",
             "linecolor": "#506784",
             "minorgridcolor": "#506784",
             "startlinecolor": "#A2B1C6"
            },
            "baxis": {
             "endlinecolor": "#A2B1C6",
             "gridcolor": "#506784",
             "linecolor": "#506784",
             "minorgridcolor": "#506784",
             "startlinecolor": "#A2B1C6"
            },
            "type": "carpet"
           }
          ],
          "table": [
           {
            "cells": {
             "fill": {
              "color": "#506784"
             },
             "line": {
              "color": "rgb(17,17,17)"
             }
            },
            "header": {
             "fill": {
              "color": "#2a3f5f"
             },
             "line": {
              "color": "rgb(17,17,17)"
             }
            },
            "type": "table"
           }
          ],
          "barpolar": [
           {
            "marker": {
             "line": {
              "color": "rgb(17,17,17)",
              "width": 0.5
             },
             "pattern": {
              "fillmode": "overlay",
              "size": 10,
              "solidity": 0.2
             }
            },
            "type": "barpolar"
           }
          ],
          "pie": [
           {
            "automargin": true,
            "type": "pie"
           }
          ]
         },
         "layout": {
          "autotypenumbers": "strict",
          "colorway": [
           "#636efa",
           "#EF553B",
           "#00cc96",
           "#ab63fa",
           "#FFA15A",
           "#19d3f3",
           "#FF6692",
           "#B6E880",
           "#FF97FF",
           "#FECB52"
          ],
          "font": {
           "color": "#f2f5fa"
          },
          "hovermode": "closest",
          "hoverlabel": {
           "align": "left"
          },
          "paper_bgcolor": "rgb(17,17,17)",
          "plot_bgcolor": "rgb(17,17,17)",
          "polar": {
           "bgcolor": "rgb(17,17,17)",
           "angularaxis": {
            "gridcolor": "#506784",
            "linecolor": "#506784",
            "ticks": ""
           },
           "radialaxis": {
            "gridcolor": "#506784",
            "linecolor": "#506784",
            "ticks": ""
           }
          },
          "ternary": {
           "bgcolor": "rgb(17,17,17)",
           "aaxis": {
            "gridcolor": "#506784",
            "linecolor": "#506784",
            "ticks": ""
           },
           "baxis": {
            "gridcolor": "#506784",
            "linecolor": "#506784",
            "ticks": ""
           },
           "caxis": {
            "gridcolor": "#506784",
            "linecolor": "#506784",
            "ticks": ""
           }
          },
          "coloraxis": {
           "colorbar": {
            "outlinewidth": 0,
            "ticks": ""
           }
          },
          "colorscale": {
           "sequential": [
            [
             0.0,
             "#0d0887"
            ],
            [
             0.1111111111111111,
             "#46039f"
            ],
            [
             0.2222222222222222,
             "#7201a8"
            ],
            [
             0.3333333333333333,
             "#9c179e"
            ],
            [
             0.4444444444444444,
             "#bd3786"
            ],
            [
             0.5555555555555556,
             "#d8576b"
            ],
            [
             0.6666666666666666,
             "#ed7953"
            ],
            [
             0.7777777777777778,
             "#fb9f3a"
            ],
            [
             0.8888888888888888,
             "#fdca26"
            ],
            [
             1.0,
             "#f0f921"
            ]
           ],
           "sequentialminus": [
            [
             0.0,
             "#0d0887"
            ],
            [
             0.1111111111111111,
             "#46039f"
            ],
            [
             0.2222222222222222,
             "#7201a8"
            ],
            [
             0.3333333333333333,
             "#9c179e"
            ],
            [
             0.4444444444444444,
             "#bd3786"
            ],
            [
             0.5555555555555556,
             "#d8576b"
            ],
            [
             0.6666666666666666,
             "#ed7953"
            ],
            [
             0.7777777777777778,
             "#fb9f3a"
            ],
            [
             0.8888888888888888,
             "#fdca26"
            ],
            [
             1.0,
             "#f0f921"
            ]
           ],
           "diverging": [
            [
             0,
             "#8e0152"
            ],
            [
             0.1,
             "#c51b7d"
            ],
            [
             0.2,
             "#de77ae"
            ],
            [
             0.3,
             "#f1b6da"
            ],
            [
             0.4,
             "#fde0ef"
            ],
            [
             0.5,
             "#f7f7f7"
            ],
            [
             0.6,
             "#e6f5d0"
            ],
            [
             0.7,
             "#b8e186"
            ],
            [
             0.8,
             "#7fbc41"
            ],
            [
             0.9,
             "#4d9221"
            ],
            [
             1,
             "#276419"
            ]
           ]
          },
          "xaxis": {
           "gridcolor": "#283442",
           "linecolor": "#506784",
           "ticks": "",
           "title": {
            "standoff": 15
           },
           "zerolinecolor": "#283442",
           "automargin": true,
           "zerolinewidth": 2
          },
          "yaxis": {
           "gridcolor": "#283442",
           "linecolor": "#506784",
           "ticks": "",
           "title": {
            "standoff": 15
           },
           "zerolinecolor": "#283442",
           "automargin": true,
           "zerolinewidth": 2
          },
          "scene": {
           "xaxis": {
            "backgroundcolor": "rgb(17,17,17)",
            "gridcolor": "#506784",
            "linecolor": "#506784",
            "showbackground": true,
            "ticks": "",
            "zerolinecolor": "#C8D4E3",
            "gridwidth": 2
           },
           "yaxis": {
            "backgroundcolor": "rgb(17,17,17)",
            "gridcolor": "#506784",
            "linecolor": "#506784",
            "showbackground": true,
            "ticks": "",
            "zerolinecolor": "#C8D4E3",
            "gridwidth": 2
           },
           "zaxis": {
            "backgroundcolor": "rgb(17,17,17)",
            "gridcolor": "#506784",
            "linecolor": "#506784",
            "showbackground": true,
            "ticks": "",
            "zerolinecolor": "#C8D4E3",
            "gridwidth": 2
           }
          },
          "shapedefaults": {
           "line": {
            "color": "#f2f5fa"
           }
          },
          "annotationdefaults": {
           "arrowcolor": "#f2f5fa",
           "arrowhead": 0,
           "arrowwidth": 1
          },
          "geo": {
           "bgcolor": "rgb(17,17,17)",
           "landcolor": "rgb(17,17,17)",
           "subunitcolor": "#506784",
           "showland": true,
           "showlakes": true,
           "lakecolor": "rgb(17,17,17)"
          },
          "title": {
           "x": 0.05
          },
          "updatemenudefaults": {
           "bgcolor": "#506784",
           "borderwidth": 0
          },
          "sliderdefaults": {
           "bgcolor": "#C8D4E3",
           "borderwidth": 1,
           "bordercolor": "rgb(17,17,17)",
           "tickwidth": 0
          },
          "mapbox": {
           "style": "dark"
          }
         }
        },
        "xaxis": {
         "anchor": "y",
         "domain": [
          0.0,
          0.2888888888888889
         ],
         "title": {
          "text": "Email ID"
         }
        },
        "yaxis": {
         "anchor": "x",
         "domain": [
          0.0,
          1.0
         ],
         "title": {
          "text": "Label"
         }
        },
        "xaxis2": {
         "anchor": "y2",
         "domain": [
          0.35555555555555557,
          0.6444444444444445
         ],
         "title": {
          "text": "Email ID"
         }
        },
        "yaxis2": {
         "anchor": "x2",
         "domain": [
          0.0,
          1.0
         ],
         "title": {
          "text": "Probability"
         }
        },
        "xaxis3": {
         "anchor": "y3",
         "domain": [
          0.7111111111111111,
          1.0
         ],
         "title": {
          "text": "Predicted Probability"
         },
         "tickvals": [
          0.1,
          0.3,
          0.8,
          0.9
         ],
         "ticktext": [
          "0.1",
          "0.3",
          "0.8",
          "0.9"
         ]
        },
        "yaxis3": {
         "anchor": "x3",
         "domain": [
          0.0,
          1.0
         ],
         "title": {
          "text": "Cross-Entropy Losses"
         }
        },
        "annotations": [
         {
          "font": {
           "size": 16
          },
          "showarrow": false,
          "text": "True Labels",
          "x": 0.14444444444444446,
          "xanchor": "center",
          "xref": "paper",
          "y": 1.0,
          "yanchor": "bottom",
          "yref": "paper"
         },
         {
          "font": {
           "size": 16
          },
          "showarrow": false,
          "text": "Predicted Probabilities",
          "x": 0.5,
          "xanchor": "center",
          "xref": "paper",
          "y": 1.0,
          "yanchor": "bottom",
          "yref": "paper"
         },
         {
          "font": {
           "size": 16
          },
          "showarrow": false,
          "text": "Cross-Entropy Loss",
          "x": 0.8555555555555556,
          "xanchor": "center",
          "xref": "paper",
          "y": 1.0,
          "yanchor": "bottom",
          "yref": "paper"
         }
        ],
        "title": {
         "text": "Cross-Entropy Loss for Each Email, Comparing True Labels and Predicted Probabilities"
        },
        "showlegend": true
       },
       "config": {
        "plotlyServerURL": "https://plot.ly"
       }
      },
      "text/html": [
       "<div>                            <div id=\"b4e3a26c-73e4-4ecf-8738-1585c41c525d\" class=\"plotly-graph-div\" style=\"height:525px; width:100%;\"></div>            <script type=\"text/javascript\">                require([\"plotly\"], function(Plotly) {                    window.PLOTLYENV=window.PLOTLYENV || {};                                    if (document.getElementById(\"b4e3a26c-73e4-4ecf-8738-1585c41c525d\")) {                    Plotly.newPlot(                        \"b4e3a26c-73e4-4ecf-8738-1585c41c525d\",                        [{\"name\":\"True Labels\",\"x\":[\"Email 1\",\"Email 2\",\"Email 3\",\"Email 4\"],\"y\":[1,0,1,0],\"type\":\"bar\",\"xaxis\":\"x\",\"yaxis\":\"y\"},{\"name\":\"Predicted Probabilities\",\"x\":[\"Email 1\",\"Email 2\",\"Email 3\",\"Email 4\"],\"y\":[0.9,0.1,0.8,0.3],\"type\":\"bar\",\"xaxis\":\"x2\",\"yaxis\":\"y2\"},{\"marker\":{\"color\":\"red\",\"line\":{\"color\":\"black\",\"width\":2}},\"mode\":\"lines+markers\",\"name\":\"Cross-Entropy Loss\",\"x\":[0.1,0.3,0.8,0.9],\"y\":[0.10536051565782628,0.35667494393873245,0.2231435513142097,0.10536051565782628],\"type\":\"scatter\",\"xaxis\":\"x3\",\"yaxis\":\"y3\"}],                        {\"template\":{\"data\":{\"histogram2dcontour\":[{\"type\":\"histogram2dcontour\",\"colorbar\":{\"outlinewidth\":0,\"ticks\":\"\"},\"colorscale\":[[0.0,\"#0d0887\"],[0.1111111111111111,\"#46039f\"],[0.2222222222222222,\"#7201a8\"],[0.3333333333333333,\"#9c179e\"],[0.4444444444444444,\"#bd3786\"],[0.5555555555555556,\"#d8576b\"],[0.6666666666666666,\"#ed7953\"],[0.7777777777777778,\"#fb9f3a\"],[0.8888888888888888,\"#fdca26\"],[1.0,\"#f0f921\"]]}],\"choropleth\":[{\"type\":\"choropleth\",\"colorbar\":{\"outlinewidth\":0,\"ticks\":\"\"}}],\"histogram2d\":[{\"type\":\"histogram2d\",\"colorbar\":{\"outlinewidth\":0,\"ticks\":\"\"},\"colorscale\":[[0.0,\"#0d0887\"],[0.1111111111111111,\"#46039f\"],[0.2222222222222222,\"#7201a8\"],[0.3333333333333333,\"#9c179e\"],[0.4444444444444444,\"#bd3786\"],[0.5555555555555556,\"#d8576b\"],[0.6666666666666666,\"#ed7953\"],[0.7777777777777778,\"#fb9f3a\"],[0.8888888888888888,\"#fdca26\"],[1.0,\"#f0f921\"]]}],\"heatmap\":[{\"type\":\"heatmap\",\"colorbar\":{\"outlinewidth\":0,\"ticks\":\"\"},\"colorscale\":[[0.0,\"#0d0887\"],[0.1111111111111111,\"#46039f\"],[0.2222222222222222,\"#7201a8\"],[0.3333333333333333,\"#9c179e\"],[0.4444444444444444,\"#bd3786\"],[0.5555555555555556,\"#d8576b\"],[0.6666666666666666,\"#ed7953\"],[0.7777777777777778,\"#fb9f3a\"],[0.8888888888888888,\"#fdca26\"],[1.0,\"#f0f921\"]]}],\"heatmapgl\":[{\"type\":\"heatmapgl\",\"colorbar\":{\"outlinewidth\":0,\"ticks\":\"\"},\"colorscale\":[[0.0,\"#0d0887\"],[0.1111111111111111,\"#46039f\"],[0.2222222222222222,\"#7201a8\"],[0.3333333333333333,\"#9c179e\"],[0.4444444444444444,\"#bd3786\"],[0.5555555555555556,\"#d8576b\"],[0.6666666666666666,\"#ed7953\"],[0.7777777777777778,\"#fb9f3a\"],[0.8888888888888888,\"#fdca26\"],[1.0,\"#f0f921\"]]}],\"contourcarpet\":[{\"type\":\"contourcarpet\",\"colorbar\":{\"outlinewidth\":0,\"ticks\":\"\"}}],\"contour\":[{\"type\":\"contour\",\"colorbar\":{\"outlinewidth\":0,\"ticks\":\"\"},\"colorscale\":[[0.0,\"#0d0887\"],[0.1111111111111111,\"#46039f\"],[0.2222222222222222,\"#7201a8\"],[0.3333333333333333,\"#9c179e\"],[0.4444444444444444,\"#bd3786\"],[0.5555555555555556,\"#d8576b\"],[0.6666666666666666,\"#ed7953\"],[0.7777777777777778,\"#fb9f3a\"],[0.8888888888888888,\"#fdca26\"],[1.0,\"#f0f921\"]]}],\"surface\":[{\"type\":\"surface\",\"colorbar\":{\"outlinewidth\":0,\"ticks\":\"\"},\"colorscale\":[[0.0,\"#0d0887\"],[0.1111111111111111,\"#46039f\"],[0.2222222222222222,\"#7201a8\"],[0.3333333333333333,\"#9c179e\"],[0.4444444444444444,\"#bd3786\"],[0.5555555555555556,\"#d8576b\"],[0.6666666666666666,\"#ed7953\"],[0.7777777777777778,\"#fb9f3a\"],[0.8888888888888888,\"#fdca26\"],[1.0,\"#f0f921\"]]}],\"mesh3d\":[{\"type\":\"mesh3d\",\"colorbar\":{\"outlinewidth\":0,\"ticks\":\"\"}}],\"scatter\":[{\"marker\":{\"line\":{\"color\":\"#283442\"}},\"type\":\"scatter\"}],\"parcoords\":[{\"type\":\"parcoords\",\"line\":{\"colorbar\":{\"outlinewidth\":0,\"ticks\":\"\"}}}],\"scatterpolargl\":[{\"type\":\"scatterpolargl\",\"marker\":{\"colorbar\":{\"outlinewidth\":0,\"ticks\":\"\"}}}],\"bar\":[{\"error_x\":{\"color\":\"#f2f5fa\"},\"error_y\":{\"color\":\"#f2f5fa\"},\"marker\":{\"line\":{\"color\":\"rgb(17,17,17)\",\"width\":0.5},\"pattern\":{\"fillmode\":\"overlay\",\"size\":10,\"solidity\":0.2}},\"type\":\"bar\"}],\"scattergeo\":[{\"type\":\"scattergeo\",\"marker\":{\"colorbar\":{\"outlinewidth\":0,\"ticks\":\"\"}}}],\"scatterpolar\":[{\"type\":\"scatterpolar\",\"marker\":{\"colorbar\":{\"outlinewidth\":0,\"ticks\":\"\"}}}],\"histogram\":[{\"marker\":{\"pattern\":{\"fillmode\":\"overlay\",\"size\":10,\"solidity\":0.2}},\"type\":\"histogram\"}],\"scattergl\":[{\"marker\":{\"line\":{\"color\":\"#283442\"}},\"type\":\"scattergl\"}],\"scatter3d\":[{\"type\":\"scatter3d\",\"line\":{\"colorbar\":{\"outlinewidth\":0,\"ticks\":\"\"}},\"marker\":{\"colorbar\":{\"outlinewidth\":0,\"ticks\":\"\"}}}],\"scattermapbox\":[{\"type\":\"scattermapbox\",\"marker\":{\"colorbar\":{\"outlinewidth\":0,\"ticks\":\"\"}}}],\"scatterternary\":[{\"type\":\"scatterternary\",\"marker\":{\"colorbar\":{\"outlinewidth\":0,\"ticks\":\"\"}}}],\"scattercarpet\":[{\"type\":\"scattercarpet\",\"marker\":{\"colorbar\":{\"outlinewidth\":0,\"ticks\":\"\"}}}],\"carpet\":[{\"aaxis\":{\"endlinecolor\":\"#A2B1C6\",\"gridcolor\":\"#506784\",\"linecolor\":\"#506784\",\"minorgridcolor\":\"#506784\",\"startlinecolor\":\"#A2B1C6\"},\"baxis\":{\"endlinecolor\":\"#A2B1C6\",\"gridcolor\":\"#506784\",\"linecolor\":\"#506784\",\"minorgridcolor\":\"#506784\",\"startlinecolor\":\"#A2B1C6\"},\"type\":\"carpet\"}],\"table\":[{\"cells\":{\"fill\":{\"color\":\"#506784\"},\"line\":{\"color\":\"rgb(17,17,17)\"}},\"header\":{\"fill\":{\"color\":\"#2a3f5f\"},\"line\":{\"color\":\"rgb(17,17,17)\"}},\"type\":\"table\"}],\"barpolar\":[{\"marker\":{\"line\":{\"color\":\"rgb(17,17,17)\",\"width\":0.5},\"pattern\":{\"fillmode\":\"overlay\",\"size\":10,\"solidity\":0.2}},\"type\":\"barpolar\"}],\"pie\":[{\"automargin\":true,\"type\":\"pie\"}]},\"layout\":{\"autotypenumbers\":\"strict\",\"colorway\":[\"#636efa\",\"#EF553B\",\"#00cc96\",\"#ab63fa\",\"#FFA15A\",\"#19d3f3\",\"#FF6692\",\"#B6E880\",\"#FF97FF\",\"#FECB52\"],\"font\":{\"color\":\"#f2f5fa\"},\"hovermode\":\"closest\",\"hoverlabel\":{\"align\":\"left\"},\"paper_bgcolor\":\"rgb(17,17,17)\",\"plot_bgcolor\":\"rgb(17,17,17)\",\"polar\":{\"bgcolor\":\"rgb(17,17,17)\",\"angularaxis\":{\"gridcolor\":\"#506784\",\"linecolor\":\"#506784\",\"ticks\":\"\"},\"radialaxis\":{\"gridcolor\":\"#506784\",\"linecolor\":\"#506784\",\"ticks\":\"\"}},\"ternary\":{\"bgcolor\":\"rgb(17,17,17)\",\"aaxis\":{\"gridcolor\":\"#506784\",\"linecolor\":\"#506784\",\"ticks\":\"\"},\"baxis\":{\"gridcolor\":\"#506784\",\"linecolor\":\"#506784\",\"ticks\":\"\"},\"caxis\":{\"gridcolor\":\"#506784\",\"linecolor\":\"#506784\",\"ticks\":\"\"}},\"coloraxis\":{\"colorbar\":{\"outlinewidth\":0,\"ticks\":\"\"}},\"colorscale\":{\"sequential\":[[0.0,\"#0d0887\"],[0.1111111111111111,\"#46039f\"],[0.2222222222222222,\"#7201a8\"],[0.3333333333333333,\"#9c179e\"],[0.4444444444444444,\"#bd3786\"],[0.5555555555555556,\"#d8576b\"],[0.6666666666666666,\"#ed7953\"],[0.7777777777777778,\"#fb9f3a\"],[0.8888888888888888,\"#fdca26\"],[1.0,\"#f0f921\"]],\"sequentialminus\":[[0.0,\"#0d0887\"],[0.1111111111111111,\"#46039f\"],[0.2222222222222222,\"#7201a8\"],[0.3333333333333333,\"#9c179e\"],[0.4444444444444444,\"#bd3786\"],[0.5555555555555556,\"#d8576b\"],[0.6666666666666666,\"#ed7953\"],[0.7777777777777778,\"#fb9f3a\"],[0.8888888888888888,\"#fdca26\"],[1.0,\"#f0f921\"]],\"diverging\":[[0,\"#8e0152\"],[0.1,\"#c51b7d\"],[0.2,\"#de77ae\"],[0.3,\"#f1b6da\"],[0.4,\"#fde0ef\"],[0.5,\"#f7f7f7\"],[0.6,\"#e6f5d0\"],[0.7,\"#b8e186\"],[0.8,\"#7fbc41\"],[0.9,\"#4d9221\"],[1,\"#276419\"]]},\"xaxis\":{\"gridcolor\":\"#283442\",\"linecolor\":\"#506784\",\"ticks\":\"\",\"title\":{\"standoff\":15},\"zerolinecolor\":\"#283442\",\"automargin\":true,\"zerolinewidth\":2},\"yaxis\":{\"gridcolor\":\"#283442\",\"linecolor\":\"#506784\",\"ticks\":\"\",\"title\":{\"standoff\":15},\"zerolinecolor\":\"#283442\",\"automargin\":true,\"zerolinewidth\":2},\"scene\":{\"xaxis\":{\"backgroundcolor\":\"rgb(17,17,17)\",\"gridcolor\":\"#506784\",\"linecolor\":\"#506784\",\"showbackground\":true,\"ticks\":\"\",\"zerolinecolor\":\"#C8D4E3\",\"gridwidth\":2},\"yaxis\":{\"backgroundcolor\":\"rgb(17,17,17)\",\"gridcolor\":\"#506784\",\"linecolor\":\"#506784\",\"showbackground\":true,\"ticks\":\"\",\"zerolinecolor\":\"#C8D4E3\",\"gridwidth\":2},\"zaxis\":{\"backgroundcolor\":\"rgb(17,17,17)\",\"gridcolor\":\"#506784\",\"linecolor\":\"#506784\",\"showbackground\":true,\"ticks\":\"\",\"zerolinecolor\":\"#C8D4E3\",\"gridwidth\":2}},\"shapedefaults\":{\"line\":{\"color\":\"#f2f5fa\"}},\"annotationdefaults\":{\"arrowcolor\":\"#f2f5fa\",\"arrowhead\":0,\"arrowwidth\":1},\"geo\":{\"bgcolor\":\"rgb(17,17,17)\",\"landcolor\":\"rgb(17,17,17)\",\"subunitcolor\":\"#506784\",\"showland\":true,\"showlakes\":true,\"lakecolor\":\"rgb(17,17,17)\"},\"title\":{\"x\":0.05},\"updatemenudefaults\":{\"bgcolor\":\"#506784\",\"borderwidth\":0},\"sliderdefaults\":{\"bgcolor\":\"#C8D4E3\",\"borderwidth\":1,\"bordercolor\":\"rgb(17,17,17)\",\"tickwidth\":0},\"mapbox\":{\"style\":\"dark\"}}},\"xaxis\":{\"anchor\":\"y\",\"domain\":[0.0,0.2888888888888889],\"title\":{\"text\":\"Email ID\"}},\"yaxis\":{\"anchor\":\"x\",\"domain\":[0.0,1.0],\"title\":{\"text\":\"Label\"}},\"xaxis2\":{\"anchor\":\"y2\",\"domain\":[0.35555555555555557,0.6444444444444445],\"title\":{\"text\":\"Email ID\"}},\"yaxis2\":{\"anchor\":\"x2\",\"domain\":[0.0,1.0],\"title\":{\"text\":\"Probability\"}},\"xaxis3\":{\"anchor\":\"y3\",\"domain\":[0.7111111111111111,1.0],\"title\":{\"text\":\"Predicted Probability\"},\"tickvals\":[0.1,0.3,0.8,0.9],\"ticktext\":[\"0.1\",\"0.3\",\"0.8\",\"0.9\"]},\"yaxis3\":{\"anchor\":\"x3\",\"domain\":[0.0,1.0],\"title\":{\"text\":\"Cross-Entropy Losses\"}},\"annotations\":[{\"font\":{\"size\":16},\"showarrow\":false,\"text\":\"True Labels\",\"x\":0.14444444444444446,\"xanchor\":\"center\",\"xref\":\"paper\",\"y\":1.0,\"yanchor\":\"bottom\",\"yref\":\"paper\"},{\"font\":{\"size\":16},\"showarrow\":false,\"text\":\"Predicted Probabilities\",\"x\":0.5,\"xanchor\":\"center\",\"xref\":\"paper\",\"y\":1.0,\"yanchor\":\"bottom\",\"yref\":\"paper\"},{\"font\":{\"size\":16},\"showarrow\":false,\"text\":\"Cross-Entropy Loss\",\"x\":0.8555555555555556,\"xanchor\":\"center\",\"xref\":\"paper\",\"y\":1.0,\"yanchor\":\"bottom\",\"yref\":\"paper\"}],\"title\":{\"text\":\"Cross-Entropy Loss for Each Email, Comparing True Labels and Predicted Probabilities\"},\"showlegend\":true},                        {\"responsive\": true}                    ).then(function(){\n",
       "                            \n",
       "var gd = document.getElementById('b4e3a26c-73e4-4ecf-8738-1585c41c525d');\n",
       "var x = new MutationObserver(function (mutations, observer) {{\n",
       "        var display = window.getComputedStyle(gd).display;\n",
       "        if (!display || display === 'none') {{\n",
       "            console.log([gd, 'removed!']);\n",
       "            Plotly.purge(gd);\n",
       "            observer.disconnect();\n",
       "        }}\n",
       "}});\n",
       "\n",
       "// Listen for the removal of the full notebook cells\n",
       "var notebookContainer = gd.closest('#notebook-container');\n",
       "if (notebookContainer) {{\n",
       "    x.observe(notebookContainer, {childList: true});\n",
       "}}\n",
       "\n",
       "// Listen for the clearing of the current output cell\n",
       "var outputEl = gd.closest('.output');\n",
       "if (outputEl) {{\n",
       "    x.observe(outputEl, {childList: true});\n",
       "}}\n",
       "\n",
       "                        })                };                });            </script>        </div>"
      ]
     },
     "metadata": {},
     "output_type": "display_data"
    }
   ],
   "execution_count": 13
  },
  {
   "metadata": {},
   "cell_type": "markdown",
   "source": [
    "---\n",
    "\n",
    "## The Mean Square Error / Quadratic Loss / L2 Loss Function\n",
    "\n",
    "The Mean Squared Error (MSE) is a widely used and straightforward loss \n",
    "function for regression tasks. It measures the average squared difference \n",
    "between the predicted values and the actual values in the dataset. The \n",
    "formula for MSE is as follows:\n",
    "\n",
    "$$\n",
    "\\begin{align*}\n",
    "\\text{J} &= \\frac{1}{N} \\sum_{i=1}^{N} L &= \\frac{1}{N} \\sum_{i=1}^{N} \\left(\\hat{Y}_{i} - \\text{Y}_{i} \\right)\n",
    "\\end{align*}\n",
    "$$\n",
    "    \n",
    "#### Where:\n",
    "\n",
    "- ( $J$ ) is the cost function or the mean loss\n",
    "- $N$ is the number of samples\n",
    "- $L$ is the loss function or the cross-entropy loss\n",
    "- $i$ is the index of the sample\n",
    "- $\\sum$ is the sum function that returns the sum of the values in a matrix\n",
    "- $\\hat{Y}_{i}$ is the predicted value for the i-th sample\n",
    "- $Y_{i}$ is the actual value for the i-th sample\n",
    "\n",
    "\n",
    "#### Key Points:\n",
    "\n",
    "- Easy to interpret: The MSE provides a clear measure of the average squared difference between the predictions and the actual values, allowing for easy understanding and comparison.\n",
    "- Always differential: The squaring operation ensures that the loss function is always differentiable, which is essential for optimizing the model parameters using gradient-based methods.\n",
    "- Only one local minima: MSE has a unique global minimum, making it easier to train the model and converge to an optimal solution.\n",
    "\n",
    "#### Disadvantages:\n",
    "\n",
    "- Error unit in the square: The unit of error in the MSE is squared, which may not be intuitive to interpret in real-world scenarios. It can lead to difficulties in understanding the magnitude of the error.\n",
    "- Not robust to outliers: MSE assigns high importance to large errors due to the squaring operation, making it sensitive to outliers in the dataset. Outliers can disproportionately influence the loss and impact the model’s performance.\n",
    "\n",
    "- **Note**: In regression tasks, it is common to use a linear activation function in the output neuron to directly predict the continuous target variable.\n",
    "\n"
   ],
   "id": "a59a4394a97ac4a2"
  },
  {
   "metadata": {
    "ExecuteTime": {
     "end_time": "2024-08-19T08:42:02.619981Z",
     "start_time": "2024-08-19T08:42:02.613255Z"
    }
   },
   "cell_type": "code",
   "source": [
    "from functions.losses import mean_square_error\n",
    "# Example usage\n",
    "__y_true = np.array([10, 20, 30, 40, 50])\n",
    "__y_pred = np.array([12, 18, 32, 38, 48])\n",
    "mse = mean_square_error(__y_true, __y_pred)\n",
    "print(f\"Mean Square Error (MSE): {mse:.4f}\")\n",
    "# Output: Mean Square Error (MSE): 4"
   ],
   "id": "29202e4152cf3dff",
   "outputs": [
    {
     "name": "stdout",
     "output_type": "stream",
     "text": [
      "4.0\n",
      "Mean Square Error (MSE): 4.0000\n"
     ]
    }
   ],
   "execution_count": 14
  },
  {
   "metadata": {
    "ExecuteTime": {
     "end_time": "2024-08-19T08:42:02.649964Z",
     "start_time": "2024-08-19T08:42:02.646450Z"
    }
   },
   "cell_type": "code",
   "source": "",
   "id": "e9e455a2bf806b80",
   "outputs": [],
   "execution_count": null
  }
 ],
 "metadata": {
  "kernelspec": {
   "display_name": "Python 3",
   "language": "python",
   "name": "python3"
  },
  "language_info": {
   "codemirror_mode": {
    "name": "ipython",
    "version": 2
   },
   "file_extension": ".py",
   "mimetype": "text/x-python",
   "name": "python",
   "nbconvert_exporter": "python",
   "pygments_lexer": "ipython2",
   "version": "2.7.6"
  }
 },
 "nbformat": 4,
 "nbformat_minor": 5
}

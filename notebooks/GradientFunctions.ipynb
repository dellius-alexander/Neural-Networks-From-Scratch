{
 "cells": [
  {
   "metadata": {},
   "cell_type": "markdown",
   "source": [
    "# Gradient Functions\n",
    "\n",
    "---"
   ],
   "id": "df0127266bd9d1f3"
  },
  {
   "metadata": {},
   "cell_type": "markdown",
   "source": [
    "\n",
    "### The gradient of the weight is:\n",
    "\n",
    "$$\n",
    "\\begin{align*}\n",
    "\\frac{\\partial J}{\\partial W} &= \\frac{1}{N} X^T \\cdot \\nabla_{A} J\n",
    "\\end{align*}\n",
    "$$\n",
    "\n",
    "---"
   ],
   "id": "e13adb62c9483ad9"
  },
  {
   "metadata": {},
   "cell_type": "markdown",
   "source": [
    "### The gradient of the bias is:\n",
    "\n",
    "$$\n",
    "\\begin{align*}\n",
    "\\frac{\\partial J}{\\partial B} &= \\frac{1}{N} \\sum_{i=1}^{N} \\nabla_{A} J\n",
    "\\end{align*}\n",
    "$$\n",
    "\n",
    "---"
   ],
   "id": "99a3bd953a9d9712"
  },
  {
   "metadata": {},
   "cell_type": "markdown",
   "source": [
    "### The gradient of the input is:\n",
    "\n",
    "$$\n",
    "\\begin{align*}\n",
    "\\frac{\\partial J}{\\partial X} &= \\nabla_{A} J \\cdot W^T\n",
    "\\end{align*}\n",
    "$$\n",
    "\n",
    "---"
   ],
   "id": "376e1a7d9045279f"
  },
  {
   "metadata": {},
   "cell_type": "markdown",
   "source": [
    "### The gradient of the output is:\n",
    "\n",
    "$$\n",
    "\\begin{align*}\n",
    "\\nabla_{A} J &= - \\frac{1}{N} \\frac{Y}{A}\n",
    "\\end{align*}\n",
    "$$\n",
    "\n",
    "---"
   ],
   "id": "205d2671c3fde144"
  },
  {
   "metadata": {},
   "cell_type": "markdown",
   "source": [
    "### The gradient of the activation function is:\n",
    "\n",
    "$$\n",
    "\\begin{align*}\n",
    "\\nabla_{Z} J &= \\nabla_{A} J \\cdot \\sigma(Z) \\cdot (1 - \\sigma(Z))\n",
    "\\end{align*}\n",
    "$$\n",
    "\n",
    "---"
   ],
   "id": "31b2ecf5c65cf592"
  },
  {
   "metadata": {},
   "cell_type": "markdown",
   "source": [
    "### The gradient of the weight is:\n",
    "\n",
    "$$\n",
    "\\begin{align*}\n",
    "\\frac{\\partial J}{\\partial W} &= \\frac{1}{N} X^T \\cdot \\nabla_{Z} J\n",
    "\\end{align*}\n",
    "$$\n"
   ],
   "id": "8250c8e3b5e270e"
  },
  {
   "metadata": {
    "ExecuteTime": {
     "end_time": "2024-09-08T02:52:28.691135Z",
     "start_time": "2024-09-08T02:52:28.688518Z"
    }
   },
   "cell_type": "code",
   "source": "",
   "id": "f8b2495695fc1a9",
   "outputs": [],
   "execution_count": null
  }
 ],
 "metadata": {
  "kernelspec": {
   "display_name": "Python 3",
   "language": "python",
   "name": "python3"
  },
  "language_info": {
   "codemirror_mode": {
    "name": "ipython",
    "version": 2
   },
   "file_extension": ".py",
   "mimetype": "text/x-python",
   "name": "python",
   "nbconvert_exporter": "python",
   "pygments_lexer": "ipython2",
   "version": "2.7.6"
  }
 },
 "nbformat": 4,
 "nbformat_minor": 5
}

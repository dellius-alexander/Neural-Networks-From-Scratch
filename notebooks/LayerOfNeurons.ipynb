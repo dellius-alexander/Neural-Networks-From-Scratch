{
 "cells": [
  {
   "cell_type": "markdown",
   "id": "d63c06f41b1fed64",
   "metadata": {},
   "source": [
    "# Neural Networks\n",
    "\n",
    "## A mathematical model of a neural network is a collection of neurons that are connected in layers\n",
    "\n",
    "### A neural network is a collection of neurons that are connected in layers.\n",
    "- A neural network has an input layer, hidden layers, and an output layer.\n",
    "- The input layer is the first layer of the neural network.\n",
    "    - The input layer has neurons that take the input to the neural network.\n",
    "    - **Note**: The input to the neural network is the data that the network is trained on. \\\n",
    "    Not the data that the network is predicting. The input sits at the beginning of the neurons \\\n",
    "    dendrites and aggregates the input signals via dot product to the nucleus to which we \\\n",
    "    apply an activation function, add the bias and pass the output to the axon terminals of \\\n",
    "    other neurons.\n",
    "- The hidden layers are the layers between the input and output layers.\n",
    "- The output layer is the last layer of the neural network.\n",
    "    - The output layer has neurons that produce the output of the neural network.\n",
    "    - The output of the neural network is the prediction of the network.\n",
    "\n",
    "---\n",
    "\n",
    "### A neural network’s forward pass:\n",
    "- The forward pass is the process of calculating the output of a neural network given an input.\n",
    "- The output of the neural network is calculated using the weights and biases of the neurons in the network.\n",
    "- The output of the neural network is the prediction of the network.\n",
    "- The prediction of the network is the output of the last layer of neurons.\n",
    "\n",
    "---\n",
    "\n",
    "$\n",
    "\\begin{equation*}\n",
    "L = - \\sum_{l=1}^{N} y_l \\log \\left( \\forall_{j=1}^{n_3} \\left[ \\frac{e^{\\sum_{i=1}^{n_2} \\max \\left(0, \\sum_{i=1}^{n_1} \\max \\left(0, \\sum_{i=1}^{n_0} X_i w_{1,i,j} + b_{1,j} \\right) w_{2,i,j} + b_{2,j} \\right) w_{3,i,j} + b_{3,j}}}\n",
    "{\\sum_{k=1}^{n_3} e^{\\sum_{i=1}^{n_2} \\max \\left(0, \\sum_{i=1}^{n_1} \\max \\left(0, \\sum_{i=1}^{n_0} X_i w_{1,i,k} + b_{1,k} \\right) w_{2,i,k} + b_{2,k} \\right) w_{3,i,k} + b_{3,k}}} \\right] \\right)  \\text{,} \\\\\n",
    "\\text{where L}  = \\text{Loss Function} \n",
    "\\end{equation*}\n",
    "$\n",
    "\n",
    "---"
   ]
  },
  {
   "cell_type": "markdown",
   "id": "ef3e52a2bcef9ccf",
   "metadata": {},
   "source": [
    "### The Forward Pass can be represented as a series of matrix multiplications "
   ]
  },
  {
   "cell_type": "code",
   "id": "c52aa918f101e9a5",
   "metadata": {
    "ExecuteTime": {
     "end_time": "2024-09-01T09:05:49.912030Z",
     "start_time": "2024-09-01T09:05:49.770739Z"
    }
   },
   "source": [
    "import numpy as np\n",
    "from src.functions.activation import Sigmoid\n",
    "from src.utils.logger import getLogger\n",
    "\n",
    "log = getLogger(__name__)\n",
    "\n",
    "\n",
    "# create the input data\n",
    "X = np.array([[1.0, 2.0, 3.0, 2.5],\n",
    "                [2.0, 5.0, -1.0, 2.0],\n",
    "                [-1.5, 2.7, 3.3, -0.8]])\n",
    "\n",
    "# create the Expected output data\n",
    "y = np.array([[0, 1, 0],\n",
    "                [1, 0, 1],\n",
    "                [0, 1, 0]])\n",
    "\n",
    "# create the weights\n",
    "w1 = np.array([[0.2, 0.8, -0.5, 1.0],\n",
    "                [0.5, -0.91, 0.26, -0.5],\n",
    "                [-0.26, -0.27, 0.17, 0.87]])\n",
    "w2 = np.array([[0.1, -0.14, 0.5],\n",
    "                [-0.5, 0.12, -0.33],\n",
    "                [-0.44, 0.73, -0.13]])\n",
    "w3 = np.array([[-0.1, -0.14, -0.5],\n",
    "                [0.5, 0.12, -0.33],\n",
    "                [-0.44, 0.73, -0.13]])\n",
    "\n",
    "# create the biases\n",
    "b1 = np.array([2.0, 3.0, 0.5])\n",
    "b2 = np.array([-1.0, 2.0, -0.5])\n",
    "b3 = np.array([2.0, 3.0, 0.5])\n",
    "\n",
    "# create the activation function\n",
    "sigmoid = Sigmoid()\n",
    "\n",
    "# calculate the output/loss of the neural network\n",
    "loss = -np.log(  # cross-entropy loss\n",
    "    np.sum(  # sum over the output neurons\n",
    "        y * np.exp(  # element-wise multiplication with the exponential of the output\n",
    "            np.dot(  # dot product of the output\n",
    "                np.maximum(  # ReLU activation\n",
    "                    0,  # ReLU\n",
    "                    np.dot(  # dot product of the hidden layer\n",
    "                        np.maximum(  # ReLU activation\n",
    "                            0,  # ReLU\n",
    "                            np.dot(  # dot product of the input layer\n",
    "                                X,  # input data\n",
    "                                w1.T  # transpose of the weights\n",
    "                            ) + b1 # add the bias\n",
    "                        ),  # ReLU\n",
    "                        w2.T  # transpose of the weights\n",
    "                    ) + b2  # add the bias\n",
    "                ),  # ReLU\n",
    "                w3.T  # transpose of the weights\n",
    "            ) + b3  # add the bias\n",
    "        ) /  # divide by the sum of the exponential of the output\n",
    "        np.sum(  # sum over the output neurons\n",
    "            np.exp(  # exponential of the output\n",
    "                np.dot(  # dot product of the output\n",
    "                    np.maximum(  # ReLU activation\n",
    "                        0,  # ReLU\n",
    "                        np.dot(  # dot product of the hidden layer\n",
    "                            np.maximum(  # ReLU activation\n",
    "                                0,  # ReLU\n",
    "                                np.dot(  # dot product of the input layer\n",
    "                                    X,  # input data\n",
    "                                    w1.T  # transpose of the weights\n",
    "                                ) + b1  # add the bias\n",
    "                            ),  # ReLU\n",
    "                            w2.T  # transpose of the weights\n",
    "                        ) + b2  # add the bias\n",
    "                    ),  # ReLU\n",
    "                    w3.T  # transpose of the weights\n",
    "                ) + b3  # add the bias\n",
    "            ),  # exponential of the output\n",
    "        axis=1, # sum over the output neurons\n",
    "        keepdims=True  # keep the dimensions of the output\n",
    "        ) # sum over the output neurons\n",
    "    )  # sum over the output neurons\n",
    ")  # cross-entropy loss\n",
    "\n",
    "# verify the accuracy of the loss\n",
    "# assert loss.shape == (3, 3), \"The shape of the loss is incorrect\"\n",
    "\n",
    "# print the loss\n",
    "log.debug(loss)"
   ],
   "outputs": [
    {
     "name": "stderr",
     "output_type": "stream",
     "text": [
      "\u001B[36m[2024-09-01 05:05:49][DEBUG][root][87]: \n",
      "-0.5631323300324019\u001B[0m\n"
     ]
    }
   ],
   "execution_count": 92
  },
  {
   "cell_type": "markdown",
   "id": "830d3fc99896b802",
   "metadata": {},
   "source": [
    "# Layer of Neurons\n",
    "\n",
    "### A layer of neurons is a collection of neurons that take the same number of inputs and produce the same number of outputs.\n",
    "\n",
    "#### The output of each neuron is calculated as follows:\n",
    "\n",
    "---\n",
    "\n",
    "$\n",
    "\\begin{align*}\n",
    "\\text{``Predictions``} &= \\text{Activation Function}(\\text{weights} \\cdot \\text{inputs} + \\text{Bias}) \\\\\n",
    "\\text{``Weighted Sum of Inputs w/ Bias``} &= \\sigma(\\sum_{i=1}^{n} w_i \\cdot x_i + b) \\\\\n",
    "\\text{``Weighted Sum of Inputs w/ Bias``} &= \\sigma(w_1 \\cdot x_1 + w_2 \\cdot x_2 + . . . + w_n \\cdot x_n + b)\n",
    "\\end{align*}\n",
    "$\n",
    "\n",
    "---\n",
    "\n",
    "#### The Predictions are the output of the layer of neurons.\n",
    "- The weights are the weights of the neurons in the layer.\n",
    "- The inputs are the inputs to the layer.\n",
    "- The bias is the bias of the neurons in the layer.\n",
    "- The activation function is the activation function of the neurons in the layer.\n",
    "- The weighted sum of inputs w/ bias is the weighted sum of the inputs to the layer plus the bias.\n",
    "- The weighted sum of inputs w/ bias is the dot product of the weights and inputs plus the bias.\n",
    "\n",
    "#### The output of each neuron is calculated as follows:\n",
    "- The weighted sum of inputs and bias is calculated.\n",
    "- The activation function is applied to the weighted sum of inputs and bias.\n",
    "- The result is the prediction of the neuron.\n",
    "- The predictions of all the neurons in the layer are returned as a list.\n",
    "- The output of the layer of neurons is the list of predictions.\n",
    "\n",
    "#### The output of the layer of neurons is a list of predictions, one for each neuron in the layer.\n",
    "\n",
    "### Using Dot Product\n",
    "\n",
    "#### Calculate the weighted sum of inputs and add the bias\n",
    "\n",
    "---\n",
    "\n",
    "$\n",
    "\\begin{align*}\n",
    "\\text{Weighted Sum w/ Bias} &= \\sum_{i=1}^{n} w_i \\cdot x_i + b \\\\\n",
    "\\text{Weighted Sum w/ Bias} &= w_1 \\cdot x_1 + w_2 \\cdot x_2 + . . . + w_n \\cdot x_n + b\n",
    "\\end{align*}\n",
    "$\n",
    "\n",
    "---\n",
    "\n",
    "```python\n",
    "inputs = [1.0, 2.0, 3.0, 2.5]\n",
    "weights = [0.2, 0.8, -0.5, 1.0]\n",
    "bias = 2.0\n",
    "\n",
    "# calculate the weighted sum of inputs and add the bias for each neuron\n",
    "output = [\n",
    "# Neuron 1: \n",
    "inputs[0]*weights[0] + inputs[1]*weights[1] + inputs[2]*weights[2] + inputs[3]*weights[3] + bias,\n",
    "]\n",
    "\n",
    "predictions = ActivationFunction(output)\n",
    "```\n",
    "\n",
    "In the context of binary classification using a sigmoid activation function, a prediction close to \"1\" typically indicates a positive class, while a prediction close to \"0\" indicates a negative class. Whether \"1\" or \"0\" is considered good or bad depends on the true label of the data point:\n",
    "\n",
    "- If the true label is \"1\" (positive class), a prediction close to \"1\" is good, and a prediction close to \"0\" is bad.\n",
    "- If the true label is \"0\" (negative class), a prediction close to \"0\" is good, and a prediction close to \"1\" is bad.\n",
    "\n"
   ]
  },
  {
   "cell_type": "markdown",
   "id": "aaaff353415c4224",
   "metadata": {},
   "source": [
    "### This example demonstrates how to calculate the output of a layer of neurons using a dot product.\n",
    "\n",
    "- The input data is a 1x4 matrix. Meaning we have 1 sample with 4 inputs.\n",
    "- The weights define the number of neurons in the layer. This layer has 3 neurons with 4 inputs each to match your input data.\n",
    "- The bias is a 1x3 matrix. Meaning we have 3 biases for the 3 neurons in the layer, in the shape of a 1x3 matrix and 1 input per neuron.\n",
    "- The output of the layer of neurons is a 1x3 matrix. Meaning we have 1 sample with 3 predictions.\n",
    "- The prediction is a sort of transformation of the output of the neurons in the layer.\n",
    "\n",
    "$\n",
    "\\begin{align*}\n",
    "O &= XW^T + B = \\begin{bmatrix} 1.0 & 2.0 & 3.0 & 2.5 \\end{bmatrix} \\begin{bmatrix} 0.2 & 0.5 & -0.26 \\\\ 0.8 & -0.91 & -0.27 \\\\ -0.5 & 0.26 & 0.17 \\\\ 1.0 & -0.5 & 0.87 \\end{bmatrix} + \\begin{bmatrix} 0.0 & 0.0 & 0.0 \\end{bmatrix} \\\\\n",
    "O &= \\begin{bmatrix} 2.8 & -1.79 & 1.885 \\end{bmatrix}\n",
    "\\end{align*}\n",
    "$\n",
    "\n",
    "Next, lets take a closer look at this matrix multiplication in algebraic form:\n",
    "\n",
    "$\n",
    "\\begin{align*}\n",
    "O &= \\begin{bmatrix} 1.0 \\cdot 0.2 + 2.0 \\cdot 0.8 + 3.0 \\cdot -0.5 + 2.5 \\cdot 1.0 & 1.0 \\cdot 0.5 + 2.0 \\cdot -0.91 + 3.0 \\cdot 0.26 + 2.5 \\cdot -0.5 & 1.0 \\cdot -0.26 + 2.0 \\cdot -0.27 + 3.0 \\cdot 0.17 + 2.5 \\cdot 0.87 \\end{bmatrix} + \\begin{bmatrix} 0.0 & 0.0 & 0.0 \\end{bmatrix} \\\\\n",
    "O &= \\begin{bmatrix} 2.8 & -1.79 & 1.885 \\end{bmatrix} + \\begin{bmatrix} 0.0 & 0.0 & 0.0 \\end{bmatrix} \\\\\n",
    "O &= \\begin{bmatrix} 2.8 & -1.79 & 1.885 \\end{bmatrix}\n",
    "\\end{align*}\n",
    "$\n"
   ]
  },
  {
   "cell_type": "code",
   "id": "d85c690bb74fb820",
   "metadata": {
    "ExecuteTime": {
     "end_time": "2024-09-01T09:05:49.962908Z",
     "start_time": "2024-09-01T09:05:49.938714Z"
    }
   },
   "source": [
    "# Layer of Neurons Example \n",
    "import numpy as np\n",
    "from src.functions.activation import Sigmoid\n",
    "\n",
    "# initialize the activation function\n",
    "sigmoid = Sigmoid()\n",
    "\n",
    "# Create the encoding sample input data\n",
    "encoded_inputs = np.array(\n",
    "    # Input sample 1: 1x4 matrix; 4 inputs for 4 neurons\n",
    "    [1.0, 2.0, 3.0, 2.5]\n",
    ")\n",
    "log.debug(f\"Encoded Inputs: \\n{encoded_inputs}\")\n",
    "\n",
    "\n",
    "# Our weights define the number of neurons in the layer. This \n",
    "# layer has 3 neurons with 4 inputs each to match your input data.\n",
    "# initialize  weights and biases\n",
    "weights = np.array([\n",
    "    # Neuron 1: 4 inputs\n",
    "    [0.2, 0.8, -0.5, 1.0],\n",
    "    # Neuron 2: 4 inputs\n",
    "    [0.5, -0.91, 0.26, -0.5],\n",
    "    # Neuron 3: 4 inputs\n",
    "    [-0.26, -0.27, 0.17, 0.87]])\n",
    "log.debug(f\"Weights: \\n{weights}\")\n",
    "\n",
    "# initialize random bias\n",
    "# This layer has 4 neurons, so we need 4 biases.\n",
    "# The bias is a 4x1 matrix. Meaning we have 4 biases for the 4 \n",
    "# neurons in the layer, in the shape of a 4x1 matrix and 1 input per neuron.\n",
    "bias  = np.array([[0.0, 0.0, 0.0]])\n",
    "log.debug(f\"Bias: \\n{bias}\")\n",
    "\n",
    "# get the weighted sums of the inputs and add the bias\n",
    "# Here we model the neurons output using sample input data, \n",
    "# a vector that is passed to each neuron in the layer.\n",
    "outputs = np.dot(weights, encoded_inputs) + bias\n",
    "log.debug(f\"Outputs: \\n{outputs}\") # Outputs: [[2.8, -1.79, 1.885]]\n",
    "\n",
    "# apply the activation function and get the predictions\n",
    "# The prediction is a sort of transformation of the output of the \n",
    "# neurons in the layer.\n",
    "predictions = sigmoid(outputs)\n",
    "log.debug(f\"Predictions: \\n{predictions}\")\n",
    "\n",
    "# Error\n",
    "error_rate = 1 - predictions\n",
    "log.debug(f\"Error Ratio: \\n{error_rate}\")"
   ],
   "outputs": [
    {
     "name": "stderr",
     "output_type": "stream",
     "text": [
      "\u001B[36m[2024-09-01 05:05:49][DEBUG][root][13]: \n",
      "Encoded Inputs: \n",
      "[1.  2.  3.  2.5]\u001B[0m\n",
      "\u001B[36m[2024-09-01 05:05:49][DEBUG][root][26]: \n",
      "Weights: \n",
      "[[ 0.2   0.8  -0.5   1.  ]\n",
      " [ 0.5  -0.91  0.26 -0.5 ]\n",
      " [-0.26 -0.27  0.17  0.87]]\u001B[0m\n",
      "\u001B[36m[2024-09-01 05:05:49][DEBUG][root][33]: \n",
      "Bias: \n",
      "[[0. 0. 0.]]\u001B[0m\n",
      "\u001B[36m[2024-09-01 05:05:49][DEBUG][root][39]: \n",
      "Outputs: \n",
      "[[ 2.8   -1.79   1.885]]\u001B[0m\n",
      "\u001B[36m[2024-09-01 05:05:49][DEBUG][root][45]: \n",
      "Predictions: \n",
      "[[0.94267582 0.14307272 0.86818438]]\u001B[0m\n",
      "\u001B[36m[2024-09-01 05:05:49][DEBUG][root][49]: \n",
      "Error Ratio: \n",
      "[[0.05732418 0.85692728 0.13181562]]\u001B[0m\n"
     ]
    }
   ],
   "execution_count": 93
  },
  {
   "cell_type": "markdown",
   "id": "c45de9b8f554abe7",
   "metadata": {},
   "source": [
    "\n",
    "### This example demonstrates how to calculate the output of a layer of neurons using a dot product.\n",
    "\n",
    "- The input data is a 3x4 matrix. Meaning we have 3 samples with 4 inputs each.\n",
    "- The weights define the number of neurons in the layer. This layer has 3 neurons with 4 inputs each to match your input data.\n",
    "- The bias is a 3x1 matrix. Meaning we have 3 biases for the 3 neurons in the layer, in the shape of a 3x1 matrix and 1 input per neuron.\n",
    "- The output of the layer of neurons is a 3x3 matrix. Meaning we have 3 samples with 3 predictions each.\n",
    "\n",
    "\n",
    "$\n",
    "\\begin{align*}\n",
    "O &= XW^T + B = \\begin{bmatrix} 1.0 & 2.0 & 3.0 & 2.5 \\\\ 2.0 & 5.0 & -1.0 & 2.0 \\\\ -1.5 & 2.7 & 3.3 & -0.8 \\end{bmatrix} \\begin{bmatrix} 0.2 & 0.5 & -0.26 \\\\ 0.8 & -0.91 & -0.27 \\\\ -0.5 & 0.26 & 0.17 \\\\ 1.0 & -0.5 & 0.87 \\end{bmatrix} + \\begin{bmatrix} 0.0 & 0.0 & 0.0 \\end{bmatrix} \\\\\n",
    "O &= \\begin{bmatrix} 2.8 & -1.79 & 1.885 \\\\ 6.9 & -4.81 & -0.3 \\\\ -0.59 & -1.949 & -0.474 \\end{bmatrix} + \\begin{bmatrix} 0.0 & 0.0 & 0.0 \\end{bmatrix} \\\\\\\\\n",
    "O &= \\begin{bmatrix} 2.8 & -1.79 & 1.885 \\\\ 6.9 & -4.81 & -0.3 \\\\ -0.59 & -1.949 & -0.474 \\end{bmatrix}\n",
    "\\end{align*}\n",
    "$"
   ]
  },
  {
   "cell_type": "code",
   "id": "e7705355e5e36c85",
   "metadata": {
    "ExecuteTime": {
     "end_time": "2024-09-01T09:05:50.061485Z",
     "start_time": "2024-09-01T09:05:50.029012Z"
    }
   },
   "source": [
    "# Layer of Neurons Example \n",
    "import numpy as np\n",
    "from src.functions.activation import Sigmoid\n",
    "\n",
    "# initialize the activation function\n",
    "sigmoid = Sigmoid()\n",
    "\n",
    "# Create the encoding sample input data\n",
    "# The input data is a 3x4 matrix. Meaning we have 3 samples with 4 inputs each.\n",
    "encoded_inputs = np.array([\n",
    "    # Input sample 1: 1x4 matrix; 4 inputs for 4 neurons\n",
    "    [1.0, 2.0, 3.0, 2.5],\n",
    "    # Input sample 2: 1x4 matrix; 4 inputs for 4 neurons\n",
    "    [2.0, 5.0, -1.0, 2.0],\n",
    "    # Input sample 3: 1x4 matrix; 4 inputs for 4 neurons\n",
    "    [-1.5, 2.7, 3.3, -0.8]\n",
    "])\n",
    "log.debug(f\"Encoded Inputs: \\n{encoded_inputs}\")\n",
    "\n",
    "\n",
    "# Our weights define the number of neurons in the layer. This \n",
    "# layer has 3 neurons with 4 inputs each to match your input data.\n",
    "# initialize  weights and biases\n",
    "weights = np.array([\n",
    "    # Neuron 1: 4 inputs\n",
    "    [0.2, 0.8, -0.5, 1.0],\n",
    "    # Neuron 2: 4 inputs\n",
    "    [0.5, -0.91, 0.26, -0.5],\n",
    "    # Neuron 3: 4 inputs\n",
    "    [-0.26, -0.27, 0.17, 0.87]]).T\n",
    "log.debug(f\"Weights: \\n{weights}\")\n",
    "\n",
    "# initialize random bias\n",
    "# This layer has 4 neurons, so we need 4 biases.\n",
    "# The bias is a 4x1 matrix. Meaning we have 4 biases for the 4 \n",
    "# neurons in the layer, in the shape of a 4x1 matrix and 1 input per neuron.\n",
    "bias  = np.array([[0.0, 0.0, 0.0]])\n",
    "log.debug(f\"Bias: \\n{bias}\")\n",
    "\n",
    "# get the weighted sums of the inputs and add the bias\n",
    "# Here we model the neurons output using sample input data, \n",
    "# a vector that is passed to each neuron in the layer.\n",
    "# $O = XW^T + B &= \\begin{bmatrix} 1.0 & 2.0 & 3.0 & 2.5 \\\\ 2.0 & 5.0 & -1.0 & 2.0 \\\\ -1.5 & 2.7 & 3.3 & -0.8 \\end{bmatrix} \\begin{bmatrix} 0.2 & 0.5 & -0.26 \\\\ 0.8 & -0.91 & -0.27 \\\\ -0.5 & 0.26 & 0.17 \\\\ 1.0 & -0.5 & 0.87 \\end{bmatrix} + \\begin{bmatrix} 0.0 & 0.0 & 0.0 \\end{bmatrix}$\n",
    "outputs = np.dot(encoded_inputs, weights) + bias\n",
    "# Outputs: [[ 2.8   -1.79   1.885], [ 6.9   -4.81  -0.3  ], [-0.59  -1.949 -0.474]]\n",
    "log.debug(f\"Outputs: \\n{outputs}\") \n",
    "\n",
    "# apply the activation function and get the predictions\n",
    "# The prediction is a sort of transformation of the output of the \n",
    "# neurons in the layer.\n",
    "predictions = sigmoid(outputs)\n",
    "log.debug(f\"Predictions: \\n{predictions}\")\n",
    "\n",
    "# Error\n",
    "error_rate = 1 - predictions \n",
    "log.debug(f\"Error Ratio: \\n{error_rate}\")"
   ],
   "outputs": [
    {
     "name": "stderr",
     "output_type": "stream",
     "text": [
      "\u001B[36m[2024-09-01 05:05:50][DEBUG][root][18]: \n",
      "Encoded Inputs: \n",
      "[[ 1.   2.   3.   2.5]\n",
      " [ 2.   5.  -1.   2. ]\n",
      " [-1.5  2.7  3.3 -0.8]]\u001B[0m\n",
      "\u001B[36m[2024-09-01 05:05:50][DEBUG][root][31]: \n",
      "Weights: \n",
      "[[ 0.2   0.5  -0.26]\n",
      " [ 0.8  -0.91 -0.27]\n",
      " [-0.5   0.26  0.17]\n",
      " [ 1.   -0.5   0.87]]\u001B[0m\n",
      "\u001B[36m[2024-09-01 05:05:50][DEBUG][root][38]: \n",
      "Bias: \n",
      "[[0. 0. 0.]]\u001B[0m\n",
      "\u001B[36m[2024-09-01 05:05:50][DEBUG][root][46]: \n",
      "Outputs: \n",
      "[[ 2.8   -1.79   1.885]\n",
      " [ 6.9   -4.81  -0.3  ]\n",
      " [-0.59  -1.949 -0.474]]\u001B[0m\n",
      "\u001B[36m[2024-09-01 05:05:50][DEBUG][root][52]: \n",
      "Predictions: \n",
      "[[0.94267582 0.14307272 0.86818438]\n",
      " [0.99899323 0.00808201 0.42555748]\n",
      " [0.35663485 0.12466244 0.38366994]]\u001B[0m\n",
      "\u001B[36m[2024-09-01 05:05:50][DEBUG][root][56]: \n",
      "Error Ratio: \n",
      "[[0.05732418 0.85692728 0.13181562]\n",
      " [0.00100677 0.99191799 0.57444252]\n",
      " [0.64336515 0.87533756 0.61633006]]\u001B[0m\n"
     ]
    }
   ],
   "execution_count": 94
  },
  {
   "cell_type": "code",
   "id": "ebe52e88d18caffa",
   "metadata": {
    "ExecuteTime": {
     "end_time": "2024-09-01T09:05:50.163622Z",
     "start_time": "2024-09-01T09:05:50.120523Z"
    }
   },
   "source": [
    "# Layer of Neurons Example \n",
    "import numpy as np\n",
    "from src.functions.activation import Sigmoid\n",
    "from src.encoder.label import encode as encode_labels\n",
    "\n",
    "# initialize the activation function\n",
    "sigmoid = Sigmoid()\n",
    "\n",
    "# convert the words to sums of Unicode values\n",
    "input_words = np.array(['Cat', 'Dog', 'Rabbit', 'Horse'])\n",
    "encoded_inputs = encode_labels(input_words)\n",
    "log.debug(f\"Encoded Inputs: \\n{encoded_inputs}\")\n",
    "\n",
    "# initialize seed for reproducibility\n",
    "np.random.seed(10)\n",
    "\n",
    "\n",
    "# TODO: Our weights define the number of neurons in the layer. This layer has 3 neurons with 4 inputs each to match your input data. In the 'np.random.rand(3, 4)' function, the first argument is the number of neurons in the layer, and the second argument is the number of inputs to each neuron.\n",
    "# initialize random weights and biases\n",
    "weights = np.random.rand(3, 4)\n",
    "log.debug(f\"Weights: \\n{weights}\")\n",
    "\n",
    "# initialize random bias\n",
    "# This layer has 4 neurons, so we need 4 biases.\n",
    "# The bias is a 4x1 matrix. Meaning we have 4 biases for the 4 neurons in the layer, in the shape of a 4x1 matrix and 1 input per neuron.\n",
    "bias  = np.random.rand(1, 3)\n",
    "log.debug(f\"Bias: \\n{bias}\")\n",
    "\n",
    "# convert the words to sums of Unicode values\n",
    "labels = np.array(['Cat', 'Dog', 'Rabbit', 'Horse'])\n",
    "encoded_labels = encode_labels(labels)\n",
    "log.debug(f\"Labels: \\n{labels}\")\n",
    "log.debug(f\"Encoded Labels: \\n{encoded_labels}\")\n",
    "\n",
    "# get the weighted sums of the inputs and add the bias\n",
    "outputs = np.dot(encoded_inputs, weights.T) + bias\n",
    "log.debug(f\"Outputs: \\n{outputs}\")\n",
    "\n",
    "# apply the activation function and get the predictions\n",
    "# The prediction is a sort of transformation of the output of the neurons in the layer.\n",
    "predictions = sigmoid(outputs)\n",
    "log.debug(f\"Predictions: \\n{predictions}\")\n",
    "\n",
    "# Error\n",
    "error_rate = (1 - predictions).tolist()\n",
    "log.debug(f\"Error Ratio: \\n{error_rate}\")"
   ],
   "outputs": [
    {
     "name": "stderr",
     "output_type": "stream",
     "text": [
      "\u001B[36m[2024-09-01 05:05:50][DEBUG][root][12]: \n",
      "Encoded Inputs: \n",
      "[[104.       104.666664 104.666664 109.      ]]\u001B[0m\n",
      "\u001B[36m[2024-09-01 05:05:50][DEBUG][root][21]: \n",
      "Weights: \n",
      "[[0.77132064 0.02075195 0.63364823 0.74880388]\n",
      " [0.49850701 0.22479665 0.19806286 0.76053071]\n",
      " [0.16911084 0.08833981 0.68535982 0.95339335]]\u001B[0m\n",
      "\u001B[36m[2024-09-01 05:05:50][DEBUG][root][27]: \n",
      "Bias: \n",
      "[[0.00394827 0.51219226 0.81262096]]\u001B[0m\n",
      "\u001B[36m[2024-09-01 05:05:50][DEBUG][root][32]: \n",
      "Labels: \n",
      "['Cat' 'Dog' 'Rabbit' 'Horse']\u001B[0m\n",
      "\u001B[36m[2024-09-01 05:05:50][DEBUG][root][33]: \n",
      "Encoded Labels: \n",
      "[[104.       104.666664 104.666664 109.      ]]\u001B[0m\n",
      "\u001B[36m[2024-09-01 05:05:50][DEBUG][root][37]: \n",
      "Outputs: \n",
      "[[230.33480265 179.51406351 203.30058227]]\u001B[0m\n",
      "\u001B[36m[2024-09-01 05:05:50][DEBUG][root][42]: \n",
      "Predictions: \n",
      "[[1. 1. 1.]]\u001B[0m\n",
      "\u001B[36m[2024-09-01 05:05:50][DEBUG][root][46]: \n",
      "Error Ratio: \n",
      "[[0.0, 0.0, 0.0]]\u001B[0m\n"
     ]
    }
   ],
   "execution_count": 95
  },
  {
   "cell_type": "code",
   "id": "a131bfe5a9629d2b",
   "metadata": {
    "ExecuteTime": {
     "end_time": "2024-09-01T09:05:50.442984Z",
     "start_time": "2024-09-01T09:05:50.349124Z"
    }
   },
   "source": [
    "# Graph the error on a line plot\n",
    "from plotly import graph_objects as go\n",
    "\n",
    "fig = go.Figure()\n",
    "fig.add_trace(\n",
    "    go.Scatter(\n",
    "        x=labels, y=error_rate[0], mode='lines+markers', \n",
    "    xaxis='x', yaxis='y', name='Outputs'\n",
    "    ))\n",
    "fig.update_layout(title='Error Ratio', xaxis_title='Labels', yaxis_title='Error')\n",
    "fig.show()"
   ],
   "outputs": [
    {
     "data": {
      "application/vnd.plotly.v1+json": {
       "data": [
        {
         "mode": "lines+markers",
         "name": "Outputs",
         "x": [
          "Cat",
          "Dog",
          "Rabbit",
          "Horse"
         ],
         "xaxis": "x",
         "y": [
          0.0,
          0.0,
          0.0
         ],
         "yaxis": "y",
         "type": "scatter"
        }
       ],
       "layout": {
        "template": {
         "data": {
          "histogram2dcontour": [
           {
            "type": "histogram2dcontour",
            "colorbar": {
             "outlinewidth": 0,
             "ticks": ""
            },
            "colorscale": [
             [
              0.0,
              "#0d0887"
             ],
             [
              0.1111111111111111,
              "#46039f"
             ],
             [
              0.2222222222222222,
              "#7201a8"
             ],
             [
              0.3333333333333333,
              "#9c179e"
             ],
             [
              0.4444444444444444,
              "#bd3786"
             ],
             [
              0.5555555555555556,
              "#d8576b"
             ],
             [
              0.6666666666666666,
              "#ed7953"
             ],
             [
              0.7777777777777778,
              "#fb9f3a"
             ],
             [
              0.8888888888888888,
              "#fdca26"
             ],
             [
              1.0,
              "#f0f921"
             ]
            ]
           }
          ],
          "choropleth": [
           {
            "type": "choropleth",
            "colorbar": {
             "outlinewidth": 0,
             "ticks": ""
            }
           }
          ],
          "histogram2d": [
           {
            "type": "histogram2d",
            "colorbar": {
             "outlinewidth": 0,
             "ticks": ""
            },
            "colorscale": [
             [
              0.0,
              "#0d0887"
             ],
             [
              0.1111111111111111,
              "#46039f"
             ],
             [
              0.2222222222222222,
              "#7201a8"
             ],
             [
              0.3333333333333333,
              "#9c179e"
             ],
             [
              0.4444444444444444,
              "#bd3786"
             ],
             [
              0.5555555555555556,
              "#d8576b"
             ],
             [
              0.6666666666666666,
              "#ed7953"
             ],
             [
              0.7777777777777778,
              "#fb9f3a"
             ],
             [
              0.8888888888888888,
              "#fdca26"
             ],
             [
              1.0,
              "#f0f921"
             ]
            ]
           }
          ],
          "heatmap": [
           {
            "type": "heatmap",
            "colorbar": {
             "outlinewidth": 0,
             "ticks": ""
            },
            "colorscale": [
             [
              0.0,
              "#0d0887"
             ],
             [
              0.1111111111111111,
              "#46039f"
             ],
             [
              0.2222222222222222,
              "#7201a8"
             ],
             [
              0.3333333333333333,
              "#9c179e"
             ],
             [
              0.4444444444444444,
              "#bd3786"
             ],
             [
              0.5555555555555556,
              "#d8576b"
             ],
             [
              0.6666666666666666,
              "#ed7953"
             ],
             [
              0.7777777777777778,
              "#fb9f3a"
             ],
             [
              0.8888888888888888,
              "#fdca26"
             ],
             [
              1.0,
              "#f0f921"
             ]
            ]
           }
          ],
          "heatmapgl": [
           {
            "type": "heatmapgl",
            "colorbar": {
             "outlinewidth": 0,
             "ticks": ""
            },
            "colorscale": [
             [
              0.0,
              "#0d0887"
             ],
             [
              0.1111111111111111,
              "#46039f"
             ],
             [
              0.2222222222222222,
              "#7201a8"
             ],
             [
              0.3333333333333333,
              "#9c179e"
             ],
             [
              0.4444444444444444,
              "#bd3786"
             ],
             [
              0.5555555555555556,
              "#d8576b"
             ],
             [
              0.6666666666666666,
              "#ed7953"
             ],
             [
              0.7777777777777778,
              "#fb9f3a"
             ],
             [
              0.8888888888888888,
              "#fdca26"
             ],
             [
              1.0,
              "#f0f921"
             ]
            ]
           }
          ],
          "contourcarpet": [
           {
            "type": "contourcarpet",
            "colorbar": {
             "outlinewidth": 0,
             "ticks": ""
            }
           }
          ],
          "contour": [
           {
            "type": "contour",
            "colorbar": {
             "outlinewidth": 0,
             "ticks": ""
            },
            "colorscale": [
             [
              0.0,
              "#0d0887"
             ],
             [
              0.1111111111111111,
              "#46039f"
             ],
             [
              0.2222222222222222,
              "#7201a8"
             ],
             [
              0.3333333333333333,
              "#9c179e"
             ],
             [
              0.4444444444444444,
              "#bd3786"
             ],
             [
              0.5555555555555556,
              "#d8576b"
             ],
             [
              0.6666666666666666,
              "#ed7953"
             ],
             [
              0.7777777777777778,
              "#fb9f3a"
             ],
             [
              0.8888888888888888,
              "#fdca26"
             ],
             [
              1.0,
              "#f0f921"
             ]
            ]
           }
          ],
          "surface": [
           {
            "type": "surface",
            "colorbar": {
             "outlinewidth": 0,
             "ticks": ""
            },
            "colorscale": [
             [
              0.0,
              "#0d0887"
             ],
             [
              0.1111111111111111,
              "#46039f"
             ],
             [
              0.2222222222222222,
              "#7201a8"
             ],
             [
              0.3333333333333333,
              "#9c179e"
             ],
             [
              0.4444444444444444,
              "#bd3786"
             ],
             [
              0.5555555555555556,
              "#d8576b"
             ],
             [
              0.6666666666666666,
              "#ed7953"
             ],
             [
              0.7777777777777778,
              "#fb9f3a"
             ],
             [
              0.8888888888888888,
              "#fdca26"
             ],
             [
              1.0,
              "#f0f921"
             ]
            ]
           }
          ],
          "mesh3d": [
           {
            "type": "mesh3d",
            "colorbar": {
             "outlinewidth": 0,
             "ticks": ""
            }
           }
          ],
          "scatter": [
           {
            "marker": {
             "line": {
              "color": "#283442"
             }
            },
            "type": "scatter"
           }
          ],
          "parcoords": [
           {
            "type": "parcoords",
            "line": {
             "colorbar": {
              "outlinewidth": 0,
              "ticks": ""
             }
            }
           }
          ],
          "scatterpolargl": [
           {
            "type": "scatterpolargl",
            "marker": {
             "colorbar": {
              "outlinewidth": 0,
              "ticks": ""
             }
            }
           }
          ],
          "bar": [
           {
            "error_x": {
             "color": "#f2f5fa"
            },
            "error_y": {
             "color": "#f2f5fa"
            },
            "marker": {
             "line": {
              "color": "rgb(17,17,17)",
              "width": 0.5
             },
             "pattern": {
              "fillmode": "overlay",
              "size": 10,
              "solidity": 0.2
             }
            },
            "type": "bar"
           }
          ],
          "scattergeo": [
           {
            "type": "scattergeo",
            "marker": {
             "colorbar": {
              "outlinewidth": 0,
              "ticks": ""
             }
            }
           }
          ],
          "scatterpolar": [
           {
            "type": "scatterpolar",
            "marker": {
             "colorbar": {
              "outlinewidth": 0,
              "ticks": ""
             }
            }
           }
          ],
          "histogram": [
           {
            "marker": {
             "pattern": {
              "fillmode": "overlay",
              "size": 10,
              "solidity": 0.2
             }
            },
            "type": "histogram"
           }
          ],
          "scattergl": [
           {
            "marker": {
             "line": {
              "color": "#283442"
             }
            },
            "type": "scattergl"
           }
          ],
          "scatter3d": [
           {
            "type": "scatter3d",
            "line": {
             "colorbar": {
              "outlinewidth": 0,
              "ticks": ""
             }
            },
            "marker": {
             "colorbar": {
              "outlinewidth": 0,
              "ticks": ""
             }
            }
           }
          ],
          "scattermapbox": [
           {
            "type": "scattermapbox",
            "marker": {
             "colorbar": {
              "outlinewidth": 0,
              "ticks": ""
             }
            }
           }
          ],
          "scatterternary": [
           {
            "type": "scatterternary",
            "marker": {
             "colorbar": {
              "outlinewidth": 0,
              "ticks": ""
             }
            }
           }
          ],
          "scattercarpet": [
           {
            "type": "scattercarpet",
            "marker": {
             "colorbar": {
              "outlinewidth": 0,
              "ticks": ""
             }
            }
           }
          ],
          "carpet": [
           {
            "aaxis": {
             "endlinecolor": "#A2B1C6",
             "gridcolor": "#506784",
             "linecolor": "#506784",
             "minorgridcolor": "#506784",
             "startlinecolor": "#A2B1C6"
            },
            "baxis": {
             "endlinecolor": "#A2B1C6",
             "gridcolor": "#506784",
             "linecolor": "#506784",
             "minorgridcolor": "#506784",
             "startlinecolor": "#A2B1C6"
            },
            "type": "carpet"
           }
          ],
          "table": [
           {
            "cells": {
             "fill": {
              "color": "#506784"
             },
             "line": {
              "color": "rgb(17,17,17)"
             }
            },
            "header": {
             "fill": {
              "color": "#2a3f5f"
             },
             "line": {
              "color": "rgb(17,17,17)"
             }
            },
            "type": "table"
           }
          ],
          "barpolar": [
           {
            "marker": {
             "line": {
              "color": "rgb(17,17,17)",
              "width": 0.5
             },
             "pattern": {
              "fillmode": "overlay",
              "size": 10,
              "solidity": 0.2
             }
            },
            "type": "barpolar"
           }
          ],
          "pie": [
           {
            "automargin": true,
            "type": "pie"
           }
          ]
         },
         "layout": {
          "autotypenumbers": "strict",
          "colorway": [
           "#636efa",
           "#EF553B",
           "#00cc96",
           "#ab63fa",
           "#FFA15A",
           "#19d3f3",
           "#FF6692",
           "#B6E880",
           "#FF97FF",
           "#FECB52"
          ],
          "font": {
           "color": "#f2f5fa"
          },
          "hovermode": "closest",
          "hoverlabel": {
           "align": "left"
          },
          "paper_bgcolor": "rgb(17,17,17)",
          "plot_bgcolor": "rgb(17,17,17)",
          "polar": {
           "bgcolor": "rgb(17,17,17)",
           "angularaxis": {
            "gridcolor": "#506784",
            "linecolor": "#506784",
            "ticks": ""
           },
           "radialaxis": {
            "gridcolor": "#506784",
            "linecolor": "#506784",
            "ticks": ""
           }
          },
          "ternary": {
           "bgcolor": "rgb(17,17,17)",
           "aaxis": {
            "gridcolor": "#506784",
            "linecolor": "#506784",
            "ticks": ""
           },
           "baxis": {
            "gridcolor": "#506784",
            "linecolor": "#506784",
            "ticks": ""
           },
           "caxis": {
            "gridcolor": "#506784",
            "linecolor": "#506784",
            "ticks": ""
           }
          },
          "coloraxis": {
           "colorbar": {
            "outlinewidth": 0,
            "ticks": ""
           }
          },
          "colorscale": {
           "sequential": [
            [
             0.0,
             "#0d0887"
            ],
            [
             0.1111111111111111,
             "#46039f"
            ],
            [
             0.2222222222222222,
             "#7201a8"
            ],
            [
             0.3333333333333333,
             "#9c179e"
            ],
            [
             0.4444444444444444,
             "#bd3786"
            ],
            [
             0.5555555555555556,
             "#d8576b"
            ],
            [
             0.6666666666666666,
             "#ed7953"
            ],
            [
             0.7777777777777778,
             "#fb9f3a"
            ],
            [
             0.8888888888888888,
             "#fdca26"
            ],
            [
             1.0,
             "#f0f921"
            ]
           ],
           "sequentialminus": [
            [
             0.0,
             "#0d0887"
            ],
            [
             0.1111111111111111,
             "#46039f"
            ],
            [
             0.2222222222222222,
             "#7201a8"
            ],
            [
             0.3333333333333333,
             "#9c179e"
            ],
            [
             0.4444444444444444,
             "#bd3786"
            ],
            [
             0.5555555555555556,
             "#d8576b"
            ],
            [
             0.6666666666666666,
             "#ed7953"
            ],
            [
             0.7777777777777778,
             "#fb9f3a"
            ],
            [
             0.8888888888888888,
             "#fdca26"
            ],
            [
             1.0,
             "#f0f921"
            ]
           ],
           "diverging": [
            [
             0,
             "#8e0152"
            ],
            [
             0.1,
             "#c51b7d"
            ],
            [
             0.2,
             "#de77ae"
            ],
            [
             0.3,
             "#f1b6da"
            ],
            [
             0.4,
             "#fde0ef"
            ],
            [
             0.5,
             "#f7f7f7"
            ],
            [
             0.6,
             "#e6f5d0"
            ],
            [
             0.7,
             "#b8e186"
            ],
            [
             0.8,
             "#7fbc41"
            ],
            [
             0.9,
             "#4d9221"
            ],
            [
             1,
             "#276419"
            ]
           ]
          },
          "xaxis": {
           "gridcolor": "#283442",
           "linecolor": "#506784",
           "ticks": "",
           "title": {
            "standoff": 15
           },
           "zerolinecolor": "#283442",
           "automargin": true,
           "zerolinewidth": 2
          },
          "yaxis": {
           "gridcolor": "#283442",
           "linecolor": "#506784",
           "ticks": "",
           "title": {
            "standoff": 15
           },
           "zerolinecolor": "#283442",
           "automargin": true,
           "zerolinewidth": 2
          },
          "scene": {
           "xaxis": {
            "backgroundcolor": "rgb(17,17,17)",
            "gridcolor": "#506784",
            "linecolor": "#506784",
            "showbackground": true,
            "ticks": "",
            "zerolinecolor": "#C8D4E3",
            "gridwidth": 2
           },
           "yaxis": {
            "backgroundcolor": "rgb(17,17,17)",
            "gridcolor": "#506784",
            "linecolor": "#506784",
            "showbackground": true,
            "ticks": "",
            "zerolinecolor": "#C8D4E3",
            "gridwidth": 2
           },
           "zaxis": {
            "backgroundcolor": "rgb(17,17,17)",
            "gridcolor": "#506784",
            "linecolor": "#506784",
            "showbackground": true,
            "ticks": "",
            "zerolinecolor": "#C8D4E3",
            "gridwidth": 2
           }
          },
          "shapedefaults": {
           "line": {
            "color": "#f2f5fa"
           }
          },
          "annotationdefaults": {
           "arrowcolor": "#f2f5fa",
           "arrowhead": 0,
           "arrowwidth": 1
          },
          "geo": {
           "bgcolor": "rgb(17,17,17)",
           "landcolor": "rgb(17,17,17)",
           "subunitcolor": "#506784",
           "showland": true,
           "showlakes": true,
           "lakecolor": "rgb(17,17,17)"
          },
          "title": {
           "x": 0.05
          },
          "updatemenudefaults": {
           "bgcolor": "#506784",
           "borderwidth": 0
          },
          "sliderdefaults": {
           "bgcolor": "#C8D4E3",
           "borderwidth": 1,
           "bordercolor": "rgb(17,17,17)",
           "tickwidth": 0
          },
          "mapbox": {
           "style": "dark"
          }
         }
        },
        "title": {
         "text": "Error Ratio"
        },
        "xaxis": {
         "title": {
          "text": "Labels"
         }
        },
        "yaxis": {
         "title": {
          "text": "Error"
         }
        }
       },
       "config": {
        "plotlyServerURL": "https://plot.ly"
       }
      },
      "text/html": [
       "<div>                            <div id=\"0258042c-9c0b-47b7-80f5-ab898489c62a\" class=\"plotly-graph-div\" style=\"height:525px; width:100%;\"></div>            <script type=\"text/javascript\">                require([\"plotly\"], function(Plotly) {                    window.PLOTLYENV=window.PLOTLYENV || {};                                    if (document.getElementById(\"0258042c-9c0b-47b7-80f5-ab898489c62a\")) {                    Plotly.newPlot(                        \"0258042c-9c0b-47b7-80f5-ab898489c62a\",                        [{\"mode\":\"lines+markers\",\"name\":\"Outputs\",\"x\":[\"Cat\",\"Dog\",\"Rabbit\",\"Horse\"],\"xaxis\":\"x\",\"y\":[0.0,0.0,0.0],\"yaxis\":\"y\",\"type\":\"scatter\"}],                        {\"template\":{\"data\":{\"histogram2dcontour\":[{\"type\":\"histogram2dcontour\",\"colorbar\":{\"outlinewidth\":0,\"ticks\":\"\"},\"colorscale\":[[0.0,\"#0d0887\"],[0.1111111111111111,\"#46039f\"],[0.2222222222222222,\"#7201a8\"],[0.3333333333333333,\"#9c179e\"],[0.4444444444444444,\"#bd3786\"],[0.5555555555555556,\"#d8576b\"],[0.6666666666666666,\"#ed7953\"],[0.7777777777777778,\"#fb9f3a\"],[0.8888888888888888,\"#fdca26\"],[1.0,\"#f0f921\"]]}],\"choropleth\":[{\"type\":\"choropleth\",\"colorbar\":{\"outlinewidth\":0,\"ticks\":\"\"}}],\"histogram2d\":[{\"type\":\"histogram2d\",\"colorbar\":{\"outlinewidth\":0,\"ticks\":\"\"},\"colorscale\":[[0.0,\"#0d0887\"],[0.1111111111111111,\"#46039f\"],[0.2222222222222222,\"#7201a8\"],[0.3333333333333333,\"#9c179e\"],[0.4444444444444444,\"#bd3786\"],[0.5555555555555556,\"#d8576b\"],[0.6666666666666666,\"#ed7953\"],[0.7777777777777778,\"#fb9f3a\"],[0.8888888888888888,\"#fdca26\"],[1.0,\"#f0f921\"]]}],\"heatmap\":[{\"type\":\"heatmap\",\"colorbar\":{\"outlinewidth\":0,\"ticks\":\"\"},\"colorscale\":[[0.0,\"#0d0887\"],[0.1111111111111111,\"#46039f\"],[0.2222222222222222,\"#7201a8\"],[0.3333333333333333,\"#9c179e\"],[0.4444444444444444,\"#bd3786\"],[0.5555555555555556,\"#d8576b\"],[0.6666666666666666,\"#ed7953\"],[0.7777777777777778,\"#fb9f3a\"],[0.8888888888888888,\"#fdca26\"],[1.0,\"#f0f921\"]]}],\"heatmapgl\":[{\"type\":\"heatmapgl\",\"colorbar\":{\"outlinewidth\":0,\"ticks\":\"\"},\"colorscale\":[[0.0,\"#0d0887\"],[0.1111111111111111,\"#46039f\"],[0.2222222222222222,\"#7201a8\"],[0.3333333333333333,\"#9c179e\"],[0.4444444444444444,\"#bd3786\"],[0.5555555555555556,\"#d8576b\"],[0.6666666666666666,\"#ed7953\"],[0.7777777777777778,\"#fb9f3a\"],[0.8888888888888888,\"#fdca26\"],[1.0,\"#f0f921\"]]}],\"contourcarpet\":[{\"type\":\"contourcarpet\",\"colorbar\":{\"outlinewidth\":0,\"ticks\":\"\"}}],\"contour\":[{\"type\":\"contour\",\"colorbar\":{\"outlinewidth\":0,\"ticks\":\"\"},\"colorscale\":[[0.0,\"#0d0887\"],[0.1111111111111111,\"#46039f\"],[0.2222222222222222,\"#7201a8\"],[0.3333333333333333,\"#9c179e\"],[0.4444444444444444,\"#bd3786\"],[0.5555555555555556,\"#d8576b\"],[0.6666666666666666,\"#ed7953\"],[0.7777777777777778,\"#fb9f3a\"],[0.8888888888888888,\"#fdca26\"],[1.0,\"#f0f921\"]]}],\"surface\":[{\"type\":\"surface\",\"colorbar\":{\"outlinewidth\":0,\"ticks\":\"\"},\"colorscale\":[[0.0,\"#0d0887\"],[0.1111111111111111,\"#46039f\"],[0.2222222222222222,\"#7201a8\"],[0.3333333333333333,\"#9c179e\"],[0.4444444444444444,\"#bd3786\"],[0.5555555555555556,\"#d8576b\"],[0.6666666666666666,\"#ed7953\"],[0.7777777777777778,\"#fb9f3a\"],[0.8888888888888888,\"#fdca26\"],[1.0,\"#f0f921\"]]}],\"mesh3d\":[{\"type\":\"mesh3d\",\"colorbar\":{\"outlinewidth\":0,\"ticks\":\"\"}}],\"scatter\":[{\"marker\":{\"line\":{\"color\":\"#283442\"}},\"type\":\"scatter\"}],\"parcoords\":[{\"type\":\"parcoords\",\"line\":{\"colorbar\":{\"outlinewidth\":0,\"ticks\":\"\"}}}],\"scatterpolargl\":[{\"type\":\"scatterpolargl\",\"marker\":{\"colorbar\":{\"outlinewidth\":0,\"ticks\":\"\"}}}],\"bar\":[{\"error_x\":{\"color\":\"#f2f5fa\"},\"error_y\":{\"color\":\"#f2f5fa\"},\"marker\":{\"line\":{\"color\":\"rgb(17,17,17)\",\"width\":0.5},\"pattern\":{\"fillmode\":\"overlay\",\"size\":10,\"solidity\":0.2}},\"type\":\"bar\"}],\"scattergeo\":[{\"type\":\"scattergeo\",\"marker\":{\"colorbar\":{\"outlinewidth\":0,\"ticks\":\"\"}}}],\"scatterpolar\":[{\"type\":\"scatterpolar\",\"marker\":{\"colorbar\":{\"outlinewidth\":0,\"ticks\":\"\"}}}],\"histogram\":[{\"marker\":{\"pattern\":{\"fillmode\":\"overlay\",\"size\":10,\"solidity\":0.2}},\"type\":\"histogram\"}],\"scattergl\":[{\"marker\":{\"line\":{\"color\":\"#283442\"}},\"type\":\"scattergl\"}],\"scatter3d\":[{\"type\":\"scatter3d\",\"line\":{\"colorbar\":{\"outlinewidth\":0,\"ticks\":\"\"}},\"marker\":{\"colorbar\":{\"outlinewidth\":0,\"ticks\":\"\"}}}],\"scattermapbox\":[{\"type\":\"scattermapbox\",\"marker\":{\"colorbar\":{\"outlinewidth\":0,\"ticks\":\"\"}}}],\"scatterternary\":[{\"type\":\"scatterternary\",\"marker\":{\"colorbar\":{\"outlinewidth\":0,\"ticks\":\"\"}}}],\"scattercarpet\":[{\"type\":\"scattercarpet\",\"marker\":{\"colorbar\":{\"outlinewidth\":0,\"ticks\":\"\"}}}],\"carpet\":[{\"aaxis\":{\"endlinecolor\":\"#A2B1C6\",\"gridcolor\":\"#506784\",\"linecolor\":\"#506784\",\"minorgridcolor\":\"#506784\",\"startlinecolor\":\"#A2B1C6\"},\"baxis\":{\"endlinecolor\":\"#A2B1C6\",\"gridcolor\":\"#506784\",\"linecolor\":\"#506784\",\"minorgridcolor\":\"#506784\",\"startlinecolor\":\"#A2B1C6\"},\"type\":\"carpet\"}],\"table\":[{\"cells\":{\"fill\":{\"color\":\"#506784\"},\"line\":{\"color\":\"rgb(17,17,17)\"}},\"header\":{\"fill\":{\"color\":\"#2a3f5f\"},\"line\":{\"color\":\"rgb(17,17,17)\"}},\"type\":\"table\"}],\"barpolar\":[{\"marker\":{\"line\":{\"color\":\"rgb(17,17,17)\",\"width\":0.5},\"pattern\":{\"fillmode\":\"overlay\",\"size\":10,\"solidity\":0.2}},\"type\":\"barpolar\"}],\"pie\":[{\"automargin\":true,\"type\":\"pie\"}]},\"layout\":{\"autotypenumbers\":\"strict\",\"colorway\":[\"#636efa\",\"#EF553B\",\"#00cc96\",\"#ab63fa\",\"#FFA15A\",\"#19d3f3\",\"#FF6692\",\"#B6E880\",\"#FF97FF\",\"#FECB52\"],\"font\":{\"color\":\"#f2f5fa\"},\"hovermode\":\"closest\",\"hoverlabel\":{\"align\":\"left\"},\"paper_bgcolor\":\"rgb(17,17,17)\",\"plot_bgcolor\":\"rgb(17,17,17)\",\"polar\":{\"bgcolor\":\"rgb(17,17,17)\",\"angularaxis\":{\"gridcolor\":\"#506784\",\"linecolor\":\"#506784\",\"ticks\":\"\"},\"radialaxis\":{\"gridcolor\":\"#506784\",\"linecolor\":\"#506784\",\"ticks\":\"\"}},\"ternary\":{\"bgcolor\":\"rgb(17,17,17)\",\"aaxis\":{\"gridcolor\":\"#506784\",\"linecolor\":\"#506784\",\"ticks\":\"\"},\"baxis\":{\"gridcolor\":\"#506784\",\"linecolor\":\"#506784\",\"ticks\":\"\"},\"caxis\":{\"gridcolor\":\"#506784\",\"linecolor\":\"#506784\",\"ticks\":\"\"}},\"coloraxis\":{\"colorbar\":{\"outlinewidth\":0,\"ticks\":\"\"}},\"colorscale\":{\"sequential\":[[0.0,\"#0d0887\"],[0.1111111111111111,\"#46039f\"],[0.2222222222222222,\"#7201a8\"],[0.3333333333333333,\"#9c179e\"],[0.4444444444444444,\"#bd3786\"],[0.5555555555555556,\"#d8576b\"],[0.6666666666666666,\"#ed7953\"],[0.7777777777777778,\"#fb9f3a\"],[0.8888888888888888,\"#fdca26\"],[1.0,\"#f0f921\"]],\"sequentialminus\":[[0.0,\"#0d0887\"],[0.1111111111111111,\"#46039f\"],[0.2222222222222222,\"#7201a8\"],[0.3333333333333333,\"#9c179e\"],[0.4444444444444444,\"#bd3786\"],[0.5555555555555556,\"#d8576b\"],[0.6666666666666666,\"#ed7953\"],[0.7777777777777778,\"#fb9f3a\"],[0.8888888888888888,\"#fdca26\"],[1.0,\"#f0f921\"]],\"diverging\":[[0,\"#8e0152\"],[0.1,\"#c51b7d\"],[0.2,\"#de77ae\"],[0.3,\"#f1b6da\"],[0.4,\"#fde0ef\"],[0.5,\"#f7f7f7\"],[0.6,\"#e6f5d0\"],[0.7,\"#b8e186\"],[0.8,\"#7fbc41\"],[0.9,\"#4d9221\"],[1,\"#276419\"]]},\"xaxis\":{\"gridcolor\":\"#283442\",\"linecolor\":\"#506784\",\"ticks\":\"\",\"title\":{\"standoff\":15},\"zerolinecolor\":\"#283442\",\"automargin\":true,\"zerolinewidth\":2},\"yaxis\":{\"gridcolor\":\"#283442\",\"linecolor\":\"#506784\",\"ticks\":\"\",\"title\":{\"standoff\":15},\"zerolinecolor\":\"#283442\",\"automargin\":true,\"zerolinewidth\":2},\"scene\":{\"xaxis\":{\"backgroundcolor\":\"rgb(17,17,17)\",\"gridcolor\":\"#506784\",\"linecolor\":\"#506784\",\"showbackground\":true,\"ticks\":\"\",\"zerolinecolor\":\"#C8D4E3\",\"gridwidth\":2},\"yaxis\":{\"backgroundcolor\":\"rgb(17,17,17)\",\"gridcolor\":\"#506784\",\"linecolor\":\"#506784\",\"showbackground\":true,\"ticks\":\"\",\"zerolinecolor\":\"#C8D4E3\",\"gridwidth\":2},\"zaxis\":{\"backgroundcolor\":\"rgb(17,17,17)\",\"gridcolor\":\"#506784\",\"linecolor\":\"#506784\",\"showbackground\":true,\"ticks\":\"\",\"zerolinecolor\":\"#C8D4E3\",\"gridwidth\":2}},\"shapedefaults\":{\"line\":{\"color\":\"#f2f5fa\"}},\"annotationdefaults\":{\"arrowcolor\":\"#f2f5fa\",\"arrowhead\":0,\"arrowwidth\":1},\"geo\":{\"bgcolor\":\"rgb(17,17,17)\",\"landcolor\":\"rgb(17,17,17)\",\"subunitcolor\":\"#506784\",\"showland\":true,\"showlakes\":true,\"lakecolor\":\"rgb(17,17,17)\"},\"title\":{\"x\":0.05},\"updatemenudefaults\":{\"bgcolor\":\"#506784\",\"borderwidth\":0},\"sliderdefaults\":{\"bgcolor\":\"#C8D4E3\",\"borderwidth\":1,\"bordercolor\":\"rgb(17,17,17)\",\"tickwidth\":0},\"mapbox\":{\"style\":\"dark\"}}},\"title\":{\"text\":\"Error Ratio\"},\"xaxis\":{\"title\":{\"text\":\"Labels\"}},\"yaxis\":{\"title\":{\"text\":\"Error\"}}},                        {\"responsive\": true}                    ).then(function(){\n",
       "                            \n",
       "var gd = document.getElementById('0258042c-9c0b-47b7-80f5-ab898489c62a');\n",
       "var x = new MutationObserver(function (mutations, observer) {{\n",
       "        var display = window.getComputedStyle(gd).display;\n",
       "        if (!display || display === 'none') {{\n",
       "            console.log([gd, 'removed!']);\n",
       "            Plotly.purge(gd);\n",
       "            observer.disconnect();\n",
       "        }}\n",
       "}});\n",
       "\n",
       "// Listen for the removal of the full notebook cells\n",
       "var notebookContainer = gd.closest('#notebook-container');\n",
       "if (notebookContainer) {{\n",
       "    x.observe(notebookContainer, {childList: true});\n",
       "}}\n",
       "\n",
       "// Listen for the clearing of the current output cell\n",
       "var outputEl = gd.closest('.output');\n",
       "if (outputEl) {{\n",
       "    x.observe(outputEl, {childList: true});\n",
       "}}\n",
       "\n",
       "                        })                };                });            </script>        </div>"
      ]
     },
     "metadata": {},
     "output_type": "display_data"
    }
   ],
   "execution_count": 96
  },
  {
   "cell_type": "code",
   "id": "daafd12053f1a968",
   "metadata": {
    "ExecuteTime": {
     "end_time": "2024-09-01T09:05:50.567135Z",
     "start_time": "2024-09-01T09:05:50.547895Z"
    }
   },
   "source": [
    "\n",
    "inputs=[1, 2, 3, 2.5]\n",
    "\n",
    "weights1 = [0.2, 0.8, -0.5, 1] \n",
    "weights2 = [0.5, -0.91, 0.26, -0.5] \n",
    "weights3 = [-0.26, -0.27, 0.17, 0.87]\n",
    "\n",
    "bias1 = 2 \n",
    "bias2 = 3 \n",
    "bias3 = 0.5\n",
    "\n",
    "# calculate the weighted sum of inputs and add the bias for three neurons.\n",
    "outputs = np.array([\n",
    "    # Neuron 1:\n",
    "    inputs[0]*weights1[0] + inputs[1]*weights1[1] + inputs[2]*weights1[2] + inputs[3]*weights1[3] + bias1,\n",
    "    # Neuron 2: \n",
    "    inputs[0]*weights2[0] + inputs[1]*weights2[1] + inputs[2]*weights2[2] + inputs[3]*weights2[3] + bias2,\n",
    "    # Neuron 3: \n",
    "    inputs[0]*weights3[0] + inputs[1]*weights3[1] + inputs[2]*weights3[2] + inputs[3]*weights3[3] + bias3\n",
    "    ])\n",
    "log.debug(f\"Outputs: \\n{outputs}\")  # [4.8, 1.21, 2.385]\n",
    "\n",
    "# apply the activation function and get the predictions\n",
    "predictions = sigmoid(outputs)\n",
    "log.debug(f\"Predictions: \\n{predictions}\")  # [0.99194602, 0.77015115, 0.9158585]\n",
    "\n",
    "# Error ratio is the difference between the prediction and the actual value\n",
    "error_ratio = 1 - predictions\n",
    "log.debug(f\"Error Ratio: \\n{error_ratio}\")  # [0.00816257 0.22970105 0.0843237 ]"
   ],
   "outputs": [
    {
     "name": "stderr",
     "output_type": "stream",
     "text": [
      "\u001B[36m[2024-09-01 05:05:50][DEBUG][root][20]: \n",
      "Outputs: \n",
      "[4.8   1.21  2.385]\u001B[0m\n",
      "\u001B[36m[2024-09-01 05:05:50][DEBUG][root][24]: \n",
      "Predictions: \n",
      "[0.99183743 0.77029895 0.9156763 ]\u001B[0m\n",
      "\u001B[36m[2024-09-01 05:05:50][DEBUG][root][28]: \n",
      "Error Ratio: \n",
      "[0.00816257 0.22970105 0.0843237 ]\u001B[0m\n"
     ]
    }
   ],
   "execution_count": 97
  },
  {
   "cell_type": "code",
   "id": "928427f075750b66",
   "metadata": {
    "ExecuteTime": {
     "end_time": "2024-09-01T09:05:50.684037Z",
     "start_time": "2024-09-01T09:05:50.661081Z"
    }
   },
   "source": [
    "# Graph the error on a line plot\n",
    "from plotly import graph_objects as go\n",
    "\n",
    "fig = go.Figure()\n",
    "fig.add_trace(\n",
    "    go.Scatter(\n",
    "        x=predictions, y=error_ratio, mode='lines+markers', \n",
    "    xaxis='x', yaxis='y', name='Outputs'\n",
    "    ))\n",
    "fig.update_layout(title='Error Ratio vs Predictions', xaxis_title='Predictions', yaxis_title='Error Ratio')\n",
    "fig.show()"
   ],
   "outputs": [
    {
     "data": {
      "application/vnd.plotly.v1+json": {
       "data": [
        {
         "mode": "lines+markers",
         "name": "Outputs",
         "x": [
          0.9918374288468401,
          0.7702989490466019,
          0.9156763035785255
         ],
         "xaxis": "x",
         "y": [
          0.008162571153159881,
          0.2297010509533981,
          0.08432369642147453
         ],
         "yaxis": "y",
         "type": "scatter"
        }
       ],
       "layout": {
        "template": {
         "data": {
          "histogram2dcontour": [
           {
            "type": "histogram2dcontour",
            "colorbar": {
             "outlinewidth": 0,
             "ticks": ""
            },
            "colorscale": [
             [
              0.0,
              "#0d0887"
             ],
             [
              0.1111111111111111,
              "#46039f"
             ],
             [
              0.2222222222222222,
              "#7201a8"
             ],
             [
              0.3333333333333333,
              "#9c179e"
             ],
             [
              0.4444444444444444,
              "#bd3786"
             ],
             [
              0.5555555555555556,
              "#d8576b"
             ],
             [
              0.6666666666666666,
              "#ed7953"
             ],
             [
              0.7777777777777778,
              "#fb9f3a"
             ],
             [
              0.8888888888888888,
              "#fdca26"
             ],
             [
              1.0,
              "#f0f921"
             ]
            ]
           }
          ],
          "choropleth": [
           {
            "type": "choropleth",
            "colorbar": {
             "outlinewidth": 0,
             "ticks": ""
            }
           }
          ],
          "histogram2d": [
           {
            "type": "histogram2d",
            "colorbar": {
             "outlinewidth": 0,
             "ticks": ""
            },
            "colorscale": [
             [
              0.0,
              "#0d0887"
             ],
             [
              0.1111111111111111,
              "#46039f"
             ],
             [
              0.2222222222222222,
              "#7201a8"
             ],
             [
              0.3333333333333333,
              "#9c179e"
             ],
             [
              0.4444444444444444,
              "#bd3786"
             ],
             [
              0.5555555555555556,
              "#d8576b"
             ],
             [
              0.6666666666666666,
              "#ed7953"
             ],
             [
              0.7777777777777778,
              "#fb9f3a"
             ],
             [
              0.8888888888888888,
              "#fdca26"
             ],
             [
              1.0,
              "#f0f921"
             ]
            ]
           }
          ],
          "heatmap": [
           {
            "type": "heatmap",
            "colorbar": {
             "outlinewidth": 0,
             "ticks": ""
            },
            "colorscale": [
             [
              0.0,
              "#0d0887"
             ],
             [
              0.1111111111111111,
              "#46039f"
             ],
             [
              0.2222222222222222,
              "#7201a8"
             ],
             [
              0.3333333333333333,
              "#9c179e"
             ],
             [
              0.4444444444444444,
              "#bd3786"
             ],
             [
              0.5555555555555556,
              "#d8576b"
             ],
             [
              0.6666666666666666,
              "#ed7953"
             ],
             [
              0.7777777777777778,
              "#fb9f3a"
             ],
             [
              0.8888888888888888,
              "#fdca26"
             ],
             [
              1.0,
              "#f0f921"
             ]
            ]
           }
          ],
          "heatmapgl": [
           {
            "type": "heatmapgl",
            "colorbar": {
             "outlinewidth": 0,
             "ticks": ""
            },
            "colorscale": [
             [
              0.0,
              "#0d0887"
             ],
             [
              0.1111111111111111,
              "#46039f"
             ],
             [
              0.2222222222222222,
              "#7201a8"
             ],
             [
              0.3333333333333333,
              "#9c179e"
             ],
             [
              0.4444444444444444,
              "#bd3786"
             ],
             [
              0.5555555555555556,
              "#d8576b"
             ],
             [
              0.6666666666666666,
              "#ed7953"
             ],
             [
              0.7777777777777778,
              "#fb9f3a"
             ],
             [
              0.8888888888888888,
              "#fdca26"
             ],
             [
              1.0,
              "#f0f921"
             ]
            ]
           }
          ],
          "contourcarpet": [
           {
            "type": "contourcarpet",
            "colorbar": {
             "outlinewidth": 0,
             "ticks": ""
            }
           }
          ],
          "contour": [
           {
            "type": "contour",
            "colorbar": {
             "outlinewidth": 0,
             "ticks": ""
            },
            "colorscale": [
             [
              0.0,
              "#0d0887"
             ],
             [
              0.1111111111111111,
              "#46039f"
             ],
             [
              0.2222222222222222,
              "#7201a8"
             ],
             [
              0.3333333333333333,
              "#9c179e"
             ],
             [
              0.4444444444444444,
              "#bd3786"
             ],
             [
              0.5555555555555556,
              "#d8576b"
             ],
             [
              0.6666666666666666,
              "#ed7953"
             ],
             [
              0.7777777777777778,
              "#fb9f3a"
             ],
             [
              0.8888888888888888,
              "#fdca26"
             ],
             [
              1.0,
              "#f0f921"
             ]
            ]
           }
          ],
          "surface": [
           {
            "type": "surface",
            "colorbar": {
             "outlinewidth": 0,
             "ticks": ""
            },
            "colorscale": [
             [
              0.0,
              "#0d0887"
             ],
             [
              0.1111111111111111,
              "#46039f"
             ],
             [
              0.2222222222222222,
              "#7201a8"
             ],
             [
              0.3333333333333333,
              "#9c179e"
             ],
             [
              0.4444444444444444,
              "#bd3786"
             ],
             [
              0.5555555555555556,
              "#d8576b"
             ],
             [
              0.6666666666666666,
              "#ed7953"
             ],
             [
              0.7777777777777778,
              "#fb9f3a"
             ],
             [
              0.8888888888888888,
              "#fdca26"
             ],
             [
              1.0,
              "#f0f921"
             ]
            ]
           }
          ],
          "mesh3d": [
           {
            "type": "mesh3d",
            "colorbar": {
             "outlinewidth": 0,
             "ticks": ""
            }
           }
          ],
          "scatter": [
           {
            "marker": {
             "line": {
              "color": "#283442"
             }
            },
            "type": "scatter"
           }
          ],
          "parcoords": [
           {
            "type": "parcoords",
            "line": {
             "colorbar": {
              "outlinewidth": 0,
              "ticks": ""
             }
            }
           }
          ],
          "scatterpolargl": [
           {
            "type": "scatterpolargl",
            "marker": {
             "colorbar": {
              "outlinewidth": 0,
              "ticks": ""
             }
            }
           }
          ],
          "bar": [
           {
            "error_x": {
             "color": "#f2f5fa"
            },
            "error_y": {
             "color": "#f2f5fa"
            },
            "marker": {
             "line": {
              "color": "rgb(17,17,17)",
              "width": 0.5
             },
             "pattern": {
              "fillmode": "overlay",
              "size": 10,
              "solidity": 0.2
             }
            },
            "type": "bar"
           }
          ],
          "scattergeo": [
           {
            "type": "scattergeo",
            "marker": {
             "colorbar": {
              "outlinewidth": 0,
              "ticks": ""
             }
            }
           }
          ],
          "scatterpolar": [
           {
            "type": "scatterpolar",
            "marker": {
             "colorbar": {
              "outlinewidth": 0,
              "ticks": ""
             }
            }
           }
          ],
          "histogram": [
           {
            "marker": {
             "pattern": {
              "fillmode": "overlay",
              "size": 10,
              "solidity": 0.2
             }
            },
            "type": "histogram"
           }
          ],
          "scattergl": [
           {
            "marker": {
             "line": {
              "color": "#283442"
             }
            },
            "type": "scattergl"
           }
          ],
          "scatter3d": [
           {
            "type": "scatter3d",
            "line": {
             "colorbar": {
              "outlinewidth": 0,
              "ticks": ""
             }
            },
            "marker": {
             "colorbar": {
              "outlinewidth": 0,
              "ticks": ""
             }
            }
           }
          ],
          "scattermapbox": [
           {
            "type": "scattermapbox",
            "marker": {
             "colorbar": {
              "outlinewidth": 0,
              "ticks": ""
             }
            }
           }
          ],
          "scatterternary": [
           {
            "type": "scatterternary",
            "marker": {
             "colorbar": {
              "outlinewidth": 0,
              "ticks": ""
             }
            }
           }
          ],
          "scattercarpet": [
           {
            "type": "scattercarpet",
            "marker": {
             "colorbar": {
              "outlinewidth": 0,
              "ticks": ""
             }
            }
           }
          ],
          "carpet": [
           {
            "aaxis": {
             "endlinecolor": "#A2B1C6",
             "gridcolor": "#506784",
             "linecolor": "#506784",
             "minorgridcolor": "#506784",
             "startlinecolor": "#A2B1C6"
            },
            "baxis": {
             "endlinecolor": "#A2B1C6",
             "gridcolor": "#506784",
             "linecolor": "#506784",
             "minorgridcolor": "#506784",
             "startlinecolor": "#A2B1C6"
            },
            "type": "carpet"
           }
          ],
          "table": [
           {
            "cells": {
             "fill": {
              "color": "#506784"
             },
             "line": {
              "color": "rgb(17,17,17)"
             }
            },
            "header": {
             "fill": {
              "color": "#2a3f5f"
             },
             "line": {
              "color": "rgb(17,17,17)"
             }
            },
            "type": "table"
           }
          ],
          "barpolar": [
           {
            "marker": {
             "line": {
              "color": "rgb(17,17,17)",
              "width": 0.5
             },
             "pattern": {
              "fillmode": "overlay",
              "size": 10,
              "solidity": 0.2
             }
            },
            "type": "barpolar"
           }
          ],
          "pie": [
           {
            "automargin": true,
            "type": "pie"
           }
          ]
         },
         "layout": {
          "autotypenumbers": "strict",
          "colorway": [
           "#636efa",
           "#EF553B",
           "#00cc96",
           "#ab63fa",
           "#FFA15A",
           "#19d3f3",
           "#FF6692",
           "#B6E880",
           "#FF97FF",
           "#FECB52"
          ],
          "font": {
           "color": "#f2f5fa"
          },
          "hovermode": "closest",
          "hoverlabel": {
           "align": "left"
          },
          "paper_bgcolor": "rgb(17,17,17)",
          "plot_bgcolor": "rgb(17,17,17)",
          "polar": {
           "bgcolor": "rgb(17,17,17)",
           "angularaxis": {
            "gridcolor": "#506784",
            "linecolor": "#506784",
            "ticks": ""
           },
           "radialaxis": {
            "gridcolor": "#506784",
            "linecolor": "#506784",
            "ticks": ""
           }
          },
          "ternary": {
           "bgcolor": "rgb(17,17,17)",
           "aaxis": {
            "gridcolor": "#506784",
            "linecolor": "#506784",
            "ticks": ""
           },
           "baxis": {
            "gridcolor": "#506784",
            "linecolor": "#506784",
            "ticks": ""
           },
           "caxis": {
            "gridcolor": "#506784",
            "linecolor": "#506784",
            "ticks": ""
           }
          },
          "coloraxis": {
           "colorbar": {
            "outlinewidth": 0,
            "ticks": ""
           }
          },
          "colorscale": {
           "sequential": [
            [
             0.0,
             "#0d0887"
            ],
            [
             0.1111111111111111,
             "#46039f"
            ],
            [
             0.2222222222222222,
             "#7201a8"
            ],
            [
             0.3333333333333333,
             "#9c179e"
            ],
            [
             0.4444444444444444,
             "#bd3786"
            ],
            [
             0.5555555555555556,
             "#d8576b"
            ],
            [
             0.6666666666666666,
             "#ed7953"
            ],
            [
             0.7777777777777778,
             "#fb9f3a"
            ],
            [
             0.8888888888888888,
             "#fdca26"
            ],
            [
             1.0,
             "#f0f921"
            ]
           ],
           "sequentialminus": [
            [
             0.0,
             "#0d0887"
            ],
            [
             0.1111111111111111,
             "#46039f"
            ],
            [
             0.2222222222222222,
             "#7201a8"
            ],
            [
             0.3333333333333333,
             "#9c179e"
            ],
            [
             0.4444444444444444,
             "#bd3786"
            ],
            [
             0.5555555555555556,
             "#d8576b"
            ],
            [
             0.6666666666666666,
             "#ed7953"
            ],
            [
             0.7777777777777778,
             "#fb9f3a"
            ],
            [
             0.8888888888888888,
             "#fdca26"
            ],
            [
             1.0,
             "#f0f921"
            ]
           ],
           "diverging": [
            [
             0,
             "#8e0152"
            ],
            [
             0.1,
             "#c51b7d"
            ],
            [
             0.2,
             "#de77ae"
            ],
            [
             0.3,
             "#f1b6da"
            ],
            [
             0.4,
             "#fde0ef"
            ],
            [
             0.5,
             "#f7f7f7"
            ],
            [
             0.6,
             "#e6f5d0"
            ],
            [
             0.7,
             "#b8e186"
            ],
            [
             0.8,
             "#7fbc41"
            ],
            [
             0.9,
             "#4d9221"
            ],
            [
             1,
             "#276419"
            ]
           ]
          },
          "xaxis": {
           "gridcolor": "#283442",
           "linecolor": "#506784",
           "ticks": "",
           "title": {
            "standoff": 15
           },
           "zerolinecolor": "#283442",
           "automargin": true,
           "zerolinewidth": 2
          },
          "yaxis": {
           "gridcolor": "#283442",
           "linecolor": "#506784",
           "ticks": "",
           "title": {
            "standoff": 15
           },
           "zerolinecolor": "#283442",
           "automargin": true,
           "zerolinewidth": 2
          },
          "scene": {
           "xaxis": {
            "backgroundcolor": "rgb(17,17,17)",
            "gridcolor": "#506784",
            "linecolor": "#506784",
            "showbackground": true,
            "ticks": "",
            "zerolinecolor": "#C8D4E3",
            "gridwidth": 2
           },
           "yaxis": {
            "backgroundcolor": "rgb(17,17,17)",
            "gridcolor": "#506784",
            "linecolor": "#506784",
            "showbackground": true,
            "ticks": "",
            "zerolinecolor": "#C8D4E3",
            "gridwidth": 2
           },
           "zaxis": {
            "backgroundcolor": "rgb(17,17,17)",
            "gridcolor": "#506784",
            "linecolor": "#506784",
            "showbackground": true,
            "ticks": "",
            "zerolinecolor": "#C8D4E3",
            "gridwidth": 2
           }
          },
          "shapedefaults": {
           "line": {
            "color": "#f2f5fa"
           }
          },
          "annotationdefaults": {
           "arrowcolor": "#f2f5fa",
           "arrowhead": 0,
           "arrowwidth": 1
          },
          "geo": {
           "bgcolor": "rgb(17,17,17)",
           "landcolor": "rgb(17,17,17)",
           "subunitcolor": "#506784",
           "showland": true,
           "showlakes": true,
           "lakecolor": "rgb(17,17,17)"
          },
          "title": {
           "x": 0.05
          },
          "updatemenudefaults": {
           "bgcolor": "#506784",
           "borderwidth": 0
          },
          "sliderdefaults": {
           "bgcolor": "#C8D4E3",
           "borderwidth": 1,
           "bordercolor": "rgb(17,17,17)",
           "tickwidth": 0
          },
          "mapbox": {
           "style": "dark"
          }
         }
        },
        "title": {
         "text": "Error Ratio vs Predictions"
        },
        "xaxis": {
         "title": {
          "text": "Predictions"
         }
        },
        "yaxis": {
         "title": {
          "text": "Error Ratio"
         }
        }
       },
       "config": {
        "plotlyServerURL": "https://plot.ly"
       }
      },
      "text/html": [
       "<div>                            <div id=\"c9a82831-2b82-4230-84fb-c6c4c3722778\" class=\"plotly-graph-div\" style=\"height:525px; width:100%;\"></div>            <script type=\"text/javascript\">                require([\"plotly\"], function(Plotly) {                    window.PLOTLYENV=window.PLOTLYENV || {};                                    if (document.getElementById(\"c9a82831-2b82-4230-84fb-c6c4c3722778\")) {                    Plotly.newPlot(                        \"c9a82831-2b82-4230-84fb-c6c4c3722778\",                        [{\"mode\":\"lines+markers\",\"name\":\"Outputs\",\"x\":[0.9918374288468401,0.7702989490466019,0.9156763035785255],\"xaxis\":\"x\",\"y\":[0.008162571153159881,0.2297010509533981,0.08432369642147453],\"yaxis\":\"y\",\"type\":\"scatter\"}],                        {\"template\":{\"data\":{\"histogram2dcontour\":[{\"type\":\"histogram2dcontour\",\"colorbar\":{\"outlinewidth\":0,\"ticks\":\"\"},\"colorscale\":[[0.0,\"#0d0887\"],[0.1111111111111111,\"#46039f\"],[0.2222222222222222,\"#7201a8\"],[0.3333333333333333,\"#9c179e\"],[0.4444444444444444,\"#bd3786\"],[0.5555555555555556,\"#d8576b\"],[0.6666666666666666,\"#ed7953\"],[0.7777777777777778,\"#fb9f3a\"],[0.8888888888888888,\"#fdca26\"],[1.0,\"#f0f921\"]]}],\"choropleth\":[{\"type\":\"choropleth\",\"colorbar\":{\"outlinewidth\":0,\"ticks\":\"\"}}],\"histogram2d\":[{\"type\":\"histogram2d\",\"colorbar\":{\"outlinewidth\":0,\"ticks\":\"\"},\"colorscale\":[[0.0,\"#0d0887\"],[0.1111111111111111,\"#46039f\"],[0.2222222222222222,\"#7201a8\"],[0.3333333333333333,\"#9c179e\"],[0.4444444444444444,\"#bd3786\"],[0.5555555555555556,\"#d8576b\"],[0.6666666666666666,\"#ed7953\"],[0.7777777777777778,\"#fb9f3a\"],[0.8888888888888888,\"#fdca26\"],[1.0,\"#f0f921\"]]}],\"heatmap\":[{\"type\":\"heatmap\",\"colorbar\":{\"outlinewidth\":0,\"ticks\":\"\"},\"colorscale\":[[0.0,\"#0d0887\"],[0.1111111111111111,\"#46039f\"],[0.2222222222222222,\"#7201a8\"],[0.3333333333333333,\"#9c179e\"],[0.4444444444444444,\"#bd3786\"],[0.5555555555555556,\"#d8576b\"],[0.6666666666666666,\"#ed7953\"],[0.7777777777777778,\"#fb9f3a\"],[0.8888888888888888,\"#fdca26\"],[1.0,\"#f0f921\"]]}],\"heatmapgl\":[{\"type\":\"heatmapgl\",\"colorbar\":{\"outlinewidth\":0,\"ticks\":\"\"},\"colorscale\":[[0.0,\"#0d0887\"],[0.1111111111111111,\"#46039f\"],[0.2222222222222222,\"#7201a8\"],[0.3333333333333333,\"#9c179e\"],[0.4444444444444444,\"#bd3786\"],[0.5555555555555556,\"#d8576b\"],[0.6666666666666666,\"#ed7953\"],[0.7777777777777778,\"#fb9f3a\"],[0.8888888888888888,\"#fdca26\"],[1.0,\"#f0f921\"]]}],\"contourcarpet\":[{\"type\":\"contourcarpet\",\"colorbar\":{\"outlinewidth\":0,\"ticks\":\"\"}}],\"contour\":[{\"type\":\"contour\",\"colorbar\":{\"outlinewidth\":0,\"ticks\":\"\"},\"colorscale\":[[0.0,\"#0d0887\"],[0.1111111111111111,\"#46039f\"],[0.2222222222222222,\"#7201a8\"],[0.3333333333333333,\"#9c179e\"],[0.4444444444444444,\"#bd3786\"],[0.5555555555555556,\"#d8576b\"],[0.6666666666666666,\"#ed7953\"],[0.7777777777777778,\"#fb9f3a\"],[0.8888888888888888,\"#fdca26\"],[1.0,\"#f0f921\"]]}],\"surface\":[{\"type\":\"surface\",\"colorbar\":{\"outlinewidth\":0,\"ticks\":\"\"},\"colorscale\":[[0.0,\"#0d0887\"],[0.1111111111111111,\"#46039f\"],[0.2222222222222222,\"#7201a8\"],[0.3333333333333333,\"#9c179e\"],[0.4444444444444444,\"#bd3786\"],[0.5555555555555556,\"#d8576b\"],[0.6666666666666666,\"#ed7953\"],[0.7777777777777778,\"#fb9f3a\"],[0.8888888888888888,\"#fdca26\"],[1.0,\"#f0f921\"]]}],\"mesh3d\":[{\"type\":\"mesh3d\",\"colorbar\":{\"outlinewidth\":0,\"ticks\":\"\"}}],\"scatter\":[{\"marker\":{\"line\":{\"color\":\"#283442\"}},\"type\":\"scatter\"}],\"parcoords\":[{\"type\":\"parcoords\",\"line\":{\"colorbar\":{\"outlinewidth\":0,\"ticks\":\"\"}}}],\"scatterpolargl\":[{\"type\":\"scatterpolargl\",\"marker\":{\"colorbar\":{\"outlinewidth\":0,\"ticks\":\"\"}}}],\"bar\":[{\"error_x\":{\"color\":\"#f2f5fa\"},\"error_y\":{\"color\":\"#f2f5fa\"},\"marker\":{\"line\":{\"color\":\"rgb(17,17,17)\",\"width\":0.5},\"pattern\":{\"fillmode\":\"overlay\",\"size\":10,\"solidity\":0.2}},\"type\":\"bar\"}],\"scattergeo\":[{\"type\":\"scattergeo\",\"marker\":{\"colorbar\":{\"outlinewidth\":0,\"ticks\":\"\"}}}],\"scatterpolar\":[{\"type\":\"scatterpolar\",\"marker\":{\"colorbar\":{\"outlinewidth\":0,\"ticks\":\"\"}}}],\"histogram\":[{\"marker\":{\"pattern\":{\"fillmode\":\"overlay\",\"size\":10,\"solidity\":0.2}},\"type\":\"histogram\"}],\"scattergl\":[{\"marker\":{\"line\":{\"color\":\"#283442\"}},\"type\":\"scattergl\"}],\"scatter3d\":[{\"type\":\"scatter3d\",\"line\":{\"colorbar\":{\"outlinewidth\":0,\"ticks\":\"\"}},\"marker\":{\"colorbar\":{\"outlinewidth\":0,\"ticks\":\"\"}}}],\"scattermapbox\":[{\"type\":\"scattermapbox\",\"marker\":{\"colorbar\":{\"outlinewidth\":0,\"ticks\":\"\"}}}],\"scatterternary\":[{\"type\":\"scatterternary\",\"marker\":{\"colorbar\":{\"outlinewidth\":0,\"ticks\":\"\"}}}],\"scattercarpet\":[{\"type\":\"scattercarpet\",\"marker\":{\"colorbar\":{\"outlinewidth\":0,\"ticks\":\"\"}}}],\"carpet\":[{\"aaxis\":{\"endlinecolor\":\"#A2B1C6\",\"gridcolor\":\"#506784\",\"linecolor\":\"#506784\",\"minorgridcolor\":\"#506784\",\"startlinecolor\":\"#A2B1C6\"},\"baxis\":{\"endlinecolor\":\"#A2B1C6\",\"gridcolor\":\"#506784\",\"linecolor\":\"#506784\",\"minorgridcolor\":\"#506784\",\"startlinecolor\":\"#A2B1C6\"},\"type\":\"carpet\"}],\"table\":[{\"cells\":{\"fill\":{\"color\":\"#506784\"},\"line\":{\"color\":\"rgb(17,17,17)\"}},\"header\":{\"fill\":{\"color\":\"#2a3f5f\"},\"line\":{\"color\":\"rgb(17,17,17)\"}},\"type\":\"table\"}],\"barpolar\":[{\"marker\":{\"line\":{\"color\":\"rgb(17,17,17)\",\"width\":0.5},\"pattern\":{\"fillmode\":\"overlay\",\"size\":10,\"solidity\":0.2}},\"type\":\"barpolar\"}],\"pie\":[{\"automargin\":true,\"type\":\"pie\"}]},\"layout\":{\"autotypenumbers\":\"strict\",\"colorway\":[\"#636efa\",\"#EF553B\",\"#00cc96\",\"#ab63fa\",\"#FFA15A\",\"#19d3f3\",\"#FF6692\",\"#B6E880\",\"#FF97FF\",\"#FECB52\"],\"font\":{\"color\":\"#f2f5fa\"},\"hovermode\":\"closest\",\"hoverlabel\":{\"align\":\"left\"},\"paper_bgcolor\":\"rgb(17,17,17)\",\"plot_bgcolor\":\"rgb(17,17,17)\",\"polar\":{\"bgcolor\":\"rgb(17,17,17)\",\"angularaxis\":{\"gridcolor\":\"#506784\",\"linecolor\":\"#506784\",\"ticks\":\"\"},\"radialaxis\":{\"gridcolor\":\"#506784\",\"linecolor\":\"#506784\",\"ticks\":\"\"}},\"ternary\":{\"bgcolor\":\"rgb(17,17,17)\",\"aaxis\":{\"gridcolor\":\"#506784\",\"linecolor\":\"#506784\",\"ticks\":\"\"},\"baxis\":{\"gridcolor\":\"#506784\",\"linecolor\":\"#506784\",\"ticks\":\"\"},\"caxis\":{\"gridcolor\":\"#506784\",\"linecolor\":\"#506784\",\"ticks\":\"\"}},\"coloraxis\":{\"colorbar\":{\"outlinewidth\":0,\"ticks\":\"\"}},\"colorscale\":{\"sequential\":[[0.0,\"#0d0887\"],[0.1111111111111111,\"#46039f\"],[0.2222222222222222,\"#7201a8\"],[0.3333333333333333,\"#9c179e\"],[0.4444444444444444,\"#bd3786\"],[0.5555555555555556,\"#d8576b\"],[0.6666666666666666,\"#ed7953\"],[0.7777777777777778,\"#fb9f3a\"],[0.8888888888888888,\"#fdca26\"],[1.0,\"#f0f921\"]],\"sequentialminus\":[[0.0,\"#0d0887\"],[0.1111111111111111,\"#46039f\"],[0.2222222222222222,\"#7201a8\"],[0.3333333333333333,\"#9c179e\"],[0.4444444444444444,\"#bd3786\"],[0.5555555555555556,\"#d8576b\"],[0.6666666666666666,\"#ed7953\"],[0.7777777777777778,\"#fb9f3a\"],[0.8888888888888888,\"#fdca26\"],[1.0,\"#f0f921\"]],\"diverging\":[[0,\"#8e0152\"],[0.1,\"#c51b7d\"],[0.2,\"#de77ae\"],[0.3,\"#f1b6da\"],[0.4,\"#fde0ef\"],[0.5,\"#f7f7f7\"],[0.6,\"#e6f5d0\"],[0.7,\"#b8e186\"],[0.8,\"#7fbc41\"],[0.9,\"#4d9221\"],[1,\"#276419\"]]},\"xaxis\":{\"gridcolor\":\"#283442\",\"linecolor\":\"#506784\",\"ticks\":\"\",\"title\":{\"standoff\":15},\"zerolinecolor\":\"#283442\",\"automargin\":true,\"zerolinewidth\":2},\"yaxis\":{\"gridcolor\":\"#283442\",\"linecolor\":\"#506784\",\"ticks\":\"\",\"title\":{\"standoff\":15},\"zerolinecolor\":\"#283442\",\"automargin\":true,\"zerolinewidth\":2},\"scene\":{\"xaxis\":{\"backgroundcolor\":\"rgb(17,17,17)\",\"gridcolor\":\"#506784\",\"linecolor\":\"#506784\",\"showbackground\":true,\"ticks\":\"\",\"zerolinecolor\":\"#C8D4E3\",\"gridwidth\":2},\"yaxis\":{\"backgroundcolor\":\"rgb(17,17,17)\",\"gridcolor\":\"#506784\",\"linecolor\":\"#506784\",\"showbackground\":true,\"ticks\":\"\",\"zerolinecolor\":\"#C8D4E3\",\"gridwidth\":2},\"zaxis\":{\"backgroundcolor\":\"rgb(17,17,17)\",\"gridcolor\":\"#506784\",\"linecolor\":\"#506784\",\"showbackground\":true,\"ticks\":\"\",\"zerolinecolor\":\"#C8D4E3\",\"gridwidth\":2}},\"shapedefaults\":{\"line\":{\"color\":\"#f2f5fa\"}},\"annotationdefaults\":{\"arrowcolor\":\"#f2f5fa\",\"arrowhead\":0,\"arrowwidth\":1},\"geo\":{\"bgcolor\":\"rgb(17,17,17)\",\"landcolor\":\"rgb(17,17,17)\",\"subunitcolor\":\"#506784\",\"showland\":true,\"showlakes\":true,\"lakecolor\":\"rgb(17,17,17)\"},\"title\":{\"x\":0.05},\"updatemenudefaults\":{\"bgcolor\":\"#506784\",\"borderwidth\":0},\"sliderdefaults\":{\"bgcolor\":\"#C8D4E3\",\"borderwidth\":1,\"bordercolor\":\"rgb(17,17,17)\",\"tickwidth\":0},\"mapbox\":{\"style\":\"dark\"}}},\"title\":{\"text\":\"Error Ratio vs Predictions\"},\"xaxis\":{\"title\":{\"text\":\"Predictions\"}},\"yaxis\":{\"title\":{\"text\":\"Error Ratio\"}}},                        {\"responsive\": true}                    ).then(function(){\n",
       "                            \n",
       "var gd = document.getElementById('c9a82831-2b82-4230-84fb-c6c4c3722778');\n",
       "var x = new MutationObserver(function (mutations, observer) {{\n",
       "        var display = window.getComputedStyle(gd).display;\n",
       "        if (!display || display === 'none') {{\n",
       "            console.log([gd, 'removed!']);\n",
       "            Plotly.purge(gd);\n",
       "            observer.disconnect();\n",
       "        }}\n",
       "}});\n",
       "\n",
       "// Listen for the removal of the full notebook cells\n",
       "var notebookContainer = gd.closest('#notebook-container');\n",
       "if (notebookContainer) {{\n",
       "    x.observe(notebookContainer, {childList: true});\n",
       "}}\n",
       "\n",
       "// Listen for the clearing of the current output cell\n",
       "var outputEl = gd.closest('.output');\n",
       "if (outputEl) {{\n",
       "    x.observe(outputEl, {childList: true});\n",
       "}}\n",
       "\n",
       "                        })                };                });            </script>        </div>"
      ]
     },
     "metadata": {},
     "output_type": "display_data"
    }
   ],
   "execution_count": 98
  },
  {
   "cell_type": "code",
   "id": "d0d21742f1e33526",
   "metadata": {
    "ExecuteTime": {
     "end_time": "2024-09-01T09:05:50.845595Z",
     "start_time": "2024-09-01T09:05:50.810181Z"
    }
   },
   "source": [
    "from src.encoder.label import encode as encode_labels\n",
    "\n",
    "# Test the label encoder\n",
    "labels = [\"cat\", \"dog\", \"fish\", \"elephant\", \"lion\", \"tiger\", \"bear\"]\n",
    "encoded_labels = encode_labels(labels)\n",
    "log.debug(f\"Encoded labels: \\n{encoded_labels}\\n\")\n",
    "log.debug(f\"Data type: \\n{encoded_labels.dtype}\\n\")\n",
    "log.debug(f\"Shape: \\n{encoded_labels.shape}\\n\")\n",
    "log.debug(f\"Size: \\n{encoded_labels.size}\\n\")\n",
    "log.debug(f\"Number of dimensions: \\n{encoded_labels.ndim}\\n\")\n",
    "log.debug(f\"Item size: \\n{encoded_labels.itemsize}\\n\")\n",
    "log.debug(f\"Total bytes: \\n{encoded_labels.nbytes}\\n\")\n",
    "log.debug(f\"Strides: \\n{encoded_labels.strides}\\n\")\n",
    "log.debug(f\"Flags: \\n{encoded_labels.flags}\\n\")\n",
    "log.debug(f\"Ctypes: \\n{encoded_labels.ctypes}\\n\")\n",
    "log.debug(f\"Base: \\n{encoded_labels.base}\\n\")\n",
    "log.debug(f\"Data: \\n{encoded_labels.data}\\n\")\n",
    "log.debug(f\"Transpose: \\n{encoded_labels.T}\\n\")\n",
    "log.debug(f\"Real part: \\n{encoded_labels.real}\\n\")\n",
    "log.debug(f\"Imaginary part: \\n{encoded_labels.imag}\\n\")\n",
    "log.debug(f\"Flat: \\n{encoded_labels.flat}\\n\")\n",
    "log.debug(f\"Item: \\n{encoded_labels.item}\\n\")\n",
    "log.debug(f\"List: \\n{encoded_labels.tolist()}\\n\")\n",
    "log.debug(f\"Bytes: {encoded_labels.tobytes()}\\n\")"
   ],
   "outputs": [
    {
     "name": "stderr",
     "output_type": "stream",
     "text": [
      "\u001B[36m[2024-09-01 05:05:50][DEBUG][root][6]: \n",
      "Encoded labels: \n",
      "[[104.       104.666664 106.5      106.125    108.5      107.8\n",
      "  102.5     ]]\n",
      "\u001B[0m\n",
      "\u001B[36m[2024-09-01 05:05:50][DEBUG][root][7]: \n",
      "Data type: \n",
      "float32\n",
      "\u001B[0m\n",
      "\u001B[36m[2024-09-01 05:05:50][DEBUG][root][8]: \n",
      "Shape: \n",
      "(1, 7)\n",
      "\u001B[0m\n",
      "\u001B[36m[2024-09-01 05:05:50][DEBUG][root][9]: \n",
      "Size: \n",
      "7\n",
      "\u001B[0m\n",
      "\u001B[36m[2024-09-01 05:05:50][DEBUG][root][10]: \n",
      "Number of dimensions: \n",
      "2\n",
      "\u001B[0m\n",
      "\u001B[36m[2024-09-01 05:05:50][DEBUG][root][11]: \n",
      "Item size: \n",
      "4\n",
      "\u001B[0m\n",
      "\u001B[36m[2024-09-01 05:05:50][DEBUG][root][12]: \n",
      "Total bytes: \n",
      "28\n",
      "\u001B[0m\n",
      "\u001B[36m[2024-09-01 05:05:50][DEBUG][root][13]: \n",
      "Strides: \n",
      "(28, 4)\n",
      "\u001B[0m\n",
      "\u001B[36m[2024-09-01 05:05:50][DEBUG][root][14]: \n",
      "Flags: \n",
      "  C_CONTIGUOUS : True\n",
      "  F_CONTIGUOUS : True\n",
      "  OWNDATA : True\n",
      "  WRITEABLE : True\n",
      "  ALIGNED : True\n",
      "  WRITEBACKIFCOPY : False\n",
      "\n",
      "\u001B[0m\n",
      "\u001B[36m[2024-09-01 05:05:50][DEBUG][root][15]: \n",
      "Ctypes: \n",
      "<numpy.core._internal._ctypes object at 0x120aa2c60>\n",
      "\u001B[0m\n",
      "\u001B[36m[2024-09-01 05:05:50][DEBUG][root][16]: \n",
      "Base: \n",
      "None\n",
      "\u001B[0m\n",
      "\u001B[36m[2024-09-01 05:05:50][DEBUG][root][17]: \n",
      "Data: \n",
      "<memory at 0x11fcd1d80>\n",
      "\u001B[0m\n",
      "\u001B[36m[2024-09-01 05:05:50][DEBUG][root][18]: \n",
      "Transpose: \n",
      "[[104.      ]\n",
      " [104.666664]\n",
      " [106.5     ]\n",
      " [106.125   ]\n",
      " [108.5     ]\n",
      " [107.8     ]\n",
      " [102.5     ]]\n",
      "\u001B[0m\n",
      "\u001B[36m[2024-09-01 05:05:50][DEBUG][root][19]: \n",
      "Real part: \n",
      "[[104.       104.666664 106.5      106.125    108.5      107.8\n",
      "  102.5     ]]\n",
      "\u001B[0m\n",
      "\u001B[36m[2024-09-01 05:05:50][DEBUG][root][20]: \n",
      "Imaginary part: \n",
      "[[0. 0. 0. 0. 0. 0. 0.]]\n",
      "\u001B[0m\n",
      "\u001B[36m[2024-09-01 05:05:50][DEBUG][root][21]: \n",
      "Flat: \n",
      "<numpy.flatiter object at 0x7f7e447be600>\n",
      "\u001B[0m\n",
      "\u001B[36m[2024-09-01 05:05:50][DEBUG][root][22]: \n",
      "Item: \n",
      "<built-in method item of numpy.ndarray object at 0x113c0bb70>\n",
      "\u001B[0m\n",
      "\u001B[36m[2024-09-01 05:05:50][DEBUG][root][23]: \n",
      "List: \n",
      "[[104.0, 104.66666412353516, 106.5, 106.125, 108.5, 107.80000305175781, 102.5]]\n",
      "\u001B[0m\n",
      "\u001B[36m[2024-09-01 05:05:50][DEBUG][root][24]: \n",
      "Bytes: b'\\x00\\x00\\xd0BUU\\xd1B\\x00\\x00\\xd5B\\x00@\\xd4B\\x00\\x00\\xd9B\\x9a\\x99\\xd7B\\x00\\x00\\xcdB'\n",
      "\u001B[0m\n"
     ]
    }
   ],
   "execution_count": 99
  },
  {
   "cell_type": "code",
   "id": "5cf6ae726b420884",
   "metadata": {
    "ExecuteTime": {
     "end_time": "2024-09-01T09:05:50.917915Z",
     "start_time": "2024-09-01T09:05:50.909150Z"
    }
   },
   "source": [
    "import  numpy  as  np\n",
    "\n",
    "# Create the input data\n",
    "inputs  =  [\n",
    "    [ 1.0 ,  2.0 ,  3.0 ,  2.5 ], \n",
    "    [ 2.0 ,  5.0 ,  - 1.0 ,  2.0 ],\n",
    "    [ - 1.5 ,  2.7 ,  3.3 ,  - 0.8 ]\n",
    "] \n",
    "\n",
    "# Create the weights and biases\n",
    "weights  =  [\n",
    "    [ 0.2 ,  0.8 ,  - 0.5 ,  1.0 ],\n",
    "    [ 0.5 ,  - 0.91 ,  0.26 ,  - 0.5 ],\n",
    "    [ - 0.26 ,  - 0.27 ,  0.17 ,  0.87 ]\n",
    "] \n",
    "biases  =  [ 2.0 ,  3.0 ,  0.5 ]\n",
    "\n",
    "# Calculate the output of the layer of neurons\n",
    "layer_outputs  =  np.dot(inputs, np.array(weights).T)  +  biases \n",
    "log.debug(f\"Layer Outputs: \\n{layer_outputs}\")\n",
    "\n",
    "# Predictions\n",
    "predictions = sigmoid(layer_outputs)\n",
    "log.debug(f\"Predictions: \\n{predictions}\")\n",
    "\n",
    "# Error\n",
    "error_rate = 1 - predictions\n",
    "log.debug(f\"Error Ratio: \\n{error_rate}\")\n",
    "\n"
   ],
   "outputs": [
    {
     "name": "stderr",
     "output_type": "stream",
     "text": [
      "\u001B[36m[2024-09-01 05:05:50][DEBUG][root][20]: \n",
      "Layer Outputs: \n",
      "[[ 4.8    1.21   2.385]\n",
      " [ 8.9   -1.81   0.2  ]\n",
      " [ 1.41   1.051  0.026]]\u001B[0m\n",
      "\u001B[36m[2024-09-01 05:05:50][DEBUG][root][24]: \n",
      "Predictions: \n",
      "[[0.99183743 0.77029895 0.9156763 ]\n",
      " [0.99986363 0.14063813 0.549834  ]\n",
      " [0.80376594 0.74096688 0.50649963]]\u001B[0m\n",
      "\u001B[36m[2024-09-01 05:05:50][DEBUG][root][28]: \n",
      "Error Ratio: \n",
      "[[8.16257115e-03 2.29701051e-01 8.43236964e-02]\n",
      " [1.36370327e-04 8.59361874e-01 4.50166003e-01]\n",
      " [1.96234056e-01 2.59033120e-01 4.93500366e-01]]\u001B[0m\n"
     ]
    }
   ],
   "execution_count": 100
  },
  {
   "cell_type": "code",
   "id": "970bd9b969138fa9",
   "metadata": {
    "ExecuteTime": {
     "end_time": "2024-09-01T09:05:51.026072Z",
     "start_time": "2024-09-01T09:05:50.990473Z"
    }
   },
   "source": [
    "from plotly import graph_objects as go\n",
    "\n",
    "# Create 3D scatter plot\n",
    "fig = go.Figure()\n",
    "fig.add_trace(\n",
    "    go.Scatter3d(\n",
    "        x=inputs[0], y=inputs[1], z=inputs[2], mode='lines+markers', \n",
    "        marker=dict(size=12, color='blue', opacity=0.8), name='Inputs'\n",
    "    ))\n",
    "fig.add_trace(\n",
    "    go.Scatter3d(\n",
    "        x=weights[0], y=weights[1], z=weights[2], mode='lines+markers', \n",
    "        marker=dict(size=12, color='red', opacity=0.8), name='Weights'\n",
    "    ))\n",
    "fig.add_trace(\n",
    "    go.Scatter3d(\n",
    "        x=biases, y=biases, z=biases, mode='lines+markers', \n",
    "        marker=dict(size=12, color='green', opacity=0.8), name='Biases'\n",
    "    ))\n",
    "fig.add_trace(\n",
    "    go.Scatter3d(\n",
    "        x=layer_outputs[0], y=layer_outputs[1], z=layer_outputs[2], mode='lines+markers', \n",
    "        marker=dict(size=12, color='orange', opacity=0.8), name='Layer Outputs'\n",
    "    ))\n",
    "fig.add_trace(\n",
    "    go.Scatter3d(\n",
    "        x=predictions[0], y=predictions[1], z=predictions[2], mode='lines+markers', \n",
    "        marker=dict(size=12, color='purple', opacity=0.8), name='Predictions'\n",
    "    ))\n",
    "fig.add_trace(\n",
    "    go.Scatter3d(\n",
    "        x=error_rate[0], y=error_rate[1], z=error_rate[2], mode='lines+markers', \n",
    "        marker=dict(size=12, color='black', opacity=0.8), name='Error Rate'\n",
    "    ))\n",
    "fig.update_layout(title='Layer of Neurons', scene=dict(xaxis_title='X', yaxis_title='Y', zaxis_title='Z'))\n",
    "fig.show()\n",
    "\n"
   ],
   "outputs": [
    {
     "data": {
      "application/vnd.plotly.v1+json": {
       "data": [
        {
         "marker": {
          "color": "blue",
          "opacity": 0.8,
          "size": 12
         },
         "mode": "lines+markers",
         "name": "Inputs",
         "x": [
          1.0,
          2.0,
          3.0,
          2.5
         ],
         "y": [
          2.0,
          5.0,
          -1.0,
          2.0
         ],
         "z": [
          -1.5,
          2.7,
          3.3,
          -0.8
         ],
         "type": "scatter3d"
        },
        {
         "marker": {
          "color": "red",
          "opacity": 0.8,
          "size": 12
         },
         "mode": "lines+markers",
         "name": "Weights",
         "x": [
          0.2,
          0.8,
          -0.5,
          1.0
         ],
         "y": [
          0.5,
          -0.91,
          0.26,
          -0.5
         ],
         "z": [
          -0.26,
          -0.27,
          0.17,
          0.87
         ],
         "type": "scatter3d"
        },
        {
         "marker": {
          "color": "green",
          "opacity": 0.8,
          "size": 12
         },
         "mode": "lines+markers",
         "name": "Biases",
         "x": [
          2.0,
          3.0,
          0.5
         ],
         "y": [
          2.0,
          3.0,
          0.5
         ],
         "z": [
          2.0,
          3.0,
          0.5
         ],
         "type": "scatter3d"
        },
        {
         "marker": {
          "color": "orange",
          "opacity": 0.8,
          "size": 12
         },
         "mode": "lines+markers",
         "name": "Layer Outputs",
         "x": [
          4.8,
          1.21,
          2.385
         ],
         "y": [
          8.9,
          -1.8100000000000005,
          0.19999999999999996
         ],
         "z": [
          1.4100000000000004,
          1.0509999999999997,
          0.025999999999999912
         ],
         "type": "scatter3d"
        },
        {
         "marker": {
          "color": "purple",
          "opacity": 0.8,
          "size": 12
         },
         "mode": "lines+markers",
         "name": "Predictions",
         "x": [
          0.9918374288468401,
          0.7702989490466019,
          0.9156763035785255
         ],
         "y": [
          0.9998636296729204,
          0.14063812573413412,
          0.5498339973124778
         ],
         "z": [
          0.8037659436342209,
          0.7409668803898235,
          0.5064996338580845
         ],
         "type": "scatter3d"
        },
        {
         "marker": {
          "color": "black",
          "opacity": 0.8,
          "size": 12
         },
         "mode": "lines+markers",
         "name": "Error Rate",
         "x": [
          0.008162571153159881,
          0.2297010509533981,
          0.08432369642147453
         ],
         "y": [
          1.363703270795824E-4,
          0.8593618742658659,
          0.45016600268752216
         ],
         "z": [
          0.19623405636577906,
          0.2590331196101765,
          0.4935003661419155
         ],
         "type": "scatter3d"
        }
       ],
       "layout": {
        "template": {
         "data": {
          "histogram2dcontour": [
           {
            "type": "histogram2dcontour",
            "colorbar": {
             "outlinewidth": 0,
             "ticks": ""
            },
            "colorscale": [
             [
              0.0,
              "#0d0887"
             ],
             [
              0.1111111111111111,
              "#46039f"
             ],
             [
              0.2222222222222222,
              "#7201a8"
             ],
             [
              0.3333333333333333,
              "#9c179e"
             ],
             [
              0.4444444444444444,
              "#bd3786"
             ],
             [
              0.5555555555555556,
              "#d8576b"
             ],
             [
              0.6666666666666666,
              "#ed7953"
             ],
             [
              0.7777777777777778,
              "#fb9f3a"
             ],
             [
              0.8888888888888888,
              "#fdca26"
             ],
             [
              1.0,
              "#f0f921"
             ]
            ]
           }
          ],
          "choropleth": [
           {
            "type": "choropleth",
            "colorbar": {
             "outlinewidth": 0,
             "ticks": ""
            }
           }
          ],
          "histogram2d": [
           {
            "type": "histogram2d",
            "colorbar": {
             "outlinewidth": 0,
             "ticks": ""
            },
            "colorscale": [
             [
              0.0,
              "#0d0887"
             ],
             [
              0.1111111111111111,
              "#46039f"
             ],
             [
              0.2222222222222222,
              "#7201a8"
             ],
             [
              0.3333333333333333,
              "#9c179e"
             ],
             [
              0.4444444444444444,
              "#bd3786"
             ],
             [
              0.5555555555555556,
              "#d8576b"
             ],
             [
              0.6666666666666666,
              "#ed7953"
             ],
             [
              0.7777777777777778,
              "#fb9f3a"
             ],
             [
              0.8888888888888888,
              "#fdca26"
             ],
             [
              1.0,
              "#f0f921"
             ]
            ]
           }
          ],
          "heatmap": [
           {
            "type": "heatmap",
            "colorbar": {
             "outlinewidth": 0,
             "ticks": ""
            },
            "colorscale": [
             [
              0.0,
              "#0d0887"
             ],
             [
              0.1111111111111111,
              "#46039f"
             ],
             [
              0.2222222222222222,
              "#7201a8"
             ],
             [
              0.3333333333333333,
              "#9c179e"
             ],
             [
              0.4444444444444444,
              "#bd3786"
             ],
             [
              0.5555555555555556,
              "#d8576b"
             ],
             [
              0.6666666666666666,
              "#ed7953"
             ],
             [
              0.7777777777777778,
              "#fb9f3a"
             ],
             [
              0.8888888888888888,
              "#fdca26"
             ],
             [
              1.0,
              "#f0f921"
             ]
            ]
           }
          ],
          "heatmapgl": [
           {
            "type": "heatmapgl",
            "colorbar": {
             "outlinewidth": 0,
             "ticks": ""
            },
            "colorscale": [
             [
              0.0,
              "#0d0887"
             ],
             [
              0.1111111111111111,
              "#46039f"
             ],
             [
              0.2222222222222222,
              "#7201a8"
             ],
             [
              0.3333333333333333,
              "#9c179e"
             ],
             [
              0.4444444444444444,
              "#bd3786"
             ],
             [
              0.5555555555555556,
              "#d8576b"
             ],
             [
              0.6666666666666666,
              "#ed7953"
             ],
             [
              0.7777777777777778,
              "#fb9f3a"
             ],
             [
              0.8888888888888888,
              "#fdca26"
             ],
             [
              1.0,
              "#f0f921"
             ]
            ]
           }
          ],
          "contourcarpet": [
           {
            "type": "contourcarpet",
            "colorbar": {
             "outlinewidth": 0,
             "ticks": ""
            }
           }
          ],
          "contour": [
           {
            "type": "contour",
            "colorbar": {
             "outlinewidth": 0,
             "ticks": ""
            },
            "colorscale": [
             [
              0.0,
              "#0d0887"
             ],
             [
              0.1111111111111111,
              "#46039f"
             ],
             [
              0.2222222222222222,
              "#7201a8"
             ],
             [
              0.3333333333333333,
              "#9c179e"
             ],
             [
              0.4444444444444444,
              "#bd3786"
             ],
             [
              0.5555555555555556,
              "#d8576b"
             ],
             [
              0.6666666666666666,
              "#ed7953"
             ],
             [
              0.7777777777777778,
              "#fb9f3a"
             ],
             [
              0.8888888888888888,
              "#fdca26"
             ],
             [
              1.0,
              "#f0f921"
             ]
            ]
           }
          ],
          "surface": [
           {
            "type": "surface",
            "colorbar": {
             "outlinewidth": 0,
             "ticks": ""
            },
            "colorscale": [
             [
              0.0,
              "#0d0887"
             ],
             [
              0.1111111111111111,
              "#46039f"
             ],
             [
              0.2222222222222222,
              "#7201a8"
             ],
             [
              0.3333333333333333,
              "#9c179e"
             ],
             [
              0.4444444444444444,
              "#bd3786"
             ],
             [
              0.5555555555555556,
              "#d8576b"
             ],
             [
              0.6666666666666666,
              "#ed7953"
             ],
             [
              0.7777777777777778,
              "#fb9f3a"
             ],
             [
              0.8888888888888888,
              "#fdca26"
             ],
             [
              1.0,
              "#f0f921"
             ]
            ]
           }
          ],
          "mesh3d": [
           {
            "type": "mesh3d",
            "colorbar": {
             "outlinewidth": 0,
             "ticks": ""
            }
           }
          ],
          "scatter": [
           {
            "marker": {
             "line": {
              "color": "#283442"
             }
            },
            "type": "scatter"
           }
          ],
          "parcoords": [
           {
            "type": "parcoords",
            "line": {
             "colorbar": {
              "outlinewidth": 0,
              "ticks": ""
             }
            }
           }
          ],
          "scatterpolargl": [
           {
            "type": "scatterpolargl",
            "marker": {
             "colorbar": {
              "outlinewidth": 0,
              "ticks": ""
             }
            }
           }
          ],
          "bar": [
           {
            "error_x": {
             "color": "#f2f5fa"
            },
            "error_y": {
             "color": "#f2f5fa"
            },
            "marker": {
             "line": {
              "color": "rgb(17,17,17)",
              "width": 0.5
             },
             "pattern": {
              "fillmode": "overlay",
              "size": 10,
              "solidity": 0.2
             }
            },
            "type": "bar"
           }
          ],
          "scattergeo": [
           {
            "type": "scattergeo",
            "marker": {
             "colorbar": {
              "outlinewidth": 0,
              "ticks": ""
             }
            }
           }
          ],
          "scatterpolar": [
           {
            "type": "scatterpolar",
            "marker": {
             "colorbar": {
              "outlinewidth": 0,
              "ticks": ""
             }
            }
           }
          ],
          "histogram": [
           {
            "marker": {
             "pattern": {
              "fillmode": "overlay",
              "size": 10,
              "solidity": 0.2
             }
            },
            "type": "histogram"
           }
          ],
          "scattergl": [
           {
            "marker": {
             "line": {
              "color": "#283442"
             }
            },
            "type": "scattergl"
           }
          ],
          "scatter3d": [
           {
            "type": "scatter3d",
            "line": {
             "colorbar": {
              "outlinewidth": 0,
              "ticks": ""
             }
            },
            "marker": {
             "colorbar": {
              "outlinewidth": 0,
              "ticks": ""
             }
            }
           }
          ],
          "scattermapbox": [
           {
            "type": "scattermapbox",
            "marker": {
             "colorbar": {
              "outlinewidth": 0,
              "ticks": ""
             }
            }
           }
          ],
          "scatterternary": [
           {
            "type": "scatterternary",
            "marker": {
             "colorbar": {
              "outlinewidth": 0,
              "ticks": ""
             }
            }
           }
          ],
          "scattercarpet": [
           {
            "type": "scattercarpet",
            "marker": {
             "colorbar": {
              "outlinewidth": 0,
              "ticks": ""
             }
            }
           }
          ],
          "carpet": [
           {
            "aaxis": {
             "endlinecolor": "#A2B1C6",
             "gridcolor": "#506784",
             "linecolor": "#506784",
             "minorgridcolor": "#506784",
             "startlinecolor": "#A2B1C6"
            },
            "baxis": {
             "endlinecolor": "#A2B1C6",
             "gridcolor": "#506784",
             "linecolor": "#506784",
             "minorgridcolor": "#506784",
             "startlinecolor": "#A2B1C6"
            },
            "type": "carpet"
           }
          ],
          "table": [
           {
            "cells": {
             "fill": {
              "color": "#506784"
             },
             "line": {
              "color": "rgb(17,17,17)"
             }
            },
            "header": {
             "fill": {
              "color": "#2a3f5f"
             },
             "line": {
              "color": "rgb(17,17,17)"
             }
            },
            "type": "table"
           }
          ],
          "barpolar": [
           {
            "marker": {
             "line": {
              "color": "rgb(17,17,17)",
              "width": 0.5
             },
             "pattern": {
              "fillmode": "overlay",
              "size": 10,
              "solidity": 0.2
             }
            },
            "type": "barpolar"
           }
          ],
          "pie": [
           {
            "automargin": true,
            "type": "pie"
           }
          ]
         },
         "layout": {
          "autotypenumbers": "strict",
          "colorway": [
           "#636efa",
           "#EF553B",
           "#00cc96",
           "#ab63fa",
           "#FFA15A",
           "#19d3f3",
           "#FF6692",
           "#B6E880",
           "#FF97FF",
           "#FECB52"
          ],
          "font": {
           "color": "#f2f5fa"
          },
          "hovermode": "closest",
          "hoverlabel": {
           "align": "left"
          },
          "paper_bgcolor": "rgb(17,17,17)",
          "plot_bgcolor": "rgb(17,17,17)",
          "polar": {
           "bgcolor": "rgb(17,17,17)",
           "angularaxis": {
            "gridcolor": "#506784",
            "linecolor": "#506784",
            "ticks": ""
           },
           "radialaxis": {
            "gridcolor": "#506784",
            "linecolor": "#506784",
            "ticks": ""
           }
          },
          "ternary": {
           "bgcolor": "rgb(17,17,17)",
           "aaxis": {
            "gridcolor": "#506784",
            "linecolor": "#506784",
            "ticks": ""
           },
           "baxis": {
            "gridcolor": "#506784",
            "linecolor": "#506784",
            "ticks": ""
           },
           "caxis": {
            "gridcolor": "#506784",
            "linecolor": "#506784",
            "ticks": ""
           }
          },
          "coloraxis": {
           "colorbar": {
            "outlinewidth": 0,
            "ticks": ""
           }
          },
          "colorscale": {
           "sequential": [
            [
             0.0,
             "#0d0887"
            ],
            [
             0.1111111111111111,
             "#46039f"
            ],
            [
             0.2222222222222222,
             "#7201a8"
            ],
            [
             0.3333333333333333,
             "#9c179e"
            ],
            [
             0.4444444444444444,
             "#bd3786"
            ],
            [
             0.5555555555555556,
             "#d8576b"
            ],
            [
             0.6666666666666666,
             "#ed7953"
            ],
            [
             0.7777777777777778,
             "#fb9f3a"
            ],
            [
             0.8888888888888888,
             "#fdca26"
            ],
            [
             1.0,
             "#f0f921"
            ]
           ],
           "sequentialminus": [
            [
             0.0,
             "#0d0887"
            ],
            [
             0.1111111111111111,
             "#46039f"
            ],
            [
             0.2222222222222222,
             "#7201a8"
            ],
            [
             0.3333333333333333,
             "#9c179e"
            ],
            [
             0.4444444444444444,
             "#bd3786"
            ],
            [
             0.5555555555555556,
             "#d8576b"
            ],
            [
             0.6666666666666666,
             "#ed7953"
            ],
            [
             0.7777777777777778,
             "#fb9f3a"
            ],
            [
             0.8888888888888888,
             "#fdca26"
            ],
            [
             1.0,
             "#f0f921"
            ]
           ],
           "diverging": [
            [
             0,
             "#8e0152"
            ],
            [
             0.1,
             "#c51b7d"
            ],
            [
             0.2,
             "#de77ae"
            ],
            [
             0.3,
             "#f1b6da"
            ],
            [
             0.4,
             "#fde0ef"
            ],
            [
             0.5,
             "#f7f7f7"
            ],
            [
             0.6,
             "#e6f5d0"
            ],
            [
             0.7,
             "#b8e186"
            ],
            [
             0.8,
             "#7fbc41"
            ],
            [
             0.9,
             "#4d9221"
            ],
            [
             1,
             "#276419"
            ]
           ]
          },
          "xaxis": {
           "gridcolor": "#283442",
           "linecolor": "#506784",
           "ticks": "",
           "title": {
            "standoff": 15
           },
           "zerolinecolor": "#283442",
           "automargin": true,
           "zerolinewidth": 2
          },
          "yaxis": {
           "gridcolor": "#283442",
           "linecolor": "#506784",
           "ticks": "",
           "title": {
            "standoff": 15
           },
           "zerolinecolor": "#283442",
           "automargin": true,
           "zerolinewidth": 2
          },
          "scene": {
           "xaxis": {
            "backgroundcolor": "rgb(17,17,17)",
            "gridcolor": "#506784",
            "linecolor": "#506784",
            "showbackground": true,
            "ticks": "",
            "zerolinecolor": "#C8D4E3",
            "gridwidth": 2
           },
           "yaxis": {
            "backgroundcolor": "rgb(17,17,17)",
            "gridcolor": "#506784",
            "linecolor": "#506784",
            "showbackground": true,
            "ticks": "",
            "zerolinecolor": "#C8D4E3",
            "gridwidth": 2
           },
           "zaxis": {
            "backgroundcolor": "rgb(17,17,17)",
            "gridcolor": "#506784",
            "linecolor": "#506784",
            "showbackground": true,
            "ticks": "",
            "zerolinecolor": "#C8D4E3",
            "gridwidth": 2
           }
          },
          "shapedefaults": {
           "line": {
            "color": "#f2f5fa"
           }
          },
          "annotationdefaults": {
           "arrowcolor": "#f2f5fa",
           "arrowhead": 0,
           "arrowwidth": 1
          },
          "geo": {
           "bgcolor": "rgb(17,17,17)",
           "landcolor": "rgb(17,17,17)",
           "subunitcolor": "#506784",
           "showland": true,
           "showlakes": true,
           "lakecolor": "rgb(17,17,17)"
          },
          "title": {
           "x": 0.05
          },
          "updatemenudefaults": {
           "bgcolor": "#506784",
           "borderwidth": 0
          },
          "sliderdefaults": {
           "bgcolor": "#C8D4E3",
           "borderwidth": 1,
           "bordercolor": "rgb(17,17,17)",
           "tickwidth": 0
          },
          "mapbox": {
           "style": "dark"
          }
         }
        },
        "title": {
         "text": "Layer of Neurons"
        },
        "scene": {
         "xaxis": {
          "title": {
           "text": "X"
          }
         },
         "yaxis": {
          "title": {
           "text": "Y"
          }
         },
         "zaxis": {
          "title": {
           "text": "Z"
          }
         }
        }
       },
       "config": {
        "plotlyServerURL": "https://plot.ly"
       }
      },
      "text/html": [
       "<div>                            <div id=\"2a7d936a-516e-4827-823f-238a8257b506\" class=\"plotly-graph-div\" style=\"height:525px; width:100%;\"></div>            <script type=\"text/javascript\">                require([\"plotly\"], function(Plotly) {                    window.PLOTLYENV=window.PLOTLYENV || {};                                    if (document.getElementById(\"2a7d936a-516e-4827-823f-238a8257b506\")) {                    Plotly.newPlot(                        \"2a7d936a-516e-4827-823f-238a8257b506\",                        [{\"marker\":{\"color\":\"blue\",\"opacity\":0.8,\"size\":12},\"mode\":\"lines+markers\",\"name\":\"Inputs\",\"x\":[1.0,2.0,3.0,2.5],\"y\":[2.0,5.0,-1.0,2.0],\"z\":[-1.5,2.7,3.3,-0.8],\"type\":\"scatter3d\"},{\"marker\":{\"color\":\"red\",\"opacity\":0.8,\"size\":12},\"mode\":\"lines+markers\",\"name\":\"Weights\",\"x\":[0.2,0.8,-0.5,1.0],\"y\":[0.5,-0.91,0.26,-0.5],\"z\":[-0.26,-0.27,0.17,0.87],\"type\":\"scatter3d\"},{\"marker\":{\"color\":\"green\",\"opacity\":0.8,\"size\":12},\"mode\":\"lines+markers\",\"name\":\"Biases\",\"x\":[2.0,3.0,0.5],\"y\":[2.0,3.0,0.5],\"z\":[2.0,3.0,0.5],\"type\":\"scatter3d\"},{\"marker\":{\"color\":\"orange\",\"opacity\":0.8,\"size\":12},\"mode\":\"lines+markers\",\"name\":\"Layer Outputs\",\"x\":[4.8,1.21,2.385],\"y\":[8.9,-1.8100000000000005,0.19999999999999996],\"z\":[1.4100000000000004,1.0509999999999997,0.025999999999999912],\"type\":\"scatter3d\"},{\"marker\":{\"color\":\"purple\",\"opacity\":0.8,\"size\":12},\"mode\":\"lines+markers\",\"name\":\"Predictions\",\"x\":[0.9918374288468401,0.7702989490466019,0.9156763035785255],\"y\":[0.9998636296729204,0.14063812573413412,0.5498339973124778],\"z\":[0.8037659436342209,0.7409668803898235,0.5064996338580845],\"type\":\"scatter3d\"},{\"marker\":{\"color\":\"black\",\"opacity\":0.8,\"size\":12},\"mode\":\"lines+markers\",\"name\":\"Error Rate\",\"x\":[0.008162571153159881,0.2297010509533981,0.08432369642147453],\"y\":[0.0001363703270795824,0.8593618742658659,0.45016600268752216],\"z\":[0.19623405636577906,0.2590331196101765,0.4935003661419155],\"type\":\"scatter3d\"}],                        {\"template\":{\"data\":{\"histogram2dcontour\":[{\"type\":\"histogram2dcontour\",\"colorbar\":{\"outlinewidth\":0,\"ticks\":\"\"},\"colorscale\":[[0.0,\"#0d0887\"],[0.1111111111111111,\"#46039f\"],[0.2222222222222222,\"#7201a8\"],[0.3333333333333333,\"#9c179e\"],[0.4444444444444444,\"#bd3786\"],[0.5555555555555556,\"#d8576b\"],[0.6666666666666666,\"#ed7953\"],[0.7777777777777778,\"#fb9f3a\"],[0.8888888888888888,\"#fdca26\"],[1.0,\"#f0f921\"]]}],\"choropleth\":[{\"type\":\"choropleth\",\"colorbar\":{\"outlinewidth\":0,\"ticks\":\"\"}}],\"histogram2d\":[{\"type\":\"histogram2d\",\"colorbar\":{\"outlinewidth\":0,\"ticks\":\"\"},\"colorscale\":[[0.0,\"#0d0887\"],[0.1111111111111111,\"#46039f\"],[0.2222222222222222,\"#7201a8\"],[0.3333333333333333,\"#9c179e\"],[0.4444444444444444,\"#bd3786\"],[0.5555555555555556,\"#d8576b\"],[0.6666666666666666,\"#ed7953\"],[0.7777777777777778,\"#fb9f3a\"],[0.8888888888888888,\"#fdca26\"],[1.0,\"#f0f921\"]]}],\"heatmap\":[{\"type\":\"heatmap\",\"colorbar\":{\"outlinewidth\":0,\"ticks\":\"\"},\"colorscale\":[[0.0,\"#0d0887\"],[0.1111111111111111,\"#46039f\"],[0.2222222222222222,\"#7201a8\"],[0.3333333333333333,\"#9c179e\"],[0.4444444444444444,\"#bd3786\"],[0.5555555555555556,\"#d8576b\"],[0.6666666666666666,\"#ed7953\"],[0.7777777777777778,\"#fb9f3a\"],[0.8888888888888888,\"#fdca26\"],[1.0,\"#f0f921\"]]}],\"heatmapgl\":[{\"type\":\"heatmapgl\",\"colorbar\":{\"outlinewidth\":0,\"ticks\":\"\"},\"colorscale\":[[0.0,\"#0d0887\"],[0.1111111111111111,\"#46039f\"],[0.2222222222222222,\"#7201a8\"],[0.3333333333333333,\"#9c179e\"],[0.4444444444444444,\"#bd3786\"],[0.5555555555555556,\"#d8576b\"],[0.6666666666666666,\"#ed7953\"],[0.7777777777777778,\"#fb9f3a\"],[0.8888888888888888,\"#fdca26\"],[1.0,\"#f0f921\"]]}],\"contourcarpet\":[{\"type\":\"contourcarpet\",\"colorbar\":{\"outlinewidth\":0,\"ticks\":\"\"}}],\"contour\":[{\"type\":\"contour\",\"colorbar\":{\"outlinewidth\":0,\"ticks\":\"\"},\"colorscale\":[[0.0,\"#0d0887\"],[0.1111111111111111,\"#46039f\"],[0.2222222222222222,\"#7201a8\"],[0.3333333333333333,\"#9c179e\"],[0.4444444444444444,\"#bd3786\"],[0.5555555555555556,\"#d8576b\"],[0.6666666666666666,\"#ed7953\"],[0.7777777777777778,\"#fb9f3a\"],[0.8888888888888888,\"#fdca26\"],[1.0,\"#f0f921\"]]}],\"surface\":[{\"type\":\"surface\",\"colorbar\":{\"outlinewidth\":0,\"ticks\":\"\"},\"colorscale\":[[0.0,\"#0d0887\"],[0.1111111111111111,\"#46039f\"],[0.2222222222222222,\"#7201a8\"],[0.3333333333333333,\"#9c179e\"],[0.4444444444444444,\"#bd3786\"],[0.5555555555555556,\"#d8576b\"],[0.6666666666666666,\"#ed7953\"],[0.7777777777777778,\"#fb9f3a\"],[0.8888888888888888,\"#fdca26\"],[1.0,\"#f0f921\"]]}],\"mesh3d\":[{\"type\":\"mesh3d\",\"colorbar\":{\"outlinewidth\":0,\"ticks\":\"\"}}],\"scatter\":[{\"marker\":{\"line\":{\"color\":\"#283442\"}},\"type\":\"scatter\"}],\"parcoords\":[{\"type\":\"parcoords\",\"line\":{\"colorbar\":{\"outlinewidth\":0,\"ticks\":\"\"}}}],\"scatterpolargl\":[{\"type\":\"scatterpolargl\",\"marker\":{\"colorbar\":{\"outlinewidth\":0,\"ticks\":\"\"}}}],\"bar\":[{\"error_x\":{\"color\":\"#f2f5fa\"},\"error_y\":{\"color\":\"#f2f5fa\"},\"marker\":{\"line\":{\"color\":\"rgb(17,17,17)\",\"width\":0.5},\"pattern\":{\"fillmode\":\"overlay\",\"size\":10,\"solidity\":0.2}},\"type\":\"bar\"}],\"scattergeo\":[{\"type\":\"scattergeo\",\"marker\":{\"colorbar\":{\"outlinewidth\":0,\"ticks\":\"\"}}}],\"scatterpolar\":[{\"type\":\"scatterpolar\",\"marker\":{\"colorbar\":{\"outlinewidth\":0,\"ticks\":\"\"}}}],\"histogram\":[{\"marker\":{\"pattern\":{\"fillmode\":\"overlay\",\"size\":10,\"solidity\":0.2}},\"type\":\"histogram\"}],\"scattergl\":[{\"marker\":{\"line\":{\"color\":\"#283442\"}},\"type\":\"scattergl\"}],\"scatter3d\":[{\"type\":\"scatter3d\",\"line\":{\"colorbar\":{\"outlinewidth\":0,\"ticks\":\"\"}},\"marker\":{\"colorbar\":{\"outlinewidth\":0,\"ticks\":\"\"}}}],\"scattermapbox\":[{\"type\":\"scattermapbox\",\"marker\":{\"colorbar\":{\"outlinewidth\":0,\"ticks\":\"\"}}}],\"scatterternary\":[{\"type\":\"scatterternary\",\"marker\":{\"colorbar\":{\"outlinewidth\":0,\"ticks\":\"\"}}}],\"scattercarpet\":[{\"type\":\"scattercarpet\",\"marker\":{\"colorbar\":{\"outlinewidth\":0,\"ticks\":\"\"}}}],\"carpet\":[{\"aaxis\":{\"endlinecolor\":\"#A2B1C6\",\"gridcolor\":\"#506784\",\"linecolor\":\"#506784\",\"minorgridcolor\":\"#506784\",\"startlinecolor\":\"#A2B1C6\"},\"baxis\":{\"endlinecolor\":\"#A2B1C6\",\"gridcolor\":\"#506784\",\"linecolor\":\"#506784\",\"minorgridcolor\":\"#506784\",\"startlinecolor\":\"#A2B1C6\"},\"type\":\"carpet\"}],\"table\":[{\"cells\":{\"fill\":{\"color\":\"#506784\"},\"line\":{\"color\":\"rgb(17,17,17)\"}},\"header\":{\"fill\":{\"color\":\"#2a3f5f\"},\"line\":{\"color\":\"rgb(17,17,17)\"}},\"type\":\"table\"}],\"barpolar\":[{\"marker\":{\"line\":{\"color\":\"rgb(17,17,17)\",\"width\":0.5},\"pattern\":{\"fillmode\":\"overlay\",\"size\":10,\"solidity\":0.2}},\"type\":\"barpolar\"}],\"pie\":[{\"automargin\":true,\"type\":\"pie\"}]},\"layout\":{\"autotypenumbers\":\"strict\",\"colorway\":[\"#636efa\",\"#EF553B\",\"#00cc96\",\"#ab63fa\",\"#FFA15A\",\"#19d3f3\",\"#FF6692\",\"#B6E880\",\"#FF97FF\",\"#FECB52\"],\"font\":{\"color\":\"#f2f5fa\"},\"hovermode\":\"closest\",\"hoverlabel\":{\"align\":\"left\"},\"paper_bgcolor\":\"rgb(17,17,17)\",\"plot_bgcolor\":\"rgb(17,17,17)\",\"polar\":{\"bgcolor\":\"rgb(17,17,17)\",\"angularaxis\":{\"gridcolor\":\"#506784\",\"linecolor\":\"#506784\",\"ticks\":\"\"},\"radialaxis\":{\"gridcolor\":\"#506784\",\"linecolor\":\"#506784\",\"ticks\":\"\"}},\"ternary\":{\"bgcolor\":\"rgb(17,17,17)\",\"aaxis\":{\"gridcolor\":\"#506784\",\"linecolor\":\"#506784\",\"ticks\":\"\"},\"baxis\":{\"gridcolor\":\"#506784\",\"linecolor\":\"#506784\",\"ticks\":\"\"},\"caxis\":{\"gridcolor\":\"#506784\",\"linecolor\":\"#506784\",\"ticks\":\"\"}},\"coloraxis\":{\"colorbar\":{\"outlinewidth\":0,\"ticks\":\"\"}},\"colorscale\":{\"sequential\":[[0.0,\"#0d0887\"],[0.1111111111111111,\"#46039f\"],[0.2222222222222222,\"#7201a8\"],[0.3333333333333333,\"#9c179e\"],[0.4444444444444444,\"#bd3786\"],[0.5555555555555556,\"#d8576b\"],[0.6666666666666666,\"#ed7953\"],[0.7777777777777778,\"#fb9f3a\"],[0.8888888888888888,\"#fdca26\"],[1.0,\"#f0f921\"]],\"sequentialminus\":[[0.0,\"#0d0887\"],[0.1111111111111111,\"#46039f\"],[0.2222222222222222,\"#7201a8\"],[0.3333333333333333,\"#9c179e\"],[0.4444444444444444,\"#bd3786\"],[0.5555555555555556,\"#d8576b\"],[0.6666666666666666,\"#ed7953\"],[0.7777777777777778,\"#fb9f3a\"],[0.8888888888888888,\"#fdca26\"],[1.0,\"#f0f921\"]],\"diverging\":[[0,\"#8e0152\"],[0.1,\"#c51b7d\"],[0.2,\"#de77ae\"],[0.3,\"#f1b6da\"],[0.4,\"#fde0ef\"],[0.5,\"#f7f7f7\"],[0.6,\"#e6f5d0\"],[0.7,\"#b8e186\"],[0.8,\"#7fbc41\"],[0.9,\"#4d9221\"],[1,\"#276419\"]]},\"xaxis\":{\"gridcolor\":\"#283442\",\"linecolor\":\"#506784\",\"ticks\":\"\",\"title\":{\"standoff\":15},\"zerolinecolor\":\"#283442\",\"automargin\":true,\"zerolinewidth\":2},\"yaxis\":{\"gridcolor\":\"#283442\",\"linecolor\":\"#506784\",\"ticks\":\"\",\"title\":{\"standoff\":15},\"zerolinecolor\":\"#283442\",\"automargin\":true,\"zerolinewidth\":2},\"scene\":{\"xaxis\":{\"backgroundcolor\":\"rgb(17,17,17)\",\"gridcolor\":\"#506784\",\"linecolor\":\"#506784\",\"showbackground\":true,\"ticks\":\"\",\"zerolinecolor\":\"#C8D4E3\",\"gridwidth\":2},\"yaxis\":{\"backgroundcolor\":\"rgb(17,17,17)\",\"gridcolor\":\"#506784\",\"linecolor\":\"#506784\",\"showbackground\":true,\"ticks\":\"\",\"zerolinecolor\":\"#C8D4E3\",\"gridwidth\":2},\"zaxis\":{\"backgroundcolor\":\"rgb(17,17,17)\",\"gridcolor\":\"#506784\",\"linecolor\":\"#506784\",\"showbackground\":true,\"ticks\":\"\",\"zerolinecolor\":\"#C8D4E3\",\"gridwidth\":2}},\"shapedefaults\":{\"line\":{\"color\":\"#f2f5fa\"}},\"annotationdefaults\":{\"arrowcolor\":\"#f2f5fa\",\"arrowhead\":0,\"arrowwidth\":1},\"geo\":{\"bgcolor\":\"rgb(17,17,17)\",\"landcolor\":\"rgb(17,17,17)\",\"subunitcolor\":\"#506784\",\"showland\":true,\"showlakes\":true,\"lakecolor\":\"rgb(17,17,17)\"},\"title\":{\"x\":0.05},\"updatemenudefaults\":{\"bgcolor\":\"#506784\",\"borderwidth\":0},\"sliderdefaults\":{\"bgcolor\":\"#C8D4E3\",\"borderwidth\":1,\"bordercolor\":\"rgb(17,17,17)\",\"tickwidth\":0},\"mapbox\":{\"style\":\"dark\"}}},\"title\":{\"text\":\"Layer of Neurons\"},\"scene\":{\"xaxis\":{\"title\":{\"text\":\"X\"}},\"yaxis\":{\"title\":{\"text\":\"Y\"}},\"zaxis\":{\"title\":{\"text\":\"Z\"}}}},                        {\"responsive\": true}                    ).then(function(){\n",
       "                            \n",
       "var gd = document.getElementById('2a7d936a-516e-4827-823f-238a8257b506');\n",
       "var x = new MutationObserver(function (mutations, observer) {{\n",
       "        var display = window.getComputedStyle(gd).display;\n",
       "        if (!display || display === 'none') {{\n",
       "            console.log([gd, 'removed!']);\n",
       "            Plotly.purge(gd);\n",
       "            observer.disconnect();\n",
       "        }}\n",
       "}});\n",
       "\n",
       "// Listen for the removal of the full notebook cells\n",
       "var notebookContainer = gd.closest('#notebook-container');\n",
       "if (notebookContainer) {{\n",
       "    x.observe(notebookContainer, {childList: true});\n",
       "}}\n",
       "\n",
       "// Listen for the clearing of the current output cell\n",
       "var outputEl = gd.closest('.output');\n",
       "if (outputEl) {{\n",
       "    x.observe(outputEl, {childList: true});\n",
       "}}\n",
       "\n",
       "                        })                };                });            </script>        </div>"
      ]
     },
     "metadata": {},
     "output_type": "display_data"
    }
   ],
   "execution_count": 101
  },
  {
   "metadata": {
    "ExecuteTime": {
     "end_time": "2024-09-01T09:05:51.195583Z",
     "start_time": "2024-09-01T09:05:51.172341Z"
    }
   },
   "cell_type": "code",
   "source": [
    "# Graph the inputs, weights and biases on a line plot\n",
    "from plotly import graph_objects as go\n",
    "\n",
    "fig = go.Figure()\n",
    "fig.add_trace(\n",
    "    go.Scatter(\n",
    "        x=inputs[0], y=inputs[1], mode='lines+markers', \n",
    "    xaxis='x', yaxis='y', name='Inputs'\n",
    "    ))\n",
    "fig.add_trace(\n",
    "    go.Scatter(\n",
    "        x=weights[0], y=weights[1], mode='lines+markers', \n",
    "    xaxis='x', yaxis='y', name='Weights'\n",
    "    ))\n",
    "fig.add_trace(\n",
    "    go.Scatter(\n",
    "        x=biases, y=biases, mode='lines+markers', \n",
    "    xaxis='x', yaxis='y', name='Biases'\n",
    "    ))\n",
    "fig.add_trace(\n",
    "    go.Scatter(\n",
    "        x=layer_outputs[0], y=layer_outputs[1], mode='lines+markers', \n",
    "    xaxis='x', yaxis='y', name='Layer Outputs'\n",
    "    ))\n",
    "fig.add_trace(\n",
    "    go.Scatter(\n",
    "        x=predictions[0], y=predictions[1], mode='lines+markers', \n",
    "    xaxis='x', yaxis='y', name='Predictions'\n",
    "    ))\n",
    "fig.add_trace(\n",
    "    go.Scatter(\n",
    "        x=error_rate[0], y=error_rate[1], mode='lines+markers', \n",
    "    xaxis='x', yaxis='y', name='Error Rate'\n",
    "    ))\n",
    "fig.update_layout(title='Layer of Neurons', xaxis_title='X', yaxis_title='Y')\n",
    "fig.show()\n",
    "\n"
   ],
   "id": "d2daa4e63edddbf9",
   "outputs": [
    {
     "data": {
      "application/vnd.plotly.v1+json": {
       "data": [
        {
         "mode": "lines+markers",
         "name": "Inputs",
         "x": [
          1.0,
          2.0,
          3.0,
          2.5
         ],
         "xaxis": "x",
         "y": [
          2.0,
          5.0,
          -1.0,
          2.0
         ],
         "yaxis": "y",
         "type": "scatter"
        },
        {
         "mode": "lines+markers",
         "name": "Weights",
         "x": [
          0.2,
          0.8,
          -0.5,
          1.0
         ],
         "xaxis": "x",
         "y": [
          0.5,
          -0.91,
          0.26,
          -0.5
         ],
         "yaxis": "y",
         "type": "scatter"
        },
        {
         "mode": "lines+markers",
         "name": "Biases",
         "x": [
          2.0,
          3.0,
          0.5
         ],
         "xaxis": "x",
         "y": [
          2.0,
          3.0,
          0.5
         ],
         "yaxis": "y",
         "type": "scatter"
        },
        {
         "mode": "lines+markers",
         "name": "Layer Outputs",
         "x": [
          4.8,
          1.21,
          2.385
         ],
         "xaxis": "x",
         "y": [
          8.9,
          -1.8100000000000005,
          0.19999999999999996
         ],
         "yaxis": "y",
         "type": "scatter"
        },
        {
         "mode": "lines+markers",
         "name": "Predictions",
         "x": [
          0.9918374288468401,
          0.7702989490466019,
          0.9156763035785255
         ],
         "xaxis": "x",
         "y": [
          0.9998636296729204,
          0.14063812573413412,
          0.5498339973124778
         ],
         "yaxis": "y",
         "type": "scatter"
        },
        {
         "mode": "lines+markers",
         "name": "Error Rate",
         "x": [
          0.008162571153159881,
          0.2297010509533981,
          0.08432369642147453
         ],
         "xaxis": "x",
         "y": [
          1.363703270795824E-4,
          0.8593618742658659,
          0.45016600268752216
         ],
         "yaxis": "y",
         "type": "scatter"
        }
       ],
       "layout": {
        "template": {
         "data": {
          "histogram2dcontour": [
           {
            "type": "histogram2dcontour",
            "colorbar": {
             "outlinewidth": 0,
             "ticks": ""
            },
            "colorscale": [
             [
              0.0,
              "#0d0887"
             ],
             [
              0.1111111111111111,
              "#46039f"
             ],
             [
              0.2222222222222222,
              "#7201a8"
             ],
             [
              0.3333333333333333,
              "#9c179e"
             ],
             [
              0.4444444444444444,
              "#bd3786"
             ],
             [
              0.5555555555555556,
              "#d8576b"
             ],
             [
              0.6666666666666666,
              "#ed7953"
             ],
             [
              0.7777777777777778,
              "#fb9f3a"
             ],
             [
              0.8888888888888888,
              "#fdca26"
             ],
             [
              1.0,
              "#f0f921"
             ]
            ]
           }
          ],
          "choropleth": [
           {
            "type": "choropleth",
            "colorbar": {
             "outlinewidth": 0,
             "ticks": ""
            }
           }
          ],
          "histogram2d": [
           {
            "type": "histogram2d",
            "colorbar": {
             "outlinewidth": 0,
             "ticks": ""
            },
            "colorscale": [
             [
              0.0,
              "#0d0887"
             ],
             [
              0.1111111111111111,
              "#46039f"
             ],
             [
              0.2222222222222222,
              "#7201a8"
             ],
             [
              0.3333333333333333,
              "#9c179e"
             ],
             [
              0.4444444444444444,
              "#bd3786"
             ],
             [
              0.5555555555555556,
              "#d8576b"
             ],
             [
              0.6666666666666666,
              "#ed7953"
             ],
             [
              0.7777777777777778,
              "#fb9f3a"
             ],
             [
              0.8888888888888888,
              "#fdca26"
             ],
             [
              1.0,
              "#f0f921"
             ]
            ]
           }
          ],
          "heatmap": [
           {
            "type": "heatmap",
            "colorbar": {
             "outlinewidth": 0,
             "ticks": ""
            },
            "colorscale": [
             [
              0.0,
              "#0d0887"
             ],
             [
              0.1111111111111111,
              "#46039f"
             ],
             [
              0.2222222222222222,
              "#7201a8"
             ],
             [
              0.3333333333333333,
              "#9c179e"
             ],
             [
              0.4444444444444444,
              "#bd3786"
             ],
             [
              0.5555555555555556,
              "#d8576b"
             ],
             [
              0.6666666666666666,
              "#ed7953"
             ],
             [
              0.7777777777777778,
              "#fb9f3a"
             ],
             [
              0.8888888888888888,
              "#fdca26"
             ],
             [
              1.0,
              "#f0f921"
             ]
            ]
           }
          ],
          "heatmapgl": [
           {
            "type": "heatmapgl",
            "colorbar": {
             "outlinewidth": 0,
             "ticks": ""
            },
            "colorscale": [
             [
              0.0,
              "#0d0887"
             ],
             [
              0.1111111111111111,
              "#46039f"
             ],
             [
              0.2222222222222222,
              "#7201a8"
             ],
             [
              0.3333333333333333,
              "#9c179e"
             ],
             [
              0.4444444444444444,
              "#bd3786"
             ],
             [
              0.5555555555555556,
              "#d8576b"
             ],
             [
              0.6666666666666666,
              "#ed7953"
             ],
             [
              0.7777777777777778,
              "#fb9f3a"
             ],
             [
              0.8888888888888888,
              "#fdca26"
             ],
             [
              1.0,
              "#f0f921"
             ]
            ]
           }
          ],
          "contourcarpet": [
           {
            "type": "contourcarpet",
            "colorbar": {
             "outlinewidth": 0,
             "ticks": ""
            }
           }
          ],
          "contour": [
           {
            "type": "contour",
            "colorbar": {
             "outlinewidth": 0,
             "ticks": ""
            },
            "colorscale": [
             [
              0.0,
              "#0d0887"
             ],
             [
              0.1111111111111111,
              "#46039f"
             ],
             [
              0.2222222222222222,
              "#7201a8"
             ],
             [
              0.3333333333333333,
              "#9c179e"
             ],
             [
              0.4444444444444444,
              "#bd3786"
             ],
             [
              0.5555555555555556,
              "#d8576b"
             ],
             [
              0.6666666666666666,
              "#ed7953"
             ],
             [
              0.7777777777777778,
              "#fb9f3a"
             ],
             [
              0.8888888888888888,
              "#fdca26"
             ],
             [
              1.0,
              "#f0f921"
             ]
            ]
           }
          ],
          "surface": [
           {
            "type": "surface",
            "colorbar": {
             "outlinewidth": 0,
             "ticks": ""
            },
            "colorscale": [
             [
              0.0,
              "#0d0887"
             ],
             [
              0.1111111111111111,
              "#46039f"
             ],
             [
              0.2222222222222222,
              "#7201a8"
             ],
             [
              0.3333333333333333,
              "#9c179e"
             ],
             [
              0.4444444444444444,
              "#bd3786"
             ],
             [
              0.5555555555555556,
              "#d8576b"
             ],
             [
              0.6666666666666666,
              "#ed7953"
             ],
             [
              0.7777777777777778,
              "#fb9f3a"
             ],
             [
              0.8888888888888888,
              "#fdca26"
             ],
             [
              1.0,
              "#f0f921"
             ]
            ]
           }
          ],
          "mesh3d": [
           {
            "type": "mesh3d",
            "colorbar": {
             "outlinewidth": 0,
             "ticks": ""
            }
           }
          ],
          "scatter": [
           {
            "marker": {
             "line": {
              "color": "#283442"
             }
            },
            "type": "scatter"
           }
          ],
          "parcoords": [
           {
            "type": "parcoords",
            "line": {
             "colorbar": {
              "outlinewidth": 0,
              "ticks": ""
             }
            }
           }
          ],
          "scatterpolargl": [
           {
            "type": "scatterpolargl",
            "marker": {
             "colorbar": {
              "outlinewidth": 0,
              "ticks": ""
             }
            }
           }
          ],
          "bar": [
           {
            "error_x": {
             "color": "#f2f5fa"
            },
            "error_y": {
             "color": "#f2f5fa"
            },
            "marker": {
             "line": {
              "color": "rgb(17,17,17)",
              "width": 0.5
             },
             "pattern": {
              "fillmode": "overlay",
              "size": 10,
              "solidity": 0.2
             }
            },
            "type": "bar"
           }
          ],
          "scattergeo": [
           {
            "type": "scattergeo",
            "marker": {
             "colorbar": {
              "outlinewidth": 0,
              "ticks": ""
             }
            }
           }
          ],
          "scatterpolar": [
           {
            "type": "scatterpolar",
            "marker": {
             "colorbar": {
              "outlinewidth": 0,
              "ticks": ""
             }
            }
           }
          ],
          "histogram": [
           {
            "marker": {
             "pattern": {
              "fillmode": "overlay",
              "size": 10,
              "solidity": 0.2
             }
            },
            "type": "histogram"
           }
          ],
          "scattergl": [
           {
            "marker": {
             "line": {
              "color": "#283442"
             }
            },
            "type": "scattergl"
           }
          ],
          "scatter3d": [
           {
            "type": "scatter3d",
            "line": {
             "colorbar": {
              "outlinewidth": 0,
              "ticks": ""
             }
            },
            "marker": {
             "colorbar": {
              "outlinewidth": 0,
              "ticks": ""
             }
            }
           }
          ],
          "scattermapbox": [
           {
            "type": "scattermapbox",
            "marker": {
             "colorbar": {
              "outlinewidth": 0,
              "ticks": ""
             }
            }
           }
          ],
          "scatterternary": [
           {
            "type": "scatterternary",
            "marker": {
             "colorbar": {
              "outlinewidth": 0,
              "ticks": ""
             }
            }
           }
          ],
          "scattercarpet": [
           {
            "type": "scattercarpet",
            "marker": {
             "colorbar": {
              "outlinewidth": 0,
              "ticks": ""
             }
            }
           }
          ],
          "carpet": [
           {
            "aaxis": {
             "endlinecolor": "#A2B1C6",
             "gridcolor": "#506784",
             "linecolor": "#506784",
             "minorgridcolor": "#506784",
             "startlinecolor": "#A2B1C6"
            },
            "baxis": {
             "endlinecolor": "#A2B1C6",
             "gridcolor": "#506784",
             "linecolor": "#506784",
             "minorgridcolor": "#506784",
             "startlinecolor": "#A2B1C6"
            },
            "type": "carpet"
           }
          ],
          "table": [
           {
            "cells": {
             "fill": {
              "color": "#506784"
             },
             "line": {
              "color": "rgb(17,17,17)"
             }
            },
            "header": {
             "fill": {
              "color": "#2a3f5f"
             },
             "line": {
              "color": "rgb(17,17,17)"
             }
            },
            "type": "table"
           }
          ],
          "barpolar": [
           {
            "marker": {
             "line": {
              "color": "rgb(17,17,17)",
              "width": 0.5
             },
             "pattern": {
              "fillmode": "overlay",
              "size": 10,
              "solidity": 0.2
             }
            },
            "type": "barpolar"
           }
          ],
          "pie": [
           {
            "automargin": true,
            "type": "pie"
           }
          ]
         },
         "layout": {
          "autotypenumbers": "strict",
          "colorway": [
           "#636efa",
           "#EF553B",
           "#00cc96",
           "#ab63fa",
           "#FFA15A",
           "#19d3f3",
           "#FF6692",
           "#B6E880",
           "#FF97FF",
           "#FECB52"
          ],
          "font": {
           "color": "#f2f5fa"
          },
          "hovermode": "closest",
          "hoverlabel": {
           "align": "left"
          },
          "paper_bgcolor": "rgb(17,17,17)",
          "plot_bgcolor": "rgb(17,17,17)",
          "polar": {
           "bgcolor": "rgb(17,17,17)",
           "angularaxis": {
            "gridcolor": "#506784",
            "linecolor": "#506784",
            "ticks": ""
           },
           "radialaxis": {
            "gridcolor": "#506784",
            "linecolor": "#506784",
            "ticks": ""
           }
          },
          "ternary": {
           "bgcolor": "rgb(17,17,17)",
           "aaxis": {
            "gridcolor": "#506784",
            "linecolor": "#506784",
            "ticks": ""
           },
           "baxis": {
            "gridcolor": "#506784",
            "linecolor": "#506784",
            "ticks": ""
           },
           "caxis": {
            "gridcolor": "#506784",
            "linecolor": "#506784",
            "ticks": ""
           }
          },
          "coloraxis": {
           "colorbar": {
            "outlinewidth": 0,
            "ticks": ""
           }
          },
          "colorscale": {
           "sequential": [
            [
             0.0,
             "#0d0887"
            ],
            [
             0.1111111111111111,
             "#46039f"
            ],
            [
             0.2222222222222222,
             "#7201a8"
            ],
            [
             0.3333333333333333,
             "#9c179e"
            ],
            [
             0.4444444444444444,
             "#bd3786"
            ],
            [
             0.5555555555555556,
             "#d8576b"
            ],
            [
             0.6666666666666666,
             "#ed7953"
            ],
            [
             0.7777777777777778,
             "#fb9f3a"
            ],
            [
             0.8888888888888888,
             "#fdca26"
            ],
            [
             1.0,
             "#f0f921"
            ]
           ],
           "sequentialminus": [
            [
             0.0,
             "#0d0887"
            ],
            [
             0.1111111111111111,
             "#46039f"
            ],
            [
             0.2222222222222222,
             "#7201a8"
            ],
            [
             0.3333333333333333,
             "#9c179e"
            ],
            [
             0.4444444444444444,
             "#bd3786"
            ],
            [
             0.5555555555555556,
             "#d8576b"
            ],
            [
             0.6666666666666666,
             "#ed7953"
            ],
            [
             0.7777777777777778,
             "#fb9f3a"
            ],
            [
             0.8888888888888888,
             "#fdca26"
            ],
            [
             1.0,
             "#f0f921"
            ]
           ],
           "diverging": [
            [
             0,
             "#8e0152"
            ],
            [
             0.1,
             "#c51b7d"
            ],
            [
             0.2,
             "#de77ae"
            ],
            [
             0.3,
             "#f1b6da"
            ],
            [
             0.4,
             "#fde0ef"
            ],
            [
             0.5,
             "#f7f7f7"
            ],
            [
             0.6,
             "#e6f5d0"
            ],
            [
             0.7,
             "#b8e186"
            ],
            [
             0.8,
             "#7fbc41"
            ],
            [
             0.9,
             "#4d9221"
            ],
            [
             1,
             "#276419"
            ]
           ]
          },
          "xaxis": {
           "gridcolor": "#283442",
           "linecolor": "#506784",
           "ticks": "",
           "title": {
            "standoff": 15
           },
           "zerolinecolor": "#283442",
           "automargin": true,
           "zerolinewidth": 2
          },
          "yaxis": {
           "gridcolor": "#283442",
           "linecolor": "#506784",
           "ticks": "",
           "title": {
            "standoff": 15
           },
           "zerolinecolor": "#283442",
           "automargin": true,
           "zerolinewidth": 2
          },
          "scene": {
           "xaxis": {
            "backgroundcolor": "rgb(17,17,17)",
            "gridcolor": "#506784",
            "linecolor": "#506784",
            "showbackground": true,
            "ticks": "",
            "zerolinecolor": "#C8D4E3",
            "gridwidth": 2
           },
           "yaxis": {
            "backgroundcolor": "rgb(17,17,17)",
            "gridcolor": "#506784",
            "linecolor": "#506784",
            "showbackground": true,
            "ticks": "",
            "zerolinecolor": "#C8D4E3",
            "gridwidth": 2
           },
           "zaxis": {
            "backgroundcolor": "rgb(17,17,17)",
            "gridcolor": "#506784",
            "linecolor": "#506784",
            "showbackground": true,
            "ticks": "",
            "zerolinecolor": "#C8D4E3",
            "gridwidth": 2
           }
          },
          "shapedefaults": {
           "line": {
            "color": "#f2f5fa"
           }
          },
          "annotationdefaults": {
           "arrowcolor": "#f2f5fa",
           "arrowhead": 0,
           "arrowwidth": 1
          },
          "geo": {
           "bgcolor": "rgb(17,17,17)",
           "landcolor": "rgb(17,17,17)",
           "subunitcolor": "#506784",
           "showland": true,
           "showlakes": true,
           "lakecolor": "rgb(17,17,17)"
          },
          "title": {
           "x": 0.05
          },
          "updatemenudefaults": {
           "bgcolor": "#506784",
           "borderwidth": 0
          },
          "sliderdefaults": {
           "bgcolor": "#C8D4E3",
           "borderwidth": 1,
           "bordercolor": "rgb(17,17,17)",
           "tickwidth": 0
          },
          "mapbox": {
           "style": "dark"
          }
         }
        },
        "title": {
         "text": "Layer of Neurons"
        },
        "xaxis": {
         "title": {
          "text": "X"
         }
        },
        "yaxis": {
         "title": {
          "text": "Y"
         }
        }
       },
       "config": {
        "plotlyServerURL": "https://plot.ly"
       }
      },
      "text/html": [
       "<div>                            <div id=\"120649bb-a623-4e98-a779-980037d7e04f\" class=\"plotly-graph-div\" style=\"height:525px; width:100%;\"></div>            <script type=\"text/javascript\">                require([\"plotly\"], function(Plotly) {                    window.PLOTLYENV=window.PLOTLYENV || {};                                    if (document.getElementById(\"120649bb-a623-4e98-a779-980037d7e04f\")) {                    Plotly.newPlot(                        \"120649bb-a623-4e98-a779-980037d7e04f\",                        [{\"mode\":\"lines+markers\",\"name\":\"Inputs\",\"x\":[1.0,2.0,3.0,2.5],\"xaxis\":\"x\",\"y\":[2.0,5.0,-1.0,2.0],\"yaxis\":\"y\",\"type\":\"scatter\"},{\"mode\":\"lines+markers\",\"name\":\"Weights\",\"x\":[0.2,0.8,-0.5,1.0],\"xaxis\":\"x\",\"y\":[0.5,-0.91,0.26,-0.5],\"yaxis\":\"y\",\"type\":\"scatter\"},{\"mode\":\"lines+markers\",\"name\":\"Biases\",\"x\":[2.0,3.0,0.5],\"xaxis\":\"x\",\"y\":[2.0,3.0,0.5],\"yaxis\":\"y\",\"type\":\"scatter\"},{\"mode\":\"lines+markers\",\"name\":\"Layer Outputs\",\"x\":[4.8,1.21,2.385],\"xaxis\":\"x\",\"y\":[8.9,-1.8100000000000005,0.19999999999999996],\"yaxis\":\"y\",\"type\":\"scatter\"},{\"mode\":\"lines+markers\",\"name\":\"Predictions\",\"x\":[0.9918374288468401,0.7702989490466019,0.9156763035785255],\"xaxis\":\"x\",\"y\":[0.9998636296729204,0.14063812573413412,0.5498339973124778],\"yaxis\":\"y\",\"type\":\"scatter\"},{\"mode\":\"lines+markers\",\"name\":\"Error Rate\",\"x\":[0.008162571153159881,0.2297010509533981,0.08432369642147453],\"xaxis\":\"x\",\"y\":[0.0001363703270795824,0.8593618742658659,0.45016600268752216],\"yaxis\":\"y\",\"type\":\"scatter\"}],                        {\"template\":{\"data\":{\"histogram2dcontour\":[{\"type\":\"histogram2dcontour\",\"colorbar\":{\"outlinewidth\":0,\"ticks\":\"\"},\"colorscale\":[[0.0,\"#0d0887\"],[0.1111111111111111,\"#46039f\"],[0.2222222222222222,\"#7201a8\"],[0.3333333333333333,\"#9c179e\"],[0.4444444444444444,\"#bd3786\"],[0.5555555555555556,\"#d8576b\"],[0.6666666666666666,\"#ed7953\"],[0.7777777777777778,\"#fb9f3a\"],[0.8888888888888888,\"#fdca26\"],[1.0,\"#f0f921\"]]}],\"choropleth\":[{\"type\":\"choropleth\",\"colorbar\":{\"outlinewidth\":0,\"ticks\":\"\"}}],\"histogram2d\":[{\"type\":\"histogram2d\",\"colorbar\":{\"outlinewidth\":0,\"ticks\":\"\"},\"colorscale\":[[0.0,\"#0d0887\"],[0.1111111111111111,\"#46039f\"],[0.2222222222222222,\"#7201a8\"],[0.3333333333333333,\"#9c179e\"],[0.4444444444444444,\"#bd3786\"],[0.5555555555555556,\"#d8576b\"],[0.6666666666666666,\"#ed7953\"],[0.7777777777777778,\"#fb9f3a\"],[0.8888888888888888,\"#fdca26\"],[1.0,\"#f0f921\"]]}],\"heatmap\":[{\"type\":\"heatmap\",\"colorbar\":{\"outlinewidth\":0,\"ticks\":\"\"},\"colorscale\":[[0.0,\"#0d0887\"],[0.1111111111111111,\"#46039f\"],[0.2222222222222222,\"#7201a8\"],[0.3333333333333333,\"#9c179e\"],[0.4444444444444444,\"#bd3786\"],[0.5555555555555556,\"#d8576b\"],[0.6666666666666666,\"#ed7953\"],[0.7777777777777778,\"#fb9f3a\"],[0.8888888888888888,\"#fdca26\"],[1.0,\"#f0f921\"]]}],\"heatmapgl\":[{\"type\":\"heatmapgl\",\"colorbar\":{\"outlinewidth\":0,\"ticks\":\"\"},\"colorscale\":[[0.0,\"#0d0887\"],[0.1111111111111111,\"#46039f\"],[0.2222222222222222,\"#7201a8\"],[0.3333333333333333,\"#9c179e\"],[0.4444444444444444,\"#bd3786\"],[0.5555555555555556,\"#d8576b\"],[0.6666666666666666,\"#ed7953\"],[0.7777777777777778,\"#fb9f3a\"],[0.8888888888888888,\"#fdca26\"],[1.0,\"#f0f921\"]]}],\"contourcarpet\":[{\"type\":\"contourcarpet\",\"colorbar\":{\"outlinewidth\":0,\"ticks\":\"\"}}],\"contour\":[{\"type\":\"contour\",\"colorbar\":{\"outlinewidth\":0,\"ticks\":\"\"},\"colorscale\":[[0.0,\"#0d0887\"],[0.1111111111111111,\"#46039f\"],[0.2222222222222222,\"#7201a8\"],[0.3333333333333333,\"#9c179e\"],[0.4444444444444444,\"#bd3786\"],[0.5555555555555556,\"#d8576b\"],[0.6666666666666666,\"#ed7953\"],[0.7777777777777778,\"#fb9f3a\"],[0.8888888888888888,\"#fdca26\"],[1.0,\"#f0f921\"]]}],\"surface\":[{\"type\":\"surface\",\"colorbar\":{\"outlinewidth\":0,\"ticks\":\"\"},\"colorscale\":[[0.0,\"#0d0887\"],[0.1111111111111111,\"#46039f\"],[0.2222222222222222,\"#7201a8\"],[0.3333333333333333,\"#9c179e\"],[0.4444444444444444,\"#bd3786\"],[0.5555555555555556,\"#d8576b\"],[0.6666666666666666,\"#ed7953\"],[0.7777777777777778,\"#fb9f3a\"],[0.8888888888888888,\"#fdca26\"],[1.0,\"#f0f921\"]]}],\"mesh3d\":[{\"type\":\"mesh3d\",\"colorbar\":{\"outlinewidth\":0,\"ticks\":\"\"}}],\"scatter\":[{\"marker\":{\"line\":{\"color\":\"#283442\"}},\"type\":\"scatter\"}],\"parcoords\":[{\"type\":\"parcoords\",\"line\":{\"colorbar\":{\"outlinewidth\":0,\"ticks\":\"\"}}}],\"scatterpolargl\":[{\"type\":\"scatterpolargl\",\"marker\":{\"colorbar\":{\"outlinewidth\":0,\"ticks\":\"\"}}}],\"bar\":[{\"error_x\":{\"color\":\"#f2f5fa\"},\"error_y\":{\"color\":\"#f2f5fa\"},\"marker\":{\"line\":{\"color\":\"rgb(17,17,17)\",\"width\":0.5},\"pattern\":{\"fillmode\":\"overlay\",\"size\":10,\"solidity\":0.2}},\"type\":\"bar\"}],\"scattergeo\":[{\"type\":\"scattergeo\",\"marker\":{\"colorbar\":{\"outlinewidth\":0,\"ticks\":\"\"}}}],\"scatterpolar\":[{\"type\":\"scatterpolar\",\"marker\":{\"colorbar\":{\"outlinewidth\":0,\"ticks\":\"\"}}}],\"histogram\":[{\"marker\":{\"pattern\":{\"fillmode\":\"overlay\",\"size\":10,\"solidity\":0.2}},\"type\":\"histogram\"}],\"scattergl\":[{\"marker\":{\"line\":{\"color\":\"#283442\"}},\"type\":\"scattergl\"}],\"scatter3d\":[{\"type\":\"scatter3d\",\"line\":{\"colorbar\":{\"outlinewidth\":0,\"ticks\":\"\"}},\"marker\":{\"colorbar\":{\"outlinewidth\":0,\"ticks\":\"\"}}}],\"scattermapbox\":[{\"type\":\"scattermapbox\",\"marker\":{\"colorbar\":{\"outlinewidth\":0,\"ticks\":\"\"}}}],\"scatterternary\":[{\"type\":\"scatterternary\",\"marker\":{\"colorbar\":{\"outlinewidth\":0,\"ticks\":\"\"}}}],\"scattercarpet\":[{\"type\":\"scattercarpet\",\"marker\":{\"colorbar\":{\"outlinewidth\":0,\"ticks\":\"\"}}}],\"carpet\":[{\"aaxis\":{\"endlinecolor\":\"#A2B1C6\",\"gridcolor\":\"#506784\",\"linecolor\":\"#506784\",\"minorgridcolor\":\"#506784\",\"startlinecolor\":\"#A2B1C6\"},\"baxis\":{\"endlinecolor\":\"#A2B1C6\",\"gridcolor\":\"#506784\",\"linecolor\":\"#506784\",\"minorgridcolor\":\"#506784\",\"startlinecolor\":\"#A2B1C6\"},\"type\":\"carpet\"}],\"table\":[{\"cells\":{\"fill\":{\"color\":\"#506784\"},\"line\":{\"color\":\"rgb(17,17,17)\"}},\"header\":{\"fill\":{\"color\":\"#2a3f5f\"},\"line\":{\"color\":\"rgb(17,17,17)\"}},\"type\":\"table\"}],\"barpolar\":[{\"marker\":{\"line\":{\"color\":\"rgb(17,17,17)\",\"width\":0.5},\"pattern\":{\"fillmode\":\"overlay\",\"size\":10,\"solidity\":0.2}},\"type\":\"barpolar\"}],\"pie\":[{\"automargin\":true,\"type\":\"pie\"}]},\"layout\":{\"autotypenumbers\":\"strict\",\"colorway\":[\"#636efa\",\"#EF553B\",\"#00cc96\",\"#ab63fa\",\"#FFA15A\",\"#19d3f3\",\"#FF6692\",\"#B6E880\",\"#FF97FF\",\"#FECB52\"],\"font\":{\"color\":\"#f2f5fa\"},\"hovermode\":\"closest\",\"hoverlabel\":{\"align\":\"left\"},\"paper_bgcolor\":\"rgb(17,17,17)\",\"plot_bgcolor\":\"rgb(17,17,17)\",\"polar\":{\"bgcolor\":\"rgb(17,17,17)\",\"angularaxis\":{\"gridcolor\":\"#506784\",\"linecolor\":\"#506784\",\"ticks\":\"\"},\"radialaxis\":{\"gridcolor\":\"#506784\",\"linecolor\":\"#506784\",\"ticks\":\"\"}},\"ternary\":{\"bgcolor\":\"rgb(17,17,17)\",\"aaxis\":{\"gridcolor\":\"#506784\",\"linecolor\":\"#506784\",\"ticks\":\"\"},\"baxis\":{\"gridcolor\":\"#506784\",\"linecolor\":\"#506784\",\"ticks\":\"\"},\"caxis\":{\"gridcolor\":\"#506784\",\"linecolor\":\"#506784\",\"ticks\":\"\"}},\"coloraxis\":{\"colorbar\":{\"outlinewidth\":0,\"ticks\":\"\"}},\"colorscale\":{\"sequential\":[[0.0,\"#0d0887\"],[0.1111111111111111,\"#46039f\"],[0.2222222222222222,\"#7201a8\"],[0.3333333333333333,\"#9c179e\"],[0.4444444444444444,\"#bd3786\"],[0.5555555555555556,\"#d8576b\"],[0.6666666666666666,\"#ed7953\"],[0.7777777777777778,\"#fb9f3a\"],[0.8888888888888888,\"#fdca26\"],[1.0,\"#f0f921\"]],\"sequentialminus\":[[0.0,\"#0d0887\"],[0.1111111111111111,\"#46039f\"],[0.2222222222222222,\"#7201a8\"],[0.3333333333333333,\"#9c179e\"],[0.4444444444444444,\"#bd3786\"],[0.5555555555555556,\"#d8576b\"],[0.6666666666666666,\"#ed7953\"],[0.7777777777777778,\"#fb9f3a\"],[0.8888888888888888,\"#fdca26\"],[1.0,\"#f0f921\"]],\"diverging\":[[0,\"#8e0152\"],[0.1,\"#c51b7d\"],[0.2,\"#de77ae\"],[0.3,\"#f1b6da\"],[0.4,\"#fde0ef\"],[0.5,\"#f7f7f7\"],[0.6,\"#e6f5d0\"],[0.7,\"#b8e186\"],[0.8,\"#7fbc41\"],[0.9,\"#4d9221\"],[1,\"#276419\"]]},\"xaxis\":{\"gridcolor\":\"#283442\",\"linecolor\":\"#506784\",\"ticks\":\"\",\"title\":{\"standoff\":15},\"zerolinecolor\":\"#283442\",\"automargin\":true,\"zerolinewidth\":2},\"yaxis\":{\"gridcolor\":\"#283442\",\"linecolor\":\"#506784\",\"ticks\":\"\",\"title\":{\"standoff\":15},\"zerolinecolor\":\"#283442\",\"automargin\":true,\"zerolinewidth\":2},\"scene\":{\"xaxis\":{\"backgroundcolor\":\"rgb(17,17,17)\",\"gridcolor\":\"#506784\",\"linecolor\":\"#506784\",\"showbackground\":true,\"ticks\":\"\",\"zerolinecolor\":\"#C8D4E3\",\"gridwidth\":2},\"yaxis\":{\"backgroundcolor\":\"rgb(17,17,17)\",\"gridcolor\":\"#506784\",\"linecolor\":\"#506784\",\"showbackground\":true,\"ticks\":\"\",\"zerolinecolor\":\"#C8D4E3\",\"gridwidth\":2},\"zaxis\":{\"backgroundcolor\":\"rgb(17,17,17)\",\"gridcolor\":\"#506784\",\"linecolor\":\"#506784\",\"showbackground\":true,\"ticks\":\"\",\"zerolinecolor\":\"#C8D4E3\",\"gridwidth\":2}},\"shapedefaults\":{\"line\":{\"color\":\"#f2f5fa\"}},\"annotationdefaults\":{\"arrowcolor\":\"#f2f5fa\",\"arrowhead\":0,\"arrowwidth\":1},\"geo\":{\"bgcolor\":\"rgb(17,17,17)\",\"landcolor\":\"rgb(17,17,17)\",\"subunitcolor\":\"#506784\",\"showland\":true,\"showlakes\":true,\"lakecolor\":\"rgb(17,17,17)\"},\"title\":{\"x\":0.05},\"updatemenudefaults\":{\"bgcolor\":\"#506784\",\"borderwidth\":0},\"sliderdefaults\":{\"bgcolor\":\"#C8D4E3\",\"borderwidth\":1,\"bordercolor\":\"rgb(17,17,17)\",\"tickwidth\":0},\"mapbox\":{\"style\":\"dark\"}}},\"title\":{\"text\":\"Layer of Neurons\"},\"xaxis\":{\"title\":{\"text\":\"X\"}},\"yaxis\":{\"title\":{\"text\":\"Y\"}}},                        {\"responsive\": true}                    ).then(function(){\n",
       "                            \n",
       "var gd = document.getElementById('120649bb-a623-4e98-a779-980037d7e04f');\n",
       "var x = new MutationObserver(function (mutations, observer) {{\n",
       "        var display = window.getComputedStyle(gd).display;\n",
       "        if (!display || display === 'none') {{\n",
       "            console.log([gd, 'removed!']);\n",
       "            Plotly.purge(gd);\n",
       "            observer.disconnect();\n",
       "        }}\n",
       "}});\n",
       "\n",
       "// Listen for the removal of the full notebook cells\n",
       "var notebookContainer = gd.closest('#notebook-container');\n",
       "if (notebookContainer) {{\n",
       "    x.observe(notebookContainer, {childList: true});\n",
       "}}\n",
       "\n",
       "// Listen for the clearing of the current output cell\n",
       "var outputEl = gd.closest('.output');\n",
       "if (outputEl) {{\n",
       "    x.observe(outputEl, {childList: true});\n",
       "}}\n",
       "\n",
       "                        })                };                });            </script>        </div>"
      ]
     },
     "metadata": {},
     "output_type": "display_data"
    }
   ],
   "execution_count": 102
  },
  {
   "metadata": {},
   "cell_type": "markdown",
   "source": [
    "## Hidden Layers\n",
    "\n",
    "A classic multilayer perceptron has multiple interconnected `perceptrons`, such as units that are organized in different sequential layers (`input layer`, one or more `hidden layers`, and an `output layer`). Each unit of a layer is connected to all units of the `next layer`. First, the information is presented to the `input layer`, then we use it to compute the output (or `activation`), $y_i$, for each unit of the first hidden layer. We propagate forward, with the output as input for the next layers in the network (hence feedforward), and so on until we reach the output. The most common way to train Neural Networks is by using `gradient descent` in combination with `backpropagation`.\n",
    "\n",
    "Think of the `hidden layers` as an abstract representation of the input data. This is the way the Neural Network understands the features of the data with its internal logic. However, Neural Networks are `non-interpretable models`. This means that if we observe the $y_i$ activations of the `hidden layer`, we wouldn’t be able to understand them. For us, they are just a `vector of numerical values`. We need the output layer to bridge the gap between the network’s representation and the actual data we’re interested in. You can think of this as a `translator`; we use it to understand the network’s logic, and at the same time, we can convert it into the actual target values that we are interested in.\n",
    "\n",
    "---\n",
    "\n",
    "### Hidden Layer Forward Pass\n",
    "\n",
    "Input layer `A` has 4 features into 2 hidden layers with 3 neurons each. Each neuron has 4 weights and 1 bias. The output of the hidden layer is a $3x3$ matrix. The output of the hidden layer is passed to the output layer is a $3x3$ matrix.\n",
    "\n",
    "**Note: inputs to layers are either inputs from the actual dataset you’re training with or outputs from a previous layer.**\n"
   ],
   "id": "88f0d38032d7ae03"
  },
  {
   "metadata": {
    "ExecuteTime": {
     "end_time": "2024-09-01T09:05:51.336539Z",
     "start_time": "2024-09-01T09:05:51.329693Z"
    }
   },
   "cell_type": "code",
   "source": [
    "from src.utils.mermaid import mm\n",
    "\n",
    "mm('''\n",
    "%%{\n",
    "  init: {\n",
    "    'theme': 'forest',\n",
    "    'themeVariables': {\n",
    "      'primaryColor': '#BB2528',\n",
    "      'primaryTextColor': '#fff',\n",
    "      'primaryBorderColor': '#7C0000',\n",
    "      'lineColor': '#F8B229',\n",
    "      'secondaryColor': '#006100',\n",
    "      'secondaryBorderColor': '#003700',\n",
    "      'secondaryTextColor': '#fff000',\n",
    "      'tertiaryColor': '#fff999',\n",
    "      'tertiaryBorderColor': '#000999',\n",
    "      'orientation': 'landscape'\n",
    "    }\n",
    "  }\n",
    "}%%\n",
    "\n",
    "graph TB\n",
    "    subgraph Input Layer\n",
    "        direction LR\n",
    "        A1[\"A1\"]\n",
    "        A2[\"A2\"]\n",
    "        A3[\"A3\"]\n",
    "    end \n",
    "    \n",
    "    subgraph Hidden Layer 1\n",
    "        direction LR\n",
    "        B1[\"B1\"]\n",
    "        B2[\"B2\"]\n",
    "        B3[\"B3\"]\n",
    "        subgraph Biases B\n",
    "            direction LR\n",
    "            B1_bias[/\"1\"/]\n",
    "            B2_bias[/\"2\"/]\n",
    "            B3_bias[/\"3\"/]\n",
    "        end\n",
    "    end\n",
    "    \n",
    "    subgraph Hidden Layer 2\n",
    "        direction LR\n",
    "        C1[\"C1\"]\n",
    "        C2[\"C2\"]\n",
    "        C3[\"C3\"]\n",
    "        subgraph Biases C\n",
    "            direction LR\n",
    "            C1_bias[/\"1\"/]\n",
    "            C2_bias[/\"2\"/]\n",
    "            C3_bias[/\"3\"/]\n",
    "        end\n",
    "    end\n",
    "    \n",
    "    subgraph Output Layer D\n",
    "        direction LR\n",
    "        D[\"D\"]\n",
    "        subgraph Biases D\n",
    "            direction LR\n",
    "            D_bias[/\"1\"/]\n",
    "        end\n",
    "    end\n",
    "\n",
    "\n",
    "    A1 --> |w1| B1[Neuron 1]\n",
    "    A1 --> |w2| B2[Neuron 2]\n",
    "    A1 --> |w3| B3[Neuron 3]\n",
    "\n",
    "    A2 --> |w4| B1[Neuron 1]\n",
    "    A2 --> |w5| B2[Neuron 2]\n",
    "    A2 --> |w6| B3[Neuron 3]\n",
    "\n",
    "    A3 --> |w7| B1[Neuron 1]\n",
    "    A3 --> |w8| B2[Neuron 2]\n",
    "    A3 --> |w9| B3[Neuron 3]\n",
    "\n",
    "    B1 --> |w1| C1[Neuron 1]\n",
    "    B1 --> |w2| C2[Neuron 2]\n",
    "    B1 --> |w3| C3[Neuron 3]\n",
    "\n",
    "    B2 --> |w4| C1[Neuron 1]\n",
    "    B2 --> |w5| C2[Neuron 2]\n",
    "    B2 --> |w6| C3[Neuron 3]\n",
    "\n",
    "    B3 --> |w7| C1[Neuron 1]\n",
    "    B3 --> |w8| C2[Neuron 2]\n",
    "    B3 --> |w9| C3[Neuron 3]\n",
    "\n",
    "    C1 --> |w1| D\n",
    "    C2 --> |w2| D\n",
    "    C3 --> |w3| D\n",
    "\n",
    "    B1_bias --> B1\n",
    "    B2_bias --> B2\n",
    "    B3_bias --> B3\n",
    "\n",
    "    C1_bias --> C1\n",
    "    C2_bias --> C2\n",
    "    C3_bias --> C3\n",
    "\n",
    "    D_bias --> D\n",
    "   ''')"
   ],
   "id": "86d99ace6ce27f13",
   "outputs": [
    {
     "data": {
      "text/html": [
       "<img src=\"https://mermaid.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\"/>"
      ],
      "text/plain": [
       "<IPython.core.display.Image object>"
      ]
     },
     "metadata": {},
     "output_type": "display_data"
    }
   ],
   "execution_count": 103
  },
  {
   "metadata": {
    "ExecuteTime": {
     "end_time": "2024-09-01T09:05:51.416874Z",
     "start_time": "2024-09-01T09:05:51.406023Z"
    }
   },
   "cell_type": "code",
   "source": [
    "\n",
    "import numpy as np\n",
    "\n",
    "# Create the input data\n",
    "inputs=np.array([\n",
    "    [1,2,3,2.5], \n",
    "    [2.,5.,-1.,2], \n",
    "    [-1.5,2.7,3.3,-0.8]\n",
    "])\n",
    "# Create the weights and biases\n",
    "weights=np.array([\n",
    "    [0.2,0.8,-0.5,1],\n",
    "    [0.5,-0.91,0.26,-0.5],\n",
    "    [-0.26,-0.27,0.17,0.87]\n",
    "])\n",
    "biases=np.array([2,3,0.5])\n",
    "weights2=np.array([\n",
    "    [0.1,-0.14,0.5], \n",
    "    [-0.5,0.12,-0.33],\n",
    "    [-0.44,0.73,-0.13]\n",
    "])\n",
    "biases2=np.array([-1,2,-0.5])\n",
    "# Calculate the output of the hidden layers of neurons\n",
    "layer1_outputs=(np.dot(inputs, weights.T) + biases) \n",
    "log.info(layer1_outputs)\n",
    "# Calculate the output of the output layer of neurons\n",
    "layer2_outputs=(np.dot(layer1_outputs, weights2.T) + biases2)\n",
    "log.info(layer2_outputs)"
   ],
   "id": "9043b4eea43a9f11",
   "outputs": [
    {
     "name": "stderr",
     "output_type": "stream",
     "text": [
      "\u001B[32m[2024-09-01 05:05:51][INFO][root][24]: \n",
      "[[ 4.8    1.21   2.385]\n",
      " [ 8.9   -1.81   0.2  ]\n",
      " [ 1.41   1.051  0.026]]\u001B[0m\n",
      "\u001B[32m[2024-09-01 05:05:51][INFO][root][27]: \n",
      "[[ 0.5031  -1.04185 -2.03875]\n",
      " [ 0.2434  -2.7332  -5.7633 ]\n",
      " [-0.99314  1.41254 -0.35655]]\u001B[0m\n"
     ]
    }
   ],
   "execution_count": 104
  },
  {
   "metadata": {
    "ExecuteTime": {
     "end_time": "2024-09-01T09:05:51.491409Z",
     "start_time": "2024-09-01T09:05:51.473371Z"
    }
   },
   "cell_type": "code",
   "source": [
    "from src.utils.datasets import create_random_nonlinear_3D_dataset\n",
    "\n",
    "# Create a nonlinear dataset\n",
    "X, y, z = create_random_nonlinear_3D_dataset(10, 10, 10, 3)\n",
    "\n",
    "# Get the X, y, z and n values\n",
    "log.info(X.shape)  # (10, 10, 3)\n",
    "log.info(y.shape)  # (10, 10, 3)\n",
    "log.info(z.shape)  # (10, 10, 3)\n",
    "\n",
    "# Since we have 3 dimensions, we need to flatten the data\n",
    "X_flat = X.flatten()\n",
    "y_flat = y.flatten()\n",
    "z_flat = z.flatten()\n",
    "n_flat = np.sqrt(X_flat**2 + y_flat**2 + z_flat**2)\n",
    "\n",
    "# Log the shapes\n",
    "log.info(X_flat.shape)  # (300,)\n",
    "log.info(y_flat.shape)  # (300,)\n",
    "log.info(z_flat.shape)  # (300,)\n",
    "log.info(n_flat.shape)  # (300,)"
   ],
   "id": "ae0bf4859bf2eb50",
   "outputs": [
    {
     "name": "stderr",
     "output_type": "stream",
     "text": [
      "\u001B[32m[2024-09-01 05:05:51][INFO][root][7]: \n",
      "(10, 3)\u001B[0m\n",
      "\u001B[32m[2024-09-01 05:05:51][INFO][root][8]: \n",
      "(10, 3)\u001B[0m\n",
      "\u001B[32m[2024-09-01 05:05:51][INFO][root][9]: \n",
      "(10, 3)\u001B[0m\n",
      "\u001B[32m[2024-09-01 05:05:51][INFO][root][18]: \n",
      "(30,)\u001B[0m\n",
      "\u001B[32m[2024-09-01 05:05:51][INFO][root][19]: \n",
      "(30,)\u001B[0m\n",
      "\u001B[32m[2024-09-01 05:05:51][INFO][root][20]: \n",
      "(30,)\u001B[0m\n",
      "\u001B[32m[2024-09-01 05:05:51][INFO][root][21]: \n",
      "(30,)\u001B[0m\n"
     ]
    }
   ],
   "execution_count": 105
  },
  {
   "metadata": {
    "ExecuteTime": {
     "end_time": "2024-09-01T09:05:51.609400Z",
     "start_time": "2024-09-01T09:05:51.591969Z"
    }
   },
   "cell_type": "code",
   "source": [
    "# Graph the dataset\n",
    "from plotly import graph_objects as go\n",
    "\n",
    "# Create the 3D scatter plot\n",
    "fig = go.Figure()\n",
    "# Add trace to represent all the data points in the dataset\n",
    "fig.add_trace(\n",
    "    go.Scatter3d(\n",
    "        x=X_flat, y=y_flat, z=z_flat, mode='markers', \n",
    "        marker=dict(size=5, color=n_flat, opacity=0.5, colorscale='Viridis'), name='Dataset'\n",
    "    )\n",
    ")\n",
    "# Update the layout of the plot\n",
    "fig.update_layout(\n",
    "    title='Nonlinear Dataset', \n",
    "    scene=dict(xaxis_title='X', yaxis_title='Y', zaxis_title='Z'),\n",
    ")\n",
    "# Show the plot\n",
    "fig.show()\n"
   ],
   "id": "a7bf89b8bf655994",
   "outputs": [
    {
     "data": {
      "application/vnd.plotly.v1+json": {
       "data": [
        {
         "marker": {
          "color": [
           1.1763377912113584,
           1.1689143382143692,
           1.102569111781018,
           0.9660845721526051,
           1.3379925720810222,
           1.6632730847422696,
           1.1262956807485995,
           1.4290859763959398,
           1.215236201998464,
           1.5802837894306363,
           0.9971677788953108,
           1.2387053126878478,
           1.5667441905641533,
           1.4249156992746288,
           1.537901389627821,
           1.4943851728430098,
           1.3109340942271408,
           1.0528905018057813,
           1.27943801179152,
           0.9278476392819833,
           1.5710496951224437,
           0.4350631146197025,
           1.3781389894903524,
           1.2134131201598892,
           1.5073930330277654,
           1.3908404366950295,
           1.1987791072059288,
           1.0420111035341602,
           1.4155339772527147,
           1.4081586019858208
          ],
          "colorscale": [
           [
            0.0,
            "#440154"
           ],
           [
            0.1111111111111111,
            "#482878"
           ],
           [
            0.2222222222222222,
            "#3e4989"
           ],
           [
            0.3333333333333333,
            "#31688e"
           ],
           [
            0.4444444444444444,
            "#26828e"
           ],
           [
            0.5555555555555556,
            "#1f9e89"
           ],
           [
            0.6666666666666666,
            "#35b779"
           ],
           [
            0.7777777777777778,
            "#6ece58"
           ],
           [
            0.8888888888888888,
            "#b5de2b"
           ],
           [
            1.0,
            "#fde725"
           ]
          ],
          "opacity": 0.5,
          "size": 5
         },
         "mode": "markers",
         "name": "Dataset",
         "x": [
          0.9381629887802466,
          0.7669864753968659,
          0.7937536448707376,
          0.25545686029335346,
          0.7812629847610933,
          0.991081182458292,
          0.43193792236168144,
          0.9218721927439567,
          0.8540591557784233,
          0.9833501003543444,
          0.9785899533786951,
          0.9323360695258968,
          0.9991483078519332,
          0.8904393486944931,
          0.9500428303556924,
          0.574431429444719,
          0.9976884466991381,
          0.28306470656323424,
          0.8430395660448874,
          0.28037660363575234,
          0.8103077486357447,
          0.35048830833235795,
          0.5126028640310943,
          0.1467967260397254,
          0.9223245280004124,
          0.9888462218294565,
          0.5377167176709242,
          0.5851071091540245,
          0.43471162510452255,
          0.8933515869349664
         ],
         "y": [
          0.6967071993271818,
          0.8014950502728918,
          0.35659832194889257,
          0.8534789046204831,
          0.49550205088377663,
          0.9435426009088705,
          0.2894138514032009,
          0.5328907729451735,
          0.45721222924523874,
          0.9344570303684263,
          0.1742165913119343,
          0.038865925596112204,
          0.9905928049849803,
          0.5194876166325478,
          0.710152741524983,
          0.9535756836454219,
          0.30054405318373895,
          0.9941123898773315,
          0.960117003635544,
          0.12309431394709244,
          0.9010218872512992,
          0.2475123781949232,
          0.8189796744626557,
          0.8618901525577966,
          0.6522379458501888,
          0.12520609335412444,
          0.9755675012769723,
          0.8356812074241637,
          0.9094655178743166,
          0.8857380804691839
         ],
         "z": [
          0.13498105022782625,
          0.3683723130604204,
          0.6770904181062051,
          0.37367760495936114,
          0.9666074638425612,
          0.9454960626439768,
          0.9991052068299872,
          0.9531347293467389,
          0.7337158595173594,
          0.8106229047253565,
          0.07971111418705212,
          0.8146347310111806,
          0.6892865240922174,
          0.9836844679577217,
          0.978898558796303,
          0.99694984489657,
          0.7955119325478939,
          0.20048275981610048,
          0.06649252160800419,
          0.8758641399947393,
          0.9998790205516371,
          0.07194082335650373,
          0.9827398796007271,
          0.8414080379483391,
          0.9980665724602688,
          0.9700225276284196,
          0.4429448383973519,
          0.21230574712897016,
          0.9937981261571562,
          0.6326939570394237
         ],
         "type": "scatter3d"
        }
       ],
       "layout": {
        "template": {
         "data": {
          "histogram2dcontour": [
           {
            "type": "histogram2dcontour",
            "colorbar": {
             "outlinewidth": 0,
             "ticks": ""
            },
            "colorscale": [
             [
              0.0,
              "#0d0887"
             ],
             [
              0.1111111111111111,
              "#46039f"
             ],
             [
              0.2222222222222222,
              "#7201a8"
             ],
             [
              0.3333333333333333,
              "#9c179e"
             ],
             [
              0.4444444444444444,
              "#bd3786"
             ],
             [
              0.5555555555555556,
              "#d8576b"
             ],
             [
              0.6666666666666666,
              "#ed7953"
             ],
             [
              0.7777777777777778,
              "#fb9f3a"
             ],
             [
              0.8888888888888888,
              "#fdca26"
             ],
             [
              1.0,
              "#f0f921"
             ]
            ]
           }
          ],
          "choropleth": [
           {
            "type": "choropleth",
            "colorbar": {
             "outlinewidth": 0,
             "ticks": ""
            }
           }
          ],
          "histogram2d": [
           {
            "type": "histogram2d",
            "colorbar": {
             "outlinewidth": 0,
             "ticks": ""
            },
            "colorscale": [
             [
              0.0,
              "#0d0887"
             ],
             [
              0.1111111111111111,
              "#46039f"
             ],
             [
              0.2222222222222222,
              "#7201a8"
             ],
             [
              0.3333333333333333,
              "#9c179e"
             ],
             [
              0.4444444444444444,
              "#bd3786"
             ],
             [
              0.5555555555555556,
              "#d8576b"
             ],
             [
              0.6666666666666666,
              "#ed7953"
             ],
             [
              0.7777777777777778,
              "#fb9f3a"
             ],
             [
              0.8888888888888888,
              "#fdca26"
             ],
             [
              1.0,
              "#f0f921"
             ]
            ]
           }
          ],
          "heatmap": [
           {
            "type": "heatmap",
            "colorbar": {
             "outlinewidth": 0,
             "ticks": ""
            },
            "colorscale": [
             [
              0.0,
              "#0d0887"
             ],
             [
              0.1111111111111111,
              "#46039f"
             ],
             [
              0.2222222222222222,
              "#7201a8"
             ],
             [
              0.3333333333333333,
              "#9c179e"
             ],
             [
              0.4444444444444444,
              "#bd3786"
             ],
             [
              0.5555555555555556,
              "#d8576b"
             ],
             [
              0.6666666666666666,
              "#ed7953"
             ],
             [
              0.7777777777777778,
              "#fb9f3a"
             ],
             [
              0.8888888888888888,
              "#fdca26"
             ],
             [
              1.0,
              "#f0f921"
             ]
            ]
           }
          ],
          "heatmapgl": [
           {
            "type": "heatmapgl",
            "colorbar": {
             "outlinewidth": 0,
             "ticks": ""
            },
            "colorscale": [
             [
              0.0,
              "#0d0887"
             ],
             [
              0.1111111111111111,
              "#46039f"
             ],
             [
              0.2222222222222222,
              "#7201a8"
             ],
             [
              0.3333333333333333,
              "#9c179e"
             ],
             [
              0.4444444444444444,
              "#bd3786"
             ],
             [
              0.5555555555555556,
              "#d8576b"
             ],
             [
              0.6666666666666666,
              "#ed7953"
             ],
             [
              0.7777777777777778,
              "#fb9f3a"
             ],
             [
              0.8888888888888888,
              "#fdca26"
             ],
             [
              1.0,
              "#f0f921"
             ]
            ]
           }
          ],
          "contourcarpet": [
           {
            "type": "contourcarpet",
            "colorbar": {
             "outlinewidth": 0,
             "ticks": ""
            }
           }
          ],
          "contour": [
           {
            "type": "contour",
            "colorbar": {
             "outlinewidth": 0,
             "ticks": ""
            },
            "colorscale": [
             [
              0.0,
              "#0d0887"
             ],
             [
              0.1111111111111111,
              "#46039f"
             ],
             [
              0.2222222222222222,
              "#7201a8"
             ],
             [
              0.3333333333333333,
              "#9c179e"
             ],
             [
              0.4444444444444444,
              "#bd3786"
             ],
             [
              0.5555555555555556,
              "#d8576b"
             ],
             [
              0.6666666666666666,
              "#ed7953"
             ],
             [
              0.7777777777777778,
              "#fb9f3a"
             ],
             [
              0.8888888888888888,
              "#fdca26"
             ],
             [
              1.0,
              "#f0f921"
             ]
            ]
           }
          ],
          "surface": [
           {
            "type": "surface",
            "colorbar": {
             "outlinewidth": 0,
             "ticks": ""
            },
            "colorscale": [
             [
              0.0,
              "#0d0887"
             ],
             [
              0.1111111111111111,
              "#46039f"
             ],
             [
              0.2222222222222222,
              "#7201a8"
             ],
             [
              0.3333333333333333,
              "#9c179e"
             ],
             [
              0.4444444444444444,
              "#bd3786"
             ],
             [
              0.5555555555555556,
              "#d8576b"
             ],
             [
              0.6666666666666666,
              "#ed7953"
             ],
             [
              0.7777777777777778,
              "#fb9f3a"
             ],
             [
              0.8888888888888888,
              "#fdca26"
             ],
             [
              1.0,
              "#f0f921"
             ]
            ]
           }
          ],
          "mesh3d": [
           {
            "type": "mesh3d",
            "colorbar": {
             "outlinewidth": 0,
             "ticks": ""
            }
           }
          ],
          "scatter": [
           {
            "marker": {
             "line": {
              "color": "#283442"
             }
            },
            "type": "scatter"
           }
          ],
          "parcoords": [
           {
            "type": "parcoords",
            "line": {
             "colorbar": {
              "outlinewidth": 0,
              "ticks": ""
             }
            }
           }
          ],
          "scatterpolargl": [
           {
            "type": "scatterpolargl",
            "marker": {
             "colorbar": {
              "outlinewidth": 0,
              "ticks": ""
             }
            }
           }
          ],
          "bar": [
           {
            "error_x": {
             "color": "#f2f5fa"
            },
            "error_y": {
             "color": "#f2f5fa"
            },
            "marker": {
             "line": {
              "color": "rgb(17,17,17)",
              "width": 0.5
             },
             "pattern": {
              "fillmode": "overlay",
              "size": 10,
              "solidity": 0.2
             }
            },
            "type": "bar"
           }
          ],
          "scattergeo": [
           {
            "type": "scattergeo",
            "marker": {
             "colorbar": {
              "outlinewidth": 0,
              "ticks": ""
             }
            }
           }
          ],
          "scatterpolar": [
           {
            "type": "scatterpolar",
            "marker": {
             "colorbar": {
              "outlinewidth": 0,
              "ticks": ""
             }
            }
           }
          ],
          "histogram": [
           {
            "marker": {
             "pattern": {
              "fillmode": "overlay",
              "size": 10,
              "solidity": 0.2
             }
            },
            "type": "histogram"
           }
          ],
          "scattergl": [
           {
            "marker": {
             "line": {
              "color": "#283442"
             }
            },
            "type": "scattergl"
           }
          ],
          "scatter3d": [
           {
            "type": "scatter3d",
            "line": {
             "colorbar": {
              "outlinewidth": 0,
              "ticks": ""
             }
            },
            "marker": {
             "colorbar": {
              "outlinewidth": 0,
              "ticks": ""
             }
            }
           }
          ],
          "scattermapbox": [
           {
            "type": "scattermapbox",
            "marker": {
             "colorbar": {
              "outlinewidth": 0,
              "ticks": ""
             }
            }
           }
          ],
          "scatterternary": [
           {
            "type": "scatterternary",
            "marker": {
             "colorbar": {
              "outlinewidth": 0,
              "ticks": ""
             }
            }
           }
          ],
          "scattercarpet": [
           {
            "type": "scattercarpet",
            "marker": {
             "colorbar": {
              "outlinewidth": 0,
              "ticks": ""
             }
            }
           }
          ],
          "carpet": [
           {
            "aaxis": {
             "endlinecolor": "#A2B1C6",
             "gridcolor": "#506784",
             "linecolor": "#506784",
             "minorgridcolor": "#506784",
             "startlinecolor": "#A2B1C6"
            },
            "baxis": {
             "endlinecolor": "#A2B1C6",
             "gridcolor": "#506784",
             "linecolor": "#506784",
             "minorgridcolor": "#506784",
             "startlinecolor": "#A2B1C6"
            },
            "type": "carpet"
           }
          ],
          "table": [
           {
            "cells": {
             "fill": {
              "color": "#506784"
             },
             "line": {
              "color": "rgb(17,17,17)"
             }
            },
            "header": {
             "fill": {
              "color": "#2a3f5f"
             },
             "line": {
              "color": "rgb(17,17,17)"
             }
            },
            "type": "table"
           }
          ],
          "barpolar": [
           {
            "marker": {
             "line": {
              "color": "rgb(17,17,17)",
              "width": 0.5
             },
             "pattern": {
              "fillmode": "overlay",
              "size": 10,
              "solidity": 0.2
             }
            },
            "type": "barpolar"
           }
          ],
          "pie": [
           {
            "automargin": true,
            "type": "pie"
           }
          ]
         },
         "layout": {
          "autotypenumbers": "strict",
          "colorway": [
           "#636efa",
           "#EF553B",
           "#00cc96",
           "#ab63fa",
           "#FFA15A",
           "#19d3f3",
           "#FF6692",
           "#B6E880",
           "#FF97FF",
           "#FECB52"
          ],
          "font": {
           "color": "#f2f5fa"
          },
          "hovermode": "closest",
          "hoverlabel": {
           "align": "left"
          },
          "paper_bgcolor": "rgb(17,17,17)",
          "plot_bgcolor": "rgb(17,17,17)",
          "polar": {
           "bgcolor": "rgb(17,17,17)",
           "angularaxis": {
            "gridcolor": "#506784",
            "linecolor": "#506784",
            "ticks": ""
           },
           "radialaxis": {
            "gridcolor": "#506784",
            "linecolor": "#506784",
            "ticks": ""
           }
          },
          "ternary": {
           "bgcolor": "rgb(17,17,17)",
           "aaxis": {
            "gridcolor": "#506784",
            "linecolor": "#506784",
            "ticks": ""
           },
           "baxis": {
            "gridcolor": "#506784",
            "linecolor": "#506784",
            "ticks": ""
           },
           "caxis": {
            "gridcolor": "#506784",
            "linecolor": "#506784",
            "ticks": ""
           }
          },
          "coloraxis": {
           "colorbar": {
            "outlinewidth": 0,
            "ticks": ""
           }
          },
          "colorscale": {
           "sequential": [
            [
             0.0,
             "#0d0887"
            ],
            [
             0.1111111111111111,
             "#46039f"
            ],
            [
             0.2222222222222222,
             "#7201a8"
            ],
            [
             0.3333333333333333,
             "#9c179e"
            ],
            [
             0.4444444444444444,
             "#bd3786"
            ],
            [
             0.5555555555555556,
             "#d8576b"
            ],
            [
             0.6666666666666666,
             "#ed7953"
            ],
            [
             0.7777777777777778,
             "#fb9f3a"
            ],
            [
             0.8888888888888888,
             "#fdca26"
            ],
            [
             1.0,
             "#f0f921"
            ]
           ],
           "sequentialminus": [
            [
             0.0,
             "#0d0887"
            ],
            [
             0.1111111111111111,
             "#46039f"
            ],
            [
             0.2222222222222222,
             "#7201a8"
            ],
            [
             0.3333333333333333,
             "#9c179e"
            ],
            [
             0.4444444444444444,
             "#bd3786"
            ],
            [
             0.5555555555555556,
             "#d8576b"
            ],
            [
             0.6666666666666666,
             "#ed7953"
            ],
            [
             0.7777777777777778,
             "#fb9f3a"
            ],
            [
             0.8888888888888888,
             "#fdca26"
            ],
            [
             1.0,
             "#f0f921"
            ]
           ],
           "diverging": [
            [
             0,
             "#8e0152"
            ],
            [
             0.1,
             "#c51b7d"
            ],
            [
             0.2,
             "#de77ae"
            ],
            [
             0.3,
             "#f1b6da"
            ],
            [
             0.4,
             "#fde0ef"
            ],
            [
             0.5,
             "#f7f7f7"
            ],
            [
             0.6,
             "#e6f5d0"
            ],
            [
             0.7,
             "#b8e186"
            ],
            [
             0.8,
             "#7fbc41"
            ],
            [
             0.9,
             "#4d9221"
            ],
            [
             1,
             "#276419"
            ]
           ]
          },
          "xaxis": {
           "gridcolor": "#283442",
           "linecolor": "#506784",
           "ticks": "",
           "title": {
            "standoff": 15
           },
           "zerolinecolor": "#283442",
           "automargin": true,
           "zerolinewidth": 2
          },
          "yaxis": {
           "gridcolor": "#283442",
           "linecolor": "#506784",
           "ticks": "",
           "title": {
            "standoff": 15
           },
           "zerolinecolor": "#283442",
           "automargin": true,
           "zerolinewidth": 2
          },
          "scene": {
           "xaxis": {
            "backgroundcolor": "rgb(17,17,17)",
            "gridcolor": "#506784",
            "linecolor": "#506784",
            "showbackground": true,
            "ticks": "",
            "zerolinecolor": "#C8D4E3",
            "gridwidth": 2
           },
           "yaxis": {
            "backgroundcolor": "rgb(17,17,17)",
            "gridcolor": "#506784",
            "linecolor": "#506784",
            "showbackground": true,
            "ticks": "",
            "zerolinecolor": "#C8D4E3",
            "gridwidth": 2
           },
           "zaxis": {
            "backgroundcolor": "rgb(17,17,17)",
            "gridcolor": "#506784",
            "linecolor": "#506784",
            "showbackground": true,
            "ticks": "",
            "zerolinecolor": "#C8D4E3",
            "gridwidth": 2
           }
          },
          "shapedefaults": {
           "line": {
            "color": "#f2f5fa"
           }
          },
          "annotationdefaults": {
           "arrowcolor": "#f2f5fa",
           "arrowhead": 0,
           "arrowwidth": 1
          },
          "geo": {
           "bgcolor": "rgb(17,17,17)",
           "landcolor": "rgb(17,17,17)",
           "subunitcolor": "#506784",
           "showland": true,
           "showlakes": true,
           "lakecolor": "rgb(17,17,17)"
          },
          "title": {
           "x": 0.05
          },
          "updatemenudefaults": {
           "bgcolor": "#506784",
           "borderwidth": 0
          },
          "sliderdefaults": {
           "bgcolor": "#C8D4E3",
           "borderwidth": 1,
           "bordercolor": "rgb(17,17,17)",
           "tickwidth": 0
          },
          "mapbox": {
           "style": "dark"
          }
         }
        },
        "title": {
         "text": "Nonlinear Dataset"
        },
        "scene": {
         "xaxis": {
          "title": {
           "text": "X"
          }
         },
         "yaxis": {
          "title": {
           "text": "Y"
          }
         },
         "zaxis": {
          "title": {
           "text": "Z"
          }
         }
        }
       },
       "config": {
        "plotlyServerURL": "https://plot.ly"
       }
      },
      "text/html": [
       "<div>                            <div id=\"df0f814e-253f-4f3c-bb02-fb9b9b09b0fd\" class=\"plotly-graph-div\" style=\"height:525px; width:100%;\"></div>            <script type=\"text/javascript\">                require([\"plotly\"], function(Plotly) {                    window.PLOTLYENV=window.PLOTLYENV || {};                                    if (document.getElementById(\"df0f814e-253f-4f3c-bb02-fb9b9b09b0fd\")) {                    Plotly.newPlot(                        \"df0f814e-253f-4f3c-bb02-fb9b9b09b0fd\",                        [{\"marker\":{\"color\":[1.1763377912113584,1.1689143382143692,1.102569111781018,0.9660845721526051,1.3379925720810222,1.6632730847422696,1.1262956807485995,1.4290859763959398,1.215236201998464,1.5802837894306363,0.9971677788953108,1.2387053126878478,1.5667441905641533,1.4249156992746288,1.537901389627821,1.4943851728430098,1.3109340942271408,1.0528905018057813,1.27943801179152,0.9278476392819833,1.5710496951224437,0.4350631146197025,1.3781389894903524,1.2134131201598892,1.5073930330277654,1.3908404366950295,1.1987791072059288,1.0420111035341602,1.4155339772527147,1.4081586019858208],\"colorscale\":[[0.0,\"#440154\"],[0.1111111111111111,\"#482878\"],[0.2222222222222222,\"#3e4989\"],[0.3333333333333333,\"#31688e\"],[0.4444444444444444,\"#26828e\"],[0.5555555555555556,\"#1f9e89\"],[0.6666666666666666,\"#35b779\"],[0.7777777777777778,\"#6ece58\"],[0.8888888888888888,\"#b5de2b\"],[1.0,\"#fde725\"]],\"opacity\":0.5,\"size\":5},\"mode\":\"markers\",\"name\":\"Dataset\",\"x\":[0.9381629887802466,0.7669864753968659,0.7937536448707376,0.25545686029335346,0.7812629847610933,0.991081182458292,0.43193792236168144,0.9218721927439567,0.8540591557784233,0.9833501003543444,0.9785899533786951,0.9323360695258968,0.9991483078519332,0.8904393486944931,0.9500428303556924,0.574431429444719,0.9976884466991381,0.28306470656323424,0.8430395660448874,0.28037660363575234,0.8103077486357447,0.35048830833235795,0.5126028640310943,0.1467967260397254,0.9223245280004124,0.9888462218294565,0.5377167176709242,0.5851071091540245,0.43471162510452255,0.8933515869349664],\"y\":[0.6967071993271818,0.8014950502728918,0.35659832194889257,0.8534789046204831,0.49550205088377663,0.9435426009088705,0.2894138514032009,0.5328907729451735,0.45721222924523874,0.9344570303684263,0.1742165913119343,0.038865925596112204,0.9905928049849803,0.5194876166325478,0.710152741524983,0.9535756836454219,0.30054405318373895,0.9941123898773315,0.960117003635544,0.12309431394709244,0.9010218872512992,0.2475123781949232,0.8189796744626557,0.8618901525577966,0.6522379458501888,0.12520609335412444,0.9755675012769723,0.8356812074241637,0.9094655178743166,0.8857380804691839],\"z\":[0.13498105022782625,0.3683723130604204,0.6770904181062051,0.37367760495936114,0.9666074638425612,0.9454960626439768,0.9991052068299872,0.9531347293467389,0.7337158595173594,0.8106229047253565,0.07971111418705212,0.8146347310111806,0.6892865240922174,0.9836844679577217,0.978898558796303,0.99694984489657,0.7955119325478939,0.20048275981610048,0.06649252160800419,0.8758641399947393,0.9998790205516371,0.07194082335650373,0.9827398796007271,0.8414080379483391,0.9980665724602688,0.9700225276284196,0.4429448383973519,0.21230574712897016,0.9937981261571562,0.6326939570394237],\"type\":\"scatter3d\"}],                        {\"template\":{\"data\":{\"histogram2dcontour\":[{\"type\":\"histogram2dcontour\",\"colorbar\":{\"outlinewidth\":0,\"ticks\":\"\"},\"colorscale\":[[0.0,\"#0d0887\"],[0.1111111111111111,\"#46039f\"],[0.2222222222222222,\"#7201a8\"],[0.3333333333333333,\"#9c179e\"],[0.4444444444444444,\"#bd3786\"],[0.5555555555555556,\"#d8576b\"],[0.6666666666666666,\"#ed7953\"],[0.7777777777777778,\"#fb9f3a\"],[0.8888888888888888,\"#fdca26\"],[1.0,\"#f0f921\"]]}],\"choropleth\":[{\"type\":\"choropleth\",\"colorbar\":{\"outlinewidth\":0,\"ticks\":\"\"}}],\"histogram2d\":[{\"type\":\"histogram2d\",\"colorbar\":{\"outlinewidth\":0,\"ticks\":\"\"},\"colorscale\":[[0.0,\"#0d0887\"],[0.1111111111111111,\"#46039f\"],[0.2222222222222222,\"#7201a8\"],[0.3333333333333333,\"#9c179e\"],[0.4444444444444444,\"#bd3786\"],[0.5555555555555556,\"#d8576b\"],[0.6666666666666666,\"#ed7953\"],[0.7777777777777778,\"#fb9f3a\"],[0.8888888888888888,\"#fdca26\"],[1.0,\"#f0f921\"]]}],\"heatmap\":[{\"type\":\"heatmap\",\"colorbar\":{\"outlinewidth\":0,\"ticks\":\"\"},\"colorscale\":[[0.0,\"#0d0887\"],[0.1111111111111111,\"#46039f\"],[0.2222222222222222,\"#7201a8\"],[0.3333333333333333,\"#9c179e\"],[0.4444444444444444,\"#bd3786\"],[0.5555555555555556,\"#d8576b\"],[0.6666666666666666,\"#ed7953\"],[0.7777777777777778,\"#fb9f3a\"],[0.8888888888888888,\"#fdca26\"],[1.0,\"#f0f921\"]]}],\"heatmapgl\":[{\"type\":\"heatmapgl\",\"colorbar\":{\"outlinewidth\":0,\"ticks\":\"\"},\"colorscale\":[[0.0,\"#0d0887\"],[0.1111111111111111,\"#46039f\"],[0.2222222222222222,\"#7201a8\"],[0.3333333333333333,\"#9c179e\"],[0.4444444444444444,\"#bd3786\"],[0.5555555555555556,\"#d8576b\"],[0.6666666666666666,\"#ed7953\"],[0.7777777777777778,\"#fb9f3a\"],[0.8888888888888888,\"#fdca26\"],[1.0,\"#f0f921\"]]}],\"contourcarpet\":[{\"type\":\"contourcarpet\",\"colorbar\":{\"outlinewidth\":0,\"ticks\":\"\"}}],\"contour\":[{\"type\":\"contour\",\"colorbar\":{\"outlinewidth\":0,\"ticks\":\"\"},\"colorscale\":[[0.0,\"#0d0887\"],[0.1111111111111111,\"#46039f\"],[0.2222222222222222,\"#7201a8\"],[0.3333333333333333,\"#9c179e\"],[0.4444444444444444,\"#bd3786\"],[0.5555555555555556,\"#d8576b\"],[0.6666666666666666,\"#ed7953\"],[0.7777777777777778,\"#fb9f3a\"],[0.8888888888888888,\"#fdca26\"],[1.0,\"#f0f921\"]]}],\"surface\":[{\"type\":\"surface\",\"colorbar\":{\"outlinewidth\":0,\"ticks\":\"\"},\"colorscale\":[[0.0,\"#0d0887\"],[0.1111111111111111,\"#46039f\"],[0.2222222222222222,\"#7201a8\"],[0.3333333333333333,\"#9c179e\"],[0.4444444444444444,\"#bd3786\"],[0.5555555555555556,\"#d8576b\"],[0.6666666666666666,\"#ed7953\"],[0.7777777777777778,\"#fb9f3a\"],[0.8888888888888888,\"#fdca26\"],[1.0,\"#f0f921\"]]}],\"mesh3d\":[{\"type\":\"mesh3d\",\"colorbar\":{\"outlinewidth\":0,\"ticks\":\"\"}}],\"scatter\":[{\"marker\":{\"line\":{\"color\":\"#283442\"}},\"type\":\"scatter\"}],\"parcoords\":[{\"type\":\"parcoords\",\"line\":{\"colorbar\":{\"outlinewidth\":0,\"ticks\":\"\"}}}],\"scatterpolargl\":[{\"type\":\"scatterpolargl\",\"marker\":{\"colorbar\":{\"outlinewidth\":0,\"ticks\":\"\"}}}],\"bar\":[{\"error_x\":{\"color\":\"#f2f5fa\"},\"error_y\":{\"color\":\"#f2f5fa\"},\"marker\":{\"line\":{\"color\":\"rgb(17,17,17)\",\"width\":0.5},\"pattern\":{\"fillmode\":\"overlay\",\"size\":10,\"solidity\":0.2}},\"type\":\"bar\"}],\"scattergeo\":[{\"type\":\"scattergeo\",\"marker\":{\"colorbar\":{\"outlinewidth\":0,\"ticks\":\"\"}}}],\"scatterpolar\":[{\"type\":\"scatterpolar\",\"marker\":{\"colorbar\":{\"outlinewidth\":0,\"ticks\":\"\"}}}],\"histogram\":[{\"marker\":{\"pattern\":{\"fillmode\":\"overlay\",\"size\":10,\"solidity\":0.2}},\"type\":\"histogram\"}],\"scattergl\":[{\"marker\":{\"line\":{\"color\":\"#283442\"}},\"type\":\"scattergl\"}],\"scatter3d\":[{\"type\":\"scatter3d\",\"line\":{\"colorbar\":{\"outlinewidth\":0,\"ticks\":\"\"}},\"marker\":{\"colorbar\":{\"outlinewidth\":0,\"ticks\":\"\"}}}],\"scattermapbox\":[{\"type\":\"scattermapbox\",\"marker\":{\"colorbar\":{\"outlinewidth\":0,\"ticks\":\"\"}}}],\"scatterternary\":[{\"type\":\"scatterternary\",\"marker\":{\"colorbar\":{\"outlinewidth\":0,\"ticks\":\"\"}}}],\"scattercarpet\":[{\"type\":\"scattercarpet\",\"marker\":{\"colorbar\":{\"outlinewidth\":0,\"ticks\":\"\"}}}],\"carpet\":[{\"aaxis\":{\"endlinecolor\":\"#A2B1C6\",\"gridcolor\":\"#506784\",\"linecolor\":\"#506784\",\"minorgridcolor\":\"#506784\",\"startlinecolor\":\"#A2B1C6\"},\"baxis\":{\"endlinecolor\":\"#A2B1C6\",\"gridcolor\":\"#506784\",\"linecolor\":\"#506784\",\"minorgridcolor\":\"#506784\",\"startlinecolor\":\"#A2B1C6\"},\"type\":\"carpet\"}],\"table\":[{\"cells\":{\"fill\":{\"color\":\"#506784\"},\"line\":{\"color\":\"rgb(17,17,17)\"}},\"header\":{\"fill\":{\"color\":\"#2a3f5f\"},\"line\":{\"color\":\"rgb(17,17,17)\"}},\"type\":\"table\"}],\"barpolar\":[{\"marker\":{\"line\":{\"color\":\"rgb(17,17,17)\",\"width\":0.5},\"pattern\":{\"fillmode\":\"overlay\",\"size\":10,\"solidity\":0.2}},\"type\":\"barpolar\"}],\"pie\":[{\"automargin\":true,\"type\":\"pie\"}]},\"layout\":{\"autotypenumbers\":\"strict\",\"colorway\":[\"#636efa\",\"#EF553B\",\"#00cc96\",\"#ab63fa\",\"#FFA15A\",\"#19d3f3\",\"#FF6692\",\"#B6E880\",\"#FF97FF\",\"#FECB52\"],\"font\":{\"color\":\"#f2f5fa\"},\"hovermode\":\"closest\",\"hoverlabel\":{\"align\":\"left\"},\"paper_bgcolor\":\"rgb(17,17,17)\",\"plot_bgcolor\":\"rgb(17,17,17)\",\"polar\":{\"bgcolor\":\"rgb(17,17,17)\",\"angularaxis\":{\"gridcolor\":\"#506784\",\"linecolor\":\"#506784\",\"ticks\":\"\"},\"radialaxis\":{\"gridcolor\":\"#506784\",\"linecolor\":\"#506784\",\"ticks\":\"\"}},\"ternary\":{\"bgcolor\":\"rgb(17,17,17)\",\"aaxis\":{\"gridcolor\":\"#506784\",\"linecolor\":\"#506784\",\"ticks\":\"\"},\"baxis\":{\"gridcolor\":\"#506784\",\"linecolor\":\"#506784\",\"ticks\":\"\"},\"caxis\":{\"gridcolor\":\"#506784\",\"linecolor\":\"#506784\",\"ticks\":\"\"}},\"coloraxis\":{\"colorbar\":{\"outlinewidth\":0,\"ticks\":\"\"}},\"colorscale\":{\"sequential\":[[0.0,\"#0d0887\"],[0.1111111111111111,\"#46039f\"],[0.2222222222222222,\"#7201a8\"],[0.3333333333333333,\"#9c179e\"],[0.4444444444444444,\"#bd3786\"],[0.5555555555555556,\"#d8576b\"],[0.6666666666666666,\"#ed7953\"],[0.7777777777777778,\"#fb9f3a\"],[0.8888888888888888,\"#fdca26\"],[1.0,\"#f0f921\"]],\"sequentialminus\":[[0.0,\"#0d0887\"],[0.1111111111111111,\"#46039f\"],[0.2222222222222222,\"#7201a8\"],[0.3333333333333333,\"#9c179e\"],[0.4444444444444444,\"#bd3786\"],[0.5555555555555556,\"#d8576b\"],[0.6666666666666666,\"#ed7953\"],[0.7777777777777778,\"#fb9f3a\"],[0.8888888888888888,\"#fdca26\"],[1.0,\"#f0f921\"]],\"diverging\":[[0,\"#8e0152\"],[0.1,\"#c51b7d\"],[0.2,\"#de77ae\"],[0.3,\"#f1b6da\"],[0.4,\"#fde0ef\"],[0.5,\"#f7f7f7\"],[0.6,\"#e6f5d0\"],[0.7,\"#b8e186\"],[0.8,\"#7fbc41\"],[0.9,\"#4d9221\"],[1,\"#276419\"]]},\"xaxis\":{\"gridcolor\":\"#283442\",\"linecolor\":\"#506784\",\"ticks\":\"\",\"title\":{\"standoff\":15},\"zerolinecolor\":\"#283442\",\"automargin\":true,\"zerolinewidth\":2},\"yaxis\":{\"gridcolor\":\"#283442\",\"linecolor\":\"#506784\",\"ticks\":\"\",\"title\":{\"standoff\":15},\"zerolinecolor\":\"#283442\",\"automargin\":true,\"zerolinewidth\":2},\"scene\":{\"xaxis\":{\"backgroundcolor\":\"rgb(17,17,17)\",\"gridcolor\":\"#506784\",\"linecolor\":\"#506784\",\"showbackground\":true,\"ticks\":\"\",\"zerolinecolor\":\"#C8D4E3\",\"gridwidth\":2},\"yaxis\":{\"backgroundcolor\":\"rgb(17,17,17)\",\"gridcolor\":\"#506784\",\"linecolor\":\"#506784\",\"showbackground\":true,\"ticks\":\"\",\"zerolinecolor\":\"#C8D4E3\",\"gridwidth\":2},\"zaxis\":{\"backgroundcolor\":\"rgb(17,17,17)\",\"gridcolor\":\"#506784\",\"linecolor\":\"#506784\",\"showbackground\":true,\"ticks\":\"\",\"zerolinecolor\":\"#C8D4E3\",\"gridwidth\":2}},\"shapedefaults\":{\"line\":{\"color\":\"#f2f5fa\"}},\"annotationdefaults\":{\"arrowcolor\":\"#f2f5fa\",\"arrowhead\":0,\"arrowwidth\":1},\"geo\":{\"bgcolor\":\"rgb(17,17,17)\",\"landcolor\":\"rgb(17,17,17)\",\"subunitcolor\":\"#506784\",\"showland\":true,\"showlakes\":true,\"lakecolor\":\"rgb(17,17,17)\"},\"title\":{\"x\":0.05},\"updatemenudefaults\":{\"bgcolor\":\"#506784\",\"borderwidth\":0},\"sliderdefaults\":{\"bgcolor\":\"#C8D4E3\",\"borderwidth\":1,\"bordercolor\":\"rgb(17,17,17)\",\"tickwidth\":0},\"mapbox\":{\"style\":\"dark\"}}},\"title\":{\"text\":\"Nonlinear Dataset\"},\"scene\":{\"xaxis\":{\"title\":{\"text\":\"X\"}},\"yaxis\":{\"title\":{\"text\":\"Y\"}},\"zaxis\":{\"title\":{\"text\":\"Z\"}}}},                        {\"responsive\": true}                    ).then(function(){\n",
       "                            \n",
       "var gd = document.getElementById('df0f814e-253f-4f3c-bb02-fb9b9b09b0fd');\n",
       "var x = new MutationObserver(function (mutations, observer) {{\n",
       "        var display = window.getComputedStyle(gd).display;\n",
       "        if (!display || display === 'none') {{\n",
       "            console.log([gd, 'removed!']);\n",
       "            Plotly.purge(gd);\n",
       "            observer.disconnect();\n",
       "        }}\n",
       "}});\n",
       "\n",
       "// Listen for the removal of the full notebook cells\n",
       "var notebookContainer = gd.closest('#notebook-container');\n",
       "if (notebookContainer) {{\n",
       "    x.observe(notebookContainer, {childList: true});\n",
       "}}\n",
       "\n",
       "// Listen for the clearing of the current output cell\n",
       "var outputEl = gd.closest('.output');\n",
       "if (outputEl) {{\n",
       "    x.observe(outputEl, {childList: true});\n",
       "}}\n",
       "\n",
       "                        })                };                });            </script>        </div>"
      ]
     },
     "metadata": {},
     "output_type": "display_data"
    }
   ],
   "execution_count": 106
  },
  {
   "metadata": {
    "ExecuteTime": {
     "end_time": "2024-09-01T09:05:51.739792Z",
     "start_time": "2024-09-01T09:05:51.722747Z"
    }
   },
   "cell_type": "code",
   "source": [
    "# Now lets graph the 2D X, y coordinates\n",
    "reshaped_X = X.reshape(-1, 3)\n",
    "log.info(reshaped_X[:,0].shape)  # (300,)\n",
    "fig = go.Figure()\n",
    "fig.add_trace(\n",
    "    go.Scatter(\n",
    "        x=X_flat, y=y_flat, mode='markers',\n",
    "        marker=dict(size=8, color=n_flat, opacity=0.8, colorscale='curl'), name='Dataset')\n",
    ")\n",
    "fig.update_layout(title='Nonlinear Dataset', xaxis_title='X', yaxis_title='Y')\n",
    "fig.show()"
   ],
   "id": "ac22bcdc3436a9e4",
   "outputs": [
    {
     "name": "stderr",
     "output_type": "stream",
     "text": [
      "\u001B[32m[2024-09-01 05:05:51][INFO][root][3]: \n",
      "(10,)\u001B[0m\n"
     ]
    },
    {
     "data": {
      "application/vnd.plotly.v1+json": {
       "data": [
        {
         "marker": {
          "color": [
           1.1763377912113584,
           1.1689143382143692,
           1.102569111781018,
           0.9660845721526051,
           1.3379925720810222,
           1.6632730847422696,
           1.1262956807485995,
           1.4290859763959398,
           1.215236201998464,
           1.5802837894306363,
           0.9971677788953108,
           1.2387053126878478,
           1.5667441905641533,
           1.4249156992746288,
           1.537901389627821,
           1.4943851728430098,
           1.3109340942271408,
           1.0528905018057813,
           1.27943801179152,
           0.9278476392819833,
           1.5710496951224437,
           0.4350631146197025,
           1.3781389894903524,
           1.2134131201598892,
           1.5073930330277654,
           1.3908404366950295,
           1.1987791072059288,
           1.0420111035341602,
           1.4155339772527147,
           1.4081586019858208
          ],
          "colorscale": [
           [
            0.0,
            "rgb(20, 29, 67)"
           ],
           [
            0.09090909090909091,
            "rgb(28, 72, 93)"
           ],
           [
            0.18181818181818182,
            "rgb(18, 115, 117)"
           ],
           [
            0.2727272727272727,
            "rgb(63, 156, 129)"
           ],
           [
            0.36363636363636365,
            "rgb(153, 189, 156)"
           ],
           [
            0.45454545454545453,
            "rgb(223, 225, 211)"
           ],
           [
            0.5454545454545454,
            "rgb(241, 218, 206)"
           ],
           [
            0.6363636363636364,
            "rgb(224, 160, 137)"
           ],
           [
            0.7272727272727273,
            "rgb(203, 101, 99)"
           ],
           [
            0.8181818181818182,
            "rgb(164, 54, 96)"
           ],
           [
            0.9090909090909091,
            "rgb(111, 23, 91)"
           ],
           [
            1.0,
            "rgb(51, 13, 53)"
           ]
          ],
          "opacity": 0.8,
          "size": 8
         },
         "mode": "markers",
         "name": "Dataset",
         "x": [
          0.9381629887802466,
          0.7669864753968659,
          0.7937536448707376,
          0.25545686029335346,
          0.7812629847610933,
          0.991081182458292,
          0.43193792236168144,
          0.9218721927439567,
          0.8540591557784233,
          0.9833501003543444,
          0.9785899533786951,
          0.9323360695258968,
          0.9991483078519332,
          0.8904393486944931,
          0.9500428303556924,
          0.574431429444719,
          0.9976884466991381,
          0.28306470656323424,
          0.8430395660448874,
          0.28037660363575234,
          0.8103077486357447,
          0.35048830833235795,
          0.5126028640310943,
          0.1467967260397254,
          0.9223245280004124,
          0.9888462218294565,
          0.5377167176709242,
          0.5851071091540245,
          0.43471162510452255,
          0.8933515869349664
         ],
         "y": [
          0.6967071993271818,
          0.8014950502728918,
          0.35659832194889257,
          0.8534789046204831,
          0.49550205088377663,
          0.9435426009088705,
          0.2894138514032009,
          0.5328907729451735,
          0.45721222924523874,
          0.9344570303684263,
          0.1742165913119343,
          0.038865925596112204,
          0.9905928049849803,
          0.5194876166325478,
          0.710152741524983,
          0.9535756836454219,
          0.30054405318373895,
          0.9941123898773315,
          0.960117003635544,
          0.12309431394709244,
          0.9010218872512992,
          0.2475123781949232,
          0.8189796744626557,
          0.8618901525577966,
          0.6522379458501888,
          0.12520609335412444,
          0.9755675012769723,
          0.8356812074241637,
          0.9094655178743166,
          0.8857380804691839
         ],
         "type": "scatter"
        }
       ],
       "layout": {
        "template": {
         "data": {
          "histogram2dcontour": [
           {
            "type": "histogram2dcontour",
            "colorbar": {
             "outlinewidth": 0,
             "ticks": ""
            },
            "colorscale": [
             [
              0.0,
              "#0d0887"
             ],
             [
              0.1111111111111111,
              "#46039f"
             ],
             [
              0.2222222222222222,
              "#7201a8"
             ],
             [
              0.3333333333333333,
              "#9c179e"
             ],
             [
              0.4444444444444444,
              "#bd3786"
             ],
             [
              0.5555555555555556,
              "#d8576b"
             ],
             [
              0.6666666666666666,
              "#ed7953"
             ],
             [
              0.7777777777777778,
              "#fb9f3a"
             ],
             [
              0.8888888888888888,
              "#fdca26"
             ],
             [
              1.0,
              "#f0f921"
             ]
            ]
           }
          ],
          "choropleth": [
           {
            "type": "choropleth",
            "colorbar": {
             "outlinewidth": 0,
             "ticks": ""
            }
           }
          ],
          "histogram2d": [
           {
            "type": "histogram2d",
            "colorbar": {
             "outlinewidth": 0,
             "ticks": ""
            },
            "colorscale": [
             [
              0.0,
              "#0d0887"
             ],
             [
              0.1111111111111111,
              "#46039f"
             ],
             [
              0.2222222222222222,
              "#7201a8"
             ],
             [
              0.3333333333333333,
              "#9c179e"
             ],
             [
              0.4444444444444444,
              "#bd3786"
             ],
             [
              0.5555555555555556,
              "#d8576b"
             ],
             [
              0.6666666666666666,
              "#ed7953"
             ],
             [
              0.7777777777777778,
              "#fb9f3a"
             ],
             [
              0.8888888888888888,
              "#fdca26"
             ],
             [
              1.0,
              "#f0f921"
             ]
            ]
           }
          ],
          "heatmap": [
           {
            "type": "heatmap",
            "colorbar": {
             "outlinewidth": 0,
             "ticks": ""
            },
            "colorscale": [
             [
              0.0,
              "#0d0887"
             ],
             [
              0.1111111111111111,
              "#46039f"
             ],
             [
              0.2222222222222222,
              "#7201a8"
             ],
             [
              0.3333333333333333,
              "#9c179e"
             ],
             [
              0.4444444444444444,
              "#bd3786"
             ],
             [
              0.5555555555555556,
              "#d8576b"
             ],
             [
              0.6666666666666666,
              "#ed7953"
             ],
             [
              0.7777777777777778,
              "#fb9f3a"
             ],
             [
              0.8888888888888888,
              "#fdca26"
             ],
             [
              1.0,
              "#f0f921"
             ]
            ]
           }
          ],
          "heatmapgl": [
           {
            "type": "heatmapgl",
            "colorbar": {
             "outlinewidth": 0,
             "ticks": ""
            },
            "colorscale": [
             [
              0.0,
              "#0d0887"
             ],
             [
              0.1111111111111111,
              "#46039f"
             ],
             [
              0.2222222222222222,
              "#7201a8"
             ],
             [
              0.3333333333333333,
              "#9c179e"
             ],
             [
              0.4444444444444444,
              "#bd3786"
             ],
             [
              0.5555555555555556,
              "#d8576b"
             ],
             [
              0.6666666666666666,
              "#ed7953"
             ],
             [
              0.7777777777777778,
              "#fb9f3a"
             ],
             [
              0.8888888888888888,
              "#fdca26"
             ],
             [
              1.0,
              "#f0f921"
             ]
            ]
           }
          ],
          "contourcarpet": [
           {
            "type": "contourcarpet",
            "colorbar": {
             "outlinewidth": 0,
             "ticks": ""
            }
           }
          ],
          "contour": [
           {
            "type": "contour",
            "colorbar": {
             "outlinewidth": 0,
             "ticks": ""
            },
            "colorscale": [
             [
              0.0,
              "#0d0887"
             ],
             [
              0.1111111111111111,
              "#46039f"
             ],
             [
              0.2222222222222222,
              "#7201a8"
             ],
             [
              0.3333333333333333,
              "#9c179e"
             ],
             [
              0.4444444444444444,
              "#bd3786"
             ],
             [
              0.5555555555555556,
              "#d8576b"
             ],
             [
              0.6666666666666666,
              "#ed7953"
             ],
             [
              0.7777777777777778,
              "#fb9f3a"
             ],
             [
              0.8888888888888888,
              "#fdca26"
             ],
             [
              1.0,
              "#f0f921"
             ]
            ]
           }
          ],
          "surface": [
           {
            "type": "surface",
            "colorbar": {
             "outlinewidth": 0,
             "ticks": ""
            },
            "colorscale": [
             [
              0.0,
              "#0d0887"
             ],
             [
              0.1111111111111111,
              "#46039f"
             ],
             [
              0.2222222222222222,
              "#7201a8"
             ],
             [
              0.3333333333333333,
              "#9c179e"
             ],
             [
              0.4444444444444444,
              "#bd3786"
             ],
             [
              0.5555555555555556,
              "#d8576b"
             ],
             [
              0.6666666666666666,
              "#ed7953"
             ],
             [
              0.7777777777777778,
              "#fb9f3a"
             ],
             [
              0.8888888888888888,
              "#fdca26"
             ],
             [
              1.0,
              "#f0f921"
             ]
            ]
           }
          ],
          "mesh3d": [
           {
            "type": "mesh3d",
            "colorbar": {
             "outlinewidth": 0,
             "ticks": ""
            }
           }
          ],
          "scatter": [
           {
            "marker": {
             "line": {
              "color": "#283442"
             }
            },
            "type": "scatter"
           }
          ],
          "parcoords": [
           {
            "type": "parcoords",
            "line": {
             "colorbar": {
              "outlinewidth": 0,
              "ticks": ""
             }
            }
           }
          ],
          "scatterpolargl": [
           {
            "type": "scatterpolargl",
            "marker": {
             "colorbar": {
              "outlinewidth": 0,
              "ticks": ""
             }
            }
           }
          ],
          "bar": [
           {
            "error_x": {
             "color": "#f2f5fa"
            },
            "error_y": {
             "color": "#f2f5fa"
            },
            "marker": {
             "line": {
              "color": "rgb(17,17,17)",
              "width": 0.5
             },
             "pattern": {
              "fillmode": "overlay",
              "size": 10,
              "solidity": 0.2
             }
            },
            "type": "bar"
           }
          ],
          "scattergeo": [
           {
            "type": "scattergeo",
            "marker": {
             "colorbar": {
              "outlinewidth": 0,
              "ticks": ""
             }
            }
           }
          ],
          "scatterpolar": [
           {
            "type": "scatterpolar",
            "marker": {
             "colorbar": {
              "outlinewidth": 0,
              "ticks": ""
             }
            }
           }
          ],
          "histogram": [
           {
            "marker": {
             "pattern": {
              "fillmode": "overlay",
              "size": 10,
              "solidity": 0.2
             }
            },
            "type": "histogram"
           }
          ],
          "scattergl": [
           {
            "marker": {
             "line": {
              "color": "#283442"
             }
            },
            "type": "scattergl"
           }
          ],
          "scatter3d": [
           {
            "type": "scatter3d",
            "line": {
             "colorbar": {
              "outlinewidth": 0,
              "ticks": ""
             }
            },
            "marker": {
             "colorbar": {
              "outlinewidth": 0,
              "ticks": ""
             }
            }
           }
          ],
          "scattermapbox": [
           {
            "type": "scattermapbox",
            "marker": {
             "colorbar": {
              "outlinewidth": 0,
              "ticks": ""
             }
            }
           }
          ],
          "scatterternary": [
           {
            "type": "scatterternary",
            "marker": {
             "colorbar": {
              "outlinewidth": 0,
              "ticks": ""
             }
            }
           }
          ],
          "scattercarpet": [
           {
            "type": "scattercarpet",
            "marker": {
             "colorbar": {
              "outlinewidth": 0,
              "ticks": ""
             }
            }
           }
          ],
          "carpet": [
           {
            "aaxis": {
             "endlinecolor": "#A2B1C6",
             "gridcolor": "#506784",
             "linecolor": "#506784",
             "minorgridcolor": "#506784",
             "startlinecolor": "#A2B1C6"
            },
            "baxis": {
             "endlinecolor": "#A2B1C6",
             "gridcolor": "#506784",
             "linecolor": "#506784",
             "minorgridcolor": "#506784",
             "startlinecolor": "#A2B1C6"
            },
            "type": "carpet"
           }
          ],
          "table": [
           {
            "cells": {
             "fill": {
              "color": "#506784"
             },
             "line": {
              "color": "rgb(17,17,17)"
             }
            },
            "header": {
             "fill": {
              "color": "#2a3f5f"
             },
             "line": {
              "color": "rgb(17,17,17)"
             }
            },
            "type": "table"
           }
          ],
          "barpolar": [
           {
            "marker": {
             "line": {
              "color": "rgb(17,17,17)",
              "width": 0.5
             },
             "pattern": {
              "fillmode": "overlay",
              "size": 10,
              "solidity": 0.2
             }
            },
            "type": "barpolar"
           }
          ],
          "pie": [
           {
            "automargin": true,
            "type": "pie"
           }
          ]
         },
         "layout": {
          "autotypenumbers": "strict",
          "colorway": [
           "#636efa",
           "#EF553B",
           "#00cc96",
           "#ab63fa",
           "#FFA15A",
           "#19d3f3",
           "#FF6692",
           "#B6E880",
           "#FF97FF",
           "#FECB52"
          ],
          "font": {
           "color": "#f2f5fa"
          },
          "hovermode": "closest",
          "hoverlabel": {
           "align": "left"
          },
          "paper_bgcolor": "rgb(17,17,17)",
          "plot_bgcolor": "rgb(17,17,17)",
          "polar": {
           "bgcolor": "rgb(17,17,17)",
           "angularaxis": {
            "gridcolor": "#506784",
            "linecolor": "#506784",
            "ticks": ""
           },
           "radialaxis": {
            "gridcolor": "#506784",
            "linecolor": "#506784",
            "ticks": ""
           }
          },
          "ternary": {
           "bgcolor": "rgb(17,17,17)",
           "aaxis": {
            "gridcolor": "#506784",
            "linecolor": "#506784",
            "ticks": ""
           },
           "baxis": {
            "gridcolor": "#506784",
            "linecolor": "#506784",
            "ticks": ""
           },
           "caxis": {
            "gridcolor": "#506784",
            "linecolor": "#506784",
            "ticks": ""
           }
          },
          "coloraxis": {
           "colorbar": {
            "outlinewidth": 0,
            "ticks": ""
           }
          },
          "colorscale": {
           "sequential": [
            [
             0.0,
             "#0d0887"
            ],
            [
             0.1111111111111111,
             "#46039f"
            ],
            [
             0.2222222222222222,
             "#7201a8"
            ],
            [
             0.3333333333333333,
             "#9c179e"
            ],
            [
             0.4444444444444444,
             "#bd3786"
            ],
            [
             0.5555555555555556,
             "#d8576b"
            ],
            [
             0.6666666666666666,
             "#ed7953"
            ],
            [
             0.7777777777777778,
             "#fb9f3a"
            ],
            [
             0.8888888888888888,
             "#fdca26"
            ],
            [
             1.0,
             "#f0f921"
            ]
           ],
           "sequentialminus": [
            [
             0.0,
             "#0d0887"
            ],
            [
             0.1111111111111111,
             "#46039f"
            ],
            [
             0.2222222222222222,
             "#7201a8"
            ],
            [
             0.3333333333333333,
             "#9c179e"
            ],
            [
             0.4444444444444444,
             "#bd3786"
            ],
            [
             0.5555555555555556,
             "#d8576b"
            ],
            [
             0.6666666666666666,
             "#ed7953"
            ],
            [
             0.7777777777777778,
             "#fb9f3a"
            ],
            [
             0.8888888888888888,
             "#fdca26"
            ],
            [
             1.0,
             "#f0f921"
            ]
           ],
           "diverging": [
            [
             0,
             "#8e0152"
            ],
            [
             0.1,
             "#c51b7d"
            ],
            [
             0.2,
             "#de77ae"
            ],
            [
             0.3,
             "#f1b6da"
            ],
            [
             0.4,
             "#fde0ef"
            ],
            [
             0.5,
             "#f7f7f7"
            ],
            [
             0.6,
             "#e6f5d0"
            ],
            [
             0.7,
             "#b8e186"
            ],
            [
             0.8,
             "#7fbc41"
            ],
            [
             0.9,
             "#4d9221"
            ],
            [
             1,
             "#276419"
            ]
           ]
          },
          "xaxis": {
           "gridcolor": "#283442",
           "linecolor": "#506784",
           "ticks": "",
           "title": {
            "standoff": 15
           },
           "zerolinecolor": "#283442",
           "automargin": true,
           "zerolinewidth": 2
          },
          "yaxis": {
           "gridcolor": "#283442",
           "linecolor": "#506784",
           "ticks": "",
           "title": {
            "standoff": 15
           },
           "zerolinecolor": "#283442",
           "automargin": true,
           "zerolinewidth": 2
          },
          "scene": {
           "xaxis": {
            "backgroundcolor": "rgb(17,17,17)",
            "gridcolor": "#506784",
            "linecolor": "#506784",
            "showbackground": true,
            "ticks": "",
            "zerolinecolor": "#C8D4E3",
            "gridwidth": 2
           },
           "yaxis": {
            "backgroundcolor": "rgb(17,17,17)",
            "gridcolor": "#506784",
            "linecolor": "#506784",
            "showbackground": true,
            "ticks": "",
            "zerolinecolor": "#C8D4E3",
            "gridwidth": 2
           },
           "zaxis": {
            "backgroundcolor": "rgb(17,17,17)",
            "gridcolor": "#506784",
            "linecolor": "#506784",
            "showbackground": true,
            "ticks": "",
            "zerolinecolor": "#C8D4E3",
            "gridwidth": 2
           }
          },
          "shapedefaults": {
           "line": {
            "color": "#f2f5fa"
           }
          },
          "annotationdefaults": {
           "arrowcolor": "#f2f5fa",
           "arrowhead": 0,
           "arrowwidth": 1
          },
          "geo": {
           "bgcolor": "rgb(17,17,17)",
           "landcolor": "rgb(17,17,17)",
           "subunitcolor": "#506784",
           "showland": true,
           "showlakes": true,
           "lakecolor": "rgb(17,17,17)"
          },
          "title": {
           "x": 0.05
          },
          "updatemenudefaults": {
           "bgcolor": "#506784",
           "borderwidth": 0
          },
          "sliderdefaults": {
           "bgcolor": "#C8D4E3",
           "borderwidth": 1,
           "bordercolor": "rgb(17,17,17)",
           "tickwidth": 0
          },
          "mapbox": {
           "style": "dark"
          }
         }
        },
        "title": {
         "text": "Nonlinear Dataset"
        },
        "xaxis": {
         "title": {
          "text": "X"
         }
        },
        "yaxis": {
         "title": {
          "text": "Y"
         }
        }
       },
       "config": {
        "plotlyServerURL": "https://plot.ly"
       }
      },
      "text/html": [
       "<div>                            <div id=\"d5bc4e07-0507-412b-9bd2-679ce954ade3\" class=\"plotly-graph-div\" style=\"height:525px; width:100%;\"></div>            <script type=\"text/javascript\">                require([\"plotly\"], function(Plotly) {                    window.PLOTLYENV=window.PLOTLYENV || {};                                    if (document.getElementById(\"d5bc4e07-0507-412b-9bd2-679ce954ade3\")) {                    Plotly.newPlot(                        \"d5bc4e07-0507-412b-9bd2-679ce954ade3\",                        [{\"marker\":{\"color\":[1.1763377912113584,1.1689143382143692,1.102569111781018,0.9660845721526051,1.3379925720810222,1.6632730847422696,1.1262956807485995,1.4290859763959398,1.215236201998464,1.5802837894306363,0.9971677788953108,1.2387053126878478,1.5667441905641533,1.4249156992746288,1.537901389627821,1.4943851728430098,1.3109340942271408,1.0528905018057813,1.27943801179152,0.9278476392819833,1.5710496951224437,0.4350631146197025,1.3781389894903524,1.2134131201598892,1.5073930330277654,1.3908404366950295,1.1987791072059288,1.0420111035341602,1.4155339772527147,1.4081586019858208],\"colorscale\":[[0.0,\"rgb(20, 29, 67)\"],[0.09090909090909091,\"rgb(28, 72, 93)\"],[0.18181818181818182,\"rgb(18, 115, 117)\"],[0.2727272727272727,\"rgb(63, 156, 129)\"],[0.36363636363636365,\"rgb(153, 189, 156)\"],[0.45454545454545453,\"rgb(223, 225, 211)\"],[0.5454545454545454,\"rgb(241, 218, 206)\"],[0.6363636363636364,\"rgb(224, 160, 137)\"],[0.7272727272727273,\"rgb(203, 101, 99)\"],[0.8181818181818182,\"rgb(164, 54, 96)\"],[0.9090909090909091,\"rgb(111, 23, 91)\"],[1.0,\"rgb(51, 13, 53)\"]],\"opacity\":0.8,\"size\":8},\"mode\":\"markers\",\"name\":\"Dataset\",\"x\":[0.9381629887802466,0.7669864753968659,0.7937536448707376,0.25545686029335346,0.7812629847610933,0.991081182458292,0.43193792236168144,0.9218721927439567,0.8540591557784233,0.9833501003543444,0.9785899533786951,0.9323360695258968,0.9991483078519332,0.8904393486944931,0.9500428303556924,0.574431429444719,0.9976884466991381,0.28306470656323424,0.8430395660448874,0.28037660363575234,0.8103077486357447,0.35048830833235795,0.5126028640310943,0.1467967260397254,0.9223245280004124,0.9888462218294565,0.5377167176709242,0.5851071091540245,0.43471162510452255,0.8933515869349664],\"y\":[0.6967071993271818,0.8014950502728918,0.35659832194889257,0.8534789046204831,0.49550205088377663,0.9435426009088705,0.2894138514032009,0.5328907729451735,0.45721222924523874,0.9344570303684263,0.1742165913119343,0.038865925596112204,0.9905928049849803,0.5194876166325478,0.710152741524983,0.9535756836454219,0.30054405318373895,0.9941123898773315,0.960117003635544,0.12309431394709244,0.9010218872512992,0.2475123781949232,0.8189796744626557,0.8618901525577966,0.6522379458501888,0.12520609335412444,0.9755675012769723,0.8356812074241637,0.9094655178743166,0.8857380804691839],\"type\":\"scatter\"}],                        {\"template\":{\"data\":{\"histogram2dcontour\":[{\"type\":\"histogram2dcontour\",\"colorbar\":{\"outlinewidth\":0,\"ticks\":\"\"},\"colorscale\":[[0.0,\"#0d0887\"],[0.1111111111111111,\"#46039f\"],[0.2222222222222222,\"#7201a8\"],[0.3333333333333333,\"#9c179e\"],[0.4444444444444444,\"#bd3786\"],[0.5555555555555556,\"#d8576b\"],[0.6666666666666666,\"#ed7953\"],[0.7777777777777778,\"#fb9f3a\"],[0.8888888888888888,\"#fdca26\"],[1.0,\"#f0f921\"]]}],\"choropleth\":[{\"type\":\"choropleth\",\"colorbar\":{\"outlinewidth\":0,\"ticks\":\"\"}}],\"histogram2d\":[{\"type\":\"histogram2d\",\"colorbar\":{\"outlinewidth\":0,\"ticks\":\"\"},\"colorscale\":[[0.0,\"#0d0887\"],[0.1111111111111111,\"#46039f\"],[0.2222222222222222,\"#7201a8\"],[0.3333333333333333,\"#9c179e\"],[0.4444444444444444,\"#bd3786\"],[0.5555555555555556,\"#d8576b\"],[0.6666666666666666,\"#ed7953\"],[0.7777777777777778,\"#fb9f3a\"],[0.8888888888888888,\"#fdca26\"],[1.0,\"#f0f921\"]]}],\"heatmap\":[{\"type\":\"heatmap\",\"colorbar\":{\"outlinewidth\":0,\"ticks\":\"\"},\"colorscale\":[[0.0,\"#0d0887\"],[0.1111111111111111,\"#46039f\"],[0.2222222222222222,\"#7201a8\"],[0.3333333333333333,\"#9c179e\"],[0.4444444444444444,\"#bd3786\"],[0.5555555555555556,\"#d8576b\"],[0.6666666666666666,\"#ed7953\"],[0.7777777777777778,\"#fb9f3a\"],[0.8888888888888888,\"#fdca26\"],[1.0,\"#f0f921\"]]}],\"heatmapgl\":[{\"type\":\"heatmapgl\",\"colorbar\":{\"outlinewidth\":0,\"ticks\":\"\"},\"colorscale\":[[0.0,\"#0d0887\"],[0.1111111111111111,\"#46039f\"],[0.2222222222222222,\"#7201a8\"],[0.3333333333333333,\"#9c179e\"],[0.4444444444444444,\"#bd3786\"],[0.5555555555555556,\"#d8576b\"],[0.6666666666666666,\"#ed7953\"],[0.7777777777777778,\"#fb9f3a\"],[0.8888888888888888,\"#fdca26\"],[1.0,\"#f0f921\"]]}],\"contourcarpet\":[{\"type\":\"contourcarpet\",\"colorbar\":{\"outlinewidth\":0,\"ticks\":\"\"}}],\"contour\":[{\"type\":\"contour\",\"colorbar\":{\"outlinewidth\":0,\"ticks\":\"\"},\"colorscale\":[[0.0,\"#0d0887\"],[0.1111111111111111,\"#46039f\"],[0.2222222222222222,\"#7201a8\"],[0.3333333333333333,\"#9c179e\"],[0.4444444444444444,\"#bd3786\"],[0.5555555555555556,\"#d8576b\"],[0.6666666666666666,\"#ed7953\"],[0.7777777777777778,\"#fb9f3a\"],[0.8888888888888888,\"#fdca26\"],[1.0,\"#f0f921\"]]}],\"surface\":[{\"type\":\"surface\",\"colorbar\":{\"outlinewidth\":0,\"ticks\":\"\"},\"colorscale\":[[0.0,\"#0d0887\"],[0.1111111111111111,\"#46039f\"],[0.2222222222222222,\"#7201a8\"],[0.3333333333333333,\"#9c179e\"],[0.4444444444444444,\"#bd3786\"],[0.5555555555555556,\"#d8576b\"],[0.6666666666666666,\"#ed7953\"],[0.7777777777777778,\"#fb9f3a\"],[0.8888888888888888,\"#fdca26\"],[1.0,\"#f0f921\"]]}],\"mesh3d\":[{\"type\":\"mesh3d\",\"colorbar\":{\"outlinewidth\":0,\"ticks\":\"\"}}],\"scatter\":[{\"marker\":{\"line\":{\"color\":\"#283442\"}},\"type\":\"scatter\"}],\"parcoords\":[{\"type\":\"parcoords\",\"line\":{\"colorbar\":{\"outlinewidth\":0,\"ticks\":\"\"}}}],\"scatterpolargl\":[{\"type\":\"scatterpolargl\",\"marker\":{\"colorbar\":{\"outlinewidth\":0,\"ticks\":\"\"}}}],\"bar\":[{\"error_x\":{\"color\":\"#f2f5fa\"},\"error_y\":{\"color\":\"#f2f5fa\"},\"marker\":{\"line\":{\"color\":\"rgb(17,17,17)\",\"width\":0.5},\"pattern\":{\"fillmode\":\"overlay\",\"size\":10,\"solidity\":0.2}},\"type\":\"bar\"}],\"scattergeo\":[{\"type\":\"scattergeo\",\"marker\":{\"colorbar\":{\"outlinewidth\":0,\"ticks\":\"\"}}}],\"scatterpolar\":[{\"type\":\"scatterpolar\",\"marker\":{\"colorbar\":{\"outlinewidth\":0,\"ticks\":\"\"}}}],\"histogram\":[{\"marker\":{\"pattern\":{\"fillmode\":\"overlay\",\"size\":10,\"solidity\":0.2}},\"type\":\"histogram\"}],\"scattergl\":[{\"marker\":{\"line\":{\"color\":\"#283442\"}},\"type\":\"scattergl\"}],\"scatter3d\":[{\"type\":\"scatter3d\",\"line\":{\"colorbar\":{\"outlinewidth\":0,\"ticks\":\"\"}},\"marker\":{\"colorbar\":{\"outlinewidth\":0,\"ticks\":\"\"}}}],\"scattermapbox\":[{\"type\":\"scattermapbox\",\"marker\":{\"colorbar\":{\"outlinewidth\":0,\"ticks\":\"\"}}}],\"scatterternary\":[{\"type\":\"scatterternary\",\"marker\":{\"colorbar\":{\"outlinewidth\":0,\"ticks\":\"\"}}}],\"scattercarpet\":[{\"type\":\"scattercarpet\",\"marker\":{\"colorbar\":{\"outlinewidth\":0,\"ticks\":\"\"}}}],\"carpet\":[{\"aaxis\":{\"endlinecolor\":\"#A2B1C6\",\"gridcolor\":\"#506784\",\"linecolor\":\"#506784\",\"minorgridcolor\":\"#506784\",\"startlinecolor\":\"#A2B1C6\"},\"baxis\":{\"endlinecolor\":\"#A2B1C6\",\"gridcolor\":\"#506784\",\"linecolor\":\"#506784\",\"minorgridcolor\":\"#506784\",\"startlinecolor\":\"#A2B1C6\"},\"type\":\"carpet\"}],\"table\":[{\"cells\":{\"fill\":{\"color\":\"#506784\"},\"line\":{\"color\":\"rgb(17,17,17)\"}},\"header\":{\"fill\":{\"color\":\"#2a3f5f\"},\"line\":{\"color\":\"rgb(17,17,17)\"}},\"type\":\"table\"}],\"barpolar\":[{\"marker\":{\"line\":{\"color\":\"rgb(17,17,17)\",\"width\":0.5},\"pattern\":{\"fillmode\":\"overlay\",\"size\":10,\"solidity\":0.2}},\"type\":\"barpolar\"}],\"pie\":[{\"automargin\":true,\"type\":\"pie\"}]},\"layout\":{\"autotypenumbers\":\"strict\",\"colorway\":[\"#636efa\",\"#EF553B\",\"#00cc96\",\"#ab63fa\",\"#FFA15A\",\"#19d3f3\",\"#FF6692\",\"#B6E880\",\"#FF97FF\",\"#FECB52\"],\"font\":{\"color\":\"#f2f5fa\"},\"hovermode\":\"closest\",\"hoverlabel\":{\"align\":\"left\"},\"paper_bgcolor\":\"rgb(17,17,17)\",\"plot_bgcolor\":\"rgb(17,17,17)\",\"polar\":{\"bgcolor\":\"rgb(17,17,17)\",\"angularaxis\":{\"gridcolor\":\"#506784\",\"linecolor\":\"#506784\",\"ticks\":\"\"},\"radialaxis\":{\"gridcolor\":\"#506784\",\"linecolor\":\"#506784\",\"ticks\":\"\"}},\"ternary\":{\"bgcolor\":\"rgb(17,17,17)\",\"aaxis\":{\"gridcolor\":\"#506784\",\"linecolor\":\"#506784\",\"ticks\":\"\"},\"baxis\":{\"gridcolor\":\"#506784\",\"linecolor\":\"#506784\",\"ticks\":\"\"},\"caxis\":{\"gridcolor\":\"#506784\",\"linecolor\":\"#506784\",\"ticks\":\"\"}},\"coloraxis\":{\"colorbar\":{\"outlinewidth\":0,\"ticks\":\"\"}},\"colorscale\":{\"sequential\":[[0.0,\"#0d0887\"],[0.1111111111111111,\"#46039f\"],[0.2222222222222222,\"#7201a8\"],[0.3333333333333333,\"#9c179e\"],[0.4444444444444444,\"#bd3786\"],[0.5555555555555556,\"#d8576b\"],[0.6666666666666666,\"#ed7953\"],[0.7777777777777778,\"#fb9f3a\"],[0.8888888888888888,\"#fdca26\"],[1.0,\"#f0f921\"]],\"sequentialminus\":[[0.0,\"#0d0887\"],[0.1111111111111111,\"#46039f\"],[0.2222222222222222,\"#7201a8\"],[0.3333333333333333,\"#9c179e\"],[0.4444444444444444,\"#bd3786\"],[0.5555555555555556,\"#d8576b\"],[0.6666666666666666,\"#ed7953\"],[0.7777777777777778,\"#fb9f3a\"],[0.8888888888888888,\"#fdca26\"],[1.0,\"#f0f921\"]],\"diverging\":[[0,\"#8e0152\"],[0.1,\"#c51b7d\"],[0.2,\"#de77ae\"],[0.3,\"#f1b6da\"],[0.4,\"#fde0ef\"],[0.5,\"#f7f7f7\"],[0.6,\"#e6f5d0\"],[0.7,\"#b8e186\"],[0.8,\"#7fbc41\"],[0.9,\"#4d9221\"],[1,\"#276419\"]]},\"xaxis\":{\"gridcolor\":\"#283442\",\"linecolor\":\"#506784\",\"ticks\":\"\",\"title\":{\"standoff\":15},\"zerolinecolor\":\"#283442\",\"automargin\":true,\"zerolinewidth\":2},\"yaxis\":{\"gridcolor\":\"#283442\",\"linecolor\":\"#506784\",\"ticks\":\"\",\"title\":{\"standoff\":15},\"zerolinecolor\":\"#283442\",\"automargin\":true,\"zerolinewidth\":2},\"scene\":{\"xaxis\":{\"backgroundcolor\":\"rgb(17,17,17)\",\"gridcolor\":\"#506784\",\"linecolor\":\"#506784\",\"showbackground\":true,\"ticks\":\"\",\"zerolinecolor\":\"#C8D4E3\",\"gridwidth\":2},\"yaxis\":{\"backgroundcolor\":\"rgb(17,17,17)\",\"gridcolor\":\"#506784\",\"linecolor\":\"#506784\",\"showbackground\":true,\"ticks\":\"\",\"zerolinecolor\":\"#C8D4E3\",\"gridwidth\":2},\"zaxis\":{\"backgroundcolor\":\"rgb(17,17,17)\",\"gridcolor\":\"#506784\",\"linecolor\":\"#506784\",\"showbackground\":true,\"ticks\":\"\",\"zerolinecolor\":\"#C8D4E3\",\"gridwidth\":2}},\"shapedefaults\":{\"line\":{\"color\":\"#f2f5fa\"}},\"annotationdefaults\":{\"arrowcolor\":\"#f2f5fa\",\"arrowhead\":0,\"arrowwidth\":1},\"geo\":{\"bgcolor\":\"rgb(17,17,17)\",\"landcolor\":\"rgb(17,17,17)\",\"subunitcolor\":\"#506784\",\"showland\":true,\"showlakes\":true,\"lakecolor\":\"rgb(17,17,17)\"},\"title\":{\"x\":0.05},\"updatemenudefaults\":{\"bgcolor\":\"#506784\",\"borderwidth\":0},\"sliderdefaults\":{\"bgcolor\":\"#C8D4E3\",\"borderwidth\":1,\"bordercolor\":\"rgb(17,17,17)\",\"tickwidth\":0},\"mapbox\":{\"style\":\"dark\"}}},\"title\":{\"text\":\"Nonlinear Dataset\"},\"xaxis\":{\"title\":{\"text\":\"X\"}},\"yaxis\":{\"title\":{\"text\":\"Y\"}}},                        {\"responsive\": true}                    ).then(function(){\n",
       "                            \n",
       "var gd = document.getElementById('d5bc4e07-0507-412b-9bd2-679ce954ade3');\n",
       "var x = new MutationObserver(function (mutations, observer) {{\n",
       "        var display = window.getComputedStyle(gd).display;\n",
       "        if (!display || display === 'none') {{\n",
       "            console.log([gd, 'removed!']);\n",
       "            Plotly.purge(gd);\n",
       "            observer.disconnect();\n",
       "        }}\n",
       "}});\n",
       "\n",
       "// Listen for the removal of the full notebook cells\n",
       "var notebookContainer = gd.closest('#notebook-container');\n",
       "if (notebookContainer) {{\n",
       "    x.observe(notebookContainer, {childList: true});\n",
       "}}\n",
       "\n",
       "// Listen for the clearing of the current output cell\n",
       "var outputEl = gd.closest('.output');\n",
       "if (outputEl) {{\n",
       "    x.observe(outputEl, {childList: true});\n",
       "}}\n",
       "\n",
       "                        })                };                });            </script>        </div>"
      ]
     },
     "metadata": {},
     "output_type": "display_data"
    }
   ],
   "execution_count": 107
  },
  {
   "metadata": {
    "ExecuteTime": {
     "end_time": "2024-09-01T09:05:51.830853Z",
     "start_time": "2024-09-01T09:05:51.823701Z"
    }
   },
   "cell_type": "code",
   "source": [
    "\"\"\"\n",
    "{'Colorscale properties': \n",
    "['aggrnyl', 'agsunset', 'algae', 'amp', 'armyrose', 'balance',\n",
    " 'blackbody', 'bluered', 'blues', 'blugrn', 'bluyl', 'brbg',\n",
    " 'brwnyl', 'bugn', 'bupu', 'burg', 'burgyl', 'cividis', 'curl',\n",
    " 'darkmint', 'deep', 'delta', 'dense', 'earth', 'edge', 'electric',\n",
    " 'emrld', 'fall', 'geyser', 'gnbu', 'gray', 'greens', 'greys',\n",
    " 'haline', 'hot', 'hsv', 'ice', 'icefire', 'inferno', 'jet',\n",
    " 'magenta', 'magma', 'matter', 'mint', 'mrybm', 'mygbm', 'oranges',\n",
    " 'orrd', 'oryel', 'oxy', 'peach', 'phase', 'picnic', 'pinkyl',\n",
    " 'piyg', 'plasma', 'plotly3', 'portland', 'prgn', 'pubu', 'pubugn',\n",
    " 'puor', 'purd', 'purp', 'purples', 'purpor', 'rainbow', 'rdbu',\n",
    " 'rdgy', 'rdpu', 'rdylbu', 'rdylgn', 'redor', 'reds', 'solar',\n",
    " 'spectral', 'speed', 'sunset', 'sunsetdark', 'teal', 'tealgrn',\n",
    " 'tealrose', 'tempo', 'temps', 'thermal', 'tropic', 'turbid',\n",
    " 'turbo', 'twilight', 'viridis', 'ylgn', 'ylgnbu', 'ylorbr',\n",
    " 'ylorrd']}\n",
    " \"\"\""
   ],
   "id": "34d4ee97243bdf14",
   "outputs": [
    {
     "data": {
      "text/plain": [
       "\"\\n{'Colorscale properties': \\n['aggrnyl', 'agsunset', 'algae', 'amp', 'armyrose', 'balance',\\n 'blackbody', 'bluered', 'blues', 'blugrn', 'bluyl', 'brbg',\\n 'brwnyl', 'bugn', 'bupu', 'burg', 'burgyl', 'cividis', 'curl',\\n 'darkmint', 'deep', 'delta', 'dense', 'earth', 'edge', 'electric',\\n 'emrld', 'fall', 'geyser', 'gnbu', 'gray', 'greens', 'greys',\\n 'haline', 'hot', 'hsv', 'ice', 'icefire', 'inferno', 'jet',\\n 'magenta', 'magma', 'matter', 'mint', 'mrybm', 'mygbm', 'oranges',\\n 'orrd', 'oryel', 'oxy', 'peach', 'phase', 'picnic', 'pinkyl',\\n 'piyg', 'plasma', 'plotly3', 'portland', 'prgn', 'pubu', 'pubugn',\\n 'puor', 'purd', 'purp', 'purples', 'purpor', 'rainbow', 'rdbu',\\n 'rdgy', 'rdpu', 'rdylbu', 'rdylgn', 'redor', 'reds', 'solar',\\n 'spectral', 'speed', 'sunset', 'sunsetdark', 'teal', 'tealgrn',\\n 'tealrose', 'tempo', 'temps', 'thermal', 'tropic', 'turbid',\\n 'turbo', 'twilight', 'viridis', 'ylgn', 'ylgnbu', 'ylorbr',\\n 'ylorrd']}\\n \""
      ]
     },
     "execution_count": 108,
     "metadata": {},
     "output_type": "execute_result"
    }
   ],
   "execution_count": 108
  },
  {
   "metadata": {
    "ExecuteTime": {
     "end_time": "2024-09-01T09:05:51.909028Z",
     "start_time": "2024-09-01T09:05:51.899992Z"
    }
   },
   "cell_type": "code",
   "source": [
    "# Generate a spiral dataset\n",
    "from src.utils.datasets import create_spiral_dataset\n",
    "\n",
    "# Create a spiral dataset\n",
    "X, y = create_spiral_dataset(100, 3)\n",
    "\n",
    "log.info(X.shape)  # (100, 3)\n",
    "log.info(y.shape)  # (100,)\n"
   ],
   "id": "c4ea8267ab0ce02e",
   "outputs": [
    {
     "name": "stderr",
     "output_type": "stream",
     "text": [
      "\u001B[32m[2024-09-01 05:05:51][INFO][root][7]: \n",
      "(300, 2)\u001B[0m\n",
      "\u001B[32m[2024-09-01 05:05:51][INFO][root][8]: \n",
      "(300,)\u001B[0m\n"
     ]
    }
   ],
   "execution_count": 109
  },
  {
   "metadata": {
    "ExecuteTime": {
     "end_time": "2024-09-01T09:05:51.981345Z",
     "start_time": "2024-09-01T09:05:51.954447Z"
    }
   },
   "cell_type": "code",
   "source": [
    "# Graph the inputs\n",
    "fig = go.Figure()\n",
    "fig.add_trace(\n",
    "    go.Scatter(\n",
    "        x=X[:,0], y=X[:,1], mode='markers', \n",
    "        marker=dict(size=8, color=y, opacity=0.8, colorscale='Viridis'), name='Dataset'\n",
    "    )\n",
    ")\n",
    "\n",
    "fig.update_layout(\n",
    "    title='Spiral Dataset',\n",
    "    xaxis_title='X',\n",
    "    yaxis_title='Y',\n",
    "    margin=dict(l=0, r=0, t=0, b=0),  # Set margins to zero\n",
    "    \n",
    ")\n",
    "fig.show()"
   ],
   "id": "ef8222e6d3d21445",
   "outputs": [
    {
     "data": {
      "application/vnd.plotly.v1+json": {
       "data": [
        {
         "marker": {
          "color": [
           0,
           0,
           0,
           0,
           0,
           0,
           0,
           0,
           0,
           0,
           0,
           0,
           0,
           0,
           0,
           0,
           0,
           0,
           0,
           0,
           0,
           0,
           0,
           0,
           0,
           0,
           0,
           0,
           0,
           0,
           0,
           0,
           0,
           0,
           0,
           0,
           0,
           0,
           0,
           0,
           0,
           0,
           0,
           0,
           0,
           0,
           0,
           0,
           0,
           0,
           0,
           0,
           0,
           0,
           0,
           0,
           0,
           0,
           0,
           0,
           0,
           0,
           0,
           0,
           0,
           0,
           0,
           0,
           0,
           0,
           0,
           0,
           0,
           0,
           0,
           0,
           0,
           0,
           0,
           0,
           0,
           0,
           0,
           0,
           0,
           0,
           0,
           0,
           0,
           0,
           0,
           0,
           0,
           0,
           0,
           0,
           0,
           0,
           0,
           0,
           1,
           1,
           1,
           1,
           1,
           1,
           1,
           1,
           1,
           1,
           1,
           1,
           1,
           1,
           1,
           1,
           1,
           1,
           1,
           1,
           1,
           1,
           1,
           1,
           1,
           1,
           1,
           1,
           1,
           1,
           1,
           1,
           1,
           1,
           1,
           1,
           1,
           1,
           1,
           1,
           1,
           1,
           1,
           1,
           1,
           1,
           1,
           1,
           1,
           1,
           1,
           1,
           1,
           1,
           1,
           1,
           1,
           1,
           1,
           1,
           1,
           1,
           1,
           1,
           1,
           1,
           1,
           1,
           1,
           1,
           1,
           1,
           1,
           1,
           1,
           1,
           1,
           1,
           1,
           1,
           1,
           1,
           1,
           1,
           1,
           1,
           1,
           1,
           1,
           1,
           1,
           1,
           1,
           1,
           1,
           1,
           1,
           1,
           1,
           1,
           2,
           2,
           2,
           2,
           2,
           2,
           2,
           2,
           2,
           2,
           2,
           2,
           2,
           2,
           2,
           2,
           2,
           2,
           2,
           2,
           2,
           2,
           2,
           2,
           2,
           2,
           2,
           2,
           2,
           2,
           2,
           2,
           2,
           2,
           2,
           2,
           2,
           2,
           2,
           2,
           2,
           2,
           2,
           2,
           2,
           2,
           2,
           2,
           2,
           2,
           2,
           2,
           2,
           2,
           2,
           2,
           2,
           2,
           2,
           2,
           2,
           2,
           2,
           2,
           2,
           2,
           2,
           2,
           2,
           2,
           2,
           2,
           2,
           2,
           2,
           2,
           2,
           2,
           2,
           2,
           2,
           2,
           2,
           2,
           2,
           2,
           2,
           2,
           2,
           2,
           2,
           2,
           2,
           2,
           2,
           2,
           2,
           2,
           2,
           2
          ],
          "colorscale": [
           [
            0.0,
            "#440154"
           ],
           [
            0.1111111111111111,
            "#482878"
           ],
           [
            0.2222222222222222,
            "#3e4989"
           ],
           [
            0.3333333333333333,
            "#31688e"
           ],
           [
            0.4444444444444444,
            "#26828e"
           ],
           [
            0.5555555555555556,
            "#1f9e89"
           ],
           [
            0.6666666666666666,
            "#35b779"
           ],
           [
            0.7777777777777778,
            "#6ece58"
           ],
           [
            0.8888888888888888,
            "#b5de2b"
           ],
           [
            1.0,
            "#fde725"
           ]
          ],
          "opacity": 0.8,
          "size": 8
         },
         "mode": "markers",
         "name": "Dataset",
         "x": [
          0.0,
          0.007973322997939715,
          0.0030395821145281603,
          0.004378255352473495,
          -0.01880751683193934,
          0.03570929436225858,
          0.06049575100471486,
          0.0497247012976179,
          0.03393135506563696,
          0.06223409224265203,
          0.03842722575284825,
          0.08081050293024583,
          0.10153785269899464,
          0.1304161706228,
          0.13666975799397052,
          0.10781204243958573,
          0.1423645152166734,
          0.16422369389625405,
          0.15965648227928614,
          0.18811665758633384,
          0.19231870276863014,
          0.16646697263284754,
          0.12006719284947176,
          0.18430919511073468,
          0.1481368204186314,
          0.05863723315606224,
          0.165475700132874,
          0.10691914674160204,
          0.0796801836838323,
          0.009056145422070177,
          -0.01125071672272952,
          -0.20009088964295252,
          -0.06458748962539096,
          -0.21132898567974656,
          0.03187605293515382,
          -0.20626528946029205,
          -0.35679997230009675,
          -0.0998225028457296,
          -0.22472235572099775,
          -0.1279323876426472,
          -0.3195101304727225,
          -0.14762058242355552,
          -0.4024568098120154,
          -0.4131830953553073,
          -0.2692242507506246,
          -0.45439103317803947,
          -0.27200634508564586,
          -0.46111837562999347,
          -0.27989096679192793,
          -0.4933587485181505,
          -0.38454039012602803,
          -0.295655259877887,
          -0.3999194944304975,
          -0.47509615568534175,
          -0.08321671528636113,
          -0.26193406800349395,
          -0.2543211225072756,
          0.009163711297817944,
          -0.0910069700311242,
          0.19241716248881566,
          -0.1822683017622405,
          -0.42842897176413547,
          -0.617135844637325,
          0.5961063638727134,
          0.014044325998652116,
          0.28655082777244817,
          0.15571816119569457,
          0.6542954109470281,
          0.07120145412793591,
          0.3831668862471861,
          0.30399621265517324,
          0.4898915818625168,
          0.5150862323169977,
          0.6856222906852378,
          0.7315023891822936,
          0.43181013789247685,
          0.7304927020414027,
          0.5823911629483552,
          0.7632846396312073,
          0.6166776717214963,
          0.8079154088255714,
          0.4501783795998014,
          0.797852177831387,
          0.4365630453017606,
          0.46458103653011373,
          0.7669355879440984,
          0.5663064921350054,
          -0.19854084875942188,
          0.80406791187237,
          0.12164047732060038,
          -0.06123914174357647,
          0.38630982546489856,
          0.16941522458780822,
          0.11462251384487258,
          -0.025263648559000436,
          -0.5407214626763923,
          -0.37183801454439697,
          -0.22184716763355525,
          -0.2969920209994998,
          -0.5148374188583029,
          -0.0,
          -0.008626863784420964,
          -0.006162987245164948,
          -0.030299559643009955,
          -0.03791107456724079,
          -0.04844050415641996,
          -0.04278309235823842,
          -0.06300407374680235,
          -0.07629666323927334,
          -0.07779530351309633,
          -0.09833271166515103,
          -0.03408361912026809,
          -0.12103689965475685,
          -0.10558149480964253,
          -0.0681104763496998,
          -0.14518159043490844,
          -0.16161227631902508,
          -0.14666944594274403,
          -0.1067823547412022,
          -0.01064073191434465,
          -0.052473305132069964,
          -0.19049404694820737,
          0.054147509667564826,
          -0.11146989375898965,
          0.09943635063121624,
          0.04599574713606986,
          -0.11312547843293509,
          -0.0842669937227639,
          0.1545687805789825,
          0.12365763239571165,
          -0.014567724015049811,
          0.26576028661874385,
          0.18490773296194984,
          0.08116871222950015,
          0.321299112503105,
          0.306218095240642,
          0.35941164978512224,
          0.28258055864632453,
          0.3723048698758158,
          0.24383728582932143,
          0.4025449566432055,
          0.4113314659794971,
          0.37912476907061443,
          0.4335755449022217,
          0.43275977711309904,
          0.34680245440358975,
          0.2745694597755848,
          0.4170723926657131,
          0.3876978890762215,
          0.43459038087058377,
          0.4258529111116634,
          0.027849577421058504,
          -0.019404689229655273,
          0.12988974630489608,
          0.06978801898375267,
          -0.1745173560264745,
          0.16795267533722558,
          -0.07550650937140042,
          -0.3665368835421626,
          0.1778940395813843,
          -0.34958470603441166,
          -0.11308737047839562,
          -0.6133575771325824,
          -0.41108099081411814,
          -0.5411789154971638,
          0.005094085920107775,
          -0.3021983812837882,
          -0.6650390726708081,
          -0.6813554080959199,
          -0.6969621554824208,
          -0.6949248483886987,
          -0.7133357677496954,
          -0.7236020247932455,
          -0.7266641898107957,
          -0.7472533635845428,
          -0.7524305078438625,
          -0.7457156619470515,
          -0.6545711275541192,
          -0.6338354852846837,
          -0.7894718226980454,
          0.2557502598168096,
          -0.7656769029203074,
          -0.5397518347587458,
          -0.5643052139837735,
          -0.13953486955867075,
          0.487157792902637,
          -0.020586315306607157,
          0.4397892876750219,
          0.22524405447928886,
          -0.3925559299074374,
          0.23657056566336473,
          0.6888810843261275,
          0.4376671459909429,
          0.9294217434414725,
          0.5029082218285956,
          0.8791576754850319,
          -0.18331323868758234,
          0.9067838994466304,
          0.9344657567818757,
          0.6663418236441073,
          0.0,
          0.010100875728226976,
          0.018298712494162497,
          0.029967077245683014,
          0.03913553568957972,
          0.050298969125596255,
          0.05910662279743642,
          0.06599825684661284,
          0.06959591867808432,
          0.08728491228732954,
          0.09348746643190226,
          0.07706818980431131,
          0.019577426603121898,
          0.11048260640183473,
          0.07039924450723861,
          0.12916422180834966,
          0.11437776063632,
          -0.031849736890499254,
          0.10799198317907259,
          -0.18206581654442625,
          0.16352965937604483,
          -0.18494323715112315,
          -0.1562578311142005,
          -0.1697412656184392,
          -0.0729084684365359,
          -0.2523724491189051,
          -0.17959839523937635,
          -0.08663400765042423,
          -0.25065369078389954,
          -0.2824307645275146,
          -0.2173088697159986,
          -0.270247861354702,
          -0.3091559049787733,
          -0.2940945748002514,
          -0.31922752439375285,
          -0.32671598825816056,
          -0.36219526946035724,
          -0.2652542712845798,
          -0.3800757978312715,
          -0.3939057637830356,
          -0.27255376136239956,
          -0.17265865297074676,
          -0.2046371247045783,
          -0.23190065485593558,
          -0.3964122303879685,
          -0.030207192509944584,
          0.2295585507956945,
          -0.014515036269235464,
          -0.07406192650937857,
          -0.042983457689809934,
          -0.23031678505894607,
          -0.0953744797088557,
          0.10831659607999304,
          0.4625035623254935,
          0.08002098408580632,
          0.5029604831378113,
          0.3154791837896861,
          0.5445413310508465,
          0.5761837679754582,
          0.3827114175777181,
          0.5117205966920286,
          0.6114226682097532,
          0.6258325898536913,
          0.34513887014322037,
          0.6323310110655799,
          0.35669760438007025,
          0.6657591251417249,
          0.6235853049837152,
          0.6853928548743945,
          0.4523628334241239,
          0.561940936762808,
          0.3640402884376397,
          0.6829149757377371,
          0.5744287053468483,
          0.7445532186260927,
          -0.007814907255275652,
          -0.14515848361736308,
          0.2868310878471302,
          -0.5143952577796543,
          0.16919333470725031,
          0.49998554894079206,
          0.44624866165104193,
          0.01504573457638047,
          0.3373814201766016,
          0.06903070073574961,
          0.3341074780094224,
          -0.49264488780306265,
          -0.2434543556172651,
          -0.09997737721236725,
          -0.8580857726566503,
          -0.1757525803196103,
          -0.49805024218971317,
          -0.904830953204497,
          -0.8775699712547713,
          -0.9482090264946513,
          -0.7596694575841246,
          -0.9684973689859835,
          -0.6062889190737045,
          -0.9574398880420186,
          -0.8160257108889195
         ],
         "y": [
          0.0,
          0.006201332552865856,
          0.019972044482522888,
          0.0299850717126858,
          0.03575980692883629,
          0.035715632749081606,
          -0.0036549545224301076,
          0.050268717199043134,
          0.07333900099738878,
          0.06626749257856702,
          0.09341514238607383,
          0.07625838726662407,
          0.06620002113307241,
          0.015321908998045542,
          0.03632267393472461,
          -0.10645846440590945,
          0.07649920589563555,
          -0.050173353740946,
          -0.08699229222105492,
          0.038014462582833586,
          0.06185207021332864,
          -0.1314692194174251,
          -0.18699354333941715,
          -0.1414362219332365,
          -0.1918983995535815,
          -0.24562304055349563,
          -0.20393711404885048,
          -0.2508953195045774,
          -0.2713722644186504,
          -0.2927892704423265,
          -0.3028213762729807,
          -0.24086273091790747,
          -0.3167137366235559,
          -0.25778124625868465,
          -0.341951846755437,
          -0.28712693458334654,
          -0.07017966033921726,
          -0.36015981515672135,
          -0.3111780322369621,
          -0.37258764108513914,
          -0.24730937026816605,
          -0.3869383343014499,
          -0.13420190297840165,
          0.13391769363999786,
          -0.3536229164029046,
          0.011847329459746139,
          -0.37670795762978904,
          -0.11293807345382008,
          0.3959028920936943,
          0.039650319183639884,
          -0.3274212897987735,
          0.42186378236279176,
          0.3405210907691476,
          0.24675301552065892,
          0.5390692343790114,
          0.48993113733236326,
          0.5052604446392177,
          0.5756846466925194,
          0.5787469343590306,
          0.5640420867241005,
          0.5780032217827665,
          0.4428360344236008,
          0.10652805413194003,
          0.22274622474107772,
          0.6463120732555628,
          0.5907343603383981,
          0.6482254998982039,
          0.17295087028164452,
          0.6831683144956167,
          0.5821940361921163,
          0.6383849054361956,
          0.5237762021429291,
          0.5134313908519723,
          0.27137078524417607,
          0.15369695095555388,
          0.6224636802896722,
          -0.23602548992619526,
          0.5155179967029284,
          0.19531908071769694,
          -0.5064389471437142,
          0.016348840042694202,
          -0.6831990296715906,
          -0.22245077198767874,
          -0.7157514707914131,
          -0.7099936609611113,
          -0.38597860110174015,
          -0.6587213620300637,
          -0.8560663918636148,
          -0.3789435972375442,
          -0.8907224218369523,
          -0.9070259359633802,
          -0.8340734398462784,
          -0.9137197765790647,
          -0.9323747383375134,
          -0.9491587892328154,
          -0.7927450444335767,
          -0.8955717190594882,
          -0.9543520919603896,
          -0.9442964310351243,
          -0.8572878350608507,
          -0.0,
          -0.005254295985739108,
          -0.019239002272954973,
          -4.586185627025126E-4,
          -0.013972720069064507,
          -0.014292574421340725,
          0.04292670020455722,
          0.03209324756521517,
          -0.026622642664435755,
          -0.04703566265316753,
          0.02310234452710548,
          -0.10575436596193169,
          0.006515155462940948,
          0.07807487693887899,
          0.12393111959195631,
          0.0433491284508677,
          -0.0011206420143665052,
          0.08930207550439757,
          0.1471576703933352,
          0.19162398349695864,
          0.19508642770013482,
          0.09331359337774121,
          0.21552439130219972,
          0.20383460712664608,
          0.22109257221379847,
          0.24830101572151753,
          0.23701303751135339,
          0.25938241856028693,
          0.23685508151171578,
          0.26554916796394323,
          0.3026799398236669,
          0.16559797498660303,
          0.26511934119003344,
          0.32329978544087484,
          0.1213013955191598,
          0.17668538237941633,
          -0.0552690777688062,
          0.24459732705661474,
          -0.09338623439465984,
          0.3094052749012641,
          0.034730476216902104,
          0.0481615614594062,
          -0.1903839384093163,
          -0.025815999302579908,
          -0.10124149105259043,
          -0.2938360561054071,
          -0.3748438993327781,
          -0.22679458559498603,
          -0.29115013320572825,
          -0.23686748068386487,
          -0.2715240518802929,
          -0.5143981770966634,
          -0.5248939638822828,
          -0.5193573544491102,
          -0.54097161992414,
          -0.5274330931541656,
          -0.5401474327602133,
          -0.570785032288678,
          -0.4570350048162845,
          -0.568789548688917,
          -0.49507574322055325,
          -0.6056949594219659,
          -0.1264806689870437,
          -0.4857685628745787,
          0.35361267023393567,
          -0.6565458945649802,
          -0.5942394995234689,
          -0.125449273169159,
          0.08685275389506568,
          0.0032422707057222643,
          -0.13049306452610387,
          0.07407667892111675,
          -0.07297759621847062,
          -0.1252165476889269,
          -0.018190896735032745,
          0.08814396934737243,
          0.18230680502252444,
          0.42008916979311345,
          0.46798030084959524,
          -0.11621531374868489,
          0.7665418429493371,
          0.2883753941266,
          0.6282677777053102,
          0.6200379713646139,
          0.8369328278216843,
          0.7069985582572623,
          0.8684429051187499,
          0.7608242361746874,
          0.8598770683719009,
          0.8087537822974159,
          0.8777702708872358,
          0.6085693353804335,
          0.8197760778127013,
          -0.1365144541368345,
          0.805371951047227,
          0.3845857346660767,
          0.9522124077963673,
          0.37114288477696283,
          0.3266094909905663,
          0.7456464135652001,
          0.0,
          5.2101666223452736E-5,
          0.008560300304242473,
          -0.0044997696493976275,
          0.01004471638529243,
          0.00455783187711193,
          0.01339782533350321,
          -0.025371636549170812,
          -0.04106524110776405,
          -0.025412731000633224,
          -0.038250936278929955,
          -0.08003857277983115,
          -0.11962066166152627,
          -0.0709699382690794,
          -0.12264544738680204,
          -0.07920508154975144,
          -0.11418192311991404,
          -0.1687376108712892,
          -0.14627228995513925,
          -0.06070432169892811,
          -0.11861792667484115,
          -0.10388170033184713,
          -0.15800698169659694,
          -0.15862530385586363,
          -0.23120092678275864,
          -0.008783512319580246,
          -0.19161672747565497,
          -0.2586014578607059,
          -0.1310136056446217,
          -0.07772022841229384,
          -0.21119711100626454,
          -0.15816862108695973,
          -0.094349145194436,
          -0.15690599792286608,
          -0.12665281646933285,
          -0.1350700159763852,
          -0.03234179554720045,
          0.26328652850724427,
          -0.05361243149293804,
          -0.005147363970073118,
          0.2982668189127667,
          0.37643339445561624,
          0.3716251898347742,
          0.36725509558702857,
          -0.20096817607861953,
          0.453540621960813,
          0.4039792183578741,
          0.4745255298729532,
          0.4791585168830779,
          0.4930795320389891,
          0.4494776870678694,
          0.5062457823855592,
          0.5139627713150032,
          0.2696179939317058,
          0.5395528734637265,
          0.23595068915013045,
          0.4695106333894623,
          0.1870067507327291,
          0.10603088298144721,
          0.45683674422268006,
          0.32473295049887274,
          0.07627226252158104,
          -0.023204450658944168,
          0.5346380439158925,
          0.13443969493212146,
          -0.551221625492878,
          -0.03477400947503231,
          -0.2629750096984226,
          -0.0450025275716999,
          -0.5302212985447959,
          -0.42915191760914645,
          -0.6179077118027171,
          0.25010548923971415,
          -0.4623328790406942,
          -0.06602274415656617,
          -0.7575354484716043,
          -0.7538279871857755,
          -0.7229565676092653,
          -0.5967834642172579,
          -0.7798367607868455,
          -0.6348299325322544,
          -0.6857722796803322,
          -0.8281461643328781,
          -0.7675032493630484,
          -0.8456720998497513,
          -0.7909120492834835,
          -0.7154843746375633,
          -0.844392155716455,
          -0.8832485385415928,
          -0.26808887565527306,
          -0.8919401950258407,
          -0.7725669812789644,
          -0.21181665316229203,
          -0.3351595424897883,
          -0.049399404758382386,
          0.5862821171473104,
          -0.04821886878301438,
          -0.7696868375025272,
          -0.25141374463049443,
          0.5780156046061677
         ],
         "type": "scatter"
        }
       ],
       "layout": {
        "template": {
         "data": {
          "histogram2dcontour": [
           {
            "type": "histogram2dcontour",
            "colorbar": {
             "outlinewidth": 0,
             "ticks": ""
            },
            "colorscale": [
             [
              0.0,
              "#0d0887"
             ],
             [
              0.1111111111111111,
              "#46039f"
             ],
             [
              0.2222222222222222,
              "#7201a8"
             ],
             [
              0.3333333333333333,
              "#9c179e"
             ],
             [
              0.4444444444444444,
              "#bd3786"
             ],
             [
              0.5555555555555556,
              "#d8576b"
             ],
             [
              0.6666666666666666,
              "#ed7953"
             ],
             [
              0.7777777777777778,
              "#fb9f3a"
             ],
             [
              0.8888888888888888,
              "#fdca26"
             ],
             [
              1.0,
              "#f0f921"
             ]
            ]
           }
          ],
          "choropleth": [
           {
            "type": "choropleth",
            "colorbar": {
             "outlinewidth": 0,
             "ticks": ""
            }
           }
          ],
          "histogram2d": [
           {
            "type": "histogram2d",
            "colorbar": {
             "outlinewidth": 0,
             "ticks": ""
            },
            "colorscale": [
             [
              0.0,
              "#0d0887"
             ],
             [
              0.1111111111111111,
              "#46039f"
             ],
             [
              0.2222222222222222,
              "#7201a8"
             ],
             [
              0.3333333333333333,
              "#9c179e"
             ],
             [
              0.4444444444444444,
              "#bd3786"
             ],
             [
              0.5555555555555556,
              "#d8576b"
             ],
             [
              0.6666666666666666,
              "#ed7953"
             ],
             [
              0.7777777777777778,
              "#fb9f3a"
             ],
             [
              0.8888888888888888,
              "#fdca26"
             ],
             [
              1.0,
              "#f0f921"
             ]
            ]
           }
          ],
          "heatmap": [
           {
            "type": "heatmap",
            "colorbar": {
             "outlinewidth": 0,
             "ticks": ""
            },
            "colorscale": [
             [
              0.0,
              "#0d0887"
             ],
             [
              0.1111111111111111,
              "#46039f"
             ],
             [
              0.2222222222222222,
              "#7201a8"
             ],
             [
              0.3333333333333333,
              "#9c179e"
             ],
             [
              0.4444444444444444,
              "#bd3786"
             ],
             [
              0.5555555555555556,
              "#d8576b"
             ],
             [
              0.6666666666666666,
              "#ed7953"
             ],
             [
              0.7777777777777778,
              "#fb9f3a"
             ],
             [
              0.8888888888888888,
              "#fdca26"
             ],
             [
              1.0,
              "#f0f921"
             ]
            ]
           }
          ],
          "heatmapgl": [
           {
            "type": "heatmapgl",
            "colorbar": {
             "outlinewidth": 0,
             "ticks": ""
            },
            "colorscale": [
             [
              0.0,
              "#0d0887"
             ],
             [
              0.1111111111111111,
              "#46039f"
             ],
             [
              0.2222222222222222,
              "#7201a8"
             ],
             [
              0.3333333333333333,
              "#9c179e"
             ],
             [
              0.4444444444444444,
              "#bd3786"
             ],
             [
              0.5555555555555556,
              "#d8576b"
             ],
             [
              0.6666666666666666,
              "#ed7953"
             ],
             [
              0.7777777777777778,
              "#fb9f3a"
             ],
             [
              0.8888888888888888,
              "#fdca26"
             ],
             [
              1.0,
              "#f0f921"
             ]
            ]
           }
          ],
          "contourcarpet": [
           {
            "type": "contourcarpet",
            "colorbar": {
             "outlinewidth": 0,
             "ticks": ""
            }
           }
          ],
          "contour": [
           {
            "type": "contour",
            "colorbar": {
             "outlinewidth": 0,
             "ticks": ""
            },
            "colorscale": [
             [
              0.0,
              "#0d0887"
             ],
             [
              0.1111111111111111,
              "#46039f"
             ],
             [
              0.2222222222222222,
              "#7201a8"
             ],
             [
              0.3333333333333333,
              "#9c179e"
             ],
             [
              0.4444444444444444,
              "#bd3786"
             ],
             [
              0.5555555555555556,
              "#d8576b"
             ],
             [
              0.6666666666666666,
              "#ed7953"
             ],
             [
              0.7777777777777778,
              "#fb9f3a"
             ],
             [
              0.8888888888888888,
              "#fdca26"
             ],
             [
              1.0,
              "#f0f921"
             ]
            ]
           }
          ],
          "surface": [
           {
            "type": "surface",
            "colorbar": {
             "outlinewidth": 0,
             "ticks": ""
            },
            "colorscale": [
             [
              0.0,
              "#0d0887"
             ],
             [
              0.1111111111111111,
              "#46039f"
             ],
             [
              0.2222222222222222,
              "#7201a8"
             ],
             [
              0.3333333333333333,
              "#9c179e"
             ],
             [
              0.4444444444444444,
              "#bd3786"
             ],
             [
              0.5555555555555556,
              "#d8576b"
             ],
             [
              0.6666666666666666,
              "#ed7953"
             ],
             [
              0.7777777777777778,
              "#fb9f3a"
             ],
             [
              0.8888888888888888,
              "#fdca26"
             ],
             [
              1.0,
              "#f0f921"
             ]
            ]
           }
          ],
          "mesh3d": [
           {
            "type": "mesh3d",
            "colorbar": {
             "outlinewidth": 0,
             "ticks": ""
            }
           }
          ],
          "scatter": [
           {
            "marker": {
             "line": {
              "color": "#283442"
             }
            },
            "type": "scatter"
           }
          ],
          "parcoords": [
           {
            "type": "parcoords",
            "line": {
             "colorbar": {
              "outlinewidth": 0,
              "ticks": ""
             }
            }
           }
          ],
          "scatterpolargl": [
           {
            "type": "scatterpolargl",
            "marker": {
             "colorbar": {
              "outlinewidth": 0,
              "ticks": ""
             }
            }
           }
          ],
          "bar": [
           {
            "error_x": {
             "color": "#f2f5fa"
            },
            "error_y": {
             "color": "#f2f5fa"
            },
            "marker": {
             "line": {
              "color": "rgb(17,17,17)",
              "width": 0.5
             },
             "pattern": {
              "fillmode": "overlay",
              "size": 10,
              "solidity": 0.2
             }
            },
            "type": "bar"
           }
          ],
          "scattergeo": [
           {
            "type": "scattergeo",
            "marker": {
             "colorbar": {
              "outlinewidth": 0,
              "ticks": ""
             }
            }
           }
          ],
          "scatterpolar": [
           {
            "type": "scatterpolar",
            "marker": {
             "colorbar": {
              "outlinewidth": 0,
              "ticks": ""
             }
            }
           }
          ],
          "histogram": [
           {
            "marker": {
             "pattern": {
              "fillmode": "overlay",
              "size": 10,
              "solidity": 0.2
             }
            },
            "type": "histogram"
           }
          ],
          "scattergl": [
           {
            "marker": {
             "line": {
              "color": "#283442"
             }
            },
            "type": "scattergl"
           }
          ],
          "scatter3d": [
           {
            "type": "scatter3d",
            "line": {
             "colorbar": {
              "outlinewidth": 0,
              "ticks": ""
             }
            },
            "marker": {
             "colorbar": {
              "outlinewidth": 0,
              "ticks": ""
             }
            }
           }
          ],
          "scattermapbox": [
           {
            "type": "scattermapbox",
            "marker": {
             "colorbar": {
              "outlinewidth": 0,
              "ticks": ""
             }
            }
           }
          ],
          "scatterternary": [
           {
            "type": "scatterternary",
            "marker": {
             "colorbar": {
              "outlinewidth": 0,
              "ticks": ""
             }
            }
           }
          ],
          "scattercarpet": [
           {
            "type": "scattercarpet",
            "marker": {
             "colorbar": {
              "outlinewidth": 0,
              "ticks": ""
             }
            }
           }
          ],
          "carpet": [
           {
            "aaxis": {
             "endlinecolor": "#A2B1C6",
             "gridcolor": "#506784",
             "linecolor": "#506784",
             "minorgridcolor": "#506784",
             "startlinecolor": "#A2B1C6"
            },
            "baxis": {
             "endlinecolor": "#A2B1C6",
             "gridcolor": "#506784",
             "linecolor": "#506784",
             "minorgridcolor": "#506784",
             "startlinecolor": "#A2B1C6"
            },
            "type": "carpet"
           }
          ],
          "table": [
           {
            "cells": {
             "fill": {
              "color": "#506784"
             },
             "line": {
              "color": "rgb(17,17,17)"
             }
            },
            "header": {
             "fill": {
              "color": "#2a3f5f"
             },
             "line": {
              "color": "rgb(17,17,17)"
             }
            },
            "type": "table"
           }
          ],
          "barpolar": [
           {
            "marker": {
             "line": {
              "color": "rgb(17,17,17)",
              "width": 0.5
             },
             "pattern": {
              "fillmode": "overlay",
              "size": 10,
              "solidity": 0.2
             }
            },
            "type": "barpolar"
           }
          ],
          "pie": [
           {
            "automargin": true,
            "type": "pie"
           }
          ]
         },
         "layout": {
          "autotypenumbers": "strict",
          "colorway": [
           "#636efa",
           "#EF553B",
           "#00cc96",
           "#ab63fa",
           "#FFA15A",
           "#19d3f3",
           "#FF6692",
           "#B6E880",
           "#FF97FF",
           "#FECB52"
          ],
          "font": {
           "color": "#f2f5fa"
          },
          "hovermode": "closest",
          "hoverlabel": {
           "align": "left"
          },
          "paper_bgcolor": "rgb(17,17,17)",
          "plot_bgcolor": "rgb(17,17,17)",
          "polar": {
           "bgcolor": "rgb(17,17,17)",
           "angularaxis": {
            "gridcolor": "#506784",
            "linecolor": "#506784",
            "ticks": ""
           },
           "radialaxis": {
            "gridcolor": "#506784",
            "linecolor": "#506784",
            "ticks": ""
           }
          },
          "ternary": {
           "bgcolor": "rgb(17,17,17)",
           "aaxis": {
            "gridcolor": "#506784",
            "linecolor": "#506784",
            "ticks": ""
           },
           "baxis": {
            "gridcolor": "#506784",
            "linecolor": "#506784",
            "ticks": ""
           },
           "caxis": {
            "gridcolor": "#506784",
            "linecolor": "#506784",
            "ticks": ""
           }
          },
          "coloraxis": {
           "colorbar": {
            "outlinewidth": 0,
            "ticks": ""
           }
          },
          "colorscale": {
           "sequential": [
            [
             0.0,
             "#0d0887"
            ],
            [
             0.1111111111111111,
             "#46039f"
            ],
            [
             0.2222222222222222,
             "#7201a8"
            ],
            [
             0.3333333333333333,
             "#9c179e"
            ],
            [
             0.4444444444444444,
             "#bd3786"
            ],
            [
             0.5555555555555556,
             "#d8576b"
            ],
            [
             0.6666666666666666,
             "#ed7953"
            ],
            [
             0.7777777777777778,
             "#fb9f3a"
            ],
            [
             0.8888888888888888,
             "#fdca26"
            ],
            [
             1.0,
             "#f0f921"
            ]
           ],
           "sequentialminus": [
            [
             0.0,
             "#0d0887"
            ],
            [
             0.1111111111111111,
             "#46039f"
            ],
            [
             0.2222222222222222,
             "#7201a8"
            ],
            [
             0.3333333333333333,
             "#9c179e"
            ],
            [
             0.4444444444444444,
             "#bd3786"
            ],
            [
             0.5555555555555556,
             "#d8576b"
            ],
            [
             0.6666666666666666,
             "#ed7953"
            ],
            [
             0.7777777777777778,
             "#fb9f3a"
            ],
            [
             0.8888888888888888,
             "#fdca26"
            ],
            [
             1.0,
             "#f0f921"
            ]
           ],
           "diverging": [
            [
             0,
             "#8e0152"
            ],
            [
             0.1,
             "#c51b7d"
            ],
            [
             0.2,
             "#de77ae"
            ],
            [
             0.3,
             "#f1b6da"
            ],
            [
             0.4,
             "#fde0ef"
            ],
            [
             0.5,
             "#f7f7f7"
            ],
            [
             0.6,
             "#e6f5d0"
            ],
            [
             0.7,
             "#b8e186"
            ],
            [
             0.8,
             "#7fbc41"
            ],
            [
             0.9,
             "#4d9221"
            ],
            [
             1,
             "#276419"
            ]
           ]
          },
          "xaxis": {
           "gridcolor": "#283442",
           "linecolor": "#506784",
           "ticks": "",
           "title": {
            "standoff": 15
           },
           "zerolinecolor": "#283442",
           "automargin": true,
           "zerolinewidth": 2
          },
          "yaxis": {
           "gridcolor": "#283442",
           "linecolor": "#506784",
           "ticks": "",
           "title": {
            "standoff": 15
           },
           "zerolinecolor": "#283442",
           "automargin": true,
           "zerolinewidth": 2
          },
          "scene": {
           "xaxis": {
            "backgroundcolor": "rgb(17,17,17)",
            "gridcolor": "#506784",
            "linecolor": "#506784",
            "showbackground": true,
            "ticks": "",
            "zerolinecolor": "#C8D4E3",
            "gridwidth": 2
           },
           "yaxis": {
            "backgroundcolor": "rgb(17,17,17)",
            "gridcolor": "#506784",
            "linecolor": "#506784",
            "showbackground": true,
            "ticks": "",
            "zerolinecolor": "#C8D4E3",
            "gridwidth": 2
           },
           "zaxis": {
            "backgroundcolor": "rgb(17,17,17)",
            "gridcolor": "#506784",
            "linecolor": "#506784",
            "showbackground": true,
            "ticks": "",
            "zerolinecolor": "#C8D4E3",
            "gridwidth": 2
           }
          },
          "shapedefaults": {
           "line": {
            "color": "#f2f5fa"
           }
          },
          "annotationdefaults": {
           "arrowcolor": "#f2f5fa",
           "arrowhead": 0,
           "arrowwidth": 1
          },
          "geo": {
           "bgcolor": "rgb(17,17,17)",
           "landcolor": "rgb(17,17,17)",
           "subunitcolor": "#506784",
           "showland": true,
           "showlakes": true,
           "lakecolor": "rgb(17,17,17)"
          },
          "title": {
           "x": 0.05
          },
          "updatemenudefaults": {
           "bgcolor": "#506784",
           "borderwidth": 0
          },
          "sliderdefaults": {
           "bgcolor": "#C8D4E3",
           "borderwidth": 1,
           "bordercolor": "rgb(17,17,17)",
           "tickwidth": 0
          },
          "mapbox": {
           "style": "dark"
          }
         }
        },
        "margin": {
         "l": 0,
         "r": 0,
         "t": 0,
         "b": 0
        },
        "title": {
         "text": "Spiral Dataset"
        },
        "xaxis": {
         "title": {
          "text": "X"
         }
        },
        "yaxis": {
         "title": {
          "text": "Y"
         }
        }
       },
       "config": {
        "plotlyServerURL": "https://plot.ly"
       }
      },
      "text/html": [
       "<div>                            <div id=\"a8d39f4a-da1a-4f6b-9e20-b31103750caf\" class=\"plotly-graph-div\" style=\"height:525px; width:100%;\"></div>            <script type=\"text/javascript\">                require([\"plotly\"], function(Plotly) {                    window.PLOTLYENV=window.PLOTLYENV || {};                                    if (document.getElementById(\"a8d39f4a-da1a-4f6b-9e20-b31103750caf\")) {                    Plotly.newPlot(                        \"a8d39f4a-da1a-4f6b-9e20-b31103750caf\",                        [{\"marker\":{\"color\":[0,0,0,0,0,0,0,0,0,0,0,0,0,0,0,0,0,0,0,0,0,0,0,0,0,0,0,0,0,0,0,0,0,0,0,0,0,0,0,0,0,0,0,0,0,0,0,0,0,0,0,0,0,0,0,0,0,0,0,0,0,0,0,0,0,0,0,0,0,0,0,0,0,0,0,0,0,0,0,0,0,0,0,0,0,0,0,0,0,0,0,0,0,0,0,0,0,0,0,0,1,1,1,1,1,1,1,1,1,1,1,1,1,1,1,1,1,1,1,1,1,1,1,1,1,1,1,1,1,1,1,1,1,1,1,1,1,1,1,1,1,1,1,1,1,1,1,1,1,1,1,1,1,1,1,1,1,1,1,1,1,1,1,1,1,1,1,1,1,1,1,1,1,1,1,1,1,1,1,1,1,1,1,1,1,1,1,1,1,1,1,1,1,1,1,1,1,1,1,1,2,2,2,2,2,2,2,2,2,2,2,2,2,2,2,2,2,2,2,2,2,2,2,2,2,2,2,2,2,2,2,2,2,2,2,2,2,2,2,2,2,2,2,2,2,2,2,2,2,2,2,2,2,2,2,2,2,2,2,2,2,2,2,2,2,2,2,2,2,2,2,2,2,2,2,2,2,2,2,2,2,2,2,2,2,2,2,2,2,2,2,2,2,2,2,2,2,2,2,2],\"colorscale\":[[0.0,\"#440154\"],[0.1111111111111111,\"#482878\"],[0.2222222222222222,\"#3e4989\"],[0.3333333333333333,\"#31688e\"],[0.4444444444444444,\"#26828e\"],[0.5555555555555556,\"#1f9e89\"],[0.6666666666666666,\"#35b779\"],[0.7777777777777778,\"#6ece58\"],[0.8888888888888888,\"#b5de2b\"],[1.0,\"#fde725\"]],\"opacity\":0.8,\"size\":8},\"mode\":\"markers\",\"name\":\"Dataset\",\"x\":[0.0,0.007973322997939715,0.0030395821145281603,0.004378255352473495,-0.01880751683193934,0.03570929436225858,0.06049575100471486,0.0497247012976179,0.03393135506563696,0.06223409224265203,0.03842722575284825,0.08081050293024583,0.10153785269899464,0.1304161706228,0.13666975799397052,0.10781204243958573,0.1423645152166734,0.16422369389625405,0.15965648227928614,0.18811665758633384,0.19231870276863014,0.16646697263284754,0.12006719284947176,0.18430919511073468,0.1481368204186314,0.05863723315606224,0.165475700132874,0.10691914674160204,0.0796801836838323,0.009056145422070177,-0.01125071672272952,-0.20009088964295252,-0.06458748962539096,-0.21132898567974656,0.03187605293515382,-0.20626528946029205,-0.35679997230009675,-0.0998225028457296,-0.22472235572099775,-0.1279323876426472,-0.3195101304727225,-0.14762058242355552,-0.4024568098120154,-0.4131830953553073,-0.2692242507506246,-0.45439103317803947,-0.27200634508564586,-0.46111837562999347,-0.27989096679192793,-0.4933587485181505,-0.38454039012602803,-0.295655259877887,-0.3999194944304975,-0.47509615568534175,-0.08321671528636113,-0.26193406800349395,-0.2543211225072756,0.009163711297817944,-0.0910069700311242,0.19241716248881566,-0.1822683017622405,-0.42842897176413547,-0.617135844637325,0.5961063638727134,0.014044325998652116,0.28655082777244817,0.15571816119569457,0.6542954109470281,0.07120145412793591,0.3831668862471861,0.30399621265517324,0.4898915818625168,0.5150862323169977,0.6856222906852378,0.7315023891822936,0.43181013789247685,0.7304927020414027,0.5823911629483552,0.7632846396312073,0.6166776717214963,0.8079154088255714,0.4501783795998014,0.797852177831387,0.4365630453017606,0.46458103653011373,0.7669355879440984,0.5663064921350054,-0.19854084875942188,0.80406791187237,0.12164047732060038,-0.06123914174357647,0.38630982546489856,0.16941522458780822,0.11462251384487258,-0.025263648559000436,-0.5407214626763923,-0.37183801454439697,-0.22184716763355525,-0.2969920209994998,-0.5148374188583029,-0.0,-0.008626863784420964,-0.006162987245164948,-0.030299559643009955,-0.03791107456724079,-0.04844050415641996,-0.04278309235823842,-0.06300407374680235,-0.07629666323927334,-0.07779530351309633,-0.09833271166515103,-0.03408361912026809,-0.12103689965475685,-0.10558149480964253,-0.0681104763496998,-0.14518159043490844,-0.16161227631902508,-0.14666944594274403,-0.1067823547412022,-0.01064073191434465,-0.052473305132069964,-0.19049404694820737,0.054147509667564826,-0.11146989375898965,0.09943635063121624,0.04599574713606986,-0.11312547843293509,-0.0842669937227639,0.1545687805789825,0.12365763239571165,-0.014567724015049811,0.26576028661874385,0.18490773296194984,0.08116871222950015,0.321299112503105,0.306218095240642,0.35941164978512224,0.28258055864632453,0.3723048698758158,0.24383728582932143,0.4025449566432055,0.4113314659794971,0.37912476907061443,0.4335755449022217,0.43275977711309904,0.34680245440358975,0.2745694597755848,0.4170723926657131,0.3876978890762215,0.43459038087058377,0.4258529111116634,0.027849577421058504,-0.019404689229655273,0.12988974630489608,0.06978801898375267,-0.1745173560264745,0.16795267533722558,-0.07550650937140042,-0.3665368835421626,0.1778940395813843,-0.34958470603441166,-0.11308737047839562,-0.6133575771325824,-0.41108099081411814,-0.5411789154971638,0.005094085920107775,-0.3021983812837882,-0.6650390726708081,-0.6813554080959199,-0.6969621554824208,-0.6949248483886987,-0.7133357677496954,-0.7236020247932455,-0.7266641898107957,-0.7472533635845428,-0.7524305078438625,-0.7457156619470515,-0.6545711275541192,-0.6338354852846837,-0.7894718226980454,0.2557502598168096,-0.7656769029203074,-0.5397518347587458,-0.5643052139837735,-0.13953486955867075,0.487157792902637,-0.020586315306607157,0.4397892876750219,0.22524405447928886,-0.3925559299074374,0.23657056566336473,0.6888810843261275,0.4376671459909429,0.9294217434414725,0.5029082218285956,0.8791576754850319,-0.18331323868758234,0.9067838994466304,0.9344657567818757,0.6663418236441073,0.0,0.010100875728226976,0.018298712494162497,0.029967077245683014,0.03913553568957972,0.050298969125596255,0.05910662279743642,0.06599825684661284,0.06959591867808432,0.08728491228732954,0.09348746643190226,0.07706818980431131,0.019577426603121898,0.11048260640183473,0.07039924450723861,0.12916422180834966,0.11437776063632,-0.031849736890499254,0.10799198317907259,-0.18206581654442625,0.16352965937604483,-0.18494323715112315,-0.1562578311142005,-0.1697412656184392,-0.0729084684365359,-0.2523724491189051,-0.17959839523937635,-0.08663400765042423,-0.25065369078389954,-0.2824307645275146,-0.2173088697159986,-0.270247861354702,-0.3091559049787733,-0.2940945748002514,-0.31922752439375285,-0.32671598825816056,-0.36219526946035724,-0.2652542712845798,-0.3800757978312715,-0.3939057637830356,-0.27255376136239956,-0.17265865297074676,-0.2046371247045783,-0.23190065485593558,-0.3964122303879685,-0.030207192509944584,0.2295585507956945,-0.014515036269235464,-0.07406192650937857,-0.042983457689809934,-0.23031678505894607,-0.0953744797088557,0.10831659607999304,0.4625035623254935,0.08002098408580632,0.5029604831378113,0.3154791837896861,0.5445413310508465,0.5761837679754582,0.3827114175777181,0.5117205966920286,0.6114226682097532,0.6258325898536913,0.34513887014322037,0.6323310110655799,0.35669760438007025,0.6657591251417249,0.6235853049837152,0.6853928548743945,0.4523628334241239,0.561940936762808,0.3640402884376397,0.6829149757377371,0.5744287053468483,0.7445532186260927,-0.007814907255275652,-0.14515848361736308,0.2868310878471302,-0.5143952577796543,0.16919333470725031,0.49998554894079206,0.44624866165104193,0.01504573457638047,0.3373814201766016,0.06903070073574961,0.3341074780094224,-0.49264488780306265,-0.2434543556172651,-0.09997737721236725,-0.8580857726566503,-0.1757525803196103,-0.49805024218971317,-0.904830953204497,-0.8775699712547713,-0.9482090264946513,-0.7596694575841246,-0.9684973689859835,-0.6062889190737045,-0.9574398880420186,-0.8160257108889195],\"y\":[0.0,0.006201332552865856,0.019972044482522888,0.0299850717126858,0.03575980692883629,0.035715632749081606,-0.0036549545224301076,0.050268717199043134,0.07333900099738878,0.06626749257856702,0.09341514238607383,0.07625838726662407,0.06620002113307241,0.015321908998045542,0.03632267393472461,-0.10645846440590945,0.07649920589563555,-0.050173353740946,-0.08699229222105492,0.038014462582833586,0.06185207021332864,-0.1314692194174251,-0.18699354333941715,-0.1414362219332365,-0.1918983995535815,-0.24562304055349563,-0.20393711404885048,-0.2508953195045774,-0.2713722644186504,-0.2927892704423265,-0.3028213762729807,-0.24086273091790747,-0.3167137366235559,-0.25778124625868465,-0.341951846755437,-0.28712693458334654,-0.07017966033921726,-0.36015981515672135,-0.3111780322369621,-0.37258764108513914,-0.24730937026816605,-0.3869383343014499,-0.13420190297840165,0.13391769363999786,-0.3536229164029046,0.011847329459746139,-0.37670795762978904,-0.11293807345382008,0.3959028920936943,0.039650319183639884,-0.3274212897987735,0.42186378236279176,0.3405210907691476,0.24675301552065892,0.5390692343790114,0.48993113733236326,0.5052604446392177,0.5756846466925194,0.5787469343590306,0.5640420867241005,0.5780032217827665,0.4428360344236008,0.10652805413194003,0.22274622474107772,0.6463120732555628,0.5907343603383981,0.6482254998982039,0.17295087028164452,0.6831683144956167,0.5821940361921163,0.6383849054361956,0.5237762021429291,0.5134313908519723,0.27137078524417607,0.15369695095555388,0.6224636802896722,-0.23602548992619526,0.5155179967029284,0.19531908071769694,-0.5064389471437142,0.016348840042694202,-0.6831990296715906,-0.22245077198767874,-0.7157514707914131,-0.7099936609611113,-0.38597860110174015,-0.6587213620300637,-0.8560663918636148,-0.3789435972375442,-0.8907224218369523,-0.9070259359633802,-0.8340734398462784,-0.9137197765790647,-0.9323747383375134,-0.9491587892328154,-0.7927450444335767,-0.8955717190594882,-0.9543520919603896,-0.9442964310351243,-0.8572878350608507,-0.0,-0.005254295985739108,-0.019239002272954973,-0.0004586185627025126,-0.013972720069064507,-0.014292574421340725,0.04292670020455722,0.03209324756521517,-0.026622642664435755,-0.04703566265316753,0.02310234452710548,-0.10575436596193169,0.006515155462940948,0.07807487693887899,0.12393111959195631,0.0433491284508677,-0.0011206420143665052,0.08930207550439757,0.1471576703933352,0.19162398349695864,0.19508642770013482,0.09331359337774121,0.21552439130219972,0.20383460712664608,0.22109257221379847,0.24830101572151753,0.23701303751135339,0.25938241856028693,0.23685508151171578,0.26554916796394323,0.3026799398236669,0.16559797498660303,0.26511934119003344,0.32329978544087484,0.1213013955191598,0.17668538237941633,-0.0552690777688062,0.24459732705661474,-0.09338623439465984,0.3094052749012641,0.034730476216902104,0.0481615614594062,-0.1903839384093163,-0.025815999302579908,-0.10124149105259043,-0.2938360561054071,-0.3748438993327781,-0.22679458559498603,-0.29115013320572825,-0.23686748068386487,-0.2715240518802929,-0.5143981770966634,-0.5248939638822828,-0.5193573544491102,-0.54097161992414,-0.5274330931541656,-0.5401474327602133,-0.570785032288678,-0.4570350048162845,-0.568789548688917,-0.49507574322055325,-0.6056949594219659,-0.1264806689870437,-0.4857685628745787,0.35361267023393567,-0.6565458945649802,-0.5942394995234689,-0.125449273169159,0.08685275389506568,0.0032422707057222643,-0.13049306452610387,0.07407667892111675,-0.07297759621847062,-0.1252165476889269,-0.018190896735032745,0.08814396934737243,0.18230680502252444,0.42008916979311345,0.46798030084959524,-0.11621531374868489,0.7665418429493371,0.2883753941266,0.6282677777053102,0.6200379713646139,0.8369328278216843,0.7069985582572623,0.8684429051187499,0.7608242361746874,0.8598770683719009,0.8087537822974159,0.8777702708872358,0.6085693353804335,0.8197760778127013,-0.1365144541368345,0.805371951047227,0.3845857346660767,0.9522124077963673,0.37114288477696283,0.3266094909905663,0.7456464135652001,0.0,5.2101666223452736e-05,0.008560300304242473,-0.0044997696493976275,0.01004471638529243,0.00455783187711193,0.01339782533350321,-0.025371636549170812,-0.04106524110776405,-0.025412731000633224,-0.038250936278929955,-0.08003857277983115,-0.11962066166152627,-0.0709699382690794,-0.12264544738680204,-0.07920508154975144,-0.11418192311991404,-0.1687376108712892,-0.14627228995513925,-0.06070432169892811,-0.11861792667484115,-0.10388170033184713,-0.15800698169659694,-0.15862530385586363,-0.23120092678275864,-0.008783512319580246,-0.19161672747565497,-0.2586014578607059,-0.1310136056446217,-0.07772022841229384,-0.21119711100626454,-0.15816862108695973,-0.094349145194436,-0.15690599792286608,-0.12665281646933285,-0.1350700159763852,-0.03234179554720045,0.26328652850724427,-0.05361243149293804,-0.005147363970073118,0.2982668189127667,0.37643339445561624,0.3716251898347742,0.36725509558702857,-0.20096817607861953,0.453540621960813,0.4039792183578741,0.4745255298729532,0.4791585168830779,0.4930795320389891,0.4494776870678694,0.5062457823855592,0.5139627713150032,0.2696179939317058,0.5395528734637265,0.23595068915013045,0.4695106333894623,0.1870067507327291,0.10603088298144721,0.45683674422268006,0.32473295049887274,0.07627226252158104,-0.023204450658944168,0.5346380439158925,0.13443969493212146,-0.551221625492878,-0.03477400947503231,-0.2629750096984226,-0.0450025275716999,-0.5302212985447959,-0.42915191760914645,-0.6179077118027171,0.25010548923971415,-0.4623328790406942,-0.06602274415656617,-0.7575354484716043,-0.7538279871857755,-0.7229565676092653,-0.5967834642172579,-0.7798367607868455,-0.6348299325322544,-0.6857722796803322,-0.8281461643328781,-0.7675032493630484,-0.8456720998497513,-0.7909120492834835,-0.7154843746375633,-0.844392155716455,-0.8832485385415928,-0.26808887565527306,-0.8919401950258407,-0.7725669812789644,-0.21181665316229203,-0.3351595424897883,-0.049399404758382386,0.5862821171473104,-0.04821886878301438,-0.7696868375025272,-0.25141374463049443,0.5780156046061677],\"type\":\"scatter\"}],                        {\"template\":{\"data\":{\"histogram2dcontour\":[{\"type\":\"histogram2dcontour\",\"colorbar\":{\"outlinewidth\":0,\"ticks\":\"\"},\"colorscale\":[[0.0,\"#0d0887\"],[0.1111111111111111,\"#46039f\"],[0.2222222222222222,\"#7201a8\"],[0.3333333333333333,\"#9c179e\"],[0.4444444444444444,\"#bd3786\"],[0.5555555555555556,\"#d8576b\"],[0.6666666666666666,\"#ed7953\"],[0.7777777777777778,\"#fb9f3a\"],[0.8888888888888888,\"#fdca26\"],[1.0,\"#f0f921\"]]}],\"choropleth\":[{\"type\":\"choropleth\",\"colorbar\":{\"outlinewidth\":0,\"ticks\":\"\"}}],\"histogram2d\":[{\"type\":\"histogram2d\",\"colorbar\":{\"outlinewidth\":0,\"ticks\":\"\"},\"colorscale\":[[0.0,\"#0d0887\"],[0.1111111111111111,\"#46039f\"],[0.2222222222222222,\"#7201a8\"],[0.3333333333333333,\"#9c179e\"],[0.4444444444444444,\"#bd3786\"],[0.5555555555555556,\"#d8576b\"],[0.6666666666666666,\"#ed7953\"],[0.7777777777777778,\"#fb9f3a\"],[0.8888888888888888,\"#fdca26\"],[1.0,\"#f0f921\"]]}],\"heatmap\":[{\"type\":\"heatmap\",\"colorbar\":{\"outlinewidth\":0,\"ticks\":\"\"},\"colorscale\":[[0.0,\"#0d0887\"],[0.1111111111111111,\"#46039f\"],[0.2222222222222222,\"#7201a8\"],[0.3333333333333333,\"#9c179e\"],[0.4444444444444444,\"#bd3786\"],[0.5555555555555556,\"#d8576b\"],[0.6666666666666666,\"#ed7953\"],[0.7777777777777778,\"#fb9f3a\"],[0.8888888888888888,\"#fdca26\"],[1.0,\"#f0f921\"]]}],\"heatmapgl\":[{\"type\":\"heatmapgl\",\"colorbar\":{\"outlinewidth\":0,\"ticks\":\"\"},\"colorscale\":[[0.0,\"#0d0887\"],[0.1111111111111111,\"#46039f\"],[0.2222222222222222,\"#7201a8\"],[0.3333333333333333,\"#9c179e\"],[0.4444444444444444,\"#bd3786\"],[0.5555555555555556,\"#d8576b\"],[0.6666666666666666,\"#ed7953\"],[0.7777777777777778,\"#fb9f3a\"],[0.8888888888888888,\"#fdca26\"],[1.0,\"#f0f921\"]]}],\"contourcarpet\":[{\"type\":\"contourcarpet\",\"colorbar\":{\"outlinewidth\":0,\"ticks\":\"\"}}],\"contour\":[{\"type\":\"contour\",\"colorbar\":{\"outlinewidth\":0,\"ticks\":\"\"},\"colorscale\":[[0.0,\"#0d0887\"],[0.1111111111111111,\"#46039f\"],[0.2222222222222222,\"#7201a8\"],[0.3333333333333333,\"#9c179e\"],[0.4444444444444444,\"#bd3786\"],[0.5555555555555556,\"#d8576b\"],[0.6666666666666666,\"#ed7953\"],[0.7777777777777778,\"#fb9f3a\"],[0.8888888888888888,\"#fdca26\"],[1.0,\"#f0f921\"]]}],\"surface\":[{\"type\":\"surface\",\"colorbar\":{\"outlinewidth\":0,\"ticks\":\"\"},\"colorscale\":[[0.0,\"#0d0887\"],[0.1111111111111111,\"#46039f\"],[0.2222222222222222,\"#7201a8\"],[0.3333333333333333,\"#9c179e\"],[0.4444444444444444,\"#bd3786\"],[0.5555555555555556,\"#d8576b\"],[0.6666666666666666,\"#ed7953\"],[0.7777777777777778,\"#fb9f3a\"],[0.8888888888888888,\"#fdca26\"],[1.0,\"#f0f921\"]]}],\"mesh3d\":[{\"type\":\"mesh3d\",\"colorbar\":{\"outlinewidth\":0,\"ticks\":\"\"}}],\"scatter\":[{\"marker\":{\"line\":{\"color\":\"#283442\"}},\"type\":\"scatter\"}],\"parcoords\":[{\"type\":\"parcoords\",\"line\":{\"colorbar\":{\"outlinewidth\":0,\"ticks\":\"\"}}}],\"scatterpolargl\":[{\"type\":\"scatterpolargl\",\"marker\":{\"colorbar\":{\"outlinewidth\":0,\"ticks\":\"\"}}}],\"bar\":[{\"error_x\":{\"color\":\"#f2f5fa\"},\"error_y\":{\"color\":\"#f2f5fa\"},\"marker\":{\"line\":{\"color\":\"rgb(17,17,17)\",\"width\":0.5},\"pattern\":{\"fillmode\":\"overlay\",\"size\":10,\"solidity\":0.2}},\"type\":\"bar\"}],\"scattergeo\":[{\"type\":\"scattergeo\",\"marker\":{\"colorbar\":{\"outlinewidth\":0,\"ticks\":\"\"}}}],\"scatterpolar\":[{\"type\":\"scatterpolar\",\"marker\":{\"colorbar\":{\"outlinewidth\":0,\"ticks\":\"\"}}}],\"histogram\":[{\"marker\":{\"pattern\":{\"fillmode\":\"overlay\",\"size\":10,\"solidity\":0.2}},\"type\":\"histogram\"}],\"scattergl\":[{\"marker\":{\"line\":{\"color\":\"#283442\"}},\"type\":\"scattergl\"}],\"scatter3d\":[{\"type\":\"scatter3d\",\"line\":{\"colorbar\":{\"outlinewidth\":0,\"ticks\":\"\"}},\"marker\":{\"colorbar\":{\"outlinewidth\":0,\"ticks\":\"\"}}}],\"scattermapbox\":[{\"type\":\"scattermapbox\",\"marker\":{\"colorbar\":{\"outlinewidth\":0,\"ticks\":\"\"}}}],\"scatterternary\":[{\"type\":\"scatterternary\",\"marker\":{\"colorbar\":{\"outlinewidth\":0,\"ticks\":\"\"}}}],\"scattercarpet\":[{\"type\":\"scattercarpet\",\"marker\":{\"colorbar\":{\"outlinewidth\":0,\"ticks\":\"\"}}}],\"carpet\":[{\"aaxis\":{\"endlinecolor\":\"#A2B1C6\",\"gridcolor\":\"#506784\",\"linecolor\":\"#506784\",\"minorgridcolor\":\"#506784\",\"startlinecolor\":\"#A2B1C6\"},\"baxis\":{\"endlinecolor\":\"#A2B1C6\",\"gridcolor\":\"#506784\",\"linecolor\":\"#506784\",\"minorgridcolor\":\"#506784\",\"startlinecolor\":\"#A2B1C6\"},\"type\":\"carpet\"}],\"table\":[{\"cells\":{\"fill\":{\"color\":\"#506784\"},\"line\":{\"color\":\"rgb(17,17,17)\"}},\"header\":{\"fill\":{\"color\":\"#2a3f5f\"},\"line\":{\"color\":\"rgb(17,17,17)\"}},\"type\":\"table\"}],\"barpolar\":[{\"marker\":{\"line\":{\"color\":\"rgb(17,17,17)\",\"width\":0.5},\"pattern\":{\"fillmode\":\"overlay\",\"size\":10,\"solidity\":0.2}},\"type\":\"barpolar\"}],\"pie\":[{\"automargin\":true,\"type\":\"pie\"}]},\"layout\":{\"autotypenumbers\":\"strict\",\"colorway\":[\"#636efa\",\"#EF553B\",\"#00cc96\",\"#ab63fa\",\"#FFA15A\",\"#19d3f3\",\"#FF6692\",\"#B6E880\",\"#FF97FF\",\"#FECB52\"],\"font\":{\"color\":\"#f2f5fa\"},\"hovermode\":\"closest\",\"hoverlabel\":{\"align\":\"left\"},\"paper_bgcolor\":\"rgb(17,17,17)\",\"plot_bgcolor\":\"rgb(17,17,17)\",\"polar\":{\"bgcolor\":\"rgb(17,17,17)\",\"angularaxis\":{\"gridcolor\":\"#506784\",\"linecolor\":\"#506784\",\"ticks\":\"\"},\"radialaxis\":{\"gridcolor\":\"#506784\",\"linecolor\":\"#506784\",\"ticks\":\"\"}},\"ternary\":{\"bgcolor\":\"rgb(17,17,17)\",\"aaxis\":{\"gridcolor\":\"#506784\",\"linecolor\":\"#506784\",\"ticks\":\"\"},\"baxis\":{\"gridcolor\":\"#506784\",\"linecolor\":\"#506784\",\"ticks\":\"\"},\"caxis\":{\"gridcolor\":\"#506784\",\"linecolor\":\"#506784\",\"ticks\":\"\"}},\"coloraxis\":{\"colorbar\":{\"outlinewidth\":0,\"ticks\":\"\"}},\"colorscale\":{\"sequential\":[[0.0,\"#0d0887\"],[0.1111111111111111,\"#46039f\"],[0.2222222222222222,\"#7201a8\"],[0.3333333333333333,\"#9c179e\"],[0.4444444444444444,\"#bd3786\"],[0.5555555555555556,\"#d8576b\"],[0.6666666666666666,\"#ed7953\"],[0.7777777777777778,\"#fb9f3a\"],[0.8888888888888888,\"#fdca26\"],[1.0,\"#f0f921\"]],\"sequentialminus\":[[0.0,\"#0d0887\"],[0.1111111111111111,\"#46039f\"],[0.2222222222222222,\"#7201a8\"],[0.3333333333333333,\"#9c179e\"],[0.4444444444444444,\"#bd3786\"],[0.5555555555555556,\"#d8576b\"],[0.6666666666666666,\"#ed7953\"],[0.7777777777777778,\"#fb9f3a\"],[0.8888888888888888,\"#fdca26\"],[1.0,\"#f0f921\"]],\"diverging\":[[0,\"#8e0152\"],[0.1,\"#c51b7d\"],[0.2,\"#de77ae\"],[0.3,\"#f1b6da\"],[0.4,\"#fde0ef\"],[0.5,\"#f7f7f7\"],[0.6,\"#e6f5d0\"],[0.7,\"#b8e186\"],[0.8,\"#7fbc41\"],[0.9,\"#4d9221\"],[1,\"#276419\"]]},\"xaxis\":{\"gridcolor\":\"#283442\",\"linecolor\":\"#506784\",\"ticks\":\"\",\"title\":{\"standoff\":15},\"zerolinecolor\":\"#283442\",\"automargin\":true,\"zerolinewidth\":2},\"yaxis\":{\"gridcolor\":\"#283442\",\"linecolor\":\"#506784\",\"ticks\":\"\",\"title\":{\"standoff\":15},\"zerolinecolor\":\"#283442\",\"automargin\":true,\"zerolinewidth\":2},\"scene\":{\"xaxis\":{\"backgroundcolor\":\"rgb(17,17,17)\",\"gridcolor\":\"#506784\",\"linecolor\":\"#506784\",\"showbackground\":true,\"ticks\":\"\",\"zerolinecolor\":\"#C8D4E3\",\"gridwidth\":2},\"yaxis\":{\"backgroundcolor\":\"rgb(17,17,17)\",\"gridcolor\":\"#506784\",\"linecolor\":\"#506784\",\"showbackground\":true,\"ticks\":\"\",\"zerolinecolor\":\"#C8D4E3\",\"gridwidth\":2},\"zaxis\":{\"backgroundcolor\":\"rgb(17,17,17)\",\"gridcolor\":\"#506784\",\"linecolor\":\"#506784\",\"showbackground\":true,\"ticks\":\"\",\"zerolinecolor\":\"#C8D4E3\",\"gridwidth\":2}},\"shapedefaults\":{\"line\":{\"color\":\"#f2f5fa\"}},\"annotationdefaults\":{\"arrowcolor\":\"#f2f5fa\",\"arrowhead\":0,\"arrowwidth\":1},\"geo\":{\"bgcolor\":\"rgb(17,17,17)\",\"landcolor\":\"rgb(17,17,17)\",\"subunitcolor\":\"#506784\",\"showland\":true,\"showlakes\":true,\"lakecolor\":\"rgb(17,17,17)\"},\"title\":{\"x\":0.05},\"updatemenudefaults\":{\"bgcolor\":\"#506784\",\"borderwidth\":0},\"sliderdefaults\":{\"bgcolor\":\"#C8D4E3\",\"borderwidth\":1,\"bordercolor\":\"rgb(17,17,17)\",\"tickwidth\":0},\"mapbox\":{\"style\":\"dark\"}}},\"margin\":{\"l\":0,\"r\":0,\"t\":0,\"b\":0},\"title\":{\"text\":\"Spiral Dataset\"},\"xaxis\":{\"title\":{\"text\":\"X\"}},\"yaxis\":{\"title\":{\"text\":\"Y\"}}},                        {\"responsive\": true}                    ).then(function(){\n",
       "                            \n",
       "var gd = document.getElementById('a8d39f4a-da1a-4f6b-9e20-b31103750caf');\n",
       "var x = new MutationObserver(function (mutations, observer) {{\n",
       "        var display = window.getComputedStyle(gd).display;\n",
       "        if (!display || display === 'none') {{\n",
       "            console.log([gd, 'removed!']);\n",
       "            Plotly.purge(gd);\n",
       "            observer.disconnect();\n",
       "        }}\n",
       "}});\n",
       "\n",
       "// Listen for the removal of the full notebook cells\n",
       "var notebookContainer = gd.closest('#notebook-container');\n",
       "if (notebookContainer) {{\n",
       "    x.observe(notebookContainer, {childList: true});\n",
       "}}\n",
       "\n",
       "// Listen for the clearing of the current output cell\n",
       "var outputEl = gd.closest('.output');\n",
       "if (outputEl) {{\n",
       "    x.observe(outputEl, {childList: true});\n",
       "}}\n",
       "\n",
       "                        })                };                });            </script>        </div>"
      ]
     },
     "metadata": {},
     "output_type": "display_data"
    }
   ],
   "execution_count": 110
  },
  {
   "metadata": {},
   "cell_type": "markdown",
   "source": [
    "# Dense Layers\n",
    "\n",
    "A dense layer is a layer of neurons where each neuron is connected to every neuron in the previous layer. The output of a dense layer is a list of predictions, one for each neuron in the layer. The output of a dense layer is calculated as follows:\n",
    "\n",
    "---\n",
    "\n",
    "$\n",
    "\\begin{align*}\n",
    "\\text{``Predictions``} &= \\text{Activation Function}(\\text{weights} \\cdot \\text{inputs} + \\text{Bias}) \\\\\n",
    "\\text{``Predictions``} &= \\text{Activation Function}(\\text{weights}_1 \\cdot \\text{inputs}_1 + \\text{weights}_2 \\cdot \\text{inputs}_2 + . . . + \\text{weights}_n \\cdot \\text{inputs}_n + \\text{Bias})\n",
    "\\end{align*}\n",
    "$\n",
    "\n",
    "---"
   ],
   "id": "13556ce247eaba89"
  },
  {
   "metadata": {
    "ExecuteTime": {
     "end_time": "2024-09-01T09:05:52.109640Z",
     "start_time": "2024-09-01T09:05:52.089144Z"
    }
   },
   "cell_type": "code",
   "source": [
    "# Simple dense layer with 2 inputs and 3 neurons; only one dense layer of 3 neurons\n",
    "from src.layer.dense import Dense\n",
    "from src.functions.loss import cross_entropy_loss\n",
    "from src.functions.activation import ReLU\n",
    "\n",
    "# Initialize activation function\n",
    "relu = ReLU()\n",
    "\n",
    "# Create a dense layer with 2 inputs features and 3 neurons\n",
    "dense = Dense(2, 3)\n",
    "\n",
    "# Lets do the forward pass\n",
    "dense.forward(X)\n",
    "\n",
    "# Get the predictions\n",
    "predictions = relu(dense.output)\n",
    "\n",
    "# Calculate the loss\n",
    "avg_loss, loss = dense.loss(np.array(y), predictions[:,0])\n",
    "\n",
    "# Log the outputs, weights and biases\n",
    "log.info(f\"Inputs: {X.shape}\")\n",
    "log.info(f\"Weights: {dense.weights.shape}\")\n",
    "log.info(f\"Biases: {dense.biases.shape}\")\n",
    "log.info(f\"Output: {dense.output.shape}\")\n",
    "log.info(f\"Predictions: {predictions.shape}\")\n",
    "log.info(f\"Predictions data: {predictions[:5]}\")\n",
    "log.info(f\"Loss: {avg_loss}, \\n{loss[:5:1]}\")\n"
   ],
   "id": "855f3df4f915bca4",
   "outputs": [
    {
     "name": "stderr",
     "output_type": "stream",
     "text": [
      "\u001B[32m[2024-09-01 05:05:52][INFO][root][22]: \n",
      "Inputs: (300, 2)\u001B[0m\n",
      "\u001B[32m[2024-09-01 05:05:52][INFO][root][23]: \n",
      "Weights: (2, 3)\u001B[0m\n",
      "\u001B[32m[2024-09-01 05:05:52][INFO][root][24]: \n",
      "Biases: (1, 3)\u001B[0m\n",
      "\u001B[32m[2024-09-01 05:05:52][INFO][root][25]: \n",
      "Output: (300, 3)\u001B[0m\n",
      "\u001B[32m[2024-09-01 05:05:52][INFO][root][26]: \n",
      "Predictions: (300, 3)\u001B[0m\n",
      "\u001B[32m[2024-09-01 05:05:52][INFO][root][27]: \n",
      "Predictions data: [[0.00000000e+00 0.00000000e+00 0.00000000e+00]\n",
      " [7.72018239e-05 0.00000000e+00 0.00000000e+00]\n",
      " [0.00000000e+00 0.00000000e+00 0.00000000e+00]\n",
      " [0.00000000e+00 0.00000000e+00 0.00000000e+00]\n",
      " [0.00000000e+00 0.00000000e+00 0.00000000e+00]]\u001B[0m\n",
      "\u001B[32m[2024-09-01 05:05:52][INFO][root][28]: \n",
      "Loss: nan, \n",
      "[           nan 7.72048041e-05            nan            nan\n",
      "            nan]\u001B[0m\n"
     ]
    }
   ],
   "execution_count": 111
  },
  {
   "metadata": {
    "ExecuteTime": {
     "end_time": "2024-09-01T09:05:52.215657Z",
     "start_time": "2024-09-01T09:05:52.189593Z"
    }
   },
   "cell_type": "code",
   "source": [
    "# Now we create a dense layer with 3 neurons with 2 inputs each and 2 dense layers; the first layer has 3 neurons with 2 inputs each and the second layer has 3 neurons with 3 inputs each.\n",
    "from src.layer.dense import Dense\n",
    "from src.functions.loss import cross_entropy_loss\n",
    "from src.utils.datasets import create_spiral_dataset\n",
    "from src.functions.activation import Softmax, ReLU\n",
    "\n",
    "# Initialize activation function\n",
    "softmax = Softmax()\n",
    "relu = ReLU()\n",
    "\n",
    "# Create a spiral dataset\n",
    "X, y = create_spiral_dataset(100, 3)\n",
    "\n",
    "# Create a dense layer with 3 neurons with 2 inputs each\n",
    "dense1 = Dense(2, 3)\n",
    "\n",
    "# Lets do the forward pass\n",
    "dense1.forward(X)\n",
    "\n",
    "# Run the activation function ReLU\n",
    "dense1_output = relu(dense1.output)\n",
    "\n",
    "# Create a dense layer with 3 neurons with 3 inputs each\n",
    "dense2 = Dense(3, 3)\n",
    "\n",
    "# Lets do the forward pass\n",
    "dense2.forward(dense1_output)\n",
    "\n",
    "# TODO: These final outputs are also our “confidence scores.” The higher the confidence score, the more confident the model is that the input belongs to that class.\n",
    "# Get the predictions\n",
    "predictions = softmax(dense2.output)\n",
    "\n",
    "# Calculate the loss\n",
    "avg_loss, loss = dense2.loss(np.array([y]), predictions[:,0])\n",
    "\n",
    "# Log the outputs, weights and biases\n",
    "log.info(f\"Inputs: {X.shape}\")\n",
    "log.info(f\"Y is a spiral dataset: {y.shape}\")\n",
    "log.info(f\"Weights Layer 1: {dense1.weights.shape}\")\n",
    "log.info(f\"Biases Layer 1: {dense1.biases.shape}\")\n",
    "log.info(f\"Output Layer 1: {dense1.output.shape}\")\n",
    "log.info(f\"Weights Layer 2: {dense2.weights.shape}\")\n",
    "log.info(f\"Biases Layer 2: {dense2.biases.shape}\")\n",
    "log.info(f\"Output Layer 2: {dense2.output.shape}\")\n",
    "log.info(f\"Predictions: {predictions.shape}\")\n",
    "log.info(f\"Predictions data: \\n{predictions[:5]}\")\n",
    "log.info(f\"Loss: {avg_loss}\")"
   ],
   "id": "7f1daa7ece4030ce",
   "outputs": [
    {
     "name": "stderr",
     "output_type": "stream",
     "text": [
      "\u001B[32m[2024-09-01 05:05:52][INFO][root][37]: \n",
      "Inputs: (300, 2)\u001B[0m\n",
      "\u001B[32m[2024-09-01 05:05:52][INFO][root][38]: \n",
      "Y is a spiral dataset: (300,)\u001B[0m\n",
      "\u001B[32m[2024-09-01 05:05:52][INFO][root][39]: \n",
      "Weights Layer 1: (2, 3)\u001B[0m\n",
      "\u001B[32m[2024-09-01 05:05:52][INFO][root][40]: \n",
      "Biases Layer 1: (1, 3)\u001B[0m\n",
      "\u001B[32m[2024-09-01 05:05:52][INFO][root][41]: \n",
      "Output Layer 1: (300, 3)\u001B[0m\n",
      "\u001B[32m[2024-09-01 05:05:52][INFO][root][42]: \n",
      "Weights Layer 2: (3, 3)\u001B[0m\n",
      "\u001B[32m[2024-09-01 05:05:52][INFO][root][43]: \n",
      "Biases Layer 2: (1, 3)\u001B[0m\n",
      "\u001B[32m[2024-09-01 05:05:52][INFO][root][44]: \n",
      "Output Layer 2: (300, 3)\u001B[0m\n",
      "\u001B[32m[2024-09-01 05:05:52][INFO][root][45]: \n",
      "Predictions: (300, 3)\u001B[0m\n",
      "\u001B[32m[2024-09-01 05:05:52][INFO][root][46]: \n",
      "Predictions data: \n",
      "[[0.00333326 0.00333328 0.00333336]\n",
      " [0.00333326 0.00333328 0.00333336]\n",
      " [0.00333326 0.00333328 0.00333336]\n",
      " [0.00333326 0.00333328 0.00333336]\n",
      " [0.00333326 0.00333328 0.00333336]]\u001B[0m\n",
      "\u001B[32m[2024-09-01 05:05:52][INFO][root][47]: \n",
      "Loss: 5.7037819461538595\u001B[0m\n"
     ]
    }
   ],
   "execution_count": 112
  },
  {
   "metadata": {
    "ExecuteTime": {
     "end_time": "2024-09-01T09:05:52.649564Z",
     "start_time": "2024-09-01T09:05:52.625571Z"
    }
   },
   "cell_type": "code",
   "source": [
    "# Graph the predictions\n",
    "import plotly.graph_objects as go\n",
    "from plotly.subplots import make_subplots\n",
    "# Graph the X inputs and y labels\n",
    "fig = go.Figure()\n",
    "\n",
    "# Graph the dataset with the predictions\n",
    "fig.add_trace(\n",
    "    go.Scatter3d(\n",
    "        x=X[:,0], y=y, z=predictions[:,1], mode='markers',\n",
    "        marker=dict(size=8, color=y, opacity=0.8, colorscale='Viridis'), name='Predictions'\n",
    "    )\n",
    ")\n",
    "fig.update_layout(\n",
    "    title='Spiral Dataset Predictions',\n",
    "    scene=dict(xaxis_title='X', yaxis_title='Y', zaxis_title='Predictions'),\n",
    "    margin=dict(l=0, r=0, t=0, b=0)\n",
    ")\n",
    "fig.show()\n"
   ],
   "id": "6eb83e36c3a245e6",
   "outputs": [
    {
     "data": {
      "application/vnd.plotly.v1+json": {
       "data": [
        {
         "marker": {
          "color": [
           0,
           0,
           0,
           0,
           0,
           0,
           0,
           0,
           0,
           0,
           0,
           0,
           0,
           0,
           0,
           0,
           0,
           0,
           0,
           0,
           0,
           0,
           0,
           0,
           0,
           0,
           0,
           0,
           0,
           0,
           0,
           0,
           0,
           0,
           0,
           0,
           0,
           0,
           0,
           0,
           0,
           0,
           0,
           0,
           0,
           0,
           0,
           0,
           0,
           0,
           0,
           0,
           0,
           0,
           0,
           0,
           0,
           0,
           0,
           0,
           0,
           0,
           0,
           0,
           0,
           0,
           0,
           0,
           0,
           0,
           0,
           0,
           0,
           0,
           0,
           0,
           0,
           0,
           0,
           0,
           0,
           0,
           0,
           0,
           0,
           0,
           0,
           0,
           0,
           0,
           0,
           0,
           0,
           0,
           0,
           0,
           0,
           0,
           0,
           0,
           1,
           1,
           1,
           1,
           1,
           1,
           1,
           1,
           1,
           1,
           1,
           1,
           1,
           1,
           1,
           1,
           1,
           1,
           1,
           1,
           1,
           1,
           1,
           1,
           1,
           1,
           1,
           1,
           1,
           1,
           1,
           1,
           1,
           1,
           1,
           1,
           1,
           1,
           1,
           1,
           1,
           1,
           1,
           1,
           1,
           1,
           1,
           1,
           1,
           1,
           1,
           1,
           1,
           1,
           1,
           1,
           1,
           1,
           1,
           1,
           1,
           1,
           1,
           1,
           1,
           1,
           1,
           1,
           1,
           1,
           1,
           1,
           1,
           1,
           1,
           1,
           1,
           1,
           1,
           1,
           1,
           1,
           1,
           1,
           1,
           1,
           1,
           1,
           1,
           1,
           1,
           1,
           1,
           1,
           1,
           1,
           1,
           1,
           1,
           1,
           2,
           2,
           2,
           2,
           2,
           2,
           2,
           2,
           2,
           2,
           2,
           2,
           2,
           2,
           2,
           2,
           2,
           2,
           2,
           2,
           2,
           2,
           2,
           2,
           2,
           2,
           2,
           2,
           2,
           2,
           2,
           2,
           2,
           2,
           2,
           2,
           2,
           2,
           2,
           2,
           2,
           2,
           2,
           2,
           2,
           2,
           2,
           2,
           2,
           2,
           2,
           2,
           2,
           2,
           2,
           2,
           2,
           2,
           2,
           2,
           2,
           2,
           2,
           2,
           2,
           2,
           2,
           2,
           2,
           2,
           2,
           2,
           2,
           2,
           2,
           2,
           2,
           2,
           2,
           2,
           2,
           2,
           2,
           2,
           2,
           2,
           2,
           2,
           2,
           2,
           2,
           2,
           2,
           2,
           2,
           2,
           2,
           2,
           2,
           2
          ],
          "colorscale": [
           [
            0.0,
            "#440154"
           ],
           [
            0.1111111111111111,
            "#482878"
           ],
           [
            0.2222222222222222,
            "#3e4989"
           ],
           [
            0.3333333333333333,
            "#31688e"
           ],
           [
            0.4444444444444444,
            "#26828e"
           ],
           [
            0.5555555555555556,
            "#1f9e89"
           ],
           [
            0.6666666666666666,
            "#35b779"
           ],
           [
            0.7777777777777778,
            "#6ece58"
           ],
           [
            0.8888888888888888,
            "#b5de2b"
           ],
           [
            1.0,
            "#fde725"
           ]
          ],
          "opacity": 0.8,
          "size": 8
         },
         "mode": "markers",
         "name": "Predictions",
         "x": [
          0.0,
          -0.0021813420052066287,
          0.0019102480301429314,
          0.021190535100226445,
          -0.015127233966406447,
          0.006978960478927568,
          0.04301797892700955,
          0.06696176884821224,
          0.04649751809776984,
          0.05507059205836795,
          0.09153135016576534,
          0.10487218731840169,
          0.12108935581732658,
          0.11264247594377695,
          0.07732825453885624,
          0.14389901693764026,
          0.06567210980687495,
          0.16213667484509964,
          0.17792546573643322,
          0.15714208645066344,
          0.20102151562449475,
          0.10625853711826747,
          0.16868553392615554,
          0.2100454463428591,
          0.2285875680560312,
          0.23614201649877972,
          0.2046079593191205,
          0.14485587457335306,
          0.18701362019486514,
          0.08963899606647616,
          -0.20407317085207893,
          -0.0020964902171754737,
          -0.03153759576662631,
          -0.11745211064669042,
          -0.26069391519416807,
          -0.2264826390143581,
          -0.34343847205009487,
          -0.21855851338962096,
          -0.11864698266338358,
          -0.23348439441257235,
          -0.2969459514715931,
          -0.38036502707768727,
          -0.2909254399937528,
          -0.3106142068696206,
          -0.4144758900209007,
          -0.3791863039125294,
          -0.4361191842668283,
          -0.36708053346986996,
          -0.4672538422424574,
          -0.49049125109910635,
          -0.3141084884764307,
          -0.46767654183286694,
          -0.19130902285319726,
          -0.2947714686445426,
          -0.5250109244855908,
          -0.544206939621441,
          -0.48555489708632293,
          0.10456891823326797,
          -0.43267194163744355,
          -0.16048439113666674,
          -0.5141566586151027,
          0.13357335451364072,
          -0.2749632440355406,
          0.36114304488439936,
          -0.13332260771775634,
          0.3966928649301739,
          -0.05273056722094373,
          0.11721588486171133,
          -0.09098386910365848,
          0.5036481491959293,
          0.4796631786442204,
          0.7148440780532197,
          0.3239955612705752,
          0.7127944698417125,
          0.7182578396228867,
          0.754819396828992,
          0.7661504940798518,
          0.7013296999759836,
          0.7639018117454994,
          0.7950399798095026,
          0.7009125571295102,
          0.7344892573738256,
          0.6303178287840243,
          0.8348291778370026,
          0.8455490614723297,
          0.29854894978923696,
          0.680297910246216,
          0.004025441099305263,
          0.6568048798822541,
          0.035755104316045845,
          0.8803161452243841,
          0.4731897464919818,
          0.5458861599353269,
          -0.23960027225154976,
          0.28402992396663396,
          -0.30672941635797996,
          0.2730755607139404,
          0.17408589460186735,
          -0.28739342553749686,
          -0.9938188716083175,
          -0.0,
          -0.0018988413241266796,
          -0.019238457824634774,
          -0.017712267299995456,
          -0.025665754496201513,
          -0.0501030051794355,
          -0.045680911531489996,
          -0.061046533677460255,
          -0.07272620864412217,
          -0.05547711391317468,
          -0.09462057215833074,
          -0.09413381648560816,
          -0.10930591131934876,
          -0.12615131692826134,
          -0.1404089759199435,
          -0.1513063456070978,
          -0.1047195869303434,
          -0.1435613070276207,
          -0.0019320980738710607,
          -0.1837248828178323,
          -0.012586603944813871,
          -0.1429480902425171,
          -0.013666796827362519,
          0.011474549250935408,
          -0.024984794940404155,
          -0.022597235341093744,
          0.06241028077995008,
          0.07840649003702731,
          -0.02512163732813643,
          0.0594360993825348,
          0.19560063143088066,
          0.030913618321196684,
          0.05872110659742163,
          0.30571006028608455,
          0.3327981279157589,
          0.3057417842046445,
          0.26564904305413556,
          0.36905711782538114,
          0.3627195169631377,
          0.3933670948975385,
          0.14773888157830725,
          0.2708219730753931,
          0.42314919810369805,
          0.43274603811882095,
          0.3676468032834306,
          0.4264979254683129,
          0.44091576878327415,
          0.44043855658999487,
          0.35419894409681585,
          0.2577114209272801,
          0.08515002807397642,
          -0.05562548725280821,
          0.11564461625369576,
          0.10619296657079276,
          0.336342499062975,
          0.2787280247041143,
          0.3873405645945246,
          -0.18278479309095558,
          -0.32448148933645227,
          -0.4540602428882893,
          -0.0036937382137786218,
          -0.10180164964793892,
          -0.026726783577394272,
          0.03905744584200518,
          -0.6442799226038628,
          -0.5885268852040225,
          -0.5500298503618152,
          -0.02879550679807826,
          -0.2500754561628511,
          -0.696734047306088,
          -0.6549033198452832,
          -0.5066998271621009,
          -0.7272070095280656,
          -0.2731708158720929,
          -0.3781060567566972,
          -0.7572127526575592,
          -0.3881169249790587,
          -0.6165599529546434,
          0.04318396069308166,
          -0.20554654822340643,
          -0.3488899059645483,
          -0.7538928366273703,
          -0.7695894858568716,
          -0.5629790280778558,
          -0.3403841224309056,
          0.42016276512553463,
          -0.11085348946846098,
          0.21957289080938894,
          0.4842148275697022,
          0.1569086821201525,
          -0.3840456373022989,
          0.7337951531700087,
          0.6316256660931818,
          0.6680134002093226,
          0.8308551457618113,
          0.9555957998438378,
          0.8049741292712491,
          0.9131327468007948,
          0.9074003562504528,
          0.876748049224892,
          0.0,
          0.009675303049145155,
          0.020110636141128936,
          0.02921850763097089,
          0.03180063139455556,
          0.034957459365080185,
          0.05406050235505747,
          0.06272025724791862,
          0.04170252940916682,
          0.08992420221898537,
          0.08106069327884736,
          0.054885056056735035,
          0.10712142358903,
          -0.059816274466427545,
          0.08006518221961831,
          0.09797484810796206,
          0.12151621494811168,
          0.08160395945702821,
          -0.06244537150347206,
          0.10266501368861004,
          0.16393213928925143,
          -0.01355504527678482,
          -0.0757134231865217,
          -0.12775011323757868,
          -0.1856909523365154,
          -0.05001732753753902,
          -0.25655242100160397,
          -0.17037750937579996,
          -0.2479951228692859,
          -0.2916178492834432,
          -0.09725665281663096,
          -0.30716759358138734,
          0.059809149049305795,
          -0.31516896286563273,
          -0.31951453168009364,
          -0.23435490835643238,
          -0.3507436392954893,
          -0.35974114637867305,
          -0.28269239602671903,
          -0.38960764178215107,
          -0.2073026780318619,
          -0.3031938959485883,
          -0.36014290345869676,
          -0.39283504308343603,
          -0.007526995779568135,
          -0.3079518195616767,
          -0.05958951181684783,
          -0.2191145097500315,
          -0.02611723353634991,
          -0.23874280985516164,
          -0.15107102212358725,
          -0.23089824086950464,
          -0.20148375400611726,
          -0.12916730100382298,
          0.5442656529862169,
          -0.08283763761020484,
          0.3713769738729488,
          0.201749633916923,
          0.41412207829873265,
          0.3988107147682693,
          0.16743845331043722,
          0.39036937667336374,
          0.6261735772789969,
          0.5865240287126358,
          0.6224981274294057,
          0.6251771253304577,
          0.6520199013806522,
          0.5766338190395718,
          0.6690274701348288,
          0.6440408904257944,
          0.6280156506773791,
          0.6629165223287161,
          0.6152688904318334,
          0.3944105970903298,
          0.6226573214356194,
          0.5015624878933111,
          0.4381924768008385,
          0.48083215641890265,
          0.562585823324595,
          0.1229179695541928,
          -0.13320428086949607,
          0.4072785903804937,
          -0.30255381989172125,
          -0.29385743815147614,
          -0.7356098076832581,
          -0.5826237772682914,
          0.010536307580977592,
          -0.623956153412849,
          0.07866534567129309,
          0.09414025585500362,
          -0.1945018052584554,
          -0.592636207810096,
          -0.9025957281983579,
          -0.7146467324624292,
          -0.9384102893781737,
          -0.959583714000403,
          -0.447304908851656,
          -0.9697390757285711,
          -0.38822188661359175,
          -0.9993635633736332
         ],
         "y": [
          0,
          0,
          0,
          0,
          0,
          0,
          0,
          0,
          0,
          0,
          0,
          0,
          0,
          0,
          0,
          0,
          0,
          0,
          0,
          0,
          0,
          0,
          0,
          0,
          0,
          0,
          0,
          0,
          0,
          0,
          0,
          0,
          0,
          0,
          0,
          0,
          0,
          0,
          0,
          0,
          0,
          0,
          0,
          0,
          0,
          0,
          0,
          0,
          0,
          0,
          0,
          0,
          0,
          0,
          0,
          0,
          0,
          0,
          0,
          0,
          0,
          0,
          0,
          0,
          0,
          0,
          0,
          0,
          0,
          0,
          0,
          0,
          0,
          0,
          0,
          0,
          0,
          0,
          0,
          0,
          0,
          0,
          0,
          0,
          0,
          0,
          0,
          0,
          0,
          0,
          0,
          0,
          0,
          0,
          0,
          0,
          0,
          0,
          0,
          0,
          1,
          1,
          1,
          1,
          1,
          1,
          1,
          1,
          1,
          1,
          1,
          1,
          1,
          1,
          1,
          1,
          1,
          1,
          1,
          1,
          1,
          1,
          1,
          1,
          1,
          1,
          1,
          1,
          1,
          1,
          1,
          1,
          1,
          1,
          1,
          1,
          1,
          1,
          1,
          1,
          1,
          1,
          1,
          1,
          1,
          1,
          1,
          1,
          1,
          1,
          1,
          1,
          1,
          1,
          1,
          1,
          1,
          1,
          1,
          1,
          1,
          1,
          1,
          1,
          1,
          1,
          1,
          1,
          1,
          1,
          1,
          1,
          1,
          1,
          1,
          1,
          1,
          1,
          1,
          1,
          1,
          1,
          1,
          1,
          1,
          1,
          1,
          1,
          1,
          1,
          1,
          1,
          1,
          1,
          1,
          1,
          1,
          1,
          1,
          1,
          2,
          2,
          2,
          2,
          2,
          2,
          2,
          2,
          2,
          2,
          2,
          2,
          2,
          2,
          2,
          2,
          2,
          2,
          2,
          2,
          2,
          2,
          2,
          2,
          2,
          2,
          2,
          2,
          2,
          2,
          2,
          2,
          2,
          2,
          2,
          2,
          2,
          2,
          2,
          2,
          2,
          2,
          2,
          2,
          2,
          2,
          2,
          2,
          2,
          2,
          2,
          2,
          2,
          2,
          2,
          2,
          2,
          2,
          2,
          2,
          2,
          2,
          2,
          2,
          2,
          2,
          2,
          2,
          2,
          2,
          2,
          2,
          2,
          2,
          2,
          2,
          2,
          2,
          2,
          2,
          2,
          2,
          2,
          2,
          2,
          2,
          2,
          2,
          2,
          2,
          2,
          2,
          2,
          2,
          2,
          2,
          2,
          2,
          2,
          2
         ],
         "z": [
          0.0033332792426204573,
          0.0033332792426204573,
          0.0033332792426204573,
          0.0033332792426204573,
          0.0033332792426204573,
          0.0033332792426204573,
          0.0033332792426204573,
          0.00333328739020259,
          0.0033332792426204573,
          0.0033332792426204573,
          0.003333288190310134,
          0.003333291788247971,
          0.0033333006498235535,
          0.0033332874586037117,
          0.0033333179015764733,
          0.0033333117236723497,
          0.003333322828292737,
          0.003333316550161668,
          0.003333305186259818,
          0.0033333280368835227,
          0.0033333127177773278,
          0.003333337133339821,
          0.0033333376448056455,
          0.0033333335093287415,
          0.00333333206776852,
          0.0033333352008777335,
          0.003333347611068029,
          0.0033333537805625524,
          0.0033333558106101134,
          0.003333356379978502,
          0.003333299656723919,
          0.003333350390577657,
          0.0033333479148419344,
          0.0033333327635171927,
          0.0033332974221904656,
          0.003333307114082099,
          0.003333296049891971,
          0.00333331554260286,
          0.0033333446993384502,
          0.0033333165191569395,
          0.0033333007389103235,
          0.003333299140859822,
          0.003333305932008744,
          0.003333302421934624,
          0.0033333001880407657,
          0.003333302643659066,
          0.0033332792426204573,
          0.0033332792426204573,
          0.0033333007560940584,
          0.0033332989865201062,
          0.0033332792426204573,
          0.0033332792426204573,
          0.0033332792426204573,
          0.0033332792426204573,
          0.0033333035176073473,
          0.0033332857709895978,
          0.0033332792426204573,
          0.0033332792426204573,
          0.0033332792426204573,
          0.0033332792426204573,
          0.0033332792426204573,
          0.0033332792426204573,
          0.0033332792426204573,
          0.0033332792426204573,
          0.0033332792426204573,
          0.0033332792426204573,
          0.0033332792426204573,
          0.0033332792426204573,
          0.0033332792426204573,
          0.003333282240046423,
          0.0033332792426204573,
          0.0033334179900447684,
          0.0033332792426204573,
          0.0033333758906735796,
          0.003333373502132375,
          0.0033334069590978824,
          0.00333342629626083,
          0.0033333461278100217,
          0.0033334435773130573,
          0.0033334136844084656,
          0.0033333337044509875,
          0.0033334720527572552,
          0.0033334967446376975,
          0.0033334194265741677,
          0.0033334226492293395,
          0.0033335079020384317,
          0.0033335049147669056,
          0.003333480413482674,
          0.003333514787140803,
          0.003333489639433029,
          0.0033334691882837067,
          0.003333530312630478,
          0.0033335330416099022,
          0.003333450491428015,
          0.0033335287713698227,
          0.003333440600681373,
          0.0033335326998259643,
          0.0033335255062299147,
          0.003333452185651287,
          0.0033333182970420264,
          0.0033332792426204573,
          0.003333281221064046,
          0.003333280162501485,
          0.0033332821885855668,
          0.003333282501931529,
          0.003333281242668536,
          0.0033332824548055165,
          0.0033332828191397204,
          0.003333283206480941,
          0.003333287330385956,
          0.00333328397235289,
          0.0033332849215191693,
          0.003333285177593094,
          0.00333328511258574,
          0.00333328480707919,
          0.0033332848233160483,
          0.0033332792426204573,
          0.0033332792426204573,
          0.0033332792426204573,
          0.0033332795674550736,
          0.0033332792426204573,
          0.0033332792426204573,
          0.0033332792426204573,
          0.0033332792426204573,
          0.0033332792426204573,
          0.0033332792426204573,
          0.0033332792426204573,
          0.0033332792426204573,
          0.0033332792426204573,
          0.0033332792426204573,
          0.0033332792426204573,
          0.0033332792426204573,
          0.0033332792426204573,
          0.0033333109684089645,
          0.0033333509298332548,
          0.003333302606792924,
          0.0033332819092732084,
          0.003333354443928314,
          0.003333322896161094,
          0.0033333481282259623,
          0.0033332792426204573,
          0.0033333915077314357,
          0.003333360915114701,
          0.003333363513129451,
          0.0033333005371485526,
          0.00333332878127155,
          0.0033333334393779585,
          0.0033333859671041068,
          0.003333408111845014,
          0.00333341446792175,
          0.003333405674289536,
          0.00333338775616411,
          0.0033334135828068123,
          0.0033334149794928343,
          0.0033334278646769415,
          0.0033334308711888746,
          0.0033334316185893395,
          0.003333376341162958,
          0.0033333417382082823,
          0.0033333107676619305,
          0.003333417005028722,
          0.003333402615412682,
          0.0033334180217657757,
          0.0033334300839091236,
          0.003333303791189786,
          0.0033333115645601936,
          0.0033333137224753804,
          0.00333342922777021,
          0.003333387611918303,
          0.003333304185960321,
          0.0033333128704730185,
          0.0033332792426204573,
          0.003333302723147566,
          0.0033332792426204573,
          0.0033332792426204573,
          0.0033333022883960677,
          0.0033332792426204573,
          0.0033332792426204573,
          0.0033332792426204573,
          0.0033332792426204573,
          0.0033332792426204573,
          0.0033332792426204573,
          0.0033332792426204573,
          0.0033332792426204573,
          0.0033332792426204573,
          0.0033332792426204573,
          0.0033332792426204573,
          0.0033332792426204573,
          0.0033332792426204573,
          0.0033332792426204573,
          0.0033332792426204573,
          0.0033333114109865094,
          0.0033332792426204573,
          0.0033332792426204573,
          0.003333347007146945,
          0.003333465987290455,
          0.003333327015644487,
          0.0033333818055705784,
          0.0033335060985554806,
          0.0033333515041880754,
          0.0033332792426204573,
          0.003333280490970964,
          0.0033332831820469576,
          0.003333285608508136,
          0.0033332897166086714,
          0.0033332792426204573,
          0.0033332841216579417,
          0.0033332961317402644,
          0.003333301315318229,
          0.0033332933980837194,
          0.0033333051961902064,
          0.0033333095510175662,
          0.003333308308865457,
          0.0033332969198999664,
          0.0033333178950402578,
          0.0033333203644272005,
          0.0033333218480251802,
          0.0033333260055909524,
          0.003333308816591736,
          0.0033333316999656633,
          0.0033333308577215537,
          0.003333325515390522,
          0.0033333155307985573,
          0.003333304303696277,
          0.003333292052915419,
          0.0033333282065368683,
          0.003333290446469763,
          0.003333302205059626,
          0.0033332792426204573,
          0.003333290502936239,
          0.003333330107089612,
          0.003333292395214834,
          0.0033333607400820105,
          0.003333294620152541,
          0.0033332792426204573,
          0.003333304385119826,
          0.0033332809149025726,
          0.0033332806522401244,
          0.0033332792426204573,
          0.003333286214033478,
          0.0033332792426204573,
          0.0033332792426204573,
          0.0033332792426204573,
          0.0033332792426204573,
          0.0033332792426204573,
          0.0033332792426204573,
          0.0033332792426204573,
          0.0033332792426204573,
          0.0033332792426204573,
          0.0033332792426204573,
          0.0033332792426204573,
          0.0033332792426204573,
          0.0033332792426204573,
          0.0033332792426204573,
          0.003333383906025726,
          0.0033332792426204573,
          0.0033332792426204573,
          0.0033332792426204573,
          0.0033332792426204573,
          0.0033332792426204573,
          0.0033332792426204573,
          0.0033332792426204573,
          0.003333395879742356,
          0.0033333416154894034,
          0.003333361864369559,
          0.003333419105980288,
          0.003333416365607696,
          0.0033334468782057524,
          0.0033333740176503335,
          0.0033333486072629117,
          0.003333334682137081,
          0.003333441459903923,
          0.0033334603396772858,
          0.00333348079353473,
          0.0033334673323404435,
          0.0033334843071768316,
          0.003333489049789236,
          0.0033334911333695503,
          0.003333489799344512,
          0.0033334776916770477,
          0.00333344110168961,
          0.003333502492121683,
          0.0033334096856585727,
          0.0033334142240562695,
          0.003333322052278063,
          0.003333335493554785,
          0.0033334790754471,
          0.0033333265750187294,
          0.0033334931583006632,
          0.0033334974606544924,
          0.0033334526491383566,
          0.003333350415883897,
          0.003333286277235962,
          0.0033333289489401946,
          0.003333317745230385,
          0.003333312103746455,
          0.003333408286819388,
          0.0033333186448570224,
          0.003333428642557987,
          0.0033333154151797585
         ],
         "type": "scatter3d"
        }
       ],
       "layout": {
        "template": {
         "data": {
          "histogram2dcontour": [
           {
            "type": "histogram2dcontour",
            "colorbar": {
             "outlinewidth": 0,
             "ticks": ""
            },
            "colorscale": [
             [
              0.0,
              "#0d0887"
             ],
             [
              0.1111111111111111,
              "#46039f"
             ],
             [
              0.2222222222222222,
              "#7201a8"
             ],
             [
              0.3333333333333333,
              "#9c179e"
             ],
             [
              0.4444444444444444,
              "#bd3786"
             ],
             [
              0.5555555555555556,
              "#d8576b"
             ],
             [
              0.6666666666666666,
              "#ed7953"
             ],
             [
              0.7777777777777778,
              "#fb9f3a"
             ],
             [
              0.8888888888888888,
              "#fdca26"
             ],
             [
              1.0,
              "#f0f921"
             ]
            ]
           }
          ],
          "choropleth": [
           {
            "type": "choropleth",
            "colorbar": {
             "outlinewidth": 0,
             "ticks": ""
            }
           }
          ],
          "histogram2d": [
           {
            "type": "histogram2d",
            "colorbar": {
             "outlinewidth": 0,
             "ticks": ""
            },
            "colorscale": [
             [
              0.0,
              "#0d0887"
             ],
             [
              0.1111111111111111,
              "#46039f"
             ],
             [
              0.2222222222222222,
              "#7201a8"
             ],
             [
              0.3333333333333333,
              "#9c179e"
             ],
             [
              0.4444444444444444,
              "#bd3786"
             ],
             [
              0.5555555555555556,
              "#d8576b"
             ],
             [
              0.6666666666666666,
              "#ed7953"
             ],
             [
              0.7777777777777778,
              "#fb9f3a"
             ],
             [
              0.8888888888888888,
              "#fdca26"
             ],
             [
              1.0,
              "#f0f921"
             ]
            ]
           }
          ],
          "heatmap": [
           {
            "type": "heatmap",
            "colorbar": {
             "outlinewidth": 0,
             "ticks": ""
            },
            "colorscale": [
             [
              0.0,
              "#0d0887"
             ],
             [
              0.1111111111111111,
              "#46039f"
             ],
             [
              0.2222222222222222,
              "#7201a8"
             ],
             [
              0.3333333333333333,
              "#9c179e"
             ],
             [
              0.4444444444444444,
              "#bd3786"
             ],
             [
              0.5555555555555556,
              "#d8576b"
             ],
             [
              0.6666666666666666,
              "#ed7953"
             ],
             [
              0.7777777777777778,
              "#fb9f3a"
             ],
             [
              0.8888888888888888,
              "#fdca26"
             ],
             [
              1.0,
              "#f0f921"
             ]
            ]
           }
          ],
          "heatmapgl": [
           {
            "type": "heatmapgl",
            "colorbar": {
             "outlinewidth": 0,
             "ticks": ""
            },
            "colorscale": [
             [
              0.0,
              "#0d0887"
             ],
             [
              0.1111111111111111,
              "#46039f"
             ],
             [
              0.2222222222222222,
              "#7201a8"
             ],
             [
              0.3333333333333333,
              "#9c179e"
             ],
             [
              0.4444444444444444,
              "#bd3786"
             ],
             [
              0.5555555555555556,
              "#d8576b"
             ],
             [
              0.6666666666666666,
              "#ed7953"
             ],
             [
              0.7777777777777778,
              "#fb9f3a"
             ],
             [
              0.8888888888888888,
              "#fdca26"
             ],
             [
              1.0,
              "#f0f921"
             ]
            ]
           }
          ],
          "contourcarpet": [
           {
            "type": "contourcarpet",
            "colorbar": {
             "outlinewidth": 0,
             "ticks": ""
            }
           }
          ],
          "contour": [
           {
            "type": "contour",
            "colorbar": {
             "outlinewidth": 0,
             "ticks": ""
            },
            "colorscale": [
             [
              0.0,
              "#0d0887"
             ],
             [
              0.1111111111111111,
              "#46039f"
             ],
             [
              0.2222222222222222,
              "#7201a8"
             ],
             [
              0.3333333333333333,
              "#9c179e"
             ],
             [
              0.4444444444444444,
              "#bd3786"
             ],
             [
              0.5555555555555556,
              "#d8576b"
             ],
             [
              0.6666666666666666,
              "#ed7953"
             ],
             [
              0.7777777777777778,
              "#fb9f3a"
             ],
             [
              0.8888888888888888,
              "#fdca26"
             ],
             [
              1.0,
              "#f0f921"
             ]
            ]
           }
          ],
          "surface": [
           {
            "type": "surface",
            "colorbar": {
             "outlinewidth": 0,
             "ticks": ""
            },
            "colorscale": [
             [
              0.0,
              "#0d0887"
             ],
             [
              0.1111111111111111,
              "#46039f"
             ],
             [
              0.2222222222222222,
              "#7201a8"
             ],
             [
              0.3333333333333333,
              "#9c179e"
             ],
             [
              0.4444444444444444,
              "#bd3786"
             ],
             [
              0.5555555555555556,
              "#d8576b"
             ],
             [
              0.6666666666666666,
              "#ed7953"
             ],
             [
              0.7777777777777778,
              "#fb9f3a"
             ],
             [
              0.8888888888888888,
              "#fdca26"
             ],
             [
              1.0,
              "#f0f921"
             ]
            ]
           }
          ],
          "mesh3d": [
           {
            "type": "mesh3d",
            "colorbar": {
             "outlinewidth": 0,
             "ticks": ""
            }
           }
          ],
          "scatter": [
           {
            "marker": {
             "line": {
              "color": "#283442"
             }
            },
            "type": "scatter"
           }
          ],
          "parcoords": [
           {
            "type": "parcoords",
            "line": {
             "colorbar": {
              "outlinewidth": 0,
              "ticks": ""
             }
            }
           }
          ],
          "scatterpolargl": [
           {
            "type": "scatterpolargl",
            "marker": {
             "colorbar": {
              "outlinewidth": 0,
              "ticks": ""
             }
            }
           }
          ],
          "bar": [
           {
            "error_x": {
             "color": "#f2f5fa"
            },
            "error_y": {
             "color": "#f2f5fa"
            },
            "marker": {
             "line": {
              "color": "rgb(17,17,17)",
              "width": 0.5
             },
             "pattern": {
              "fillmode": "overlay",
              "size": 10,
              "solidity": 0.2
             }
            },
            "type": "bar"
           }
          ],
          "scattergeo": [
           {
            "type": "scattergeo",
            "marker": {
             "colorbar": {
              "outlinewidth": 0,
              "ticks": ""
             }
            }
           }
          ],
          "scatterpolar": [
           {
            "type": "scatterpolar",
            "marker": {
             "colorbar": {
              "outlinewidth": 0,
              "ticks": ""
             }
            }
           }
          ],
          "histogram": [
           {
            "marker": {
             "pattern": {
              "fillmode": "overlay",
              "size": 10,
              "solidity": 0.2
             }
            },
            "type": "histogram"
           }
          ],
          "scattergl": [
           {
            "marker": {
             "line": {
              "color": "#283442"
             }
            },
            "type": "scattergl"
           }
          ],
          "scatter3d": [
           {
            "type": "scatter3d",
            "line": {
             "colorbar": {
              "outlinewidth": 0,
              "ticks": ""
             }
            },
            "marker": {
             "colorbar": {
              "outlinewidth": 0,
              "ticks": ""
             }
            }
           }
          ],
          "scattermapbox": [
           {
            "type": "scattermapbox",
            "marker": {
             "colorbar": {
              "outlinewidth": 0,
              "ticks": ""
             }
            }
           }
          ],
          "scatterternary": [
           {
            "type": "scatterternary",
            "marker": {
             "colorbar": {
              "outlinewidth": 0,
              "ticks": ""
             }
            }
           }
          ],
          "scattercarpet": [
           {
            "type": "scattercarpet",
            "marker": {
             "colorbar": {
              "outlinewidth": 0,
              "ticks": ""
             }
            }
           }
          ],
          "carpet": [
           {
            "aaxis": {
             "endlinecolor": "#A2B1C6",
             "gridcolor": "#506784",
             "linecolor": "#506784",
             "minorgridcolor": "#506784",
             "startlinecolor": "#A2B1C6"
            },
            "baxis": {
             "endlinecolor": "#A2B1C6",
             "gridcolor": "#506784",
             "linecolor": "#506784",
             "minorgridcolor": "#506784",
             "startlinecolor": "#A2B1C6"
            },
            "type": "carpet"
           }
          ],
          "table": [
           {
            "cells": {
             "fill": {
              "color": "#506784"
             },
             "line": {
              "color": "rgb(17,17,17)"
             }
            },
            "header": {
             "fill": {
              "color": "#2a3f5f"
             },
             "line": {
              "color": "rgb(17,17,17)"
             }
            },
            "type": "table"
           }
          ],
          "barpolar": [
           {
            "marker": {
             "line": {
              "color": "rgb(17,17,17)",
              "width": 0.5
             },
             "pattern": {
              "fillmode": "overlay",
              "size": 10,
              "solidity": 0.2
             }
            },
            "type": "barpolar"
           }
          ],
          "pie": [
           {
            "automargin": true,
            "type": "pie"
           }
          ]
         },
         "layout": {
          "autotypenumbers": "strict",
          "colorway": [
           "#636efa",
           "#EF553B",
           "#00cc96",
           "#ab63fa",
           "#FFA15A",
           "#19d3f3",
           "#FF6692",
           "#B6E880",
           "#FF97FF",
           "#FECB52"
          ],
          "font": {
           "color": "#f2f5fa"
          },
          "hovermode": "closest",
          "hoverlabel": {
           "align": "left"
          },
          "paper_bgcolor": "rgb(17,17,17)",
          "plot_bgcolor": "rgb(17,17,17)",
          "polar": {
           "bgcolor": "rgb(17,17,17)",
           "angularaxis": {
            "gridcolor": "#506784",
            "linecolor": "#506784",
            "ticks": ""
           },
           "radialaxis": {
            "gridcolor": "#506784",
            "linecolor": "#506784",
            "ticks": ""
           }
          },
          "ternary": {
           "bgcolor": "rgb(17,17,17)",
           "aaxis": {
            "gridcolor": "#506784",
            "linecolor": "#506784",
            "ticks": ""
           },
           "baxis": {
            "gridcolor": "#506784",
            "linecolor": "#506784",
            "ticks": ""
           },
           "caxis": {
            "gridcolor": "#506784",
            "linecolor": "#506784",
            "ticks": ""
           }
          },
          "coloraxis": {
           "colorbar": {
            "outlinewidth": 0,
            "ticks": ""
           }
          },
          "colorscale": {
           "sequential": [
            [
             0.0,
             "#0d0887"
            ],
            [
             0.1111111111111111,
             "#46039f"
            ],
            [
             0.2222222222222222,
             "#7201a8"
            ],
            [
             0.3333333333333333,
             "#9c179e"
            ],
            [
             0.4444444444444444,
             "#bd3786"
            ],
            [
             0.5555555555555556,
             "#d8576b"
            ],
            [
             0.6666666666666666,
             "#ed7953"
            ],
            [
             0.7777777777777778,
             "#fb9f3a"
            ],
            [
             0.8888888888888888,
             "#fdca26"
            ],
            [
             1.0,
             "#f0f921"
            ]
           ],
           "sequentialminus": [
            [
             0.0,
             "#0d0887"
            ],
            [
             0.1111111111111111,
             "#46039f"
            ],
            [
             0.2222222222222222,
             "#7201a8"
            ],
            [
             0.3333333333333333,
             "#9c179e"
            ],
            [
             0.4444444444444444,
             "#bd3786"
            ],
            [
             0.5555555555555556,
             "#d8576b"
            ],
            [
             0.6666666666666666,
             "#ed7953"
            ],
            [
             0.7777777777777778,
             "#fb9f3a"
            ],
            [
             0.8888888888888888,
             "#fdca26"
            ],
            [
             1.0,
             "#f0f921"
            ]
           ],
           "diverging": [
            [
             0,
             "#8e0152"
            ],
            [
             0.1,
             "#c51b7d"
            ],
            [
             0.2,
             "#de77ae"
            ],
            [
             0.3,
             "#f1b6da"
            ],
            [
             0.4,
             "#fde0ef"
            ],
            [
             0.5,
             "#f7f7f7"
            ],
            [
             0.6,
             "#e6f5d0"
            ],
            [
             0.7,
             "#b8e186"
            ],
            [
             0.8,
             "#7fbc41"
            ],
            [
             0.9,
             "#4d9221"
            ],
            [
             1,
             "#276419"
            ]
           ]
          },
          "xaxis": {
           "gridcolor": "#283442",
           "linecolor": "#506784",
           "ticks": "",
           "title": {
            "standoff": 15
           },
           "zerolinecolor": "#283442",
           "automargin": true,
           "zerolinewidth": 2
          },
          "yaxis": {
           "gridcolor": "#283442",
           "linecolor": "#506784",
           "ticks": "",
           "title": {
            "standoff": 15
           },
           "zerolinecolor": "#283442",
           "automargin": true,
           "zerolinewidth": 2
          },
          "scene": {
           "xaxis": {
            "backgroundcolor": "rgb(17,17,17)",
            "gridcolor": "#506784",
            "linecolor": "#506784",
            "showbackground": true,
            "ticks": "",
            "zerolinecolor": "#C8D4E3",
            "gridwidth": 2
           },
           "yaxis": {
            "backgroundcolor": "rgb(17,17,17)",
            "gridcolor": "#506784",
            "linecolor": "#506784",
            "showbackground": true,
            "ticks": "",
            "zerolinecolor": "#C8D4E3",
            "gridwidth": 2
           },
           "zaxis": {
            "backgroundcolor": "rgb(17,17,17)",
            "gridcolor": "#506784",
            "linecolor": "#506784",
            "showbackground": true,
            "ticks": "",
            "zerolinecolor": "#C8D4E3",
            "gridwidth": 2
           }
          },
          "shapedefaults": {
           "line": {
            "color": "#f2f5fa"
           }
          },
          "annotationdefaults": {
           "arrowcolor": "#f2f5fa",
           "arrowhead": 0,
           "arrowwidth": 1
          },
          "geo": {
           "bgcolor": "rgb(17,17,17)",
           "landcolor": "rgb(17,17,17)",
           "subunitcolor": "#506784",
           "showland": true,
           "showlakes": true,
           "lakecolor": "rgb(17,17,17)"
          },
          "title": {
           "x": 0.05
          },
          "updatemenudefaults": {
           "bgcolor": "#506784",
           "borderwidth": 0
          },
          "sliderdefaults": {
           "bgcolor": "#C8D4E3",
           "borderwidth": 1,
           "bordercolor": "rgb(17,17,17)",
           "tickwidth": 0
          },
          "mapbox": {
           "style": "dark"
          }
         }
        },
        "margin": {
         "l": 0,
         "r": 0,
         "t": 0,
         "b": 0
        },
        "title": {
         "text": "Spiral Dataset Predictions"
        },
        "scene": {
         "xaxis": {
          "title": {
           "text": "X"
          }
         },
         "yaxis": {
          "title": {
           "text": "Y"
          }
         },
         "zaxis": {
          "title": {
           "text": "Predictions"
          }
         }
        }
       },
       "config": {
        "plotlyServerURL": "https://plot.ly"
       }
      },
      "text/html": [
       "<div>                            <div id=\"1ab08b1f-54a4-4900-b1ca-8cfb5c966e3f\" class=\"plotly-graph-div\" style=\"height:525px; width:100%;\"></div>            <script type=\"text/javascript\">                require([\"plotly\"], function(Plotly) {                    window.PLOTLYENV=window.PLOTLYENV || {};                                    if (document.getElementById(\"1ab08b1f-54a4-4900-b1ca-8cfb5c966e3f\")) {                    Plotly.newPlot(                        \"1ab08b1f-54a4-4900-b1ca-8cfb5c966e3f\",                        [{\"marker\":{\"color\":[0,0,0,0,0,0,0,0,0,0,0,0,0,0,0,0,0,0,0,0,0,0,0,0,0,0,0,0,0,0,0,0,0,0,0,0,0,0,0,0,0,0,0,0,0,0,0,0,0,0,0,0,0,0,0,0,0,0,0,0,0,0,0,0,0,0,0,0,0,0,0,0,0,0,0,0,0,0,0,0,0,0,0,0,0,0,0,0,0,0,0,0,0,0,0,0,0,0,0,0,1,1,1,1,1,1,1,1,1,1,1,1,1,1,1,1,1,1,1,1,1,1,1,1,1,1,1,1,1,1,1,1,1,1,1,1,1,1,1,1,1,1,1,1,1,1,1,1,1,1,1,1,1,1,1,1,1,1,1,1,1,1,1,1,1,1,1,1,1,1,1,1,1,1,1,1,1,1,1,1,1,1,1,1,1,1,1,1,1,1,1,1,1,1,1,1,1,1,1,1,2,2,2,2,2,2,2,2,2,2,2,2,2,2,2,2,2,2,2,2,2,2,2,2,2,2,2,2,2,2,2,2,2,2,2,2,2,2,2,2,2,2,2,2,2,2,2,2,2,2,2,2,2,2,2,2,2,2,2,2,2,2,2,2,2,2,2,2,2,2,2,2,2,2,2,2,2,2,2,2,2,2,2,2,2,2,2,2,2,2,2,2,2,2,2,2,2,2,2,2],\"colorscale\":[[0.0,\"#440154\"],[0.1111111111111111,\"#482878\"],[0.2222222222222222,\"#3e4989\"],[0.3333333333333333,\"#31688e\"],[0.4444444444444444,\"#26828e\"],[0.5555555555555556,\"#1f9e89\"],[0.6666666666666666,\"#35b779\"],[0.7777777777777778,\"#6ece58\"],[0.8888888888888888,\"#b5de2b\"],[1.0,\"#fde725\"]],\"opacity\":0.8,\"size\":8},\"mode\":\"markers\",\"name\":\"Predictions\",\"x\":[0.0,-0.0021813420052066287,0.0019102480301429314,0.021190535100226445,-0.015127233966406447,0.006978960478927568,0.04301797892700955,0.06696176884821224,0.04649751809776984,0.05507059205836795,0.09153135016576534,0.10487218731840169,0.12108935581732658,0.11264247594377695,0.07732825453885624,0.14389901693764026,0.06567210980687495,0.16213667484509964,0.17792546573643322,0.15714208645066344,0.20102151562449475,0.10625853711826747,0.16868553392615554,0.2100454463428591,0.2285875680560312,0.23614201649877972,0.2046079593191205,0.14485587457335306,0.18701362019486514,0.08963899606647616,-0.20407317085207893,-0.0020964902171754737,-0.03153759576662631,-0.11745211064669042,-0.26069391519416807,-0.2264826390143581,-0.34343847205009487,-0.21855851338962096,-0.11864698266338358,-0.23348439441257235,-0.2969459514715931,-0.38036502707768727,-0.2909254399937528,-0.3106142068696206,-0.4144758900209007,-0.3791863039125294,-0.4361191842668283,-0.36708053346986996,-0.4672538422424574,-0.49049125109910635,-0.3141084884764307,-0.46767654183286694,-0.19130902285319726,-0.2947714686445426,-0.5250109244855908,-0.544206939621441,-0.48555489708632293,0.10456891823326797,-0.43267194163744355,-0.16048439113666674,-0.5141566586151027,0.13357335451364072,-0.2749632440355406,0.36114304488439936,-0.13332260771775634,0.3966928649301739,-0.05273056722094373,0.11721588486171133,-0.09098386910365848,0.5036481491959293,0.4796631786442204,0.7148440780532197,0.3239955612705752,0.7127944698417125,0.7182578396228867,0.754819396828992,0.7661504940798518,0.7013296999759836,0.7639018117454994,0.7950399798095026,0.7009125571295102,0.7344892573738256,0.6303178287840243,0.8348291778370026,0.8455490614723297,0.29854894978923696,0.680297910246216,0.004025441099305263,0.6568048798822541,0.035755104316045845,0.8803161452243841,0.4731897464919818,0.5458861599353269,-0.23960027225154976,0.28402992396663396,-0.30672941635797996,0.2730755607139404,0.17408589460186735,-0.28739342553749686,-0.9938188716083175,-0.0,-0.0018988413241266796,-0.019238457824634774,-0.017712267299995456,-0.025665754496201513,-0.0501030051794355,-0.045680911531489996,-0.061046533677460255,-0.07272620864412217,-0.05547711391317468,-0.09462057215833074,-0.09413381648560816,-0.10930591131934876,-0.12615131692826134,-0.1404089759199435,-0.1513063456070978,-0.1047195869303434,-0.1435613070276207,-0.0019320980738710607,-0.1837248828178323,-0.012586603944813871,-0.1429480902425171,-0.013666796827362519,0.011474549250935408,-0.024984794940404155,-0.022597235341093744,0.06241028077995008,0.07840649003702731,-0.02512163732813643,0.0594360993825348,0.19560063143088066,0.030913618321196684,0.05872110659742163,0.30571006028608455,0.3327981279157589,0.3057417842046445,0.26564904305413556,0.36905711782538114,0.3627195169631377,0.3933670948975385,0.14773888157830725,0.2708219730753931,0.42314919810369805,0.43274603811882095,0.3676468032834306,0.4264979254683129,0.44091576878327415,0.44043855658999487,0.35419894409681585,0.2577114209272801,0.08515002807397642,-0.05562548725280821,0.11564461625369576,0.10619296657079276,0.336342499062975,0.2787280247041143,0.3873405645945246,-0.18278479309095558,-0.32448148933645227,-0.4540602428882893,-0.0036937382137786218,-0.10180164964793892,-0.026726783577394272,0.03905744584200518,-0.6442799226038628,-0.5885268852040225,-0.5500298503618152,-0.02879550679807826,-0.2500754561628511,-0.696734047306088,-0.6549033198452832,-0.5066998271621009,-0.7272070095280656,-0.2731708158720929,-0.3781060567566972,-0.7572127526575592,-0.3881169249790587,-0.6165599529546434,0.04318396069308166,-0.20554654822340643,-0.3488899059645483,-0.7538928366273703,-0.7695894858568716,-0.5629790280778558,-0.3403841224309056,0.42016276512553463,-0.11085348946846098,0.21957289080938894,0.4842148275697022,0.1569086821201525,-0.3840456373022989,0.7337951531700087,0.6316256660931818,0.6680134002093226,0.8308551457618113,0.9555957998438378,0.8049741292712491,0.9131327468007948,0.9074003562504528,0.876748049224892,0.0,0.009675303049145155,0.020110636141128936,0.02921850763097089,0.03180063139455556,0.034957459365080185,0.05406050235505747,0.06272025724791862,0.04170252940916682,0.08992420221898537,0.08106069327884736,0.054885056056735035,0.10712142358903,-0.059816274466427545,0.08006518221961831,0.09797484810796206,0.12151621494811168,0.08160395945702821,-0.06244537150347206,0.10266501368861004,0.16393213928925143,-0.01355504527678482,-0.0757134231865217,-0.12775011323757868,-0.1856909523365154,-0.05001732753753902,-0.25655242100160397,-0.17037750937579996,-0.2479951228692859,-0.2916178492834432,-0.09725665281663096,-0.30716759358138734,0.059809149049305795,-0.31516896286563273,-0.31951453168009364,-0.23435490835643238,-0.3507436392954893,-0.35974114637867305,-0.28269239602671903,-0.38960764178215107,-0.2073026780318619,-0.3031938959485883,-0.36014290345869676,-0.39283504308343603,-0.007526995779568135,-0.3079518195616767,-0.05958951181684783,-0.2191145097500315,-0.02611723353634991,-0.23874280985516164,-0.15107102212358725,-0.23089824086950464,-0.20148375400611726,-0.12916730100382298,0.5442656529862169,-0.08283763761020484,0.3713769738729488,0.201749633916923,0.41412207829873265,0.3988107147682693,0.16743845331043722,0.39036937667336374,0.6261735772789969,0.5865240287126358,0.6224981274294057,0.6251771253304577,0.6520199013806522,0.5766338190395718,0.6690274701348288,0.6440408904257944,0.6280156506773791,0.6629165223287161,0.6152688904318334,0.3944105970903298,0.6226573214356194,0.5015624878933111,0.4381924768008385,0.48083215641890265,0.562585823324595,0.1229179695541928,-0.13320428086949607,0.4072785903804937,-0.30255381989172125,-0.29385743815147614,-0.7356098076832581,-0.5826237772682914,0.010536307580977592,-0.623956153412849,0.07866534567129309,0.09414025585500362,-0.1945018052584554,-0.592636207810096,-0.9025957281983579,-0.7146467324624292,-0.9384102893781737,-0.959583714000403,-0.447304908851656,-0.9697390757285711,-0.38822188661359175,-0.9993635633736332],\"y\":[0,0,0,0,0,0,0,0,0,0,0,0,0,0,0,0,0,0,0,0,0,0,0,0,0,0,0,0,0,0,0,0,0,0,0,0,0,0,0,0,0,0,0,0,0,0,0,0,0,0,0,0,0,0,0,0,0,0,0,0,0,0,0,0,0,0,0,0,0,0,0,0,0,0,0,0,0,0,0,0,0,0,0,0,0,0,0,0,0,0,0,0,0,0,0,0,0,0,0,0,1,1,1,1,1,1,1,1,1,1,1,1,1,1,1,1,1,1,1,1,1,1,1,1,1,1,1,1,1,1,1,1,1,1,1,1,1,1,1,1,1,1,1,1,1,1,1,1,1,1,1,1,1,1,1,1,1,1,1,1,1,1,1,1,1,1,1,1,1,1,1,1,1,1,1,1,1,1,1,1,1,1,1,1,1,1,1,1,1,1,1,1,1,1,1,1,1,1,1,1,2,2,2,2,2,2,2,2,2,2,2,2,2,2,2,2,2,2,2,2,2,2,2,2,2,2,2,2,2,2,2,2,2,2,2,2,2,2,2,2,2,2,2,2,2,2,2,2,2,2,2,2,2,2,2,2,2,2,2,2,2,2,2,2,2,2,2,2,2,2,2,2,2,2,2,2,2,2,2,2,2,2,2,2,2,2,2,2,2,2,2,2,2,2,2,2,2,2,2,2],\"z\":[0.0033332792426204573,0.0033332792426204573,0.0033332792426204573,0.0033332792426204573,0.0033332792426204573,0.0033332792426204573,0.0033332792426204573,0.00333328739020259,0.0033332792426204573,0.0033332792426204573,0.003333288190310134,0.003333291788247971,0.0033333006498235535,0.0033332874586037117,0.0033333179015764733,0.0033333117236723497,0.003333322828292737,0.003333316550161668,0.003333305186259818,0.0033333280368835227,0.0033333127177773278,0.003333337133339821,0.0033333376448056455,0.0033333335093287415,0.00333333206776852,0.0033333352008777335,0.003333347611068029,0.0033333537805625524,0.0033333558106101134,0.003333356379978502,0.003333299656723919,0.003333350390577657,0.0033333479148419344,0.0033333327635171927,0.0033332974221904656,0.003333307114082099,0.003333296049891971,0.00333331554260286,0.0033333446993384502,0.0033333165191569395,0.0033333007389103235,0.003333299140859822,0.003333305932008744,0.003333302421934624,0.0033333001880407657,0.003333302643659066,0.0033332792426204573,0.0033332792426204573,0.0033333007560940584,0.0033332989865201062,0.0033332792426204573,0.0033332792426204573,0.0033332792426204573,0.0033332792426204573,0.0033333035176073473,0.0033332857709895978,0.0033332792426204573,0.0033332792426204573,0.0033332792426204573,0.0033332792426204573,0.0033332792426204573,0.0033332792426204573,0.0033332792426204573,0.0033332792426204573,0.0033332792426204573,0.0033332792426204573,0.0033332792426204573,0.0033332792426204573,0.0033332792426204573,0.003333282240046423,0.0033332792426204573,0.0033334179900447684,0.0033332792426204573,0.0033333758906735796,0.003333373502132375,0.0033334069590978824,0.00333342629626083,0.0033333461278100217,0.0033334435773130573,0.0033334136844084656,0.0033333337044509875,0.0033334720527572552,0.0033334967446376975,0.0033334194265741677,0.0033334226492293395,0.0033335079020384317,0.0033335049147669056,0.003333480413482674,0.003333514787140803,0.003333489639433029,0.0033334691882837067,0.003333530312630478,0.0033335330416099022,0.003333450491428015,0.0033335287713698227,0.003333440600681373,0.0033335326998259643,0.0033335255062299147,0.003333452185651287,0.0033333182970420264,0.0033332792426204573,0.003333281221064046,0.003333280162501485,0.0033332821885855668,0.003333282501931529,0.003333281242668536,0.0033332824548055165,0.0033332828191397204,0.003333283206480941,0.003333287330385956,0.00333328397235289,0.0033332849215191693,0.003333285177593094,0.00333328511258574,0.00333328480707919,0.0033332848233160483,0.0033332792426204573,0.0033332792426204573,0.0033332792426204573,0.0033332795674550736,0.0033332792426204573,0.0033332792426204573,0.0033332792426204573,0.0033332792426204573,0.0033332792426204573,0.0033332792426204573,0.0033332792426204573,0.0033332792426204573,0.0033332792426204573,0.0033332792426204573,0.0033332792426204573,0.0033332792426204573,0.0033332792426204573,0.0033333109684089645,0.0033333509298332548,0.003333302606792924,0.0033332819092732084,0.003333354443928314,0.003333322896161094,0.0033333481282259623,0.0033332792426204573,0.0033333915077314357,0.003333360915114701,0.003333363513129451,0.0033333005371485526,0.00333332878127155,0.0033333334393779585,0.0033333859671041068,0.003333408111845014,0.00333341446792175,0.003333405674289536,0.00333338775616411,0.0033334135828068123,0.0033334149794928343,0.0033334278646769415,0.0033334308711888746,0.0033334316185893395,0.003333376341162958,0.0033333417382082823,0.0033333107676619305,0.003333417005028722,0.003333402615412682,0.0033334180217657757,0.0033334300839091236,0.003333303791189786,0.0033333115645601936,0.0033333137224753804,0.00333342922777021,0.003333387611918303,0.003333304185960321,0.0033333128704730185,0.0033332792426204573,0.003333302723147566,0.0033332792426204573,0.0033332792426204573,0.0033333022883960677,0.0033332792426204573,0.0033332792426204573,0.0033332792426204573,0.0033332792426204573,0.0033332792426204573,0.0033332792426204573,0.0033332792426204573,0.0033332792426204573,0.0033332792426204573,0.0033332792426204573,0.0033332792426204573,0.0033332792426204573,0.0033332792426204573,0.0033332792426204573,0.0033332792426204573,0.0033333114109865094,0.0033332792426204573,0.0033332792426204573,0.003333347007146945,0.003333465987290455,0.003333327015644487,0.0033333818055705784,0.0033335060985554806,0.0033333515041880754,0.0033332792426204573,0.003333280490970964,0.0033332831820469576,0.003333285608508136,0.0033332897166086714,0.0033332792426204573,0.0033332841216579417,0.0033332961317402644,0.003333301315318229,0.0033332933980837194,0.0033333051961902064,0.0033333095510175662,0.003333308308865457,0.0033332969198999664,0.0033333178950402578,0.0033333203644272005,0.0033333218480251802,0.0033333260055909524,0.003333308816591736,0.0033333316999656633,0.0033333308577215537,0.003333325515390522,0.0033333155307985573,0.003333304303696277,0.003333292052915419,0.0033333282065368683,0.003333290446469763,0.003333302205059626,0.0033332792426204573,0.003333290502936239,0.003333330107089612,0.003333292395214834,0.0033333607400820105,0.003333294620152541,0.0033332792426204573,0.003333304385119826,0.0033332809149025726,0.0033332806522401244,0.0033332792426204573,0.003333286214033478,0.0033332792426204573,0.0033332792426204573,0.0033332792426204573,0.0033332792426204573,0.0033332792426204573,0.0033332792426204573,0.0033332792426204573,0.0033332792426204573,0.0033332792426204573,0.0033332792426204573,0.0033332792426204573,0.0033332792426204573,0.0033332792426204573,0.0033332792426204573,0.003333383906025726,0.0033332792426204573,0.0033332792426204573,0.0033332792426204573,0.0033332792426204573,0.0033332792426204573,0.0033332792426204573,0.0033332792426204573,0.003333395879742356,0.0033333416154894034,0.003333361864369559,0.003333419105980288,0.003333416365607696,0.0033334468782057524,0.0033333740176503335,0.0033333486072629117,0.003333334682137081,0.003333441459903923,0.0033334603396772858,0.00333348079353473,0.0033334673323404435,0.0033334843071768316,0.003333489049789236,0.0033334911333695503,0.003333489799344512,0.0033334776916770477,0.00333344110168961,0.003333502492121683,0.0033334096856585727,0.0033334142240562695,0.003333322052278063,0.003333335493554785,0.0033334790754471,0.0033333265750187294,0.0033334931583006632,0.0033334974606544924,0.0033334526491383566,0.003333350415883897,0.003333286277235962,0.0033333289489401946,0.003333317745230385,0.003333312103746455,0.003333408286819388,0.0033333186448570224,0.003333428642557987,0.0033333154151797585],\"type\":\"scatter3d\"}],                        {\"template\":{\"data\":{\"histogram2dcontour\":[{\"type\":\"histogram2dcontour\",\"colorbar\":{\"outlinewidth\":0,\"ticks\":\"\"},\"colorscale\":[[0.0,\"#0d0887\"],[0.1111111111111111,\"#46039f\"],[0.2222222222222222,\"#7201a8\"],[0.3333333333333333,\"#9c179e\"],[0.4444444444444444,\"#bd3786\"],[0.5555555555555556,\"#d8576b\"],[0.6666666666666666,\"#ed7953\"],[0.7777777777777778,\"#fb9f3a\"],[0.8888888888888888,\"#fdca26\"],[1.0,\"#f0f921\"]]}],\"choropleth\":[{\"type\":\"choropleth\",\"colorbar\":{\"outlinewidth\":0,\"ticks\":\"\"}}],\"histogram2d\":[{\"type\":\"histogram2d\",\"colorbar\":{\"outlinewidth\":0,\"ticks\":\"\"},\"colorscale\":[[0.0,\"#0d0887\"],[0.1111111111111111,\"#46039f\"],[0.2222222222222222,\"#7201a8\"],[0.3333333333333333,\"#9c179e\"],[0.4444444444444444,\"#bd3786\"],[0.5555555555555556,\"#d8576b\"],[0.6666666666666666,\"#ed7953\"],[0.7777777777777778,\"#fb9f3a\"],[0.8888888888888888,\"#fdca26\"],[1.0,\"#f0f921\"]]}],\"heatmap\":[{\"type\":\"heatmap\",\"colorbar\":{\"outlinewidth\":0,\"ticks\":\"\"},\"colorscale\":[[0.0,\"#0d0887\"],[0.1111111111111111,\"#46039f\"],[0.2222222222222222,\"#7201a8\"],[0.3333333333333333,\"#9c179e\"],[0.4444444444444444,\"#bd3786\"],[0.5555555555555556,\"#d8576b\"],[0.6666666666666666,\"#ed7953\"],[0.7777777777777778,\"#fb9f3a\"],[0.8888888888888888,\"#fdca26\"],[1.0,\"#f0f921\"]]}],\"heatmapgl\":[{\"type\":\"heatmapgl\",\"colorbar\":{\"outlinewidth\":0,\"ticks\":\"\"},\"colorscale\":[[0.0,\"#0d0887\"],[0.1111111111111111,\"#46039f\"],[0.2222222222222222,\"#7201a8\"],[0.3333333333333333,\"#9c179e\"],[0.4444444444444444,\"#bd3786\"],[0.5555555555555556,\"#d8576b\"],[0.6666666666666666,\"#ed7953\"],[0.7777777777777778,\"#fb9f3a\"],[0.8888888888888888,\"#fdca26\"],[1.0,\"#f0f921\"]]}],\"contourcarpet\":[{\"type\":\"contourcarpet\",\"colorbar\":{\"outlinewidth\":0,\"ticks\":\"\"}}],\"contour\":[{\"type\":\"contour\",\"colorbar\":{\"outlinewidth\":0,\"ticks\":\"\"},\"colorscale\":[[0.0,\"#0d0887\"],[0.1111111111111111,\"#46039f\"],[0.2222222222222222,\"#7201a8\"],[0.3333333333333333,\"#9c179e\"],[0.4444444444444444,\"#bd3786\"],[0.5555555555555556,\"#d8576b\"],[0.6666666666666666,\"#ed7953\"],[0.7777777777777778,\"#fb9f3a\"],[0.8888888888888888,\"#fdca26\"],[1.0,\"#f0f921\"]]}],\"surface\":[{\"type\":\"surface\",\"colorbar\":{\"outlinewidth\":0,\"ticks\":\"\"},\"colorscale\":[[0.0,\"#0d0887\"],[0.1111111111111111,\"#46039f\"],[0.2222222222222222,\"#7201a8\"],[0.3333333333333333,\"#9c179e\"],[0.4444444444444444,\"#bd3786\"],[0.5555555555555556,\"#d8576b\"],[0.6666666666666666,\"#ed7953\"],[0.7777777777777778,\"#fb9f3a\"],[0.8888888888888888,\"#fdca26\"],[1.0,\"#f0f921\"]]}],\"mesh3d\":[{\"type\":\"mesh3d\",\"colorbar\":{\"outlinewidth\":0,\"ticks\":\"\"}}],\"scatter\":[{\"marker\":{\"line\":{\"color\":\"#283442\"}},\"type\":\"scatter\"}],\"parcoords\":[{\"type\":\"parcoords\",\"line\":{\"colorbar\":{\"outlinewidth\":0,\"ticks\":\"\"}}}],\"scatterpolargl\":[{\"type\":\"scatterpolargl\",\"marker\":{\"colorbar\":{\"outlinewidth\":0,\"ticks\":\"\"}}}],\"bar\":[{\"error_x\":{\"color\":\"#f2f5fa\"},\"error_y\":{\"color\":\"#f2f5fa\"},\"marker\":{\"line\":{\"color\":\"rgb(17,17,17)\",\"width\":0.5},\"pattern\":{\"fillmode\":\"overlay\",\"size\":10,\"solidity\":0.2}},\"type\":\"bar\"}],\"scattergeo\":[{\"type\":\"scattergeo\",\"marker\":{\"colorbar\":{\"outlinewidth\":0,\"ticks\":\"\"}}}],\"scatterpolar\":[{\"type\":\"scatterpolar\",\"marker\":{\"colorbar\":{\"outlinewidth\":0,\"ticks\":\"\"}}}],\"histogram\":[{\"marker\":{\"pattern\":{\"fillmode\":\"overlay\",\"size\":10,\"solidity\":0.2}},\"type\":\"histogram\"}],\"scattergl\":[{\"marker\":{\"line\":{\"color\":\"#283442\"}},\"type\":\"scattergl\"}],\"scatter3d\":[{\"type\":\"scatter3d\",\"line\":{\"colorbar\":{\"outlinewidth\":0,\"ticks\":\"\"}},\"marker\":{\"colorbar\":{\"outlinewidth\":0,\"ticks\":\"\"}}}],\"scattermapbox\":[{\"type\":\"scattermapbox\",\"marker\":{\"colorbar\":{\"outlinewidth\":0,\"ticks\":\"\"}}}],\"scatterternary\":[{\"type\":\"scatterternary\",\"marker\":{\"colorbar\":{\"outlinewidth\":0,\"ticks\":\"\"}}}],\"scattercarpet\":[{\"type\":\"scattercarpet\",\"marker\":{\"colorbar\":{\"outlinewidth\":0,\"ticks\":\"\"}}}],\"carpet\":[{\"aaxis\":{\"endlinecolor\":\"#A2B1C6\",\"gridcolor\":\"#506784\",\"linecolor\":\"#506784\",\"minorgridcolor\":\"#506784\",\"startlinecolor\":\"#A2B1C6\"},\"baxis\":{\"endlinecolor\":\"#A2B1C6\",\"gridcolor\":\"#506784\",\"linecolor\":\"#506784\",\"minorgridcolor\":\"#506784\",\"startlinecolor\":\"#A2B1C6\"},\"type\":\"carpet\"}],\"table\":[{\"cells\":{\"fill\":{\"color\":\"#506784\"},\"line\":{\"color\":\"rgb(17,17,17)\"}},\"header\":{\"fill\":{\"color\":\"#2a3f5f\"},\"line\":{\"color\":\"rgb(17,17,17)\"}},\"type\":\"table\"}],\"barpolar\":[{\"marker\":{\"line\":{\"color\":\"rgb(17,17,17)\",\"width\":0.5},\"pattern\":{\"fillmode\":\"overlay\",\"size\":10,\"solidity\":0.2}},\"type\":\"barpolar\"}],\"pie\":[{\"automargin\":true,\"type\":\"pie\"}]},\"layout\":{\"autotypenumbers\":\"strict\",\"colorway\":[\"#636efa\",\"#EF553B\",\"#00cc96\",\"#ab63fa\",\"#FFA15A\",\"#19d3f3\",\"#FF6692\",\"#B6E880\",\"#FF97FF\",\"#FECB52\"],\"font\":{\"color\":\"#f2f5fa\"},\"hovermode\":\"closest\",\"hoverlabel\":{\"align\":\"left\"},\"paper_bgcolor\":\"rgb(17,17,17)\",\"plot_bgcolor\":\"rgb(17,17,17)\",\"polar\":{\"bgcolor\":\"rgb(17,17,17)\",\"angularaxis\":{\"gridcolor\":\"#506784\",\"linecolor\":\"#506784\",\"ticks\":\"\"},\"radialaxis\":{\"gridcolor\":\"#506784\",\"linecolor\":\"#506784\",\"ticks\":\"\"}},\"ternary\":{\"bgcolor\":\"rgb(17,17,17)\",\"aaxis\":{\"gridcolor\":\"#506784\",\"linecolor\":\"#506784\",\"ticks\":\"\"},\"baxis\":{\"gridcolor\":\"#506784\",\"linecolor\":\"#506784\",\"ticks\":\"\"},\"caxis\":{\"gridcolor\":\"#506784\",\"linecolor\":\"#506784\",\"ticks\":\"\"}},\"coloraxis\":{\"colorbar\":{\"outlinewidth\":0,\"ticks\":\"\"}},\"colorscale\":{\"sequential\":[[0.0,\"#0d0887\"],[0.1111111111111111,\"#46039f\"],[0.2222222222222222,\"#7201a8\"],[0.3333333333333333,\"#9c179e\"],[0.4444444444444444,\"#bd3786\"],[0.5555555555555556,\"#d8576b\"],[0.6666666666666666,\"#ed7953\"],[0.7777777777777778,\"#fb9f3a\"],[0.8888888888888888,\"#fdca26\"],[1.0,\"#f0f921\"]],\"sequentialminus\":[[0.0,\"#0d0887\"],[0.1111111111111111,\"#46039f\"],[0.2222222222222222,\"#7201a8\"],[0.3333333333333333,\"#9c179e\"],[0.4444444444444444,\"#bd3786\"],[0.5555555555555556,\"#d8576b\"],[0.6666666666666666,\"#ed7953\"],[0.7777777777777778,\"#fb9f3a\"],[0.8888888888888888,\"#fdca26\"],[1.0,\"#f0f921\"]],\"diverging\":[[0,\"#8e0152\"],[0.1,\"#c51b7d\"],[0.2,\"#de77ae\"],[0.3,\"#f1b6da\"],[0.4,\"#fde0ef\"],[0.5,\"#f7f7f7\"],[0.6,\"#e6f5d0\"],[0.7,\"#b8e186\"],[0.8,\"#7fbc41\"],[0.9,\"#4d9221\"],[1,\"#276419\"]]},\"xaxis\":{\"gridcolor\":\"#283442\",\"linecolor\":\"#506784\",\"ticks\":\"\",\"title\":{\"standoff\":15},\"zerolinecolor\":\"#283442\",\"automargin\":true,\"zerolinewidth\":2},\"yaxis\":{\"gridcolor\":\"#283442\",\"linecolor\":\"#506784\",\"ticks\":\"\",\"title\":{\"standoff\":15},\"zerolinecolor\":\"#283442\",\"automargin\":true,\"zerolinewidth\":2},\"scene\":{\"xaxis\":{\"backgroundcolor\":\"rgb(17,17,17)\",\"gridcolor\":\"#506784\",\"linecolor\":\"#506784\",\"showbackground\":true,\"ticks\":\"\",\"zerolinecolor\":\"#C8D4E3\",\"gridwidth\":2},\"yaxis\":{\"backgroundcolor\":\"rgb(17,17,17)\",\"gridcolor\":\"#506784\",\"linecolor\":\"#506784\",\"showbackground\":true,\"ticks\":\"\",\"zerolinecolor\":\"#C8D4E3\",\"gridwidth\":2},\"zaxis\":{\"backgroundcolor\":\"rgb(17,17,17)\",\"gridcolor\":\"#506784\",\"linecolor\":\"#506784\",\"showbackground\":true,\"ticks\":\"\",\"zerolinecolor\":\"#C8D4E3\",\"gridwidth\":2}},\"shapedefaults\":{\"line\":{\"color\":\"#f2f5fa\"}},\"annotationdefaults\":{\"arrowcolor\":\"#f2f5fa\",\"arrowhead\":0,\"arrowwidth\":1},\"geo\":{\"bgcolor\":\"rgb(17,17,17)\",\"landcolor\":\"rgb(17,17,17)\",\"subunitcolor\":\"#506784\",\"showland\":true,\"showlakes\":true,\"lakecolor\":\"rgb(17,17,17)\"},\"title\":{\"x\":0.05},\"updatemenudefaults\":{\"bgcolor\":\"#506784\",\"borderwidth\":0},\"sliderdefaults\":{\"bgcolor\":\"#C8D4E3\",\"borderwidth\":1,\"bordercolor\":\"rgb(17,17,17)\",\"tickwidth\":0},\"mapbox\":{\"style\":\"dark\"}}},\"margin\":{\"l\":0,\"r\":0,\"t\":0,\"b\":0},\"title\":{\"text\":\"Spiral Dataset Predictions\"},\"scene\":{\"xaxis\":{\"title\":{\"text\":\"X\"}},\"yaxis\":{\"title\":{\"text\":\"Y\"}},\"zaxis\":{\"title\":{\"text\":\"Predictions\"}}}},                        {\"responsive\": true}                    ).then(function(){\n",
       "                            \n",
       "var gd = document.getElementById('1ab08b1f-54a4-4900-b1ca-8cfb5c966e3f');\n",
       "var x = new MutationObserver(function (mutations, observer) {{\n",
       "        var display = window.getComputedStyle(gd).display;\n",
       "        if (!display || display === 'none') {{\n",
       "            console.log([gd, 'removed!']);\n",
       "            Plotly.purge(gd);\n",
       "            observer.disconnect();\n",
       "        }}\n",
       "}});\n",
       "\n",
       "// Listen for the removal of the full notebook cells\n",
       "var notebookContainer = gd.closest('#notebook-container');\n",
       "if (notebookContainer) {{\n",
       "    x.observe(notebookContainer, {childList: true});\n",
       "}}\n",
       "\n",
       "// Listen for the clearing of the current output cell\n",
       "var outputEl = gd.closest('.output');\n",
       "if (outputEl) {{\n",
       "    x.observe(outputEl, {childList: true});\n",
       "}}\n",
       "\n",
       "                        })                };                });            </script>        </div>"
      ]
     },
     "metadata": {},
     "output_type": "display_data"
    }
   ],
   "execution_count": 113
  },
  {
   "metadata": {
    "ExecuteTime": {
     "end_time": "2024-09-01T09:05:52.713238Z",
     "start_time": "2024-09-01T09:05:52.710993Z"
    }
   },
   "cell_type": "code",
   "source": "",
   "id": "56742b5ed8edd761",
   "outputs": [],
   "execution_count": null
  },
  {
   "metadata": {
    "ExecuteTime": {
     "end_time": "2024-09-01T09:05:52.792848Z",
     "start_time": "2024-09-01T09:05:52.789828Z"
    }
   },
   "cell_type": "code",
   "source": "",
   "id": "26fd434bb67352e9",
   "outputs": [],
   "execution_count": null
  }
 ],
 "metadata": {
  "kernelspec": {
   "display_name": "Python 3 (ipykernel)",
   "language": "python",
   "name": "python3"
  },
  "language_info": {
   "codemirror_mode": {
    "name": "ipython",
    "version": 3
   },
   "file_extension": ".py",
   "mimetype": "text/x-python",
   "name": "python",
   "nbconvert_exporter": "python",
   "pygments_lexer": "ipython3",
   "version": "3.12.2"
  }
 },
 "nbformat": 4,
 "nbformat_minor": 5
}

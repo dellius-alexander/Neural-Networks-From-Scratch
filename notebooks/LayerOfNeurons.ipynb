{
 "cells": [
  {
   "metadata": {
    "ExecuteTime": {
     "end_time": "2024-09-11T18:33:32.386399Z",
     "start_time": "2024-09-11T18:33:32.382210Z"
    }
   },
   "cell_type": "code",
   "source": [
    "from IPython.display import display, Javascript\n",
    "\n",
    "display(Javascript(\"MathJax.typeset()\"))\n"
   ],
   "id": "457cc852573b25c6",
   "outputs": [
    {
     "data": {
      "text/plain": [
       "<IPython.core.display.Javascript object>"
      ],
      "application/javascript": "MathJax.typeset()"
     },
     "metadata": {},
     "output_type": "display_data"
    }
   ],
   "execution_count": 65
  },
  {
   "metadata": {},
   "cell_type": "markdown",
   "source": [
    "# Neural Networks\n",
    "\n",
    "## A mathematical model of a neural network is a collection of neurons that are connected in layers\n",
    "\n",
    "### A neural network is a collection of neurons that are connected in layers.\n",
    "- A neural network has an input layer, hidden layers, and an output layer.\n",
    "- The input layer is the first layer of the neural network.\n",
    "    - The input layer has neurons that take the input to the neural network.\n",
    "    - **Note**: The input to the neural network is the data that the network is trained on. \\\n",
    "    Not the data that the network is predicting. The input sits at the beginning of the neurons \\\n",
    "    dendrites and aggregates the input signals via dot product to the nucleus to which we \\\n",
    "    apply an activation function, add the bias and pass the output to the axon terminals of \\\n",
    "    other neurons.\n",
    "- The hidden layers are the layers between the input and output layers.\n",
    "- The output layer is the last layer of the neural network.\n",
    "    - The output layer has neurons that produce the output of the neural network.\n",
    "    - The output of the neural network is the prediction of the network.\n",
    "\n",
    "---\n",
    "\n",
    "### A neural network’s forward pass:\n",
    "- The forward pass is the process of calculating the output of a neural network given an input.\n",
    "- The output of the neural network is calculated using the weights and biases of the neurons in the network.\n",
    "- The output of the neural network is the prediction of the network.\n",
    "- The prediction of the network is the output of the last layer of neurons.\n",
    "\n",
    "---\n",
    "\n",
    "$\n",
    "\\begin{equation*}\n",
    "L = - \\sum_{l=1}^{N} y_l \\log \\left( \\forall_{j=1}^{n_3} \\left[ \\frac{e^{\\sum_{i=1}^{n_2} \\max \\left(0, \\sum_{i=1}^{n_1} \\max \\left(0, \\sum_{i=1}^{n_0} X_i w_{1,i,j} + b_{1,j} \\right) w_{2,i,j} + b_{2,j} \\right) w_{3,i,j} + b_{3,j}}}\n",
    "{\\sum_{k=1}^{n_3} e^{\\sum_{i=1}^{n_2} \\max \\left(0, \\sum_{i=1}^{n_1} \\max \\left(0, \\sum_{i=1}^{n_0} X_i w_{1,i,k} + b_{1,k} \\right) w_{2,i,k} + b_{2,k} \\right) w_{3,i,k} + b_{3,k}}} \\right] \\right)  \\text{,} \\\\\n",
    "\\text{where L}  = \\text{Loss Function} \n",
    "\\end{equation*}\n",
    "$\n",
    "\n",
    "---"
   ],
   "id": "d63c06f41b1fed64"
  },
  {
   "cell_type": "markdown",
   "id": "ef3e52a2bcef9ccf",
   "metadata": {},
   "source": [
    "### The Forward Pass can be represented as a series of matrix multiplications "
   ]
  },
  {
   "cell_type": "code",
   "id": "c52aa918f101e9a5",
   "metadata": {
    "ExecuteTime": {
     "end_time": "2024-09-11T18:33:32.666842Z",
     "start_time": "2024-09-11T18:33:32.653315Z"
    }
   },
   "source": [
    "import numpy as np\n",
    "from src.functions.activation import Sigmoid\n",
    "\n",
    "\n",
    "# create the input data\n",
    "X = np.array([[1.0, 2.0, 3.0, 2.5],\n",
    "                [2.0, 5.0, -1.0, 2.0],\n",
    "                [-1.5, 2.7, 3.3, -0.8]])\n",
    "\n",
    "# create the Expected output data\n",
    "y = np.array([[0, 1, 0],\n",
    "                [1, 0, 1],\n",
    "                [0, 1, 0]])\n",
    "\n",
    "# create the weights\n",
    "w1 = np.array([[0.2, 0.8, -0.5, 1.0],\n",
    "                [0.5, -0.91, 0.26, -0.5],\n",
    "                [-0.26, -0.27, 0.17, 0.87]])\n",
    "w2 = np.array([[0.1, -0.14, 0.5],\n",
    "                [-0.5, 0.12, -0.33],\n",
    "                [-0.44, 0.73, -0.13]])\n",
    "w3 = np.array([[-0.1, -0.14, -0.5],\n",
    "                [0.5, 0.12, -0.33],\n",
    "                [-0.44, 0.73, -0.13]])\n",
    "\n",
    "# create the biases\n",
    "b1 = np.array([2.0, 3.0, 0.5])\n",
    "b2 = np.array([-1.0, 2.0, -0.5])\n",
    "b3 = np.array([2.0, 3.0, 0.5])\n",
    "\n",
    "# create the activation function\n",
    "sigmoid = Sigmoid()\n",
    "\n",
    "# calculate the output/loss of the neural network\n",
    "loss = -np.log(  # cross-entropy loss\n",
    "    np.sum(  # sum over the output neurons\n",
    "        y * np.exp(  # element-wise multiplication with the exponential of the output\n",
    "            np.dot(  # dot product of the output\n",
    "                np.maximum(  # ReLU activation\n",
    "                    0,  # ReLU\n",
    "                    np.dot(  # dot product of the hidden layer\n",
    "                        np.maximum(  # ReLU activation\n",
    "                            0,  # ReLU\n",
    "                            np.dot(  # dot product of the input layer\n",
    "                                X,  # input data\n",
    "                                w1.T  # transpose of the weights\n",
    "                            ) + b1 # add the bias\n",
    "                        ),  # ReLU\n",
    "                        w2.T  # transpose of the weights\n",
    "                    ) + b2  # add the bias\n",
    "                ),  # ReLU\n",
    "                w3.T  # transpose of the weights\n",
    "            ) + b3  # add the bias\n",
    "        ) /  # divide by the sum of the exponential of the output\n",
    "        np.sum(  # sum over the output neurons\n",
    "            np.exp(  # exponential of the output\n",
    "                np.dot(  # dot product of the output\n",
    "                    np.maximum(  # ReLU activation\n",
    "                        0,  # ReLU\n",
    "                        np.dot(  # dot product of the hidden layer\n",
    "                            np.maximum(  # ReLU activation\n",
    "                                0,  # ReLU\n",
    "                                np.dot(  # dot product of the input layer\n",
    "                                    X,  # input data\n",
    "                                    w1.T  # transpose of the weights\n",
    "                                ) + b1  # add the bias\n",
    "                            ),  # ReLU\n",
    "                            w2.T  # transpose of the weights\n",
    "                        ) + b2  # add the bias\n",
    "                    ),  # ReLU\n",
    "                    w3.T  # transpose of the weights\n",
    "                ) + b3  # add the bias\n",
    "            ),  # exponential of the output\n",
    "        axis=1, # sum over the output neurons\n",
    "        keepdims=True  # keep the dimensions of the output\n",
    "        ) # sum over the output neurons\n",
    "    )  # sum over the output neurons\n",
    ")  # cross-entropy loss\n",
    "\n",
    "# verify the accuracy of the loss\n",
    "# assert loss.shape == (3, 3), \"The shape of the loss is incorrect\"\n",
    "\n",
    "# print the loss\n",
    "print(loss)"
   ],
   "outputs": [
    {
     "name": "stdout",
     "output_type": "stream",
     "text": [
      "-0.5631323300324019\n"
     ]
    }
   ],
   "execution_count": 66
  },
  {
   "cell_type": "markdown",
   "id": "830d3fc99896b802",
   "metadata": {},
   "source": [
    "# Layer of Neurons\n",
    "\n",
    "### A layer of neurons is a collection of neurons that take the same number of inputs and produce the same number of outputs.\n",
    "\n",
    "#### The output of each neuron is calculated as follows:\n",
    "\n",
    "---\n",
    "\n",
    "$\n",
    "\\begin{align*}\n",
    "\\text{``Predictions``} &= \\text{Activation Function}(\\text{weights} \\cdot \\text{inputs} + \\text{Bias}) \\\\\n",
    "\\text{``Weighted Sum of Inputs w/ Bias``} &= \\sigma(\\sum_{i=1}^{n} w_i \\cdot x_i + b) \\\\\n",
    "\\text{``Weighted Sum of Inputs w/ Bias``} &= \\sigma(w_1 \\cdot x_1 + w_2 \\cdot x_2 + . . . + w_n \\cdot x_n + b)\n",
    "\\end{align*}\n",
    "$\n",
    "\n",
    "---\n",
    "\n",
    "#### The Predictions are the output of the layer of neurons.\n",
    "- The weights are the weights of the neurons in the layer.\n",
    "- The inputs are the inputs to the layer.\n",
    "- The bias is the bias of the neurons in the layer.\n",
    "- The activation function is the activation function of the neurons in the layer.\n",
    "- The weighted sum of inputs w/ bias is the weighted sum of the inputs to the layer plus the bias.\n",
    "- The weighted sum of inputs w/ bias is the dot product of the weights and inputs plus the bias.\n",
    "\n",
    "#### The output of each neuron is calculated as follows:\n",
    "- The weighted sum of inputs and bias is calculated.\n",
    "- The activation function is applied to the weighted sum of inputs and bias.\n",
    "- The result is the prediction of the neuron.\n",
    "- The predictions of all the neurons in the layer are returned as a list.\n",
    "- The output of the layer of neurons is the list of predictions.\n",
    "\n",
    "#### The output of the layer of neurons is a list of predictions, one for each neuron in the layer.\n",
    "\n",
    "### Using Dot Product\n",
    "\n",
    "#### Calculate the weighted sum of inputs and add the bias\n",
    "\n",
    "---\n",
    "\n",
    "$\n",
    "\\begin{align*}\n",
    "\\text{Weighted Sum w/ Bias} &= \\sum_{i=1}^{n} w_i \\cdot x_i + b \\\\\n",
    "\\text{Weighted Sum w/ Bias} &= w_1 \\cdot x_1 + w_2 \\cdot x_2 + . . . + w_n \\cdot x_n + b\n",
    "\\end{align*}\n",
    "$\n",
    "\n",
    "---\n",
    "\n",
    "```python\n",
    "inputs = [1.0, 2.0, 3.0, 2.5]\n",
    "weights = [0.2, 0.8, -0.5, 1.0]\n",
    "bias = 2.0\n",
    "\n",
    "# calculate the weighted sum of inputs and add the bias for each neuron\n",
    "output = [\n",
    "# Neuron 1: \n",
    "inputs[0]*weights[0] + inputs[1]*weights[1] + inputs[2]*weights[2] + inputs[3]*weights[3] + bias,\n",
    "]\n",
    "\n",
    "predictions = ActivationFunction(output)\n",
    "```\n",
    "\n",
    "In the context of binary classification using a sigmoid activation function, a prediction close to \"1\" typically indicates a positive class, while a prediction close to \"0\" indicates a negative class. Whether \"1\" or \"0\" is considered good or bad depends on the true label of the data point:\n",
    "\n",
    "- If the true label is \"1\" (positive class), a prediction close to \"1\" is good, and a prediction close to \"0\" is bad.\n",
    "- If the true label is \"0\" (negative class), a prediction close to \"0\" is good, and a prediction close to \"1\" is bad.\n",
    "\n"
   ]
  },
  {
   "cell_type": "markdown",
   "id": "aaaff353415c4224",
   "metadata": {},
   "source": [
    "### This example demonstrates how to calculate the output of a layer of neurons using a dot product.\n",
    "\n",
    "- The input data is a 1x4 matrix. Meaning we have 1 sample with 4 inputs.\n",
    "- The weights define the number of neurons in the layer. This layer has 3 neurons with 4 inputs each to match your input data.\n",
    "- The bias is a 1x3 matrix. Meaning we have 3 biases for the 3 neurons in the layer, in the shape of a 1x3 matrix and 1 input per neuron.\n",
    "- The output of the layer of neurons is a 1x3 matrix. Meaning we have 1 sample with 3 predictions.\n",
    "- The prediction is a sort of transformation of the output of the neurons in the layer.\n",
    "\n",
    "$\n",
    "\\begin{align*}\n",
    "O &= XW^T + B = \\begin{bmatrix} 1.0 & 2.0 & 3.0 & 2.5 \\end{bmatrix} \\begin{bmatrix} 0.2 & 0.5 & -0.26 \\\\ 0.8 & -0.91 & -0.27 \\\\ -0.5 & 0.26 & 0.17 \\\\ 1.0 & -0.5 & 0.87 \\end{bmatrix} + \\begin{bmatrix} 0.0 & 0.0 & 0.0 \\end{bmatrix} \\\\\n",
    "O &= \\begin{bmatrix} 2.8 & -1.79 & 1.885 \\end{bmatrix}\n",
    "\\end{align*}\n",
    "$\n",
    "\n",
    "Next, lets take a closer look at this matrix multiplication in algebraic form:\n",
    "\n",
    "$\n",
    "\\begin{align*}\n",
    "O &= \\begin{bmatrix} 1.0 \\cdot 0.2 + 2.0 \\cdot 0.8 + 3.0 \\cdot -0.5 + 2.5 \\cdot 1.0 & 1.0 \\cdot 0.5 + 2.0 \\cdot -0.91 + 3.0 \\cdot 0.26 + 2.5 \\cdot -0.5 & 1.0 \\cdot -0.26 + 2.0 \\cdot -0.27 + 3.0 \\cdot 0.17 + 2.5 \\cdot 0.87 \\end{bmatrix} + \\begin{bmatrix} 0.0 & 0.0 & 0.0 \\end{bmatrix} \\\\\n",
    "O &= \\begin{bmatrix} 2.8 & -1.79 & 1.885 \\end{bmatrix} + \\begin{bmatrix} 0.0 & 0.0 & 0.0 \\end{bmatrix} \\\\\n",
    "O &= \\begin{bmatrix} 2.8 & -1.79 & 1.885 \\end{bmatrix}\n",
    "\\end{align*}\n",
    "$\n"
   ]
  },
  {
   "cell_type": "code",
   "id": "d85c690bb74fb820",
   "metadata": {
    "ExecuteTime": {
     "end_time": "2024-09-11T18:33:32.762359Z",
     "start_time": "2024-09-11T18:33:32.754668Z"
    }
   },
   "source": [
    "# Layer of Neurons Example \n",
    "import numpy as np\n",
    "from src.functions.activation import Sigmoid\n",
    "\n",
    "# initialize the activation function\n",
    "sigmoid = Sigmoid()\n",
    "\n",
    "# Create the encoding sample input data\n",
    "encoded_inputs = np.array(\n",
    "    # Input sample 1: 1x4 matrix; 4 inputs for 4 neurons\n",
    "    [1.0, 2.0, 3.0, 2.5]\n",
    ")\n",
    "print(f\"Encoded Inputs: \\n{encoded_inputs}\")\n",
    "\n",
    "\n",
    "# Our weights define the number of neurons in the layer. This \n",
    "# layer has 3 neurons with 4 inputs each to match your input data.\n",
    "# initialize  weights and biases\n",
    "weights = np.array([\n",
    "    # Neuron 1: 4 inputs\n",
    "    [0.2, 0.8, -0.5, 1.0],\n",
    "    # Neuron 2: 4 inputs\n",
    "    [0.5, -0.91, 0.26, -0.5],\n",
    "    # Neuron 3: 4 inputs\n",
    "    [-0.26, -0.27, 0.17, 0.87]])\n",
    "print(f\"Weights: \\n{weights}\")\n",
    "\n",
    "# initialize random bias\n",
    "# This layer has 4 neurons, so we need 4 biases.\n",
    "# The bias is a 4x1 matrix. Meaning we have 4 biases for the 4 \n",
    "# neurons in the layer, in the shape of a 4x1 matrix and 1 input per neuron.\n",
    "bias  = np.array([[0.0, 0.0, 0.0]])\n",
    "print(f\"Bias: \\n{bias}\")\n",
    "\n",
    "# get the weighted sums of the inputs and add the bias\n",
    "# Here we model the neurons output using sample input data, \n",
    "# a vector that is passed to each neuron in the layer.\n",
    "outputs = np.dot(weights, encoded_inputs) + bias\n",
    "print(f\"Outputs: \\n{outputs}\") # Outputs: [[2.8, -1.79, 1.885]]\n",
    "\n",
    "# apply the activation function and get the predictions\n",
    "# The prediction is a sort of transformation of the output of the \n",
    "# neurons in the layer.\n",
    "predictions = sigmoid(outputs)\n",
    "print(f\"Predictions: \\n{predictions}\")\n",
    "\n",
    "# Error\n",
    "error_rate = 1 - predictions\n",
    "print(f\"Error Ratio: \\n{error_rate}\")"
   ],
   "outputs": [
    {
     "name": "stdout",
     "output_type": "stream",
     "text": [
      "Encoded Inputs: \n",
      "[1.  2.  3.  2.5]\n",
      "Weights: \n",
      "[[ 0.2   0.8  -0.5   1.  ]\n",
      " [ 0.5  -0.91  0.26 -0.5 ]\n",
      " [-0.26 -0.27  0.17  0.87]]\n",
      "Bias: \n",
      "[[0. 0. 0.]]\n",
      "Outputs: \n",
      "[[ 2.8   -1.79   1.885]]\n",
      "Predictions: \n",
      "[[0.94267582 0.14307272 0.86818438]]\n",
      "Error Ratio: \n",
      "[[0.05732418 0.85692728 0.13181562]]\n"
     ]
    }
   ],
   "execution_count": 67
  },
  {
   "cell_type": "markdown",
   "id": "c45de9b8f554abe7",
   "metadata": {},
   "source": [
    "\n",
    "### This example demonstrates how to calculate the output of a layer of neurons using a dot product.\n",
    "\n",
    "- The input data is a 3x4 matrix. Meaning we have 3 samples with 4 inputs each.\n",
    "- The weights define the number of neurons in the layer. This layer has 3 neurons with 4 inputs each to match your input data.\n",
    "- The bias is a 3x1 matrix. Meaning we have 3 biases for the 3 neurons in the layer, in the shape of a 3x1 matrix and 1 input per neuron.\n",
    "- The output of the layer of neurons is a 3x3 matrix. Meaning we have 3 samples with 3 predictions each.\n",
    "\n",
    "\n",
    "$\n",
    "\\begin{align*}\n",
    "O &= XW^T + B = \\begin{bmatrix} 1.0 & 2.0 & 3.0 & 2.5 \\\\ 2.0 & 5.0 & -1.0 & 2.0 \\\\ -1.5 & 2.7 & 3.3 & -0.8 \\end{bmatrix} \\begin{bmatrix} 0.2 & 0.5 & -0.26 \\\\ 0.8 & -0.91 & -0.27 \\\\ -0.5 & 0.26 & 0.17 \\\\ 1.0 & -0.5 & 0.87 \\end{bmatrix} + \\begin{bmatrix} 0.0 & 0.0 & 0.0 \\end{bmatrix} \\\\\n",
    "O &= \\begin{bmatrix} 2.8 & -1.79 & 1.885 \\\\ 6.9 & -4.81 & -0.3 \\\\ -0.59 & -1.949 & -0.474 \\end{bmatrix} + \\begin{bmatrix} 0.0 & 0.0 & 0.0 \\end{bmatrix} \\\\\\\\\n",
    "O &= \\begin{bmatrix} 2.8 & -1.79 & 1.885 \\\\ 6.9 & -4.81 & -0.3 \\\\ -0.59 & -1.949 & -0.474 \\end{bmatrix}\n",
    "\\end{align*}\n",
    "$"
   ]
  },
  {
   "cell_type": "code",
   "id": "e7705355e5e36c85",
   "metadata": {
    "ExecuteTime": {
     "end_time": "2024-09-11T18:33:32.912784Z",
     "start_time": "2024-09-11T18:33:32.900404Z"
    }
   },
   "source": [
    "# Layer of Neurons Example \n",
    "import numpy as np\n",
    "from src.functions.activation import Sigmoid\n",
    "\n",
    "# initialize the activation function\n",
    "sigmoid = Sigmoid()\n",
    "\n",
    "# Create the encoding sample input data\n",
    "# The input data is a 3x4 matrix. Meaning we have 3 samples with 4 inputs each.\n",
    "encoded_inputs = np.array([\n",
    "    # Input sample 1: 1x4 matrix; 4 inputs for 4 neurons\n",
    "    [1.0, 2.0, 3.0, 2.5],\n",
    "    # Input sample 2: 1x4 matrix; 4 inputs for 4 neurons\n",
    "    [2.0, 5.0, -1.0, 2.0],\n",
    "    # Input sample 3: 1x4 matrix; 4 inputs for 4 neurons\n",
    "    [-1.5, 2.7, 3.3, -0.8]\n",
    "])\n",
    "print(f\"Encoded Inputs: \\n{encoded_inputs}\")\n",
    "\n",
    "\n",
    "# Our weights define the number of neurons in the layer. This \n",
    "# layer has 3 neurons with 4 inputs each to match your input data.\n",
    "# initialize  weights and biases\n",
    "weights = np.array([\n",
    "    # Neuron 1: 4 inputs\n",
    "    [0.2, 0.8, -0.5, 1.0],\n",
    "    # Neuron 2: 4 inputs\n",
    "    [0.5, -0.91, 0.26, -0.5],\n",
    "    # Neuron 3: 4 inputs\n",
    "    [-0.26, -0.27, 0.17, 0.87]]).T\n",
    "print(f\"Weights: \\n{weights}\")\n",
    "\n",
    "# initialize random bias\n",
    "# This layer has 4 neurons, so we need 4 biases.\n",
    "# The bias is a 4x1 matrix. Meaning we have 4 biases for the 4 \n",
    "# neurons in the layer, in the shape of a 4x1 matrix and 1 input per neuron.\n",
    "bias  = np.array([[0.0, 0.0, 0.0]])\n",
    "print(f\"Bias: \\n{bias}\")\n",
    "\n",
    "# get the weighted sums of the inputs and add the bias\n",
    "# Here we model the neurons output using sample input data, \n",
    "# a vector that is passed to each neuron in the layer.\n",
    "# $O = XW^T + B &= \\begin{bmatrix} 1.0 & 2.0 & 3.0 & 2.5 \\\\ 2.0 & 5.0 & -1.0 & 2.0 \\\\ -1.5 & 2.7 & 3.3 & -0.8 \\end{bmatrix} \\begin{bmatrix} 0.2 & 0.5 & -0.26 \\\\ 0.8 & -0.91 & -0.27 \\\\ -0.5 & 0.26 & 0.17 \\\\ 1.0 & -0.5 & 0.87 \\end{bmatrix} + \\begin{bmatrix} 0.0 & 0.0 & 0.0 \\end{bmatrix}$\n",
    "outputs = np.dot(encoded_inputs, weights) + bias\n",
    "# Outputs: [[ 2.8   -1.79   1.885], [ 6.9   -4.81  -0.3  ], [-0.59  -1.949 -0.474]]\n",
    "print(f\"Outputs: \\n{outputs}\") \n",
    "\n",
    "# apply the activation function and get the predictions\n",
    "# The prediction is a sort of transformation of the output of the \n",
    "# neurons in the layer.\n",
    "predictions = sigmoid(outputs)\n",
    "print(f\"Predictions: \\n{predictions}\")\n",
    "\n",
    "# Error\n",
    "error_rate = 1 - predictions \n",
    "print(f\"Error Ratio: \\n{error_rate}\")"
   ],
   "outputs": [
    {
     "name": "stdout",
     "output_type": "stream",
     "text": [
      "Encoded Inputs: \n",
      "[[ 1.   2.   3.   2.5]\n",
      " [ 2.   5.  -1.   2. ]\n",
      " [-1.5  2.7  3.3 -0.8]]\n",
      "Weights: \n",
      "[[ 0.2   0.5  -0.26]\n",
      " [ 0.8  -0.91 -0.27]\n",
      " [-0.5   0.26  0.17]\n",
      " [ 1.   -0.5   0.87]]\n",
      "Bias: \n",
      "[[0. 0. 0.]]\n",
      "Outputs: \n",
      "[[ 2.8   -1.79   1.885]\n",
      " [ 6.9   -4.81  -0.3  ]\n",
      " [-0.59  -1.949 -0.474]]\n",
      "Predictions: \n",
      "[[0.94267582 0.14307272 0.86818438]\n",
      " [0.99899323 0.00808201 0.42555748]\n",
      " [0.35663485 0.12466244 0.38366994]]\n",
      "Error Ratio: \n",
      "[[0.05732418 0.85692728 0.13181562]\n",
      " [0.00100677 0.99191799 0.57444252]\n",
      " [0.64336515 0.87533756 0.61633006]]\n"
     ]
    }
   ],
   "execution_count": 68
  },
  {
   "cell_type": "code",
   "id": "ebe52e88d18caffa",
   "metadata": {
    "ExecuteTime": {
     "end_time": "2024-09-11T18:33:33.110729Z",
     "start_time": "2024-09-11T18:33:33.102095Z"
    }
   },
   "source": [
    "# Layer of Neurons Example \n",
    "import numpy as np\n",
    "from src.functions.activation import Sigmoid\n",
    "from src.encoder.label import encode as encode_labels\n",
    "\n",
    "# initialize the activation function\n",
    "sigmoid = Sigmoid()\n",
    "\n",
    "# convert the words to sums of Unicode values\n",
    "input_words = np.array(['Cat', 'Dog', 'Rabbit', 'Horse'])\n",
    "encoded_inputs = encode_labels(input_words)\n",
    "\n",
    "# Normalize inputs encodings\n",
    "encoded_inputs = encoded_inputs / np.linalg.norm(encoded_inputs)\n",
    "print(f\"Encoded Inputs: \\n{encoded_inputs}\")\n",
    "\n",
    "# initialize seed for reproducibility\n",
    "np.random.seed(10)\n",
    "\n",
    "\n",
    "# TODO: Our weights define the number of neurons in the layer. This layer has 3 neurons with 4 inputs each to match your input data. In the 'np.random.rand(3, 4)' function, the first argument is the number of neurons in the layer, and the second argument is the number of inputs to each neuron.\n",
    "# initialize random weights and biases\n",
    "weights = np.random.rand(4, 4)\n",
    "print(f\"Weights: \\n{weights}\")\n",
    "\n",
    "# initialize random bias\n",
    "# This layer has 4 neurons, so we need 4 biases.\n",
    "# The bias is a 4x1 matrix. Meaning we have 4 biases for the 4 neurons in the layer, in the shape of a 4x1 matrix and 1 input per neuron.\n",
    "bias  = np.random.rand(1, 4)\n",
    "print(f\"Bias: \\n{bias}\")\n",
    "\n",
    "# convert the words to sums of Unicode values\n",
    "labels = np.array(['Cat', 'Dog', 'Rabbit', 'Horse'])\n",
    "encoded_labels = encode_labels(labels)\n",
    "# Normalize the encoded labels\n",
    "encoded_labels = encoded_labels / np.linalg.norm(encoded_labels)\n",
    "print(f\"Labels: \\n{labels}\")\n",
    "print(f\"Encoded Labels: \\n{encoded_labels}\")\n",
    "\n",
    "# get the weighted sums of the inputs and add the bias\n",
    "outputs = np.dot(weights, encoded_inputs.T) + bias.T\n",
    "\n",
    "# outputs = np.array([np.mean(n) for n in (np.dot(weights, encoded_inputs.T) + bias).tolist()])\n",
    "print(f\"Outputs: \\n{outputs}\")\n",
    "\n",
    "# apply the activation function and get the predictions\n",
    "# The prediction is a sort of transformation of the output of the neurons in the layer.\n",
    "predictions = sigmoid(outputs)\n",
    "print(f\"Predictions: \\n{predictions}\")\n",
    "\n",
    "# Error\n",
    "error_rate = (1 - predictions)\n",
    "print(f\"Error Ratio: \\n{error_rate}\")"
   ],
   "outputs": [
    {
     "name": "stdout",
     "output_type": "stream",
     "text": [
      "Encoded Inputs: \n",
      "[[0.49241444 0.49557093 0.49557093 0.5160882 ]]\n",
      "Weights: \n",
      "[[0.77132064 0.02075195 0.63364823 0.74880388]\n",
      " [0.49850701 0.22479665 0.19806286 0.76053071]\n",
      " [0.16911084 0.08833981 0.68535982 0.95339335]\n",
      " [0.00394827 0.51219226 0.81262096 0.61252607]]\n",
      "Bias: \n",
      "[[0.72175532 0.29187607 0.91777412 0.71457578]]\n",
      "Labels: \n",
      "['Cat' 'Dog' 'Rabbit' 'Horse']\n",
      "Encoded Labels: \n",
      "[[0.49241444 0.49557093 0.49557093 0.5160882 ]]\n",
      "Outputs: \n",
      "[[1.81231529]\n",
      " [1.13940592]\n",
      " [1.87650483]\n",
      " [1.68917635]]\n",
      "Predictions: \n",
      "[[0.85964147]\n",
      " [0.75757055]\n",
      " [0.86720915]\n",
      " [0.84411581]]\n",
      "Error Ratio: \n",
      "[[0.14035853]\n",
      " [0.24242945]\n",
      " [0.13279085]\n",
      " [0.15588419]]\n"
     ]
    }
   ],
   "execution_count": 69
  },
  {
   "cell_type": "code",
   "id": "a131bfe5a9629d2b",
   "metadata": {
    "ExecuteTime": {
     "end_time": "2024-09-11T18:33:33.315542Z",
     "start_time": "2024-09-11T18:33:33.299490Z"
    }
   },
   "source": [
    "# Graph the error on a line plot\n",
    "from plotly import graph_objects as go\n",
    "\n",
    "fig = go.Figure()\n",
    "print(f\"Labels: {labels}\")\n",
    "print(f\"Error Ratio: {error_rate[:,0]}\")\n",
    "fig.add_trace(\n",
    "    go.Scatter(\n",
    "        x=labels, y=error_rate[:, 0], mode='lines+markers', \n",
    "    xaxis='x', yaxis='y', name='Outputs'\n",
    "    ))\n",
    "fig.update_layout(title='Error Ratio', xaxis_title='Labels', yaxis_title='Error')\n",
    "fig.show()"
   ],
   "outputs": [
    {
     "name": "stdout",
     "output_type": "stream",
     "text": [
      "Labels: ['Cat' 'Dog' 'Rabbit' 'Horse']\n",
      "Error Ratio: [0.14035853 0.24242945 0.13279085 0.15588419]\n"
     ]
    },
    {
     "data": {
      "application/vnd.plotly.v1+json": {
       "data": [
        {
         "mode": "lines+markers",
         "name": "Outputs",
         "x": [
          "Cat",
          "Dog",
          "Rabbit",
          "Horse"
         ],
         "xaxis": "x",
         "y": [
          0.1403585348899783,
          0.24242945174972097,
          0.1327908520260246,
          0.155884188338956
         ],
         "yaxis": "y",
         "type": "scatter"
        }
       ],
       "layout": {
        "template": {
         "data": {
          "histogram2dcontour": [
           {
            "type": "histogram2dcontour",
            "colorbar": {
             "outlinewidth": 0,
             "ticks": ""
            },
            "colorscale": [
             [
              0.0,
              "#0d0887"
             ],
             [
              0.1111111111111111,
              "#46039f"
             ],
             [
              0.2222222222222222,
              "#7201a8"
             ],
             [
              0.3333333333333333,
              "#9c179e"
             ],
             [
              0.4444444444444444,
              "#bd3786"
             ],
             [
              0.5555555555555556,
              "#d8576b"
             ],
             [
              0.6666666666666666,
              "#ed7953"
             ],
             [
              0.7777777777777778,
              "#fb9f3a"
             ],
             [
              0.8888888888888888,
              "#fdca26"
             ],
             [
              1.0,
              "#f0f921"
             ]
            ]
           }
          ],
          "choropleth": [
           {
            "type": "choropleth",
            "colorbar": {
             "outlinewidth": 0,
             "ticks": ""
            }
           }
          ],
          "histogram2d": [
           {
            "type": "histogram2d",
            "colorbar": {
             "outlinewidth": 0,
             "ticks": ""
            },
            "colorscale": [
             [
              0.0,
              "#0d0887"
             ],
             [
              0.1111111111111111,
              "#46039f"
             ],
             [
              0.2222222222222222,
              "#7201a8"
             ],
             [
              0.3333333333333333,
              "#9c179e"
             ],
             [
              0.4444444444444444,
              "#bd3786"
             ],
             [
              0.5555555555555556,
              "#d8576b"
             ],
             [
              0.6666666666666666,
              "#ed7953"
             ],
             [
              0.7777777777777778,
              "#fb9f3a"
             ],
             [
              0.8888888888888888,
              "#fdca26"
             ],
             [
              1.0,
              "#f0f921"
             ]
            ]
           }
          ],
          "heatmap": [
           {
            "type": "heatmap",
            "colorbar": {
             "outlinewidth": 0,
             "ticks": ""
            },
            "colorscale": [
             [
              0.0,
              "#0d0887"
             ],
             [
              0.1111111111111111,
              "#46039f"
             ],
             [
              0.2222222222222222,
              "#7201a8"
             ],
             [
              0.3333333333333333,
              "#9c179e"
             ],
             [
              0.4444444444444444,
              "#bd3786"
             ],
             [
              0.5555555555555556,
              "#d8576b"
             ],
             [
              0.6666666666666666,
              "#ed7953"
             ],
             [
              0.7777777777777778,
              "#fb9f3a"
             ],
             [
              0.8888888888888888,
              "#fdca26"
             ],
             [
              1.0,
              "#f0f921"
             ]
            ]
           }
          ],
          "heatmapgl": [
           {
            "type": "heatmapgl",
            "colorbar": {
             "outlinewidth": 0,
             "ticks": ""
            },
            "colorscale": [
             [
              0.0,
              "#0d0887"
             ],
             [
              0.1111111111111111,
              "#46039f"
             ],
             [
              0.2222222222222222,
              "#7201a8"
             ],
             [
              0.3333333333333333,
              "#9c179e"
             ],
             [
              0.4444444444444444,
              "#bd3786"
             ],
             [
              0.5555555555555556,
              "#d8576b"
             ],
             [
              0.6666666666666666,
              "#ed7953"
             ],
             [
              0.7777777777777778,
              "#fb9f3a"
             ],
             [
              0.8888888888888888,
              "#fdca26"
             ],
             [
              1.0,
              "#f0f921"
             ]
            ]
           }
          ],
          "contourcarpet": [
           {
            "type": "contourcarpet",
            "colorbar": {
             "outlinewidth": 0,
             "ticks": ""
            }
           }
          ],
          "contour": [
           {
            "type": "contour",
            "colorbar": {
             "outlinewidth": 0,
             "ticks": ""
            },
            "colorscale": [
             [
              0.0,
              "#0d0887"
             ],
             [
              0.1111111111111111,
              "#46039f"
             ],
             [
              0.2222222222222222,
              "#7201a8"
             ],
             [
              0.3333333333333333,
              "#9c179e"
             ],
             [
              0.4444444444444444,
              "#bd3786"
             ],
             [
              0.5555555555555556,
              "#d8576b"
             ],
             [
              0.6666666666666666,
              "#ed7953"
             ],
             [
              0.7777777777777778,
              "#fb9f3a"
             ],
             [
              0.8888888888888888,
              "#fdca26"
             ],
             [
              1.0,
              "#f0f921"
             ]
            ]
           }
          ],
          "surface": [
           {
            "type": "surface",
            "colorbar": {
             "outlinewidth": 0,
             "ticks": ""
            },
            "colorscale": [
             [
              0.0,
              "#0d0887"
             ],
             [
              0.1111111111111111,
              "#46039f"
             ],
             [
              0.2222222222222222,
              "#7201a8"
             ],
             [
              0.3333333333333333,
              "#9c179e"
             ],
             [
              0.4444444444444444,
              "#bd3786"
             ],
             [
              0.5555555555555556,
              "#d8576b"
             ],
             [
              0.6666666666666666,
              "#ed7953"
             ],
             [
              0.7777777777777778,
              "#fb9f3a"
             ],
             [
              0.8888888888888888,
              "#fdca26"
             ],
             [
              1.0,
              "#f0f921"
             ]
            ]
           }
          ],
          "mesh3d": [
           {
            "type": "mesh3d",
            "colorbar": {
             "outlinewidth": 0,
             "ticks": ""
            }
           }
          ],
          "scatter": [
           {
            "marker": {
             "line": {
              "color": "#283442"
             }
            },
            "type": "scatter"
           }
          ],
          "parcoords": [
           {
            "type": "parcoords",
            "line": {
             "colorbar": {
              "outlinewidth": 0,
              "ticks": ""
             }
            }
           }
          ],
          "scatterpolargl": [
           {
            "type": "scatterpolargl",
            "marker": {
             "colorbar": {
              "outlinewidth": 0,
              "ticks": ""
             }
            }
           }
          ],
          "bar": [
           {
            "error_x": {
             "color": "#f2f5fa"
            },
            "error_y": {
             "color": "#f2f5fa"
            },
            "marker": {
             "line": {
              "color": "rgb(17,17,17)",
              "width": 0.5
             },
             "pattern": {
              "fillmode": "overlay",
              "size": 10,
              "solidity": 0.2
             }
            },
            "type": "bar"
           }
          ],
          "scattergeo": [
           {
            "type": "scattergeo",
            "marker": {
             "colorbar": {
              "outlinewidth": 0,
              "ticks": ""
             }
            }
           }
          ],
          "scatterpolar": [
           {
            "type": "scatterpolar",
            "marker": {
             "colorbar": {
              "outlinewidth": 0,
              "ticks": ""
             }
            }
           }
          ],
          "histogram": [
           {
            "marker": {
             "pattern": {
              "fillmode": "overlay",
              "size": 10,
              "solidity": 0.2
             }
            },
            "type": "histogram"
           }
          ],
          "scattergl": [
           {
            "marker": {
             "line": {
              "color": "#283442"
             }
            },
            "type": "scattergl"
           }
          ],
          "scatter3d": [
           {
            "type": "scatter3d",
            "line": {
             "colorbar": {
              "outlinewidth": 0,
              "ticks": ""
             }
            },
            "marker": {
             "colorbar": {
              "outlinewidth": 0,
              "ticks": ""
             }
            }
           }
          ],
          "scattermapbox": [
           {
            "type": "scattermapbox",
            "marker": {
             "colorbar": {
              "outlinewidth": 0,
              "ticks": ""
             }
            }
           }
          ],
          "scatterternary": [
           {
            "type": "scatterternary",
            "marker": {
             "colorbar": {
              "outlinewidth": 0,
              "ticks": ""
             }
            }
           }
          ],
          "scattercarpet": [
           {
            "type": "scattercarpet",
            "marker": {
             "colorbar": {
              "outlinewidth": 0,
              "ticks": ""
             }
            }
           }
          ],
          "carpet": [
           {
            "aaxis": {
             "endlinecolor": "#A2B1C6",
             "gridcolor": "#506784",
             "linecolor": "#506784",
             "minorgridcolor": "#506784",
             "startlinecolor": "#A2B1C6"
            },
            "baxis": {
             "endlinecolor": "#A2B1C6",
             "gridcolor": "#506784",
             "linecolor": "#506784",
             "minorgridcolor": "#506784",
             "startlinecolor": "#A2B1C6"
            },
            "type": "carpet"
           }
          ],
          "table": [
           {
            "cells": {
             "fill": {
              "color": "#506784"
             },
             "line": {
              "color": "rgb(17,17,17)"
             }
            },
            "header": {
             "fill": {
              "color": "#2a3f5f"
             },
             "line": {
              "color": "rgb(17,17,17)"
             }
            },
            "type": "table"
           }
          ],
          "barpolar": [
           {
            "marker": {
             "line": {
              "color": "rgb(17,17,17)",
              "width": 0.5
             },
             "pattern": {
              "fillmode": "overlay",
              "size": 10,
              "solidity": 0.2
             }
            },
            "type": "barpolar"
           }
          ],
          "pie": [
           {
            "automargin": true,
            "type": "pie"
           }
          ]
         },
         "layout": {
          "autotypenumbers": "strict",
          "colorway": [
           "#636efa",
           "#EF553B",
           "#00cc96",
           "#ab63fa",
           "#FFA15A",
           "#19d3f3",
           "#FF6692",
           "#B6E880",
           "#FF97FF",
           "#FECB52"
          ],
          "font": {
           "color": "#f2f5fa"
          },
          "hovermode": "closest",
          "hoverlabel": {
           "align": "left"
          },
          "paper_bgcolor": "rgb(17,17,17)",
          "plot_bgcolor": "rgb(17,17,17)",
          "polar": {
           "bgcolor": "rgb(17,17,17)",
           "angularaxis": {
            "gridcolor": "#506784",
            "linecolor": "#506784",
            "ticks": ""
           },
           "radialaxis": {
            "gridcolor": "#506784",
            "linecolor": "#506784",
            "ticks": ""
           }
          },
          "ternary": {
           "bgcolor": "rgb(17,17,17)",
           "aaxis": {
            "gridcolor": "#506784",
            "linecolor": "#506784",
            "ticks": ""
           },
           "baxis": {
            "gridcolor": "#506784",
            "linecolor": "#506784",
            "ticks": ""
           },
           "caxis": {
            "gridcolor": "#506784",
            "linecolor": "#506784",
            "ticks": ""
           }
          },
          "coloraxis": {
           "colorbar": {
            "outlinewidth": 0,
            "ticks": ""
           }
          },
          "colorscale": {
           "sequential": [
            [
             0.0,
             "#0d0887"
            ],
            [
             0.1111111111111111,
             "#46039f"
            ],
            [
             0.2222222222222222,
             "#7201a8"
            ],
            [
             0.3333333333333333,
             "#9c179e"
            ],
            [
             0.4444444444444444,
             "#bd3786"
            ],
            [
             0.5555555555555556,
             "#d8576b"
            ],
            [
             0.6666666666666666,
             "#ed7953"
            ],
            [
             0.7777777777777778,
             "#fb9f3a"
            ],
            [
             0.8888888888888888,
             "#fdca26"
            ],
            [
             1.0,
             "#f0f921"
            ]
           ],
           "sequentialminus": [
            [
             0.0,
             "#0d0887"
            ],
            [
             0.1111111111111111,
             "#46039f"
            ],
            [
             0.2222222222222222,
             "#7201a8"
            ],
            [
             0.3333333333333333,
             "#9c179e"
            ],
            [
             0.4444444444444444,
             "#bd3786"
            ],
            [
             0.5555555555555556,
             "#d8576b"
            ],
            [
             0.6666666666666666,
             "#ed7953"
            ],
            [
             0.7777777777777778,
             "#fb9f3a"
            ],
            [
             0.8888888888888888,
             "#fdca26"
            ],
            [
             1.0,
             "#f0f921"
            ]
           ],
           "diverging": [
            [
             0,
             "#8e0152"
            ],
            [
             0.1,
             "#c51b7d"
            ],
            [
             0.2,
             "#de77ae"
            ],
            [
             0.3,
             "#f1b6da"
            ],
            [
             0.4,
             "#fde0ef"
            ],
            [
             0.5,
             "#f7f7f7"
            ],
            [
             0.6,
             "#e6f5d0"
            ],
            [
             0.7,
             "#b8e186"
            ],
            [
             0.8,
             "#7fbc41"
            ],
            [
             0.9,
             "#4d9221"
            ],
            [
             1,
             "#276419"
            ]
           ]
          },
          "xaxis": {
           "gridcolor": "#283442",
           "linecolor": "#506784",
           "ticks": "",
           "title": {
            "standoff": 15
           },
           "zerolinecolor": "#283442",
           "automargin": true,
           "zerolinewidth": 2
          },
          "yaxis": {
           "gridcolor": "#283442",
           "linecolor": "#506784",
           "ticks": "",
           "title": {
            "standoff": 15
           },
           "zerolinecolor": "#283442",
           "automargin": true,
           "zerolinewidth": 2
          },
          "scene": {
           "xaxis": {
            "backgroundcolor": "rgb(17,17,17)",
            "gridcolor": "#506784",
            "linecolor": "#506784",
            "showbackground": true,
            "ticks": "",
            "zerolinecolor": "#C8D4E3",
            "gridwidth": 2
           },
           "yaxis": {
            "backgroundcolor": "rgb(17,17,17)",
            "gridcolor": "#506784",
            "linecolor": "#506784",
            "showbackground": true,
            "ticks": "",
            "zerolinecolor": "#C8D4E3",
            "gridwidth": 2
           },
           "zaxis": {
            "backgroundcolor": "rgb(17,17,17)",
            "gridcolor": "#506784",
            "linecolor": "#506784",
            "showbackground": true,
            "ticks": "",
            "zerolinecolor": "#C8D4E3",
            "gridwidth": 2
           }
          },
          "shapedefaults": {
           "line": {
            "color": "#f2f5fa"
           }
          },
          "annotationdefaults": {
           "arrowcolor": "#f2f5fa",
           "arrowhead": 0,
           "arrowwidth": 1
          },
          "geo": {
           "bgcolor": "rgb(17,17,17)",
           "landcolor": "rgb(17,17,17)",
           "subunitcolor": "#506784",
           "showland": true,
           "showlakes": true,
           "lakecolor": "rgb(17,17,17)"
          },
          "title": {
           "x": 0.05
          },
          "updatemenudefaults": {
           "bgcolor": "#506784",
           "borderwidth": 0
          },
          "sliderdefaults": {
           "bgcolor": "#C8D4E3",
           "borderwidth": 1,
           "bordercolor": "rgb(17,17,17)",
           "tickwidth": 0
          },
          "mapbox": {
           "style": "dark"
          }
         }
        },
        "title": {
         "text": "Error Ratio"
        },
        "xaxis": {
         "title": {
          "text": "Labels"
         }
        },
        "yaxis": {
         "title": {
          "text": "Error"
         }
        }
       },
       "config": {
        "plotlyServerURL": "https://plot.ly"
       }
      },
      "text/html": [
       "<div>                            <div id=\"121eb7e7-860c-488c-b656-4be171cf0335\" class=\"plotly-graph-div\" style=\"height:525px; width:100%;\"></div>            <script type=\"text/javascript\">                require([\"plotly\"], function(Plotly) {                    window.PLOTLYENV=window.PLOTLYENV || {};                                    if (document.getElementById(\"121eb7e7-860c-488c-b656-4be171cf0335\")) {                    Plotly.newPlot(                        \"121eb7e7-860c-488c-b656-4be171cf0335\",                        [{\"mode\":\"lines+markers\",\"name\":\"Outputs\",\"x\":[\"Cat\",\"Dog\",\"Rabbit\",\"Horse\"],\"xaxis\":\"x\",\"y\":[0.1403585348899783,0.24242945174972097,0.1327908520260246,0.155884188338956],\"yaxis\":\"y\",\"type\":\"scatter\"}],                        {\"template\":{\"data\":{\"histogram2dcontour\":[{\"type\":\"histogram2dcontour\",\"colorbar\":{\"outlinewidth\":0,\"ticks\":\"\"},\"colorscale\":[[0.0,\"#0d0887\"],[0.1111111111111111,\"#46039f\"],[0.2222222222222222,\"#7201a8\"],[0.3333333333333333,\"#9c179e\"],[0.4444444444444444,\"#bd3786\"],[0.5555555555555556,\"#d8576b\"],[0.6666666666666666,\"#ed7953\"],[0.7777777777777778,\"#fb9f3a\"],[0.8888888888888888,\"#fdca26\"],[1.0,\"#f0f921\"]]}],\"choropleth\":[{\"type\":\"choropleth\",\"colorbar\":{\"outlinewidth\":0,\"ticks\":\"\"}}],\"histogram2d\":[{\"type\":\"histogram2d\",\"colorbar\":{\"outlinewidth\":0,\"ticks\":\"\"},\"colorscale\":[[0.0,\"#0d0887\"],[0.1111111111111111,\"#46039f\"],[0.2222222222222222,\"#7201a8\"],[0.3333333333333333,\"#9c179e\"],[0.4444444444444444,\"#bd3786\"],[0.5555555555555556,\"#d8576b\"],[0.6666666666666666,\"#ed7953\"],[0.7777777777777778,\"#fb9f3a\"],[0.8888888888888888,\"#fdca26\"],[1.0,\"#f0f921\"]]}],\"heatmap\":[{\"type\":\"heatmap\",\"colorbar\":{\"outlinewidth\":0,\"ticks\":\"\"},\"colorscale\":[[0.0,\"#0d0887\"],[0.1111111111111111,\"#46039f\"],[0.2222222222222222,\"#7201a8\"],[0.3333333333333333,\"#9c179e\"],[0.4444444444444444,\"#bd3786\"],[0.5555555555555556,\"#d8576b\"],[0.6666666666666666,\"#ed7953\"],[0.7777777777777778,\"#fb9f3a\"],[0.8888888888888888,\"#fdca26\"],[1.0,\"#f0f921\"]]}],\"heatmapgl\":[{\"type\":\"heatmapgl\",\"colorbar\":{\"outlinewidth\":0,\"ticks\":\"\"},\"colorscale\":[[0.0,\"#0d0887\"],[0.1111111111111111,\"#46039f\"],[0.2222222222222222,\"#7201a8\"],[0.3333333333333333,\"#9c179e\"],[0.4444444444444444,\"#bd3786\"],[0.5555555555555556,\"#d8576b\"],[0.6666666666666666,\"#ed7953\"],[0.7777777777777778,\"#fb9f3a\"],[0.8888888888888888,\"#fdca26\"],[1.0,\"#f0f921\"]]}],\"contourcarpet\":[{\"type\":\"contourcarpet\",\"colorbar\":{\"outlinewidth\":0,\"ticks\":\"\"}}],\"contour\":[{\"type\":\"contour\",\"colorbar\":{\"outlinewidth\":0,\"ticks\":\"\"},\"colorscale\":[[0.0,\"#0d0887\"],[0.1111111111111111,\"#46039f\"],[0.2222222222222222,\"#7201a8\"],[0.3333333333333333,\"#9c179e\"],[0.4444444444444444,\"#bd3786\"],[0.5555555555555556,\"#d8576b\"],[0.6666666666666666,\"#ed7953\"],[0.7777777777777778,\"#fb9f3a\"],[0.8888888888888888,\"#fdca26\"],[1.0,\"#f0f921\"]]}],\"surface\":[{\"type\":\"surface\",\"colorbar\":{\"outlinewidth\":0,\"ticks\":\"\"},\"colorscale\":[[0.0,\"#0d0887\"],[0.1111111111111111,\"#46039f\"],[0.2222222222222222,\"#7201a8\"],[0.3333333333333333,\"#9c179e\"],[0.4444444444444444,\"#bd3786\"],[0.5555555555555556,\"#d8576b\"],[0.6666666666666666,\"#ed7953\"],[0.7777777777777778,\"#fb9f3a\"],[0.8888888888888888,\"#fdca26\"],[1.0,\"#f0f921\"]]}],\"mesh3d\":[{\"type\":\"mesh3d\",\"colorbar\":{\"outlinewidth\":0,\"ticks\":\"\"}}],\"scatter\":[{\"marker\":{\"line\":{\"color\":\"#283442\"}},\"type\":\"scatter\"}],\"parcoords\":[{\"type\":\"parcoords\",\"line\":{\"colorbar\":{\"outlinewidth\":0,\"ticks\":\"\"}}}],\"scatterpolargl\":[{\"type\":\"scatterpolargl\",\"marker\":{\"colorbar\":{\"outlinewidth\":0,\"ticks\":\"\"}}}],\"bar\":[{\"error_x\":{\"color\":\"#f2f5fa\"},\"error_y\":{\"color\":\"#f2f5fa\"},\"marker\":{\"line\":{\"color\":\"rgb(17,17,17)\",\"width\":0.5},\"pattern\":{\"fillmode\":\"overlay\",\"size\":10,\"solidity\":0.2}},\"type\":\"bar\"}],\"scattergeo\":[{\"type\":\"scattergeo\",\"marker\":{\"colorbar\":{\"outlinewidth\":0,\"ticks\":\"\"}}}],\"scatterpolar\":[{\"type\":\"scatterpolar\",\"marker\":{\"colorbar\":{\"outlinewidth\":0,\"ticks\":\"\"}}}],\"histogram\":[{\"marker\":{\"pattern\":{\"fillmode\":\"overlay\",\"size\":10,\"solidity\":0.2}},\"type\":\"histogram\"}],\"scattergl\":[{\"marker\":{\"line\":{\"color\":\"#283442\"}},\"type\":\"scattergl\"}],\"scatter3d\":[{\"type\":\"scatter3d\",\"line\":{\"colorbar\":{\"outlinewidth\":0,\"ticks\":\"\"}},\"marker\":{\"colorbar\":{\"outlinewidth\":0,\"ticks\":\"\"}}}],\"scattermapbox\":[{\"type\":\"scattermapbox\",\"marker\":{\"colorbar\":{\"outlinewidth\":0,\"ticks\":\"\"}}}],\"scatterternary\":[{\"type\":\"scatterternary\",\"marker\":{\"colorbar\":{\"outlinewidth\":0,\"ticks\":\"\"}}}],\"scattercarpet\":[{\"type\":\"scattercarpet\",\"marker\":{\"colorbar\":{\"outlinewidth\":0,\"ticks\":\"\"}}}],\"carpet\":[{\"aaxis\":{\"endlinecolor\":\"#A2B1C6\",\"gridcolor\":\"#506784\",\"linecolor\":\"#506784\",\"minorgridcolor\":\"#506784\",\"startlinecolor\":\"#A2B1C6\"},\"baxis\":{\"endlinecolor\":\"#A2B1C6\",\"gridcolor\":\"#506784\",\"linecolor\":\"#506784\",\"minorgridcolor\":\"#506784\",\"startlinecolor\":\"#A2B1C6\"},\"type\":\"carpet\"}],\"table\":[{\"cells\":{\"fill\":{\"color\":\"#506784\"},\"line\":{\"color\":\"rgb(17,17,17)\"}},\"header\":{\"fill\":{\"color\":\"#2a3f5f\"},\"line\":{\"color\":\"rgb(17,17,17)\"}},\"type\":\"table\"}],\"barpolar\":[{\"marker\":{\"line\":{\"color\":\"rgb(17,17,17)\",\"width\":0.5},\"pattern\":{\"fillmode\":\"overlay\",\"size\":10,\"solidity\":0.2}},\"type\":\"barpolar\"}],\"pie\":[{\"automargin\":true,\"type\":\"pie\"}]},\"layout\":{\"autotypenumbers\":\"strict\",\"colorway\":[\"#636efa\",\"#EF553B\",\"#00cc96\",\"#ab63fa\",\"#FFA15A\",\"#19d3f3\",\"#FF6692\",\"#B6E880\",\"#FF97FF\",\"#FECB52\"],\"font\":{\"color\":\"#f2f5fa\"},\"hovermode\":\"closest\",\"hoverlabel\":{\"align\":\"left\"},\"paper_bgcolor\":\"rgb(17,17,17)\",\"plot_bgcolor\":\"rgb(17,17,17)\",\"polar\":{\"bgcolor\":\"rgb(17,17,17)\",\"angularaxis\":{\"gridcolor\":\"#506784\",\"linecolor\":\"#506784\",\"ticks\":\"\"},\"radialaxis\":{\"gridcolor\":\"#506784\",\"linecolor\":\"#506784\",\"ticks\":\"\"}},\"ternary\":{\"bgcolor\":\"rgb(17,17,17)\",\"aaxis\":{\"gridcolor\":\"#506784\",\"linecolor\":\"#506784\",\"ticks\":\"\"},\"baxis\":{\"gridcolor\":\"#506784\",\"linecolor\":\"#506784\",\"ticks\":\"\"},\"caxis\":{\"gridcolor\":\"#506784\",\"linecolor\":\"#506784\",\"ticks\":\"\"}},\"coloraxis\":{\"colorbar\":{\"outlinewidth\":0,\"ticks\":\"\"}},\"colorscale\":{\"sequential\":[[0.0,\"#0d0887\"],[0.1111111111111111,\"#46039f\"],[0.2222222222222222,\"#7201a8\"],[0.3333333333333333,\"#9c179e\"],[0.4444444444444444,\"#bd3786\"],[0.5555555555555556,\"#d8576b\"],[0.6666666666666666,\"#ed7953\"],[0.7777777777777778,\"#fb9f3a\"],[0.8888888888888888,\"#fdca26\"],[1.0,\"#f0f921\"]],\"sequentialminus\":[[0.0,\"#0d0887\"],[0.1111111111111111,\"#46039f\"],[0.2222222222222222,\"#7201a8\"],[0.3333333333333333,\"#9c179e\"],[0.4444444444444444,\"#bd3786\"],[0.5555555555555556,\"#d8576b\"],[0.6666666666666666,\"#ed7953\"],[0.7777777777777778,\"#fb9f3a\"],[0.8888888888888888,\"#fdca26\"],[1.0,\"#f0f921\"]],\"diverging\":[[0,\"#8e0152\"],[0.1,\"#c51b7d\"],[0.2,\"#de77ae\"],[0.3,\"#f1b6da\"],[0.4,\"#fde0ef\"],[0.5,\"#f7f7f7\"],[0.6,\"#e6f5d0\"],[0.7,\"#b8e186\"],[0.8,\"#7fbc41\"],[0.9,\"#4d9221\"],[1,\"#276419\"]]},\"xaxis\":{\"gridcolor\":\"#283442\",\"linecolor\":\"#506784\",\"ticks\":\"\",\"title\":{\"standoff\":15},\"zerolinecolor\":\"#283442\",\"automargin\":true,\"zerolinewidth\":2},\"yaxis\":{\"gridcolor\":\"#283442\",\"linecolor\":\"#506784\",\"ticks\":\"\",\"title\":{\"standoff\":15},\"zerolinecolor\":\"#283442\",\"automargin\":true,\"zerolinewidth\":2},\"scene\":{\"xaxis\":{\"backgroundcolor\":\"rgb(17,17,17)\",\"gridcolor\":\"#506784\",\"linecolor\":\"#506784\",\"showbackground\":true,\"ticks\":\"\",\"zerolinecolor\":\"#C8D4E3\",\"gridwidth\":2},\"yaxis\":{\"backgroundcolor\":\"rgb(17,17,17)\",\"gridcolor\":\"#506784\",\"linecolor\":\"#506784\",\"showbackground\":true,\"ticks\":\"\",\"zerolinecolor\":\"#C8D4E3\",\"gridwidth\":2},\"zaxis\":{\"backgroundcolor\":\"rgb(17,17,17)\",\"gridcolor\":\"#506784\",\"linecolor\":\"#506784\",\"showbackground\":true,\"ticks\":\"\",\"zerolinecolor\":\"#C8D4E3\",\"gridwidth\":2}},\"shapedefaults\":{\"line\":{\"color\":\"#f2f5fa\"}},\"annotationdefaults\":{\"arrowcolor\":\"#f2f5fa\",\"arrowhead\":0,\"arrowwidth\":1},\"geo\":{\"bgcolor\":\"rgb(17,17,17)\",\"landcolor\":\"rgb(17,17,17)\",\"subunitcolor\":\"#506784\",\"showland\":true,\"showlakes\":true,\"lakecolor\":\"rgb(17,17,17)\"},\"title\":{\"x\":0.05},\"updatemenudefaults\":{\"bgcolor\":\"#506784\",\"borderwidth\":0},\"sliderdefaults\":{\"bgcolor\":\"#C8D4E3\",\"borderwidth\":1,\"bordercolor\":\"rgb(17,17,17)\",\"tickwidth\":0},\"mapbox\":{\"style\":\"dark\"}}},\"title\":{\"text\":\"Error Ratio\"},\"xaxis\":{\"title\":{\"text\":\"Labels\"}},\"yaxis\":{\"title\":{\"text\":\"Error\"}}},                        {\"responsive\": true}                    ).then(function(){\n",
       "                            \n",
       "var gd = document.getElementById('121eb7e7-860c-488c-b656-4be171cf0335');\n",
       "var x = new MutationObserver(function (mutations, observer) {{\n",
       "        var display = window.getComputedStyle(gd).display;\n",
       "        if (!display || display === 'none') {{\n",
       "            console.log([gd, 'removed!']);\n",
       "            Plotly.purge(gd);\n",
       "            observer.disconnect();\n",
       "        }}\n",
       "}});\n",
       "\n",
       "// Listen for the removal of the full notebook cells\n",
       "var notebookContainer = gd.closest('#notebook-container');\n",
       "if (notebookContainer) {{\n",
       "    x.observe(notebookContainer, {childList: true});\n",
       "}}\n",
       "\n",
       "// Listen for the clearing of the current output cell\n",
       "var outputEl = gd.closest('.output');\n",
       "if (outputEl) {{\n",
       "    x.observe(outputEl, {childList: true});\n",
       "}}\n",
       "\n",
       "                        })                };                });            </script>        </div>"
      ]
     },
     "metadata": {},
     "output_type": "display_data"
    }
   ],
   "execution_count": 70
  },
  {
   "cell_type": "code",
   "id": "daafd12053f1a968",
   "metadata": {
    "ExecuteTime": {
     "end_time": "2024-09-11T18:33:33.735254Z",
     "start_time": "2024-09-11T18:33:33.728267Z"
    }
   },
   "source": [
    "\n",
    "inputs=[1, 2, 3, 2.5]\n",
    "\n",
    "weights1 = [0.2, 0.8, -0.5, 1] \n",
    "weights2 = [0.5, -0.91, 0.26, -0.5] \n",
    "weights3 = [-0.26, -0.27, 0.17, 0.87]\n",
    "\n",
    "bias1 = 2 \n",
    "bias2 = 3 \n",
    "bias3 = 0.5\n",
    "\n",
    "# calculate the weighted sum of inputs and add the bias for three neurons.\n",
    "outputs = np.array([\n",
    "    # Neuron 1:\n",
    "    inputs[0]*weights1[0] + inputs[1]*weights1[1] + inputs[2]*weights1[2] + inputs[3]*weights1[3] + bias1,\n",
    "    # Neuron 2: \n",
    "    inputs[0]*weights2[0] + inputs[1]*weights2[1] + inputs[2]*weights2[2] + inputs[3]*weights2[3] + bias2,\n",
    "    # Neuron 3: \n",
    "    inputs[0]*weights3[0] + inputs[1]*weights3[1] + inputs[2]*weights3[2] + inputs[3]*weights3[3] + bias3\n",
    "    ])\n",
    "print(f\"Outputs: \\n{outputs}\")  # [4.8, 1.21, 2.385]\n",
    "\n",
    "# apply the activation function and get the predictions\n",
    "predictions = sigmoid(outputs)\n",
    "print(f\"Predictions: \\n{predictions}\")  # [0.99194602, 0.77015115, 0.9158585]\n",
    "\n",
    "# Error ratio is the difference between the prediction and the actual value\n",
    "error_ratio = 1 - predictions\n",
    "print(f\"Error Ratio: \\n{error_ratio}\")  # [0.00816257 0.22970105 0.0843237 ]"
   ],
   "outputs": [
    {
     "name": "stdout",
     "output_type": "stream",
     "text": [
      "Outputs: \n",
      "[4.8   1.21  2.385]\n",
      "Predictions: \n",
      "[0.99183743 0.77029895 0.9156763 ]\n",
      "Error Ratio: \n",
      "[0.00816257 0.22970105 0.0843237 ]\n"
     ]
    }
   ],
   "execution_count": 71
  },
  {
   "cell_type": "code",
   "id": "928427f075750b66",
   "metadata": {
    "ExecuteTime": {
     "end_time": "2024-09-11T18:33:33.964890Z",
     "start_time": "2024-09-11T18:33:33.945774Z"
    }
   },
   "source": [
    "# Graph the error on a line plot\n",
    "from plotly import graph_objects as go\n",
    "\n",
    "fig = go.Figure()\n",
    "fig.add_trace(\n",
    "    go.Scatter(\n",
    "        x=predictions, y=error_ratio, mode='lines+markers', \n",
    "    xaxis='x', yaxis='y', name='Outputs'\n",
    "    ))\n",
    "fig.update_layout(title='Error Ratio vs Predictions', xaxis_title='Predictions', yaxis_title='Error Ratio')\n",
    "fig.show()"
   ],
   "outputs": [
    {
     "data": {
      "application/vnd.plotly.v1+json": {
       "data": [
        {
         "mode": "lines+markers",
         "name": "Outputs",
         "x": [
          0.9918374288468401,
          0.7702989490466019,
          0.9156763035785255
         ],
         "xaxis": "x",
         "y": [
          0.008162571153159881,
          0.2297010509533981,
          0.08432369642147453
         ],
         "yaxis": "y",
         "type": "scatter"
        }
       ],
       "layout": {
        "template": {
         "data": {
          "histogram2dcontour": [
           {
            "type": "histogram2dcontour",
            "colorbar": {
             "outlinewidth": 0,
             "ticks": ""
            },
            "colorscale": [
             [
              0.0,
              "#0d0887"
             ],
             [
              0.1111111111111111,
              "#46039f"
             ],
             [
              0.2222222222222222,
              "#7201a8"
             ],
             [
              0.3333333333333333,
              "#9c179e"
             ],
             [
              0.4444444444444444,
              "#bd3786"
             ],
             [
              0.5555555555555556,
              "#d8576b"
             ],
             [
              0.6666666666666666,
              "#ed7953"
             ],
             [
              0.7777777777777778,
              "#fb9f3a"
             ],
             [
              0.8888888888888888,
              "#fdca26"
             ],
             [
              1.0,
              "#f0f921"
             ]
            ]
           }
          ],
          "choropleth": [
           {
            "type": "choropleth",
            "colorbar": {
             "outlinewidth": 0,
             "ticks": ""
            }
           }
          ],
          "histogram2d": [
           {
            "type": "histogram2d",
            "colorbar": {
             "outlinewidth": 0,
             "ticks": ""
            },
            "colorscale": [
             [
              0.0,
              "#0d0887"
             ],
             [
              0.1111111111111111,
              "#46039f"
             ],
             [
              0.2222222222222222,
              "#7201a8"
             ],
             [
              0.3333333333333333,
              "#9c179e"
             ],
             [
              0.4444444444444444,
              "#bd3786"
             ],
             [
              0.5555555555555556,
              "#d8576b"
             ],
             [
              0.6666666666666666,
              "#ed7953"
             ],
             [
              0.7777777777777778,
              "#fb9f3a"
             ],
             [
              0.8888888888888888,
              "#fdca26"
             ],
             [
              1.0,
              "#f0f921"
             ]
            ]
           }
          ],
          "heatmap": [
           {
            "type": "heatmap",
            "colorbar": {
             "outlinewidth": 0,
             "ticks": ""
            },
            "colorscale": [
             [
              0.0,
              "#0d0887"
             ],
             [
              0.1111111111111111,
              "#46039f"
             ],
             [
              0.2222222222222222,
              "#7201a8"
             ],
             [
              0.3333333333333333,
              "#9c179e"
             ],
             [
              0.4444444444444444,
              "#bd3786"
             ],
             [
              0.5555555555555556,
              "#d8576b"
             ],
             [
              0.6666666666666666,
              "#ed7953"
             ],
             [
              0.7777777777777778,
              "#fb9f3a"
             ],
             [
              0.8888888888888888,
              "#fdca26"
             ],
             [
              1.0,
              "#f0f921"
             ]
            ]
           }
          ],
          "heatmapgl": [
           {
            "type": "heatmapgl",
            "colorbar": {
             "outlinewidth": 0,
             "ticks": ""
            },
            "colorscale": [
             [
              0.0,
              "#0d0887"
             ],
             [
              0.1111111111111111,
              "#46039f"
             ],
             [
              0.2222222222222222,
              "#7201a8"
             ],
             [
              0.3333333333333333,
              "#9c179e"
             ],
             [
              0.4444444444444444,
              "#bd3786"
             ],
             [
              0.5555555555555556,
              "#d8576b"
             ],
             [
              0.6666666666666666,
              "#ed7953"
             ],
             [
              0.7777777777777778,
              "#fb9f3a"
             ],
             [
              0.8888888888888888,
              "#fdca26"
             ],
             [
              1.0,
              "#f0f921"
             ]
            ]
           }
          ],
          "contourcarpet": [
           {
            "type": "contourcarpet",
            "colorbar": {
             "outlinewidth": 0,
             "ticks": ""
            }
           }
          ],
          "contour": [
           {
            "type": "contour",
            "colorbar": {
             "outlinewidth": 0,
             "ticks": ""
            },
            "colorscale": [
             [
              0.0,
              "#0d0887"
             ],
             [
              0.1111111111111111,
              "#46039f"
             ],
             [
              0.2222222222222222,
              "#7201a8"
             ],
             [
              0.3333333333333333,
              "#9c179e"
             ],
             [
              0.4444444444444444,
              "#bd3786"
             ],
             [
              0.5555555555555556,
              "#d8576b"
             ],
             [
              0.6666666666666666,
              "#ed7953"
             ],
             [
              0.7777777777777778,
              "#fb9f3a"
             ],
             [
              0.8888888888888888,
              "#fdca26"
             ],
             [
              1.0,
              "#f0f921"
             ]
            ]
           }
          ],
          "surface": [
           {
            "type": "surface",
            "colorbar": {
             "outlinewidth": 0,
             "ticks": ""
            },
            "colorscale": [
             [
              0.0,
              "#0d0887"
             ],
             [
              0.1111111111111111,
              "#46039f"
             ],
             [
              0.2222222222222222,
              "#7201a8"
             ],
             [
              0.3333333333333333,
              "#9c179e"
             ],
             [
              0.4444444444444444,
              "#bd3786"
             ],
             [
              0.5555555555555556,
              "#d8576b"
             ],
             [
              0.6666666666666666,
              "#ed7953"
             ],
             [
              0.7777777777777778,
              "#fb9f3a"
             ],
             [
              0.8888888888888888,
              "#fdca26"
             ],
             [
              1.0,
              "#f0f921"
             ]
            ]
           }
          ],
          "mesh3d": [
           {
            "type": "mesh3d",
            "colorbar": {
             "outlinewidth": 0,
             "ticks": ""
            }
           }
          ],
          "scatter": [
           {
            "marker": {
             "line": {
              "color": "#283442"
             }
            },
            "type": "scatter"
           }
          ],
          "parcoords": [
           {
            "type": "parcoords",
            "line": {
             "colorbar": {
              "outlinewidth": 0,
              "ticks": ""
             }
            }
           }
          ],
          "scatterpolargl": [
           {
            "type": "scatterpolargl",
            "marker": {
             "colorbar": {
              "outlinewidth": 0,
              "ticks": ""
             }
            }
           }
          ],
          "bar": [
           {
            "error_x": {
             "color": "#f2f5fa"
            },
            "error_y": {
             "color": "#f2f5fa"
            },
            "marker": {
             "line": {
              "color": "rgb(17,17,17)",
              "width": 0.5
             },
             "pattern": {
              "fillmode": "overlay",
              "size": 10,
              "solidity": 0.2
             }
            },
            "type": "bar"
           }
          ],
          "scattergeo": [
           {
            "type": "scattergeo",
            "marker": {
             "colorbar": {
              "outlinewidth": 0,
              "ticks": ""
             }
            }
           }
          ],
          "scatterpolar": [
           {
            "type": "scatterpolar",
            "marker": {
             "colorbar": {
              "outlinewidth": 0,
              "ticks": ""
             }
            }
           }
          ],
          "histogram": [
           {
            "marker": {
             "pattern": {
              "fillmode": "overlay",
              "size": 10,
              "solidity": 0.2
             }
            },
            "type": "histogram"
           }
          ],
          "scattergl": [
           {
            "marker": {
             "line": {
              "color": "#283442"
             }
            },
            "type": "scattergl"
           }
          ],
          "scatter3d": [
           {
            "type": "scatter3d",
            "line": {
             "colorbar": {
              "outlinewidth": 0,
              "ticks": ""
             }
            },
            "marker": {
             "colorbar": {
              "outlinewidth": 0,
              "ticks": ""
             }
            }
           }
          ],
          "scattermapbox": [
           {
            "type": "scattermapbox",
            "marker": {
             "colorbar": {
              "outlinewidth": 0,
              "ticks": ""
             }
            }
           }
          ],
          "scatterternary": [
           {
            "type": "scatterternary",
            "marker": {
             "colorbar": {
              "outlinewidth": 0,
              "ticks": ""
             }
            }
           }
          ],
          "scattercarpet": [
           {
            "type": "scattercarpet",
            "marker": {
             "colorbar": {
              "outlinewidth": 0,
              "ticks": ""
             }
            }
           }
          ],
          "carpet": [
           {
            "aaxis": {
             "endlinecolor": "#A2B1C6",
             "gridcolor": "#506784",
             "linecolor": "#506784",
             "minorgridcolor": "#506784",
             "startlinecolor": "#A2B1C6"
            },
            "baxis": {
             "endlinecolor": "#A2B1C6",
             "gridcolor": "#506784",
             "linecolor": "#506784",
             "minorgridcolor": "#506784",
             "startlinecolor": "#A2B1C6"
            },
            "type": "carpet"
           }
          ],
          "table": [
           {
            "cells": {
             "fill": {
              "color": "#506784"
             },
             "line": {
              "color": "rgb(17,17,17)"
             }
            },
            "header": {
             "fill": {
              "color": "#2a3f5f"
             },
             "line": {
              "color": "rgb(17,17,17)"
             }
            },
            "type": "table"
           }
          ],
          "barpolar": [
           {
            "marker": {
             "line": {
              "color": "rgb(17,17,17)",
              "width": 0.5
             },
             "pattern": {
              "fillmode": "overlay",
              "size": 10,
              "solidity": 0.2
             }
            },
            "type": "barpolar"
           }
          ],
          "pie": [
           {
            "automargin": true,
            "type": "pie"
           }
          ]
         },
         "layout": {
          "autotypenumbers": "strict",
          "colorway": [
           "#636efa",
           "#EF553B",
           "#00cc96",
           "#ab63fa",
           "#FFA15A",
           "#19d3f3",
           "#FF6692",
           "#B6E880",
           "#FF97FF",
           "#FECB52"
          ],
          "font": {
           "color": "#f2f5fa"
          },
          "hovermode": "closest",
          "hoverlabel": {
           "align": "left"
          },
          "paper_bgcolor": "rgb(17,17,17)",
          "plot_bgcolor": "rgb(17,17,17)",
          "polar": {
           "bgcolor": "rgb(17,17,17)",
           "angularaxis": {
            "gridcolor": "#506784",
            "linecolor": "#506784",
            "ticks": ""
           },
           "radialaxis": {
            "gridcolor": "#506784",
            "linecolor": "#506784",
            "ticks": ""
           }
          },
          "ternary": {
           "bgcolor": "rgb(17,17,17)",
           "aaxis": {
            "gridcolor": "#506784",
            "linecolor": "#506784",
            "ticks": ""
           },
           "baxis": {
            "gridcolor": "#506784",
            "linecolor": "#506784",
            "ticks": ""
           },
           "caxis": {
            "gridcolor": "#506784",
            "linecolor": "#506784",
            "ticks": ""
           }
          },
          "coloraxis": {
           "colorbar": {
            "outlinewidth": 0,
            "ticks": ""
           }
          },
          "colorscale": {
           "sequential": [
            [
             0.0,
             "#0d0887"
            ],
            [
             0.1111111111111111,
             "#46039f"
            ],
            [
             0.2222222222222222,
             "#7201a8"
            ],
            [
             0.3333333333333333,
             "#9c179e"
            ],
            [
             0.4444444444444444,
             "#bd3786"
            ],
            [
             0.5555555555555556,
             "#d8576b"
            ],
            [
             0.6666666666666666,
             "#ed7953"
            ],
            [
             0.7777777777777778,
             "#fb9f3a"
            ],
            [
             0.8888888888888888,
             "#fdca26"
            ],
            [
             1.0,
             "#f0f921"
            ]
           ],
           "sequentialminus": [
            [
             0.0,
             "#0d0887"
            ],
            [
             0.1111111111111111,
             "#46039f"
            ],
            [
             0.2222222222222222,
             "#7201a8"
            ],
            [
             0.3333333333333333,
             "#9c179e"
            ],
            [
             0.4444444444444444,
             "#bd3786"
            ],
            [
             0.5555555555555556,
             "#d8576b"
            ],
            [
             0.6666666666666666,
             "#ed7953"
            ],
            [
             0.7777777777777778,
             "#fb9f3a"
            ],
            [
             0.8888888888888888,
             "#fdca26"
            ],
            [
             1.0,
             "#f0f921"
            ]
           ],
           "diverging": [
            [
             0,
             "#8e0152"
            ],
            [
             0.1,
             "#c51b7d"
            ],
            [
             0.2,
             "#de77ae"
            ],
            [
             0.3,
             "#f1b6da"
            ],
            [
             0.4,
             "#fde0ef"
            ],
            [
             0.5,
             "#f7f7f7"
            ],
            [
             0.6,
             "#e6f5d0"
            ],
            [
             0.7,
             "#b8e186"
            ],
            [
             0.8,
             "#7fbc41"
            ],
            [
             0.9,
             "#4d9221"
            ],
            [
             1,
             "#276419"
            ]
           ]
          },
          "xaxis": {
           "gridcolor": "#283442",
           "linecolor": "#506784",
           "ticks": "",
           "title": {
            "standoff": 15
           },
           "zerolinecolor": "#283442",
           "automargin": true,
           "zerolinewidth": 2
          },
          "yaxis": {
           "gridcolor": "#283442",
           "linecolor": "#506784",
           "ticks": "",
           "title": {
            "standoff": 15
           },
           "zerolinecolor": "#283442",
           "automargin": true,
           "zerolinewidth": 2
          },
          "scene": {
           "xaxis": {
            "backgroundcolor": "rgb(17,17,17)",
            "gridcolor": "#506784",
            "linecolor": "#506784",
            "showbackground": true,
            "ticks": "",
            "zerolinecolor": "#C8D4E3",
            "gridwidth": 2
           },
           "yaxis": {
            "backgroundcolor": "rgb(17,17,17)",
            "gridcolor": "#506784",
            "linecolor": "#506784",
            "showbackground": true,
            "ticks": "",
            "zerolinecolor": "#C8D4E3",
            "gridwidth": 2
           },
           "zaxis": {
            "backgroundcolor": "rgb(17,17,17)",
            "gridcolor": "#506784",
            "linecolor": "#506784",
            "showbackground": true,
            "ticks": "",
            "zerolinecolor": "#C8D4E3",
            "gridwidth": 2
           }
          },
          "shapedefaults": {
           "line": {
            "color": "#f2f5fa"
           }
          },
          "annotationdefaults": {
           "arrowcolor": "#f2f5fa",
           "arrowhead": 0,
           "arrowwidth": 1
          },
          "geo": {
           "bgcolor": "rgb(17,17,17)",
           "landcolor": "rgb(17,17,17)",
           "subunitcolor": "#506784",
           "showland": true,
           "showlakes": true,
           "lakecolor": "rgb(17,17,17)"
          },
          "title": {
           "x": 0.05
          },
          "updatemenudefaults": {
           "bgcolor": "#506784",
           "borderwidth": 0
          },
          "sliderdefaults": {
           "bgcolor": "#C8D4E3",
           "borderwidth": 1,
           "bordercolor": "rgb(17,17,17)",
           "tickwidth": 0
          },
          "mapbox": {
           "style": "dark"
          }
         }
        },
        "title": {
         "text": "Error Ratio vs Predictions"
        },
        "xaxis": {
         "title": {
          "text": "Predictions"
         }
        },
        "yaxis": {
         "title": {
          "text": "Error Ratio"
         }
        }
       },
       "config": {
        "plotlyServerURL": "https://plot.ly"
       }
      },
      "text/html": [
       "<div>                            <div id=\"c2f2b183-540b-4ae4-adb2-e63b3c919b58\" class=\"plotly-graph-div\" style=\"height:525px; width:100%;\"></div>            <script type=\"text/javascript\">                require([\"plotly\"], function(Plotly) {                    window.PLOTLYENV=window.PLOTLYENV || {};                                    if (document.getElementById(\"c2f2b183-540b-4ae4-adb2-e63b3c919b58\")) {                    Plotly.newPlot(                        \"c2f2b183-540b-4ae4-adb2-e63b3c919b58\",                        [{\"mode\":\"lines+markers\",\"name\":\"Outputs\",\"x\":[0.9918374288468401,0.7702989490466019,0.9156763035785255],\"xaxis\":\"x\",\"y\":[0.008162571153159881,0.2297010509533981,0.08432369642147453],\"yaxis\":\"y\",\"type\":\"scatter\"}],                        {\"template\":{\"data\":{\"histogram2dcontour\":[{\"type\":\"histogram2dcontour\",\"colorbar\":{\"outlinewidth\":0,\"ticks\":\"\"},\"colorscale\":[[0.0,\"#0d0887\"],[0.1111111111111111,\"#46039f\"],[0.2222222222222222,\"#7201a8\"],[0.3333333333333333,\"#9c179e\"],[0.4444444444444444,\"#bd3786\"],[0.5555555555555556,\"#d8576b\"],[0.6666666666666666,\"#ed7953\"],[0.7777777777777778,\"#fb9f3a\"],[0.8888888888888888,\"#fdca26\"],[1.0,\"#f0f921\"]]}],\"choropleth\":[{\"type\":\"choropleth\",\"colorbar\":{\"outlinewidth\":0,\"ticks\":\"\"}}],\"histogram2d\":[{\"type\":\"histogram2d\",\"colorbar\":{\"outlinewidth\":0,\"ticks\":\"\"},\"colorscale\":[[0.0,\"#0d0887\"],[0.1111111111111111,\"#46039f\"],[0.2222222222222222,\"#7201a8\"],[0.3333333333333333,\"#9c179e\"],[0.4444444444444444,\"#bd3786\"],[0.5555555555555556,\"#d8576b\"],[0.6666666666666666,\"#ed7953\"],[0.7777777777777778,\"#fb9f3a\"],[0.8888888888888888,\"#fdca26\"],[1.0,\"#f0f921\"]]}],\"heatmap\":[{\"type\":\"heatmap\",\"colorbar\":{\"outlinewidth\":0,\"ticks\":\"\"},\"colorscale\":[[0.0,\"#0d0887\"],[0.1111111111111111,\"#46039f\"],[0.2222222222222222,\"#7201a8\"],[0.3333333333333333,\"#9c179e\"],[0.4444444444444444,\"#bd3786\"],[0.5555555555555556,\"#d8576b\"],[0.6666666666666666,\"#ed7953\"],[0.7777777777777778,\"#fb9f3a\"],[0.8888888888888888,\"#fdca26\"],[1.0,\"#f0f921\"]]}],\"heatmapgl\":[{\"type\":\"heatmapgl\",\"colorbar\":{\"outlinewidth\":0,\"ticks\":\"\"},\"colorscale\":[[0.0,\"#0d0887\"],[0.1111111111111111,\"#46039f\"],[0.2222222222222222,\"#7201a8\"],[0.3333333333333333,\"#9c179e\"],[0.4444444444444444,\"#bd3786\"],[0.5555555555555556,\"#d8576b\"],[0.6666666666666666,\"#ed7953\"],[0.7777777777777778,\"#fb9f3a\"],[0.8888888888888888,\"#fdca26\"],[1.0,\"#f0f921\"]]}],\"contourcarpet\":[{\"type\":\"contourcarpet\",\"colorbar\":{\"outlinewidth\":0,\"ticks\":\"\"}}],\"contour\":[{\"type\":\"contour\",\"colorbar\":{\"outlinewidth\":0,\"ticks\":\"\"},\"colorscale\":[[0.0,\"#0d0887\"],[0.1111111111111111,\"#46039f\"],[0.2222222222222222,\"#7201a8\"],[0.3333333333333333,\"#9c179e\"],[0.4444444444444444,\"#bd3786\"],[0.5555555555555556,\"#d8576b\"],[0.6666666666666666,\"#ed7953\"],[0.7777777777777778,\"#fb9f3a\"],[0.8888888888888888,\"#fdca26\"],[1.0,\"#f0f921\"]]}],\"surface\":[{\"type\":\"surface\",\"colorbar\":{\"outlinewidth\":0,\"ticks\":\"\"},\"colorscale\":[[0.0,\"#0d0887\"],[0.1111111111111111,\"#46039f\"],[0.2222222222222222,\"#7201a8\"],[0.3333333333333333,\"#9c179e\"],[0.4444444444444444,\"#bd3786\"],[0.5555555555555556,\"#d8576b\"],[0.6666666666666666,\"#ed7953\"],[0.7777777777777778,\"#fb9f3a\"],[0.8888888888888888,\"#fdca26\"],[1.0,\"#f0f921\"]]}],\"mesh3d\":[{\"type\":\"mesh3d\",\"colorbar\":{\"outlinewidth\":0,\"ticks\":\"\"}}],\"scatter\":[{\"marker\":{\"line\":{\"color\":\"#283442\"}},\"type\":\"scatter\"}],\"parcoords\":[{\"type\":\"parcoords\",\"line\":{\"colorbar\":{\"outlinewidth\":0,\"ticks\":\"\"}}}],\"scatterpolargl\":[{\"type\":\"scatterpolargl\",\"marker\":{\"colorbar\":{\"outlinewidth\":0,\"ticks\":\"\"}}}],\"bar\":[{\"error_x\":{\"color\":\"#f2f5fa\"},\"error_y\":{\"color\":\"#f2f5fa\"},\"marker\":{\"line\":{\"color\":\"rgb(17,17,17)\",\"width\":0.5},\"pattern\":{\"fillmode\":\"overlay\",\"size\":10,\"solidity\":0.2}},\"type\":\"bar\"}],\"scattergeo\":[{\"type\":\"scattergeo\",\"marker\":{\"colorbar\":{\"outlinewidth\":0,\"ticks\":\"\"}}}],\"scatterpolar\":[{\"type\":\"scatterpolar\",\"marker\":{\"colorbar\":{\"outlinewidth\":0,\"ticks\":\"\"}}}],\"histogram\":[{\"marker\":{\"pattern\":{\"fillmode\":\"overlay\",\"size\":10,\"solidity\":0.2}},\"type\":\"histogram\"}],\"scattergl\":[{\"marker\":{\"line\":{\"color\":\"#283442\"}},\"type\":\"scattergl\"}],\"scatter3d\":[{\"type\":\"scatter3d\",\"line\":{\"colorbar\":{\"outlinewidth\":0,\"ticks\":\"\"}},\"marker\":{\"colorbar\":{\"outlinewidth\":0,\"ticks\":\"\"}}}],\"scattermapbox\":[{\"type\":\"scattermapbox\",\"marker\":{\"colorbar\":{\"outlinewidth\":0,\"ticks\":\"\"}}}],\"scatterternary\":[{\"type\":\"scatterternary\",\"marker\":{\"colorbar\":{\"outlinewidth\":0,\"ticks\":\"\"}}}],\"scattercarpet\":[{\"type\":\"scattercarpet\",\"marker\":{\"colorbar\":{\"outlinewidth\":0,\"ticks\":\"\"}}}],\"carpet\":[{\"aaxis\":{\"endlinecolor\":\"#A2B1C6\",\"gridcolor\":\"#506784\",\"linecolor\":\"#506784\",\"minorgridcolor\":\"#506784\",\"startlinecolor\":\"#A2B1C6\"},\"baxis\":{\"endlinecolor\":\"#A2B1C6\",\"gridcolor\":\"#506784\",\"linecolor\":\"#506784\",\"minorgridcolor\":\"#506784\",\"startlinecolor\":\"#A2B1C6\"},\"type\":\"carpet\"}],\"table\":[{\"cells\":{\"fill\":{\"color\":\"#506784\"},\"line\":{\"color\":\"rgb(17,17,17)\"}},\"header\":{\"fill\":{\"color\":\"#2a3f5f\"},\"line\":{\"color\":\"rgb(17,17,17)\"}},\"type\":\"table\"}],\"barpolar\":[{\"marker\":{\"line\":{\"color\":\"rgb(17,17,17)\",\"width\":0.5},\"pattern\":{\"fillmode\":\"overlay\",\"size\":10,\"solidity\":0.2}},\"type\":\"barpolar\"}],\"pie\":[{\"automargin\":true,\"type\":\"pie\"}]},\"layout\":{\"autotypenumbers\":\"strict\",\"colorway\":[\"#636efa\",\"#EF553B\",\"#00cc96\",\"#ab63fa\",\"#FFA15A\",\"#19d3f3\",\"#FF6692\",\"#B6E880\",\"#FF97FF\",\"#FECB52\"],\"font\":{\"color\":\"#f2f5fa\"},\"hovermode\":\"closest\",\"hoverlabel\":{\"align\":\"left\"},\"paper_bgcolor\":\"rgb(17,17,17)\",\"plot_bgcolor\":\"rgb(17,17,17)\",\"polar\":{\"bgcolor\":\"rgb(17,17,17)\",\"angularaxis\":{\"gridcolor\":\"#506784\",\"linecolor\":\"#506784\",\"ticks\":\"\"},\"radialaxis\":{\"gridcolor\":\"#506784\",\"linecolor\":\"#506784\",\"ticks\":\"\"}},\"ternary\":{\"bgcolor\":\"rgb(17,17,17)\",\"aaxis\":{\"gridcolor\":\"#506784\",\"linecolor\":\"#506784\",\"ticks\":\"\"},\"baxis\":{\"gridcolor\":\"#506784\",\"linecolor\":\"#506784\",\"ticks\":\"\"},\"caxis\":{\"gridcolor\":\"#506784\",\"linecolor\":\"#506784\",\"ticks\":\"\"}},\"coloraxis\":{\"colorbar\":{\"outlinewidth\":0,\"ticks\":\"\"}},\"colorscale\":{\"sequential\":[[0.0,\"#0d0887\"],[0.1111111111111111,\"#46039f\"],[0.2222222222222222,\"#7201a8\"],[0.3333333333333333,\"#9c179e\"],[0.4444444444444444,\"#bd3786\"],[0.5555555555555556,\"#d8576b\"],[0.6666666666666666,\"#ed7953\"],[0.7777777777777778,\"#fb9f3a\"],[0.8888888888888888,\"#fdca26\"],[1.0,\"#f0f921\"]],\"sequentialminus\":[[0.0,\"#0d0887\"],[0.1111111111111111,\"#46039f\"],[0.2222222222222222,\"#7201a8\"],[0.3333333333333333,\"#9c179e\"],[0.4444444444444444,\"#bd3786\"],[0.5555555555555556,\"#d8576b\"],[0.6666666666666666,\"#ed7953\"],[0.7777777777777778,\"#fb9f3a\"],[0.8888888888888888,\"#fdca26\"],[1.0,\"#f0f921\"]],\"diverging\":[[0,\"#8e0152\"],[0.1,\"#c51b7d\"],[0.2,\"#de77ae\"],[0.3,\"#f1b6da\"],[0.4,\"#fde0ef\"],[0.5,\"#f7f7f7\"],[0.6,\"#e6f5d0\"],[0.7,\"#b8e186\"],[0.8,\"#7fbc41\"],[0.9,\"#4d9221\"],[1,\"#276419\"]]},\"xaxis\":{\"gridcolor\":\"#283442\",\"linecolor\":\"#506784\",\"ticks\":\"\",\"title\":{\"standoff\":15},\"zerolinecolor\":\"#283442\",\"automargin\":true,\"zerolinewidth\":2},\"yaxis\":{\"gridcolor\":\"#283442\",\"linecolor\":\"#506784\",\"ticks\":\"\",\"title\":{\"standoff\":15},\"zerolinecolor\":\"#283442\",\"automargin\":true,\"zerolinewidth\":2},\"scene\":{\"xaxis\":{\"backgroundcolor\":\"rgb(17,17,17)\",\"gridcolor\":\"#506784\",\"linecolor\":\"#506784\",\"showbackground\":true,\"ticks\":\"\",\"zerolinecolor\":\"#C8D4E3\",\"gridwidth\":2},\"yaxis\":{\"backgroundcolor\":\"rgb(17,17,17)\",\"gridcolor\":\"#506784\",\"linecolor\":\"#506784\",\"showbackground\":true,\"ticks\":\"\",\"zerolinecolor\":\"#C8D4E3\",\"gridwidth\":2},\"zaxis\":{\"backgroundcolor\":\"rgb(17,17,17)\",\"gridcolor\":\"#506784\",\"linecolor\":\"#506784\",\"showbackground\":true,\"ticks\":\"\",\"zerolinecolor\":\"#C8D4E3\",\"gridwidth\":2}},\"shapedefaults\":{\"line\":{\"color\":\"#f2f5fa\"}},\"annotationdefaults\":{\"arrowcolor\":\"#f2f5fa\",\"arrowhead\":0,\"arrowwidth\":1},\"geo\":{\"bgcolor\":\"rgb(17,17,17)\",\"landcolor\":\"rgb(17,17,17)\",\"subunitcolor\":\"#506784\",\"showland\":true,\"showlakes\":true,\"lakecolor\":\"rgb(17,17,17)\"},\"title\":{\"x\":0.05},\"updatemenudefaults\":{\"bgcolor\":\"#506784\",\"borderwidth\":0},\"sliderdefaults\":{\"bgcolor\":\"#C8D4E3\",\"borderwidth\":1,\"bordercolor\":\"rgb(17,17,17)\",\"tickwidth\":0},\"mapbox\":{\"style\":\"dark\"}}},\"title\":{\"text\":\"Error Ratio vs Predictions\"},\"xaxis\":{\"title\":{\"text\":\"Predictions\"}},\"yaxis\":{\"title\":{\"text\":\"Error Ratio\"}}},                        {\"responsive\": true}                    ).then(function(){\n",
       "                            \n",
       "var gd = document.getElementById('c2f2b183-540b-4ae4-adb2-e63b3c919b58');\n",
       "var x = new MutationObserver(function (mutations, observer) {{\n",
       "        var display = window.getComputedStyle(gd).display;\n",
       "        if (!display || display === 'none') {{\n",
       "            console.log([gd, 'removed!']);\n",
       "            Plotly.purge(gd);\n",
       "            observer.disconnect();\n",
       "        }}\n",
       "}});\n",
       "\n",
       "// Listen for the removal of the full notebook cells\n",
       "var notebookContainer = gd.closest('#notebook-container');\n",
       "if (notebookContainer) {{\n",
       "    x.observe(notebookContainer, {childList: true});\n",
       "}}\n",
       "\n",
       "// Listen for the clearing of the current output cell\n",
       "var outputEl = gd.closest('.output');\n",
       "if (outputEl) {{\n",
       "    x.observe(outputEl, {childList: true});\n",
       "}}\n",
       "\n",
       "                        })                };                });            </script>        </div>"
      ]
     },
     "metadata": {},
     "output_type": "display_data"
    }
   ],
   "execution_count": 72
  },
  {
   "cell_type": "code",
   "id": "d0d21742f1e33526",
   "metadata": {
    "ExecuteTime": {
     "end_time": "2024-09-11T18:33:34.137877Z",
     "start_time": "2024-09-11T18:33:34.126505Z"
    }
   },
   "source": [
    "from src.encoder.label import encode as encode_labels\n",
    "\n",
    "# Test the label encoder\n",
    "labels = [\"cat\", \"dog\", \"fish\", \"elephant\", \"lion\", \"tiger\", \"bear\"]\n",
    "encoded_labels = encode_labels(labels)\n",
    "print(f\"Encoded labels: \\n{encoded_labels}\\n\")\n",
    "print(f\"Data type: \\n{encoded_labels.dtype}\\n\")\n",
    "print(f\"Shape: \\n{encoded_labels.shape}\\n\")\n",
    "print(f\"Size: \\n{encoded_labels.size}\\n\")\n",
    "print(f\"Number of dimensions: \\n{encoded_labels.ndim}\\n\")\n",
    "print(f\"Item size: \\n{encoded_labels.itemsize}\\n\")\n",
    "print(f\"Total bytes: \\n{encoded_labels.nbytes}\\n\")\n",
    "print(f\"Strides: \\n{encoded_labels.strides}\\n\")\n",
    "print(f\"Flags: \\n{encoded_labels.flags}\\n\")\n",
    "print(f\"Ctypes: \\n{encoded_labels.ctypes}\\n\")\n",
    "print(f\"Base: \\n{encoded_labels.base}\\n\")\n",
    "print(f\"Data: \\n{encoded_labels.data}\\n\")\n",
    "print(f\"Transpose: \\n{encoded_labels.T}\\n\")\n",
    "print(f\"Real part: \\n{encoded_labels.real}\\n\")\n",
    "print(f\"Imaginary part: \\n{encoded_labels.imag}\\n\")\n",
    "print(f\"Flat: \\n{encoded_labels.flat}\\n\")\n",
    "print(f\"Item: \\n{encoded_labels.item}\\n\")\n",
    "print(f\"List: \\n{encoded_labels.tolist()}\\n\")\n",
    "print(f\"Bytes: {encoded_labels.tobytes()}\\n\")"
   ],
   "outputs": [
    {
     "name": "stdout",
     "output_type": "stream",
     "text": [
      "Encoded labels: \n",
      "[[104.       104.666664 106.5      106.125    108.5      107.8\n",
      "  102.5     ]]\n",
      "\n",
      "Data type: \n",
      "float32\n",
      "\n",
      "Shape: \n",
      "(1, 7)\n",
      "\n",
      "Size: \n",
      "7\n",
      "\n",
      "Number of dimensions: \n",
      "2\n",
      "\n",
      "Item size: \n",
      "4\n",
      "\n",
      "Total bytes: \n",
      "28\n",
      "\n",
      "Strides: \n",
      "(28, 4)\n",
      "\n",
      "Flags: \n",
      "  C_CONTIGUOUS : True\n",
      "  F_CONTIGUOUS : True\n",
      "  OWNDATA : True\n",
      "  WRITEABLE : True\n",
      "  ALIGNED : True\n",
      "  WRITEBACKIFCOPY : False\n",
      "\n",
      "\n",
      "Ctypes: \n",
      "<numpy.core._internal._ctypes object at 0x11747db80>\n",
      "\n",
      "Base: \n",
      "None\n",
      "\n",
      "Data: \n",
      "<memory at 0x1371f5a40>\n",
      "\n",
      "Transpose: \n",
      "[[104.      ]\n",
      " [104.666664]\n",
      " [106.5     ]\n",
      " [106.125   ]\n",
      " [108.5     ]\n",
      " [107.8     ]\n",
      " [102.5     ]]\n",
      "\n",
      "Real part: \n",
      "[[104.       104.666664 106.5      106.125    108.5      107.8\n",
      "  102.5     ]]\n",
      "\n",
      "Imaginary part: \n",
      "[[0. 0. 0. 0. 0. 0. 0.]]\n",
      "\n",
      "Flat: \n",
      "<numpy.flatiter object at 0x7fae1b322000>\n",
      "\n",
      "Item: \n",
      "<built-in method item of numpy.ndarray object at 0x1138fb9f0>\n",
      "\n",
      "List: \n",
      "[[104.0, 104.66666412353516, 106.5, 106.125, 108.5, 107.80000305175781, 102.5]]\n",
      "\n",
      "Bytes: b'\\x00\\x00\\xd0BUU\\xd1B\\x00\\x00\\xd5B\\x00@\\xd4B\\x00\\x00\\xd9B\\x9a\\x99\\xd7B\\x00\\x00\\xcdB'\n",
      "\n"
     ]
    }
   ],
   "execution_count": 73
  },
  {
   "cell_type": "code",
   "id": "5cf6ae726b420884",
   "metadata": {
    "ExecuteTime": {
     "end_time": "2024-09-11T18:33:34.297759Z",
     "start_time": "2024-09-11T18:33:34.291061Z"
    }
   },
   "source": [
    "import  numpy  as  np\n",
    "\n",
    "# Create the input data\n",
    "inputs  =  np.array([\n",
    "    [ 1.0 ,  2.0 ,  3.0 ,  2.5 ], \n",
    "    [ 2.0 ,  5.0 ,  - 1.0 ,  2.0 ],\n",
    "    [ - 1.5 ,  2.7 ,  3.3 ,  - 0.8 ]\n",
    "])\n",
    "\n",
    "# Create the weights and biases\n",
    "weights  =  np.array([\n",
    "    [ 0.2 ,  0.8 ,  - 0.5 ,  1.0 ],\n",
    "    [ 0.5 ,  - 0.91 ,  0.26 ,  - 0.5 ],\n",
    "    [ - 0.26 ,  - 0.27 ,  0.17 ,  0.87 ]\n",
    "])\n",
    "biases  =  np.array([ 2.0 ,  3.0 ,  0.5 ])\n",
    "\n",
    "# Calculate the output of the layer of neurons\n",
    "layer_outputs  =  np.dot(inputs, weights.T)  +  biases \n",
    "print(f\"Layer Outputs: \\n{layer_outputs}\")\n",
    "\n",
    "# Predictions\n",
    "predictions = sigmoid(layer_outputs)\n",
    "print(f\"Predictions: \\n{predictions}\")\n",
    "\n",
    "# Error\n",
    "error_rate = 1 - predictions\n",
    "print(f\"Error Ratio: \\n{error_rate}\")\n",
    "\n"
   ],
   "outputs": [
    {
     "name": "stdout",
     "output_type": "stream",
     "text": [
      "Layer Outputs: \n",
      "[[ 4.8    1.21   2.385]\n",
      " [ 8.9   -1.81   0.2  ]\n",
      " [ 1.41   1.051  0.026]]\n",
      "Predictions: \n",
      "[[0.99183743 0.77029895 0.9156763 ]\n",
      " [0.99986363 0.14063813 0.549834  ]\n",
      " [0.80376594 0.74096688 0.50649963]]\n",
      "Error Ratio: \n",
      "[[8.16257115e-03 2.29701051e-01 8.43236964e-02]\n",
      " [1.36370327e-04 8.59361874e-01 4.50166003e-01]\n",
      " [1.96234056e-01 2.59033120e-01 4.93500366e-01]]\n"
     ]
    }
   ],
   "execution_count": 74
  },
  {
   "cell_type": "code",
   "id": "970bd9b969138fa9",
   "metadata": {
    "ExecuteTime": {
     "end_time": "2024-09-11T18:33:34.472809Z",
     "start_time": "2024-09-11T18:33:34.454070Z"
    }
   },
   "source": [
    "from plotly import graph_objects as go\n",
    "\n",
    "# Create 3D scatter plot\n",
    "fig = go.Figure()\n",
    "fig.add_trace(\n",
    "    go.Scatter3d(\n",
    "        x=inputs[0], y=inputs[1], z=inputs[2], mode='lines+markers', \n",
    "        marker=dict(size=12, color='blue', opacity=0.8), name='Inputs'\n",
    "    ))\n",
    "fig.add_trace(\n",
    "    go.Scatter3d(\n",
    "        x=weights[0], y=weights[1], z=weights[2], mode='lines+markers', \n",
    "        marker=dict(size=12, color='red', opacity=0.8), name='Weights'\n",
    "    ))\n",
    "fig.add_trace(\n",
    "    go.Scatter3d(\n",
    "        x=biases, y=biases, z=biases, mode='lines+markers', \n",
    "        marker=dict(size=12, color='green', opacity=0.8), name='Biases'\n",
    "    ))\n",
    "fig.add_trace(\n",
    "    go.Scatter3d(\n",
    "        x=layer_outputs[0], y=layer_outputs[1], z=layer_outputs[2], mode='lines+markers', \n",
    "        marker=dict(size=12, color='orange', opacity=0.8), name='Layer Outputs'\n",
    "    ))\n",
    "fig.add_trace(\n",
    "    go.Scatter3d(\n",
    "        x=predictions[0], y=predictions[1], z=predictions[2], mode='lines+markers', \n",
    "        marker=dict(size=12, color='purple', opacity=0.8), name='Predictions'\n",
    "    ))\n",
    "fig.add_trace(\n",
    "    go.Scatter3d(\n",
    "        x=error_rate[0], y=error_rate[1], z=error_rate[2], mode='lines+markers', \n",
    "        marker=dict(size=12, color='black', opacity=0.8), name='Error Rate'\n",
    "    ))\n",
    "fig.update_layout(title='Layer of Neurons', scene=dict(xaxis_title='X', yaxis_title='Y', zaxis_title='Z'))\n",
    "fig.show()\n",
    "\n"
   ],
   "outputs": [
    {
     "data": {
      "application/vnd.plotly.v1+json": {
       "data": [
        {
         "marker": {
          "color": "blue",
          "opacity": 0.8,
          "size": 12
         },
         "mode": "lines+markers",
         "name": "Inputs",
         "x": [
          1.0,
          2.0,
          3.0,
          2.5
         ],
         "y": [
          2.0,
          5.0,
          -1.0,
          2.0
         ],
         "z": [
          -1.5,
          2.7,
          3.3,
          -0.8
         ],
         "type": "scatter3d"
        },
        {
         "marker": {
          "color": "red",
          "opacity": 0.8,
          "size": 12
         },
         "mode": "lines+markers",
         "name": "Weights",
         "x": [
          0.2,
          0.8,
          -0.5,
          1.0
         ],
         "y": [
          0.5,
          -0.91,
          0.26,
          -0.5
         ],
         "z": [
          -0.26,
          -0.27,
          0.17,
          0.87
         ],
         "type": "scatter3d"
        },
        {
         "marker": {
          "color": "green",
          "opacity": 0.8,
          "size": 12
         },
         "mode": "lines+markers",
         "name": "Biases",
         "x": [
          2.0,
          3.0,
          0.5
         ],
         "y": [
          2.0,
          3.0,
          0.5
         ],
         "z": [
          2.0,
          3.0,
          0.5
         ],
         "type": "scatter3d"
        },
        {
         "marker": {
          "color": "orange",
          "opacity": 0.8,
          "size": 12
         },
         "mode": "lines+markers",
         "name": "Layer Outputs",
         "x": [
          4.8,
          1.21,
          2.385
         ],
         "y": [
          8.9,
          -1.8100000000000005,
          0.19999999999999996
         ],
         "z": [
          1.4100000000000004,
          1.0509999999999997,
          0.025999999999999912
         ],
         "type": "scatter3d"
        },
        {
         "marker": {
          "color": "purple",
          "opacity": 0.8,
          "size": 12
         },
         "mode": "lines+markers",
         "name": "Predictions",
         "x": [
          0.9918374288468401,
          0.7702989490466019,
          0.9156763035785255
         ],
         "y": [
          0.9998636296729204,
          0.14063812573413412,
          0.5498339973124778
         ],
         "z": [
          0.8037659436342209,
          0.7409668803898235,
          0.5064996338580845
         ],
         "type": "scatter3d"
        },
        {
         "marker": {
          "color": "black",
          "opacity": 0.8,
          "size": 12
         },
         "mode": "lines+markers",
         "name": "Error Rate",
         "x": [
          0.008162571153159881,
          0.2297010509533981,
          0.08432369642147453
         ],
         "y": [
          1.363703270795824E-4,
          0.8593618742658659,
          0.45016600268752216
         ],
         "z": [
          0.19623405636577906,
          0.2590331196101765,
          0.4935003661419155
         ],
         "type": "scatter3d"
        }
       ],
       "layout": {
        "template": {
         "data": {
          "histogram2dcontour": [
           {
            "type": "histogram2dcontour",
            "colorbar": {
             "outlinewidth": 0,
             "ticks": ""
            },
            "colorscale": [
             [
              0.0,
              "#0d0887"
             ],
             [
              0.1111111111111111,
              "#46039f"
             ],
             [
              0.2222222222222222,
              "#7201a8"
             ],
             [
              0.3333333333333333,
              "#9c179e"
             ],
             [
              0.4444444444444444,
              "#bd3786"
             ],
             [
              0.5555555555555556,
              "#d8576b"
             ],
             [
              0.6666666666666666,
              "#ed7953"
             ],
             [
              0.7777777777777778,
              "#fb9f3a"
             ],
             [
              0.8888888888888888,
              "#fdca26"
             ],
             [
              1.0,
              "#f0f921"
             ]
            ]
           }
          ],
          "choropleth": [
           {
            "type": "choropleth",
            "colorbar": {
             "outlinewidth": 0,
             "ticks": ""
            }
           }
          ],
          "histogram2d": [
           {
            "type": "histogram2d",
            "colorbar": {
             "outlinewidth": 0,
             "ticks": ""
            },
            "colorscale": [
             [
              0.0,
              "#0d0887"
             ],
             [
              0.1111111111111111,
              "#46039f"
             ],
             [
              0.2222222222222222,
              "#7201a8"
             ],
             [
              0.3333333333333333,
              "#9c179e"
             ],
             [
              0.4444444444444444,
              "#bd3786"
             ],
             [
              0.5555555555555556,
              "#d8576b"
             ],
             [
              0.6666666666666666,
              "#ed7953"
             ],
             [
              0.7777777777777778,
              "#fb9f3a"
             ],
             [
              0.8888888888888888,
              "#fdca26"
             ],
             [
              1.0,
              "#f0f921"
             ]
            ]
           }
          ],
          "heatmap": [
           {
            "type": "heatmap",
            "colorbar": {
             "outlinewidth": 0,
             "ticks": ""
            },
            "colorscale": [
             [
              0.0,
              "#0d0887"
             ],
             [
              0.1111111111111111,
              "#46039f"
             ],
             [
              0.2222222222222222,
              "#7201a8"
             ],
             [
              0.3333333333333333,
              "#9c179e"
             ],
             [
              0.4444444444444444,
              "#bd3786"
             ],
             [
              0.5555555555555556,
              "#d8576b"
             ],
             [
              0.6666666666666666,
              "#ed7953"
             ],
             [
              0.7777777777777778,
              "#fb9f3a"
             ],
             [
              0.8888888888888888,
              "#fdca26"
             ],
             [
              1.0,
              "#f0f921"
             ]
            ]
           }
          ],
          "heatmapgl": [
           {
            "type": "heatmapgl",
            "colorbar": {
             "outlinewidth": 0,
             "ticks": ""
            },
            "colorscale": [
             [
              0.0,
              "#0d0887"
             ],
             [
              0.1111111111111111,
              "#46039f"
             ],
             [
              0.2222222222222222,
              "#7201a8"
             ],
             [
              0.3333333333333333,
              "#9c179e"
             ],
             [
              0.4444444444444444,
              "#bd3786"
             ],
             [
              0.5555555555555556,
              "#d8576b"
             ],
             [
              0.6666666666666666,
              "#ed7953"
             ],
             [
              0.7777777777777778,
              "#fb9f3a"
             ],
             [
              0.8888888888888888,
              "#fdca26"
             ],
             [
              1.0,
              "#f0f921"
             ]
            ]
           }
          ],
          "contourcarpet": [
           {
            "type": "contourcarpet",
            "colorbar": {
             "outlinewidth": 0,
             "ticks": ""
            }
           }
          ],
          "contour": [
           {
            "type": "contour",
            "colorbar": {
             "outlinewidth": 0,
             "ticks": ""
            },
            "colorscale": [
             [
              0.0,
              "#0d0887"
             ],
             [
              0.1111111111111111,
              "#46039f"
             ],
             [
              0.2222222222222222,
              "#7201a8"
             ],
             [
              0.3333333333333333,
              "#9c179e"
             ],
             [
              0.4444444444444444,
              "#bd3786"
             ],
             [
              0.5555555555555556,
              "#d8576b"
             ],
             [
              0.6666666666666666,
              "#ed7953"
             ],
             [
              0.7777777777777778,
              "#fb9f3a"
             ],
             [
              0.8888888888888888,
              "#fdca26"
             ],
             [
              1.0,
              "#f0f921"
             ]
            ]
           }
          ],
          "surface": [
           {
            "type": "surface",
            "colorbar": {
             "outlinewidth": 0,
             "ticks": ""
            },
            "colorscale": [
             [
              0.0,
              "#0d0887"
             ],
             [
              0.1111111111111111,
              "#46039f"
             ],
             [
              0.2222222222222222,
              "#7201a8"
             ],
             [
              0.3333333333333333,
              "#9c179e"
             ],
             [
              0.4444444444444444,
              "#bd3786"
             ],
             [
              0.5555555555555556,
              "#d8576b"
             ],
             [
              0.6666666666666666,
              "#ed7953"
             ],
             [
              0.7777777777777778,
              "#fb9f3a"
             ],
             [
              0.8888888888888888,
              "#fdca26"
             ],
             [
              1.0,
              "#f0f921"
             ]
            ]
           }
          ],
          "mesh3d": [
           {
            "type": "mesh3d",
            "colorbar": {
             "outlinewidth": 0,
             "ticks": ""
            }
           }
          ],
          "scatter": [
           {
            "marker": {
             "line": {
              "color": "#283442"
             }
            },
            "type": "scatter"
           }
          ],
          "parcoords": [
           {
            "type": "parcoords",
            "line": {
             "colorbar": {
              "outlinewidth": 0,
              "ticks": ""
             }
            }
           }
          ],
          "scatterpolargl": [
           {
            "type": "scatterpolargl",
            "marker": {
             "colorbar": {
              "outlinewidth": 0,
              "ticks": ""
             }
            }
           }
          ],
          "bar": [
           {
            "error_x": {
             "color": "#f2f5fa"
            },
            "error_y": {
             "color": "#f2f5fa"
            },
            "marker": {
             "line": {
              "color": "rgb(17,17,17)",
              "width": 0.5
             },
             "pattern": {
              "fillmode": "overlay",
              "size": 10,
              "solidity": 0.2
             }
            },
            "type": "bar"
           }
          ],
          "scattergeo": [
           {
            "type": "scattergeo",
            "marker": {
             "colorbar": {
              "outlinewidth": 0,
              "ticks": ""
             }
            }
           }
          ],
          "scatterpolar": [
           {
            "type": "scatterpolar",
            "marker": {
             "colorbar": {
              "outlinewidth": 0,
              "ticks": ""
             }
            }
           }
          ],
          "histogram": [
           {
            "marker": {
             "pattern": {
              "fillmode": "overlay",
              "size": 10,
              "solidity": 0.2
             }
            },
            "type": "histogram"
           }
          ],
          "scattergl": [
           {
            "marker": {
             "line": {
              "color": "#283442"
             }
            },
            "type": "scattergl"
           }
          ],
          "scatter3d": [
           {
            "type": "scatter3d",
            "line": {
             "colorbar": {
              "outlinewidth": 0,
              "ticks": ""
             }
            },
            "marker": {
             "colorbar": {
              "outlinewidth": 0,
              "ticks": ""
             }
            }
           }
          ],
          "scattermapbox": [
           {
            "type": "scattermapbox",
            "marker": {
             "colorbar": {
              "outlinewidth": 0,
              "ticks": ""
             }
            }
           }
          ],
          "scatterternary": [
           {
            "type": "scatterternary",
            "marker": {
             "colorbar": {
              "outlinewidth": 0,
              "ticks": ""
             }
            }
           }
          ],
          "scattercarpet": [
           {
            "type": "scattercarpet",
            "marker": {
             "colorbar": {
              "outlinewidth": 0,
              "ticks": ""
             }
            }
           }
          ],
          "carpet": [
           {
            "aaxis": {
             "endlinecolor": "#A2B1C6",
             "gridcolor": "#506784",
             "linecolor": "#506784",
             "minorgridcolor": "#506784",
             "startlinecolor": "#A2B1C6"
            },
            "baxis": {
             "endlinecolor": "#A2B1C6",
             "gridcolor": "#506784",
             "linecolor": "#506784",
             "minorgridcolor": "#506784",
             "startlinecolor": "#A2B1C6"
            },
            "type": "carpet"
           }
          ],
          "table": [
           {
            "cells": {
             "fill": {
              "color": "#506784"
             },
             "line": {
              "color": "rgb(17,17,17)"
             }
            },
            "header": {
             "fill": {
              "color": "#2a3f5f"
             },
             "line": {
              "color": "rgb(17,17,17)"
             }
            },
            "type": "table"
           }
          ],
          "barpolar": [
           {
            "marker": {
             "line": {
              "color": "rgb(17,17,17)",
              "width": 0.5
             },
             "pattern": {
              "fillmode": "overlay",
              "size": 10,
              "solidity": 0.2
             }
            },
            "type": "barpolar"
           }
          ],
          "pie": [
           {
            "automargin": true,
            "type": "pie"
           }
          ]
         },
         "layout": {
          "autotypenumbers": "strict",
          "colorway": [
           "#636efa",
           "#EF553B",
           "#00cc96",
           "#ab63fa",
           "#FFA15A",
           "#19d3f3",
           "#FF6692",
           "#B6E880",
           "#FF97FF",
           "#FECB52"
          ],
          "font": {
           "color": "#f2f5fa"
          },
          "hovermode": "closest",
          "hoverlabel": {
           "align": "left"
          },
          "paper_bgcolor": "rgb(17,17,17)",
          "plot_bgcolor": "rgb(17,17,17)",
          "polar": {
           "bgcolor": "rgb(17,17,17)",
           "angularaxis": {
            "gridcolor": "#506784",
            "linecolor": "#506784",
            "ticks": ""
           },
           "radialaxis": {
            "gridcolor": "#506784",
            "linecolor": "#506784",
            "ticks": ""
           }
          },
          "ternary": {
           "bgcolor": "rgb(17,17,17)",
           "aaxis": {
            "gridcolor": "#506784",
            "linecolor": "#506784",
            "ticks": ""
           },
           "baxis": {
            "gridcolor": "#506784",
            "linecolor": "#506784",
            "ticks": ""
           },
           "caxis": {
            "gridcolor": "#506784",
            "linecolor": "#506784",
            "ticks": ""
           }
          },
          "coloraxis": {
           "colorbar": {
            "outlinewidth": 0,
            "ticks": ""
           }
          },
          "colorscale": {
           "sequential": [
            [
             0.0,
             "#0d0887"
            ],
            [
             0.1111111111111111,
             "#46039f"
            ],
            [
             0.2222222222222222,
             "#7201a8"
            ],
            [
             0.3333333333333333,
             "#9c179e"
            ],
            [
             0.4444444444444444,
             "#bd3786"
            ],
            [
             0.5555555555555556,
             "#d8576b"
            ],
            [
             0.6666666666666666,
             "#ed7953"
            ],
            [
             0.7777777777777778,
             "#fb9f3a"
            ],
            [
             0.8888888888888888,
             "#fdca26"
            ],
            [
             1.0,
             "#f0f921"
            ]
           ],
           "sequentialminus": [
            [
             0.0,
             "#0d0887"
            ],
            [
             0.1111111111111111,
             "#46039f"
            ],
            [
             0.2222222222222222,
             "#7201a8"
            ],
            [
             0.3333333333333333,
             "#9c179e"
            ],
            [
             0.4444444444444444,
             "#bd3786"
            ],
            [
             0.5555555555555556,
             "#d8576b"
            ],
            [
             0.6666666666666666,
             "#ed7953"
            ],
            [
             0.7777777777777778,
             "#fb9f3a"
            ],
            [
             0.8888888888888888,
             "#fdca26"
            ],
            [
             1.0,
             "#f0f921"
            ]
           ],
           "diverging": [
            [
             0,
             "#8e0152"
            ],
            [
             0.1,
             "#c51b7d"
            ],
            [
             0.2,
             "#de77ae"
            ],
            [
             0.3,
             "#f1b6da"
            ],
            [
             0.4,
             "#fde0ef"
            ],
            [
             0.5,
             "#f7f7f7"
            ],
            [
             0.6,
             "#e6f5d0"
            ],
            [
             0.7,
             "#b8e186"
            ],
            [
             0.8,
             "#7fbc41"
            ],
            [
             0.9,
             "#4d9221"
            ],
            [
             1,
             "#276419"
            ]
           ]
          },
          "xaxis": {
           "gridcolor": "#283442",
           "linecolor": "#506784",
           "ticks": "",
           "title": {
            "standoff": 15
           },
           "zerolinecolor": "#283442",
           "automargin": true,
           "zerolinewidth": 2
          },
          "yaxis": {
           "gridcolor": "#283442",
           "linecolor": "#506784",
           "ticks": "",
           "title": {
            "standoff": 15
           },
           "zerolinecolor": "#283442",
           "automargin": true,
           "zerolinewidth": 2
          },
          "scene": {
           "xaxis": {
            "backgroundcolor": "rgb(17,17,17)",
            "gridcolor": "#506784",
            "linecolor": "#506784",
            "showbackground": true,
            "ticks": "",
            "zerolinecolor": "#C8D4E3",
            "gridwidth": 2
           },
           "yaxis": {
            "backgroundcolor": "rgb(17,17,17)",
            "gridcolor": "#506784",
            "linecolor": "#506784",
            "showbackground": true,
            "ticks": "",
            "zerolinecolor": "#C8D4E3",
            "gridwidth": 2
           },
           "zaxis": {
            "backgroundcolor": "rgb(17,17,17)",
            "gridcolor": "#506784",
            "linecolor": "#506784",
            "showbackground": true,
            "ticks": "",
            "zerolinecolor": "#C8D4E3",
            "gridwidth": 2
           }
          },
          "shapedefaults": {
           "line": {
            "color": "#f2f5fa"
           }
          },
          "annotationdefaults": {
           "arrowcolor": "#f2f5fa",
           "arrowhead": 0,
           "arrowwidth": 1
          },
          "geo": {
           "bgcolor": "rgb(17,17,17)",
           "landcolor": "rgb(17,17,17)",
           "subunitcolor": "#506784",
           "showland": true,
           "showlakes": true,
           "lakecolor": "rgb(17,17,17)"
          },
          "title": {
           "x": 0.05
          },
          "updatemenudefaults": {
           "bgcolor": "#506784",
           "borderwidth": 0
          },
          "sliderdefaults": {
           "bgcolor": "#C8D4E3",
           "borderwidth": 1,
           "bordercolor": "rgb(17,17,17)",
           "tickwidth": 0
          },
          "mapbox": {
           "style": "dark"
          }
         }
        },
        "title": {
         "text": "Layer of Neurons"
        },
        "scene": {
         "xaxis": {
          "title": {
           "text": "X"
          }
         },
         "yaxis": {
          "title": {
           "text": "Y"
          }
         },
         "zaxis": {
          "title": {
           "text": "Z"
          }
         }
        }
       },
       "config": {
        "plotlyServerURL": "https://plot.ly"
       }
      },
      "text/html": [
       "<div>                            <div id=\"06ff69af-374c-4456-afc3-b55ab4e9c438\" class=\"plotly-graph-div\" style=\"height:525px; width:100%;\"></div>            <script type=\"text/javascript\">                require([\"plotly\"], function(Plotly) {                    window.PLOTLYENV=window.PLOTLYENV || {};                                    if (document.getElementById(\"06ff69af-374c-4456-afc3-b55ab4e9c438\")) {                    Plotly.newPlot(                        \"06ff69af-374c-4456-afc3-b55ab4e9c438\",                        [{\"marker\":{\"color\":\"blue\",\"opacity\":0.8,\"size\":12},\"mode\":\"lines+markers\",\"name\":\"Inputs\",\"x\":[1.0,2.0,3.0,2.5],\"y\":[2.0,5.0,-1.0,2.0],\"z\":[-1.5,2.7,3.3,-0.8],\"type\":\"scatter3d\"},{\"marker\":{\"color\":\"red\",\"opacity\":0.8,\"size\":12},\"mode\":\"lines+markers\",\"name\":\"Weights\",\"x\":[0.2,0.8,-0.5,1.0],\"y\":[0.5,-0.91,0.26,-0.5],\"z\":[-0.26,-0.27,0.17,0.87],\"type\":\"scatter3d\"},{\"marker\":{\"color\":\"green\",\"opacity\":0.8,\"size\":12},\"mode\":\"lines+markers\",\"name\":\"Biases\",\"x\":[2.0,3.0,0.5],\"y\":[2.0,3.0,0.5],\"z\":[2.0,3.0,0.5],\"type\":\"scatter3d\"},{\"marker\":{\"color\":\"orange\",\"opacity\":0.8,\"size\":12},\"mode\":\"lines+markers\",\"name\":\"Layer Outputs\",\"x\":[4.8,1.21,2.385],\"y\":[8.9,-1.8100000000000005,0.19999999999999996],\"z\":[1.4100000000000004,1.0509999999999997,0.025999999999999912],\"type\":\"scatter3d\"},{\"marker\":{\"color\":\"purple\",\"opacity\":0.8,\"size\":12},\"mode\":\"lines+markers\",\"name\":\"Predictions\",\"x\":[0.9918374288468401,0.7702989490466019,0.9156763035785255],\"y\":[0.9998636296729204,0.14063812573413412,0.5498339973124778],\"z\":[0.8037659436342209,0.7409668803898235,0.5064996338580845],\"type\":\"scatter3d\"},{\"marker\":{\"color\":\"black\",\"opacity\":0.8,\"size\":12},\"mode\":\"lines+markers\",\"name\":\"Error Rate\",\"x\":[0.008162571153159881,0.2297010509533981,0.08432369642147453],\"y\":[0.0001363703270795824,0.8593618742658659,0.45016600268752216],\"z\":[0.19623405636577906,0.2590331196101765,0.4935003661419155],\"type\":\"scatter3d\"}],                        {\"template\":{\"data\":{\"histogram2dcontour\":[{\"type\":\"histogram2dcontour\",\"colorbar\":{\"outlinewidth\":0,\"ticks\":\"\"},\"colorscale\":[[0.0,\"#0d0887\"],[0.1111111111111111,\"#46039f\"],[0.2222222222222222,\"#7201a8\"],[0.3333333333333333,\"#9c179e\"],[0.4444444444444444,\"#bd3786\"],[0.5555555555555556,\"#d8576b\"],[0.6666666666666666,\"#ed7953\"],[0.7777777777777778,\"#fb9f3a\"],[0.8888888888888888,\"#fdca26\"],[1.0,\"#f0f921\"]]}],\"choropleth\":[{\"type\":\"choropleth\",\"colorbar\":{\"outlinewidth\":0,\"ticks\":\"\"}}],\"histogram2d\":[{\"type\":\"histogram2d\",\"colorbar\":{\"outlinewidth\":0,\"ticks\":\"\"},\"colorscale\":[[0.0,\"#0d0887\"],[0.1111111111111111,\"#46039f\"],[0.2222222222222222,\"#7201a8\"],[0.3333333333333333,\"#9c179e\"],[0.4444444444444444,\"#bd3786\"],[0.5555555555555556,\"#d8576b\"],[0.6666666666666666,\"#ed7953\"],[0.7777777777777778,\"#fb9f3a\"],[0.8888888888888888,\"#fdca26\"],[1.0,\"#f0f921\"]]}],\"heatmap\":[{\"type\":\"heatmap\",\"colorbar\":{\"outlinewidth\":0,\"ticks\":\"\"},\"colorscale\":[[0.0,\"#0d0887\"],[0.1111111111111111,\"#46039f\"],[0.2222222222222222,\"#7201a8\"],[0.3333333333333333,\"#9c179e\"],[0.4444444444444444,\"#bd3786\"],[0.5555555555555556,\"#d8576b\"],[0.6666666666666666,\"#ed7953\"],[0.7777777777777778,\"#fb9f3a\"],[0.8888888888888888,\"#fdca26\"],[1.0,\"#f0f921\"]]}],\"heatmapgl\":[{\"type\":\"heatmapgl\",\"colorbar\":{\"outlinewidth\":0,\"ticks\":\"\"},\"colorscale\":[[0.0,\"#0d0887\"],[0.1111111111111111,\"#46039f\"],[0.2222222222222222,\"#7201a8\"],[0.3333333333333333,\"#9c179e\"],[0.4444444444444444,\"#bd3786\"],[0.5555555555555556,\"#d8576b\"],[0.6666666666666666,\"#ed7953\"],[0.7777777777777778,\"#fb9f3a\"],[0.8888888888888888,\"#fdca26\"],[1.0,\"#f0f921\"]]}],\"contourcarpet\":[{\"type\":\"contourcarpet\",\"colorbar\":{\"outlinewidth\":0,\"ticks\":\"\"}}],\"contour\":[{\"type\":\"contour\",\"colorbar\":{\"outlinewidth\":0,\"ticks\":\"\"},\"colorscale\":[[0.0,\"#0d0887\"],[0.1111111111111111,\"#46039f\"],[0.2222222222222222,\"#7201a8\"],[0.3333333333333333,\"#9c179e\"],[0.4444444444444444,\"#bd3786\"],[0.5555555555555556,\"#d8576b\"],[0.6666666666666666,\"#ed7953\"],[0.7777777777777778,\"#fb9f3a\"],[0.8888888888888888,\"#fdca26\"],[1.0,\"#f0f921\"]]}],\"surface\":[{\"type\":\"surface\",\"colorbar\":{\"outlinewidth\":0,\"ticks\":\"\"},\"colorscale\":[[0.0,\"#0d0887\"],[0.1111111111111111,\"#46039f\"],[0.2222222222222222,\"#7201a8\"],[0.3333333333333333,\"#9c179e\"],[0.4444444444444444,\"#bd3786\"],[0.5555555555555556,\"#d8576b\"],[0.6666666666666666,\"#ed7953\"],[0.7777777777777778,\"#fb9f3a\"],[0.8888888888888888,\"#fdca26\"],[1.0,\"#f0f921\"]]}],\"mesh3d\":[{\"type\":\"mesh3d\",\"colorbar\":{\"outlinewidth\":0,\"ticks\":\"\"}}],\"scatter\":[{\"marker\":{\"line\":{\"color\":\"#283442\"}},\"type\":\"scatter\"}],\"parcoords\":[{\"type\":\"parcoords\",\"line\":{\"colorbar\":{\"outlinewidth\":0,\"ticks\":\"\"}}}],\"scatterpolargl\":[{\"type\":\"scatterpolargl\",\"marker\":{\"colorbar\":{\"outlinewidth\":0,\"ticks\":\"\"}}}],\"bar\":[{\"error_x\":{\"color\":\"#f2f5fa\"},\"error_y\":{\"color\":\"#f2f5fa\"},\"marker\":{\"line\":{\"color\":\"rgb(17,17,17)\",\"width\":0.5},\"pattern\":{\"fillmode\":\"overlay\",\"size\":10,\"solidity\":0.2}},\"type\":\"bar\"}],\"scattergeo\":[{\"type\":\"scattergeo\",\"marker\":{\"colorbar\":{\"outlinewidth\":0,\"ticks\":\"\"}}}],\"scatterpolar\":[{\"type\":\"scatterpolar\",\"marker\":{\"colorbar\":{\"outlinewidth\":0,\"ticks\":\"\"}}}],\"histogram\":[{\"marker\":{\"pattern\":{\"fillmode\":\"overlay\",\"size\":10,\"solidity\":0.2}},\"type\":\"histogram\"}],\"scattergl\":[{\"marker\":{\"line\":{\"color\":\"#283442\"}},\"type\":\"scattergl\"}],\"scatter3d\":[{\"type\":\"scatter3d\",\"line\":{\"colorbar\":{\"outlinewidth\":0,\"ticks\":\"\"}},\"marker\":{\"colorbar\":{\"outlinewidth\":0,\"ticks\":\"\"}}}],\"scattermapbox\":[{\"type\":\"scattermapbox\",\"marker\":{\"colorbar\":{\"outlinewidth\":0,\"ticks\":\"\"}}}],\"scatterternary\":[{\"type\":\"scatterternary\",\"marker\":{\"colorbar\":{\"outlinewidth\":0,\"ticks\":\"\"}}}],\"scattercarpet\":[{\"type\":\"scattercarpet\",\"marker\":{\"colorbar\":{\"outlinewidth\":0,\"ticks\":\"\"}}}],\"carpet\":[{\"aaxis\":{\"endlinecolor\":\"#A2B1C6\",\"gridcolor\":\"#506784\",\"linecolor\":\"#506784\",\"minorgridcolor\":\"#506784\",\"startlinecolor\":\"#A2B1C6\"},\"baxis\":{\"endlinecolor\":\"#A2B1C6\",\"gridcolor\":\"#506784\",\"linecolor\":\"#506784\",\"minorgridcolor\":\"#506784\",\"startlinecolor\":\"#A2B1C6\"},\"type\":\"carpet\"}],\"table\":[{\"cells\":{\"fill\":{\"color\":\"#506784\"},\"line\":{\"color\":\"rgb(17,17,17)\"}},\"header\":{\"fill\":{\"color\":\"#2a3f5f\"},\"line\":{\"color\":\"rgb(17,17,17)\"}},\"type\":\"table\"}],\"barpolar\":[{\"marker\":{\"line\":{\"color\":\"rgb(17,17,17)\",\"width\":0.5},\"pattern\":{\"fillmode\":\"overlay\",\"size\":10,\"solidity\":0.2}},\"type\":\"barpolar\"}],\"pie\":[{\"automargin\":true,\"type\":\"pie\"}]},\"layout\":{\"autotypenumbers\":\"strict\",\"colorway\":[\"#636efa\",\"#EF553B\",\"#00cc96\",\"#ab63fa\",\"#FFA15A\",\"#19d3f3\",\"#FF6692\",\"#B6E880\",\"#FF97FF\",\"#FECB52\"],\"font\":{\"color\":\"#f2f5fa\"},\"hovermode\":\"closest\",\"hoverlabel\":{\"align\":\"left\"},\"paper_bgcolor\":\"rgb(17,17,17)\",\"plot_bgcolor\":\"rgb(17,17,17)\",\"polar\":{\"bgcolor\":\"rgb(17,17,17)\",\"angularaxis\":{\"gridcolor\":\"#506784\",\"linecolor\":\"#506784\",\"ticks\":\"\"},\"radialaxis\":{\"gridcolor\":\"#506784\",\"linecolor\":\"#506784\",\"ticks\":\"\"}},\"ternary\":{\"bgcolor\":\"rgb(17,17,17)\",\"aaxis\":{\"gridcolor\":\"#506784\",\"linecolor\":\"#506784\",\"ticks\":\"\"},\"baxis\":{\"gridcolor\":\"#506784\",\"linecolor\":\"#506784\",\"ticks\":\"\"},\"caxis\":{\"gridcolor\":\"#506784\",\"linecolor\":\"#506784\",\"ticks\":\"\"}},\"coloraxis\":{\"colorbar\":{\"outlinewidth\":0,\"ticks\":\"\"}},\"colorscale\":{\"sequential\":[[0.0,\"#0d0887\"],[0.1111111111111111,\"#46039f\"],[0.2222222222222222,\"#7201a8\"],[0.3333333333333333,\"#9c179e\"],[0.4444444444444444,\"#bd3786\"],[0.5555555555555556,\"#d8576b\"],[0.6666666666666666,\"#ed7953\"],[0.7777777777777778,\"#fb9f3a\"],[0.8888888888888888,\"#fdca26\"],[1.0,\"#f0f921\"]],\"sequentialminus\":[[0.0,\"#0d0887\"],[0.1111111111111111,\"#46039f\"],[0.2222222222222222,\"#7201a8\"],[0.3333333333333333,\"#9c179e\"],[0.4444444444444444,\"#bd3786\"],[0.5555555555555556,\"#d8576b\"],[0.6666666666666666,\"#ed7953\"],[0.7777777777777778,\"#fb9f3a\"],[0.8888888888888888,\"#fdca26\"],[1.0,\"#f0f921\"]],\"diverging\":[[0,\"#8e0152\"],[0.1,\"#c51b7d\"],[0.2,\"#de77ae\"],[0.3,\"#f1b6da\"],[0.4,\"#fde0ef\"],[0.5,\"#f7f7f7\"],[0.6,\"#e6f5d0\"],[0.7,\"#b8e186\"],[0.8,\"#7fbc41\"],[0.9,\"#4d9221\"],[1,\"#276419\"]]},\"xaxis\":{\"gridcolor\":\"#283442\",\"linecolor\":\"#506784\",\"ticks\":\"\",\"title\":{\"standoff\":15},\"zerolinecolor\":\"#283442\",\"automargin\":true,\"zerolinewidth\":2},\"yaxis\":{\"gridcolor\":\"#283442\",\"linecolor\":\"#506784\",\"ticks\":\"\",\"title\":{\"standoff\":15},\"zerolinecolor\":\"#283442\",\"automargin\":true,\"zerolinewidth\":2},\"scene\":{\"xaxis\":{\"backgroundcolor\":\"rgb(17,17,17)\",\"gridcolor\":\"#506784\",\"linecolor\":\"#506784\",\"showbackground\":true,\"ticks\":\"\",\"zerolinecolor\":\"#C8D4E3\",\"gridwidth\":2},\"yaxis\":{\"backgroundcolor\":\"rgb(17,17,17)\",\"gridcolor\":\"#506784\",\"linecolor\":\"#506784\",\"showbackground\":true,\"ticks\":\"\",\"zerolinecolor\":\"#C8D4E3\",\"gridwidth\":2},\"zaxis\":{\"backgroundcolor\":\"rgb(17,17,17)\",\"gridcolor\":\"#506784\",\"linecolor\":\"#506784\",\"showbackground\":true,\"ticks\":\"\",\"zerolinecolor\":\"#C8D4E3\",\"gridwidth\":2}},\"shapedefaults\":{\"line\":{\"color\":\"#f2f5fa\"}},\"annotationdefaults\":{\"arrowcolor\":\"#f2f5fa\",\"arrowhead\":0,\"arrowwidth\":1},\"geo\":{\"bgcolor\":\"rgb(17,17,17)\",\"landcolor\":\"rgb(17,17,17)\",\"subunitcolor\":\"#506784\",\"showland\":true,\"showlakes\":true,\"lakecolor\":\"rgb(17,17,17)\"},\"title\":{\"x\":0.05},\"updatemenudefaults\":{\"bgcolor\":\"#506784\",\"borderwidth\":0},\"sliderdefaults\":{\"bgcolor\":\"#C8D4E3\",\"borderwidth\":1,\"bordercolor\":\"rgb(17,17,17)\",\"tickwidth\":0},\"mapbox\":{\"style\":\"dark\"}}},\"title\":{\"text\":\"Layer of Neurons\"},\"scene\":{\"xaxis\":{\"title\":{\"text\":\"X\"}},\"yaxis\":{\"title\":{\"text\":\"Y\"}},\"zaxis\":{\"title\":{\"text\":\"Z\"}}}},                        {\"responsive\": true}                    ).then(function(){\n",
       "                            \n",
       "var gd = document.getElementById('06ff69af-374c-4456-afc3-b55ab4e9c438');\n",
       "var x = new MutationObserver(function (mutations, observer) {{\n",
       "        var display = window.getComputedStyle(gd).display;\n",
       "        if (!display || display === 'none') {{\n",
       "            console.log([gd, 'removed!']);\n",
       "            Plotly.purge(gd);\n",
       "            observer.disconnect();\n",
       "        }}\n",
       "}});\n",
       "\n",
       "// Listen for the removal of the full notebook cells\n",
       "var notebookContainer = gd.closest('#notebook-container');\n",
       "if (notebookContainer) {{\n",
       "    x.observe(notebookContainer, {childList: true});\n",
       "}}\n",
       "\n",
       "// Listen for the clearing of the current output cell\n",
       "var outputEl = gd.closest('.output');\n",
       "if (outputEl) {{\n",
       "    x.observe(outputEl, {childList: true});\n",
       "}}\n",
       "\n",
       "                        })                };                });            </script>        </div>"
      ]
     },
     "metadata": {},
     "output_type": "display_data"
    }
   ],
   "execution_count": 75
  },
  {
   "metadata": {
    "ExecuteTime": {
     "end_time": "2024-09-11T18:33:34.584241Z",
     "start_time": "2024-09-11T18:33:34.568313Z"
    }
   },
   "cell_type": "code",
   "source": [
    "# Graph the inputs, weights and biases on a line plot\n",
    "from plotly import graph_objects as go\n",
    "\n",
    "fig = go.Figure()\n",
    "fig.add_trace(\n",
    "    go.Scatter(\n",
    "        x=inputs[0], y=inputs[1], mode='lines+markers', \n",
    "    xaxis='x', yaxis='y', name='Inputs'\n",
    "    ))\n",
    "fig.add_trace(\n",
    "    go.Scatter(\n",
    "        x=weights[0], y=weights[1], mode='lines+markers', \n",
    "    xaxis='x', yaxis='y', name='Weights'\n",
    "    ))\n",
    "fig.add_trace(\n",
    "    go.Scatter(\n",
    "        x=biases, y=biases, mode='lines+markers', \n",
    "    xaxis='x', yaxis='y', name='Biases'\n",
    "    ))\n",
    "fig.add_trace(\n",
    "    go.Scatter(\n",
    "        x=layer_outputs[0], y=layer_outputs[1], mode='lines+markers', \n",
    "    xaxis='x', yaxis='y', name='Layer Outputs'\n",
    "    ))\n",
    "fig.add_trace(\n",
    "    go.Scatter(\n",
    "        x=predictions[0], y=predictions[1], mode='lines+markers', \n",
    "    xaxis='x', yaxis='y', name='Predictions'\n",
    "    ))\n",
    "fig.add_trace(\n",
    "    go.Scatter(\n",
    "        x=error_rate[0], y=error_rate[1], mode='lines+markers', \n",
    "    xaxis='x', yaxis='y', name='Error Rate'\n",
    "    ))\n",
    "fig.update_layout(title='Layer of Neurons', xaxis_title='X', yaxis_title='Y')\n",
    "fig.show()\n",
    "\n"
   ],
   "id": "d2daa4e63edddbf9",
   "outputs": [
    {
     "data": {
      "application/vnd.plotly.v1+json": {
       "data": [
        {
         "mode": "lines+markers",
         "name": "Inputs",
         "x": [
          1.0,
          2.0,
          3.0,
          2.5
         ],
         "xaxis": "x",
         "y": [
          2.0,
          5.0,
          -1.0,
          2.0
         ],
         "yaxis": "y",
         "type": "scatter"
        },
        {
         "mode": "lines+markers",
         "name": "Weights",
         "x": [
          0.2,
          0.8,
          -0.5,
          1.0
         ],
         "xaxis": "x",
         "y": [
          0.5,
          -0.91,
          0.26,
          -0.5
         ],
         "yaxis": "y",
         "type": "scatter"
        },
        {
         "mode": "lines+markers",
         "name": "Biases",
         "x": [
          2.0,
          3.0,
          0.5
         ],
         "xaxis": "x",
         "y": [
          2.0,
          3.0,
          0.5
         ],
         "yaxis": "y",
         "type": "scatter"
        },
        {
         "mode": "lines+markers",
         "name": "Layer Outputs",
         "x": [
          4.8,
          1.21,
          2.385
         ],
         "xaxis": "x",
         "y": [
          8.9,
          -1.8100000000000005,
          0.19999999999999996
         ],
         "yaxis": "y",
         "type": "scatter"
        },
        {
         "mode": "lines+markers",
         "name": "Predictions",
         "x": [
          0.9918374288468401,
          0.7702989490466019,
          0.9156763035785255
         ],
         "xaxis": "x",
         "y": [
          0.9998636296729204,
          0.14063812573413412,
          0.5498339973124778
         ],
         "yaxis": "y",
         "type": "scatter"
        },
        {
         "mode": "lines+markers",
         "name": "Error Rate",
         "x": [
          0.008162571153159881,
          0.2297010509533981,
          0.08432369642147453
         ],
         "xaxis": "x",
         "y": [
          1.363703270795824E-4,
          0.8593618742658659,
          0.45016600268752216
         ],
         "yaxis": "y",
         "type": "scatter"
        }
       ],
       "layout": {
        "template": {
         "data": {
          "histogram2dcontour": [
           {
            "type": "histogram2dcontour",
            "colorbar": {
             "outlinewidth": 0,
             "ticks": ""
            },
            "colorscale": [
             [
              0.0,
              "#0d0887"
             ],
             [
              0.1111111111111111,
              "#46039f"
             ],
             [
              0.2222222222222222,
              "#7201a8"
             ],
             [
              0.3333333333333333,
              "#9c179e"
             ],
             [
              0.4444444444444444,
              "#bd3786"
             ],
             [
              0.5555555555555556,
              "#d8576b"
             ],
             [
              0.6666666666666666,
              "#ed7953"
             ],
             [
              0.7777777777777778,
              "#fb9f3a"
             ],
             [
              0.8888888888888888,
              "#fdca26"
             ],
             [
              1.0,
              "#f0f921"
             ]
            ]
           }
          ],
          "choropleth": [
           {
            "type": "choropleth",
            "colorbar": {
             "outlinewidth": 0,
             "ticks": ""
            }
           }
          ],
          "histogram2d": [
           {
            "type": "histogram2d",
            "colorbar": {
             "outlinewidth": 0,
             "ticks": ""
            },
            "colorscale": [
             [
              0.0,
              "#0d0887"
             ],
             [
              0.1111111111111111,
              "#46039f"
             ],
             [
              0.2222222222222222,
              "#7201a8"
             ],
             [
              0.3333333333333333,
              "#9c179e"
             ],
             [
              0.4444444444444444,
              "#bd3786"
             ],
             [
              0.5555555555555556,
              "#d8576b"
             ],
             [
              0.6666666666666666,
              "#ed7953"
             ],
             [
              0.7777777777777778,
              "#fb9f3a"
             ],
             [
              0.8888888888888888,
              "#fdca26"
             ],
             [
              1.0,
              "#f0f921"
             ]
            ]
           }
          ],
          "heatmap": [
           {
            "type": "heatmap",
            "colorbar": {
             "outlinewidth": 0,
             "ticks": ""
            },
            "colorscale": [
             [
              0.0,
              "#0d0887"
             ],
             [
              0.1111111111111111,
              "#46039f"
             ],
             [
              0.2222222222222222,
              "#7201a8"
             ],
             [
              0.3333333333333333,
              "#9c179e"
             ],
             [
              0.4444444444444444,
              "#bd3786"
             ],
             [
              0.5555555555555556,
              "#d8576b"
             ],
             [
              0.6666666666666666,
              "#ed7953"
             ],
             [
              0.7777777777777778,
              "#fb9f3a"
             ],
             [
              0.8888888888888888,
              "#fdca26"
             ],
             [
              1.0,
              "#f0f921"
             ]
            ]
           }
          ],
          "heatmapgl": [
           {
            "type": "heatmapgl",
            "colorbar": {
             "outlinewidth": 0,
             "ticks": ""
            },
            "colorscale": [
             [
              0.0,
              "#0d0887"
             ],
             [
              0.1111111111111111,
              "#46039f"
             ],
             [
              0.2222222222222222,
              "#7201a8"
             ],
             [
              0.3333333333333333,
              "#9c179e"
             ],
             [
              0.4444444444444444,
              "#bd3786"
             ],
             [
              0.5555555555555556,
              "#d8576b"
             ],
             [
              0.6666666666666666,
              "#ed7953"
             ],
             [
              0.7777777777777778,
              "#fb9f3a"
             ],
             [
              0.8888888888888888,
              "#fdca26"
             ],
             [
              1.0,
              "#f0f921"
             ]
            ]
           }
          ],
          "contourcarpet": [
           {
            "type": "contourcarpet",
            "colorbar": {
             "outlinewidth": 0,
             "ticks": ""
            }
           }
          ],
          "contour": [
           {
            "type": "contour",
            "colorbar": {
             "outlinewidth": 0,
             "ticks": ""
            },
            "colorscale": [
             [
              0.0,
              "#0d0887"
             ],
             [
              0.1111111111111111,
              "#46039f"
             ],
             [
              0.2222222222222222,
              "#7201a8"
             ],
             [
              0.3333333333333333,
              "#9c179e"
             ],
             [
              0.4444444444444444,
              "#bd3786"
             ],
             [
              0.5555555555555556,
              "#d8576b"
             ],
             [
              0.6666666666666666,
              "#ed7953"
             ],
             [
              0.7777777777777778,
              "#fb9f3a"
             ],
             [
              0.8888888888888888,
              "#fdca26"
             ],
             [
              1.0,
              "#f0f921"
             ]
            ]
           }
          ],
          "surface": [
           {
            "type": "surface",
            "colorbar": {
             "outlinewidth": 0,
             "ticks": ""
            },
            "colorscale": [
             [
              0.0,
              "#0d0887"
             ],
             [
              0.1111111111111111,
              "#46039f"
             ],
             [
              0.2222222222222222,
              "#7201a8"
             ],
             [
              0.3333333333333333,
              "#9c179e"
             ],
             [
              0.4444444444444444,
              "#bd3786"
             ],
             [
              0.5555555555555556,
              "#d8576b"
             ],
             [
              0.6666666666666666,
              "#ed7953"
             ],
             [
              0.7777777777777778,
              "#fb9f3a"
             ],
             [
              0.8888888888888888,
              "#fdca26"
             ],
             [
              1.0,
              "#f0f921"
             ]
            ]
           }
          ],
          "mesh3d": [
           {
            "type": "mesh3d",
            "colorbar": {
             "outlinewidth": 0,
             "ticks": ""
            }
           }
          ],
          "scatter": [
           {
            "marker": {
             "line": {
              "color": "#283442"
             }
            },
            "type": "scatter"
           }
          ],
          "parcoords": [
           {
            "type": "parcoords",
            "line": {
             "colorbar": {
              "outlinewidth": 0,
              "ticks": ""
             }
            }
           }
          ],
          "scatterpolargl": [
           {
            "type": "scatterpolargl",
            "marker": {
             "colorbar": {
              "outlinewidth": 0,
              "ticks": ""
             }
            }
           }
          ],
          "bar": [
           {
            "error_x": {
             "color": "#f2f5fa"
            },
            "error_y": {
             "color": "#f2f5fa"
            },
            "marker": {
             "line": {
              "color": "rgb(17,17,17)",
              "width": 0.5
             },
             "pattern": {
              "fillmode": "overlay",
              "size": 10,
              "solidity": 0.2
             }
            },
            "type": "bar"
           }
          ],
          "scattergeo": [
           {
            "type": "scattergeo",
            "marker": {
             "colorbar": {
              "outlinewidth": 0,
              "ticks": ""
             }
            }
           }
          ],
          "scatterpolar": [
           {
            "type": "scatterpolar",
            "marker": {
             "colorbar": {
              "outlinewidth": 0,
              "ticks": ""
             }
            }
           }
          ],
          "histogram": [
           {
            "marker": {
             "pattern": {
              "fillmode": "overlay",
              "size": 10,
              "solidity": 0.2
             }
            },
            "type": "histogram"
           }
          ],
          "scattergl": [
           {
            "marker": {
             "line": {
              "color": "#283442"
             }
            },
            "type": "scattergl"
           }
          ],
          "scatter3d": [
           {
            "type": "scatter3d",
            "line": {
             "colorbar": {
              "outlinewidth": 0,
              "ticks": ""
             }
            },
            "marker": {
             "colorbar": {
              "outlinewidth": 0,
              "ticks": ""
             }
            }
           }
          ],
          "scattermapbox": [
           {
            "type": "scattermapbox",
            "marker": {
             "colorbar": {
              "outlinewidth": 0,
              "ticks": ""
             }
            }
           }
          ],
          "scatterternary": [
           {
            "type": "scatterternary",
            "marker": {
             "colorbar": {
              "outlinewidth": 0,
              "ticks": ""
             }
            }
           }
          ],
          "scattercarpet": [
           {
            "type": "scattercarpet",
            "marker": {
             "colorbar": {
              "outlinewidth": 0,
              "ticks": ""
             }
            }
           }
          ],
          "carpet": [
           {
            "aaxis": {
             "endlinecolor": "#A2B1C6",
             "gridcolor": "#506784",
             "linecolor": "#506784",
             "minorgridcolor": "#506784",
             "startlinecolor": "#A2B1C6"
            },
            "baxis": {
             "endlinecolor": "#A2B1C6",
             "gridcolor": "#506784",
             "linecolor": "#506784",
             "minorgridcolor": "#506784",
             "startlinecolor": "#A2B1C6"
            },
            "type": "carpet"
           }
          ],
          "table": [
           {
            "cells": {
             "fill": {
              "color": "#506784"
             },
             "line": {
              "color": "rgb(17,17,17)"
             }
            },
            "header": {
             "fill": {
              "color": "#2a3f5f"
             },
             "line": {
              "color": "rgb(17,17,17)"
             }
            },
            "type": "table"
           }
          ],
          "barpolar": [
           {
            "marker": {
             "line": {
              "color": "rgb(17,17,17)",
              "width": 0.5
             },
             "pattern": {
              "fillmode": "overlay",
              "size": 10,
              "solidity": 0.2
             }
            },
            "type": "barpolar"
           }
          ],
          "pie": [
           {
            "automargin": true,
            "type": "pie"
           }
          ]
         },
         "layout": {
          "autotypenumbers": "strict",
          "colorway": [
           "#636efa",
           "#EF553B",
           "#00cc96",
           "#ab63fa",
           "#FFA15A",
           "#19d3f3",
           "#FF6692",
           "#B6E880",
           "#FF97FF",
           "#FECB52"
          ],
          "font": {
           "color": "#f2f5fa"
          },
          "hovermode": "closest",
          "hoverlabel": {
           "align": "left"
          },
          "paper_bgcolor": "rgb(17,17,17)",
          "plot_bgcolor": "rgb(17,17,17)",
          "polar": {
           "bgcolor": "rgb(17,17,17)",
           "angularaxis": {
            "gridcolor": "#506784",
            "linecolor": "#506784",
            "ticks": ""
           },
           "radialaxis": {
            "gridcolor": "#506784",
            "linecolor": "#506784",
            "ticks": ""
           }
          },
          "ternary": {
           "bgcolor": "rgb(17,17,17)",
           "aaxis": {
            "gridcolor": "#506784",
            "linecolor": "#506784",
            "ticks": ""
           },
           "baxis": {
            "gridcolor": "#506784",
            "linecolor": "#506784",
            "ticks": ""
           },
           "caxis": {
            "gridcolor": "#506784",
            "linecolor": "#506784",
            "ticks": ""
           }
          },
          "coloraxis": {
           "colorbar": {
            "outlinewidth": 0,
            "ticks": ""
           }
          },
          "colorscale": {
           "sequential": [
            [
             0.0,
             "#0d0887"
            ],
            [
             0.1111111111111111,
             "#46039f"
            ],
            [
             0.2222222222222222,
             "#7201a8"
            ],
            [
             0.3333333333333333,
             "#9c179e"
            ],
            [
             0.4444444444444444,
             "#bd3786"
            ],
            [
             0.5555555555555556,
             "#d8576b"
            ],
            [
             0.6666666666666666,
             "#ed7953"
            ],
            [
             0.7777777777777778,
             "#fb9f3a"
            ],
            [
             0.8888888888888888,
             "#fdca26"
            ],
            [
             1.0,
             "#f0f921"
            ]
           ],
           "sequentialminus": [
            [
             0.0,
             "#0d0887"
            ],
            [
             0.1111111111111111,
             "#46039f"
            ],
            [
             0.2222222222222222,
             "#7201a8"
            ],
            [
             0.3333333333333333,
             "#9c179e"
            ],
            [
             0.4444444444444444,
             "#bd3786"
            ],
            [
             0.5555555555555556,
             "#d8576b"
            ],
            [
             0.6666666666666666,
             "#ed7953"
            ],
            [
             0.7777777777777778,
             "#fb9f3a"
            ],
            [
             0.8888888888888888,
             "#fdca26"
            ],
            [
             1.0,
             "#f0f921"
            ]
           ],
           "diverging": [
            [
             0,
             "#8e0152"
            ],
            [
             0.1,
             "#c51b7d"
            ],
            [
             0.2,
             "#de77ae"
            ],
            [
             0.3,
             "#f1b6da"
            ],
            [
             0.4,
             "#fde0ef"
            ],
            [
             0.5,
             "#f7f7f7"
            ],
            [
             0.6,
             "#e6f5d0"
            ],
            [
             0.7,
             "#b8e186"
            ],
            [
             0.8,
             "#7fbc41"
            ],
            [
             0.9,
             "#4d9221"
            ],
            [
             1,
             "#276419"
            ]
           ]
          },
          "xaxis": {
           "gridcolor": "#283442",
           "linecolor": "#506784",
           "ticks": "",
           "title": {
            "standoff": 15
           },
           "zerolinecolor": "#283442",
           "automargin": true,
           "zerolinewidth": 2
          },
          "yaxis": {
           "gridcolor": "#283442",
           "linecolor": "#506784",
           "ticks": "",
           "title": {
            "standoff": 15
           },
           "zerolinecolor": "#283442",
           "automargin": true,
           "zerolinewidth": 2
          },
          "scene": {
           "xaxis": {
            "backgroundcolor": "rgb(17,17,17)",
            "gridcolor": "#506784",
            "linecolor": "#506784",
            "showbackground": true,
            "ticks": "",
            "zerolinecolor": "#C8D4E3",
            "gridwidth": 2
           },
           "yaxis": {
            "backgroundcolor": "rgb(17,17,17)",
            "gridcolor": "#506784",
            "linecolor": "#506784",
            "showbackground": true,
            "ticks": "",
            "zerolinecolor": "#C8D4E3",
            "gridwidth": 2
           },
           "zaxis": {
            "backgroundcolor": "rgb(17,17,17)",
            "gridcolor": "#506784",
            "linecolor": "#506784",
            "showbackground": true,
            "ticks": "",
            "zerolinecolor": "#C8D4E3",
            "gridwidth": 2
           }
          },
          "shapedefaults": {
           "line": {
            "color": "#f2f5fa"
           }
          },
          "annotationdefaults": {
           "arrowcolor": "#f2f5fa",
           "arrowhead": 0,
           "arrowwidth": 1
          },
          "geo": {
           "bgcolor": "rgb(17,17,17)",
           "landcolor": "rgb(17,17,17)",
           "subunitcolor": "#506784",
           "showland": true,
           "showlakes": true,
           "lakecolor": "rgb(17,17,17)"
          },
          "title": {
           "x": 0.05
          },
          "updatemenudefaults": {
           "bgcolor": "#506784",
           "borderwidth": 0
          },
          "sliderdefaults": {
           "bgcolor": "#C8D4E3",
           "borderwidth": 1,
           "bordercolor": "rgb(17,17,17)",
           "tickwidth": 0
          },
          "mapbox": {
           "style": "dark"
          }
         }
        },
        "title": {
         "text": "Layer of Neurons"
        },
        "xaxis": {
         "title": {
          "text": "X"
         }
        },
        "yaxis": {
         "title": {
          "text": "Y"
         }
        }
       },
       "config": {
        "plotlyServerURL": "https://plot.ly"
       }
      },
      "text/html": [
       "<div>                            <div id=\"c5763c5c-8e69-44f8-9f49-9358086dba06\" class=\"plotly-graph-div\" style=\"height:525px; width:100%;\"></div>            <script type=\"text/javascript\">                require([\"plotly\"], function(Plotly) {                    window.PLOTLYENV=window.PLOTLYENV || {};                                    if (document.getElementById(\"c5763c5c-8e69-44f8-9f49-9358086dba06\")) {                    Plotly.newPlot(                        \"c5763c5c-8e69-44f8-9f49-9358086dba06\",                        [{\"mode\":\"lines+markers\",\"name\":\"Inputs\",\"x\":[1.0,2.0,3.0,2.5],\"xaxis\":\"x\",\"y\":[2.0,5.0,-1.0,2.0],\"yaxis\":\"y\",\"type\":\"scatter\"},{\"mode\":\"lines+markers\",\"name\":\"Weights\",\"x\":[0.2,0.8,-0.5,1.0],\"xaxis\":\"x\",\"y\":[0.5,-0.91,0.26,-0.5],\"yaxis\":\"y\",\"type\":\"scatter\"},{\"mode\":\"lines+markers\",\"name\":\"Biases\",\"x\":[2.0,3.0,0.5],\"xaxis\":\"x\",\"y\":[2.0,3.0,0.5],\"yaxis\":\"y\",\"type\":\"scatter\"},{\"mode\":\"lines+markers\",\"name\":\"Layer Outputs\",\"x\":[4.8,1.21,2.385],\"xaxis\":\"x\",\"y\":[8.9,-1.8100000000000005,0.19999999999999996],\"yaxis\":\"y\",\"type\":\"scatter\"},{\"mode\":\"lines+markers\",\"name\":\"Predictions\",\"x\":[0.9918374288468401,0.7702989490466019,0.9156763035785255],\"xaxis\":\"x\",\"y\":[0.9998636296729204,0.14063812573413412,0.5498339973124778],\"yaxis\":\"y\",\"type\":\"scatter\"},{\"mode\":\"lines+markers\",\"name\":\"Error Rate\",\"x\":[0.008162571153159881,0.2297010509533981,0.08432369642147453],\"xaxis\":\"x\",\"y\":[0.0001363703270795824,0.8593618742658659,0.45016600268752216],\"yaxis\":\"y\",\"type\":\"scatter\"}],                        {\"template\":{\"data\":{\"histogram2dcontour\":[{\"type\":\"histogram2dcontour\",\"colorbar\":{\"outlinewidth\":0,\"ticks\":\"\"},\"colorscale\":[[0.0,\"#0d0887\"],[0.1111111111111111,\"#46039f\"],[0.2222222222222222,\"#7201a8\"],[0.3333333333333333,\"#9c179e\"],[0.4444444444444444,\"#bd3786\"],[0.5555555555555556,\"#d8576b\"],[0.6666666666666666,\"#ed7953\"],[0.7777777777777778,\"#fb9f3a\"],[0.8888888888888888,\"#fdca26\"],[1.0,\"#f0f921\"]]}],\"choropleth\":[{\"type\":\"choropleth\",\"colorbar\":{\"outlinewidth\":0,\"ticks\":\"\"}}],\"histogram2d\":[{\"type\":\"histogram2d\",\"colorbar\":{\"outlinewidth\":0,\"ticks\":\"\"},\"colorscale\":[[0.0,\"#0d0887\"],[0.1111111111111111,\"#46039f\"],[0.2222222222222222,\"#7201a8\"],[0.3333333333333333,\"#9c179e\"],[0.4444444444444444,\"#bd3786\"],[0.5555555555555556,\"#d8576b\"],[0.6666666666666666,\"#ed7953\"],[0.7777777777777778,\"#fb9f3a\"],[0.8888888888888888,\"#fdca26\"],[1.0,\"#f0f921\"]]}],\"heatmap\":[{\"type\":\"heatmap\",\"colorbar\":{\"outlinewidth\":0,\"ticks\":\"\"},\"colorscale\":[[0.0,\"#0d0887\"],[0.1111111111111111,\"#46039f\"],[0.2222222222222222,\"#7201a8\"],[0.3333333333333333,\"#9c179e\"],[0.4444444444444444,\"#bd3786\"],[0.5555555555555556,\"#d8576b\"],[0.6666666666666666,\"#ed7953\"],[0.7777777777777778,\"#fb9f3a\"],[0.8888888888888888,\"#fdca26\"],[1.0,\"#f0f921\"]]}],\"heatmapgl\":[{\"type\":\"heatmapgl\",\"colorbar\":{\"outlinewidth\":0,\"ticks\":\"\"},\"colorscale\":[[0.0,\"#0d0887\"],[0.1111111111111111,\"#46039f\"],[0.2222222222222222,\"#7201a8\"],[0.3333333333333333,\"#9c179e\"],[0.4444444444444444,\"#bd3786\"],[0.5555555555555556,\"#d8576b\"],[0.6666666666666666,\"#ed7953\"],[0.7777777777777778,\"#fb9f3a\"],[0.8888888888888888,\"#fdca26\"],[1.0,\"#f0f921\"]]}],\"contourcarpet\":[{\"type\":\"contourcarpet\",\"colorbar\":{\"outlinewidth\":0,\"ticks\":\"\"}}],\"contour\":[{\"type\":\"contour\",\"colorbar\":{\"outlinewidth\":0,\"ticks\":\"\"},\"colorscale\":[[0.0,\"#0d0887\"],[0.1111111111111111,\"#46039f\"],[0.2222222222222222,\"#7201a8\"],[0.3333333333333333,\"#9c179e\"],[0.4444444444444444,\"#bd3786\"],[0.5555555555555556,\"#d8576b\"],[0.6666666666666666,\"#ed7953\"],[0.7777777777777778,\"#fb9f3a\"],[0.8888888888888888,\"#fdca26\"],[1.0,\"#f0f921\"]]}],\"surface\":[{\"type\":\"surface\",\"colorbar\":{\"outlinewidth\":0,\"ticks\":\"\"},\"colorscale\":[[0.0,\"#0d0887\"],[0.1111111111111111,\"#46039f\"],[0.2222222222222222,\"#7201a8\"],[0.3333333333333333,\"#9c179e\"],[0.4444444444444444,\"#bd3786\"],[0.5555555555555556,\"#d8576b\"],[0.6666666666666666,\"#ed7953\"],[0.7777777777777778,\"#fb9f3a\"],[0.8888888888888888,\"#fdca26\"],[1.0,\"#f0f921\"]]}],\"mesh3d\":[{\"type\":\"mesh3d\",\"colorbar\":{\"outlinewidth\":0,\"ticks\":\"\"}}],\"scatter\":[{\"marker\":{\"line\":{\"color\":\"#283442\"}},\"type\":\"scatter\"}],\"parcoords\":[{\"type\":\"parcoords\",\"line\":{\"colorbar\":{\"outlinewidth\":0,\"ticks\":\"\"}}}],\"scatterpolargl\":[{\"type\":\"scatterpolargl\",\"marker\":{\"colorbar\":{\"outlinewidth\":0,\"ticks\":\"\"}}}],\"bar\":[{\"error_x\":{\"color\":\"#f2f5fa\"},\"error_y\":{\"color\":\"#f2f5fa\"},\"marker\":{\"line\":{\"color\":\"rgb(17,17,17)\",\"width\":0.5},\"pattern\":{\"fillmode\":\"overlay\",\"size\":10,\"solidity\":0.2}},\"type\":\"bar\"}],\"scattergeo\":[{\"type\":\"scattergeo\",\"marker\":{\"colorbar\":{\"outlinewidth\":0,\"ticks\":\"\"}}}],\"scatterpolar\":[{\"type\":\"scatterpolar\",\"marker\":{\"colorbar\":{\"outlinewidth\":0,\"ticks\":\"\"}}}],\"histogram\":[{\"marker\":{\"pattern\":{\"fillmode\":\"overlay\",\"size\":10,\"solidity\":0.2}},\"type\":\"histogram\"}],\"scattergl\":[{\"marker\":{\"line\":{\"color\":\"#283442\"}},\"type\":\"scattergl\"}],\"scatter3d\":[{\"type\":\"scatter3d\",\"line\":{\"colorbar\":{\"outlinewidth\":0,\"ticks\":\"\"}},\"marker\":{\"colorbar\":{\"outlinewidth\":0,\"ticks\":\"\"}}}],\"scattermapbox\":[{\"type\":\"scattermapbox\",\"marker\":{\"colorbar\":{\"outlinewidth\":0,\"ticks\":\"\"}}}],\"scatterternary\":[{\"type\":\"scatterternary\",\"marker\":{\"colorbar\":{\"outlinewidth\":0,\"ticks\":\"\"}}}],\"scattercarpet\":[{\"type\":\"scattercarpet\",\"marker\":{\"colorbar\":{\"outlinewidth\":0,\"ticks\":\"\"}}}],\"carpet\":[{\"aaxis\":{\"endlinecolor\":\"#A2B1C6\",\"gridcolor\":\"#506784\",\"linecolor\":\"#506784\",\"minorgridcolor\":\"#506784\",\"startlinecolor\":\"#A2B1C6\"},\"baxis\":{\"endlinecolor\":\"#A2B1C6\",\"gridcolor\":\"#506784\",\"linecolor\":\"#506784\",\"minorgridcolor\":\"#506784\",\"startlinecolor\":\"#A2B1C6\"},\"type\":\"carpet\"}],\"table\":[{\"cells\":{\"fill\":{\"color\":\"#506784\"},\"line\":{\"color\":\"rgb(17,17,17)\"}},\"header\":{\"fill\":{\"color\":\"#2a3f5f\"},\"line\":{\"color\":\"rgb(17,17,17)\"}},\"type\":\"table\"}],\"barpolar\":[{\"marker\":{\"line\":{\"color\":\"rgb(17,17,17)\",\"width\":0.5},\"pattern\":{\"fillmode\":\"overlay\",\"size\":10,\"solidity\":0.2}},\"type\":\"barpolar\"}],\"pie\":[{\"automargin\":true,\"type\":\"pie\"}]},\"layout\":{\"autotypenumbers\":\"strict\",\"colorway\":[\"#636efa\",\"#EF553B\",\"#00cc96\",\"#ab63fa\",\"#FFA15A\",\"#19d3f3\",\"#FF6692\",\"#B6E880\",\"#FF97FF\",\"#FECB52\"],\"font\":{\"color\":\"#f2f5fa\"},\"hovermode\":\"closest\",\"hoverlabel\":{\"align\":\"left\"},\"paper_bgcolor\":\"rgb(17,17,17)\",\"plot_bgcolor\":\"rgb(17,17,17)\",\"polar\":{\"bgcolor\":\"rgb(17,17,17)\",\"angularaxis\":{\"gridcolor\":\"#506784\",\"linecolor\":\"#506784\",\"ticks\":\"\"},\"radialaxis\":{\"gridcolor\":\"#506784\",\"linecolor\":\"#506784\",\"ticks\":\"\"}},\"ternary\":{\"bgcolor\":\"rgb(17,17,17)\",\"aaxis\":{\"gridcolor\":\"#506784\",\"linecolor\":\"#506784\",\"ticks\":\"\"},\"baxis\":{\"gridcolor\":\"#506784\",\"linecolor\":\"#506784\",\"ticks\":\"\"},\"caxis\":{\"gridcolor\":\"#506784\",\"linecolor\":\"#506784\",\"ticks\":\"\"}},\"coloraxis\":{\"colorbar\":{\"outlinewidth\":0,\"ticks\":\"\"}},\"colorscale\":{\"sequential\":[[0.0,\"#0d0887\"],[0.1111111111111111,\"#46039f\"],[0.2222222222222222,\"#7201a8\"],[0.3333333333333333,\"#9c179e\"],[0.4444444444444444,\"#bd3786\"],[0.5555555555555556,\"#d8576b\"],[0.6666666666666666,\"#ed7953\"],[0.7777777777777778,\"#fb9f3a\"],[0.8888888888888888,\"#fdca26\"],[1.0,\"#f0f921\"]],\"sequentialminus\":[[0.0,\"#0d0887\"],[0.1111111111111111,\"#46039f\"],[0.2222222222222222,\"#7201a8\"],[0.3333333333333333,\"#9c179e\"],[0.4444444444444444,\"#bd3786\"],[0.5555555555555556,\"#d8576b\"],[0.6666666666666666,\"#ed7953\"],[0.7777777777777778,\"#fb9f3a\"],[0.8888888888888888,\"#fdca26\"],[1.0,\"#f0f921\"]],\"diverging\":[[0,\"#8e0152\"],[0.1,\"#c51b7d\"],[0.2,\"#de77ae\"],[0.3,\"#f1b6da\"],[0.4,\"#fde0ef\"],[0.5,\"#f7f7f7\"],[0.6,\"#e6f5d0\"],[0.7,\"#b8e186\"],[0.8,\"#7fbc41\"],[0.9,\"#4d9221\"],[1,\"#276419\"]]},\"xaxis\":{\"gridcolor\":\"#283442\",\"linecolor\":\"#506784\",\"ticks\":\"\",\"title\":{\"standoff\":15},\"zerolinecolor\":\"#283442\",\"automargin\":true,\"zerolinewidth\":2},\"yaxis\":{\"gridcolor\":\"#283442\",\"linecolor\":\"#506784\",\"ticks\":\"\",\"title\":{\"standoff\":15},\"zerolinecolor\":\"#283442\",\"automargin\":true,\"zerolinewidth\":2},\"scene\":{\"xaxis\":{\"backgroundcolor\":\"rgb(17,17,17)\",\"gridcolor\":\"#506784\",\"linecolor\":\"#506784\",\"showbackground\":true,\"ticks\":\"\",\"zerolinecolor\":\"#C8D4E3\",\"gridwidth\":2},\"yaxis\":{\"backgroundcolor\":\"rgb(17,17,17)\",\"gridcolor\":\"#506784\",\"linecolor\":\"#506784\",\"showbackground\":true,\"ticks\":\"\",\"zerolinecolor\":\"#C8D4E3\",\"gridwidth\":2},\"zaxis\":{\"backgroundcolor\":\"rgb(17,17,17)\",\"gridcolor\":\"#506784\",\"linecolor\":\"#506784\",\"showbackground\":true,\"ticks\":\"\",\"zerolinecolor\":\"#C8D4E3\",\"gridwidth\":2}},\"shapedefaults\":{\"line\":{\"color\":\"#f2f5fa\"}},\"annotationdefaults\":{\"arrowcolor\":\"#f2f5fa\",\"arrowhead\":0,\"arrowwidth\":1},\"geo\":{\"bgcolor\":\"rgb(17,17,17)\",\"landcolor\":\"rgb(17,17,17)\",\"subunitcolor\":\"#506784\",\"showland\":true,\"showlakes\":true,\"lakecolor\":\"rgb(17,17,17)\"},\"title\":{\"x\":0.05},\"updatemenudefaults\":{\"bgcolor\":\"#506784\",\"borderwidth\":0},\"sliderdefaults\":{\"bgcolor\":\"#C8D4E3\",\"borderwidth\":1,\"bordercolor\":\"rgb(17,17,17)\",\"tickwidth\":0},\"mapbox\":{\"style\":\"dark\"}}},\"title\":{\"text\":\"Layer of Neurons\"},\"xaxis\":{\"title\":{\"text\":\"X\"}},\"yaxis\":{\"title\":{\"text\":\"Y\"}}},                        {\"responsive\": true}                    ).then(function(){\n",
       "                            \n",
       "var gd = document.getElementById('c5763c5c-8e69-44f8-9f49-9358086dba06');\n",
       "var x = new MutationObserver(function (mutations, observer) {{\n",
       "        var display = window.getComputedStyle(gd).display;\n",
       "        if (!display || display === 'none') {{\n",
       "            console.log([gd, 'removed!']);\n",
       "            Plotly.purge(gd);\n",
       "            observer.disconnect();\n",
       "        }}\n",
       "}});\n",
       "\n",
       "// Listen for the removal of the full notebook cells\n",
       "var notebookContainer = gd.closest('#notebook-container');\n",
       "if (notebookContainer) {{\n",
       "    x.observe(notebookContainer, {childList: true});\n",
       "}}\n",
       "\n",
       "// Listen for the clearing of the current output cell\n",
       "var outputEl = gd.closest('.output');\n",
       "if (outputEl) {{\n",
       "    x.observe(outputEl, {childList: true});\n",
       "}}\n",
       "\n",
       "                        })                };                });            </script>        </div>"
      ]
     },
     "metadata": {},
     "output_type": "display_data"
    }
   ],
   "execution_count": 76
  },
  {
   "metadata": {},
   "cell_type": "markdown",
   "source": [
    "## Hidden Layers\n",
    "\n",
    "A classic multilayer perceptron has multiple interconnected `perceptrons`, such as units that are organized in different sequential layers (`input layer`, one or more `hidden layers`, and an `output layer`). Each unit of a layer is connected to all units of the `next layer`. First, the information is presented to the `input layer`, then we use it to compute the output (or `activation`), $y_i$, for each unit of the first hidden layer. We propagate forward, with the output as input for the next layers in the network (hence feedforward), and so on until we reach the output. The most common way to train Neural Networks is by using `gradient descent` in combination with `backpropagation`.\n",
    "\n",
    "Think of the `hidden layers` as an abstract representation of the input data. This is the way the Neural Network understands the features of the data with its internal logic. However, Neural Networks are `non-interpretable models`. This means that if we observe the $y_i$ activations of the `hidden layer`, we wouldn’t be able to understand them. For us, they are just a `vector of numerical values`. We need the output layer to bridge the gap between the network’s representation and the actual data we’re interested in. You can think of this as a `translator`; we use it to understand the network’s logic, and at the same time, we can convert it into the actual target values that we are interested in.\n",
    "\n",
    "---\n",
    "\n",
    "### Hidden Layer Forward Pass\n",
    "\n",
    "Input layer `A` has 4 features into 2 hidden layers with 3 neurons each. Each neuron has 4 weights and 1 bias. The output of the hidden layer is a $3x3$ matrix. The output of the hidden layer is passed to the output layer is a $3x3$ matrix.\n",
    "\n",
    "**Note: inputs to layers are either inputs from the actual dataset you’re training with or outputs from a previous layer.**\n"
   ],
   "id": "88f0d38032d7ae03"
  },
  {
   "metadata": {
    "ExecuteTime": {
     "end_time": "2024-09-11T18:35:51.552117Z",
     "start_time": "2024-09-11T18:35:51.355946Z"
    }
   },
   "cell_type": "code",
   "source": [
    "from src.utils.mermaid import mm_save_as_png, display_image_from_file\n",
    "\n",
    "mermaid_diagram = \"\"\"---\n",
    "title: Neural Network with 2 Hidden Layers\n",
    "---\n",
    "\n",
    "%%{\n",
    "  init: {\n",
    "    'theme': 'forest',\n",
    "    'themeVariables': {\n",
    "      'primaryColor': '#BB2528',\n",
    "      'primaryTextColor': '#ffffff',       // Change to white for better contrast\n",
    "      'primaryBorderColor': '#28bb25',\n",
    "      'lineColor': '#28bb25',\n",
    "      'secondaryColor': '#006100',\n",
    "      'secondaryBorderColor': '#003700',\n",
    "      'secondaryTextColor': '#ffffff',       // Change to white for better contrast\n",
    "      'tertiaryColor': '#000000',          // Use dark background for better contrast\n",
    "      'tertiaryBorderColor': '#ffffff',\n",
    "      'orientation': 'landscape'\n",
    "    }\n",
    "  }\n",
    "}%%\n",
    "\n",
    "flowchart LR\n",
    "    subgraph subGraph0[\"Output Layer D1\"]\n",
    "      direction TB\n",
    "        D1(\"$$\\\\text{activation}_{D_1} (\\\\sum_{i=1}^{n} w_i \\\\cdot x_i + b )$$\")\n",
    "    end\n",
    "    \n",
    "    subgraph subGraph1[\"Hidden Layer 2\"]\n",
    "      direction TB\n",
    "        C1(\"$$\\\\text{activation}_{C_1}\\\\left(\\\\sum_{i=1}^{n} w_i \\\\cdot x_i + b \\\\right)$$\")\n",
    "        C2(\"$$\\\\text{activation}_{C_2}\\\\left(\\\\sum_{i=1}^{n} w_i \\\\cdot x_i + b \\\\right)$$\")\n",
    "        C3(\"$$\\\\text{activation}_{C_3}\\\\left(\\\\sum_{i=1}^{n} w_i \\\\cdot x_i + b \\\\right)$$\")\n",
    "        C4(\"$$\\\\text{activation}_{C_4}\\\\left(\\\\sum_{i=1}^{n} w_i \\\\cdot x_i + b \\\\right)$$\")\n",
    "    end\n",
    "    \n",
    "    subgraph subGraph2[\"Hidden Layer 1\"]\n",
    "      direction TB\n",
    "        B1(\"$$\\\\text{activation}_{B_1}\\\\left(\\\\sum_{i=1}^{n} w_i \\\\cdot x_i + b \\\\right)$$\")\n",
    "        B2(\"$$\\\\text{activation}_{B_2}\\\\left(\\\\sum_{i=1}^{n} w_i \\\\cdot x_i + b \\\\right)$$\")\n",
    "        B3(\"$$\\\\text{activation}_{B_3}\\\\left(\\\\sum_{i=1}^{n} w_i \\\\cdot x_i + b \\\\right)$$\")\n",
    "        B4(\"$$\\\\text{activation}_{B_4}\\\\left(\\\\sum_{i=1}^{n} w_i \\\\cdot x_i + b \\\\right)$$\")\n",
    "    end\n",
    "    \n",
    "    subgraph subGraph3[\"Input Layer\"]\n",
    "      direction TB\n",
    "        A1[\"$$\\\\text{input}_{1}$$\"]\n",
    "        A2[\"$$\\\\text{input}_{2}$$\"]\n",
    "        A3[\"$$\\\\text{input}_{3}$$\"]\n",
    "        A4[\"$$\\\\text{input}_{4}$$\"]\n",
    "    end\n",
    "    \n",
    "    %% Weights: Layer 1\n",
    "    subgraph WeightsLayer1[\"Layer 1 Weights\"]\n",
    "      direction TB\n",
    "        W11[\"$$\\\\text{w}_{1_1}$$\"]\n",
    "        W12[\"$$\\\\text{w}_{1_2}$$\"]\n",
    "        W13[\"$$\\\\text{w}_{1_3}$$\"]\n",
    "        W14[\"$$\\\\text{w}_{1_4}$$\"]\n",
    "        W21[\"$$\\\\text{w}_{2_1}$$\"]\n",
    "        W22[\"$$\\\\text{w}_{2_2}$$\"]\n",
    "        W23[\"$$\\\\text{w}_{2_3}$$\"]\n",
    "        W24[\"$$\\\\text{w}_{2_4}$$\"]\n",
    "        W31[\"$$\\\\text{w}_{3_1}$$\"]\n",
    "        W32[\"$$\\\\text{w}_{3_2}$$\"]\n",
    "        W33[\"$$\\\\text{w}_{3_3}$$\"]\n",
    "        W34[\"$$\\\\text{w}_{3_4}$$\"]\n",
    "        W41[\"$$\\\\text{w}_{4_1}$$\"]\n",
    "        W42[\"$$\\\\text{w}_{4_2}$$\"]\n",
    "        W43[\"$$\\\\text{w}_{4_3}$$\"]\n",
    "        W44[\"$$\\\\text{w}_{4_4}$$\"]\n",
    "        Bias11[\"$$\\\\text{b}_{1_1}$$\"]\n",
    "        Bias12[\"$$\\\\text{b}_{1_2}$$\"]\n",
    "        Bias13[\"$$\\\\text{b}_{1_3}$$\"]\n",
    "        Bias14[\"$$\\\\text{b}_{1_4}$$\"]\n",
    "    end\n",
    "\n",
    "    subgraph WeightsLayer2[\"Layer 2 Weights\"]\n",
    "      direction TB\n",
    "        W211[\"$$\\\\text{w}_{1_1}$$\"]\n",
    "        W212[\"$$\\\\text{w}_{1_2}$$\"]\n",
    "        W213[\"$$\\\\text{w}_{1_3}$$\"]\n",
    "        W214[\"$$\\\\text{w}_{1_4}$$\"]\n",
    "        W221[\"$$\\\\text{w}_{2_1}$$\"]\n",
    "        W222[\"$$\\\\text{w}_{2_2}$$\"]\n",
    "        W223[\"$$\\\\text{w}_{2_3}$$\"]\n",
    "        W224[\"$$\\\\text{w}_{2_4}$$\"]\n",
    "        W231[\"$$\\\\text{w}_{3_1}$$\"]\n",
    "        W232[\"$$\\\\text{w}_{3_2}$$\"]\n",
    "        W233[\"$$\\\\text{w}_{3_3}$$\"]\n",
    "        W234[\"$$\\\\text{w}_{3_4}$$\"]\n",
    "        W241[\"$$\\\\text{w}_{4_1}$$\"]\n",
    "        W242[\"$$\\\\text{w}_{4_2}$$\"]\n",
    "        W243[\"$$\\\\text{w}_{4_3}$$\"]\n",
    "        W244[\"$$\\\\text{w}_{4_4}$$\"]\n",
    "        Bias21[\"$$\\\\text{b}_{2_1}$$\"]\n",
    "        Bias22[\"$$\\\\text{b}_{2_2}$$\"]\n",
    "        Bias23[\"$$\\\\text{b}_{2_3}$$\"]\n",
    "        Bias24[\"$$\\\\text{b}_{2_4}$$\"]\n",
    "    end\n",
    "    \n",
    "    subgraph WeightsLayer3[\"Output Layer Weights\"]\n",
    "      direction TB\n",
    "        W311[\"$$\\\\text{w}_{1_1}$$\"]\n",
    "        W321[\"$$\\\\text{w}_{1_2}$$\"]\n",
    "        W331[\"$$\\\\text{w}_{1_3}$$\"]\n",
    "        W341[\"$$\\\\text{w}_{1_4}$$\"]\n",
    "        Bias31[\"$$\\\\text{b}_{3_1}$$\"]\n",
    "    end\n",
    "    \n",
    "    %% Layers\n",
    "    A1 --- W11 --> B1\n",
    "    A1 --- W12 --> B2\n",
    "    A1 --- W13 --> B3\n",
    "    A1 --- W14 --> B4\n",
    "    A2 --- W21 --> B1\n",
    "    A2 --- W22 --> B2\n",
    "    A2 --- W23 --> B3\n",
    "    A2 --- W24 --> B4\n",
    "    A3 --- W31 --> B1\n",
    "    A3 --- W32 --> B2\n",
    "    A3 --- W33 --> B3\n",
    "    A3 --- W34 --> B4\n",
    "    A4 --- W41 --> B1\n",
    "    A4 --- W42 --> B2\n",
    "    A4 --- W43 --> B3\n",
    "    A4 --- W44 --> B4\n",
    "    \n",
    "    %% Layer 2\n",
    "    B1 --- W211 --> C1\n",
    "    B1 --- W212 --> C2\n",
    "    B1 --- W213 --> C3\n",
    "    B1 --- W214 --> C4\n",
    "    B2 --- W221 --> C1\n",
    "    B2 --- W222 --> C2\n",
    "    B2 --- W223 --> C3\n",
    "    B2 --- W224 --> C4\n",
    "    B3 --- W231 --> C1\n",
    "    B3 --- W232 --> C2\n",
    "    B3 --- W233 --> C3\n",
    "    B3 --- W234 --> C4\n",
    "    B4 --- W241 --> C1\n",
    "    B4 --- W242 --> C2\n",
    "    B4 --- W243 --> C3\n",
    "    B4 --- W244 --> C4\n",
    "    \n",
    "    %% Output Layer\n",
    "    C1 --- W311 --> D1\n",
    "    C2 --- W321 --> D1\n",
    "    C3 --- W331 --> D1\n",
    "    C4 --- W341 --> D1\n",
    "    \n",
    "    %% Bias\n",
    "    Bias11 --> B1\n",
    "    Bias12 --> B2\n",
    "    Bias13 --> B3\n",
    "    Bias14 --> B4\n",
    "    Bias21 --> C1\n",
    "    Bias22 --> C2\n",
    "    Bias23 --> C3\n",
    "    Bias24 --> C4\n",
    "    Bias31 --> D1\n",
    "    \n",
    "    %% Style\n",
    "    style Bias11 color:#ffffff,fill:#42f569,stroke-width:1px,stroke-dasharray: 1\n",
    "    style Bias12 color:#ffffff,fill:#42f569,stroke-width:1px,stroke-dasharray: 1\n",
    "    style Bias13 color:#ffffff,fill:#42f569,stroke-width:1px,stroke-dasharray: 1\n",
    "    style Bias14 color:#ffffff,fill:#42f569,stroke-width:1px,stroke-dasharray: 1\n",
    "    style Bias21 color:#ffffff,fill:#42f569,stroke-width:1px,stroke-dasharray: 1\n",
    "    style Bias22 color:#ffffff,fill:#42f569,stroke-width:1px,stroke-dasharray: 1\n",
    "    style Bias23 color:#ffffff,fill:#42f569,stroke-width:1px,stroke-dasharray: 1\n",
    "    style Bias24 color:#ffffff,fill:#42f569,stroke-width:1px,stroke-dasharray: 1\n",
    "    style Bias31 color:#ffffff,fill:#42f569,stroke-width:1px,stroke-dasharray: 1\n",
    "    style subGraph3 color:#ffffff,fill:none\n",
    "    style subGraph2 color:#ffffff,fill:none\n",
    "    style subGraph1 color:#ffffff,fill:none\n",
    "    style subGraph0 color:#ffffff,fill:none\n",
    "    style D1 color:#ffffff,fill:#baace6,stroke:#003700,stroke-width:1px\n",
    "    style C1 color:#ffffff,fill:#ecfc03,stroke:#003700,stroke-width:1px\n",
    "    style C2 color:#ffffff,fill:#ecfc03,stroke:#003700,stroke-width:1px\n",
    "    style C3 color:#ffffff,fill:#ecfc03,stroke:#003700,stroke-width:1px\n",
    "    style C4 color:#ffffff,fill:#ecfc03,stroke:#003700,stroke-width:1px\n",
    "    style B1 color:#ffffff,fill:#03fc2c,stroke:#003700,stroke-width:1px\n",
    "    style B2 color:#ffffff,fill:#03fc2c,stroke:#003700,stroke-width:1px\n",
    "    style B3 color:#ffffff,fill:#03fc2c,stroke:#003700,stroke-width:1px\n",
    "    style B4 color:#ffffff,fill:#03fc2c,stroke:#003700,stroke-width:1px\n",
    "    style A1 color:#ffffff,fill:#42a7f5,stroke:#003700,stroke-width:1px\n",
    "    style A2 color:#ffffff,fill:#42a7f5,stroke:#003700,stroke-width:1px\n",
    "    style A3 color:#ffffff,fill:#42a7f5,stroke:#003700,stroke-width:1px\n",
    "    style A4 color:#ffffff,fill:#42a7f5,stroke:#003700,stroke-width:1px\n",
    "    style WeightsLayer1 color:#ffffff,fill:none,stroke:#003700,stroke-width:1px\n",
    "    style WeightsLayer2 color:#ffffff,fill:none,stroke:#003700,stroke-width:1px\n",
    "    style WeightsLayer3 color:#ffffff,fill:none,stroke:#003700,stroke-width:1px\n",
    "\"\"\"\n",
    "\n",
    "# Save the mermaid diagram\n",
    "filepath = mm_save_as_png(mermaid_diagram, '../assets/images/hidden-layer-forward-pass.png')\n",
    "\n",
    "# # Get the mermaid diagram from a file\n",
    "# display_image_from_file('../assets/images/hidden-layer-forward-pass.png')\n"
   ],
   "id": "86d99ace6ce27f13",
   "outputs": [],
   "execution_count": 96
  },
  {
   "metadata": {},
   "cell_type": "markdown",
   "source": [
    "---\n",
    "\n",
    "#### Example Neural Network with Two hidden layers of neurons.\n",
    "\n",
    "[![Neural Network](../assets/images/hidden-layer-forward-pass.png \"Neural Network\")](../assets/images/hidden-layer-forward-pass.png)\n",
    "\n",
    "---\n"
   ],
   "id": "37d2761c88f53e8a"
  },
  {
   "metadata": {
    "ExecuteTime": {
     "end_time": "2024-09-11T18:33:34.991127Z",
     "start_time": "2024-09-11T18:33:34.985936Z"
    }
   },
   "cell_type": "code",
   "source": [
    "# Process the inputs, weights, bias and outputs of the hidden layers\n",
    "from typing_extensions import Callable\n",
    "def process_layer(inputs, weights, biases):\n",
    "    outputs = []\n",
    "    # For each neuron in the layer\n",
    "    # Calculate the weighted sum of inputs and add the bias for each neuron\n",
    "    for weight, bias in zip(weights, biases):\n",
    "        # Reset the output\n",
    "        output = 0\n",
    "        # For each weight and bias to the neuron\n",
    "        if isinstance(weight, (list, np.ndarray)) \\\n",
    "                and isinstance(bias, (list, np.ndarray)):\n",
    "            outputs.extend(process_layer(inputs, weight, bias))\n",
    "        # For each input and weight to the neuron\n",
    "        for n, w in zip(inputs, weight):\n",
    "            # Multiply the input by the weight and add to the output\n",
    "            output += n * w\n",
    "        # Add the bias\n",
    "        output += bias\n",
    "        # Append the output to the outputs\n",
    "        outputs.append(output)\n",
    "    return outputs"
   ],
   "id": "43a9410e38fd740e",
   "outputs": [],
   "execution_count": 78
  },
  {
   "metadata": {
    "ExecuteTime": {
     "end_time": "2024-09-11T18:33:35.071102Z",
     "start_time": "2024-09-11T18:33:35.065802Z"
    }
   },
   "cell_type": "code",
   "source": [
    "# Hidden Layer Forward Pass Example\n",
    "from src.functions.activation import Sigmoid,ReLU\n",
    "\n",
    "# Initialize the activation function\n",
    "sigmoid = Sigmoid()\n",
    "relu = ReLU()\n",
    "\n",
    "# inputs to the layer of neurons\n",
    "inputs = [1.0, 2.0, 3.0, 2.5]\n",
    "weights = [\n",
    "    [0.2, 0.8, -0.5, 1.0],\n",
    "    [0.5, -0.91, 0.26, -0.5],\n",
    "    [-0.26, -0.27, 0.17, 0.87],\n",
    "    [1.2, -2.1, 0.2, 0.1]\n",
    "]\n",
    "weights2 = [\n",
    "    [0.21, 0.81, -0.51, 1.01],\n",
    "    [0.51, -0.91, 0.27, -0.51],\n",
    "    [-0.27, -0.28, 0.18, 0.88],\n",
    "    [1.21, -2.11, 0.21, 0.11]\n",
    "]\n",
    "biases = [2.0, 3.0, 0.5, 1.0]\n",
    "biases2 = [2.0, 3.0, 0.5, 1.0]\n",
    "\n",
    "# calculate the weighted sum of inputs and add the bias for each neuron\n",
    "# Hidden Layer 1\n",
    "layer_outputs = relu(process_layer(inputs, weights, biases))\n",
    "print(f\"Hidden Layer 1 Outputs Post ReLU Activation: \\n{layer_outputs}\")\n",
    "\n",
    "# Hidden Layer 2\n",
    "layer_outputs2 = sigmoid(process_layer(layer_outputs, weights2, biases2))\n",
    "print(f\"Hidden Layer 2 Outputs Post Sigmoid Activation: \\n{layer_outputs2}\")\n",
    "\n"
   ],
   "id": "54838df899e61511",
   "outputs": [
    {
     "name": "stdout",
     "output_type": "stream",
     "text": [
      "Hidden Layer 1 Outputs Post ReLU Activation: \n",
      "[4.8   1.21  2.385 0.   ]\n",
      "Hidden Layer 2 Outputs Post Sigmoid Activation: \n",
      "[0.94113002 0.99324604 0.33059394 0.99147127]\n"
     ]
    }
   ],
   "execution_count": 79
  },
  {
   "metadata": {
    "ExecuteTime": {
     "end_time": "2024-09-11T18:33:35.187246Z",
     "start_time": "2024-09-11T18:33:35.181279Z"
    }
   },
   "cell_type": "code",
   "source": [
    "\n",
    "import numpy as np\n",
    "\n",
    "# Create the input data\n",
    "inputs=np.array([\n",
    "    [1,2,3,2.5], \n",
    "    [2.,5.,-1.,2], \n",
    "    [-1.5,2.7,3.3,-0.8]\n",
    "])\n",
    "# Create the weights and biases\n",
    "weights=np.array([\n",
    "    [0.2,0.8,-0.5,1],\n",
    "    [0.5,-0.91,0.26,-0.5],\n",
    "    [-0.26,-0.27,0.17,0.87]\n",
    "])\n",
    "biases=np.array([2,3,0.5])\n",
    "weights2=np.array([\n",
    "    [0.1,-0.14,0.5], \n",
    "    [-0.5,0.12,-0.33],\n",
    "    [-0.44,0.73,-0.13]\n",
    "])\n",
    "biases2=np.array([-1,2,-0.5])\n",
    "# Calculate the output of the hidden layers of neurons\n",
    "layer1_outputs=(np.dot(inputs, weights.T) + biases) \n",
    "print(layer1_outputs)\n",
    "# Calculate the output of the output layer of neurons\n",
    "layer2_outputs=(np.dot(layer1_outputs, weights2.T) + biases2)\n",
    "print(layer2_outputs)"
   ],
   "id": "9043b4eea43a9f11",
   "outputs": [
    {
     "name": "stdout",
     "output_type": "stream",
     "text": [
      "[[ 4.8    1.21   2.385]\n",
      " [ 8.9   -1.81   0.2  ]\n",
      " [ 1.41   1.051  0.026]]\n",
      "[[ 0.5031  -1.04185 -2.03875]\n",
      " [ 0.2434  -2.7332  -5.7633 ]\n",
      " [-0.99314  1.41254 -0.35655]]\n"
     ]
    }
   ],
   "execution_count": 80
  },
  {
   "metadata": {
    "ExecuteTime": {
     "end_time": "2024-09-11T18:33:35.311743Z",
     "start_time": "2024-09-11T18:33:35.305369Z"
    }
   },
   "cell_type": "code",
   "source": [
    "from src.utils.datasets import create_random_nonlinear_3D_dataset\n",
    "\n",
    "# Create a nonlinear dataset\n",
    "X, y, z = create_random_nonlinear_3D_dataset(10, 10, 10, 3)\n",
    "\n",
    "# Get the X, y, z and n values\n",
    "print(X.shape)  # (10, 10, 3)\n",
    "print(y.shape)  # (10, 10, 3)\n",
    "print(z.shape)  # (10, 10, 3)\n",
    "\n",
    "# Since we have 3 dimensions, we need to flatten the data\n",
    "X_flat = X.flatten()\n",
    "y_flat = y.flatten()\n",
    "z_flat = z.flatten()\n",
    "n_flat = np.sqrt(X_flat**2 + y_flat**2 + z_flat**2)\n",
    "\n",
    "# Log the shapes\n",
    "print(X_flat.shape)  # (300,)\n",
    "print(y_flat.shape)  # (300,)\n",
    "print(z_flat.shape)  # (300,)\n",
    "print(n_flat.shape)  # (300,)"
   ],
   "id": "ae0bf4859bf2eb50",
   "outputs": [
    {
     "name": "stdout",
     "output_type": "stream",
     "text": [
      "(10, 3)\n",
      "(10, 3)\n",
      "(10, 3)\n",
      "(30,)\n",
      "(30,)\n",
      "(30,)\n",
      "(30,)\n"
     ]
    }
   ],
   "execution_count": 81
  },
  {
   "metadata": {
    "ExecuteTime": {
     "end_time": "2024-09-11T18:33:38.659525Z",
     "start_time": "2024-09-11T18:33:35.402359Z"
    }
   },
   "cell_type": "code",
   "source": [
    "# Graph the dataset\n",
    "from plotly import graph_objects as go\n",
    "\n",
    "# Create the 3D scatter plot\n",
    "fig = go.Figure()\n",
    "# Add trace to represent all the data points in the dataset\n",
    "fig.add_trace(\n",
    "    go.Scatter3d(\n",
    "        x=X_flat, y=y_flat, z=z_flat, mode='markers', \n",
    "        marker=dict(size=5, color=n_flat, opacity=0.5, colorscale='Viridis'), name='Dataset'\n",
    "    )\n",
    ")\n",
    "# Update the layout of the plot\n",
    "fig.update_layout(\n",
    "    title={\n",
    "        'text': '3D onlinear Dataset',\n",
    "        'y': 0.95,\n",
    "        'x': 0.5,\n",
    "        'xanchor': 'center',\n",
    "        'yanchor': 'top',\n",
    "        'font': {\n",
    "            'size': 20  # Adjust the size as needed\n",
    "        }\n",
    "    },\n",
    "    scene=dict(xaxis_title='X', yaxis_title='Y', zaxis_title='Z'),\n",
    "    margin=dict(l=0, r=0, t=0, b=0)\n",
    ")\n",
    "\n",
    "# Save plot to file in png and svg format\n",
    "fig.write_image('../assets/images/scatter_plot_3d_nonlinear.png')\n",
    "fig.write_image('../assets/images/scatter_plot_3d_nonlinear.svg')\n",
    "\n",
    "# Show the plot\n",
    "fig.show()\n"
   ],
   "id": "388171ae7b0a0961",
   "outputs": [
    {
     "data": {
      "application/vnd.plotly.v1+json": {
       "data": [
        {
         "marker": {
          "color": [
           1.6632730847422696,
           1.1262956807485995,
           1.4290859763959398,
           1.215236201998464,
           1.5802837894306363,
           0.9971677788953108,
           1.2387053126878478,
           1.5667441905641533,
           1.4249156992746288,
           1.537901389627821,
           1.4943851728430098,
           1.3109340942271408,
           1.0528905018057813,
           1.27943801179152,
           0.9278476392819833,
           1.5710496951224437,
           0.4350631146197025,
           1.3781389894903524,
           1.2134131201598892,
           1.5073930330277654,
           1.3908404366950295,
           1.1987791072059288,
           1.0420111035341602,
           1.4155339772527147,
           1.4081586019858208,
           1.0495806064759037,
           1.3064533200151516,
           0.7740367968979032,
           1.2898137851450235,
           1.4632010542690699
          ],
          "colorscale": [
           [
            0.0,
            "#440154"
           ],
           [
            0.1111111111111111,
            "#482878"
           ],
           [
            0.2222222222222222,
            "#3e4989"
           ],
           [
            0.3333333333333333,
            "#31688e"
           ],
           [
            0.4444444444444444,
            "#26828e"
           ],
           [
            0.5555555555555556,
            "#1f9e89"
           ],
           [
            0.6666666666666666,
            "#35b779"
           ],
           [
            0.7777777777777778,
            "#6ece58"
           ],
           [
            0.8888888888888888,
            "#b5de2b"
           ],
           [
            1.0,
            "#fde725"
           ]
          ],
          "opacity": 0.5,
          "size": 5
         },
         "mode": "markers",
         "name": "Dataset",
         "x": [
          0.991081182458292,
          0.43193792236168144,
          0.9218721927439567,
          0.8540591557784233,
          0.9833501003543444,
          0.9785899533786951,
          0.9323360695258968,
          0.9991483078519332,
          0.8904393486944931,
          0.9500428303556924,
          0.574431429444719,
          0.9976884466991381,
          0.28306470656323424,
          0.8430395660448874,
          0.28037660363575234,
          0.8103077486357447,
          0.35048830833235795,
          0.5126028640310943,
          0.1467967260397254,
          0.9223245280004124,
          0.9888462218294565,
          0.5377167176709242,
          0.5851071091540245,
          0.43471162510452255,
          0.8933515869349664,
          0.6967071993271818,
          0.8014950502728918,
          0.35659832194889257,
          0.8534789046204831,
          0.49550205088377663
         ],
         "y": [
          0.9435426009088705,
          0.2894138514032009,
          0.5328907729451735,
          0.45721222924523874,
          0.9344570303684263,
          0.1742165913119343,
          0.038865925596112204,
          0.9905928049849803,
          0.5194876166325478,
          0.710152741524983,
          0.9535756836454219,
          0.30054405318373895,
          0.9941123898773315,
          0.960117003635544,
          0.12309431394709244,
          0.9010218872512992,
          0.2475123781949232,
          0.8189796744626557,
          0.8618901525577966,
          0.6522379458501888,
          0.12520609335412444,
          0.9755675012769723,
          0.8356812074241637,
          0.9094655178743166,
          0.8857380804691839,
          0.13498105022782625,
          0.3683723130604204,
          0.6770904181062051,
          0.37367760495936114,
          0.9666074638425612
         ],
         "z": [
          0.9454960626439768,
          0.9991052068299872,
          0.9531347293467389,
          0.7337158595173594,
          0.8106229047253565,
          0.07971111418705212,
          0.8146347310111806,
          0.6892865240922174,
          0.9836844679577217,
          0.978898558796303,
          0.99694984489657,
          0.7955119325478939,
          0.20048275981610048,
          0.06649252160800419,
          0.8758641399947393,
          0.9998790205516371,
          0.07194082335650373,
          0.9827398796007271,
          0.8414080379483391,
          0.9980665724602688,
          0.9700225276284196,
          0.4429448383973519,
          0.21230574712897016,
          0.9937981261571562,
          0.6326939570394237,
          0.7733037203941239,
          0.9637052457765196,
          0.11627194607455484,
          0.8919408092860135,
          0.980359655242881
         ],
         "type": "scatter3d"
        }
       ],
       "layout": {
        "template": {
         "data": {
          "histogram2dcontour": [
           {
            "type": "histogram2dcontour",
            "colorbar": {
             "outlinewidth": 0,
             "ticks": ""
            },
            "colorscale": [
             [
              0.0,
              "#0d0887"
             ],
             [
              0.1111111111111111,
              "#46039f"
             ],
             [
              0.2222222222222222,
              "#7201a8"
             ],
             [
              0.3333333333333333,
              "#9c179e"
             ],
             [
              0.4444444444444444,
              "#bd3786"
             ],
             [
              0.5555555555555556,
              "#d8576b"
             ],
             [
              0.6666666666666666,
              "#ed7953"
             ],
             [
              0.7777777777777778,
              "#fb9f3a"
             ],
             [
              0.8888888888888888,
              "#fdca26"
             ],
             [
              1.0,
              "#f0f921"
             ]
            ]
           }
          ],
          "choropleth": [
           {
            "type": "choropleth",
            "colorbar": {
             "outlinewidth": 0,
             "ticks": ""
            }
           }
          ],
          "histogram2d": [
           {
            "type": "histogram2d",
            "colorbar": {
             "outlinewidth": 0,
             "ticks": ""
            },
            "colorscale": [
             [
              0.0,
              "#0d0887"
             ],
             [
              0.1111111111111111,
              "#46039f"
             ],
             [
              0.2222222222222222,
              "#7201a8"
             ],
             [
              0.3333333333333333,
              "#9c179e"
             ],
             [
              0.4444444444444444,
              "#bd3786"
             ],
             [
              0.5555555555555556,
              "#d8576b"
             ],
             [
              0.6666666666666666,
              "#ed7953"
             ],
             [
              0.7777777777777778,
              "#fb9f3a"
             ],
             [
              0.8888888888888888,
              "#fdca26"
             ],
             [
              1.0,
              "#f0f921"
             ]
            ]
           }
          ],
          "heatmap": [
           {
            "type": "heatmap",
            "colorbar": {
             "outlinewidth": 0,
             "ticks": ""
            },
            "colorscale": [
             [
              0.0,
              "#0d0887"
             ],
             [
              0.1111111111111111,
              "#46039f"
             ],
             [
              0.2222222222222222,
              "#7201a8"
             ],
             [
              0.3333333333333333,
              "#9c179e"
             ],
             [
              0.4444444444444444,
              "#bd3786"
             ],
             [
              0.5555555555555556,
              "#d8576b"
             ],
             [
              0.6666666666666666,
              "#ed7953"
             ],
             [
              0.7777777777777778,
              "#fb9f3a"
             ],
             [
              0.8888888888888888,
              "#fdca26"
             ],
             [
              1.0,
              "#f0f921"
             ]
            ]
           }
          ],
          "heatmapgl": [
           {
            "type": "heatmapgl",
            "colorbar": {
             "outlinewidth": 0,
             "ticks": ""
            },
            "colorscale": [
             [
              0.0,
              "#0d0887"
             ],
             [
              0.1111111111111111,
              "#46039f"
             ],
             [
              0.2222222222222222,
              "#7201a8"
             ],
             [
              0.3333333333333333,
              "#9c179e"
             ],
             [
              0.4444444444444444,
              "#bd3786"
             ],
             [
              0.5555555555555556,
              "#d8576b"
             ],
             [
              0.6666666666666666,
              "#ed7953"
             ],
             [
              0.7777777777777778,
              "#fb9f3a"
             ],
             [
              0.8888888888888888,
              "#fdca26"
             ],
             [
              1.0,
              "#f0f921"
             ]
            ]
           }
          ],
          "contourcarpet": [
           {
            "type": "contourcarpet",
            "colorbar": {
             "outlinewidth": 0,
             "ticks": ""
            }
           }
          ],
          "contour": [
           {
            "type": "contour",
            "colorbar": {
             "outlinewidth": 0,
             "ticks": ""
            },
            "colorscale": [
             [
              0.0,
              "#0d0887"
             ],
             [
              0.1111111111111111,
              "#46039f"
             ],
             [
              0.2222222222222222,
              "#7201a8"
             ],
             [
              0.3333333333333333,
              "#9c179e"
             ],
             [
              0.4444444444444444,
              "#bd3786"
             ],
             [
              0.5555555555555556,
              "#d8576b"
             ],
             [
              0.6666666666666666,
              "#ed7953"
             ],
             [
              0.7777777777777778,
              "#fb9f3a"
             ],
             [
              0.8888888888888888,
              "#fdca26"
             ],
             [
              1.0,
              "#f0f921"
             ]
            ]
           }
          ],
          "surface": [
           {
            "type": "surface",
            "colorbar": {
             "outlinewidth": 0,
             "ticks": ""
            },
            "colorscale": [
             [
              0.0,
              "#0d0887"
             ],
             [
              0.1111111111111111,
              "#46039f"
             ],
             [
              0.2222222222222222,
              "#7201a8"
             ],
             [
              0.3333333333333333,
              "#9c179e"
             ],
             [
              0.4444444444444444,
              "#bd3786"
             ],
             [
              0.5555555555555556,
              "#d8576b"
             ],
             [
              0.6666666666666666,
              "#ed7953"
             ],
             [
              0.7777777777777778,
              "#fb9f3a"
             ],
             [
              0.8888888888888888,
              "#fdca26"
             ],
             [
              1.0,
              "#f0f921"
             ]
            ]
           }
          ],
          "mesh3d": [
           {
            "type": "mesh3d",
            "colorbar": {
             "outlinewidth": 0,
             "ticks": ""
            }
           }
          ],
          "scatter": [
           {
            "marker": {
             "line": {
              "color": "#283442"
             }
            },
            "type": "scatter"
           }
          ],
          "parcoords": [
           {
            "type": "parcoords",
            "line": {
             "colorbar": {
              "outlinewidth": 0,
              "ticks": ""
             }
            }
           }
          ],
          "scatterpolargl": [
           {
            "type": "scatterpolargl",
            "marker": {
             "colorbar": {
              "outlinewidth": 0,
              "ticks": ""
             }
            }
           }
          ],
          "bar": [
           {
            "error_x": {
             "color": "#f2f5fa"
            },
            "error_y": {
             "color": "#f2f5fa"
            },
            "marker": {
             "line": {
              "color": "rgb(17,17,17)",
              "width": 0.5
             },
             "pattern": {
              "fillmode": "overlay",
              "size": 10,
              "solidity": 0.2
             }
            },
            "type": "bar"
           }
          ],
          "scattergeo": [
           {
            "type": "scattergeo",
            "marker": {
             "colorbar": {
              "outlinewidth": 0,
              "ticks": ""
             }
            }
           }
          ],
          "scatterpolar": [
           {
            "type": "scatterpolar",
            "marker": {
             "colorbar": {
              "outlinewidth": 0,
              "ticks": ""
             }
            }
           }
          ],
          "histogram": [
           {
            "marker": {
             "pattern": {
              "fillmode": "overlay",
              "size": 10,
              "solidity": 0.2
             }
            },
            "type": "histogram"
           }
          ],
          "scattergl": [
           {
            "marker": {
             "line": {
              "color": "#283442"
             }
            },
            "type": "scattergl"
           }
          ],
          "scatter3d": [
           {
            "type": "scatter3d",
            "line": {
             "colorbar": {
              "outlinewidth": 0,
              "ticks": ""
             }
            },
            "marker": {
             "colorbar": {
              "outlinewidth": 0,
              "ticks": ""
             }
            }
           }
          ],
          "scattermapbox": [
           {
            "type": "scattermapbox",
            "marker": {
             "colorbar": {
              "outlinewidth": 0,
              "ticks": ""
             }
            }
           }
          ],
          "scatterternary": [
           {
            "type": "scatterternary",
            "marker": {
             "colorbar": {
              "outlinewidth": 0,
              "ticks": ""
             }
            }
           }
          ],
          "scattercarpet": [
           {
            "type": "scattercarpet",
            "marker": {
             "colorbar": {
              "outlinewidth": 0,
              "ticks": ""
             }
            }
           }
          ],
          "carpet": [
           {
            "aaxis": {
             "endlinecolor": "#A2B1C6",
             "gridcolor": "#506784",
             "linecolor": "#506784",
             "minorgridcolor": "#506784",
             "startlinecolor": "#A2B1C6"
            },
            "baxis": {
             "endlinecolor": "#A2B1C6",
             "gridcolor": "#506784",
             "linecolor": "#506784",
             "minorgridcolor": "#506784",
             "startlinecolor": "#A2B1C6"
            },
            "type": "carpet"
           }
          ],
          "table": [
           {
            "cells": {
             "fill": {
              "color": "#506784"
             },
             "line": {
              "color": "rgb(17,17,17)"
             }
            },
            "header": {
             "fill": {
              "color": "#2a3f5f"
             },
             "line": {
              "color": "rgb(17,17,17)"
             }
            },
            "type": "table"
           }
          ],
          "barpolar": [
           {
            "marker": {
             "line": {
              "color": "rgb(17,17,17)",
              "width": 0.5
             },
             "pattern": {
              "fillmode": "overlay",
              "size": 10,
              "solidity": 0.2
             }
            },
            "type": "barpolar"
           }
          ],
          "pie": [
           {
            "automargin": true,
            "type": "pie"
           }
          ]
         },
         "layout": {
          "autotypenumbers": "strict",
          "colorway": [
           "#636efa",
           "#EF553B",
           "#00cc96",
           "#ab63fa",
           "#FFA15A",
           "#19d3f3",
           "#FF6692",
           "#B6E880",
           "#FF97FF",
           "#FECB52"
          ],
          "font": {
           "color": "#f2f5fa"
          },
          "hovermode": "closest",
          "hoverlabel": {
           "align": "left"
          },
          "paper_bgcolor": "rgb(17,17,17)",
          "plot_bgcolor": "rgb(17,17,17)",
          "polar": {
           "bgcolor": "rgb(17,17,17)",
           "angularaxis": {
            "gridcolor": "#506784",
            "linecolor": "#506784",
            "ticks": ""
           },
           "radialaxis": {
            "gridcolor": "#506784",
            "linecolor": "#506784",
            "ticks": ""
           }
          },
          "ternary": {
           "bgcolor": "rgb(17,17,17)",
           "aaxis": {
            "gridcolor": "#506784",
            "linecolor": "#506784",
            "ticks": ""
           },
           "baxis": {
            "gridcolor": "#506784",
            "linecolor": "#506784",
            "ticks": ""
           },
           "caxis": {
            "gridcolor": "#506784",
            "linecolor": "#506784",
            "ticks": ""
           }
          },
          "coloraxis": {
           "colorbar": {
            "outlinewidth": 0,
            "ticks": ""
           }
          },
          "colorscale": {
           "sequential": [
            [
             0.0,
             "#0d0887"
            ],
            [
             0.1111111111111111,
             "#46039f"
            ],
            [
             0.2222222222222222,
             "#7201a8"
            ],
            [
             0.3333333333333333,
             "#9c179e"
            ],
            [
             0.4444444444444444,
             "#bd3786"
            ],
            [
             0.5555555555555556,
             "#d8576b"
            ],
            [
             0.6666666666666666,
             "#ed7953"
            ],
            [
             0.7777777777777778,
             "#fb9f3a"
            ],
            [
             0.8888888888888888,
             "#fdca26"
            ],
            [
             1.0,
             "#f0f921"
            ]
           ],
           "sequentialminus": [
            [
             0.0,
             "#0d0887"
            ],
            [
             0.1111111111111111,
             "#46039f"
            ],
            [
             0.2222222222222222,
             "#7201a8"
            ],
            [
             0.3333333333333333,
             "#9c179e"
            ],
            [
             0.4444444444444444,
             "#bd3786"
            ],
            [
             0.5555555555555556,
             "#d8576b"
            ],
            [
             0.6666666666666666,
             "#ed7953"
            ],
            [
             0.7777777777777778,
             "#fb9f3a"
            ],
            [
             0.8888888888888888,
             "#fdca26"
            ],
            [
             1.0,
             "#f0f921"
            ]
           ],
           "diverging": [
            [
             0,
             "#8e0152"
            ],
            [
             0.1,
             "#c51b7d"
            ],
            [
             0.2,
             "#de77ae"
            ],
            [
             0.3,
             "#f1b6da"
            ],
            [
             0.4,
             "#fde0ef"
            ],
            [
             0.5,
             "#f7f7f7"
            ],
            [
             0.6,
             "#e6f5d0"
            ],
            [
             0.7,
             "#b8e186"
            ],
            [
             0.8,
             "#7fbc41"
            ],
            [
             0.9,
             "#4d9221"
            ],
            [
             1,
             "#276419"
            ]
           ]
          },
          "xaxis": {
           "gridcolor": "#283442",
           "linecolor": "#506784",
           "ticks": "",
           "title": {
            "standoff": 15
           },
           "zerolinecolor": "#283442",
           "automargin": true,
           "zerolinewidth": 2
          },
          "yaxis": {
           "gridcolor": "#283442",
           "linecolor": "#506784",
           "ticks": "",
           "title": {
            "standoff": 15
           },
           "zerolinecolor": "#283442",
           "automargin": true,
           "zerolinewidth": 2
          },
          "scene": {
           "xaxis": {
            "backgroundcolor": "rgb(17,17,17)",
            "gridcolor": "#506784",
            "linecolor": "#506784",
            "showbackground": true,
            "ticks": "",
            "zerolinecolor": "#C8D4E3",
            "gridwidth": 2
           },
           "yaxis": {
            "backgroundcolor": "rgb(17,17,17)",
            "gridcolor": "#506784",
            "linecolor": "#506784",
            "showbackground": true,
            "ticks": "",
            "zerolinecolor": "#C8D4E3",
            "gridwidth": 2
           },
           "zaxis": {
            "backgroundcolor": "rgb(17,17,17)",
            "gridcolor": "#506784",
            "linecolor": "#506784",
            "showbackground": true,
            "ticks": "",
            "zerolinecolor": "#C8D4E3",
            "gridwidth": 2
           }
          },
          "shapedefaults": {
           "line": {
            "color": "#f2f5fa"
           }
          },
          "annotationdefaults": {
           "arrowcolor": "#f2f5fa",
           "arrowhead": 0,
           "arrowwidth": 1
          },
          "geo": {
           "bgcolor": "rgb(17,17,17)",
           "landcolor": "rgb(17,17,17)",
           "subunitcolor": "#506784",
           "showland": true,
           "showlakes": true,
           "lakecolor": "rgb(17,17,17)"
          },
          "title": {
           "x": 0.05
          },
          "updatemenudefaults": {
           "bgcolor": "#506784",
           "borderwidth": 0
          },
          "sliderdefaults": {
           "bgcolor": "#C8D4E3",
           "borderwidth": 1,
           "bordercolor": "rgb(17,17,17)",
           "tickwidth": 0
          },
          "mapbox": {
           "style": "dark"
          }
         }
        },
        "title": {
         "font": {
          "size": 20
         },
         "text": "3D onlinear Dataset",
         "y": 0.95,
         "x": 0.5,
         "xanchor": "center",
         "yanchor": "top"
        },
        "margin": {
         "l": 0,
         "r": 0,
         "t": 0,
         "b": 0
        },
        "scene": {
         "xaxis": {
          "title": {
           "text": "X"
          }
         },
         "yaxis": {
          "title": {
           "text": "Y"
          }
         },
         "zaxis": {
          "title": {
           "text": "Z"
          }
         }
        }
       },
       "config": {
        "plotlyServerURL": "https://plot.ly"
       }
      },
      "text/html": [
       "<div>                            <div id=\"e2ace029-bb66-4e81-9878-638a49515a70\" class=\"plotly-graph-div\" style=\"height:525px; width:100%;\"></div>            <script type=\"text/javascript\">                require([\"plotly\"], function(Plotly) {                    window.PLOTLYENV=window.PLOTLYENV || {};                                    if (document.getElementById(\"e2ace029-bb66-4e81-9878-638a49515a70\")) {                    Plotly.newPlot(                        \"e2ace029-bb66-4e81-9878-638a49515a70\",                        [{\"marker\":{\"color\":[1.6632730847422696,1.1262956807485995,1.4290859763959398,1.215236201998464,1.5802837894306363,0.9971677788953108,1.2387053126878478,1.5667441905641533,1.4249156992746288,1.537901389627821,1.4943851728430098,1.3109340942271408,1.0528905018057813,1.27943801179152,0.9278476392819833,1.5710496951224437,0.4350631146197025,1.3781389894903524,1.2134131201598892,1.5073930330277654,1.3908404366950295,1.1987791072059288,1.0420111035341602,1.4155339772527147,1.4081586019858208,1.0495806064759037,1.3064533200151516,0.7740367968979032,1.2898137851450235,1.4632010542690699],\"colorscale\":[[0.0,\"#440154\"],[0.1111111111111111,\"#482878\"],[0.2222222222222222,\"#3e4989\"],[0.3333333333333333,\"#31688e\"],[0.4444444444444444,\"#26828e\"],[0.5555555555555556,\"#1f9e89\"],[0.6666666666666666,\"#35b779\"],[0.7777777777777778,\"#6ece58\"],[0.8888888888888888,\"#b5de2b\"],[1.0,\"#fde725\"]],\"opacity\":0.5,\"size\":5},\"mode\":\"markers\",\"name\":\"Dataset\",\"x\":[0.991081182458292,0.43193792236168144,0.9218721927439567,0.8540591557784233,0.9833501003543444,0.9785899533786951,0.9323360695258968,0.9991483078519332,0.8904393486944931,0.9500428303556924,0.574431429444719,0.9976884466991381,0.28306470656323424,0.8430395660448874,0.28037660363575234,0.8103077486357447,0.35048830833235795,0.5126028640310943,0.1467967260397254,0.9223245280004124,0.9888462218294565,0.5377167176709242,0.5851071091540245,0.43471162510452255,0.8933515869349664,0.6967071993271818,0.8014950502728918,0.35659832194889257,0.8534789046204831,0.49550205088377663],\"y\":[0.9435426009088705,0.2894138514032009,0.5328907729451735,0.45721222924523874,0.9344570303684263,0.1742165913119343,0.038865925596112204,0.9905928049849803,0.5194876166325478,0.710152741524983,0.9535756836454219,0.30054405318373895,0.9941123898773315,0.960117003635544,0.12309431394709244,0.9010218872512992,0.2475123781949232,0.8189796744626557,0.8618901525577966,0.6522379458501888,0.12520609335412444,0.9755675012769723,0.8356812074241637,0.9094655178743166,0.8857380804691839,0.13498105022782625,0.3683723130604204,0.6770904181062051,0.37367760495936114,0.9666074638425612],\"z\":[0.9454960626439768,0.9991052068299872,0.9531347293467389,0.7337158595173594,0.8106229047253565,0.07971111418705212,0.8146347310111806,0.6892865240922174,0.9836844679577217,0.978898558796303,0.99694984489657,0.7955119325478939,0.20048275981610048,0.06649252160800419,0.8758641399947393,0.9998790205516371,0.07194082335650373,0.9827398796007271,0.8414080379483391,0.9980665724602688,0.9700225276284196,0.4429448383973519,0.21230574712897016,0.9937981261571562,0.6326939570394237,0.7733037203941239,0.9637052457765196,0.11627194607455484,0.8919408092860135,0.980359655242881],\"type\":\"scatter3d\"}],                        {\"template\":{\"data\":{\"histogram2dcontour\":[{\"type\":\"histogram2dcontour\",\"colorbar\":{\"outlinewidth\":0,\"ticks\":\"\"},\"colorscale\":[[0.0,\"#0d0887\"],[0.1111111111111111,\"#46039f\"],[0.2222222222222222,\"#7201a8\"],[0.3333333333333333,\"#9c179e\"],[0.4444444444444444,\"#bd3786\"],[0.5555555555555556,\"#d8576b\"],[0.6666666666666666,\"#ed7953\"],[0.7777777777777778,\"#fb9f3a\"],[0.8888888888888888,\"#fdca26\"],[1.0,\"#f0f921\"]]}],\"choropleth\":[{\"type\":\"choropleth\",\"colorbar\":{\"outlinewidth\":0,\"ticks\":\"\"}}],\"histogram2d\":[{\"type\":\"histogram2d\",\"colorbar\":{\"outlinewidth\":0,\"ticks\":\"\"},\"colorscale\":[[0.0,\"#0d0887\"],[0.1111111111111111,\"#46039f\"],[0.2222222222222222,\"#7201a8\"],[0.3333333333333333,\"#9c179e\"],[0.4444444444444444,\"#bd3786\"],[0.5555555555555556,\"#d8576b\"],[0.6666666666666666,\"#ed7953\"],[0.7777777777777778,\"#fb9f3a\"],[0.8888888888888888,\"#fdca26\"],[1.0,\"#f0f921\"]]}],\"heatmap\":[{\"type\":\"heatmap\",\"colorbar\":{\"outlinewidth\":0,\"ticks\":\"\"},\"colorscale\":[[0.0,\"#0d0887\"],[0.1111111111111111,\"#46039f\"],[0.2222222222222222,\"#7201a8\"],[0.3333333333333333,\"#9c179e\"],[0.4444444444444444,\"#bd3786\"],[0.5555555555555556,\"#d8576b\"],[0.6666666666666666,\"#ed7953\"],[0.7777777777777778,\"#fb9f3a\"],[0.8888888888888888,\"#fdca26\"],[1.0,\"#f0f921\"]]}],\"heatmapgl\":[{\"type\":\"heatmapgl\",\"colorbar\":{\"outlinewidth\":0,\"ticks\":\"\"},\"colorscale\":[[0.0,\"#0d0887\"],[0.1111111111111111,\"#46039f\"],[0.2222222222222222,\"#7201a8\"],[0.3333333333333333,\"#9c179e\"],[0.4444444444444444,\"#bd3786\"],[0.5555555555555556,\"#d8576b\"],[0.6666666666666666,\"#ed7953\"],[0.7777777777777778,\"#fb9f3a\"],[0.8888888888888888,\"#fdca26\"],[1.0,\"#f0f921\"]]}],\"contourcarpet\":[{\"type\":\"contourcarpet\",\"colorbar\":{\"outlinewidth\":0,\"ticks\":\"\"}}],\"contour\":[{\"type\":\"contour\",\"colorbar\":{\"outlinewidth\":0,\"ticks\":\"\"},\"colorscale\":[[0.0,\"#0d0887\"],[0.1111111111111111,\"#46039f\"],[0.2222222222222222,\"#7201a8\"],[0.3333333333333333,\"#9c179e\"],[0.4444444444444444,\"#bd3786\"],[0.5555555555555556,\"#d8576b\"],[0.6666666666666666,\"#ed7953\"],[0.7777777777777778,\"#fb9f3a\"],[0.8888888888888888,\"#fdca26\"],[1.0,\"#f0f921\"]]}],\"surface\":[{\"type\":\"surface\",\"colorbar\":{\"outlinewidth\":0,\"ticks\":\"\"},\"colorscale\":[[0.0,\"#0d0887\"],[0.1111111111111111,\"#46039f\"],[0.2222222222222222,\"#7201a8\"],[0.3333333333333333,\"#9c179e\"],[0.4444444444444444,\"#bd3786\"],[0.5555555555555556,\"#d8576b\"],[0.6666666666666666,\"#ed7953\"],[0.7777777777777778,\"#fb9f3a\"],[0.8888888888888888,\"#fdca26\"],[1.0,\"#f0f921\"]]}],\"mesh3d\":[{\"type\":\"mesh3d\",\"colorbar\":{\"outlinewidth\":0,\"ticks\":\"\"}}],\"scatter\":[{\"marker\":{\"line\":{\"color\":\"#283442\"}},\"type\":\"scatter\"}],\"parcoords\":[{\"type\":\"parcoords\",\"line\":{\"colorbar\":{\"outlinewidth\":0,\"ticks\":\"\"}}}],\"scatterpolargl\":[{\"type\":\"scatterpolargl\",\"marker\":{\"colorbar\":{\"outlinewidth\":0,\"ticks\":\"\"}}}],\"bar\":[{\"error_x\":{\"color\":\"#f2f5fa\"},\"error_y\":{\"color\":\"#f2f5fa\"},\"marker\":{\"line\":{\"color\":\"rgb(17,17,17)\",\"width\":0.5},\"pattern\":{\"fillmode\":\"overlay\",\"size\":10,\"solidity\":0.2}},\"type\":\"bar\"}],\"scattergeo\":[{\"type\":\"scattergeo\",\"marker\":{\"colorbar\":{\"outlinewidth\":0,\"ticks\":\"\"}}}],\"scatterpolar\":[{\"type\":\"scatterpolar\",\"marker\":{\"colorbar\":{\"outlinewidth\":0,\"ticks\":\"\"}}}],\"histogram\":[{\"marker\":{\"pattern\":{\"fillmode\":\"overlay\",\"size\":10,\"solidity\":0.2}},\"type\":\"histogram\"}],\"scattergl\":[{\"marker\":{\"line\":{\"color\":\"#283442\"}},\"type\":\"scattergl\"}],\"scatter3d\":[{\"type\":\"scatter3d\",\"line\":{\"colorbar\":{\"outlinewidth\":0,\"ticks\":\"\"}},\"marker\":{\"colorbar\":{\"outlinewidth\":0,\"ticks\":\"\"}}}],\"scattermapbox\":[{\"type\":\"scattermapbox\",\"marker\":{\"colorbar\":{\"outlinewidth\":0,\"ticks\":\"\"}}}],\"scatterternary\":[{\"type\":\"scatterternary\",\"marker\":{\"colorbar\":{\"outlinewidth\":0,\"ticks\":\"\"}}}],\"scattercarpet\":[{\"type\":\"scattercarpet\",\"marker\":{\"colorbar\":{\"outlinewidth\":0,\"ticks\":\"\"}}}],\"carpet\":[{\"aaxis\":{\"endlinecolor\":\"#A2B1C6\",\"gridcolor\":\"#506784\",\"linecolor\":\"#506784\",\"minorgridcolor\":\"#506784\",\"startlinecolor\":\"#A2B1C6\"},\"baxis\":{\"endlinecolor\":\"#A2B1C6\",\"gridcolor\":\"#506784\",\"linecolor\":\"#506784\",\"minorgridcolor\":\"#506784\",\"startlinecolor\":\"#A2B1C6\"},\"type\":\"carpet\"}],\"table\":[{\"cells\":{\"fill\":{\"color\":\"#506784\"},\"line\":{\"color\":\"rgb(17,17,17)\"}},\"header\":{\"fill\":{\"color\":\"#2a3f5f\"},\"line\":{\"color\":\"rgb(17,17,17)\"}},\"type\":\"table\"}],\"barpolar\":[{\"marker\":{\"line\":{\"color\":\"rgb(17,17,17)\",\"width\":0.5},\"pattern\":{\"fillmode\":\"overlay\",\"size\":10,\"solidity\":0.2}},\"type\":\"barpolar\"}],\"pie\":[{\"automargin\":true,\"type\":\"pie\"}]},\"layout\":{\"autotypenumbers\":\"strict\",\"colorway\":[\"#636efa\",\"#EF553B\",\"#00cc96\",\"#ab63fa\",\"#FFA15A\",\"#19d3f3\",\"#FF6692\",\"#B6E880\",\"#FF97FF\",\"#FECB52\"],\"font\":{\"color\":\"#f2f5fa\"},\"hovermode\":\"closest\",\"hoverlabel\":{\"align\":\"left\"},\"paper_bgcolor\":\"rgb(17,17,17)\",\"plot_bgcolor\":\"rgb(17,17,17)\",\"polar\":{\"bgcolor\":\"rgb(17,17,17)\",\"angularaxis\":{\"gridcolor\":\"#506784\",\"linecolor\":\"#506784\",\"ticks\":\"\"},\"radialaxis\":{\"gridcolor\":\"#506784\",\"linecolor\":\"#506784\",\"ticks\":\"\"}},\"ternary\":{\"bgcolor\":\"rgb(17,17,17)\",\"aaxis\":{\"gridcolor\":\"#506784\",\"linecolor\":\"#506784\",\"ticks\":\"\"},\"baxis\":{\"gridcolor\":\"#506784\",\"linecolor\":\"#506784\",\"ticks\":\"\"},\"caxis\":{\"gridcolor\":\"#506784\",\"linecolor\":\"#506784\",\"ticks\":\"\"}},\"coloraxis\":{\"colorbar\":{\"outlinewidth\":0,\"ticks\":\"\"}},\"colorscale\":{\"sequential\":[[0.0,\"#0d0887\"],[0.1111111111111111,\"#46039f\"],[0.2222222222222222,\"#7201a8\"],[0.3333333333333333,\"#9c179e\"],[0.4444444444444444,\"#bd3786\"],[0.5555555555555556,\"#d8576b\"],[0.6666666666666666,\"#ed7953\"],[0.7777777777777778,\"#fb9f3a\"],[0.8888888888888888,\"#fdca26\"],[1.0,\"#f0f921\"]],\"sequentialminus\":[[0.0,\"#0d0887\"],[0.1111111111111111,\"#46039f\"],[0.2222222222222222,\"#7201a8\"],[0.3333333333333333,\"#9c179e\"],[0.4444444444444444,\"#bd3786\"],[0.5555555555555556,\"#d8576b\"],[0.6666666666666666,\"#ed7953\"],[0.7777777777777778,\"#fb9f3a\"],[0.8888888888888888,\"#fdca26\"],[1.0,\"#f0f921\"]],\"diverging\":[[0,\"#8e0152\"],[0.1,\"#c51b7d\"],[0.2,\"#de77ae\"],[0.3,\"#f1b6da\"],[0.4,\"#fde0ef\"],[0.5,\"#f7f7f7\"],[0.6,\"#e6f5d0\"],[0.7,\"#b8e186\"],[0.8,\"#7fbc41\"],[0.9,\"#4d9221\"],[1,\"#276419\"]]},\"xaxis\":{\"gridcolor\":\"#283442\",\"linecolor\":\"#506784\",\"ticks\":\"\",\"title\":{\"standoff\":15},\"zerolinecolor\":\"#283442\",\"automargin\":true,\"zerolinewidth\":2},\"yaxis\":{\"gridcolor\":\"#283442\",\"linecolor\":\"#506784\",\"ticks\":\"\",\"title\":{\"standoff\":15},\"zerolinecolor\":\"#283442\",\"automargin\":true,\"zerolinewidth\":2},\"scene\":{\"xaxis\":{\"backgroundcolor\":\"rgb(17,17,17)\",\"gridcolor\":\"#506784\",\"linecolor\":\"#506784\",\"showbackground\":true,\"ticks\":\"\",\"zerolinecolor\":\"#C8D4E3\",\"gridwidth\":2},\"yaxis\":{\"backgroundcolor\":\"rgb(17,17,17)\",\"gridcolor\":\"#506784\",\"linecolor\":\"#506784\",\"showbackground\":true,\"ticks\":\"\",\"zerolinecolor\":\"#C8D4E3\",\"gridwidth\":2},\"zaxis\":{\"backgroundcolor\":\"rgb(17,17,17)\",\"gridcolor\":\"#506784\",\"linecolor\":\"#506784\",\"showbackground\":true,\"ticks\":\"\",\"zerolinecolor\":\"#C8D4E3\",\"gridwidth\":2}},\"shapedefaults\":{\"line\":{\"color\":\"#f2f5fa\"}},\"annotationdefaults\":{\"arrowcolor\":\"#f2f5fa\",\"arrowhead\":0,\"arrowwidth\":1},\"geo\":{\"bgcolor\":\"rgb(17,17,17)\",\"landcolor\":\"rgb(17,17,17)\",\"subunitcolor\":\"#506784\",\"showland\":true,\"showlakes\":true,\"lakecolor\":\"rgb(17,17,17)\"},\"title\":{\"x\":0.05},\"updatemenudefaults\":{\"bgcolor\":\"#506784\",\"borderwidth\":0},\"sliderdefaults\":{\"bgcolor\":\"#C8D4E3\",\"borderwidth\":1,\"bordercolor\":\"rgb(17,17,17)\",\"tickwidth\":0},\"mapbox\":{\"style\":\"dark\"}}},\"title\":{\"font\":{\"size\":20},\"text\":\"3D onlinear Dataset\",\"y\":0.95,\"x\":0.5,\"xanchor\":\"center\",\"yanchor\":\"top\"},\"margin\":{\"l\":0,\"r\":0,\"t\":0,\"b\":0},\"scene\":{\"xaxis\":{\"title\":{\"text\":\"X\"}},\"yaxis\":{\"title\":{\"text\":\"Y\"}},\"zaxis\":{\"title\":{\"text\":\"Z\"}}}},                        {\"responsive\": true}                    ).then(function(){\n",
       "                            \n",
       "var gd = document.getElementById('e2ace029-bb66-4e81-9878-638a49515a70');\n",
       "var x = new MutationObserver(function (mutations, observer) {{\n",
       "        var display = window.getComputedStyle(gd).display;\n",
       "        if (!display || display === 'none') {{\n",
       "            console.log([gd, 'removed!']);\n",
       "            Plotly.purge(gd);\n",
       "            observer.disconnect();\n",
       "        }}\n",
       "}});\n",
       "\n",
       "// Listen for the removal of the full notebook cells\n",
       "var notebookContainer = gd.closest('#notebook-container');\n",
       "if (notebookContainer) {{\n",
       "    x.observe(notebookContainer, {childList: true});\n",
       "}}\n",
       "\n",
       "// Listen for the clearing of the current output cell\n",
       "var outputEl = gd.closest('.output');\n",
       "if (outputEl) {{\n",
       "    x.observe(outputEl, {childList: true});\n",
       "}}\n",
       "\n",
       "                        })                };                });            </script>        </div>"
      ]
     },
     "metadata": {},
     "output_type": "display_data"
    }
   ],
   "execution_count": 82
  },
  {
   "metadata": {
    "ExecuteTime": {
     "end_time": "2024-09-11T18:33:38.704225Z",
     "start_time": "2024-09-11T18:33:38.697262Z"
    }
   },
   "cell_type": "code",
   "source": [
    "# Display the 3D scatter plot image\n",
    "from src.utils.mermaid import display_image_from_file\n",
    "\n",
    "display_image_from_file('../assets/images/scatter_plot_3d_nonlinear.png')"
   ],
   "id": "c87e347c3f4112d4",
   "outputs": [
    {
     "data": {
      "image/png": "[encoded data removed]",
      "text/plain": [
       "<IPython.core.display.Image object>"
      ]
     },
     "metadata": {},
     "output_type": "display_data"
    }
   ],
   "execution_count": 83
  },
  {
   "metadata": {},
   "cell_type": "markdown",
   "source": "![Nonlinear Dataset](https://github.com/dellius-alexander/Neural-Networks-From-Scratch/blob/main/assets/images/scatter_plot_3d_nonlinear.png \"Nonlinear Dataset\")",
   "id": "c70984158f4b40ea"
  },
  {
   "metadata": {
    "ExecuteTime": {
     "end_time": "2024-09-11T18:33:38.997612Z",
     "start_time": "2024-09-11T18:33:38.799232Z"
    }
   },
   "cell_type": "code",
   "source": [
    "# Now lets graph the 2D X, y coordinates\n",
    "reshaped_X = X.reshape(-1, 3)\n",
    "print(reshaped_X[:,0].shape)  # (300,)\n",
    "\n",
    "# Graph the dataset\n",
    "fig = go.Figure()\n",
    "fig.add_trace(\n",
    "    go.Scatter(\n",
    "        x=X_flat, y=y_flat, mode='markers',\n",
    "        marker=dict(size=8, color=n_flat, opacity=0.8, colorscale='curl'), name='Dataset')\n",
    ")\n",
    "\n",
    "# Update the layout of the plot\n",
    "fig.update_layout(\n",
    "    title={\n",
    "        'text': '2D Nonlinear Dataset',\n",
    "        'y': 0.95,\n",
    "        'x': 0.5,\n",
    "        'xanchor': 'center',\n",
    "        'yanchor': 'top',\n",
    "        'font': {\n",
    "            'size': 20  # Adjust the size as needed\n",
    "        }\n",
    "    },\n",
    "    xaxis_title='X', \n",
    "    yaxis_title='Y',\n",
    "    margin=dict(l=0, r=0, t=0, b=100)\n",
    ")\n",
    "\n",
    "# Save plot to file in png and svg format\n",
    "fig.write_image('../assets/images/scatter_plot_2d_nonlinear.png')\n",
    "fig.write_image('../assets/images/scatter_plot_2d_nonlinear.svg')\n",
    "\n",
    "# Show the plot\n",
    "fig.show()"
   ],
   "id": "ac22bcdc3436a9e4",
   "outputs": [
    {
     "name": "stdout",
     "output_type": "stream",
     "text": [
      "(10,)\n"
     ]
    },
    {
     "data": {
      "application/vnd.plotly.v1+json": {
       "data": [
        {
         "marker": {
          "color": [
           1.6632730847422696,
           1.1262956807485995,
           1.4290859763959398,
           1.215236201998464,
           1.5802837894306363,
           0.9971677788953108,
           1.2387053126878478,
           1.5667441905641533,
           1.4249156992746288,
           1.537901389627821,
           1.4943851728430098,
           1.3109340942271408,
           1.0528905018057813,
           1.27943801179152,
           0.9278476392819833,
           1.5710496951224437,
           0.4350631146197025,
           1.3781389894903524,
           1.2134131201598892,
           1.5073930330277654,
           1.3908404366950295,
           1.1987791072059288,
           1.0420111035341602,
           1.4155339772527147,
           1.4081586019858208,
           1.0495806064759037,
           1.3064533200151516,
           0.7740367968979032,
           1.2898137851450235,
           1.4632010542690699
          ],
          "colorscale": [
           [
            0.0,
            "rgb(20, 29, 67)"
           ],
           [
            0.09090909090909091,
            "rgb(28, 72, 93)"
           ],
           [
            0.18181818181818182,
            "rgb(18, 115, 117)"
           ],
           [
            0.2727272727272727,
            "rgb(63, 156, 129)"
           ],
           [
            0.36363636363636365,
            "rgb(153, 189, 156)"
           ],
           [
            0.45454545454545453,
            "rgb(223, 225, 211)"
           ],
           [
            0.5454545454545454,
            "rgb(241, 218, 206)"
           ],
           [
            0.6363636363636364,
            "rgb(224, 160, 137)"
           ],
           [
            0.7272727272727273,
            "rgb(203, 101, 99)"
           ],
           [
            0.8181818181818182,
            "rgb(164, 54, 96)"
           ],
           [
            0.9090909090909091,
            "rgb(111, 23, 91)"
           ],
           [
            1.0,
            "rgb(51, 13, 53)"
           ]
          ],
          "opacity": 0.8,
          "size": 8
         },
         "mode": "markers",
         "name": "Dataset",
         "x": [
          0.991081182458292,
          0.43193792236168144,
          0.9218721927439567,
          0.8540591557784233,
          0.9833501003543444,
          0.9785899533786951,
          0.9323360695258968,
          0.9991483078519332,
          0.8904393486944931,
          0.9500428303556924,
          0.574431429444719,
          0.9976884466991381,
          0.28306470656323424,
          0.8430395660448874,
          0.28037660363575234,
          0.8103077486357447,
          0.35048830833235795,
          0.5126028640310943,
          0.1467967260397254,
          0.9223245280004124,
          0.9888462218294565,
          0.5377167176709242,
          0.5851071091540245,
          0.43471162510452255,
          0.8933515869349664,
          0.6967071993271818,
          0.8014950502728918,
          0.35659832194889257,
          0.8534789046204831,
          0.49550205088377663
         ],
         "y": [
          0.9435426009088705,
          0.2894138514032009,
          0.5328907729451735,
          0.45721222924523874,
          0.9344570303684263,
          0.1742165913119343,
          0.038865925596112204,
          0.9905928049849803,
          0.5194876166325478,
          0.710152741524983,
          0.9535756836454219,
          0.30054405318373895,
          0.9941123898773315,
          0.960117003635544,
          0.12309431394709244,
          0.9010218872512992,
          0.2475123781949232,
          0.8189796744626557,
          0.8618901525577966,
          0.6522379458501888,
          0.12520609335412444,
          0.9755675012769723,
          0.8356812074241637,
          0.9094655178743166,
          0.8857380804691839,
          0.13498105022782625,
          0.3683723130604204,
          0.6770904181062051,
          0.37367760495936114,
          0.9666074638425612
         ],
         "type": "scatter"
        }
       ],
       "layout": {
        "template": {
         "data": {
          "histogram2dcontour": [
           {
            "type": "histogram2dcontour",
            "colorbar": {
             "outlinewidth": 0,
             "ticks": ""
            },
            "colorscale": [
             [
              0.0,
              "#0d0887"
             ],
             [
              0.1111111111111111,
              "#46039f"
             ],
             [
              0.2222222222222222,
              "#7201a8"
             ],
             [
              0.3333333333333333,
              "#9c179e"
             ],
             [
              0.4444444444444444,
              "#bd3786"
             ],
             [
              0.5555555555555556,
              "#d8576b"
             ],
             [
              0.6666666666666666,
              "#ed7953"
             ],
             [
              0.7777777777777778,
              "#fb9f3a"
             ],
             [
              0.8888888888888888,
              "#fdca26"
             ],
             [
              1.0,
              "#f0f921"
             ]
            ]
           }
          ],
          "choropleth": [
           {
            "type": "choropleth",
            "colorbar": {
             "outlinewidth": 0,
             "ticks": ""
            }
           }
          ],
          "histogram2d": [
           {
            "type": "histogram2d",
            "colorbar": {
             "outlinewidth": 0,
             "ticks": ""
            },
            "colorscale": [
             [
              0.0,
              "#0d0887"
             ],
             [
              0.1111111111111111,
              "#46039f"
             ],
             [
              0.2222222222222222,
              "#7201a8"
             ],
             [
              0.3333333333333333,
              "#9c179e"
             ],
             [
              0.4444444444444444,
              "#bd3786"
             ],
             [
              0.5555555555555556,
              "#d8576b"
             ],
             [
              0.6666666666666666,
              "#ed7953"
             ],
             [
              0.7777777777777778,
              "#fb9f3a"
             ],
             [
              0.8888888888888888,
              "#fdca26"
             ],
             [
              1.0,
              "#f0f921"
             ]
            ]
           }
          ],
          "heatmap": [
           {
            "type": "heatmap",
            "colorbar": {
             "outlinewidth": 0,
             "ticks": ""
            },
            "colorscale": [
             [
              0.0,
              "#0d0887"
             ],
             [
              0.1111111111111111,
              "#46039f"
             ],
             [
              0.2222222222222222,
              "#7201a8"
             ],
             [
              0.3333333333333333,
              "#9c179e"
             ],
             [
              0.4444444444444444,
              "#bd3786"
             ],
             [
              0.5555555555555556,
              "#d8576b"
             ],
             [
              0.6666666666666666,
              "#ed7953"
             ],
             [
              0.7777777777777778,
              "#fb9f3a"
             ],
             [
              0.8888888888888888,
              "#fdca26"
             ],
             [
              1.0,
              "#f0f921"
             ]
            ]
           }
          ],
          "heatmapgl": [
           {
            "type": "heatmapgl",
            "colorbar": {
             "outlinewidth": 0,
             "ticks": ""
            },
            "colorscale": [
             [
              0.0,
              "#0d0887"
             ],
             [
              0.1111111111111111,
              "#46039f"
             ],
             [
              0.2222222222222222,
              "#7201a8"
             ],
             [
              0.3333333333333333,
              "#9c179e"
             ],
             [
              0.4444444444444444,
              "#bd3786"
             ],
             [
              0.5555555555555556,
              "#d8576b"
             ],
             [
              0.6666666666666666,
              "#ed7953"
             ],
             [
              0.7777777777777778,
              "#fb9f3a"
             ],
             [
              0.8888888888888888,
              "#fdca26"
             ],
             [
              1.0,
              "#f0f921"
             ]
            ]
           }
          ],
          "contourcarpet": [
           {
            "type": "contourcarpet",
            "colorbar": {
             "outlinewidth": 0,
             "ticks": ""
            }
           }
          ],
          "contour": [
           {
            "type": "contour",
            "colorbar": {
             "outlinewidth": 0,
             "ticks": ""
            },
            "colorscale": [
             [
              0.0,
              "#0d0887"
             ],
             [
              0.1111111111111111,
              "#46039f"
             ],
             [
              0.2222222222222222,
              "#7201a8"
             ],
             [
              0.3333333333333333,
              "#9c179e"
             ],
             [
              0.4444444444444444,
              "#bd3786"
             ],
             [
              0.5555555555555556,
              "#d8576b"
             ],
             [
              0.6666666666666666,
              "#ed7953"
             ],
             [
              0.7777777777777778,
              "#fb9f3a"
             ],
             [
              0.8888888888888888,
              "#fdca26"
             ],
             [
              1.0,
              "#f0f921"
             ]
            ]
           }
          ],
          "surface": [
           {
            "type": "surface",
            "colorbar": {
             "outlinewidth": 0,
             "ticks": ""
            },
            "colorscale": [
             [
              0.0,
              "#0d0887"
             ],
             [
              0.1111111111111111,
              "#46039f"
             ],
             [
              0.2222222222222222,
              "#7201a8"
             ],
             [
              0.3333333333333333,
              "#9c179e"
             ],
             [
              0.4444444444444444,
              "#bd3786"
             ],
             [
              0.5555555555555556,
              "#d8576b"
             ],
             [
              0.6666666666666666,
              "#ed7953"
             ],
             [
              0.7777777777777778,
              "#fb9f3a"
             ],
             [
              0.8888888888888888,
              "#fdca26"
             ],
             [
              1.0,
              "#f0f921"
             ]
            ]
           }
          ],
          "mesh3d": [
           {
            "type": "mesh3d",
            "colorbar": {
             "outlinewidth": 0,
             "ticks": ""
            }
           }
          ],
          "scatter": [
           {
            "marker": {
             "line": {
              "color": "#283442"
             }
            },
            "type": "scatter"
           }
          ],
          "parcoords": [
           {
            "type": "parcoords",
            "line": {
             "colorbar": {
              "outlinewidth": 0,
              "ticks": ""
             }
            }
           }
          ],
          "scatterpolargl": [
           {
            "type": "scatterpolargl",
            "marker": {
             "colorbar": {
              "outlinewidth": 0,
              "ticks": ""
             }
            }
           }
          ],
          "bar": [
           {
            "error_x": {
             "color": "#f2f5fa"
            },
            "error_y": {
             "color": "#f2f5fa"
            },
            "marker": {
             "line": {
              "color": "rgb(17,17,17)",
              "width": 0.5
             },
             "pattern": {
              "fillmode": "overlay",
              "size": 10,
              "solidity": 0.2
             }
            },
            "type": "bar"
           }
          ],
          "scattergeo": [
           {
            "type": "scattergeo",
            "marker": {
             "colorbar": {
              "outlinewidth": 0,
              "ticks": ""
             }
            }
           }
          ],
          "scatterpolar": [
           {
            "type": "scatterpolar",
            "marker": {
             "colorbar": {
              "outlinewidth": 0,
              "ticks": ""
             }
            }
           }
          ],
          "histogram": [
           {
            "marker": {
             "pattern": {
              "fillmode": "overlay",
              "size": 10,
              "solidity": 0.2
             }
            },
            "type": "histogram"
           }
          ],
          "scattergl": [
           {
            "marker": {
             "line": {
              "color": "#283442"
             }
            },
            "type": "scattergl"
           }
          ],
          "scatter3d": [
           {
            "type": "scatter3d",
            "line": {
             "colorbar": {
              "outlinewidth": 0,
              "ticks": ""
             }
            },
            "marker": {
             "colorbar": {
              "outlinewidth": 0,
              "ticks": ""
             }
            }
           }
          ],
          "scattermapbox": [
           {
            "type": "scattermapbox",
            "marker": {
             "colorbar": {
              "outlinewidth": 0,
              "ticks": ""
             }
            }
           }
          ],
          "scatterternary": [
           {
            "type": "scatterternary",
            "marker": {
             "colorbar": {
              "outlinewidth": 0,
              "ticks": ""
             }
            }
           }
          ],
          "scattercarpet": [
           {
            "type": "scattercarpet",
            "marker": {
             "colorbar": {
              "outlinewidth": 0,
              "ticks": ""
             }
            }
           }
          ],
          "carpet": [
           {
            "aaxis": {
             "endlinecolor": "#A2B1C6",
             "gridcolor": "#506784",
             "linecolor": "#506784",
             "minorgridcolor": "#506784",
             "startlinecolor": "#A2B1C6"
            },
            "baxis": {
             "endlinecolor": "#A2B1C6",
             "gridcolor": "#506784",
             "linecolor": "#506784",
             "minorgridcolor": "#506784",
             "startlinecolor": "#A2B1C6"
            },
            "type": "carpet"
           }
          ],
          "table": [
           {
            "cells": {
             "fill": {
              "color": "#506784"
             },
             "line": {
              "color": "rgb(17,17,17)"
             }
            },
            "header": {
             "fill": {
              "color": "#2a3f5f"
             },
             "line": {
              "color": "rgb(17,17,17)"
             }
            },
            "type": "table"
           }
          ],
          "barpolar": [
           {
            "marker": {
             "line": {
              "color": "rgb(17,17,17)",
              "width": 0.5
             },
             "pattern": {
              "fillmode": "overlay",
              "size": 10,
              "solidity": 0.2
             }
            },
            "type": "barpolar"
           }
          ],
          "pie": [
           {
            "automargin": true,
            "type": "pie"
           }
          ]
         },
         "layout": {
          "autotypenumbers": "strict",
          "colorway": [
           "#636efa",
           "#EF553B",
           "#00cc96",
           "#ab63fa",
           "#FFA15A",
           "#19d3f3",
           "#FF6692",
           "#B6E880",
           "#FF97FF",
           "#FECB52"
          ],
          "font": {
           "color": "#f2f5fa"
          },
          "hovermode": "closest",
          "hoverlabel": {
           "align": "left"
          },
          "paper_bgcolor": "rgb(17,17,17)",
          "plot_bgcolor": "rgb(17,17,17)",
          "polar": {
           "bgcolor": "rgb(17,17,17)",
           "angularaxis": {
            "gridcolor": "#506784",
            "linecolor": "#506784",
            "ticks": ""
           },
           "radialaxis": {
            "gridcolor": "#506784",
            "linecolor": "#506784",
            "ticks": ""
           }
          },
          "ternary": {
           "bgcolor": "rgb(17,17,17)",
           "aaxis": {
            "gridcolor": "#506784",
            "linecolor": "#506784",
            "ticks": ""
           },
           "baxis": {
            "gridcolor": "#506784",
            "linecolor": "#506784",
            "ticks": ""
           },
           "caxis": {
            "gridcolor": "#506784",
            "linecolor": "#506784",
            "ticks": ""
           }
          },
          "coloraxis": {
           "colorbar": {
            "outlinewidth": 0,
            "ticks": ""
           }
          },
          "colorscale": {
           "sequential": [
            [
             0.0,
             "#0d0887"
            ],
            [
             0.1111111111111111,
             "#46039f"
            ],
            [
             0.2222222222222222,
             "#7201a8"
            ],
            [
             0.3333333333333333,
             "#9c179e"
            ],
            [
             0.4444444444444444,
             "#bd3786"
            ],
            [
             0.5555555555555556,
             "#d8576b"
            ],
            [
             0.6666666666666666,
             "#ed7953"
            ],
            [
             0.7777777777777778,
             "#fb9f3a"
            ],
            [
             0.8888888888888888,
             "#fdca26"
            ],
            [
             1.0,
             "#f0f921"
            ]
           ],
           "sequentialminus": [
            [
             0.0,
             "#0d0887"
            ],
            [
             0.1111111111111111,
             "#46039f"
            ],
            [
             0.2222222222222222,
             "#7201a8"
            ],
            [
             0.3333333333333333,
             "#9c179e"
            ],
            [
             0.4444444444444444,
             "#bd3786"
            ],
            [
             0.5555555555555556,
             "#d8576b"
            ],
            [
             0.6666666666666666,
             "#ed7953"
            ],
            [
             0.7777777777777778,
             "#fb9f3a"
            ],
            [
             0.8888888888888888,
             "#fdca26"
            ],
            [
             1.0,
             "#f0f921"
            ]
           ],
           "diverging": [
            [
             0,
             "#8e0152"
            ],
            [
             0.1,
             "#c51b7d"
            ],
            [
             0.2,
             "#de77ae"
            ],
            [
             0.3,
             "#f1b6da"
            ],
            [
             0.4,
             "#fde0ef"
            ],
            [
             0.5,
             "#f7f7f7"
            ],
            [
             0.6,
             "#e6f5d0"
            ],
            [
             0.7,
             "#b8e186"
            ],
            [
             0.8,
             "#7fbc41"
            ],
            [
             0.9,
             "#4d9221"
            ],
            [
             1,
             "#276419"
            ]
           ]
          },
          "xaxis": {
           "gridcolor": "#283442",
           "linecolor": "#506784",
           "ticks": "",
           "title": {
            "standoff": 15
           },
           "zerolinecolor": "#283442",
           "automargin": true,
           "zerolinewidth": 2
          },
          "yaxis": {
           "gridcolor": "#283442",
           "linecolor": "#506784",
           "ticks": "",
           "title": {
            "standoff": 15
           },
           "zerolinecolor": "#283442",
           "automargin": true,
           "zerolinewidth": 2
          },
          "scene": {
           "xaxis": {
            "backgroundcolor": "rgb(17,17,17)",
            "gridcolor": "#506784",
            "linecolor": "#506784",
            "showbackground": true,
            "ticks": "",
            "zerolinecolor": "#C8D4E3",
            "gridwidth": 2
           },
           "yaxis": {
            "backgroundcolor": "rgb(17,17,17)",
            "gridcolor": "#506784",
            "linecolor": "#506784",
            "showbackground": true,
            "ticks": "",
            "zerolinecolor": "#C8D4E3",
            "gridwidth": 2
           },
           "zaxis": {
            "backgroundcolor": "rgb(17,17,17)",
            "gridcolor": "#506784",
            "linecolor": "#506784",
            "showbackground": true,
            "ticks": "",
            "zerolinecolor": "#C8D4E3",
            "gridwidth": 2
           }
          },
          "shapedefaults": {
           "line": {
            "color": "#f2f5fa"
           }
          },
          "annotationdefaults": {
           "arrowcolor": "#f2f5fa",
           "arrowhead": 0,
           "arrowwidth": 1
          },
          "geo": {
           "bgcolor": "rgb(17,17,17)",
           "landcolor": "rgb(17,17,17)",
           "subunitcolor": "#506784",
           "showland": true,
           "showlakes": true,
           "lakecolor": "rgb(17,17,17)"
          },
          "title": {
           "x": 0.05
          },
          "updatemenudefaults": {
           "bgcolor": "#506784",
           "borderwidth": 0
          },
          "sliderdefaults": {
           "bgcolor": "#C8D4E3",
           "borderwidth": 1,
           "bordercolor": "rgb(17,17,17)",
           "tickwidth": 0
          },
          "mapbox": {
           "style": "dark"
          }
         }
        },
        "title": {
         "font": {
          "size": 20
         },
         "text": "2D Nonlinear Dataset",
         "y": 0.95,
         "x": 0.5,
         "xanchor": "center",
         "yanchor": "top"
        },
        "margin": {
         "l": 0,
         "r": 0,
         "t": 0,
         "b": 100
        },
        "xaxis": {
         "title": {
          "text": "X"
         }
        },
        "yaxis": {
         "title": {
          "text": "Y"
         }
        }
       },
       "config": {
        "plotlyServerURL": "https://plot.ly"
       }
      },
      "text/html": [
       "<div>                            <div id=\"c9cc12a1-a6fb-47f6-b723-0ec033910f71\" class=\"plotly-graph-div\" style=\"height:525px; width:100%;\"></div>            <script type=\"text/javascript\">                require([\"plotly\"], function(Plotly) {                    window.PLOTLYENV=window.PLOTLYENV || {};                                    if (document.getElementById(\"c9cc12a1-a6fb-47f6-b723-0ec033910f71\")) {                    Plotly.newPlot(                        \"c9cc12a1-a6fb-47f6-b723-0ec033910f71\",                        [{\"marker\":{\"color\":[1.6632730847422696,1.1262956807485995,1.4290859763959398,1.215236201998464,1.5802837894306363,0.9971677788953108,1.2387053126878478,1.5667441905641533,1.4249156992746288,1.537901389627821,1.4943851728430098,1.3109340942271408,1.0528905018057813,1.27943801179152,0.9278476392819833,1.5710496951224437,0.4350631146197025,1.3781389894903524,1.2134131201598892,1.5073930330277654,1.3908404366950295,1.1987791072059288,1.0420111035341602,1.4155339772527147,1.4081586019858208,1.0495806064759037,1.3064533200151516,0.7740367968979032,1.2898137851450235,1.4632010542690699],\"colorscale\":[[0.0,\"rgb(20, 29, 67)\"],[0.09090909090909091,\"rgb(28, 72, 93)\"],[0.18181818181818182,\"rgb(18, 115, 117)\"],[0.2727272727272727,\"rgb(63, 156, 129)\"],[0.36363636363636365,\"rgb(153, 189, 156)\"],[0.45454545454545453,\"rgb(223, 225, 211)\"],[0.5454545454545454,\"rgb(241, 218, 206)\"],[0.6363636363636364,\"rgb(224, 160, 137)\"],[0.7272727272727273,\"rgb(203, 101, 99)\"],[0.8181818181818182,\"rgb(164, 54, 96)\"],[0.9090909090909091,\"rgb(111, 23, 91)\"],[1.0,\"rgb(51, 13, 53)\"]],\"opacity\":0.8,\"size\":8},\"mode\":\"markers\",\"name\":\"Dataset\",\"x\":[0.991081182458292,0.43193792236168144,0.9218721927439567,0.8540591557784233,0.9833501003543444,0.9785899533786951,0.9323360695258968,0.9991483078519332,0.8904393486944931,0.9500428303556924,0.574431429444719,0.9976884466991381,0.28306470656323424,0.8430395660448874,0.28037660363575234,0.8103077486357447,0.35048830833235795,0.5126028640310943,0.1467967260397254,0.9223245280004124,0.9888462218294565,0.5377167176709242,0.5851071091540245,0.43471162510452255,0.8933515869349664,0.6967071993271818,0.8014950502728918,0.35659832194889257,0.8534789046204831,0.49550205088377663],\"y\":[0.9435426009088705,0.2894138514032009,0.5328907729451735,0.45721222924523874,0.9344570303684263,0.1742165913119343,0.038865925596112204,0.9905928049849803,0.5194876166325478,0.710152741524983,0.9535756836454219,0.30054405318373895,0.9941123898773315,0.960117003635544,0.12309431394709244,0.9010218872512992,0.2475123781949232,0.8189796744626557,0.8618901525577966,0.6522379458501888,0.12520609335412444,0.9755675012769723,0.8356812074241637,0.9094655178743166,0.8857380804691839,0.13498105022782625,0.3683723130604204,0.6770904181062051,0.37367760495936114,0.9666074638425612],\"type\":\"scatter\"}],                        {\"template\":{\"data\":{\"histogram2dcontour\":[{\"type\":\"histogram2dcontour\",\"colorbar\":{\"outlinewidth\":0,\"ticks\":\"\"},\"colorscale\":[[0.0,\"#0d0887\"],[0.1111111111111111,\"#46039f\"],[0.2222222222222222,\"#7201a8\"],[0.3333333333333333,\"#9c179e\"],[0.4444444444444444,\"#bd3786\"],[0.5555555555555556,\"#d8576b\"],[0.6666666666666666,\"#ed7953\"],[0.7777777777777778,\"#fb9f3a\"],[0.8888888888888888,\"#fdca26\"],[1.0,\"#f0f921\"]]}],\"choropleth\":[{\"type\":\"choropleth\",\"colorbar\":{\"outlinewidth\":0,\"ticks\":\"\"}}],\"histogram2d\":[{\"type\":\"histogram2d\",\"colorbar\":{\"outlinewidth\":0,\"ticks\":\"\"},\"colorscale\":[[0.0,\"#0d0887\"],[0.1111111111111111,\"#46039f\"],[0.2222222222222222,\"#7201a8\"],[0.3333333333333333,\"#9c179e\"],[0.4444444444444444,\"#bd3786\"],[0.5555555555555556,\"#d8576b\"],[0.6666666666666666,\"#ed7953\"],[0.7777777777777778,\"#fb9f3a\"],[0.8888888888888888,\"#fdca26\"],[1.0,\"#f0f921\"]]}],\"heatmap\":[{\"type\":\"heatmap\",\"colorbar\":{\"outlinewidth\":0,\"ticks\":\"\"},\"colorscale\":[[0.0,\"#0d0887\"],[0.1111111111111111,\"#46039f\"],[0.2222222222222222,\"#7201a8\"],[0.3333333333333333,\"#9c179e\"],[0.4444444444444444,\"#bd3786\"],[0.5555555555555556,\"#d8576b\"],[0.6666666666666666,\"#ed7953\"],[0.7777777777777778,\"#fb9f3a\"],[0.8888888888888888,\"#fdca26\"],[1.0,\"#f0f921\"]]}],\"heatmapgl\":[{\"type\":\"heatmapgl\",\"colorbar\":{\"outlinewidth\":0,\"ticks\":\"\"},\"colorscale\":[[0.0,\"#0d0887\"],[0.1111111111111111,\"#46039f\"],[0.2222222222222222,\"#7201a8\"],[0.3333333333333333,\"#9c179e\"],[0.4444444444444444,\"#bd3786\"],[0.5555555555555556,\"#d8576b\"],[0.6666666666666666,\"#ed7953\"],[0.7777777777777778,\"#fb9f3a\"],[0.8888888888888888,\"#fdca26\"],[1.0,\"#f0f921\"]]}],\"contourcarpet\":[{\"type\":\"contourcarpet\",\"colorbar\":{\"outlinewidth\":0,\"ticks\":\"\"}}],\"contour\":[{\"type\":\"contour\",\"colorbar\":{\"outlinewidth\":0,\"ticks\":\"\"},\"colorscale\":[[0.0,\"#0d0887\"],[0.1111111111111111,\"#46039f\"],[0.2222222222222222,\"#7201a8\"],[0.3333333333333333,\"#9c179e\"],[0.4444444444444444,\"#bd3786\"],[0.5555555555555556,\"#d8576b\"],[0.6666666666666666,\"#ed7953\"],[0.7777777777777778,\"#fb9f3a\"],[0.8888888888888888,\"#fdca26\"],[1.0,\"#f0f921\"]]}],\"surface\":[{\"type\":\"surface\",\"colorbar\":{\"outlinewidth\":0,\"ticks\":\"\"},\"colorscale\":[[0.0,\"#0d0887\"],[0.1111111111111111,\"#46039f\"],[0.2222222222222222,\"#7201a8\"],[0.3333333333333333,\"#9c179e\"],[0.4444444444444444,\"#bd3786\"],[0.5555555555555556,\"#d8576b\"],[0.6666666666666666,\"#ed7953\"],[0.7777777777777778,\"#fb9f3a\"],[0.8888888888888888,\"#fdca26\"],[1.0,\"#f0f921\"]]}],\"mesh3d\":[{\"type\":\"mesh3d\",\"colorbar\":{\"outlinewidth\":0,\"ticks\":\"\"}}],\"scatter\":[{\"marker\":{\"line\":{\"color\":\"#283442\"}},\"type\":\"scatter\"}],\"parcoords\":[{\"type\":\"parcoords\",\"line\":{\"colorbar\":{\"outlinewidth\":0,\"ticks\":\"\"}}}],\"scatterpolargl\":[{\"type\":\"scatterpolargl\",\"marker\":{\"colorbar\":{\"outlinewidth\":0,\"ticks\":\"\"}}}],\"bar\":[{\"error_x\":{\"color\":\"#f2f5fa\"},\"error_y\":{\"color\":\"#f2f5fa\"},\"marker\":{\"line\":{\"color\":\"rgb(17,17,17)\",\"width\":0.5},\"pattern\":{\"fillmode\":\"overlay\",\"size\":10,\"solidity\":0.2}},\"type\":\"bar\"}],\"scattergeo\":[{\"type\":\"scattergeo\",\"marker\":{\"colorbar\":{\"outlinewidth\":0,\"ticks\":\"\"}}}],\"scatterpolar\":[{\"type\":\"scatterpolar\",\"marker\":{\"colorbar\":{\"outlinewidth\":0,\"ticks\":\"\"}}}],\"histogram\":[{\"marker\":{\"pattern\":{\"fillmode\":\"overlay\",\"size\":10,\"solidity\":0.2}},\"type\":\"histogram\"}],\"scattergl\":[{\"marker\":{\"line\":{\"color\":\"#283442\"}},\"type\":\"scattergl\"}],\"scatter3d\":[{\"type\":\"scatter3d\",\"line\":{\"colorbar\":{\"outlinewidth\":0,\"ticks\":\"\"}},\"marker\":{\"colorbar\":{\"outlinewidth\":0,\"ticks\":\"\"}}}],\"scattermapbox\":[{\"type\":\"scattermapbox\",\"marker\":{\"colorbar\":{\"outlinewidth\":0,\"ticks\":\"\"}}}],\"scatterternary\":[{\"type\":\"scatterternary\",\"marker\":{\"colorbar\":{\"outlinewidth\":0,\"ticks\":\"\"}}}],\"scattercarpet\":[{\"type\":\"scattercarpet\",\"marker\":{\"colorbar\":{\"outlinewidth\":0,\"ticks\":\"\"}}}],\"carpet\":[{\"aaxis\":{\"endlinecolor\":\"#A2B1C6\",\"gridcolor\":\"#506784\",\"linecolor\":\"#506784\",\"minorgridcolor\":\"#506784\",\"startlinecolor\":\"#A2B1C6\"},\"baxis\":{\"endlinecolor\":\"#A2B1C6\",\"gridcolor\":\"#506784\",\"linecolor\":\"#506784\",\"minorgridcolor\":\"#506784\",\"startlinecolor\":\"#A2B1C6\"},\"type\":\"carpet\"}],\"table\":[{\"cells\":{\"fill\":{\"color\":\"#506784\"},\"line\":{\"color\":\"rgb(17,17,17)\"}},\"header\":{\"fill\":{\"color\":\"#2a3f5f\"},\"line\":{\"color\":\"rgb(17,17,17)\"}},\"type\":\"table\"}],\"barpolar\":[{\"marker\":{\"line\":{\"color\":\"rgb(17,17,17)\",\"width\":0.5},\"pattern\":{\"fillmode\":\"overlay\",\"size\":10,\"solidity\":0.2}},\"type\":\"barpolar\"}],\"pie\":[{\"automargin\":true,\"type\":\"pie\"}]},\"layout\":{\"autotypenumbers\":\"strict\",\"colorway\":[\"#636efa\",\"#EF553B\",\"#00cc96\",\"#ab63fa\",\"#FFA15A\",\"#19d3f3\",\"#FF6692\",\"#B6E880\",\"#FF97FF\",\"#FECB52\"],\"font\":{\"color\":\"#f2f5fa\"},\"hovermode\":\"closest\",\"hoverlabel\":{\"align\":\"left\"},\"paper_bgcolor\":\"rgb(17,17,17)\",\"plot_bgcolor\":\"rgb(17,17,17)\",\"polar\":{\"bgcolor\":\"rgb(17,17,17)\",\"angularaxis\":{\"gridcolor\":\"#506784\",\"linecolor\":\"#506784\",\"ticks\":\"\"},\"radialaxis\":{\"gridcolor\":\"#506784\",\"linecolor\":\"#506784\",\"ticks\":\"\"}},\"ternary\":{\"bgcolor\":\"rgb(17,17,17)\",\"aaxis\":{\"gridcolor\":\"#506784\",\"linecolor\":\"#506784\",\"ticks\":\"\"},\"baxis\":{\"gridcolor\":\"#506784\",\"linecolor\":\"#506784\",\"ticks\":\"\"},\"caxis\":{\"gridcolor\":\"#506784\",\"linecolor\":\"#506784\",\"ticks\":\"\"}},\"coloraxis\":{\"colorbar\":{\"outlinewidth\":0,\"ticks\":\"\"}},\"colorscale\":{\"sequential\":[[0.0,\"#0d0887\"],[0.1111111111111111,\"#46039f\"],[0.2222222222222222,\"#7201a8\"],[0.3333333333333333,\"#9c179e\"],[0.4444444444444444,\"#bd3786\"],[0.5555555555555556,\"#d8576b\"],[0.6666666666666666,\"#ed7953\"],[0.7777777777777778,\"#fb9f3a\"],[0.8888888888888888,\"#fdca26\"],[1.0,\"#f0f921\"]],\"sequentialminus\":[[0.0,\"#0d0887\"],[0.1111111111111111,\"#46039f\"],[0.2222222222222222,\"#7201a8\"],[0.3333333333333333,\"#9c179e\"],[0.4444444444444444,\"#bd3786\"],[0.5555555555555556,\"#d8576b\"],[0.6666666666666666,\"#ed7953\"],[0.7777777777777778,\"#fb9f3a\"],[0.8888888888888888,\"#fdca26\"],[1.0,\"#f0f921\"]],\"diverging\":[[0,\"#8e0152\"],[0.1,\"#c51b7d\"],[0.2,\"#de77ae\"],[0.3,\"#f1b6da\"],[0.4,\"#fde0ef\"],[0.5,\"#f7f7f7\"],[0.6,\"#e6f5d0\"],[0.7,\"#b8e186\"],[0.8,\"#7fbc41\"],[0.9,\"#4d9221\"],[1,\"#276419\"]]},\"xaxis\":{\"gridcolor\":\"#283442\",\"linecolor\":\"#506784\",\"ticks\":\"\",\"title\":{\"standoff\":15},\"zerolinecolor\":\"#283442\",\"automargin\":true,\"zerolinewidth\":2},\"yaxis\":{\"gridcolor\":\"#283442\",\"linecolor\":\"#506784\",\"ticks\":\"\",\"title\":{\"standoff\":15},\"zerolinecolor\":\"#283442\",\"automargin\":true,\"zerolinewidth\":2},\"scene\":{\"xaxis\":{\"backgroundcolor\":\"rgb(17,17,17)\",\"gridcolor\":\"#506784\",\"linecolor\":\"#506784\",\"showbackground\":true,\"ticks\":\"\",\"zerolinecolor\":\"#C8D4E3\",\"gridwidth\":2},\"yaxis\":{\"backgroundcolor\":\"rgb(17,17,17)\",\"gridcolor\":\"#506784\",\"linecolor\":\"#506784\",\"showbackground\":true,\"ticks\":\"\",\"zerolinecolor\":\"#C8D4E3\",\"gridwidth\":2},\"zaxis\":{\"backgroundcolor\":\"rgb(17,17,17)\",\"gridcolor\":\"#506784\",\"linecolor\":\"#506784\",\"showbackground\":true,\"ticks\":\"\",\"zerolinecolor\":\"#C8D4E3\",\"gridwidth\":2}},\"shapedefaults\":{\"line\":{\"color\":\"#f2f5fa\"}},\"annotationdefaults\":{\"arrowcolor\":\"#f2f5fa\",\"arrowhead\":0,\"arrowwidth\":1},\"geo\":{\"bgcolor\":\"rgb(17,17,17)\",\"landcolor\":\"rgb(17,17,17)\",\"subunitcolor\":\"#506784\",\"showland\":true,\"showlakes\":true,\"lakecolor\":\"rgb(17,17,17)\"},\"title\":{\"x\":0.05},\"updatemenudefaults\":{\"bgcolor\":\"#506784\",\"borderwidth\":0},\"sliderdefaults\":{\"bgcolor\":\"#C8D4E3\",\"borderwidth\":1,\"bordercolor\":\"rgb(17,17,17)\",\"tickwidth\":0},\"mapbox\":{\"style\":\"dark\"}}},\"title\":{\"font\":{\"size\":20},\"text\":\"2D Nonlinear Dataset\",\"y\":0.95,\"x\":0.5,\"xanchor\":\"center\",\"yanchor\":\"top\"},\"margin\":{\"l\":0,\"r\":0,\"t\":0,\"b\":100},\"xaxis\":{\"title\":{\"text\":\"X\"}},\"yaxis\":{\"title\":{\"text\":\"Y\"}}},                        {\"responsive\": true}                    ).then(function(){\n",
       "                            \n",
       "var gd = document.getElementById('c9cc12a1-a6fb-47f6-b723-0ec033910f71');\n",
       "var x = new MutationObserver(function (mutations, observer) {{\n",
       "        var display = window.getComputedStyle(gd).display;\n",
       "        if (!display || display === 'none') {{\n",
       "            console.log([gd, 'removed!']);\n",
       "            Plotly.purge(gd);\n",
       "            observer.disconnect();\n",
       "        }}\n",
       "}});\n",
       "\n",
       "// Listen for the removal of the full notebook cells\n",
       "var notebookContainer = gd.closest('#notebook-container');\n",
       "if (notebookContainer) {{\n",
       "    x.observe(notebookContainer, {childList: true});\n",
       "}}\n",
       "\n",
       "// Listen for the clearing of the current output cell\n",
       "var outputEl = gd.closest('.output');\n",
       "if (outputEl) {{\n",
       "    x.observe(outputEl, {childList: true});\n",
       "}}\n",
       "\n",
       "                        })                };                });            </script>        </div>"
      ]
     },
     "metadata": {},
     "output_type": "display_data"
    }
   ],
   "execution_count": 84
  },
  {
   "metadata": {
    "ExecuteTime": {
     "end_time": "2024-09-11T18:33:39.118506Z",
     "start_time": "2024-09-11T18:33:39.107160Z"
    }
   },
   "cell_type": "code",
   "source": [
    "# Display the 2D nonlinear scatter plot image\n",
    "from src.utils.mermaid import display_image_from_file\n",
    "\n",
    "display_image_from_file('../assets/images/scatter_plot_2d_nonlinear.png')"
   ],
   "id": "a24145fb281b2dbf",
   "outputs": [
    {
     "data": {
      "image/png": "[encoded data removed]",
      "text/plain": [
       "<IPython.core.display.Image object>"
      ]
     },
     "metadata": {},
     "output_type": "display_data"
    }
   ],
   "execution_count": 85
  },
  {
   "metadata": {
    "ExecuteTime": {
     "end_time": "2024-09-11T18:33:39.269362Z",
     "start_time": "2024-09-11T18:33:39.262928Z"
    }
   },
   "cell_type": "code",
   "source": [
    "\"\"\"\n",
    "Colorscale properties: \n",
    "=====================\n",
    "\n",
    "[\n",
    "'aggrnyl', 'agsunset', 'algae', 'amp', 'armyrose', 'balance',\n",
    "'blackbody', 'bluered', 'blues', 'blugrn', 'bluyl', 'brbg',\n",
    "'brwnyl', 'bugn', 'bupu', 'burg', 'burgyl', 'cividis', 'curl',\n",
    "'darkmint', 'deep', 'delta', 'dense', 'earth', 'edge', 'electric',\n",
    "'emrld', 'fall', 'geyser', 'gnbu', 'gray', 'greens', 'greys',\n",
    "'haline', 'hot', 'hsv', 'ice', 'icefire', 'inferno', 'jet',\n",
    "'magenta', 'magma', 'matter', 'mint', 'mrybm', 'mygbm', 'oranges',\n",
    "'orrd', 'oryel', 'oxy', 'peach', 'phase', 'picnic', 'pinkyl',\n",
    "'piyg', 'plasma', 'plotly3', 'portland', 'prgn', 'pubu', 'pubugn',\n",
    "'puor', 'purd', 'purp', 'purples', 'purpor', 'rainbow', 'rdbu',\n",
    "'rdgy', 'rdpu', 'rdylbu', 'rdylgn', 'redor', 'reds', 'solar',\n",
    "'spectral', 'speed', 'sunset', 'sunsetdark', 'teal', 'tealgrn',\n",
    "'tealrose', 'tempo', 'temps', 'thermal', 'tropic', 'turbid',\n",
    "'turbo', 'twilight', 'viridis', 'ylgn', 'ylgnbu', 'ylorbr',\n",
    "'ylorrd'\n",
    "]\n",
    " \"\"\""
   ],
   "id": "34d4ee97243bdf14",
   "outputs": [
    {
     "data": {
      "text/plain": [
       "\"\\nColorscale properties: \\n=====================\\n\\n[\\n'aggrnyl', 'agsunset', 'algae', 'amp', 'armyrose', 'balance',\\n'blackbody', 'bluered', 'blues', 'blugrn', 'bluyl', 'brbg',\\n'brwnyl', 'bugn', 'bupu', 'burg', 'burgyl', 'cividis', 'curl',\\n'darkmint', 'deep', 'delta', 'dense', 'earth', 'edge', 'electric',\\n'emrld', 'fall', 'geyser', 'gnbu', 'gray', 'greens', 'greys',\\n'haline', 'hot', 'hsv', 'ice', 'icefire', 'inferno', 'jet',\\n'magenta', 'magma', 'matter', 'mint', 'mrybm', 'mygbm', 'oranges',\\n'orrd', 'oryel', 'oxy', 'peach', 'phase', 'picnic', 'pinkyl',\\n'piyg', 'plasma', 'plotly3', 'portland', 'prgn', 'pubu', 'pubugn',\\n'puor', 'purd', 'purp', 'purples', 'purpor', 'rainbow', 'rdbu',\\n'rdgy', 'rdpu', 'rdylbu', 'rdylgn', 'redor', 'reds', 'solar',\\n'spectral', 'speed', 'sunset', 'sunsetdark', 'teal', 'tealgrn',\\n'tealrose', 'tempo', 'temps', 'thermal', 'tropic', 'turbid',\\n'turbo', 'twilight', 'viridis', 'ylgn', 'ylgnbu', 'ylorbr',\\n'ylorrd'\\n]\\n \""
      ]
     },
     "execution_count": 86,
     "metadata": {},
     "output_type": "execute_result"
    }
   ],
   "execution_count": 86
  },
  {
   "metadata": {
    "ExecuteTime": {
     "end_time": "2024-09-11T18:33:39.350645Z",
     "start_time": "2024-09-11T18:33:39.344360Z"
    }
   },
   "cell_type": "code",
   "source": [
    "# Generate a spiral dataset\n",
    "from src.utils.datasets import create_spiral_dataset\n",
    "\n",
    "# Create a spiral dataset\n",
    "X, y = create_spiral_dataset(100, 3)\n",
    "\n",
    "print(X.shape)  # (100, 3)\n",
    "print(y.shape)  # (100,)\n"
   ],
   "id": "c4ea8267ab0ce02e",
   "outputs": [
    {
     "name": "stdout",
     "output_type": "stream",
     "text": [
      "(300, 2)\n",
      "(300,)\n"
     ]
    }
   ],
   "execution_count": 87
  },
  {
   "metadata": {
    "ExecuteTime": {
     "end_time": "2024-09-11T18:33:39.655228Z",
     "start_time": "2024-09-11T18:33:39.440523Z"
    }
   },
   "cell_type": "code",
   "source": [
    "# Graph the inputs\n",
    "fig = go.Figure()\n",
    "fig.add_trace(\n",
    "    go.Scatter(\n",
    "        x=X[:,0], y=X[:,1], mode='markers', \n",
    "        marker=dict(size=8, color=y, opacity=0.8, colorscale='turbo'), name='Dataset'\n",
    "    )\n",
    ")\n",
    "\n",
    "# Update the layout of the plot\n",
    "fig.update_layout(\n",
    "    title={\n",
    "        'text': '2D Spiral Dataset',\n",
    "        'y': 0.95,\n",
    "        'x': 0.5,\n",
    "        'xanchor': 'center',\n",
    "        'yanchor': 'top',\n",
    "        'font': {\n",
    "            'size': 20  # Adjust the size as needed\n",
    "        }\n",
    "    },\n",
    "    xaxis_title='X',\n",
    "    yaxis_title='Y',\n",
    "    margin=dict(l=0, r=0, t=0, b=0),  # Set margins to zero\n",
    "    \n",
    ")\n",
    "\n",
    "# Save plot to file in png and svg format\n",
    "fig.write_image('../assets/images/scatter_plot_2d_spiral.png')\n",
    "fig.write_image('../assets/images/scatter_plot_2d_spiral.svg')\n",
    "\n",
    "# Show the plot\n",
    "fig.show()"
   ],
   "id": "ef8222e6d3d21445",
   "outputs": [
    {
     "data": {
      "application/vnd.plotly.v1+json": {
       "data": [
        {
         "marker": {
          "color": [
           0,
           0,
           0,
           0,
           0,
           0,
           0,
           0,
           0,
           0,
           0,
           0,
           0,
           0,
           0,
           0,
           0,
           0,
           0,
           0,
           0,
           0,
           0,
           0,
           0,
           0,
           0,
           0,
           0,
           0,
           0,
           0,
           0,
           0,
           0,
           0,
           0,
           0,
           0,
           0,
           0,
           0,
           0,
           0,
           0,
           0,
           0,
           0,
           0,
           0,
           0,
           0,
           0,
           0,
           0,
           0,
           0,
           0,
           0,
           0,
           0,
           0,
           0,
           0,
           0,
           0,
           0,
           0,
           0,
           0,
           0,
           0,
           0,
           0,
           0,
           0,
           0,
           0,
           0,
           0,
           0,
           0,
           0,
           0,
           0,
           0,
           0,
           0,
           0,
           0,
           0,
           0,
           0,
           0,
           0,
           0,
           0,
           0,
           0,
           0,
           1,
           1,
           1,
           1,
           1,
           1,
           1,
           1,
           1,
           1,
           1,
           1,
           1,
           1,
           1,
           1,
           1,
           1,
           1,
           1,
           1,
           1,
           1,
           1,
           1,
           1,
           1,
           1,
           1,
           1,
           1,
           1,
           1,
           1,
           1,
           1,
           1,
           1,
           1,
           1,
           1,
           1,
           1,
           1,
           1,
           1,
           1,
           1,
           1,
           1,
           1,
           1,
           1,
           1,
           1,
           1,
           1,
           1,
           1,
           1,
           1,
           1,
           1,
           1,
           1,
           1,
           1,
           1,
           1,
           1,
           1,
           1,
           1,
           1,
           1,
           1,
           1,
           1,
           1,
           1,
           1,
           1,
           1,
           1,
           1,
           1,
           1,
           1,
           1,
           1,
           1,
           1,
           1,
           1,
           1,
           1,
           1,
           1,
           1,
           1,
           2,
           2,
           2,
           2,
           2,
           2,
           2,
           2,
           2,
           2,
           2,
           2,
           2,
           2,
           2,
           2,
           2,
           2,
           2,
           2,
           2,
           2,
           2,
           2,
           2,
           2,
           2,
           2,
           2,
           2,
           2,
           2,
           2,
           2,
           2,
           2,
           2,
           2,
           2,
           2,
           2,
           2,
           2,
           2,
           2,
           2,
           2,
           2,
           2,
           2,
           2,
           2,
           2,
           2,
           2,
           2,
           2,
           2,
           2,
           2,
           2,
           2,
           2,
           2,
           2,
           2,
           2,
           2,
           2,
           2,
           2,
           2,
           2,
           2,
           2,
           2,
           2,
           2,
           2,
           2,
           2,
           2,
           2,
           2,
           2,
           2,
           2,
           2,
           2,
           2,
           2,
           2,
           2,
           2,
           2,
           2,
           2,
           2,
           2,
           2
          ],
          "colorscale": [
           [
            0.0,
            "#30123b"
           ],
           [
            0.07142857142857142,
            "#4145ab"
           ],
           [
            0.14285714285714285,
            "#4675ed"
           ],
           [
            0.21428571428571427,
            "#39a2fc"
           ],
           [
            0.2857142857142857,
            "#1bcfd4"
           ],
           [
            0.35714285714285715,
            "#24eca6"
           ],
           [
            0.42857142857142855,
            "#61fc6c"
           ],
           [
            0.5,
            "#a4fc3b"
           ],
           [
            0.5714285714285714,
            "#d1e834"
           ],
           [
            0.6428571428571429,
            "#f3c63a"
           ],
           [
            0.7142857142857143,
            "#fe9b2d"
           ],
           [
            0.7857142857142857,
            "#f36315"
           ],
           [
            0.8571428571428571,
            "#d93806"
           ],
           [
            0.9285714285714286,
            "#b11901"
           ],
           [
            1.0,
            "#7a0402"
           ]
          ],
          "opacity": 0.8,
          "size": 8
         },
         "mode": "markers",
         "name": "Dataset",
         "x": [
          0.0,
          -0.007606784725051093,
          -0.005182504040727247,
          0.01552541942495922,
          0.013163607700693192,
          0.015165422521992426,
          0.02680101306683108,
          0.06398374006039584,
          0.07413329363116658,
          0.04481200357433804,
          0.09246752891321218,
          0.08533297844501228,
          0.08058929557797778,
          0.10630977002682031,
          0.134540391969052,
          0.14752224812428624,
          0.15917164465216183,
          0.1676926978286182,
          0.16858312450308907,
          0.17189379186874515,
          0.1993473490526776,
          0.21084363987755003,
          0.06594024758746357,
          -0.09352201312310161,
          0.006237884677259517,
          0.10829640855532607,
          0.0010694042816965104,
          0.08861136147771859,
          -0.13931472016037497,
          -0.035545591263713434,
          0.06798099860213716,
          0.17030618603109215,
          0.0734538712383784,
          -0.11387830843893396,
          0.10808746904282673,
          -0.09867428923943904,
          -0.33406667503571114,
          -0.2142355023115315,
          -0.38113803305445454,
          -0.3934585765706178,
          -0.27688333365014656,
          -0.1303403751168379,
          -0.37352433731392715,
          -0.356170814456481,
          -0.4430558908533135,
          -0.3645157970163631,
          -0.3761367624667492,
          -0.46873813121585317,
          -0.4628668831735798,
          -0.34320039309927247,
          -0.4186885230384639,
          -0.41126224570570574,
          -0.18423895314684188,
          -0.33782915261426305,
          -0.4427725650264038,
          -0.3574681704674326,
          -0.4698252405327516,
          -0.14371465057767707,
          0.027320833660341694,
          -0.5785091421212013,
          0.22845117916596952,
          -0.09197416831694497,
          0.13048031676262184,
          0.25461615046683583,
          -0.5318266702816559,
          -0.20372283836718377,
          0.14348890293092345,
          0.06001537315169593,
          0.45424556277349787,
          0.2899485875700449,
          -0.04805352211635918,
          0.6670402334307268,
          0.7269190120287929,
          0.7229570324261526,
          0.5541819144470607,
          0.695194394317929,
          0.7640680575338643,
          0.7581044757333492,
          0.6804886070206265,
          0.7977971406027491,
          0.7154103854224286,
          0.8181264213390083,
          0.6357469644268323,
          0.5199358899756991,
          -0.145718539624962,
          0.604026341874456,
          0.5016233422689425,
          0.5831161447560407,
          0.5985485645832201,
          0.03953504785986861,
          0.14225843112703884,
          0.30350247395004964,
          0.5783134118371374,
          0.08665173431846757,
          0.11867907540857389,
          -0.6875481574609233,
          -0.6579650360928679,
          0.1347382474564988,
          -0.8624751832737192,
          -0.2852177743239838,
          -0.0,
          -0.009669961249779195,
          -0.005288478981417088,
          -0.024797052556470984,
          -0.016254437054468298,
          -0.005525418037567498,
          -0.06027994823446709,
          -0.06806196798979795,
          -0.06675408141317483,
          -0.057939697660085325,
          -0.09926394078185999,
          -0.07847085634670084,
          -0.1107868267619606,
          -0.13018498301884854,
          -0.14093251839724508,
          -0.12735732260108074,
          -0.1597266020973083,
          -0.03020094168395076,
          -0.08662434506648328,
          -0.009592612326517216,
          -0.14879333360554936,
          -0.0037637056698700774,
          -4.3562067762989814E-5,
          -0.19669825232408544,
          -0.016386971172067145,
          0.0293370124711379,
          -0.05925051903037189,
          -0.005231530287790512,
          0.13060543102695923,
          0.09878189513573496,
          -0.011641304493325667,
          0.23744087181943346,
          0.22729076643157478,
          0.2593492296113673,
          0.27237205133822945,
          0.328668312675492,
          0.29084292484892665,
          0.2519027945755501,
          0.30093340231070076,
          0.3693738949363935,
          0.18124380150388444,
          0.3986343409617412,
          0.34629143993435496,
          0.35893029927665066,
          0.4359342633682414,
          0.43690352719203135,
          0.29799687080287535,
          0.4612648984681528,
          0.010879400369769334,
          0.08695759969757215,
          0.33444220415455894,
          0.332488305140163,
          0.42174403166386265,
          0.03231976698718102,
          0.11851106551339469,
          -0.29209650713114704,
          0.2174110315352295,
          -0.18307192192781932,
          -0.07735944099312686,
          0.10192723817633695,
          -0.5845856686276237,
          -0.3445754971383247,
          -0.4765603018498583,
          -0.0770581268773071,
          -0.2489873343440775,
          -0.5142088367870498,
          -0.4121465387757496,
          -0.6618895940774704,
          -0.67439222655279,
          -0.5329666470628402,
          -0.7026733657724199,
          -0.7132196861564566,
          -0.7244540701556133,
          -0.6542413022909562,
          -0.7291694290708076,
          -0.6971158384771793,
          -0.4741826295261394,
          -0.7777024332807894,
          -0.2791541924248362,
          -0.5603138411159052,
          -0.7968200523910193,
          -0.39658891668323665,
          -0.1023127325154734,
          -0.27446277719853246,
          0.6056170163274693,
          -0.09371088987497911,
          0.24306609082927752,
          -0.0493318647382133,
          0.44887973290954575,
          -0.7831123985345864,
          -0.16937545003162377,
          0.14664747974065273,
          0.5953460328634729,
          0.5599079430475967,
          0.880776626469533,
          0.7662800267433634,
          0.7893744593002546,
          0.7525972458730902,
          0.8958612735831756,
          0.9999843423985286,
          0.0,
          0.010027884724407696,
          0.01905690600372718,
          0.027087536328079843,
          0.03912778636828017,
          0.04881488381716103,
          0.0331810861331717,
          0.06494830346724423,
          0.06528420670771334,
          0.08568786650691032,
          -0.03547996356188201,
          0.1100394832672446,
          -0.01569687646635142,
          0.1072716075750151,
          0.013857740608878835,
          0.01035354957626544,
          0.05432746140470107,
          0.06003802072736652,
          0.10906480342880531,
          0.018921979385214907,
          -0.11064794655714565,
          -0.0659454618324145,
          0.04646717132614181,
          -0.18357815335998917,
          0.04071112142028631,
          -0.15060907251390757,
          -0.04947566018635036,
          -0.09217906219514102,
          -0.2775337690022366,
          -0.19021241097009792,
          -0.08421483148019426,
          -0.23949784659282244,
          -0.32284926453733026,
          -0.2763646386318534,
          -0.3046578388873601,
          -0.3139830784863786,
          -0.3613960538534438,
          -0.2703066765555045,
          -0.1362509601670429,
          -0.3219025424991264,
          -0.19864968634498803,
          -0.26255644057175814,
          -0.36840184337355025,
          -0.19174872903814374,
          -0.20914109594507416,
          -0.34898394241872166,
          0.11847806900930707,
          -0.14714915594999942,
          0.14786196518888473,
          -0.1491581361879992,
          -0.3956289085027774,
          0.07248414107115982,
          0.0011780925771374294,
          -0.21321021467467266,
          -0.27300166051463154,
          0.37091338766611665,
          0.5182948224645288,
          0.5582422472667957,
          0.49074143180991076,
          0.43933691272135533,
          0.517244081254286,
          0.5348594644099568,
          0.6256683257299002,
          0.5300263738781915,
          0.4170127159715673,
          0.6365569353209352,
          0.6653954232932778,
          0.6754036433724296,
          0.6760095533031703,
          0.14130259210224072,
          0.48785522332732484,
          0.6990576794311254,
          0.4543432691747226,
          0.6738565183560532,
          0.3518547950888975,
          0.3362965964594189,
          0.42360205992451283,
          0.6465521671644416,
          0.6109519451029672,
          0.07034588019022452,
          0.3878954557057102,
          -0.2620473850473455,
          0.24739616715532042,
          0.06038558313418902,
          -0.4722403326137456,
          -0.24926463008178057,
          -0.2809449094125439,
          -0.530662206044024,
          -0.6390155715142867,
          -0.5607984982431612,
          -0.7285488197087646,
          -0.6963897836210347,
          -0.87409400129728,
          -0.8953909539341477,
          -0.944934943416967,
          -0.9483916624715055,
          -0.7639886335483885,
          -0.7327286423132369,
          -0.986780976619572,
          -0.9976050175939231
         ],
         "y": [
          0.0,
          0.00664584315248543,
          0.019525964050737116,
          0.026023739109233935,
          0.038199553836053904,
          0.04817437167464821,
          0.05435807466032109,
          0.030092704362658984,
          0.03215899095557189,
          0.07909707419096404,
          0.040654601249490586,
          0.07116151911004114,
          -0.09054139256156434,
          0.07708029094460044,
          0.043552753308059015,
          0.03455470224174779,
          0.02800305758782782,
          -0.03695870881814449,
          -0.06809978981204999,
          0.08535514362884143,
          -0.03275357156026145,
          0.023245820161015205,
          -0.21221357119064446,
          -0.21266809196143413,
          -0.2423439747749489,
          -0.22812472697399652,
          -0.26262408533019393,
          -0.257930595134275,
          -0.24613664155145937,
          -0.29076464984204753,
          -0.2953065329173967,
          -0.262768000835116,
          -0.3147755765339186,
          -0.3132775797566723,
          -0.3259819738667992,
          -0.3394858330511878,
          -0.14363447214809646,
          -0.30623973301554974,
          0.04545002383986221,
          -0.019457508071701123,
          -0.29425204781600856,
          -0.39309604109104473,
          -0.201149705347238,
          -0.2485891588276855,
          -0.035104725860027525,
          0.27155073922466033,
          -0.2727956616764472,
          -0.07529760370273329,
          0.14433399364337937,
          0.3566349572423671,
          0.2824463370759833,
          0.3102328944841304,
          0.49188029379871534,
          0.4153009408362302,
          0.31854845285601985,
          0.4252745964800961,
          0.3150104659034725,
          0.5575328557597093,
          0.5852212014890831,
          -0.1431607924625896,
          0.5613550720855983,
          0.6092584751920167,
          0.6125191947938349,
          0.5832060473000945,
          0.36752813757015584,
          0.6241598084698421,
          0.6510417645436616,
          0.6741013598139239,
          0.5152179749400273,
          0.6337953731766802,
          0.7054359246662183,
          0.26342474996801474,
          0.022679721907342156,
          0.14509706349228566,
          0.5015983490924072,
          0.30104116425401195,
          -0.07434798643593114,
          -0.1738271425238361,
          -0.39709978607961427,
          0.017072797953372666,
          0.37574269496327406,
          0.009520835590086294,
          -0.5309220666446908,
          -0.6576884754793838,
          -0.8358783675379599,
          -0.6101818211692142,
          -0.7092185123922897,
          -0.657452429936457,
          -0.6571628965678832,
          -0.8981201581506714,
          -0.897891318459539,
          -0.867640497333961,
          -0.72741937431108,
          -0.9353889299695962,
          -0.9420487971313285,
          -0.6694041655419989,
          -0.7123160985958388,
          -0.9704894053458564,
          -0.4858359480730147,
          -0.9584627385609067,
          -0.0,
          -0.002919290065833969,
          -0.019497528312736004,
          -0.017417802101814938,
          -0.036990265706178124,
          -0.05020189121963262,
          0.0062787278198261475,
          -0.019158767218441206,
          -0.045539417415778875,
          -0.07005322437243884,
          -0.018700549899032498,
          0.07866386538024381,
          0.049179846937107224,
          0.0171758158945009,
          0.01166124564997096,
          0.08207894686546344,
          -0.02464135300646917,
          0.1690404986503153,
          0.1598564170794287,
          0.19167931034847965,
          0.13664810975213282,
          0.2120878194319581,
          0.22222221795250127,
          0.12362799767756899,
          0.24186975935567823,
          0.25081535611323896,
          0.2558552907713073,
          0.27267709177725974,
          0.2508666158616115,
          0.2757711149657414,
          0.3028066125175125,
          0.20413978459126447,
          0.2298217619746059,
          0.2094017387967479,
          0.20919037716870129,
          0.1302474047434822,
          0.2182700117377541,
          0.27608804141638876,
          0.23826664114258306,
          -0.1369349182526326,
          0.36110847748779523,
          -0.11226652712651544,
          0.24507932012979006,
          0.2445879375979594,
          0.08655739263124577,
          -0.1254068505907706,
          -0.35650273785786385,
          0.11233814232160391,
          -0.48472640933568467,
          -0.4872508372548958,
          -0.3784500293724531,
          -0.39348775140774556,
          -0.31308495179434215,
          -0.5343770583374845,
          -0.5324244439428986,
          -0.4725691545482267,
          -0.5222066579785901,
          -0.5458767786267291,
          -0.5807286797752053,
          -0.5871785743145514,
          -0.15990326530044127,
          -0.5108060923704526,
          -0.4063190319861154,
          -0.6316808709847967,
          -0.5965918592009876,
          -0.4082495971236235,
          -0.5240035066863714,
          -0.14112637446445023,
          -0.13032159362854934,
          -0.4491250511969079,
          -0.07873452756909681,
          -0.07518611035234575,
          -0.0639681176030421,
          -0.34012989716452036,
          -0.16440937266771058,
          0.2965645565652485,
          0.6037205094133593,
          0.010825750508743442,
          0.7367672096673316,
          0.5681726475621819,
          0.13443361371362939,
          0.7156386789206706,
          0.8219395040959028,
          0.7921853598720989,
          0.5942680940812574,
          0.8534564697056644,
          0.8339878604140294,
          0.8774021330188059,
          0.7672225506156467,
          0.441494971372581,
          0.8931731287484642,
          0.9074184817345515,
          0.7135463892330743,
          0.7542970692520776,
          0.3546451654560734,
          0.5776152060732828,
          0.5632052699006966,
          0.6273766545867339,
          0.4211087611258774,
          0.005595976928326759,
          0.0,
          -0.0012132324652344552,
          0.006704920119430159,
          0.013584514022272847,
          0.010074860539459522,
          -0.012956359227606098,
          -0.050715974852195554,
          -0.02795009346498593,
          -0.04762266559559509,
          0.03036531480836767,
          -0.09457384782125731,
          -0.015394516381604117,
          -0.12019145725858418,
          -0.07573599318376721,
          -0.14073351561414155,
          -0.1511609908337172,
          -0.1522114011264005,
          -0.16087952986531553,
          -0.14547412104118546,
          -0.190984122175277,
          -0.1690242407081608,
          -0.20161003123724236,
          -0.2173097283563939,
          -0.14238379783546615,
          -0.2389814174944792,
          -0.2026965970100216,
          -0.25792385091372116,
          -0.25667720152378265,
          -0.05446874912285347,
          -0.22277075519241316,
          -0.2910931581356727,
          -0.2017225836160676,
          0.015731724948970134,
          -0.18636978731810644,
          0.15852680989240253,
          0.16248653059125878,
          0.04030257085889756,
          0.25809673600731037,
          0.3588419997174542,
          -0.22708368331946518,
          0.3518336968116767,
          0.3202767965703091,
          0.21038468652936515,
          0.3897263705082142,
          0.3921617857267893,
          0.2912417864624173,
          0.4492875296202692,
          0.45136713513758064,
          0.46175198159872854,
          0.47193945899837875,
          0.3139327625601878,
          0.5100266001455984,
          0.5252512040748069,
          0.49106497754768563,
          0.47221896881984604,
          0.41360033142961466,
          0.2265785234236537,
          0.14093395406628706,
          0.3200048901647922,
          0.4026796706276506,
          0.31586075828750665,
          0.30590928485743796,
          0.02727678924846968,
          0.35217995496547794,
          0.49398070189702487,
          0.16085313014147562,
          -0.04115063917856113,
          0.042946557915233954,
          -0.12165392243393763,
          -0.682495667355639,
          -0.5118068638360723,
          0.16016751461953657,
          -0.5678889095503946,
          0.29939509220688926,
          -0.6594821462976747,
          -0.6788413862429824,
          -0.6402256746322811,
          -0.43232923419530883,
          -0.4974843768041857,
          -0.7948730811419782,
          -0.7088947085649542,
          -0.7750823540715878,
          -0.7904730103583918,
          -0.8362063392565031,
          -0.7049224115895416,
          -0.8216062443493289,
          -0.8220017236625327,
          -0.7004753807101214,
          -0.6178855526328426,
          -0.7026292641600436,
          -0.5437489294634994,
          -0.5999625434774843,
          -0.3155075677855352,
          -0.28414083300884707,
          -0.0929441328217669,
          0.14621101267491604,
          -0.5971880615420506,
          -0.6504712276111859,
          -0.07850677922806579,
          0.06916812034043256
         ],
         "type": "scatter"
        }
       ],
       "layout": {
        "template": {
         "data": {
          "histogram2dcontour": [
           {
            "type": "histogram2dcontour",
            "colorbar": {
             "outlinewidth": 0,
             "ticks": ""
            },
            "colorscale": [
             [
              0.0,
              "#0d0887"
             ],
             [
              0.1111111111111111,
              "#46039f"
             ],
             [
              0.2222222222222222,
              "#7201a8"
             ],
             [
              0.3333333333333333,
              "#9c179e"
             ],
             [
              0.4444444444444444,
              "#bd3786"
             ],
             [
              0.5555555555555556,
              "#d8576b"
             ],
             [
              0.6666666666666666,
              "#ed7953"
             ],
             [
              0.7777777777777778,
              "#fb9f3a"
             ],
             [
              0.8888888888888888,
              "#fdca26"
             ],
             [
              1.0,
              "#f0f921"
             ]
            ]
           }
          ],
          "choropleth": [
           {
            "type": "choropleth",
            "colorbar": {
             "outlinewidth": 0,
             "ticks": ""
            }
           }
          ],
          "histogram2d": [
           {
            "type": "histogram2d",
            "colorbar": {
             "outlinewidth": 0,
             "ticks": ""
            },
            "colorscale": [
             [
              0.0,
              "#0d0887"
             ],
             [
              0.1111111111111111,
              "#46039f"
             ],
             [
              0.2222222222222222,
              "#7201a8"
             ],
             [
              0.3333333333333333,
              "#9c179e"
             ],
             [
              0.4444444444444444,
              "#bd3786"
             ],
             [
              0.5555555555555556,
              "#d8576b"
             ],
             [
              0.6666666666666666,
              "#ed7953"
             ],
             [
              0.7777777777777778,
              "#fb9f3a"
             ],
             [
              0.8888888888888888,
              "#fdca26"
             ],
             [
              1.0,
              "#f0f921"
             ]
            ]
           }
          ],
          "heatmap": [
           {
            "type": "heatmap",
            "colorbar": {
             "outlinewidth": 0,
             "ticks": ""
            },
            "colorscale": [
             [
              0.0,
              "#0d0887"
             ],
             [
              0.1111111111111111,
              "#46039f"
             ],
             [
              0.2222222222222222,
              "#7201a8"
             ],
             [
              0.3333333333333333,
              "#9c179e"
             ],
             [
              0.4444444444444444,
              "#bd3786"
             ],
             [
              0.5555555555555556,
              "#d8576b"
             ],
             [
              0.6666666666666666,
              "#ed7953"
             ],
             [
              0.7777777777777778,
              "#fb9f3a"
             ],
             [
              0.8888888888888888,
              "#fdca26"
             ],
             [
              1.0,
              "#f0f921"
             ]
            ]
           }
          ],
          "heatmapgl": [
           {
            "type": "heatmapgl",
            "colorbar": {
             "outlinewidth": 0,
             "ticks": ""
            },
            "colorscale": [
             [
              0.0,
              "#0d0887"
             ],
             [
              0.1111111111111111,
              "#46039f"
             ],
             [
              0.2222222222222222,
              "#7201a8"
             ],
             [
              0.3333333333333333,
              "#9c179e"
             ],
             [
              0.4444444444444444,
              "#bd3786"
             ],
             [
              0.5555555555555556,
              "#d8576b"
             ],
             [
              0.6666666666666666,
              "#ed7953"
             ],
             [
              0.7777777777777778,
              "#fb9f3a"
             ],
             [
              0.8888888888888888,
              "#fdca26"
             ],
             [
              1.0,
              "#f0f921"
             ]
            ]
           }
          ],
          "contourcarpet": [
           {
            "type": "contourcarpet",
            "colorbar": {
             "outlinewidth": 0,
             "ticks": ""
            }
           }
          ],
          "contour": [
           {
            "type": "contour",
            "colorbar": {
             "outlinewidth": 0,
             "ticks": ""
            },
            "colorscale": [
             [
              0.0,
              "#0d0887"
             ],
             [
              0.1111111111111111,
              "#46039f"
             ],
             [
              0.2222222222222222,
              "#7201a8"
             ],
             [
              0.3333333333333333,
              "#9c179e"
             ],
             [
              0.4444444444444444,
              "#bd3786"
             ],
             [
              0.5555555555555556,
              "#d8576b"
             ],
             [
              0.6666666666666666,
              "#ed7953"
             ],
             [
              0.7777777777777778,
              "#fb9f3a"
             ],
             [
              0.8888888888888888,
              "#fdca26"
             ],
             [
              1.0,
              "#f0f921"
             ]
            ]
           }
          ],
          "surface": [
           {
            "type": "surface",
            "colorbar": {
             "outlinewidth": 0,
             "ticks": ""
            },
            "colorscale": [
             [
              0.0,
              "#0d0887"
             ],
             [
              0.1111111111111111,
              "#46039f"
             ],
             [
              0.2222222222222222,
              "#7201a8"
             ],
             [
              0.3333333333333333,
              "#9c179e"
             ],
             [
              0.4444444444444444,
              "#bd3786"
             ],
             [
              0.5555555555555556,
              "#d8576b"
             ],
             [
              0.6666666666666666,
              "#ed7953"
             ],
             [
              0.7777777777777778,
              "#fb9f3a"
             ],
             [
              0.8888888888888888,
              "#fdca26"
             ],
             [
              1.0,
              "#f0f921"
             ]
            ]
           }
          ],
          "mesh3d": [
           {
            "type": "mesh3d",
            "colorbar": {
             "outlinewidth": 0,
             "ticks": ""
            }
           }
          ],
          "scatter": [
           {
            "marker": {
             "line": {
              "color": "#283442"
             }
            },
            "type": "scatter"
           }
          ],
          "parcoords": [
           {
            "type": "parcoords",
            "line": {
             "colorbar": {
              "outlinewidth": 0,
              "ticks": ""
             }
            }
           }
          ],
          "scatterpolargl": [
           {
            "type": "scatterpolargl",
            "marker": {
             "colorbar": {
              "outlinewidth": 0,
              "ticks": ""
             }
            }
           }
          ],
          "bar": [
           {
            "error_x": {
             "color": "#f2f5fa"
            },
            "error_y": {
             "color": "#f2f5fa"
            },
            "marker": {
             "line": {
              "color": "rgb(17,17,17)",
              "width": 0.5
             },
             "pattern": {
              "fillmode": "overlay",
              "size": 10,
              "solidity": 0.2
             }
            },
            "type": "bar"
           }
          ],
          "scattergeo": [
           {
            "type": "scattergeo",
            "marker": {
             "colorbar": {
              "outlinewidth": 0,
              "ticks": ""
             }
            }
           }
          ],
          "scatterpolar": [
           {
            "type": "scatterpolar",
            "marker": {
             "colorbar": {
              "outlinewidth": 0,
              "ticks": ""
             }
            }
           }
          ],
          "histogram": [
           {
            "marker": {
             "pattern": {
              "fillmode": "overlay",
              "size": 10,
              "solidity": 0.2
             }
            },
            "type": "histogram"
           }
          ],
          "scattergl": [
           {
            "marker": {
             "line": {
              "color": "#283442"
             }
            },
            "type": "scattergl"
           }
          ],
          "scatter3d": [
           {
            "type": "scatter3d",
            "line": {
             "colorbar": {
              "outlinewidth": 0,
              "ticks": ""
             }
            },
            "marker": {
             "colorbar": {
              "outlinewidth": 0,
              "ticks": ""
             }
            }
           }
          ],
          "scattermapbox": [
           {
            "type": "scattermapbox",
            "marker": {
             "colorbar": {
              "outlinewidth": 0,
              "ticks": ""
             }
            }
           }
          ],
          "scatterternary": [
           {
            "type": "scatterternary",
            "marker": {
             "colorbar": {
              "outlinewidth": 0,
              "ticks": ""
             }
            }
           }
          ],
          "scattercarpet": [
           {
            "type": "scattercarpet",
            "marker": {
             "colorbar": {
              "outlinewidth": 0,
              "ticks": ""
             }
            }
           }
          ],
          "carpet": [
           {
            "aaxis": {
             "endlinecolor": "#A2B1C6",
             "gridcolor": "#506784",
             "linecolor": "#506784",
             "minorgridcolor": "#506784",
             "startlinecolor": "#A2B1C6"
            },
            "baxis": {
             "endlinecolor": "#A2B1C6",
             "gridcolor": "#506784",
             "linecolor": "#506784",
             "minorgridcolor": "#506784",
             "startlinecolor": "#A2B1C6"
            },
            "type": "carpet"
           }
          ],
          "table": [
           {
            "cells": {
             "fill": {
              "color": "#506784"
             },
             "line": {
              "color": "rgb(17,17,17)"
             }
            },
            "header": {
             "fill": {
              "color": "#2a3f5f"
             },
             "line": {
              "color": "rgb(17,17,17)"
             }
            },
            "type": "table"
           }
          ],
          "barpolar": [
           {
            "marker": {
             "line": {
              "color": "rgb(17,17,17)",
              "width": 0.5
             },
             "pattern": {
              "fillmode": "overlay",
              "size": 10,
              "solidity": 0.2
             }
            },
            "type": "barpolar"
           }
          ],
          "pie": [
           {
            "automargin": true,
            "type": "pie"
           }
          ]
         },
         "layout": {
          "autotypenumbers": "strict",
          "colorway": [
           "#636efa",
           "#EF553B",
           "#00cc96",
           "#ab63fa",
           "#FFA15A",
           "#19d3f3",
           "#FF6692",
           "#B6E880",
           "#FF97FF",
           "#FECB52"
          ],
          "font": {
           "color": "#f2f5fa"
          },
          "hovermode": "closest",
          "hoverlabel": {
           "align": "left"
          },
          "paper_bgcolor": "rgb(17,17,17)",
          "plot_bgcolor": "rgb(17,17,17)",
          "polar": {
           "bgcolor": "rgb(17,17,17)",
           "angularaxis": {
            "gridcolor": "#506784",
            "linecolor": "#506784",
            "ticks": ""
           },
           "radialaxis": {
            "gridcolor": "#506784",
            "linecolor": "#506784",
            "ticks": ""
           }
          },
          "ternary": {
           "bgcolor": "rgb(17,17,17)",
           "aaxis": {
            "gridcolor": "#506784",
            "linecolor": "#506784",
            "ticks": ""
           },
           "baxis": {
            "gridcolor": "#506784",
            "linecolor": "#506784",
            "ticks": ""
           },
           "caxis": {
            "gridcolor": "#506784",
            "linecolor": "#506784",
            "ticks": ""
           }
          },
          "coloraxis": {
           "colorbar": {
            "outlinewidth": 0,
            "ticks": ""
           }
          },
          "colorscale": {
           "sequential": [
            [
             0.0,
             "#0d0887"
            ],
            [
             0.1111111111111111,
             "#46039f"
            ],
            [
             0.2222222222222222,
             "#7201a8"
            ],
            [
             0.3333333333333333,
             "#9c179e"
            ],
            [
             0.4444444444444444,
             "#bd3786"
            ],
            [
             0.5555555555555556,
             "#d8576b"
            ],
            [
             0.6666666666666666,
             "#ed7953"
            ],
            [
             0.7777777777777778,
             "#fb9f3a"
            ],
            [
             0.8888888888888888,
             "#fdca26"
            ],
            [
             1.0,
             "#f0f921"
            ]
           ],
           "sequentialminus": [
            [
             0.0,
             "#0d0887"
            ],
            [
             0.1111111111111111,
             "#46039f"
            ],
            [
             0.2222222222222222,
             "#7201a8"
            ],
            [
             0.3333333333333333,
             "#9c179e"
            ],
            [
             0.4444444444444444,
             "#bd3786"
            ],
            [
             0.5555555555555556,
             "#d8576b"
            ],
            [
             0.6666666666666666,
             "#ed7953"
            ],
            [
             0.7777777777777778,
             "#fb9f3a"
            ],
            [
             0.8888888888888888,
             "#fdca26"
            ],
            [
             1.0,
             "#f0f921"
            ]
           ],
           "diverging": [
            [
             0,
             "#8e0152"
            ],
            [
             0.1,
             "#c51b7d"
            ],
            [
             0.2,
             "#de77ae"
            ],
            [
             0.3,
             "#f1b6da"
            ],
            [
             0.4,
             "#fde0ef"
            ],
            [
             0.5,
             "#f7f7f7"
            ],
            [
             0.6,
             "#e6f5d0"
            ],
            [
             0.7,
             "#b8e186"
            ],
            [
             0.8,
             "#7fbc41"
            ],
            [
             0.9,
             "#4d9221"
            ],
            [
             1,
             "#276419"
            ]
           ]
          },
          "xaxis": {
           "gridcolor": "#283442",
           "linecolor": "#506784",
           "ticks": "",
           "title": {
            "standoff": 15
           },
           "zerolinecolor": "#283442",
           "automargin": true,
           "zerolinewidth": 2
          },
          "yaxis": {
           "gridcolor": "#283442",
           "linecolor": "#506784",
           "ticks": "",
           "title": {
            "standoff": 15
           },
           "zerolinecolor": "#283442",
           "automargin": true,
           "zerolinewidth": 2
          },
          "scene": {
           "xaxis": {
            "backgroundcolor": "rgb(17,17,17)",
            "gridcolor": "#506784",
            "linecolor": "#506784",
            "showbackground": true,
            "ticks": "",
            "zerolinecolor": "#C8D4E3",
            "gridwidth": 2
           },
           "yaxis": {
            "backgroundcolor": "rgb(17,17,17)",
            "gridcolor": "#506784",
            "linecolor": "#506784",
            "showbackground": true,
            "ticks": "",
            "zerolinecolor": "#C8D4E3",
            "gridwidth": 2
           },
           "zaxis": {
            "backgroundcolor": "rgb(17,17,17)",
            "gridcolor": "#506784",
            "linecolor": "#506784",
            "showbackground": true,
            "ticks": "",
            "zerolinecolor": "#C8D4E3",
            "gridwidth": 2
           }
          },
          "shapedefaults": {
           "line": {
            "color": "#f2f5fa"
           }
          },
          "annotationdefaults": {
           "arrowcolor": "#f2f5fa",
           "arrowhead": 0,
           "arrowwidth": 1
          },
          "geo": {
           "bgcolor": "rgb(17,17,17)",
           "landcolor": "rgb(17,17,17)",
           "subunitcolor": "#506784",
           "showland": true,
           "showlakes": true,
           "lakecolor": "rgb(17,17,17)"
          },
          "title": {
           "x": 0.05
          },
          "updatemenudefaults": {
           "bgcolor": "#506784",
           "borderwidth": 0
          },
          "sliderdefaults": {
           "bgcolor": "#C8D4E3",
           "borderwidth": 1,
           "bordercolor": "rgb(17,17,17)",
           "tickwidth": 0
          },
          "mapbox": {
           "style": "dark"
          }
         }
        },
        "title": {
         "font": {
          "size": 20
         },
         "text": "2D Spiral Dataset",
         "y": 0.95,
         "x": 0.5,
         "xanchor": "center",
         "yanchor": "top"
        },
        "margin": {
         "l": 0,
         "r": 0,
         "t": 0,
         "b": 0
        },
        "xaxis": {
         "title": {
          "text": "X"
         }
        },
        "yaxis": {
         "title": {
          "text": "Y"
         }
        }
       },
       "config": {
        "plotlyServerURL": "https://plot.ly"
       }
      },
      "text/html": [
       "<div>                            <div id=\"ad96c751-8f6d-45dc-a256-b490a0527ed4\" class=\"plotly-graph-div\" style=\"height:525px; width:100%;\"></div>            <script type=\"text/javascript\">                require([\"plotly\"], function(Plotly) {                    window.PLOTLYENV=window.PLOTLYENV || {};                                    if (document.getElementById(\"ad96c751-8f6d-45dc-a256-b490a0527ed4\")) {                    Plotly.newPlot(                        \"ad96c751-8f6d-45dc-a256-b490a0527ed4\",                        [{\"marker\":{\"color\":[0,0,0,0,0,0,0,0,0,0,0,0,0,0,0,0,0,0,0,0,0,0,0,0,0,0,0,0,0,0,0,0,0,0,0,0,0,0,0,0,0,0,0,0,0,0,0,0,0,0,0,0,0,0,0,0,0,0,0,0,0,0,0,0,0,0,0,0,0,0,0,0,0,0,0,0,0,0,0,0,0,0,0,0,0,0,0,0,0,0,0,0,0,0,0,0,0,0,0,0,1,1,1,1,1,1,1,1,1,1,1,1,1,1,1,1,1,1,1,1,1,1,1,1,1,1,1,1,1,1,1,1,1,1,1,1,1,1,1,1,1,1,1,1,1,1,1,1,1,1,1,1,1,1,1,1,1,1,1,1,1,1,1,1,1,1,1,1,1,1,1,1,1,1,1,1,1,1,1,1,1,1,1,1,1,1,1,1,1,1,1,1,1,1,1,1,1,1,1,1,2,2,2,2,2,2,2,2,2,2,2,2,2,2,2,2,2,2,2,2,2,2,2,2,2,2,2,2,2,2,2,2,2,2,2,2,2,2,2,2,2,2,2,2,2,2,2,2,2,2,2,2,2,2,2,2,2,2,2,2,2,2,2,2,2,2,2,2,2,2,2,2,2,2,2,2,2,2,2,2,2,2,2,2,2,2,2,2,2,2,2,2,2,2,2,2,2,2,2,2],\"colorscale\":[[0.0,\"#30123b\"],[0.07142857142857142,\"#4145ab\"],[0.14285714285714285,\"#4675ed\"],[0.21428571428571427,\"#39a2fc\"],[0.2857142857142857,\"#1bcfd4\"],[0.35714285714285715,\"#24eca6\"],[0.42857142857142855,\"#61fc6c\"],[0.5,\"#a4fc3b\"],[0.5714285714285714,\"#d1e834\"],[0.6428571428571429,\"#f3c63a\"],[0.7142857142857143,\"#fe9b2d\"],[0.7857142857142857,\"#f36315\"],[0.8571428571428571,\"#d93806\"],[0.9285714285714286,\"#b11901\"],[1.0,\"#7a0402\"]],\"opacity\":0.8,\"size\":8},\"mode\":\"markers\",\"name\":\"Dataset\",\"x\":[0.0,-0.007606784725051093,-0.005182504040727247,0.01552541942495922,0.013163607700693192,0.015165422521992426,0.02680101306683108,0.06398374006039584,0.07413329363116658,0.04481200357433804,0.09246752891321218,0.08533297844501228,0.08058929557797778,0.10630977002682031,0.134540391969052,0.14752224812428624,0.15917164465216183,0.1676926978286182,0.16858312450308907,0.17189379186874515,0.1993473490526776,0.21084363987755003,0.06594024758746357,-0.09352201312310161,0.006237884677259517,0.10829640855532607,0.0010694042816965104,0.08861136147771859,-0.13931472016037497,-0.035545591263713434,0.06798099860213716,0.17030618603109215,0.0734538712383784,-0.11387830843893396,0.10808746904282673,-0.09867428923943904,-0.33406667503571114,-0.2142355023115315,-0.38113803305445454,-0.3934585765706178,-0.27688333365014656,-0.1303403751168379,-0.37352433731392715,-0.356170814456481,-0.4430558908533135,-0.3645157970163631,-0.3761367624667492,-0.46873813121585317,-0.4628668831735798,-0.34320039309927247,-0.4186885230384639,-0.41126224570570574,-0.18423895314684188,-0.33782915261426305,-0.4427725650264038,-0.3574681704674326,-0.4698252405327516,-0.14371465057767707,0.027320833660341694,-0.5785091421212013,0.22845117916596952,-0.09197416831694497,0.13048031676262184,0.25461615046683583,-0.5318266702816559,-0.20372283836718377,0.14348890293092345,0.06001537315169593,0.45424556277349787,0.2899485875700449,-0.04805352211635918,0.6670402334307268,0.7269190120287929,0.7229570324261526,0.5541819144470607,0.695194394317929,0.7640680575338643,0.7581044757333492,0.6804886070206265,0.7977971406027491,0.7154103854224286,0.8181264213390083,0.6357469644268323,0.5199358899756991,-0.145718539624962,0.604026341874456,0.5016233422689425,0.5831161447560407,0.5985485645832201,0.03953504785986861,0.14225843112703884,0.30350247395004964,0.5783134118371374,0.08665173431846757,0.11867907540857389,-0.6875481574609233,-0.6579650360928679,0.1347382474564988,-0.8624751832737192,-0.2852177743239838,-0.0,-0.009669961249779195,-0.005288478981417088,-0.024797052556470984,-0.016254437054468298,-0.005525418037567498,-0.06027994823446709,-0.06806196798979795,-0.06675408141317483,-0.057939697660085325,-0.09926394078185999,-0.07847085634670084,-0.1107868267619606,-0.13018498301884854,-0.14093251839724508,-0.12735732260108074,-0.1597266020973083,-0.03020094168395076,-0.08662434506648328,-0.009592612326517216,-0.14879333360554936,-0.0037637056698700774,-4.3562067762989814e-05,-0.19669825232408544,-0.016386971172067145,0.0293370124711379,-0.05925051903037189,-0.005231530287790512,0.13060543102695923,0.09878189513573496,-0.011641304493325667,0.23744087181943346,0.22729076643157478,0.2593492296113673,0.27237205133822945,0.328668312675492,0.29084292484892665,0.2519027945755501,0.30093340231070076,0.3693738949363935,0.18124380150388444,0.3986343409617412,0.34629143993435496,0.35893029927665066,0.4359342633682414,0.43690352719203135,0.29799687080287535,0.4612648984681528,0.010879400369769334,0.08695759969757215,0.33444220415455894,0.332488305140163,0.42174403166386265,0.03231976698718102,0.11851106551339469,-0.29209650713114704,0.2174110315352295,-0.18307192192781932,-0.07735944099312686,0.10192723817633695,-0.5845856686276237,-0.3445754971383247,-0.4765603018498583,-0.0770581268773071,-0.2489873343440775,-0.5142088367870498,-0.4121465387757496,-0.6618895940774704,-0.67439222655279,-0.5329666470628402,-0.7026733657724199,-0.7132196861564566,-0.7244540701556133,-0.6542413022909562,-0.7291694290708076,-0.6971158384771793,-0.4741826295261394,-0.7777024332807894,-0.2791541924248362,-0.5603138411159052,-0.7968200523910193,-0.39658891668323665,-0.1023127325154734,-0.27446277719853246,0.6056170163274693,-0.09371088987497911,0.24306609082927752,-0.0493318647382133,0.44887973290954575,-0.7831123985345864,-0.16937545003162377,0.14664747974065273,0.5953460328634729,0.5599079430475967,0.880776626469533,0.7662800267433634,0.7893744593002546,0.7525972458730902,0.8958612735831756,0.9999843423985286,0.0,0.010027884724407696,0.01905690600372718,0.027087536328079843,0.03912778636828017,0.04881488381716103,0.0331810861331717,0.06494830346724423,0.06528420670771334,0.08568786650691032,-0.03547996356188201,0.1100394832672446,-0.01569687646635142,0.1072716075750151,0.013857740608878835,0.01035354957626544,0.05432746140470107,0.06003802072736652,0.10906480342880531,0.018921979385214907,-0.11064794655714565,-0.0659454618324145,0.04646717132614181,-0.18357815335998917,0.04071112142028631,-0.15060907251390757,-0.04947566018635036,-0.09217906219514102,-0.2775337690022366,-0.19021241097009792,-0.08421483148019426,-0.23949784659282244,-0.32284926453733026,-0.2763646386318534,-0.3046578388873601,-0.3139830784863786,-0.3613960538534438,-0.2703066765555045,-0.1362509601670429,-0.3219025424991264,-0.19864968634498803,-0.26255644057175814,-0.36840184337355025,-0.19174872903814374,-0.20914109594507416,-0.34898394241872166,0.11847806900930707,-0.14714915594999942,0.14786196518888473,-0.1491581361879992,-0.3956289085027774,0.07248414107115982,0.0011780925771374294,-0.21321021467467266,-0.27300166051463154,0.37091338766611665,0.5182948224645288,0.5582422472667957,0.49074143180991076,0.43933691272135533,0.517244081254286,0.5348594644099568,0.6256683257299002,0.5300263738781915,0.4170127159715673,0.6365569353209352,0.6653954232932778,0.6754036433724296,0.6760095533031703,0.14130259210224072,0.48785522332732484,0.6990576794311254,0.4543432691747226,0.6738565183560532,0.3518547950888975,0.3362965964594189,0.42360205992451283,0.6465521671644416,0.6109519451029672,0.07034588019022452,0.3878954557057102,-0.2620473850473455,0.24739616715532042,0.06038558313418902,-0.4722403326137456,-0.24926463008178057,-0.2809449094125439,-0.530662206044024,-0.6390155715142867,-0.5607984982431612,-0.7285488197087646,-0.6963897836210347,-0.87409400129728,-0.8953909539341477,-0.944934943416967,-0.9483916624715055,-0.7639886335483885,-0.7327286423132369,-0.986780976619572,-0.9976050175939231],\"y\":[0.0,0.00664584315248543,0.019525964050737116,0.026023739109233935,0.038199553836053904,0.04817437167464821,0.05435807466032109,0.030092704362658984,0.03215899095557189,0.07909707419096404,0.040654601249490586,0.07116151911004114,-0.09054139256156434,0.07708029094460044,0.043552753308059015,0.03455470224174779,0.02800305758782782,-0.03695870881814449,-0.06809978981204999,0.08535514362884143,-0.03275357156026145,0.023245820161015205,-0.21221357119064446,-0.21266809196143413,-0.2423439747749489,-0.22812472697399652,-0.26262408533019393,-0.257930595134275,-0.24613664155145937,-0.29076464984204753,-0.2953065329173967,-0.262768000835116,-0.3147755765339186,-0.3132775797566723,-0.3259819738667992,-0.3394858330511878,-0.14363447214809646,-0.30623973301554974,0.04545002383986221,-0.019457508071701123,-0.29425204781600856,-0.39309604109104473,-0.201149705347238,-0.2485891588276855,-0.035104725860027525,0.27155073922466033,-0.2727956616764472,-0.07529760370273329,0.14433399364337937,0.3566349572423671,0.2824463370759833,0.3102328944841304,0.49188029379871534,0.4153009408362302,0.31854845285601985,0.4252745964800961,0.3150104659034725,0.5575328557597093,0.5852212014890831,-0.1431607924625896,0.5613550720855983,0.6092584751920167,0.6125191947938349,0.5832060473000945,0.36752813757015584,0.6241598084698421,0.6510417645436616,0.6741013598139239,0.5152179749400273,0.6337953731766802,0.7054359246662183,0.26342474996801474,0.022679721907342156,0.14509706349228566,0.5015983490924072,0.30104116425401195,-0.07434798643593114,-0.1738271425238361,-0.39709978607961427,0.017072797953372666,0.37574269496327406,0.009520835590086294,-0.5309220666446908,-0.6576884754793838,-0.8358783675379599,-0.6101818211692142,-0.7092185123922897,-0.657452429936457,-0.6571628965678832,-0.8981201581506714,-0.897891318459539,-0.867640497333961,-0.72741937431108,-0.9353889299695962,-0.9420487971313285,-0.6694041655419989,-0.7123160985958388,-0.9704894053458564,-0.4858359480730147,-0.9584627385609067,-0.0,-0.002919290065833969,-0.019497528312736004,-0.017417802101814938,-0.036990265706178124,-0.05020189121963262,0.0062787278198261475,-0.019158767218441206,-0.045539417415778875,-0.07005322437243884,-0.018700549899032498,0.07866386538024381,0.049179846937107224,0.0171758158945009,0.01166124564997096,0.08207894686546344,-0.02464135300646917,0.1690404986503153,0.1598564170794287,0.19167931034847965,0.13664810975213282,0.2120878194319581,0.22222221795250127,0.12362799767756899,0.24186975935567823,0.25081535611323896,0.2558552907713073,0.27267709177725974,0.2508666158616115,0.2757711149657414,0.3028066125175125,0.20413978459126447,0.2298217619746059,0.2094017387967479,0.20919037716870129,0.1302474047434822,0.2182700117377541,0.27608804141638876,0.23826664114258306,-0.1369349182526326,0.36110847748779523,-0.11226652712651544,0.24507932012979006,0.2445879375979594,0.08655739263124577,-0.1254068505907706,-0.35650273785786385,0.11233814232160391,-0.48472640933568467,-0.4872508372548958,-0.3784500293724531,-0.39348775140774556,-0.31308495179434215,-0.5343770583374845,-0.5324244439428986,-0.4725691545482267,-0.5222066579785901,-0.5458767786267291,-0.5807286797752053,-0.5871785743145514,-0.15990326530044127,-0.5108060923704526,-0.4063190319861154,-0.6316808709847967,-0.5965918592009876,-0.4082495971236235,-0.5240035066863714,-0.14112637446445023,-0.13032159362854934,-0.4491250511969079,-0.07873452756909681,-0.07518611035234575,-0.0639681176030421,-0.34012989716452036,-0.16440937266771058,0.2965645565652485,0.6037205094133593,0.010825750508743442,0.7367672096673316,0.5681726475621819,0.13443361371362939,0.7156386789206706,0.8219395040959028,0.7921853598720989,0.5942680940812574,0.8534564697056644,0.8339878604140294,0.8774021330188059,0.7672225506156467,0.441494971372581,0.8931731287484642,0.9074184817345515,0.7135463892330743,0.7542970692520776,0.3546451654560734,0.5776152060732828,0.5632052699006966,0.6273766545867339,0.4211087611258774,0.005595976928326759,0.0,-0.0012132324652344552,0.006704920119430159,0.013584514022272847,0.010074860539459522,-0.012956359227606098,-0.050715974852195554,-0.02795009346498593,-0.04762266559559509,0.03036531480836767,-0.09457384782125731,-0.015394516381604117,-0.12019145725858418,-0.07573599318376721,-0.14073351561414155,-0.1511609908337172,-0.1522114011264005,-0.16087952986531553,-0.14547412104118546,-0.190984122175277,-0.1690242407081608,-0.20161003123724236,-0.2173097283563939,-0.14238379783546615,-0.2389814174944792,-0.2026965970100216,-0.25792385091372116,-0.25667720152378265,-0.05446874912285347,-0.22277075519241316,-0.2910931581356727,-0.2017225836160676,0.015731724948970134,-0.18636978731810644,0.15852680989240253,0.16248653059125878,0.04030257085889756,0.25809673600731037,0.3588419997174542,-0.22708368331946518,0.3518336968116767,0.3202767965703091,0.21038468652936515,0.3897263705082142,0.3921617857267893,0.2912417864624173,0.4492875296202692,0.45136713513758064,0.46175198159872854,0.47193945899837875,0.3139327625601878,0.5100266001455984,0.5252512040748069,0.49106497754768563,0.47221896881984604,0.41360033142961466,0.2265785234236537,0.14093395406628706,0.3200048901647922,0.4026796706276506,0.31586075828750665,0.30590928485743796,0.02727678924846968,0.35217995496547794,0.49398070189702487,0.16085313014147562,-0.04115063917856113,0.042946557915233954,-0.12165392243393763,-0.682495667355639,-0.5118068638360723,0.16016751461953657,-0.5678889095503946,0.29939509220688926,-0.6594821462976747,-0.6788413862429824,-0.6402256746322811,-0.43232923419530883,-0.4974843768041857,-0.7948730811419782,-0.7088947085649542,-0.7750823540715878,-0.7904730103583918,-0.8362063392565031,-0.7049224115895416,-0.8216062443493289,-0.8220017236625327,-0.7004753807101214,-0.6178855526328426,-0.7026292641600436,-0.5437489294634994,-0.5999625434774843,-0.3155075677855352,-0.28414083300884707,-0.0929441328217669,0.14621101267491604,-0.5971880615420506,-0.6504712276111859,-0.07850677922806579,0.06916812034043256],\"type\":\"scatter\"}],                        {\"template\":{\"data\":{\"histogram2dcontour\":[{\"type\":\"histogram2dcontour\",\"colorbar\":{\"outlinewidth\":0,\"ticks\":\"\"},\"colorscale\":[[0.0,\"#0d0887\"],[0.1111111111111111,\"#46039f\"],[0.2222222222222222,\"#7201a8\"],[0.3333333333333333,\"#9c179e\"],[0.4444444444444444,\"#bd3786\"],[0.5555555555555556,\"#d8576b\"],[0.6666666666666666,\"#ed7953\"],[0.7777777777777778,\"#fb9f3a\"],[0.8888888888888888,\"#fdca26\"],[1.0,\"#f0f921\"]]}],\"choropleth\":[{\"type\":\"choropleth\",\"colorbar\":{\"outlinewidth\":0,\"ticks\":\"\"}}],\"histogram2d\":[{\"type\":\"histogram2d\",\"colorbar\":{\"outlinewidth\":0,\"ticks\":\"\"},\"colorscale\":[[0.0,\"#0d0887\"],[0.1111111111111111,\"#46039f\"],[0.2222222222222222,\"#7201a8\"],[0.3333333333333333,\"#9c179e\"],[0.4444444444444444,\"#bd3786\"],[0.5555555555555556,\"#d8576b\"],[0.6666666666666666,\"#ed7953\"],[0.7777777777777778,\"#fb9f3a\"],[0.8888888888888888,\"#fdca26\"],[1.0,\"#f0f921\"]]}],\"heatmap\":[{\"type\":\"heatmap\",\"colorbar\":{\"outlinewidth\":0,\"ticks\":\"\"},\"colorscale\":[[0.0,\"#0d0887\"],[0.1111111111111111,\"#46039f\"],[0.2222222222222222,\"#7201a8\"],[0.3333333333333333,\"#9c179e\"],[0.4444444444444444,\"#bd3786\"],[0.5555555555555556,\"#d8576b\"],[0.6666666666666666,\"#ed7953\"],[0.7777777777777778,\"#fb9f3a\"],[0.8888888888888888,\"#fdca26\"],[1.0,\"#f0f921\"]]}],\"heatmapgl\":[{\"type\":\"heatmapgl\",\"colorbar\":{\"outlinewidth\":0,\"ticks\":\"\"},\"colorscale\":[[0.0,\"#0d0887\"],[0.1111111111111111,\"#46039f\"],[0.2222222222222222,\"#7201a8\"],[0.3333333333333333,\"#9c179e\"],[0.4444444444444444,\"#bd3786\"],[0.5555555555555556,\"#d8576b\"],[0.6666666666666666,\"#ed7953\"],[0.7777777777777778,\"#fb9f3a\"],[0.8888888888888888,\"#fdca26\"],[1.0,\"#f0f921\"]]}],\"contourcarpet\":[{\"type\":\"contourcarpet\",\"colorbar\":{\"outlinewidth\":0,\"ticks\":\"\"}}],\"contour\":[{\"type\":\"contour\",\"colorbar\":{\"outlinewidth\":0,\"ticks\":\"\"},\"colorscale\":[[0.0,\"#0d0887\"],[0.1111111111111111,\"#46039f\"],[0.2222222222222222,\"#7201a8\"],[0.3333333333333333,\"#9c179e\"],[0.4444444444444444,\"#bd3786\"],[0.5555555555555556,\"#d8576b\"],[0.6666666666666666,\"#ed7953\"],[0.7777777777777778,\"#fb9f3a\"],[0.8888888888888888,\"#fdca26\"],[1.0,\"#f0f921\"]]}],\"surface\":[{\"type\":\"surface\",\"colorbar\":{\"outlinewidth\":0,\"ticks\":\"\"},\"colorscale\":[[0.0,\"#0d0887\"],[0.1111111111111111,\"#46039f\"],[0.2222222222222222,\"#7201a8\"],[0.3333333333333333,\"#9c179e\"],[0.4444444444444444,\"#bd3786\"],[0.5555555555555556,\"#d8576b\"],[0.6666666666666666,\"#ed7953\"],[0.7777777777777778,\"#fb9f3a\"],[0.8888888888888888,\"#fdca26\"],[1.0,\"#f0f921\"]]}],\"mesh3d\":[{\"type\":\"mesh3d\",\"colorbar\":{\"outlinewidth\":0,\"ticks\":\"\"}}],\"scatter\":[{\"marker\":{\"line\":{\"color\":\"#283442\"}},\"type\":\"scatter\"}],\"parcoords\":[{\"type\":\"parcoords\",\"line\":{\"colorbar\":{\"outlinewidth\":0,\"ticks\":\"\"}}}],\"scatterpolargl\":[{\"type\":\"scatterpolargl\",\"marker\":{\"colorbar\":{\"outlinewidth\":0,\"ticks\":\"\"}}}],\"bar\":[{\"error_x\":{\"color\":\"#f2f5fa\"},\"error_y\":{\"color\":\"#f2f5fa\"},\"marker\":{\"line\":{\"color\":\"rgb(17,17,17)\",\"width\":0.5},\"pattern\":{\"fillmode\":\"overlay\",\"size\":10,\"solidity\":0.2}},\"type\":\"bar\"}],\"scattergeo\":[{\"type\":\"scattergeo\",\"marker\":{\"colorbar\":{\"outlinewidth\":0,\"ticks\":\"\"}}}],\"scatterpolar\":[{\"type\":\"scatterpolar\",\"marker\":{\"colorbar\":{\"outlinewidth\":0,\"ticks\":\"\"}}}],\"histogram\":[{\"marker\":{\"pattern\":{\"fillmode\":\"overlay\",\"size\":10,\"solidity\":0.2}},\"type\":\"histogram\"}],\"scattergl\":[{\"marker\":{\"line\":{\"color\":\"#283442\"}},\"type\":\"scattergl\"}],\"scatter3d\":[{\"type\":\"scatter3d\",\"line\":{\"colorbar\":{\"outlinewidth\":0,\"ticks\":\"\"}},\"marker\":{\"colorbar\":{\"outlinewidth\":0,\"ticks\":\"\"}}}],\"scattermapbox\":[{\"type\":\"scattermapbox\",\"marker\":{\"colorbar\":{\"outlinewidth\":0,\"ticks\":\"\"}}}],\"scatterternary\":[{\"type\":\"scatterternary\",\"marker\":{\"colorbar\":{\"outlinewidth\":0,\"ticks\":\"\"}}}],\"scattercarpet\":[{\"type\":\"scattercarpet\",\"marker\":{\"colorbar\":{\"outlinewidth\":0,\"ticks\":\"\"}}}],\"carpet\":[{\"aaxis\":{\"endlinecolor\":\"#A2B1C6\",\"gridcolor\":\"#506784\",\"linecolor\":\"#506784\",\"minorgridcolor\":\"#506784\",\"startlinecolor\":\"#A2B1C6\"},\"baxis\":{\"endlinecolor\":\"#A2B1C6\",\"gridcolor\":\"#506784\",\"linecolor\":\"#506784\",\"minorgridcolor\":\"#506784\",\"startlinecolor\":\"#A2B1C6\"},\"type\":\"carpet\"}],\"table\":[{\"cells\":{\"fill\":{\"color\":\"#506784\"},\"line\":{\"color\":\"rgb(17,17,17)\"}},\"header\":{\"fill\":{\"color\":\"#2a3f5f\"},\"line\":{\"color\":\"rgb(17,17,17)\"}},\"type\":\"table\"}],\"barpolar\":[{\"marker\":{\"line\":{\"color\":\"rgb(17,17,17)\",\"width\":0.5},\"pattern\":{\"fillmode\":\"overlay\",\"size\":10,\"solidity\":0.2}},\"type\":\"barpolar\"}],\"pie\":[{\"automargin\":true,\"type\":\"pie\"}]},\"layout\":{\"autotypenumbers\":\"strict\",\"colorway\":[\"#636efa\",\"#EF553B\",\"#00cc96\",\"#ab63fa\",\"#FFA15A\",\"#19d3f3\",\"#FF6692\",\"#B6E880\",\"#FF97FF\",\"#FECB52\"],\"font\":{\"color\":\"#f2f5fa\"},\"hovermode\":\"closest\",\"hoverlabel\":{\"align\":\"left\"},\"paper_bgcolor\":\"rgb(17,17,17)\",\"plot_bgcolor\":\"rgb(17,17,17)\",\"polar\":{\"bgcolor\":\"rgb(17,17,17)\",\"angularaxis\":{\"gridcolor\":\"#506784\",\"linecolor\":\"#506784\",\"ticks\":\"\"},\"radialaxis\":{\"gridcolor\":\"#506784\",\"linecolor\":\"#506784\",\"ticks\":\"\"}},\"ternary\":{\"bgcolor\":\"rgb(17,17,17)\",\"aaxis\":{\"gridcolor\":\"#506784\",\"linecolor\":\"#506784\",\"ticks\":\"\"},\"baxis\":{\"gridcolor\":\"#506784\",\"linecolor\":\"#506784\",\"ticks\":\"\"},\"caxis\":{\"gridcolor\":\"#506784\",\"linecolor\":\"#506784\",\"ticks\":\"\"}},\"coloraxis\":{\"colorbar\":{\"outlinewidth\":0,\"ticks\":\"\"}},\"colorscale\":{\"sequential\":[[0.0,\"#0d0887\"],[0.1111111111111111,\"#46039f\"],[0.2222222222222222,\"#7201a8\"],[0.3333333333333333,\"#9c179e\"],[0.4444444444444444,\"#bd3786\"],[0.5555555555555556,\"#d8576b\"],[0.6666666666666666,\"#ed7953\"],[0.7777777777777778,\"#fb9f3a\"],[0.8888888888888888,\"#fdca26\"],[1.0,\"#f0f921\"]],\"sequentialminus\":[[0.0,\"#0d0887\"],[0.1111111111111111,\"#46039f\"],[0.2222222222222222,\"#7201a8\"],[0.3333333333333333,\"#9c179e\"],[0.4444444444444444,\"#bd3786\"],[0.5555555555555556,\"#d8576b\"],[0.6666666666666666,\"#ed7953\"],[0.7777777777777778,\"#fb9f3a\"],[0.8888888888888888,\"#fdca26\"],[1.0,\"#f0f921\"]],\"diverging\":[[0,\"#8e0152\"],[0.1,\"#c51b7d\"],[0.2,\"#de77ae\"],[0.3,\"#f1b6da\"],[0.4,\"#fde0ef\"],[0.5,\"#f7f7f7\"],[0.6,\"#e6f5d0\"],[0.7,\"#b8e186\"],[0.8,\"#7fbc41\"],[0.9,\"#4d9221\"],[1,\"#276419\"]]},\"xaxis\":{\"gridcolor\":\"#283442\",\"linecolor\":\"#506784\",\"ticks\":\"\",\"title\":{\"standoff\":15},\"zerolinecolor\":\"#283442\",\"automargin\":true,\"zerolinewidth\":2},\"yaxis\":{\"gridcolor\":\"#283442\",\"linecolor\":\"#506784\",\"ticks\":\"\",\"title\":{\"standoff\":15},\"zerolinecolor\":\"#283442\",\"automargin\":true,\"zerolinewidth\":2},\"scene\":{\"xaxis\":{\"backgroundcolor\":\"rgb(17,17,17)\",\"gridcolor\":\"#506784\",\"linecolor\":\"#506784\",\"showbackground\":true,\"ticks\":\"\",\"zerolinecolor\":\"#C8D4E3\",\"gridwidth\":2},\"yaxis\":{\"backgroundcolor\":\"rgb(17,17,17)\",\"gridcolor\":\"#506784\",\"linecolor\":\"#506784\",\"showbackground\":true,\"ticks\":\"\",\"zerolinecolor\":\"#C8D4E3\",\"gridwidth\":2},\"zaxis\":{\"backgroundcolor\":\"rgb(17,17,17)\",\"gridcolor\":\"#506784\",\"linecolor\":\"#506784\",\"showbackground\":true,\"ticks\":\"\",\"zerolinecolor\":\"#C8D4E3\",\"gridwidth\":2}},\"shapedefaults\":{\"line\":{\"color\":\"#f2f5fa\"}},\"annotationdefaults\":{\"arrowcolor\":\"#f2f5fa\",\"arrowhead\":0,\"arrowwidth\":1},\"geo\":{\"bgcolor\":\"rgb(17,17,17)\",\"landcolor\":\"rgb(17,17,17)\",\"subunitcolor\":\"#506784\",\"showland\":true,\"showlakes\":true,\"lakecolor\":\"rgb(17,17,17)\"},\"title\":{\"x\":0.05},\"updatemenudefaults\":{\"bgcolor\":\"#506784\",\"borderwidth\":0},\"sliderdefaults\":{\"bgcolor\":\"#C8D4E3\",\"borderwidth\":1,\"bordercolor\":\"rgb(17,17,17)\",\"tickwidth\":0},\"mapbox\":{\"style\":\"dark\"}}},\"title\":{\"font\":{\"size\":20},\"text\":\"2D Spiral Dataset\",\"y\":0.95,\"x\":0.5,\"xanchor\":\"center\",\"yanchor\":\"top\"},\"margin\":{\"l\":0,\"r\":0,\"t\":0,\"b\":0},\"xaxis\":{\"title\":{\"text\":\"X\"}},\"yaxis\":{\"title\":{\"text\":\"Y\"}}},                        {\"responsive\": true}                    ).then(function(){\n",
       "                            \n",
       "var gd = document.getElementById('ad96c751-8f6d-45dc-a256-b490a0527ed4');\n",
       "var x = new MutationObserver(function (mutations, observer) {{\n",
       "        var display = window.getComputedStyle(gd).display;\n",
       "        if (!display || display === 'none') {{\n",
       "            console.log([gd, 'removed!']);\n",
       "            Plotly.purge(gd);\n",
       "            observer.disconnect();\n",
       "        }}\n",
       "}});\n",
       "\n",
       "// Listen for the removal of the full notebook cells\n",
       "var notebookContainer = gd.closest('#notebook-container');\n",
       "if (notebookContainer) {{\n",
       "    x.observe(notebookContainer, {childList: true});\n",
       "}}\n",
       "\n",
       "// Listen for the clearing of the current output cell\n",
       "var outputEl = gd.closest('.output');\n",
       "if (outputEl) {{\n",
       "    x.observe(outputEl, {childList: true});\n",
       "}}\n",
       "\n",
       "                        })                };                });            </script>        </div>"
      ]
     },
     "metadata": {},
     "output_type": "display_data"
    }
   ],
   "execution_count": 88
  },
  {
   "metadata": {
    "ExecuteTime": {
     "end_time": "2024-09-11T18:33:39.852555Z",
     "start_time": "2024-09-11T18:33:39.845676Z"
    }
   },
   "cell_type": "code",
   "source": [
    "# Display the 3D scatter plot image\n",
    "from src.utils.mermaid import display_image_from_file\n",
    "\n",
    "display_image_from_file('../assets/images/scatter_plot_2d_spiral.png')"
   ],
   "id": "84d2d97ed6d35ae0",
   "outputs": [
    {
     "data": {
      "image/png": "[encoded data removed]",
      "text/plain": [
       "<IPython.core.display.Image object>"
      ]
     },
     "metadata": {},
     "output_type": "display_data"
    }
   ],
   "execution_count": 89
  },
  {
   "metadata": {},
   "cell_type": "markdown",
   "source": [
    "# Dense Layers\n",
    "\n",
    "A dense layer is a layer of neurons where each neuron is connected to every neuron in the previous layer. The output of a dense layer is a list of predictions, one for each neuron in the layer. The output of a dense layer is calculated as follows:\n",
    "\n",
    "---\n",
    "\n",
    "$\n",
    "\\begin{align*}\n",
    "\\text{``Predictions``} &= \\text{Activation Function}(\\text{weights} \\cdot \\text{inputs} + \\text{Bias}) \\\\\n",
    "\\text{``Predictions``} &= \\text{Activation Function}(\\text{weights}_1 \\cdot \\text{inputs}_1 + \\text{weights}_2 \\cdot \\text{inputs}_2 + . . . + \\text{weights}_n \\cdot \\text{inputs}_n + \\text{Bias})\n",
    "\\end{align*}\n",
    "$\n",
    "\n",
    "---\n",
    "\n"
   ],
   "id": "13556ce247eaba89"
  },
  {
   "metadata": {
    "ExecuteTime": {
     "end_time": "2024-09-11T18:33:40.050263Z",
     "start_time": "2024-09-11T18:33:40.038923Z"
    }
   },
   "cell_type": "code",
   "source": [
    "# Simple dense layer with 2 inputs and 3 neurons; only one dense layer of 3 neurons\n",
    "from src.layer.dense import Dense\n",
    "from src.functions.activation import ReLU\n",
    "from src.utils.datasets import create_spiral_dataset\n",
    "from scipy.ndimage import zoom\n",
    "\n",
    "# Create a spiral dataset\n",
    "X, y = create_spiral_dataset(100, 3)\n",
    "y = np.array([y])\n",
    "\n",
    "print(f\"Inputs: {X.shape}\")\n",
    "print(f\"Y is a spiral dataset: {y.shape}\")\n",
    "\n",
    "# Initialize activation function\n",
    "relu = ReLU()\n",
    "\n",
    "# Create a dense layer with 2 inputs features and 3 neurons\n",
    "dense = Dense(2, 3)\n",
    "\n",
    "# Run the forward pass\n",
    "dense.forward(X)\n",
    "\n",
    "# Get the predictions\n",
    "predictions = relu(dense.output)\n",
    "print(f\"Pre Resize Predictions: {predictions.shape}\")\n",
    "# Match the size of predictions to the size of y\n",
    "# Calculate zoom factor\n",
    "zoom_factor = np.array(y.shape) / np.array(predictions.shape)\n",
    "# Resize the predictions\n",
    "predictions = zoom(predictions, zoom_factor, order=3) # 'order=3' for cubic interpolation\n",
    "# predictions = np.array([predictions[range(len(predictions)), y[0]]])\n",
    "print(f\"Post Resize Predictions: {predictions.shape}\")\n",
    "print(f\"True labels: {y.shape}\")\n",
    "\n",
    "# Calculate the loss\n",
    "avg_loss, loss = dense.loss(predictions, y)\n",
    "\n",
    "# Log the outputs, weights and biases\n",
    "print(f\"Inputs: {X.shape}\")\n",
    "print(f\"Weights: {dense.weights.shape}\")\n",
    "print(f\"Biases: {dense.biases.shape}\")\n",
    "print(f\"Output: {dense.output.shape}\")\n",
    "print(f\"Predictions: {predictions.shape}\")\n",
    "print(f\"Loss: {avg_loss}\")\n"
   ],
   "id": "855f3df4f915bca4",
   "outputs": [
    {
     "name": "stdout",
     "output_type": "stream",
     "text": [
      "Inputs: (300, 2)\n",
      "Y is a spiral dataset: (1, 300)\n",
      "Pre Resize Predictions: (300, 3)\n",
      "Post Resize Predictions: (1, 300)\n",
      "True labels: (1, 300)\n",
      "Inputs: (300, 2)\n",
      "Weights: (2, 3)\n",
      "Biases: (1, 3)\n",
      "Output: (300, 3)\n",
      "Predictions: (1, 300)\n",
      "Loss: 0.12837334963468977\n"
     ]
    }
   ],
   "execution_count": 90
  },
  {
   "metadata": {
    "ExecuteTime": {
     "end_time": "2024-09-11T18:33:40.352974Z",
     "start_time": "2024-09-11T18:33:40.338805Z"
    }
   },
   "cell_type": "code",
   "source": [
    "# Now we create a dense layer with 3 neurons with 2 inputs each and 2 dense layers; the first layer has 3 neurons with 2 inputs each and the second layer has 3 neurons with 3 inputs each.\n",
    "from src.layer.dense import Dense\n",
    "from src.utils.datasets import create_spiral_dataset\n",
    "from src.functions.activation import Softmax, ReLU\n",
    "from scipy.ndimage import zoom\n",
    "\n",
    "# Initialize activation function\n",
    "softmax = Softmax()\n",
    "relu = ReLU()\n",
    "\n",
    "# Create a spiral dataset\n",
    "X, y = create_spiral_dataset(100, 3)\n",
    "y = np.array([y])\n",
    "print(f\"Inputs: {X.shape}\")\n",
    "print(f\"Y is a spiral dataset: {y.shape}\")\n",
    "\n",
    "# Create a dense layer with 3 neurons with 2 inputs each\n",
    "dense = Dense(2, 3)\n",
    "\n",
    "# Lets do the forward pass\n",
    "dense.forward(X)\n",
    "print(f\"Weights Layer 1: {dense.weights.shape}\")\n",
    "print(f\"Biases Layer 1: {dense.biases.shape}\")\n",
    "print(f\"Output Layer 1: {dense.output.shape}\")\n",
    "\n",
    "# Run the activation function ReLU\n",
    "dense_output = relu(dense.output)\n",
    "\n",
    "# Create a dense layer with 3 neurons with 3 inputs each\n",
    "dense2 = Dense(3, 3)\n",
    "\n",
    "# Lets do the forward pass\n",
    "dense2.forward(dense_output)\n",
    "print(f\"Weights Layer 2: {dense2.weights.shape}\")\n",
    "print(f\"Biases Layer 2: {dense2.biases.shape}\")\n",
    "print(f\"Output Layer 2: {dense2.output.shape}\")\n",
    "\n",
    "# TODO: These final outputs are also our “confidence scores.” The higher the confidence score, the more confident the model is that the input belongs to that class.\n",
    "\n",
    "# Run the activation function ReLU\n",
    "predictions = softmax(dense2.output)\n",
    "print(f\"Pre Resize Predictions: {predictions.shape}\")\n",
    "\n",
    "# Match the size of predictions to the size of y\n",
    "# Calculate zoom factor\n",
    "zoom_factor = np.array(y.shape) / np.array(predictions.shape)\n",
    "# Resize the predictions\n",
    "predictions = zoom(predictions, zoom_factor, order=3) # 'order=3' for cubic interpolation\n",
    "# predictions = np.array([predictions[range(len(predictions)), y[0]]])\n",
    "print(f\"Post Resize Predictions: {predictions.shape}\")\n",
    "print(f\"True labels shape: {y.shape}\")\n",
    "print(f\"Predictions Data[:1,0]: \\n{predictions[:1,0]}\")\n",
    "\n",
    "# Calculate the loss and print the results to 7 decimal places\n",
    "avg_loss, loss = dense2.loss(predictions, y)\n",
    "print(f\"Loss: {avg_loss:.7f}\") # Loss: 5.7037784\n",
    "print(f\"Loss Data Shape: \\n{loss.shape}\")\n",
    "\n",
    "# Run ArgMax to get the predicted class\n",
    "predicted_class = np.argmax(predictions, axis=0)\n",
    "print(f\"Predicted Class Shape: {predicted_class.shape}\")\n",
    "print(f\"Predicted Class Data: {predictions[:,predicted_class[0]]}\")"
   ],
   "id": "7f1daa7ece4030ce",
   "outputs": [
    {
     "name": "stdout",
     "output_type": "stream",
     "text": [
      "Inputs: (300, 2)\n",
      "Y is a spiral dataset: (1, 300)\n",
      "Weights Layer 1: (2, 3)\n",
      "Biases Layer 1: (1, 3)\n",
      "Output Layer 1: (300, 3)\n",
      "Weights Layer 2: (3, 3)\n",
      "Biases Layer 2: (1, 3)\n",
      "Output Layer 2: (300, 3)\n",
      "Pre Resize Predictions: (300, 3)\n",
      "Post Resize Predictions: (1, 300)\n",
      "True labels shape: (1, 300)\n",
      "Predictions Data[:1,0]: \n",
      "[0.00333317]\n",
      "Loss: 0.1275397\n",
      "Loss Data Shape: \n",
      "(1, 300)\n",
      "Predicted Class Shape: (300,)\n",
      "Predicted Class Data: [0.00333317]\n"
     ]
    }
   ],
   "execution_count": 91
  },
  {
   "metadata": {
    "ExecuteTime": {
     "end_time": "2024-09-11T18:33:43.134285Z",
     "start_time": "2024-09-11T18:33:40.388755Z"
    }
   },
   "cell_type": "code",
   "source": [
    "# Graph the predictions\n",
    "import plotly.graph_objects as go\n",
    "from src.utils.plot import get_camera_view\n",
    "# Graph the X inputs and y labels\n",
    "fig = go.Figure()\n",
    "\n",
    "# Reshape the arrays\n",
    "X = X.reshape(-1, 2)\n",
    "z = predictions.reshape(-1,)\n",
    "print(f\"Inputs was reshaped to (-1, 2): {X.shape}\")\n",
    "print(f\"Predictions was reshaped to (-1, 1): {z.shape}\")\n",
    "\n",
    "# Add scatter plot for true values\n",
    "fig.add_trace(\n",
    "    go.Scatter3d(\n",
    "        name='Predictions',\n",
    "        x=X[:,0], \n",
    "        y=X[:,1], \n",
    "        z=z, \n",
    "        mode='markers', \n",
    "        marker=dict(\n",
    "            size=5, \n",
    "            color=z, \n",
    "            opacity=0.8, \n",
    "            colorscale='turbo'\n",
    "        )\n",
    "    )\n",
    ")\n",
    "\n",
    "# Set the camera view (orientation)\n",
    "camera = get_camera_view('default')\n",
    "\n",
    "# Adjust the camera view\n",
    "fig.update_layout(scene_camera=camera)\n",
    "\n",
    "# Set plot title and labels\n",
    "fig.update_layout(\n",
    "    title={\n",
    "        'text': '3D Scatter Plot of Predictions, and True Values',\n",
    "        'y': 0.95,\n",
    "        'x': 0.5,\n",
    "        'xanchor': 'center',\n",
    "        'yanchor': 'top',\n",
    "        'font': {\n",
    "            'size': 20  # Adjust the size as needed\n",
    "        }\n",
    "    },\n",
    "    margin=dict(l=0, r=0, t=0, b=0),\n",
    "    scene=dict(\n",
    "        xaxis_title='Inputs Feature 1', \n",
    "        yaxis_title='Inputs Feature 1', \n",
    "        zaxis_title='Values'),\n",
    "    \n",
    ")\n",
    "\n",
    "# Save plot to file\n",
    "fig.write_image('../assets/images/spiral_scatter_plot_3d_true_values.png')\n",
    "fig.write_image('../assets/images/spiral_scatter_plot_3d_true_values.svg')\n",
    "\n",
    "# Display the plot\n",
    "fig.show()\n"
   ],
   "id": "6eb83e36c3a245e6",
   "outputs": [
    {
     "name": "stdout",
     "output_type": "stream",
     "text": [
      "Inputs was reshaped to (-1, 2): (300, 2)\n",
      "Predictions was reshaped to (-1, 1): (300,)\n"
     ]
    },
    {
     "data": {
      "application/vnd.plotly.v1+json": {
       "data": [
        {
         "marker": {
          "color": [
           0.0033331690443430986,
           0.0033331690858309387,
           0.0033331692096110403,
           0.0033331694146582764,
           0.003333169699947518,
           0.003333170064453636,
           0.0033331705071515043,
           0.003333171027015993,
           0.0033331716230219754,
           0.0033331722941443236,
           0.003333173039357909,
           0.003333173857637603,
           0.003333174747958278,
           0.0033331757092948068,
           0.00333317674062206,
           0.0033331778409149094,
           0.003333179009148229,
           0.0033331802442968885,
           0.003333181545335761,
           0.0033331829112397183,
           0.003333184340983632,
           0.003333185833542374,
           0.0033331873878908167,
           0.003333189003003832,
           0.0033331906778562917,
           0.0033331924114230675,
           0.0033331942026790314,
           0.003333196050599055,
           0.0033331979541580126,
           0.003333199912330772,
           0.003333201924092209,
           0.003333203988417193,
           0.003333206104280598,
           0.0033332082706572937,
           0.003333210486522154,
           0.0033332127508500504,
           0.0033332150626158527,
           0.003333217420794436,
           0.00333321982436067,
           0.0033332222722894287,
           0.0033332247635555817,
           0.003333227297134002,
           0.0033332298719995625,
           0.003333232487127133,
           0.0033332351414915888,
           0.003333237834067798,
           0.0033332405638306344,
           0.00333324332975497,
           0.0033332461308156766,
           0.003333248965987626,
           0.00333325183424569,
           0.0033332547345647405,
           0.0033332576659196506,
           0.003333260627285291,
           0.0033332636176365343,
           0.003333266635948251,
           0.0033332696811953157,
           0.0033332727523525986,
           0.0033332758483949707,
           0.0033332789682973055,
           0.0033332821110344754,
           0.0033332852755813508,
           0.003333288460912804,
           0.003333291666003708,
           0.003333294889828933,
           0.0033332981313633527,
           0.003333301389581838,
           0.003333304663459262,
           0.003333307951970495,
           0.0033333112540904096,
           0.003333314568793877,
           0.003333317895055772,
           0.0033333212318509635,
           0.0033333245781543243,
           0.0033333279329407265,
           0.003333331295185042,
           0.0033333346638621435,
           0.0033333380379469016,
           0.0033333414164141884,
           0.003333344798238878,
           0.0033333481823958388,
           0.0033333515678599453,
           0.0033333549536060684,
           0.0033333583386090816,
           0.0033333617218438546,
           0.00333336510228526,
           0.003333368478908171,
           0.003333371850687458,
           0.0033333752165979934,
           0.0033333785756146503,
           0.0033333819267122996,
           0.0033333852688658115,
           0.0033333886010500613,
           0.0033333919222399196,
           0.003333395231410258,
           0.0033333985275359477,
           0.003333401809591862,
           0.003333405076552872,
           0.0033334083273938507,
           0.0033334115610896683,
           0.003333414776615199,
           0.0033334179729453124,
           0.0033334211490548826,
           0.0033334243039187792,
           0.0033334274365118778,
           0.0033334305458090465,
           0.003333433630785158,
           0.003333436690415085,
           0.003333439723673701,
           0.0033334427295358742,
           0.0033334457069764795,
           0.003333448654970389,
           0.003333451572492473,
           0.0033334544585176032,
           0.003333457312020654,
           0.0033334601319764947,
           0.0033334629173599984,
           0.0033334656671460375,
           0.0033334683803094827,
           0.0033334710558252075,
           0.003333473692668082,
           0.00333347628981298,
           0.0033334788462347723,
           0.0033334813609083315,
           0.0033334838328085282,
           0.0033334862609102358,
           0.003333488644188326,
           0.0033334909816176705,
           0.0033334932721731407,
           0.0033334955148296088,
           0.0033334977085619473,
           0.003333499852345028,
           0.0033335019451537226,
           0.003333503985962903,
           0.0033335059737474417,
           0.00333350790748221,
           0.0033335097861420795,
           0.003333511608701924,
           0.003333513374136613,
           0.0033335150814210192,
           0.0033335167295300157,
           0.0033335183174384737,
           0.0033335198441212643,
           0.0033335213085532614,
           0.003333522709709334,
           0.003333524046564358,
           0.0033335253180932015,
           0.0033335265232707387,
           0.003333527661071841,
           0.0033335287304713805,
           0.0033335297304832134,
           0.003333530661017854,
           0.0033335315228824754,
           0.0033335323169232313,
           0.0033335330439862804,
           0.003333533704917777,
           0.003333534300563879,
           0.003333534831770743,
           0.003333535299384523,
           0.003333535704251378,
           0.0033335360472174624,
           0.0033335363291289344,
           0.0033335365508319484,
           0.0033335367131726626,
           0.0033335368169972327,
           0.0033335368631518146,
           0.0033335368524825644,
           0.0033335367858356394,
           0.0033335366640571957,
           0.0033335364879933894,
           0.0033335362584903765,
           0.003333535976394315,
           0.0033335356425513592,
           0.0033335352578076666,
           0.003333534823009393,
           0.0033335343390026952,
           0.003333533806633729,
           0.0033335332267486516,
           0.0033335326001936202,
           0.003333531927814789,
           0.003333531210458315,
           0.0033335304489703543,
           0.0033335296441970638,
           0.003333528796984601,
           0.00333352790817912,
           0.0033335269786267793,
           0.0033335260091737332,
           0.00333352500066614,
           0.003333523953950154,
           0.003333522869871934,
           0.003333521749277634,
           0.0033335205930134122,
           0.003333519401925423,
           0.0033335181768598247,
           0.0033335169186627734,
           0.0033335156281804243,
           0.003333514306258934,
           0.00333351295374446,
           0.0033335115714831585,
           0.0033335101603211847,
           0.003333508721104695,
           0.0033335072546798465,
           0.0033335057618927954,
           0.003333504243589698,
           0.0033335027006167104,
           0.0033335011338199907,
           0.003333499544045692,
           0.003333497932139973,
           0.0033334962989489893,
           0.0033334946453188984,
           0.003333492972095855,
           0.003333491280126016,
           0.0033334895702555388,
           0.0033334878433305785,
           0.0033334861001972915,
           0.003333484341701835,
           0.003333482568690365,
           0.0033334807820090367,
           0.0033334789825040082,
           0.0033334771710214353,
           0.003333475348407474,
           0.0033334735155082815,
           0.0033334716731700117,
           0.0033334698222388243,
           0.0033334679635608744,
           0.003333466097982317,
           0.0033334642263493108,
           0.00333346234950801,
           0.0033334604683045717,
           0.0033334585835851525,
           0.0033334566961959093,
           0.003333454806982998,
           0.003333452916792575,
           0.0033334510264707955,
           0.0033334491368638176,
           0.0033334472488177965,
           0.0033334453631788893,
           0.003333443480793252,
           0.003333441602507041,
           0.0033334397291664123,
           0.003333437861617522,
           0.0033334360007065277,
           0.0033334341472795854,
           0.0033334323021828507,
           0.0033334304662624805,
           0.0033334286403646314,
           0.0033334268253354597,
           0.0033334250220211207,
           0.0033334232312677713,
           0.0033334214539215688,
           0.0033334196908286692,
           0.003333417942835228,
           0.003333416210787403,
           0.0033334144955313484,
           0.0033334127979132225,
           0.0033334111187791806,
           0.0033334094589753793,
           0.0033334078193479754,
           0.003333406200743125,
           0.003333404604006984,
           0.0033334030299857096,
           0.0033334014795254577,
           0.003333399953472385,
           0.003333398452672647,
           0.0033333969779724003,
           0.0033333955302178022,
           0.003333394110255008,
           0.003333392718930175,
           0.0033333913570894585,
           0.0033333900255790158,
           0.003333388725245003,
           0.0033333874569335758,
           0.0033333862214908914,
           0.0033333850197631056,
           0.0033333838525963742,
           0.003333382720836856,
           0.003333381625330705,
           0.0033333805669240784,
           0.003333379546463132,
           0.003333378564794023,
           0.0033333776227629074,
           0.0033333767212159414,
           0.0033333758609992805,
           0.0033333750429590833,
           0.003333374267941504,
           0.0033333735367927007,
           0.0033333728503588283,
           0.003333372209486044,
           0.0033333716150205036,
           0.0033333710678083647,
           0.0033333705686957814,
           0.0033333701185289115,
           0.0033333697181539123,
           0.003333369368416939,
           0.003333369070164147,
           0.0033333688242416946,
           0.0033333686314957365,
           0.0033333684927724307,
           0.0033333684089179327,
           0.0033333683807783973
          ],
          "colorscale": [
           [
            0.0,
            "#30123b"
           ],
           [
            0.07142857142857142,
            "#4145ab"
           ],
           [
            0.14285714285714285,
            "#4675ed"
           ],
           [
            0.21428571428571427,
            "#39a2fc"
           ],
           [
            0.2857142857142857,
            "#1bcfd4"
           ],
           [
            0.35714285714285715,
            "#24eca6"
           ],
           [
            0.42857142857142855,
            "#61fc6c"
           ],
           [
            0.5,
            "#a4fc3b"
           ],
           [
            0.5714285714285714,
            "#d1e834"
           ],
           [
            0.6428571428571429,
            "#f3c63a"
           ],
           [
            0.7142857142857143,
            "#fe9b2d"
           ],
           [
            0.7857142857142857,
            "#f36315"
           ],
           [
            0.8571428571428571,
            "#d93806"
           ],
           [
            0.9285714285714286,
            "#b11901"
           ],
           [
            1.0,
            "#7a0402"
           ]
          ],
          "opacity": 0.8,
          "size": 5
         },
         "mode": "markers",
         "name": "Predictions",
         "x": [
          -0.0,
          -0.004582515122649984,
          -0.011592994964748946,
          -0.01253222502022532,
          0.009844453345436968,
          -0.00701849452951002,
          0.03177512568343273,
          0.07022276826355126,
          0.05389050368622246,
          -0.0033385027180088084,
          0.10001458454800585,
          0.09340732411685898,
          0.0994632719601172,
          0.12129363722149851,
          0.09654416785603548,
          0.1513522832873372,
          0.14739525568017692,
          0.16034212070272189,
          0.15665737044430797,
          0.15243453880690597,
          0.1992681964884984,
          0.10462151490986037,
          0.2216453983961366,
          0.13089064715626267,
          0.17205688108091033,
          0.1543443436851062,
          0.0828729148835332,
          0.08252940408394611,
          0.2721066073723183,
          0.22213389342864154,
          0.1837726427431369,
          0.040065612696781085,
          -0.1494780127863809,
          -0.22008273481769774,
          -0.20194974107100103,
          -0.16367238427873218,
          -0.003505163895717973,
          -0.34647186897576443,
          -0.26157153187074134,
          -0.07005876235968785,
          -0.2244022051690305,
          -0.4138415706485235,
          -0.41136823671100603,
          -0.2909063097062994,
          -0.3140570665444941,
          -0.43570555302161124,
          -0.4536331872449286,
          -0.4048211688086206,
          -0.17021648875005305,
          -0.4840249280016931,
          -0.5046903044689723,
          -0.5024819841377433,
          -0.4640154116396399,
          -0.5296629714108216,
          -0.2718065918214989,
          -0.39316628741460297,
          -0.5639360068563977,
          -0.4724832224211408,
          -0.490417976302749,
          -0.3963103238861374,
          -0.28917872269695477,
          -0.01715229312984231,
          -0.10464879783894865,
          -0.008278600599892716,
          -0.12409761272707925,
          0.384631410019497,
          0.1616693970433167,
          0.6739488425932418,
          0.09495099522376801,
          0.43062272363085397,
          0.7008130961197158,
          0.2225215834723647,
          0.3576167727844365,
          0.3744977051018187,
          0.6749462418853286,
          0.6902531434312098,
          0.7657725206576843,
          0.688872415290625,
          0.6702713457923702,
          0.7961939881981522,
          0.7356956029357987,
          0.49051445242747066,
          0.8169594413108873,
          0.8004500803123067,
          0.8031647751380825,
          0.5511133219681809,
          0.16350374903595105,
          0.6917451922006879,
          -0.4736025711458138,
          0.6361919108138768,
          0.32379326047994156,
          0.11391109004380326,
          0.7246739899637119,
          -0.18488599319984964,
          -0.07653461252312414,
          -0.23681961960857045,
          -0.689522427199032,
          -0.3779698940738159,
          -0.8475571120800622,
          0.09353555759555832,
          -0.0,
          -0.009742767259936603,
          -0.01357670719553671,
          -0.008019412082767918,
          -0.015782417800004757,
          -0.03259811159867374,
          -0.03038110519677993,
          -0.07064814335108528,
          0.0019576110230110893,
          -0.07990314669538681,
          -0.07849195324840162,
          -0.09347947135913177,
          -0.1209300981700651,
          -0.12545173091540726,
          -0.11194406624820298,
          -0.15033604456759858,
          -0.15212196674669323,
          -0.07164325049787018,
          -0.10443024800108501,
          -0.10582575963409267,
          -0.10715587727756182,
          -0.17932908590074795,
          -0.04270207052602193,
          0.16925187805444655,
          -0.06550548265048903,
          -0.13044087998772425,
          -0.1689887577691245,
          -0.19566068478632823,
          0.025487683429303458,
          0.027127381388828746,
          0.2527605810859565,
          0.15693868472868225,
          0.2714040592227722,
          0.2937746607000887,
          0.34159570597799493,
          0.2571778987580704,
          0.3635914378854544,
          0.3680765077678866,
          0.25900456590670234,
          0.29866026162604725,
          0.40146154174301735,
          0.4092770664865881,
          0.2291763539551208,
          0.410246614232483,
          0.4025759162553396,
          0.3972825999911258,
          0.1366786663113856,
          0.43517876866082844,
          0.48406438114730976,
          0.21144246442932646,
          0.27678264487528037,
          0.1304977160728734,
          0.06902556507543081,
          0.1477656813657453,
          0.2753166536779954,
          0.10227929886611302,
          0.07358414579967157,
          0.10225338830716739,
          -0.13302555374010375,
          -0.11356766341283529,
          -0.22311876658120122,
          0.05626112592352307,
          -0.2506934887890564,
          -0.052381584892099514,
          -0.1457637506707856,
          -0.6563653221105675,
          -0.29014435602723626,
          -0.6525579839251852,
          -0.21520828804858824,
          -0.6520841778883038,
          -0.6726313601355268,
          -0.6881644239377761,
          -0.6762584066190106,
          -0.6499665203945987,
          -0.747439000325803,
          -0.7444156102233234,
          -0.7514729489859345,
          -0.6807027671904989,
          -0.5289372473726536,
          -0.3698564153715191,
          0.053927894386294244,
          -0.6110836998660819,
          -0.5527130095992872,
          -0.5684982733404433,
          -0.17569024118330379,
          -0.15822043471693248,
          -0.6885949637297485,
          0.15464431072457088,
          0.283692429373373,
          0.23751611513584409,
          0.10949150841524069,
          -0.5311461551734793,
          0.44060178714390236,
          0.4429169084900996,
          0.38056779224246695,
          0.6750600585010855,
          0.6503960862490932,
          0.8160551449075751,
          0.8281528535088694,
          0.7928763722884767,
          0.0,
          0.00596909840996183,
          0.02017910130511096,
          0.030024017233558662,
          0.03969838966987445,
          0.04820484111558114,
          0.060161058684051076,
          0.02266123364265023,
          0.08005543709363765,
          0.07877560130357734,
          0.09536226475460824,
          0.096904443192187,
          0.11666184705037298,
          0.04354289360382271,
          0.10549242925494307,
          0.022372224793344997,
          -0.025281975651059062,
          0.04821517791027666,
          0.07722579399270649,
          -0.015896561251966642,
          -0.0619639367893133,
          -0.09317860838792637,
          0.09318722024207184,
          -0.20540013867223275,
          0.0015301487802244548,
          0.039235321598037984,
          -0.21251482832034113,
          -0.14575745058807396,
          -0.2201069769029019,
          -0.25347682094148904,
          -0.28682142627904983,
          -0.2935061479761285,
          -0.3217817038488744,
          -0.30724409670724745,
          -0.30461549235228735,
          -0.3250157132621674,
          -0.33924547517691056,
          -0.21339575866472926,
          -0.3815602576470943,
          -0.333119088942372,
          -0.26232458080789806,
          -0.4007654144255746,
          -0.42384303342488494,
          -0.22451113126618272,
          -0.2407284477525145,
          -0.35792397264044873,
          -0.014313673014819742,
          -0.35129197277762964,
          -0.40917170164226346,
          -0.069436728320595,
          -0.008157273317947945,
          0.24331737731765024,
          0.12071609913673652,
          0.3186583224953131,
          -0.08834927054223328,
          0.4191694603564193,
          9.236344808208762E-4,
          0.5228526315628832,
          0.3439381307032161,
          0.4368582557727681,
          0.3999937723612063,
          0.5063282852471688,
          0.5167172702120382,
          0.3051941397121265,
          0.513426140688175,
          0.5910506963514178,
          0.6635635704980446,
          0.6408740365670179,
          0.6868263489878613,
          0.6250840664133599,
          0.5865424484545015,
          0.6822252392730362,
          0.5798866255373556,
          0.5698026530182949,
          0.05420203768273835,
          0.6243580951252766,
          0.17313651095317384,
          0.5846889357400419,
          0.5221223417852395,
          -0.5503312485983672,
          0.1842315550198058,
          0.43717726249197564,
          -0.4546105371757991,
          -0.21953412601944078,
          -0.335551856110151,
          0.5098274639159994,
          -0.20798990965193317,
          -0.45815573197426973,
          -0.45271514602152807,
          -0.1859923804145453,
          -0.5506479553499022,
          -0.9171210828723341,
          -0.6816548852406843,
          -0.9314714339012834,
          -0.8721414218379816,
          -0.9107805713731808,
          -0.9467732923917749,
          -0.8400771379185444,
          -0.7905789851399508,
          -0.8792201960329165
         ],
         "y": [
          0.0,
          0.00900171984741762,
          0.01654460903104507,
          0.027590160956196166,
          0.03918639074093,
          0.0500150063586614,
          0.05160848738325456,
          0.00826151713538605,
          0.06021428016949602,
          0.0908477694251169,
          0.014146497225836517,
          0.06017267497522222,
          0.06927796085141168,
          0.05030896565065893,
          0.1033304555534545,
          0.00702335264449564,
          -0.06629043896759584,
          0.061458859337758714,
          -0.09228390718399546,
          -0.11660483525841242,
          -0.03323173020630204,
          -0.18452573600920316,
          -0.016001044315938077,
          -0.19194197759773482,
          -0.17078039403771544,
          -0.19986702263093925,
          -0.24920801311303242,
          -0.2599404984814889,
          -0.07713515276397775,
          -0.1909557646322531,
          -0.2409460112428522,
          -0.31055750826951845,
          -0.286592844424978,
          -0.25034915806983266,
          -0.27778309943467444,
          -0.3133665534543891,
          -0.36361946975477244,
          -0.14013161148202824,
          -0.28091322258387247,
          -0.3876596650593995,
          -0.33599449163998113,
          0.01575643710403792,
          0.10371985515014381,
          -0.32253331290009707,
          0.31448215076693636,
          0.12950768824307624,
          0.10056474799086357,
          -0.24800198802333528,
          0.4539872247293689,
          0.10341601241449971,
          -0.01907116217712691,
          0.11354707913415721,
          0.2461298702820327,
          0.07784949923916079,
          0.47290785339155234,
          0.39250763782283243,
          0.04408549014405526,
          0.3290233890968474,
          0.32050037619843497,
          0.44509096508195917,
          0.5326209952282269,
          0.6159228328867854,
          0.6174572909636947,
          0.6363097849774574,
          0.6344417401496376,
          0.5321063237811643,
          0.6467669213125351,
          0.061704504574206585,
          0.680274137026192,
          0.5480244779084019,
          0.09386154220215974,
          0.681776661964885,
          0.6332739246629026,
          0.6351940628201627,
          0.32119475194546554,
          0.3122044625719129,
          0.05403763721913262,
          -0.36109980207222336,
          0.41411267476259767,
          0.05335626618308152,
          -0.33428516600271607,
          0.6548412476036345,
          -0.13649071353467362,
          -0.24933336999134303,
          -0.2735925475698301,
          -0.6583644757372716,
          -0.8531608288477536,
          -0.5419932886777595,
          -0.752212776675721,
          -0.6351713871868421,
          -0.8494728986021298,
          -0.9121063796908541,
          -0.5817499090708201,
          -0.9210201642138838,
          -0.9464053635743788,
          -0.9299144441513653,
          -0.6818145168805381,
          -0.9039595347082916,
          -0.5114166129150922,
          -0.9956159397404644,
          -0.0,
          -0.0026662503969836597,
          -0.014959767443696915,
          -0.02922263977455029,
          -0.037194109336794484,
          -0.03857620052205913,
          -0.05244123405496559,
          -0.002886120063199499,
          -0.0807843653374086,
          -0.04335838970825427,
          -0.06357714826351953,
          -0.06006053152248107,
          -0.00826375733673157,
          -0.03879435094943494,
          0.08640882723261978,
          0.018865705458008575,
          0.05457738477299212,
          0.1560577832747988,
          0.14883606599914317,
          0.16010585506090297,
          0.17125939387128333,
          0.11329822408923465,
          0.21808083185409344,
          0.15914737211828964,
          0.23340639463753846,
          0.21622714906082144,
          0.20103570222397527,
          0.18999226752213186,
          0.28167750275981,
          0.29167049188260463,
          0.16715098923945051,
          0.27096396162399855,
          0.17555332927508682,
          0.15750415817259844,
          0.0354897436955215,
          0.24258354146510255,
          0.005715877453676058,
          0.06480207525616995,
          0.28328173210982593,
          0.2568857610355195,
          -0.045577171900552674,
          0.06328818021703009,
          0.35701517238756997,
          -0.14266020632269388,
          -0.18831753993907385,
          -0.22085766002614682,
          -0.444089269498599,
          -0.18974879205399275,
          0.027563166805421084,
          -0.4475121079778883,
          -0.4224539976702963,
          -0.4983487028804887,
          -0.5206973080880793,
          -0.5145568104942797,
          -0.4708730204254387,
          -0.5460594476172886,
          -0.5608500011208998,
          -0.566604827566748,
          -0.5705562940467495,
          -0.585038653289912,
          -0.5634957623778839,
          -0.6135876652449204,
          -0.5738968999150746,
          -0.6342041053557934,
          -0.6298170116145209,
          -0.016218055129473243,
          -0.6002172082754583,
          -0.17939499974362838,
          -0.6522836696989357,
          -0.24607515811590233,
          0.21798173813349808,
          0.201903436170409,
          -0.26758211321354747,
          0.34822916439415486,
          0.007310191817025019,
          -0.14059312828982892,
          -0.15689495394381905,
          -0.37627385551501663,
          0.5839335345150066,
          0.7070912175896471,
          0.8062793403006135,
          0.5440571655270117,
          0.6168960792936681,
          0.6161957267558359,
          0.8300960650800056,
          0.8438814908514116,
          0.5295789381716605,
          0.8650741431027875,
          0.8424025535967691,
          0.8670460965465708,
          0.9024732076780401,
          0.7501983378761606,
          0.8182025504723344,
          0.8284235544355539,
          0.869890116407878,
          0.6819958380293839,
          0.7192337200321938,
          0.5422712252056892,
          0.5422756323385348,
          0.6093825221210935,
          0.0,
          0.008148636035122643,
          9.620243036959595E-4,
          0.004102686279176779,
          -0.007518266993804861,
          -0.015068291858710484,
          -0.007330866265295903,
          -0.0669772971817161,
          -0.011003313847743458,
          -0.0453747446183136,
          -0.03330283722061552,
          -0.054361823938844096,
          -0.032899722970525826,
          -0.12388363439884158,
          -0.09417699698859391,
          -0.1498543449368598,
          -0.15962645583586868,
          -0.1648092342122401,
          -0.16460263661881447,
          -0.1912597071190848,
          -0.19228268918925914,
          -0.19056011012450041,
          -0.20173957973818205,
          -0.10855812871702487,
          -0.2424194133308598,
          -0.24945859917437424,
          -0.15430489805905262,
          -0.23051015354496077,
          -0.1776084352902772,
          -0.14682326757517625,
          0.0977795171898945,
          -0.10911168756625216,
          -0.030588720965094317,
          -0.12927558218650076,
          -0.1586081652032837,
          0.13911158230734075,
          0.1309347644083491,
          0.30682547924188763,
          -0.0417573309964311,
          0.21028532682890905,
          0.3073019075780259,
          -0.10440399181711296,
          0.018404280596670604,
          0.3718184649729329,
          0.37360497673370974,
          0.28018208375485626,
          0.4644259422914305,
          0.3193416894818234,
          0.2601087692390358,
          0.4900546329858458,
          0.5049846250568294,
          0.4540679877046631,
          0.5111925651780983,
          0.43018633325572075,
          0.5382518625622025,
          0.36460792478105886,
          0.5656558115760206,
          0.24108486412466573,
          0.4742750730036309,
          0.4053673696531328,
          0.4553179551596891,
          0.35112220777039527,
          0.35384762217369975,
          0.5584041679387123,
          0.39282329002581645,
          0.2858977714568543,
          -0.06424820894259371,
          -0.21747403884559477,
          -0.0076262268992521665,
          -0.3082801784256808,
          -0.3948631927116887,
          -0.22114247626785316,
          0.4389272392522587,
          -0.46802239816255176,
          -0.7455069665827923,
          -0.42906642553108154,
          -0.7478979664403504,
          -0.5129104405528468,
          -0.5900349520139002,
          -0.5778471033067842,
          -0.7867994194987158,
          -0.6915905788566875,
          -0.6923739618998773,
          -0.8091305382792683,
          -0.7793147566737004,
          -0.6908296704692094,
          -0.843419867747955,
          -0.7499076350882293,
          -0.7649656550151974,
          -0.8795394663763532,
          -0.7233485399589246,
          0.06166606569906347,
          -0.6316106125306502,
          -0.12174539496815225,
          0.37537980690340933,
          -0.30216412176503166,
          -0.2096009204491348,
          0.5042563669035716,
          0.5957221487053558,
          0.4764156241013093
         ],
         "z": [
          0.0033331690443430986,
          0.0033331690858309387,
          0.0033331692096110403,
          0.0033331694146582764,
          0.003333169699947518,
          0.003333170064453636,
          0.0033331705071515043,
          0.003333171027015993,
          0.0033331716230219754,
          0.0033331722941443236,
          0.003333173039357909,
          0.003333173857637603,
          0.003333174747958278,
          0.0033331757092948068,
          0.00333317674062206,
          0.0033331778409149094,
          0.003333179009148229,
          0.0033331802442968885,
          0.003333181545335761,
          0.0033331829112397183,
          0.003333184340983632,
          0.003333185833542374,
          0.0033331873878908167,
          0.003333189003003832,
          0.0033331906778562917,
          0.0033331924114230675,
          0.0033331942026790314,
          0.003333196050599055,
          0.0033331979541580126,
          0.003333199912330772,
          0.003333201924092209,
          0.003333203988417193,
          0.003333206104280598,
          0.0033332082706572937,
          0.003333210486522154,
          0.0033332127508500504,
          0.0033332150626158527,
          0.003333217420794436,
          0.00333321982436067,
          0.0033332222722894287,
          0.0033332247635555817,
          0.003333227297134002,
          0.0033332298719995625,
          0.003333232487127133,
          0.0033332351414915888,
          0.003333237834067798,
          0.0033332405638306344,
          0.00333324332975497,
          0.0033332461308156766,
          0.003333248965987626,
          0.00333325183424569,
          0.0033332547345647405,
          0.0033332576659196506,
          0.003333260627285291,
          0.0033332636176365343,
          0.003333266635948251,
          0.0033332696811953157,
          0.0033332727523525986,
          0.0033332758483949707,
          0.0033332789682973055,
          0.0033332821110344754,
          0.0033332852755813508,
          0.003333288460912804,
          0.003333291666003708,
          0.003333294889828933,
          0.0033332981313633527,
          0.003333301389581838,
          0.003333304663459262,
          0.003333307951970495,
          0.0033333112540904096,
          0.003333314568793877,
          0.003333317895055772,
          0.0033333212318509635,
          0.0033333245781543243,
          0.0033333279329407265,
          0.003333331295185042,
          0.0033333346638621435,
          0.0033333380379469016,
          0.0033333414164141884,
          0.003333344798238878,
          0.0033333481823958388,
          0.0033333515678599453,
          0.0033333549536060684,
          0.0033333583386090816,
          0.0033333617218438546,
          0.00333336510228526,
          0.003333368478908171,
          0.003333371850687458,
          0.0033333752165979934,
          0.0033333785756146503,
          0.0033333819267122996,
          0.0033333852688658115,
          0.0033333886010500613,
          0.0033333919222399196,
          0.003333395231410258,
          0.0033333985275359477,
          0.003333401809591862,
          0.003333405076552872,
          0.0033334083273938507,
          0.0033334115610896683,
          0.003333414776615199,
          0.0033334179729453124,
          0.0033334211490548826,
          0.0033334243039187792,
          0.0033334274365118778,
          0.0033334305458090465,
          0.003333433630785158,
          0.003333436690415085,
          0.003333439723673701,
          0.0033334427295358742,
          0.0033334457069764795,
          0.003333448654970389,
          0.003333451572492473,
          0.0033334544585176032,
          0.003333457312020654,
          0.0033334601319764947,
          0.0033334629173599984,
          0.0033334656671460375,
          0.0033334683803094827,
          0.0033334710558252075,
          0.003333473692668082,
          0.00333347628981298,
          0.0033334788462347723,
          0.0033334813609083315,
          0.0033334838328085282,
          0.0033334862609102358,
          0.003333488644188326,
          0.0033334909816176705,
          0.0033334932721731407,
          0.0033334955148296088,
          0.0033334977085619473,
          0.003333499852345028,
          0.0033335019451537226,
          0.003333503985962903,
          0.0033335059737474417,
          0.00333350790748221,
          0.0033335097861420795,
          0.003333511608701924,
          0.003333513374136613,
          0.0033335150814210192,
          0.0033335167295300157,
          0.0033335183174384737,
          0.0033335198441212643,
          0.0033335213085532614,
          0.003333522709709334,
          0.003333524046564358,
          0.0033335253180932015,
          0.0033335265232707387,
          0.003333527661071841,
          0.0033335287304713805,
          0.0033335297304832134,
          0.003333530661017854,
          0.0033335315228824754,
          0.0033335323169232313,
          0.0033335330439862804,
          0.003333533704917777,
          0.003333534300563879,
          0.003333534831770743,
          0.003333535299384523,
          0.003333535704251378,
          0.0033335360472174624,
          0.0033335363291289344,
          0.0033335365508319484,
          0.0033335367131726626,
          0.0033335368169972327,
          0.0033335368631518146,
          0.0033335368524825644,
          0.0033335367858356394,
          0.0033335366640571957,
          0.0033335364879933894,
          0.0033335362584903765,
          0.003333535976394315,
          0.0033335356425513592,
          0.0033335352578076666,
          0.003333534823009393,
          0.0033335343390026952,
          0.003333533806633729,
          0.0033335332267486516,
          0.0033335326001936202,
          0.003333531927814789,
          0.003333531210458315,
          0.0033335304489703543,
          0.0033335296441970638,
          0.003333528796984601,
          0.00333352790817912,
          0.0033335269786267793,
          0.0033335260091737332,
          0.00333352500066614,
          0.003333523953950154,
          0.003333522869871934,
          0.003333521749277634,
          0.0033335205930134122,
          0.003333519401925423,
          0.0033335181768598247,
          0.0033335169186627734,
          0.0033335156281804243,
          0.003333514306258934,
          0.00333351295374446,
          0.0033335115714831585,
          0.0033335101603211847,
          0.003333508721104695,
          0.0033335072546798465,
          0.0033335057618927954,
          0.003333504243589698,
          0.0033335027006167104,
          0.0033335011338199907,
          0.003333499544045692,
          0.003333497932139973,
          0.0033334962989489893,
          0.0033334946453188984,
          0.003333492972095855,
          0.003333491280126016,
          0.0033334895702555388,
          0.0033334878433305785,
          0.0033334861001972915,
          0.003333484341701835,
          0.003333482568690365,
          0.0033334807820090367,
          0.0033334789825040082,
          0.0033334771710214353,
          0.003333475348407474,
          0.0033334735155082815,
          0.0033334716731700117,
          0.0033334698222388243,
          0.0033334679635608744,
          0.003333466097982317,
          0.0033334642263493108,
          0.00333346234950801,
          0.0033334604683045717,
          0.0033334585835851525,
          0.0033334566961959093,
          0.003333454806982998,
          0.003333452916792575,
          0.0033334510264707955,
          0.0033334491368638176,
          0.0033334472488177965,
          0.0033334453631788893,
          0.003333443480793252,
          0.003333441602507041,
          0.0033334397291664123,
          0.003333437861617522,
          0.0033334360007065277,
          0.0033334341472795854,
          0.0033334323021828507,
          0.0033334304662624805,
          0.0033334286403646314,
          0.0033334268253354597,
          0.0033334250220211207,
          0.0033334232312677713,
          0.0033334214539215688,
          0.0033334196908286692,
          0.003333417942835228,
          0.003333416210787403,
          0.0033334144955313484,
          0.0033334127979132225,
          0.0033334111187791806,
          0.0033334094589753793,
          0.0033334078193479754,
          0.003333406200743125,
          0.003333404604006984,
          0.0033334030299857096,
          0.0033334014795254577,
          0.003333399953472385,
          0.003333398452672647,
          0.0033333969779724003,
          0.0033333955302178022,
          0.003333394110255008,
          0.003333392718930175,
          0.0033333913570894585,
          0.0033333900255790158,
          0.003333388725245003,
          0.0033333874569335758,
          0.0033333862214908914,
          0.0033333850197631056,
          0.0033333838525963742,
          0.003333382720836856,
          0.003333381625330705,
          0.0033333805669240784,
          0.003333379546463132,
          0.003333378564794023,
          0.0033333776227629074,
          0.0033333767212159414,
          0.0033333758609992805,
          0.0033333750429590833,
          0.003333374267941504,
          0.0033333735367927007,
          0.0033333728503588283,
          0.003333372209486044,
          0.0033333716150205036,
          0.0033333710678083647,
          0.0033333705686957814,
          0.0033333701185289115,
          0.0033333697181539123,
          0.003333369368416939,
          0.003333369070164147,
          0.0033333688242416946,
          0.0033333686314957365,
          0.0033333684927724307,
          0.0033333684089179327,
          0.0033333683807783973
         ],
         "type": "scatter3d"
        }
       ],
       "layout": {
        "template": {
         "data": {
          "histogram2dcontour": [
           {
            "type": "histogram2dcontour",
            "colorbar": {
             "outlinewidth": 0,
             "ticks": ""
            },
            "colorscale": [
             [
              0.0,
              "#0d0887"
             ],
             [
              0.1111111111111111,
              "#46039f"
             ],
             [
              0.2222222222222222,
              "#7201a8"
             ],
             [
              0.3333333333333333,
              "#9c179e"
             ],
             [
              0.4444444444444444,
              "#bd3786"
             ],
             [
              0.5555555555555556,
              "#d8576b"
             ],
             [
              0.6666666666666666,
              "#ed7953"
             ],
             [
              0.7777777777777778,
              "#fb9f3a"
             ],
             [
              0.8888888888888888,
              "#fdca26"
             ],
             [
              1.0,
              "#f0f921"
             ]
            ]
           }
          ],
          "choropleth": [
           {
            "type": "choropleth",
            "colorbar": {
             "outlinewidth": 0,
             "ticks": ""
            }
           }
          ],
          "histogram2d": [
           {
            "type": "histogram2d",
            "colorbar": {
             "outlinewidth": 0,
             "ticks": ""
            },
            "colorscale": [
             [
              0.0,
              "#0d0887"
             ],
             [
              0.1111111111111111,
              "#46039f"
             ],
             [
              0.2222222222222222,
              "#7201a8"
             ],
             [
              0.3333333333333333,
              "#9c179e"
             ],
             [
              0.4444444444444444,
              "#bd3786"
             ],
             [
              0.5555555555555556,
              "#d8576b"
             ],
             [
              0.6666666666666666,
              "#ed7953"
             ],
             [
              0.7777777777777778,
              "#fb9f3a"
             ],
             [
              0.8888888888888888,
              "#fdca26"
             ],
             [
              1.0,
              "#f0f921"
             ]
            ]
           }
          ],
          "heatmap": [
           {
            "type": "heatmap",
            "colorbar": {
             "outlinewidth": 0,
             "ticks": ""
            },
            "colorscale": [
             [
              0.0,
              "#0d0887"
             ],
             [
              0.1111111111111111,
              "#46039f"
             ],
             [
              0.2222222222222222,
              "#7201a8"
             ],
             [
              0.3333333333333333,
              "#9c179e"
             ],
             [
              0.4444444444444444,
              "#bd3786"
             ],
             [
              0.5555555555555556,
              "#d8576b"
             ],
             [
              0.6666666666666666,
              "#ed7953"
             ],
             [
              0.7777777777777778,
              "#fb9f3a"
             ],
             [
              0.8888888888888888,
              "#fdca26"
             ],
             [
              1.0,
              "#f0f921"
             ]
            ]
           }
          ],
          "heatmapgl": [
           {
            "type": "heatmapgl",
            "colorbar": {
             "outlinewidth": 0,
             "ticks": ""
            },
            "colorscale": [
             [
              0.0,
              "#0d0887"
             ],
             [
              0.1111111111111111,
              "#46039f"
             ],
             [
              0.2222222222222222,
              "#7201a8"
             ],
             [
              0.3333333333333333,
              "#9c179e"
             ],
             [
              0.4444444444444444,
              "#bd3786"
             ],
             [
              0.5555555555555556,
              "#d8576b"
             ],
             [
              0.6666666666666666,
              "#ed7953"
             ],
             [
              0.7777777777777778,
              "#fb9f3a"
             ],
             [
              0.8888888888888888,
              "#fdca26"
             ],
             [
              1.0,
              "#f0f921"
             ]
            ]
           }
          ],
          "contourcarpet": [
           {
            "type": "contourcarpet",
            "colorbar": {
             "outlinewidth": 0,
             "ticks": ""
            }
           }
          ],
          "contour": [
           {
            "type": "contour",
            "colorbar": {
             "outlinewidth": 0,
             "ticks": ""
            },
            "colorscale": [
             [
              0.0,
              "#0d0887"
             ],
             [
              0.1111111111111111,
              "#46039f"
             ],
             [
              0.2222222222222222,
              "#7201a8"
             ],
             [
              0.3333333333333333,
              "#9c179e"
             ],
             [
              0.4444444444444444,
              "#bd3786"
             ],
             [
              0.5555555555555556,
              "#d8576b"
             ],
             [
              0.6666666666666666,
              "#ed7953"
             ],
             [
              0.7777777777777778,
              "#fb9f3a"
             ],
             [
              0.8888888888888888,
              "#fdca26"
             ],
             [
              1.0,
              "#f0f921"
             ]
            ]
           }
          ],
          "surface": [
           {
            "type": "surface",
            "colorbar": {
             "outlinewidth": 0,
             "ticks": ""
            },
            "colorscale": [
             [
              0.0,
              "#0d0887"
             ],
             [
              0.1111111111111111,
              "#46039f"
             ],
             [
              0.2222222222222222,
              "#7201a8"
             ],
             [
              0.3333333333333333,
              "#9c179e"
             ],
             [
              0.4444444444444444,
              "#bd3786"
             ],
             [
              0.5555555555555556,
              "#d8576b"
             ],
             [
              0.6666666666666666,
              "#ed7953"
             ],
             [
              0.7777777777777778,
              "#fb9f3a"
             ],
             [
              0.8888888888888888,
              "#fdca26"
             ],
             [
              1.0,
              "#f0f921"
             ]
            ]
           }
          ],
          "mesh3d": [
           {
            "type": "mesh3d",
            "colorbar": {
             "outlinewidth": 0,
             "ticks": ""
            }
           }
          ],
          "scatter": [
           {
            "marker": {
             "line": {
              "color": "#283442"
             }
            },
            "type": "scatter"
           }
          ],
          "parcoords": [
           {
            "type": "parcoords",
            "line": {
             "colorbar": {
              "outlinewidth": 0,
              "ticks": ""
             }
            }
           }
          ],
          "scatterpolargl": [
           {
            "type": "scatterpolargl",
            "marker": {
             "colorbar": {
              "outlinewidth": 0,
              "ticks": ""
             }
            }
           }
          ],
          "bar": [
           {
            "error_x": {
             "color": "#f2f5fa"
            },
            "error_y": {
             "color": "#f2f5fa"
            },
            "marker": {
             "line": {
              "color": "rgb(17,17,17)",
              "width": 0.5
             },
             "pattern": {
              "fillmode": "overlay",
              "size": 10,
              "solidity": 0.2
             }
            },
            "type": "bar"
           }
          ],
          "scattergeo": [
           {
            "type": "scattergeo",
            "marker": {
             "colorbar": {
              "outlinewidth": 0,
              "ticks": ""
             }
            }
           }
          ],
          "scatterpolar": [
           {
            "type": "scatterpolar",
            "marker": {
             "colorbar": {
              "outlinewidth": 0,
              "ticks": ""
             }
            }
           }
          ],
          "histogram": [
           {
            "marker": {
             "pattern": {
              "fillmode": "overlay",
              "size": 10,
              "solidity": 0.2
             }
            },
            "type": "histogram"
           }
          ],
          "scattergl": [
           {
            "marker": {
             "line": {
              "color": "#283442"
             }
            },
            "type": "scattergl"
           }
          ],
          "scatter3d": [
           {
            "type": "scatter3d",
            "line": {
             "colorbar": {
              "outlinewidth": 0,
              "ticks": ""
             }
            },
            "marker": {
             "colorbar": {
              "outlinewidth": 0,
              "ticks": ""
             }
            }
           }
          ],
          "scattermapbox": [
           {
            "type": "scattermapbox",
            "marker": {
             "colorbar": {
              "outlinewidth": 0,
              "ticks": ""
             }
            }
           }
          ],
          "scatterternary": [
           {
            "type": "scatterternary",
            "marker": {
             "colorbar": {
              "outlinewidth": 0,
              "ticks": ""
             }
            }
           }
          ],
          "scattercarpet": [
           {
            "type": "scattercarpet",
            "marker": {
             "colorbar": {
              "outlinewidth": 0,
              "ticks": ""
             }
            }
           }
          ],
          "carpet": [
           {
            "aaxis": {
             "endlinecolor": "#A2B1C6",
             "gridcolor": "#506784",
             "linecolor": "#506784",
             "minorgridcolor": "#506784",
             "startlinecolor": "#A2B1C6"
            },
            "baxis": {
             "endlinecolor": "#A2B1C6",
             "gridcolor": "#506784",
             "linecolor": "#506784",
             "minorgridcolor": "#506784",
             "startlinecolor": "#A2B1C6"
            },
            "type": "carpet"
           }
          ],
          "table": [
           {
            "cells": {
             "fill": {
              "color": "#506784"
             },
             "line": {
              "color": "rgb(17,17,17)"
             }
            },
            "header": {
             "fill": {
              "color": "#2a3f5f"
             },
             "line": {
              "color": "rgb(17,17,17)"
             }
            },
            "type": "table"
           }
          ],
          "barpolar": [
           {
            "marker": {
             "line": {
              "color": "rgb(17,17,17)",
              "width": 0.5
             },
             "pattern": {
              "fillmode": "overlay",
              "size": 10,
              "solidity": 0.2
             }
            },
            "type": "barpolar"
           }
          ],
          "pie": [
           {
            "automargin": true,
            "type": "pie"
           }
          ]
         },
         "layout": {
          "autotypenumbers": "strict",
          "colorway": [
           "#636efa",
           "#EF553B",
           "#00cc96",
           "#ab63fa",
           "#FFA15A",
           "#19d3f3",
           "#FF6692",
           "#B6E880",
           "#FF97FF",
           "#FECB52"
          ],
          "font": {
           "color": "#f2f5fa"
          },
          "hovermode": "closest",
          "hoverlabel": {
           "align": "left"
          },
          "paper_bgcolor": "rgb(17,17,17)",
          "plot_bgcolor": "rgb(17,17,17)",
          "polar": {
           "bgcolor": "rgb(17,17,17)",
           "angularaxis": {
            "gridcolor": "#506784",
            "linecolor": "#506784",
            "ticks": ""
           },
           "radialaxis": {
            "gridcolor": "#506784",
            "linecolor": "#506784",
            "ticks": ""
           }
          },
          "ternary": {
           "bgcolor": "rgb(17,17,17)",
           "aaxis": {
            "gridcolor": "#506784",
            "linecolor": "#506784",
            "ticks": ""
           },
           "baxis": {
            "gridcolor": "#506784",
            "linecolor": "#506784",
            "ticks": ""
           },
           "caxis": {
            "gridcolor": "#506784",
            "linecolor": "#506784",
            "ticks": ""
           }
          },
          "coloraxis": {
           "colorbar": {
            "outlinewidth": 0,
            "ticks": ""
           }
          },
          "colorscale": {
           "sequential": [
            [
             0.0,
             "#0d0887"
            ],
            [
             0.1111111111111111,
             "#46039f"
            ],
            [
             0.2222222222222222,
             "#7201a8"
            ],
            [
             0.3333333333333333,
             "#9c179e"
            ],
            [
             0.4444444444444444,
             "#bd3786"
            ],
            [
             0.5555555555555556,
             "#d8576b"
            ],
            [
             0.6666666666666666,
             "#ed7953"
            ],
            [
             0.7777777777777778,
             "#fb9f3a"
            ],
            [
             0.8888888888888888,
             "#fdca26"
            ],
            [
             1.0,
             "#f0f921"
            ]
           ],
           "sequentialminus": [
            [
             0.0,
             "#0d0887"
            ],
            [
             0.1111111111111111,
             "#46039f"
            ],
            [
             0.2222222222222222,
             "#7201a8"
            ],
            [
             0.3333333333333333,
             "#9c179e"
            ],
            [
             0.4444444444444444,
             "#bd3786"
            ],
            [
             0.5555555555555556,
             "#d8576b"
            ],
            [
             0.6666666666666666,
             "#ed7953"
            ],
            [
             0.7777777777777778,
             "#fb9f3a"
            ],
            [
             0.8888888888888888,
             "#fdca26"
            ],
            [
             1.0,
             "#f0f921"
            ]
           ],
           "diverging": [
            [
             0,
             "#8e0152"
            ],
            [
             0.1,
             "#c51b7d"
            ],
            [
             0.2,
             "#de77ae"
            ],
            [
             0.3,
             "#f1b6da"
            ],
            [
             0.4,
             "#fde0ef"
            ],
            [
             0.5,
             "#f7f7f7"
            ],
            [
             0.6,
             "#e6f5d0"
            ],
            [
             0.7,
             "#b8e186"
            ],
            [
             0.8,
             "#7fbc41"
            ],
            [
             0.9,
             "#4d9221"
            ],
            [
             1,
             "#276419"
            ]
           ]
          },
          "xaxis": {
           "gridcolor": "#283442",
           "linecolor": "#506784",
           "ticks": "",
           "title": {
            "standoff": 15
           },
           "zerolinecolor": "#283442",
           "automargin": true,
           "zerolinewidth": 2
          },
          "yaxis": {
           "gridcolor": "#283442",
           "linecolor": "#506784",
           "ticks": "",
           "title": {
            "standoff": 15
           },
           "zerolinecolor": "#283442",
           "automargin": true,
           "zerolinewidth": 2
          },
          "scene": {
           "xaxis": {
            "backgroundcolor": "rgb(17,17,17)",
            "gridcolor": "#506784",
            "linecolor": "#506784",
            "showbackground": true,
            "ticks": "",
            "zerolinecolor": "#C8D4E3",
            "gridwidth": 2
           },
           "yaxis": {
            "backgroundcolor": "rgb(17,17,17)",
            "gridcolor": "#506784",
            "linecolor": "#506784",
            "showbackground": true,
            "ticks": "",
            "zerolinecolor": "#C8D4E3",
            "gridwidth": 2
           },
           "zaxis": {
            "backgroundcolor": "rgb(17,17,17)",
            "gridcolor": "#506784",
            "linecolor": "#506784",
            "showbackground": true,
            "ticks": "",
            "zerolinecolor": "#C8D4E3",
            "gridwidth": 2
           }
          },
          "shapedefaults": {
           "line": {
            "color": "#f2f5fa"
           }
          },
          "annotationdefaults": {
           "arrowcolor": "#f2f5fa",
           "arrowhead": 0,
           "arrowwidth": 1
          },
          "geo": {
           "bgcolor": "rgb(17,17,17)",
           "landcolor": "rgb(17,17,17)",
           "subunitcolor": "#506784",
           "showland": true,
           "showlakes": true,
           "lakecolor": "rgb(17,17,17)"
          },
          "title": {
           "x": 0.05
          },
          "updatemenudefaults": {
           "bgcolor": "#506784",
           "borderwidth": 0
          },
          "sliderdefaults": {
           "bgcolor": "#C8D4E3",
           "borderwidth": 1,
           "bordercolor": "rgb(17,17,17)",
           "tickwidth": 0
          },
          "mapbox": {
           "style": "dark"
          }
         }
        },
        "scene": {
         "camera": {
          "eye": {
           "x": 1.5,
           "y": 1.5,
           "z": 1.5
          }
         },
         "xaxis": {
          "title": {
           "text": "Inputs Feature 1"
          }
         },
         "yaxis": {
          "title": {
           "text": "Inputs Feature 1"
          }
         },
         "zaxis": {
          "title": {
           "text": "Values"
          }
         }
        },
        "title": {
         "font": {
          "size": 20
         },
         "text": "3D Scatter Plot of Predictions, and True Values",
         "y": 0.95,
         "x": 0.5,
         "xanchor": "center",
         "yanchor": "top"
        },
        "margin": {
         "l": 0,
         "r": 0,
         "t": 0,
         "b": 0
        }
       },
       "config": {
        "plotlyServerURL": "https://plot.ly"
       }
      },
      "text/html": [
       "<div>                            <div id=\"7e845107-ee3c-468d-9ea6-032f1e66d7f7\" class=\"plotly-graph-div\" style=\"height:525px; width:100%;\"></div>            <script type=\"text/javascript\">                require([\"plotly\"], function(Plotly) {                    window.PLOTLYENV=window.PLOTLYENV || {};                                    if (document.getElementById(\"7e845107-ee3c-468d-9ea6-032f1e66d7f7\")) {                    Plotly.newPlot(                        \"7e845107-ee3c-468d-9ea6-032f1e66d7f7\",                        [{\"marker\":{\"color\":[0.0033331690443430986,0.0033331690858309387,0.0033331692096110403,0.0033331694146582764,0.003333169699947518,0.003333170064453636,0.0033331705071515043,0.003333171027015993,0.0033331716230219754,0.0033331722941443236,0.003333173039357909,0.003333173857637603,0.003333174747958278,0.0033331757092948068,0.00333317674062206,0.0033331778409149094,0.003333179009148229,0.0033331802442968885,0.003333181545335761,0.0033331829112397183,0.003333184340983632,0.003333185833542374,0.0033331873878908167,0.003333189003003832,0.0033331906778562917,0.0033331924114230675,0.0033331942026790314,0.003333196050599055,0.0033331979541580126,0.003333199912330772,0.003333201924092209,0.003333203988417193,0.003333206104280598,0.0033332082706572937,0.003333210486522154,0.0033332127508500504,0.0033332150626158527,0.003333217420794436,0.00333321982436067,0.0033332222722894287,0.0033332247635555817,0.003333227297134002,0.0033332298719995625,0.003333232487127133,0.0033332351414915888,0.003333237834067798,0.0033332405638306344,0.00333324332975497,0.0033332461308156766,0.003333248965987626,0.00333325183424569,0.0033332547345647405,0.0033332576659196506,0.003333260627285291,0.0033332636176365343,0.003333266635948251,0.0033332696811953157,0.0033332727523525986,0.0033332758483949707,0.0033332789682973055,0.0033332821110344754,0.0033332852755813508,0.003333288460912804,0.003333291666003708,0.003333294889828933,0.0033332981313633527,0.003333301389581838,0.003333304663459262,0.003333307951970495,0.0033333112540904096,0.003333314568793877,0.003333317895055772,0.0033333212318509635,0.0033333245781543243,0.0033333279329407265,0.003333331295185042,0.0033333346638621435,0.0033333380379469016,0.0033333414164141884,0.003333344798238878,0.0033333481823958388,0.0033333515678599453,0.0033333549536060684,0.0033333583386090816,0.0033333617218438546,0.00333336510228526,0.003333368478908171,0.003333371850687458,0.0033333752165979934,0.0033333785756146503,0.0033333819267122996,0.0033333852688658115,0.0033333886010500613,0.0033333919222399196,0.003333395231410258,0.0033333985275359477,0.003333401809591862,0.003333405076552872,0.0033334083273938507,0.0033334115610896683,0.003333414776615199,0.0033334179729453124,0.0033334211490548826,0.0033334243039187792,0.0033334274365118778,0.0033334305458090465,0.003333433630785158,0.003333436690415085,0.003333439723673701,0.0033334427295358742,0.0033334457069764795,0.003333448654970389,0.003333451572492473,0.0033334544585176032,0.003333457312020654,0.0033334601319764947,0.0033334629173599984,0.0033334656671460375,0.0033334683803094827,0.0033334710558252075,0.003333473692668082,0.00333347628981298,0.0033334788462347723,0.0033334813609083315,0.0033334838328085282,0.0033334862609102358,0.003333488644188326,0.0033334909816176705,0.0033334932721731407,0.0033334955148296088,0.0033334977085619473,0.003333499852345028,0.0033335019451537226,0.003333503985962903,0.0033335059737474417,0.00333350790748221,0.0033335097861420795,0.003333511608701924,0.003333513374136613,0.0033335150814210192,0.0033335167295300157,0.0033335183174384737,0.0033335198441212643,0.0033335213085532614,0.003333522709709334,0.003333524046564358,0.0033335253180932015,0.0033335265232707387,0.003333527661071841,0.0033335287304713805,0.0033335297304832134,0.003333530661017854,0.0033335315228824754,0.0033335323169232313,0.0033335330439862804,0.003333533704917777,0.003333534300563879,0.003333534831770743,0.003333535299384523,0.003333535704251378,0.0033335360472174624,0.0033335363291289344,0.0033335365508319484,0.0033335367131726626,0.0033335368169972327,0.0033335368631518146,0.0033335368524825644,0.0033335367858356394,0.0033335366640571957,0.0033335364879933894,0.0033335362584903765,0.003333535976394315,0.0033335356425513592,0.0033335352578076666,0.003333534823009393,0.0033335343390026952,0.003333533806633729,0.0033335332267486516,0.0033335326001936202,0.003333531927814789,0.003333531210458315,0.0033335304489703543,0.0033335296441970638,0.003333528796984601,0.00333352790817912,0.0033335269786267793,0.0033335260091737332,0.00333352500066614,0.003333523953950154,0.003333522869871934,0.003333521749277634,0.0033335205930134122,0.003333519401925423,0.0033335181768598247,0.0033335169186627734,0.0033335156281804243,0.003333514306258934,0.00333351295374446,0.0033335115714831585,0.0033335101603211847,0.003333508721104695,0.0033335072546798465,0.0033335057618927954,0.003333504243589698,0.0033335027006167104,0.0033335011338199907,0.003333499544045692,0.003333497932139973,0.0033334962989489893,0.0033334946453188984,0.003333492972095855,0.003333491280126016,0.0033334895702555388,0.0033334878433305785,0.0033334861001972915,0.003333484341701835,0.003333482568690365,0.0033334807820090367,0.0033334789825040082,0.0033334771710214353,0.003333475348407474,0.0033334735155082815,0.0033334716731700117,0.0033334698222388243,0.0033334679635608744,0.003333466097982317,0.0033334642263493108,0.00333346234950801,0.0033334604683045717,0.0033334585835851525,0.0033334566961959093,0.003333454806982998,0.003333452916792575,0.0033334510264707955,0.0033334491368638176,0.0033334472488177965,0.0033334453631788893,0.003333443480793252,0.003333441602507041,0.0033334397291664123,0.003333437861617522,0.0033334360007065277,0.0033334341472795854,0.0033334323021828507,0.0033334304662624805,0.0033334286403646314,0.0033334268253354597,0.0033334250220211207,0.0033334232312677713,0.0033334214539215688,0.0033334196908286692,0.003333417942835228,0.003333416210787403,0.0033334144955313484,0.0033334127979132225,0.0033334111187791806,0.0033334094589753793,0.0033334078193479754,0.003333406200743125,0.003333404604006984,0.0033334030299857096,0.0033334014795254577,0.003333399953472385,0.003333398452672647,0.0033333969779724003,0.0033333955302178022,0.003333394110255008,0.003333392718930175,0.0033333913570894585,0.0033333900255790158,0.003333388725245003,0.0033333874569335758,0.0033333862214908914,0.0033333850197631056,0.0033333838525963742,0.003333382720836856,0.003333381625330705,0.0033333805669240784,0.003333379546463132,0.003333378564794023,0.0033333776227629074,0.0033333767212159414,0.0033333758609992805,0.0033333750429590833,0.003333374267941504,0.0033333735367927007,0.0033333728503588283,0.003333372209486044,0.0033333716150205036,0.0033333710678083647,0.0033333705686957814,0.0033333701185289115,0.0033333697181539123,0.003333369368416939,0.003333369070164147,0.0033333688242416946,0.0033333686314957365,0.0033333684927724307,0.0033333684089179327,0.0033333683807783973],\"colorscale\":[[0.0,\"#30123b\"],[0.07142857142857142,\"#4145ab\"],[0.14285714285714285,\"#4675ed\"],[0.21428571428571427,\"#39a2fc\"],[0.2857142857142857,\"#1bcfd4\"],[0.35714285714285715,\"#24eca6\"],[0.42857142857142855,\"#61fc6c\"],[0.5,\"#a4fc3b\"],[0.5714285714285714,\"#d1e834\"],[0.6428571428571429,\"#f3c63a\"],[0.7142857142857143,\"#fe9b2d\"],[0.7857142857142857,\"#f36315\"],[0.8571428571428571,\"#d93806\"],[0.9285714285714286,\"#b11901\"],[1.0,\"#7a0402\"]],\"opacity\":0.8,\"size\":5},\"mode\":\"markers\",\"name\":\"Predictions\",\"x\":[-0.0,-0.004582515122649984,-0.011592994964748946,-0.01253222502022532,0.009844453345436968,-0.00701849452951002,0.03177512568343273,0.07022276826355126,0.05389050368622246,-0.0033385027180088084,0.10001458454800585,0.09340732411685898,0.0994632719601172,0.12129363722149851,0.09654416785603548,0.1513522832873372,0.14739525568017692,0.16034212070272189,0.15665737044430797,0.15243453880690597,0.1992681964884984,0.10462151490986037,0.2216453983961366,0.13089064715626267,0.17205688108091033,0.1543443436851062,0.0828729148835332,0.08252940408394611,0.2721066073723183,0.22213389342864154,0.1837726427431369,0.040065612696781085,-0.1494780127863809,-0.22008273481769774,-0.20194974107100103,-0.16367238427873218,-0.003505163895717973,-0.34647186897576443,-0.26157153187074134,-0.07005876235968785,-0.2244022051690305,-0.4138415706485235,-0.41136823671100603,-0.2909063097062994,-0.3140570665444941,-0.43570555302161124,-0.4536331872449286,-0.4048211688086206,-0.17021648875005305,-0.4840249280016931,-0.5046903044689723,-0.5024819841377433,-0.4640154116396399,-0.5296629714108216,-0.2718065918214989,-0.39316628741460297,-0.5639360068563977,-0.4724832224211408,-0.490417976302749,-0.3963103238861374,-0.28917872269695477,-0.01715229312984231,-0.10464879783894865,-0.008278600599892716,-0.12409761272707925,0.384631410019497,0.1616693970433167,0.6739488425932418,0.09495099522376801,0.43062272363085397,0.7008130961197158,0.2225215834723647,0.3576167727844365,0.3744977051018187,0.6749462418853286,0.6902531434312098,0.7657725206576843,0.688872415290625,0.6702713457923702,0.7961939881981522,0.7356956029357987,0.49051445242747066,0.8169594413108873,0.8004500803123067,0.8031647751380825,0.5511133219681809,0.16350374903595105,0.6917451922006879,-0.4736025711458138,0.6361919108138768,0.32379326047994156,0.11391109004380326,0.7246739899637119,-0.18488599319984964,-0.07653461252312414,-0.23681961960857045,-0.689522427199032,-0.3779698940738159,-0.8475571120800622,0.09353555759555832,-0.0,-0.009742767259936603,-0.01357670719553671,-0.008019412082767918,-0.015782417800004757,-0.03259811159867374,-0.03038110519677993,-0.07064814335108528,0.0019576110230110893,-0.07990314669538681,-0.07849195324840162,-0.09347947135913177,-0.1209300981700651,-0.12545173091540726,-0.11194406624820298,-0.15033604456759858,-0.15212196674669323,-0.07164325049787018,-0.10443024800108501,-0.10582575963409267,-0.10715587727756182,-0.17932908590074795,-0.04270207052602193,0.16925187805444655,-0.06550548265048903,-0.13044087998772425,-0.1689887577691245,-0.19566068478632823,0.025487683429303458,0.027127381388828746,0.2527605810859565,0.15693868472868225,0.2714040592227722,0.2937746607000887,0.34159570597799493,0.2571778987580704,0.3635914378854544,0.3680765077678866,0.25900456590670234,0.29866026162604725,0.40146154174301735,0.4092770664865881,0.2291763539551208,0.410246614232483,0.4025759162553396,0.3972825999911258,0.1366786663113856,0.43517876866082844,0.48406438114730976,0.21144246442932646,0.27678264487528037,0.1304977160728734,0.06902556507543081,0.1477656813657453,0.2753166536779954,0.10227929886611302,0.07358414579967157,0.10225338830716739,-0.13302555374010375,-0.11356766341283529,-0.22311876658120122,0.05626112592352307,-0.2506934887890564,-0.052381584892099514,-0.1457637506707856,-0.6563653221105675,-0.29014435602723626,-0.6525579839251852,-0.21520828804858824,-0.6520841778883038,-0.6726313601355268,-0.6881644239377761,-0.6762584066190106,-0.6499665203945987,-0.747439000325803,-0.7444156102233234,-0.7514729489859345,-0.6807027671904989,-0.5289372473726536,-0.3698564153715191,0.053927894386294244,-0.6110836998660819,-0.5527130095992872,-0.5684982733404433,-0.17569024118330379,-0.15822043471693248,-0.6885949637297485,0.15464431072457088,0.283692429373373,0.23751611513584409,0.10949150841524069,-0.5311461551734793,0.44060178714390236,0.4429169084900996,0.38056779224246695,0.6750600585010855,0.6503960862490932,0.8160551449075751,0.8281528535088694,0.7928763722884767,0.0,0.00596909840996183,0.02017910130511096,0.030024017233558662,0.03969838966987445,0.04820484111558114,0.060161058684051076,0.02266123364265023,0.08005543709363765,0.07877560130357734,0.09536226475460824,0.096904443192187,0.11666184705037298,0.04354289360382271,0.10549242925494307,0.022372224793344997,-0.025281975651059062,0.04821517791027666,0.07722579399270649,-0.015896561251966642,-0.0619639367893133,-0.09317860838792637,0.09318722024207184,-0.20540013867223275,0.0015301487802244548,0.039235321598037984,-0.21251482832034113,-0.14575745058807396,-0.2201069769029019,-0.25347682094148904,-0.28682142627904983,-0.2935061479761285,-0.3217817038488744,-0.30724409670724745,-0.30461549235228735,-0.3250157132621674,-0.33924547517691056,-0.21339575866472926,-0.3815602576470943,-0.333119088942372,-0.26232458080789806,-0.4007654144255746,-0.42384303342488494,-0.22451113126618272,-0.2407284477525145,-0.35792397264044873,-0.014313673014819742,-0.35129197277762964,-0.40917170164226346,-0.069436728320595,-0.008157273317947945,0.24331737731765024,0.12071609913673652,0.3186583224953131,-0.08834927054223328,0.4191694603564193,0.0009236344808208762,0.5228526315628832,0.3439381307032161,0.4368582557727681,0.3999937723612063,0.5063282852471688,0.5167172702120382,0.3051941397121265,0.513426140688175,0.5910506963514178,0.6635635704980446,0.6408740365670179,0.6868263489878613,0.6250840664133599,0.5865424484545015,0.6822252392730362,0.5798866255373556,0.5698026530182949,0.05420203768273835,0.6243580951252766,0.17313651095317384,0.5846889357400419,0.5221223417852395,-0.5503312485983672,0.1842315550198058,0.43717726249197564,-0.4546105371757991,-0.21953412601944078,-0.335551856110151,0.5098274639159994,-0.20798990965193317,-0.45815573197426973,-0.45271514602152807,-0.1859923804145453,-0.5506479553499022,-0.9171210828723341,-0.6816548852406843,-0.9314714339012834,-0.8721414218379816,-0.9107805713731808,-0.9467732923917749,-0.8400771379185444,-0.7905789851399508,-0.8792201960329165],\"y\":[0.0,0.00900171984741762,0.01654460903104507,0.027590160956196166,0.03918639074093,0.0500150063586614,0.05160848738325456,0.00826151713538605,0.06021428016949602,0.0908477694251169,0.014146497225836517,0.06017267497522222,0.06927796085141168,0.05030896565065893,0.1033304555534545,0.00702335264449564,-0.06629043896759584,0.061458859337758714,-0.09228390718399546,-0.11660483525841242,-0.03323173020630204,-0.18452573600920316,-0.016001044315938077,-0.19194197759773482,-0.17078039403771544,-0.19986702263093925,-0.24920801311303242,-0.2599404984814889,-0.07713515276397775,-0.1909557646322531,-0.2409460112428522,-0.31055750826951845,-0.286592844424978,-0.25034915806983266,-0.27778309943467444,-0.3133665534543891,-0.36361946975477244,-0.14013161148202824,-0.28091322258387247,-0.3876596650593995,-0.33599449163998113,0.01575643710403792,0.10371985515014381,-0.32253331290009707,0.31448215076693636,0.12950768824307624,0.10056474799086357,-0.24800198802333528,0.4539872247293689,0.10341601241449971,-0.01907116217712691,0.11354707913415721,0.2461298702820327,0.07784949923916079,0.47290785339155234,0.39250763782283243,0.04408549014405526,0.3290233890968474,0.32050037619843497,0.44509096508195917,0.5326209952282269,0.6159228328867854,0.6174572909636947,0.6363097849774574,0.6344417401496376,0.5321063237811643,0.6467669213125351,0.061704504574206585,0.680274137026192,0.5480244779084019,0.09386154220215974,0.681776661964885,0.6332739246629026,0.6351940628201627,0.32119475194546554,0.3122044625719129,0.05403763721913262,-0.36109980207222336,0.41411267476259767,0.05335626618308152,-0.33428516600271607,0.6548412476036345,-0.13649071353467362,-0.24933336999134303,-0.2735925475698301,-0.6583644757372716,-0.8531608288477536,-0.5419932886777595,-0.752212776675721,-0.6351713871868421,-0.8494728986021298,-0.9121063796908541,-0.5817499090708201,-0.9210201642138838,-0.9464053635743788,-0.9299144441513653,-0.6818145168805381,-0.9039595347082916,-0.5114166129150922,-0.9956159397404644,-0.0,-0.0026662503969836597,-0.014959767443696915,-0.02922263977455029,-0.037194109336794484,-0.03857620052205913,-0.05244123405496559,-0.002886120063199499,-0.0807843653374086,-0.04335838970825427,-0.06357714826351953,-0.06006053152248107,-0.00826375733673157,-0.03879435094943494,0.08640882723261978,0.018865705458008575,0.05457738477299212,0.1560577832747988,0.14883606599914317,0.16010585506090297,0.17125939387128333,0.11329822408923465,0.21808083185409344,0.15914737211828964,0.23340639463753846,0.21622714906082144,0.20103570222397527,0.18999226752213186,0.28167750275981,0.29167049188260463,0.16715098923945051,0.27096396162399855,0.17555332927508682,0.15750415817259844,0.0354897436955215,0.24258354146510255,0.005715877453676058,0.06480207525616995,0.28328173210982593,0.2568857610355195,-0.045577171900552674,0.06328818021703009,0.35701517238756997,-0.14266020632269388,-0.18831753993907385,-0.22085766002614682,-0.444089269498599,-0.18974879205399275,0.027563166805421084,-0.4475121079778883,-0.4224539976702963,-0.4983487028804887,-0.5206973080880793,-0.5145568104942797,-0.4708730204254387,-0.5460594476172886,-0.5608500011208998,-0.566604827566748,-0.5705562940467495,-0.585038653289912,-0.5634957623778839,-0.6135876652449204,-0.5738968999150746,-0.6342041053557934,-0.6298170116145209,-0.016218055129473243,-0.6002172082754583,-0.17939499974362838,-0.6522836696989357,-0.24607515811590233,0.21798173813349808,0.201903436170409,-0.26758211321354747,0.34822916439415486,0.007310191817025019,-0.14059312828982892,-0.15689495394381905,-0.37627385551501663,0.5839335345150066,0.7070912175896471,0.8062793403006135,0.5440571655270117,0.6168960792936681,0.6161957267558359,0.8300960650800056,0.8438814908514116,0.5295789381716605,0.8650741431027875,0.8424025535967691,0.8670460965465708,0.9024732076780401,0.7501983378761606,0.8182025504723344,0.8284235544355539,0.869890116407878,0.6819958380293839,0.7192337200321938,0.5422712252056892,0.5422756323385348,0.6093825221210935,0.0,0.008148636035122643,0.0009620243036959595,0.004102686279176779,-0.007518266993804861,-0.015068291858710484,-0.007330866265295903,-0.0669772971817161,-0.011003313847743458,-0.0453747446183136,-0.03330283722061552,-0.054361823938844096,-0.032899722970525826,-0.12388363439884158,-0.09417699698859391,-0.1498543449368598,-0.15962645583586868,-0.1648092342122401,-0.16460263661881447,-0.1912597071190848,-0.19228268918925914,-0.19056011012450041,-0.20173957973818205,-0.10855812871702487,-0.2424194133308598,-0.24945859917437424,-0.15430489805905262,-0.23051015354496077,-0.1776084352902772,-0.14682326757517625,0.0977795171898945,-0.10911168756625216,-0.030588720965094317,-0.12927558218650076,-0.1586081652032837,0.13911158230734075,0.1309347644083491,0.30682547924188763,-0.0417573309964311,0.21028532682890905,0.3073019075780259,-0.10440399181711296,0.018404280596670604,0.3718184649729329,0.37360497673370974,0.28018208375485626,0.4644259422914305,0.3193416894818234,0.2601087692390358,0.4900546329858458,0.5049846250568294,0.4540679877046631,0.5111925651780983,0.43018633325572075,0.5382518625622025,0.36460792478105886,0.5656558115760206,0.24108486412466573,0.4742750730036309,0.4053673696531328,0.4553179551596891,0.35112220777039527,0.35384762217369975,0.5584041679387123,0.39282329002581645,0.2858977714568543,-0.06424820894259371,-0.21747403884559477,-0.0076262268992521665,-0.3082801784256808,-0.3948631927116887,-0.22114247626785316,0.4389272392522587,-0.46802239816255176,-0.7455069665827923,-0.42906642553108154,-0.7478979664403504,-0.5129104405528468,-0.5900349520139002,-0.5778471033067842,-0.7867994194987158,-0.6915905788566875,-0.6923739618998773,-0.8091305382792683,-0.7793147566737004,-0.6908296704692094,-0.843419867747955,-0.7499076350882293,-0.7649656550151974,-0.8795394663763532,-0.7233485399589246,0.06166606569906347,-0.6316106125306502,-0.12174539496815225,0.37537980690340933,-0.30216412176503166,-0.2096009204491348,0.5042563669035716,0.5957221487053558,0.4764156241013093],\"z\":[0.0033331690443430986,0.0033331690858309387,0.0033331692096110403,0.0033331694146582764,0.003333169699947518,0.003333170064453636,0.0033331705071515043,0.003333171027015993,0.0033331716230219754,0.0033331722941443236,0.003333173039357909,0.003333173857637603,0.003333174747958278,0.0033331757092948068,0.00333317674062206,0.0033331778409149094,0.003333179009148229,0.0033331802442968885,0.003333181545335761,0.0033331829112397183,0.003333184340983632,0.003333185833542374,0.0033331873878908167,0.003333189003003832,0.0033331906778562917,0.0033331924114230675,0.0033331942026790314,0.003333196050599055,0.0033331979541580126,0.003333199912330772,0.003333201924092209,0.003333203988417193,0.003333206104280598,0.0033332082706572937,0.003333210486522154,0.0033332127508500504,0.0033332150626158527,0.003333217420794436,0.00333321982436067,0.0033332222722894287,0.0033332247635555817,0.003333227297134002,0.0033332298719995625,0.003333232487127133,0.0033332351414915888,0.003333237834067798,0.0033332405638306344,0.00333324332975497,0.0033332461308156766,0.003333248965987626,0.00333325183424569,0.0033332547345647405,0.0033332576659196506,0.003333260627285291,0.0033332636176365343,0.003333266635948251,0.0033332696811953157,0.0033332727523525986,0.0033332758483949707,0.0033332789682973055,0.0033332821110344754,0.0033332852755813508,0.003333288460912804,0.003333291666003708,0.003333294889828933,0.0033332981313633527,0.003333301389581838,0.003333304663459262,0.003333307951970495,0.0033333112540904096,0.003333314568793877,0.003333317895055772,0.0033333212318509635,0.0033333245781543243,0.0033333279329407265,0.003333331295185042,0.0033333346638621435,0.0033333380379469016,0.0033333414164141884,0.003333344798238878,0.0033333481823958388,0.0033333515678599453,0.0033333549536060684,0.0033333583386090816,0.0033333617218438546,0.00333336510228526,0.003333368478908171,0.003333371850687458,0.0033333752165979934,0.0033333785756146503,0.0033333819267122996,0.0033333852688658115,0.0033333886010500613,0.0033333919222399196,0.003333395231410258,0.0033333985275359477,0.003333401809591862,0.003333405076552872,0.0033334083273938507,0.0033334115610896683,0.003333414776615199,0.0033334179729453124,0.0033334211490548826,0.0033334243039187792,0.0033334274365118778,0.0033334305458090465,0.003333433630785158,0.003333436690415085,0.003333439723673701,0.0033334427295358742,0.0033334457069764795,0.003333448654970389,0.003333451572492473,0.0033334544585176032,0.003333457312020654,0.0033334601319764947,0.0033334629173599984,0.0033334656671460375,0.0033334683803094827,0.0033334710558252075,0.003333473692668082,0.00333347628981298,0.0033334788462347723,0.0033334813609083315,0.0033334838328085282,0.0033334862609102358,0.003333488644188326,0.0033334909816176705,0.0033334932721731407,0.0033334955148296088,0.0033334977085619473,0.003333499852345028,0.0033335019451537226,0.003333503985962903,0.0033335059737474417,0.00333350790748221,0.0033335097861420795,0.003333511608701924,0.003333513374136613,0.0033335150814210192,0.0033335167295300157,0.0033335183174384737,0.0033335198441212643,0.0033335213085532614,0.003333522709709334,0.003333524046564358,0.0033335253180932015,0.0033335265232707387,0.003333527661071841,0.0033335287304713805,0.0033335297304832134,0.003333530661017854,0.0033335315228824754,0.0033335323169232313,0.0033335330439862804,0.003333533704917777,0.003333534300563879,0.003333534831770743,0.003333535299384523,0.003333535704251378,0.0033335360472174624,0.0033335363291289344,0.0033335365508319484,0.0033335367131726626,0.0033335368169972327,0.0033335368631518146,0.0033335368524825644,0.0033335367858356394,0.0033335366640571957,0.0033335364879933894,0.0033335362584903765,0.003333535976394315,0.0033335356425513592,0.0033335352578076666,0.003333534823009393,0.0033335343390026952,0.003333533806633729,0.0033335332267486516,0.0033335326001936202,0.003333531927814789,0.003333531210458315,0.0033335304489703543,0.0033335296441970638,0.003333528796984601,0.00333352790817912,0.0033335269786267793,0.0033335260091737332,0.00333352500066614,0.003333523953950154,0.003333522869871934,0.003333521749277634,0.0033335205930134122,0.003333519401925423,0.0033335181768598247,0.0033335169186627734,0.0033335156281804243,0.003333514306258934,0.00333351295374446,0.0033335115714831585,0.0033335101603211847,0.003333508721104695,0.0033335072546798465,0.0033335057618927954,0.003333504243589698,0.0033335027006167104,0.0033335011338199907,0.003333499544045692,0.003333497932139973,0.0033334962989489893,0.0033334946453188984,0.003333492972095855,0.003333491280126016,0.0033334895702555388,0.0033334878433305785,0.0033334861001972915,0.003333484341701835,0.003333482568690365,0.0033334807820090367,0.0033334789825040082,0.0033334771710214353,0.003333475348407474,0.0033334735155082815,0.0033334716731700117,0.0033334698222388243,0.0033334679635608744,0.003333466097982317,0.0033334642263493108,0.00333346234950801,0.0033334604683045717,0.0033334585835851525,0.0033334566961959093,0.003333454806982998,0.003333452916792575,0.0033334510264707955,0.0033334491368638176,0.0033334472488177965,0.0033334453631788893,0.003333443480793252,0.003333441602507041,0.0033334397291664123,0.003333437861617522,0.0033334360007065277,0.0033334341472795854,0.0033334323021828507,0.0033334304662624805,0.0033334286403646314,0.0033334268253354597,0.0033334250220211207,0.0033334232312677713,0.0033334214539215688,0.0033334196908286692,0.003333417942835228,0.003333416210787403,0.0033334144955313484,0.0033334127979132225,0.0033334111187791806,0.0033334094589753793,0.0033334078193479754,0.003333406200743125,0.003333404604006984,0.0033334030299857096,0.0033334014795254577,0.003333399953472385,0.003333398452672647,0.0033333969779724003,0.0033333955302178022,0.003333394110255008,0.003333392718930175,0.0033333913570894585,0.0033333900255790158,0.003333388725245003,0.0033333874569335758,0.0033333862214908914,0.0033333850197631056,0.0033333838525963742,0.003333382720836856,0.003333381625330705,0.0033333805669240784,0.003333379546463132,0.003333378564794023,0.0033333776227629074,0.0033333767212159414,0.0033333758609992805,0.0033333750429590833,0.003333374267941504,0.0033333735367927007,0.0033333728503588283,0.003333372209486044,0.0033333716150205036,0.0033333710678083647,0.0033333705686957814,0.0033333701185289115,0.0033333697181539123,0.003333369368416939,0.003333369070164147,0.0033333688242416946,0.0033333686314957365,0.0033333684927724307,0.0033333684089179327,0.0033333683807783973],\"type\":\"scatter3d\"}],                        {\"template\":{\"data\":{\"histogram2dcontour\":[{\"type\":\"histogram2dcontour\",\"colorbar\":{\"outlinewidth\":0,\"ticks\":\"\"},\"colorscale\":[[0.0,\"#0d0887\"],[0.1111111111111111,\"#46039f\"],[0.2222222222222222,\"#7201a8\"],[0.3333333333333333,\"#9c179e\"],[0.4444444444444444,\"#bd3786\"],[0.5555555555555556,\"#d8576b\"],[0.6666666666666666,\"#ed7953\"],[0.7777777777777778,\"#fb9f3a\"],[0.8888888888888888,\"#fdca26\"],[1.0,\"#f0f921\"]]}],\"choropleth\":[{\"type\":\"choropleth\",\"colorbar\":{\"outlinewidth\":0,\"ticks\":\"\"}}],\"histogram2d\":[{\"type\":\"histogram2d\",\"colorbar\":{\"outlinewidth\":0,\"ticks\":\"\"},\"colorscale\":[[0.0,\"#0d0887\"],[0.1111111111111111,\"#46039f\"],[0.2222222222222222,\"#7201a8\"],[0.3333333333333333,\"#9c179e\"],[0.4444444444444444,\"#bd3786\"],[0.5555555555555556,\"#d8576b\"],[0.6666666666666666,\"#ed7953\"],[0.7777777777777778,\"#fb9f3a\"],[0.8888888888888888,\"#fdca26\"],[1.0,\"#f0f921\"]]}],\"heatmap\":[{\"type\":\"heatmap\",\"colorbar\":{\"outlinewidth\":0,\"ticks\":\"\"},\"colorscale\":[[0.0,\"#0d0887\"],[0.1111111111111111,\"#46039f\"],[0.2222222222222222,\"#7201a8\"],[0.3333333333333333,\"#9c179e\"],[0.4444444444444444,\"#bd3786\"],[0.5555555555555556,\"#d8576b\"],[0.6666666666666666,\"#ed7953\"],[0.7777777777777778,\"#fb9f3a\"],[0.8888888888888888,\"#fdca26\"],[1.0,\"#f0f921\"]]}],\"heatmapgl\":[{\"type\":\"heatmapgl\",\"colorbar\":{\"outlinewidth\":0,\"ticks\":\"\"},\"colorscale\":[[0.0,\"#0d0887\"],[0.1111111111111111,\"#46039f\"],[0.2222222222222222,\"#7201a8\"],[0.3333333333333333,\"#9c179e\"],[0.4444444444444444,\"#bd3786\"],[0.5555555555555556,\"#d8576b\"],[0.6666666666666666,\"#ed7953\"],[0.7777777777777778,\"#fb9f3a\"],[0.8888888888888888,\"#fdca26\"],[1.0,\"#f0f921\"]]}],\"contourcarpet\":[{\"type\":\"contourcarpet\",\"colorbar\":{\"outlinewidth\":0,\"ticks\":\"\"}}],\"contour\":[{\"type\":\"contour\",\"colorbar\":{\"outlinewidth\":0,\"ticks\":\"\"},\"colorscale\":[[0.0,\"#0d0887\"],[0.1111111111111111,\"#46039f\"],[0.2222222222222222,\"#7201a8\"],[0.3333333333333333,\"#9c179e\"],[0.4444444444444444,\"#bd3786\"],[0.5555555555555556,\"#d8576b\"],[0.6666666666666666,\"#ed7953\"],[0.7777777777777778,\"#fb9f3a\"],[0.8888888888888888,\"#fdca26\"],[1.0,\"#f0f921\"]]}],\"surface\":[{\"type\":\"surface\",\"colorbar\":{\"outlinewidth\":0,\"ticks\":\"\"},\"colorscale\":[[0.0,\"#0d0887\"],[0.1111111111111111,\"#46039f\"],[0.2222222222222222,\"#7201a8\"],[0.3333333333333333,\"#9c179e\"],[0.4444444444444444,\"#bd3786\"],[0.5555555555555556,\"#d8576b\"],[0.6666666666666666,\"#ed7953\"],[0.7777777777777778,\"#fb9f3a\"],[0.8888888888888888,\"#fdca26\"],[1.0,\"#f0f921\"]]}],\"mesh3d\":[{\"type\":\"mesh3d\",\"colorbar\":{\"outlinewidth\":0,\"ticks\":\"\"}}],\"scatter\":[{\"marker\":{\"line\":{\"color\":\"#283442\"}},\"type\":\"scatter\"}],\"parcoords\":[{\"type\":\"parcoords\",\"line\":{\"colorbar\":{\"outlinewidth\":0,\"ticks\":\"\"}}}],\"scatterpolargl\":[{\"type\":\"scatterpolargl\",\"marker\":{\"colorbar\":{\"outlinewidth\":0,\"ticks\":\"\"}}}],\"bar\":[{\"error_x\":{\"color\":\"#f2f5fa\"},\"error_y\":{\"color\":\"#f2f5fa\"},\"marker\":{\"line\":{\"color\":\"rgb(17,17,17)\",\"width\":0.5},\"pattern\":{\"fillmode\":\"overlay\",\"size\":10,\"solidity\":0.2}},\"type\":\"bar\"}],\"scattergeo\":[{\"type\":\"scattergeo\",\"marker\":{\"colorbar\":{\"outlinewidth\":0,\"ticks\":\"\"}}}],\"scatterpolar\":[{\"type\":\"scatterpolar\",\"marker\":{\"colorbar\":{\"outlinewidth\":0,\"ticks\":\"\"}}}],\"histogram\":[{\"marker\":{\"pattern\":{\"fillmode\":\"overlay\",\"size\":10,\"solidity\":0.2}},\"type\":\"histogram\"}],\"scattergl\":[{\"marker\":{\"line\":{\"color\":\"#283442\"}},\"type\":\"scattergl\"}],\"scatter3d\":[{\"type\":\"scatter3d\",\"line\":{\"colorbar\":{\"outlinewidth\":0,\"ticks\":\"\"}},\"marker\":{\"colorbar\":{\"outlinewidth\":0,\"ticks\":\"\"}}}],\"scattermapbox\":[{\"type\":\"scattermapbox\",\"marker\":{\"colorbar\":{\"outlinewidth\":0,\"ticks\":\"\"}}}],\"scatterternary\":[{\"type\":\"scatterternary\",\"marker\":{\"colorbar\":{\"outlinewidth\":0,\"ticks\":\"\"}}}],\"scattercarpet\":[{\"type\":\"scattercarpet\",\"marker\":{\"colorbar\":{\"outlinewidth\":0,\"ticks\":\"\"}}}],\"carpet\":[{\"aaxis\":{\"endlinecolor\":\"#A2B1C6\",\"gridcolor\":\"#506784\",\"linecolor\":\"#506784\",\"minorgridcolor\":\"#506784\",\"startlinecolor\":\"#A2B1C6\"},\"baxis\":{\"endlinecolor\":\"#A2B1C6\",\"gridcolor\":\"#506784\",\"linecolor\":\"#506784\",\"minorgridcolor\":\"#506784\",\"startlinecolor\":\"#A2B1C6\"},\"type\":\"carpet\"}],\"table\":[{\"cells\":{\"fill\":{\"color\":\"#506784\"},\"line\":{\"color\":\"rgb(17,17,17)\"}},\"header\":{\"fill\":{\"color\":\"#2a3f5f\"},\"line\":{\"color\":\"rgb(17,17,17)\"}},\"type\":\"table\"}],\"barpolar\":[{\"marker\":{\"line\":{\"color\":\"rgb(17,17,17)\",\"width\":0.5},\"pattern\":{\"fillmode\":\"overlay\",\"size\":10,\"solidity\":0.2}},\"type\":\"barpolar\"}],\"pie\":[{\"automargin\":true,\"type\":\"pie\"}]},\"layout\":{\"autotypenumbers\":\"strict\",\"colorway\":[\"#636efa\",\"#EF553B\",\"#00cc96\",\"#ab63fa\",\"#FFA15A\",\"#19d3f3\",\"#FF6692\",\"#B6E880\",\"#FF97FF\",\"#FECB52\"],\"font\":{\"color\":\"#f2f5fa\"},\"hovermode\":\"closest\",\"hoverlabel\":{\"align\":\"left\"},\"paper_bgcolor\":\"rgb(17,17,17)\",\"plot_bgcolor\":\"rgb(17,17,17)\",\"polar\":{\"bgcolor\":\"rgb(17,17,17)\",\"angularaxis\":{\"gridcolor\":\"#506784\",\"linecolor\":\"#506784\",\"ticks\":\"\"},\"radialaxis\":{\"gridcolor\":\"#506784\",\"linecolor\":\"#506784\",\"ticks\":\"\"}},\"ternary\":{\"bgcolor\":\"rgb(17,17,17)\",\"aaxis\":{\"gridcolor\":\"#506784\",\"linecolor\":\"#506784\",\"ticks\":\"\"},\"baxis\":{\"gridcolor\":\"#506784\",\"linecolor\":\"#506784\",\"ticks\":\"\"},\"caxis\":{\"gridcolor\":\"#506784\",\"linecolor\":\"#506784\",\"ticks\":\"\"}},\"coloraxis\":{\"colorbar\":{\"outlinewidth\":0,\"ticks\":\"\"}},\"colorscale\":{\"sequential\":[[0.0,\"#0d0887\"],[0.1111111111111111,\"#46039f\"],[0.2222222222222222,\"#7201a8\"],[0.3333333333333333,\"#9c179e\"],[0.4444444444444444,\"#bd3786\"],[0.5555555555555556,\"#d8576b\"],[0.6666666666666666,\"#ed7953\"],[0.7777777777777778,\"#fb9f3a\"],[0.8888888888888888,\"#fdca26\"],[1.0,\"#f0f921\"]],\"sequentialminus\":[[0.0,\"#0d0887\"],[0.1111111111111111,\"#46039f\"],[0.2222222222222222,\"#7201a8\"],[0.3333333333333333,\"#9c179e\"],[0.4444444444444444,\"#bd3786\"],[0.5555555555555556,\"#d8576b\"],[0.6666666666666666,\"#ed7953\"],[0.7777777777777778,\"#fb9f3a\"],[0.8888888888888888,\"#fdca26\"],[1.0,\"#f0f921\"]],\"diverging\":[[0,\"#8e0152\"],[0.1,\"#c51b7d\"],[0.2,\"#de77ae\"],[0.3,\"#f1b6da\"],[0.4,\"#fde0ef\"],[0.5,\"#f7f7f7\"],[0.6,\"#e6f5d0\"],[0.7,\"#b8e186\"],[0.8,\"#7fbc41\"],[0.9,\"#4d9221\"],[1,\"#276419\"]]},\"xaxis\":{\"gridcolor\":\"#283442\",\"linecolor\":\"#506784\",\"ticks\":\"\",\"title\":{\"standoff\":15},\"zerolinecolor\":\"#283442\",\"automargin\":true,\"zerolinewidth\":2},\"yaxis\":{\"gridcolor\":\"#283442\",\"linecolor\":\"#506784\",\"ticks\":\"\",\"title\":{\"standoff\":15},\"zerolinecolor\":\"#283442\",\"automargin\":true,\"zerolinewidth\":2},\"scene\":{\"xaxis\":{\"backgroundcolor\":\"rgb(17,17,17)\",\"gridcolor\":\"#506784\",\"linecolor\":\"#506784\",\"showbackground\":true,\"ticks\":\"\",\"zerolinecolor\":\"#C8D4E3\",\"gridwidth\":2},\"yaxis\":{\"backgroundcolor\":\"rgb(17,17,17)\",\"gridcolor\":\"#506784\",\"linecolor\":\"#506784\",\"showbackground\":true,\"ticks\":\"\",\"zerolinecolor\":\"#C8D4E3\",\"gridwidth\":2},\"zaxis\":{\"backgroundcolor\":\"rgb(17,17,17)\",\"gridcolor\":\"#506784\",\"linecolor\":\"#506784\",\"showbackground\":true,\"ticks\":\"\",\"zerolinecolor\":\"#C8D4E3\",\"gridwidth\":2}},\"shapedefaults\":{\"line\":{\"color\":\"#f2f5fa\"}},\"annotationdefaults\":{\"arrowcolor\":\"#f2f5fa\",\"arrowhead\":0,\"arrowwidth\":1},\"geo\":{\"bgcolor\":\"rgb(17,17,17)\",\"landcolor\":\"rgb(17,17,17)\",\"subunitcolor\":\"#506784\",\"showland\":true,\"showlakes\":true,\"lakecolor\":\"rgb(17,17,17)\"},\"title\":{\"x\":0.05},\"updatemenudefaults\":{\"bgcolor\":\"#506784\",\"borderwidth\":0},\"sliderdefaults\":{\"bgcolor\":\"#C8D4E3\",\"borderwidth\":1,\"bordercolor\":\"rgb(17,17,17)\",\"tickwidth\":0},\"mapbox\":{\"style\":\"dark\"}}},\"scene\":{\"camera\":{\"eye\":{\"x\":1.5,\"y\":1.5,\"z\":1.5}},\"xaxis\":{\"title\":{\"text\":\"Inputs Feature 1\"}},\"yaxis\":{\"title\":{\"text\":\"Inputs Feature 1\"}},\"zaxis\":{\"title\":{\"text\":\"Values\"}}},\"title\":{\"font\":{\"size\":20},\"text\":\"3D Scatter Plot of Predictions, and True Values\",\"y\":0.95,\"x\":0.5,\"xanchor\":\"center\",\"yanchor\":\"top\"},\"margin\":{\"l\":0,\"r\":0,\"t\":0,\"b\":0}},                        {\"responsive\": true}                    ).then(function(){\n",
       "                            \n",
       "var gd = document.getElementById('7e845107-ee3c-468d-9ea6-032f1e66d7f7');\n",
       "var x = new MutationObserver(function (mutations, observer) {{\n",
       "        var display = window.getComputedStyle(gd).display;\n",
       "        if (!display || display === 'none') {{\n",
       "            console.log([gd, 'removed!']);\n",
       "            Plotly.purge(gd);\n",
       "            observer.disconnect();\n",
       "        }}\n",
       "}});\n",
       "\n",
       "// Listen for the removal of the full notebook cells\n",
       "var notebookContainer = gd.closest('#notebook-container');\n",
       "if (notebookContainer) {{\n",
       "    x.observe(notebookContainer, {childList: true});\n",
       "}}\n",
       "\n",
       "// Listen for the clearing of the current output cell\n",
       "var outputEl = gd.closest('.output');\n",
       "if (outputEl) {{\n",
       "    x.observe(outputEl, {childList: true});\n",
       "}}\n",
       "\n",
       "                        })                };                });            </script>        </div>"
      ]
     },
     "metadata": {},
     "output_type": "display_data"
    }
   ],
   "execution_count": 92
  },
  {
   "metadata": {
    "ExecuteTime": {
     "end_time": "2024-09-11T18:33:43.203112Z",
     "start_time": "2024-09-11T18:33:43.194698Z"
    }
   },
   "cell_type": "code",
   "source": [
    "# Display the 3D scatter plot image\n",
    "from src.utils.mermaid import display_image_from_file\n",
    "\n",
    "display_image_from_file('../assets/images/spiral_scatter_plot_3d_true_values.png')"
   ],
   "id": "56742b5ed8edd761",
   "outputs": [
    {
     "data": {
      "image/png": "[encoded data removed]",
      "text/plain": [
       "<IPython.core.display.Image object>"
      ]
     },
     "metadata": {},
     "output_type": "display_data"
    }
   ],
   "execution_count": 93
  },
  {
   "metadata": {
    "ExecuteTime": {
     "end_time": "2024-09-11T18:33:46.202866Z",
     "start_time": "2024-09-11T18:33:43.311922Z"
    }
   },
   "cell_type": "code",
   "source": [
    "# Graph the predictions\n",
    "import plotly.graph_objects as go\n",
    "from src.utils.plot import get_camera_view\n",
    "# Graph the X inputs and y labels\n",
    "fig = go.Figure()\n",
    "\n",
    "# Reshape the arrays\n",
    "X = X.reshape(-1, 2)\n",
    "y = y.reshape(-1)\n",
    "z = predictions.reshape(-1,)\n",
    "loss = loss.reshape(-1,)\n",
    "print(f\"Inputs was reshaped to (-1, 2): {X.shape}\")\n",
    "print(f\"Truth values was reshaped to (-1,): {y.shape}\")\n",
    "print(f\"Predictions was reshaped to (-1, 1): {z.shape}\")\n",
    "print(f\"Loss has to be reshaped to (-1,) match the indexes of the input: {loss.shape}\")\n",
    "\n",
    "# Add scatter plot for errors\n",
    "fig.add_trace(\n",
    "    go.Scatter3d(\n",
    "        name='Errors',\n",
    "        x=X[:,0], \n",
    "        y=X[:,1], \n",
    "        z=loss, \n",
    "        mode='markers', \n",
    "        marker=dict(\n",
    "            size=5, \n",
    "            color=loss, \n",
    "            opacity=0.8, \n",
    "            colorscale='turbo'\n",
    "        )\n",
    "    )\n",
    ")\n",
    "\n",
    "# TODO: Set the camera view (orientation)\n",
    "camera = get_camera_view('default')\n",
    "\n",
    "# Adjust the camera view\n",
    "fig.update_layout(scene_camera=camera)\n",
    "\n",
    "# Set plot title and labels\n",
    "fig.update_layout(\n",
    "    title={\n",
    "        'text': '3D Scatter Plot of Errors',\n",
    "        'y': 0.95,\n",
    "        'x': 0.5,\n",
    "        'xanchor': 'center',\n",
    "        'yanchor': 'top',\n",
    "        'font': {\n",
    "            'size': 20  # Adjust the size as needed\n",
    "        }\n",
    "    },\n",
    "    margin=dict(l=0, r=0, t=0, b=0),\n",
    "    scene=dict(\n",
    "        xaxis_title='Inputs Feature 1', \n",
    "        yaxis_title='Inputs Feature 2', \n",
    "        zaxis_title='Values'),\n",
    "    \n",
    ")\n",
    "\n",
    "# Save plot to file\n",
    "fig.write_image('../assets/images/spiral_scatter_plot_3d_error_values.png')\n",
    "fig.write_image('../assets/images/spiral_scatter_plot_3d_error_values.svg')\n",
    "\n",
    "# Display the plot\n",
    "fig.show()\n"
   ],
   "id": "84360bd321c0d8b0",
   "outputs": [
    {
     "name": "stdout",
     "output_type": "stream",
     "text": [
      "Inputs was reshaped to (-1, 2): (300, 2)\n",
      "Truth values was reshaped to (-1,): (300,)\n",
      "Predictions was reshaped to (-1, 1): (300,)\n",
      "Loss has to be reshaped to (-1,) match the indexes of the input: (300,)\n"
     ]
    },
    {
     "data": {
      "application/vnd.plotly.v1+json": {
       "data": [
        {
         "marker": {
          "color": [
           0.0,
           0.0,
           0.0,
           0.0,
           0.0,
           0.0,
           0.0,
           0.0,
           0.0,
           0.0,
           0.0,
           0.0,
           0.0,
           0.0,
           0.0,
           0.0,
           0.0,
           0.0,
           0.0,
           0.0,
           0.0,
           0.0,
           0.0,
           0.0,
           0.0,
           0.0,
           0.0,
           0.0,
           0.0,
           0.0,
           0.0,
           0.0,
           0.0,
           0.0,
           0.0,
           0.0,
           0.0,
           0.0,
           0.0,
           0.0,
           0.0,
           0.0,
           0.0,
           0.0,
           0.0,
           0.0,
           0.0,
           0.0,
           0.0,
           0.0,
           0.0,
           0.0,
           0.0,
           0.0,
           0.0,
           0.0,
           0.0,
           0.0,
           0.0,
           0.0,
           0.0,
           0.0,
           0.0,
           0.0,
           0.0,
           0.0,
           0.0,
           0.0,
           0.0,
           0.0,
           0.0,
           0.0,
           0.0,
           0.0,
           0.0,
           0.0,
           0.0,
           0.0,
           0.0,
           0.0,
           0.0,
           0.0,
           0.0,
           0.0,
           0.0,
           0.0,
           0.0,
           0.0,
           0.0,
           0.0,
           0.0,
           0.0,
           0.0,
           0.0,
           0.0,
           0.0,
           0.0,
           0.0,
           0.0,
           0.0,
           0.12754023563855704,
           0.12754019275635686,
           0.12754015014547773,
           0.127540107819672,
           0.12754006579269203,
           0.12754002407829015,
           0.12753998269021855,
           0.1275399416422295,
           0.12753990094807505,
           0.12753986062150743,
           0.1275398206762787,
           0.1275397811261408,
           0.12753974198484586,
           0.1275397032661458,
           0.1275396649837925,
           0.12753962715153788,
           0.12753958978313384,
           0.12753955289233215,
           0.12753951649288464,
           0.1275394805985431,
           0.12753944522305918,
           0.12753941038018465,
           0.12753937608367125,
           0.12753934234727057,
           0.12753930918473433,
           0.1275392766098141,
           0.1275392446362615,
           0.12753921327782813,
           0.12753918254826563,
           0.1275391524613255,
           0.12753912303075932,
           0.12753909427031862,
           0.127539066193755,
           0.12753903881481995,
           0.12753901214726507,
           0.12753898620484183,
           0.12753896100130185,
           0.12753893655039664,
           0.12753891286587776,
           0.12753888996149682,
           0.12753886785100535,
           0.12753884654815495,
           0.12753882606669725,
           0.1275388064203839,
           0.12753878762296653,
           0.1275387696881968,
           0.12753875262982645,
           0.12753873646160718,
           0.12753872119729082,
           0.12753870685062912,
           0.1275386934348509,
           0.12753868095115592,
           0.1275386693887146,
           0.12753865873617462,
           0.12753864898218353,
           0.12753864011538912,
           0.1275386321244391,
           0.1275386249979814,
           0.12753861872466385,
           0.12753861329313443,
           0.12753860869204112,
           0.127538604910032,
           0.12753860193575517,
           0.12753859975785875,
           0.12753859836499098,
           0.1275385977458001,
           0.12753859788893437,
           0.1275385987830421,
           0.1275386004167717,
           0.12753860277877152,
           0.12753860585769,
           0.1275386096421756,
           0.1275386141208768,
           0.12753861928244214,
           0.12753862511552014,
           0.1275386316087594,
           0.12753863875080845,
           0.127538646530316,
           0.12753865493593056,
           0.12753866395630087,
           0.12753867358007556,
           0.12753868379590336,
           0.12753869459243292,
           0.12753870595831293,
           0.12753871788219215,
           0.1275387303527193,
           0.1275387433585431,
           0.12753875688831232,
           0.12753877093067564,
           0.12753878547428188,
           0.12753880050777977,
           0.12753881601981806,
           0.1275388319990455,
           0.1275388484341108,
           0.12753886531366282,
           0.1275388826263502,
           0.1275389003608217,
           0.1275389185057261,
           0.1275389370497121,
           0.12753895598142836,
           0.2550779505790475,
           0.25507798992529357,
           0.25507802997889256,
           0.2550780707171418,
           0.25507811211733844,
           0.25507815415678,
           0.25507819681276367,
           0.25507824006258667,
           0.25507828388354625,
           0.2550783282529396,
           0.2550783731480638,
           0.25507841854621605,
           0.25507846442469334,
           0.25507851076079274,
           0.2550785575318113,
           0.25507860471504584,
           0.2550786522877934,
           0.2550787002273508,
           0.2550787485110149,
           0.2550787971160824,
           0.2550788460198501,
           0.25507889519961463,
           0.25507894463267267,
           0.2550789942963208,
           0.25507904416785554,
           0.2550790942245735,
           0.25507914444377094,
           0.25507919480274444,
           0.2550792452787902,
           0.25507929584920463,
           0.25507934649128383,
           0.25507939718232414,
           0.25507944789962156,
           0.2550794986204723,
           0.25507954932217236,
           0.2550795999820177,
           0.25507965057730425,
           0.2550797010853279,
           0.2550797514833846,
           0.25507980174876993,
           0.25507985185877974,
           0.25507990179070966,
           0.2550799515218554,
           0.25508000102951245,
           0.2550800502909764,
           0.25508009928354275,
           0.25508014798450684,
           0.25508019637116414,
           0.25508024442081,
           0.2550802921107397,
           0.2550803394182484,
           0.25508038632063157,
           0.2550804327951841,
           0.25508047881920126,
           0.25508052436997813,
           0.2550805694248098,
           0.2550806139609911,
           0.2550806579558172,
           0.2550807013865829,
           0.25508074423058325,
           0.25508078646511295,
           0.255080828067467,
           0.25508086901494015,
           0.25508090928482724,
           0.2550809488544229,
           0.255080987701022,
           0.25508102580191916,
           0.2550810631344092,
           0.2550810996757866,
           0.2550811354033462,
           0.25508117029438254,
           0.2550812043261903,
           0.2550812374760641,
           0.2550812697212985,
           0.2550813010391882,
           0.2550813314070277,
           0.2550813608021117,
           0.25508138920173473,
           0.2550814165831915,
           0.2550814429237765,
           0.2550814682007844,
           0.25508149239150985,
           0.25508151547324753,
           0.2550815374232921,
           0.2550815582189382,
           0.2550815778374805,
           0.25508159625621385,
           0.25508161345243296,
           0.25508162940343265,
           0.25508164408650774,
           0.2550816574789531,
           0.25508166955806366,
           0.2550816803011343,
           0.25508168968546013,
           0.2550816976883362,
           0.25508170428705756,
           0.2550817094589194,
           0.255081713181217,
           0.2550817154312456,
           0.2550817161863006
          ],
          "colorscale": [
           [
            0.0,
            "#30123b"
           ],
           [
            0.07142857142857142,
            "#4145ab"
           ],
           [
            0.14285714285714285,
            "#4675ed"
           ],
           [
            0.21428571428571427,
            "#39a2fc"
           ],
           [
            0.2857142857142857,
            "#1bcfd4"
           ],
           [
            0.35714285714285715,
            "#24eca6"
           ],
           [
            0.42857142857142855,
            "#61fc6c"
           ],
           [
            0.5,
            "#a4fc3b"
           ],
           [
            0.5714285714285714,
            "#d1e834"
           ],
           [
            0.6428571428571429,
            "#f3c63a"
           ],
           [
            0.7142857142857143,
            "#fe9b2d"
           ],
           [
            0.7857142857142857,
            "#f36315"
           ],
           [
            0.8571428571428571,
            "#d93806"
           ],
           [
            0.9285714285714286,
            "#b11901"
           ],
           [
            1.0,
            "#7a0402"
           ]
          ],
          "opacity": 0.8,
          "size": 5
         },
         "mode": "markers",
         "name": "Errors",
         "x": [
          -0.0,
          -0.004582515122649984,
          -0.011592994964748946,
          -0.01253222502022532,
          0.009844453345436968,
          -0.00701849452951002,
          0.03177512568343273,
          0.07022276826355126,
          0.05389050368622246,
          -0.0033385027180088084,
          0.10001458454800585,
          0.09340732411685898,
          0.0994632719601172,
          0.12129363722149851,
          0.09654416785603548,
          0.1513522832873372,
          0.14739525568017692,
          0.16034212070272189,
          0.15665737044430797,
          0.15243453880690597,
          0.1992681964884984,
          0.10462151490986037,
          0.2216453983961366,
          0.13089064715626267,
          0.17205688108091033,
          0.1543443436851062,
          0.0828729148835332,
          0.08252940408394611,
          0.2721066073723183,
          0.22213389342864154,
          0.1837726427431369,
          0.040065612696781085,
          -0.1494780127863809,
          -0.22008273481769774,
          -0.20194974107100103,
          -0.16367238427873218,
          -0.003505163895717973,
          -0.34647186897576443,
          -0.26157153187074134,
          -0.07005876235968785,
          -0.2244022051690305,
          -0.4138415706485235,
          -0.41136823671100603,
          -0.2909063097062994,
          -0.3140570665444941,
          -0.43570555302161124,
          -0.4536331872449286,
          -0.4048211688086206,
          -0.17021648875005305,
          -0.4840249280016931,
          -0.5046903044689723,
          -0.5024819841377433,
          -0.4640154116396399,
          -0.5296629714108216,
          -0.2718065918214989,
          -0.39316628741460297,
          -0.5639360068563977,
          -0.4724832224211408,
          -0.490417976302749,
          -0.3963103238861374,
          -0.28917872269695477,
          -0.01715229312984231,
          -0.10464879783894865,
          -0.008278600599892716,
          -0.12409761272707925,
          0.384631410019497,
          0.1616693970433167,
          0.6739488425932418,
          0.09495099522376801,
          0.43062272363085397,
          0.7008130961197158,
          0.2225215834723647,
          0.3576167727844365,
          0.3744977051018187,
          0.6749462418853286,
          0.6902531434312098,
          0.7657725206576843,
          0.688872415290625,
          0.6702713457923702,
          0.7961939881981522,
          0.7356956029357987,
          0.49051445242747066,
          0.8169594413108873,
          0.8004500803123067,
          0.8031647751380825,
          0.5511133219681809,
          0.16350374903595105,
          0.6917451922006879,
          -0.4736025711458138,
          0.6361919108138768,
          0.32379326047994156,
          0.11391109004380326,
          0.7246739899637119,
          -0.18488599319984964,
          -0.07653461252312414,
          -0.23681961960857045,
          -0.689522427199032,
          -0.3779698940738159,
          -0.8475571120800622,
          0.09353555759555832,
          -0.0,
          -0.009742767259936603,
          -0.01357670719553671,
          -0.008019412082767918,
          -0.015782417800004757,
          -0.03259811159867374,
          -0.03038110519677993,
          -0.07064814335108528,
          0.0019576110230110893,
          -0.07990314669538681,
          -0.07849195324840162,
          -0.09347947135913177,
          -0.1209300981700651,
          -0.12545173091540726,
          -0.11194406624820298,
          -0.15033604456759858,
          -0.15212196674669323,
          -0.07164325049787018,
          -0.10443024800108501,
          -0.10582575963409267,
          -0.10715587727756182,
          -0.17932908590074795,
          -0.04270207052602193,
          0.16925187805444655,
          -0.06550548265048903,
          -0.13044087998772425,
          -0.1689887577691245,
          -0.19566068478632823,
          0.025487683429303458,
          0.027127381388828746,
          0.2527605810859565,
          0.15693868472868225,
          0.2714040592227722,
          0.2937746607000887,
          0.34159570597799493,
          0.2571778987580704,
          0.3635914378854544,
          0.3680765077678866,
          0.25900456590670234,
          0.29866026162604725,
          0.40146154174301735,
          0.4092770664865881,
          0.2291763539551208,
          0.410246614232483,
          0.4025759162553396,
          0.3972825999911258,
          0.1366786663113856,
          0.43517876866082844,
          0.48406438114730976,
          0.21144246442932646,
          0.27678264487528037,
          0.1304977160728734,
          0.06902556507543081,
          0.1477656813657453,
          0.2753166536779954,
          0.10227929886611302,
          0.07358414579967157,
          0.10225338830716739,
          -0.13302555374010375,
          -0.11356766341283529,
          -0.22311876658120122,
          0.05626112592352307,
          -0.2506934887890564,
          -0.052381584892099514,
          -0.1457637506707856,
          -0.6563653221105675,
          -0.29014435602723626,
          -0.6525579839251852,
          -0.21520828804858824,
          -0.6520841778883038,
          -0.6726313601355268,
          -0.6881644239377761,
          -0.6762584066190106,
          -0.6499665203945987,
          -0.747439000325803,
          -0.7444156102233234,
          -0.7514729489859345,
          -0.6807027671904989,
          -0.5289372473726536,
          -0.3698564153715191,
          0.053927894386294244,
          -0.6110836998660819,
          -0.5527130095992872,
          -0.5684982733404433,
          -0.17569024118330379,
          -0.15822043471693248,
          -0.6885949637297485,
          0.15464431072457088,
          0.283692429373373,
          0.23751611513584409,
          0.10949150841524069,
          -0.5311461551734793,
          0.44060178714390236,
          0.4429169084900996,
          0.38056779224246695,
          0.6750600585010855,
          0.6503960862490932,
          0.8160551449075751,
          0.8281528535088694,
          0.7928763722884767,
          0.0,
          0.00596909840996183,
          0.02017910130511096,
          0.030024017233558662,
          0.03969838966987445,
          0.04820484111558114,
          0.060161058684051076,
          0.02266123364265023,
          0.08005543709363765,
          0.07877560130357734,
          0.09536226475460824,
          0.096904443192187,
          0.11666184705037298,
          0.04354289360382271,
          0.10549242925494307,
          0.022372224793344997,
          -0.025281975651059062,
          0.04821517791027666,
          0.07722579399270649,
          -0.015896561251966642,
          -0.0619639367893133,
          -0.09317860838792637,
          0.09318722024207184,
          -0.20540013867223275,
          0.0015301487802244548,
          0.039235321598037984,
          -0.21251482832034113,
          -0.14575745058807396,
          -0.2201069769029019,
          -0.25347682094148904,
          -0.28682142627904983,
          -0.2935061479761285,
          -0.3217817038488744,
          -0.30724409670724745,
          -0.30461549235228735,
          -0.3250157132621674,
          -0.33924547517691056,
          -0.21339575866472926,
          -0.3815602576470943,
          -0.333119088942372,
          -0.26232458080789806,
          -0.4007654144255746,
          -0.42384303342488494,
          -0.22451113126618272,
          -0.2407284477525145,
          -0.35792397264044873,
          -0.014313673014819742,
          -0.35129197277762964,
          -0.40917170164226346,
          -0.069436728320595,
          -0.008157273317947945,
          0.24331737731765024,
          0.12071609913673652,
          0.3186583224953131,
          -0.08834927054223328,
          0.4191694603564193,
          9.236344808208762E-4,
          0.5228526315628832,
          0.3439381307032161,
          0.4368582557727681,
          0.3999937723612063,
          0.5063282852471688,
          0.5167172702120382,
          0.3051941397121265,
          0.513426140688175,
          0.5910506963514178,
          0.6635635704980446,
          0.6408740365670179,
          0.6868263489878613,
          0.6250840664133599,
          0.5865424484545015,
          0.6822252392730362,
          0.5798866255373556,
          0.5698026530182949,
          0.05420203768273835,
          0.6243580951252766,
          0.17313651095317384,
          0.5846889357400419,
          0.5221223417852395,
          -0.5503312485983672,
          0.1842315550198058,
          0.43717726249197564,
          -0.4546105371757991,
          -0.21953412601944078,
          -0.335551856110151,
          0.5098274639159994,
          -0.20798990965193317,
          -0.45815573197426973,
          -0.45271514602152807,
          -0.1859923804145453,
          -0.5506479553499022,
          -0.9171210828723341,
          -0.6816548852406843,
          -0.9314714339012834,
          -0.8721414218379816,
          -0.9107805713731808,
          -0.9467732923917749,
          -0.8400771379185444,
          -0.7905789851399508,
          -0.8792201960329165
         ],
         "y": [
          0.0,
          0.00900171984741762,
          0.01654460903104507,
          0.027590160956196166,
          0.03918639074093,
          0.0500150063586614,
          0.05160848738325456,
          0.00826151713538605,
          0.06021428016949602,
          0.0908477694251169,
          0.014146497225836517,
          0.06017267497522222,
          0.06927796085141168,
          0.05030896565065893,
          0.1033304555534545,
          0.00702335264449564,
          -0.06629043896759584,
          0.061458859337758714,
          -0.09228390718399546,
          -0.11660483525841242,
          -0.03323173020630204,
          -0.18452573600920316,
          -0.016001044315938077,
          -0.19194197759773482,
          -0.17078039403771544,
          -0.19986702263093925,
          -0.24920801311303242,
          -0.2599404984814889,
          -0.07713515276397775,
          -0.1909557646322531,
          -0.2409460112428522,
          -0.31055750826951845,
          -0.286592844424978,
          -0.25034915806983266,
          -0.27778309943467444,
          -0.3133665534543891,
          -0.36361946975477244,
          -0.14013161148202824,
          -0.28091322258387247,
          -0.3876596650593995,
          -0.33599449163998113,
          0.01575643710403792,
          0.10371985515014381,
          -0.32253331290009707,
          0.31448215076693636,
          0.12950768824307624,
          0.10056474799086357,
          -0.24800198802333528,
          0.4539872247293689,
          0.10341601241449971,
          -0.01907116217712691,
          0.11354707913415721,
          0.2461298702820327,
          0.07784949923916079,
          0.47290785339155234,
          0.39250763782283243,
          0.04408549014405526,
          0.3290233890968474,
          0.32050037619843497,
          0.44509096508195917,
          0.5326209952282269,
          0.6159228328867854,
          0.6174572909636947,
          0.6363097849774574,
          0.6344417401496376,
          0.5321063237811643,
          0.6467669213125351,
          0.061704504574206585,
          0.680274137026192,
          0.5480244779084019,
          0.09386154220215974,
          0.681776661964885,
          0.6332739246629026,
          0.6351940628201627,
          0.32119475194546554,
          0.3122044625719129,
          0.05403763721913262,
          -0.36109980207222336,
          0.41411267476259767,
          0.05335626618308152,
          -0.33428516600271607,
          0.6548412476036345,
          -0.13649071353467362,
          -0.24933336999134303,
          -0.2735925475698301,
          -0.6583644757372716,
          -0.8531608288477536,
          -0.5419932886777595,
          -0.752212776675721,
          -0.6351713871868421,
          -0.8494728986021298,
          -0.9121063796908541,
          -0.5817499090708201,
          -0.9210201642138838,
          -0.9464053635743788,
          -0.9299144441513653,
          -0.6818145168805381,
          -0.9039595347082916,
          -0.5114166129150922,
          -0.9956159397404644,
          -0.0,
          -0.0026662503969836597,
          -0.014959767443696915,
          -0.02922263977455029,
          -0.037194109336794484,
          -0.03857620052205913,
          -0.05244123405496559,
          -0.002886120063199499,
          -0.0807843653374086,
          -0.04335838970825427,
          -0.06357714826351953,
          -0.06006053152248107,
          -0.00826375733673157,
          -0.03879435094943494,
          0.08640882723261978,
          0.018865705458008575,
          0.05457738477299212,
          0.1560577832747988,
          0.14883606599914317,
          0.16010585506090297,
          0.17125939387128333,
          0.11329822408923465,
          0.21808083185409344,
          0.15914737211828964,
          0.23340639463753846,
          0.21622714906082144,
          0.20103570222397527,
          0.18999226752213186,
          0.28167750275981,
          0.29167049188260463,
          0.16715098923945051,
          0.27096396162399855,
          0.17555332927508682,
          0.15750415817259844,
          0.0354897436955215,
          0.24258354146510255,
          0.005715877453676058,
          0.06480207525616995,
          0.28328173210982593,
          0.2568857610355195,
          -0.045577171900552674,
          0.06328818021703009,
          0.35701517238756997,
          -0.14266020632269388,
          -0.18831753993907385,
          -0.22085766002614682,
          -0.444089269498599,
          -0.18974879205399275,
          0.027563166805421084,
          -0.4475121079778883,
          -0.4224539976702963,
          -0.4983487028804887,
          -0.5206973080880793,
          -0.5145568104942797,
          -0.4708730204254387,
          -0.5460594476172886,
          -0.5608500011208998,
          -0.566604827566748,
          -0.5705562940467495,
          -0.585038653289912,
          -0.5634957623778839,
          -0.6135876652449204,
          -0.5738968999150746,
          -0.6342041053557934,
          -0.6298170116145209,
          -0.016218055129473243,
          -0.6002172082754583,
          -0.17939499974362838,
          -0.6522836696989357,
          -0.24607515811590233,
          0.21798173813349808,
          0.201903436170409,
          -0.26758211321354747,
          0.34822916439415486,
          0.007310191817025019,
          -0.14059312828982892,
          -0.15689495394381905,
          -0.37627385551501663,
          0.5839335345150066,
          0.7070912175896471,
          0.8062793403006135,
          0.5440571655270117,
          0.6168960792936681,
          0.6161957267558359,
          0.8300960650800056,
          0.8438814908514116,
          0.5295789381716605,
          0.8650741431027875,
          0.8424025535967691,
          0.8670460965465708,
          0.9024732076780401,
          0.7501983378761606,
          0.8182025504723344,
          0.8284235544355539,
          0.869890116407878,
          0.6819958380293839,
          0.7192337200321938,
          0.5422712252056892,
          0.5422756323385348,
          0.6093825221210935,
          0.0,
          0.008148636035122643,
          9.620243036959595E-4,
          0.004102686279176779,
          -0.007518266993804861,
          -0.015068291858710484,
          -0.007330866265295903,
          -0.0669772971817161,
          -0.011003313847743458,
          -0.0453747446183136,
          -0.03330283722061552,
          -0.054361823938844096,
          -0.032899722970525826,
          -0.12388363439884158,
          -0.09417699698859391,
          -0.1498543449368598,
          -0.15962645583586868,
          -0.1648092342122401,
          -0.16460263661881447,
          -0.1912597071190848,
          -0.19228268918925914,
          -0.19056011012450041,
          -0.20173957973818205,
          -0.10855812871702487,
          -0.2424194133308598,
          -0.24945859917437424,
          -0.15430489805905262,
          -0.23051015354496077,
          -0.1776084352902772,
          -0.14682326757517625,
          0.0977795171898945,
          -0.10911168756625216,
          -0.030588720965094317,
          -0.12927558218650076,
          -0.1586081652032837,
          0.13911158230734075,
          0.1309347644083491,
          0.30682547924188763,
          -0.0417573309964311,
          0.21028532682890905,
          0.3073019075780259,
          -0.10440399181711296,
          0.018404280596670604,
          0.3718184649729329,
          0.37360497673370974,
          0.28018208375485626,
          0.4644259422914305,
          0.3193416894818234,
          0.2601087692390358,
          0.4900546329858458,
          0.5049846250568294,
          0.4540679877046631,
          0.5111925651780983,
          0.43018633325572075,
          0.5382518625622025,
          0.36460792478105886,
          0.5656558115760206,
          0.24108486412466573,
          0.4742750730036309,
          0.4053673696531328,
          0.4553179551596891,
          0.35112220777039527,
          0.35384762217369975,
          0.5584041679387123,
          0.39282329002581645,
          0.2858977714568543,
          -0.06424820894259371,
          -0.21747403884559477,
          -0.0076262268992521665,
          -0.3082801784256808,
          -0.3948631927116887,
          -0.22114247626785316,
          0.4389272392522587,
          -0.46802239816255176,
          -0.7455069665827923,
          -0.42906642553108154,
          -0.7478979664403504,
          -0.5129104405528468,
          -0.5900349520139002,
          -0.5778471033067842,
          -0.7867994194987158,
          -0.6915905788566875,
          -0.6923739618998773,
          -0.8091305382792683,
          -0.7793147566737004,
          -0.6908296704692094,
          -0.843419867747955,
          -0.7499076350882293,
          -0.7649656550151974,
          -0.8795394663763532,
          -0.7233485399589246,
          0.06166606569906347,
          -0.6316106125306502,
          -0.12174539496815225,
          0.37537980690340933,
          -0.30216412176503166,
          -0.2096009204491348,
          0.5042563669035716,
          0.5957221487053558,
          0.4764156241013093
         ],
         "z": [
          0.0,
          0.0,
          0.0,
          0.0,
          0.0,
          0.0,
          0.0,
          0.0,
          0.0,
          0.0,
          0.0,
          0.0,
          0.0,
          0.0,
          0.0,
          0.0,
          0.0,
          0.0,
          0.0,
          0.0,
          0.0,
          0.0,
          0.0,
          0.0,
          0.0,
          0.0,
          0.0,
          0.0,
          0.0,
          0.0,
          0.0,
          0.0,
          0.0,
          0.0,
          0.0,
          0.0,
          0.0,
          0.0,
          0.0,
          0.0,
          0.0,
          0.0,
          0.0,
          0.0,
          0.0,
          0.0,
          0.0,
          0.0,
          0.0,
          0.0,
          0.0,
          0.0,
          0.0,
          0.0,
          0.0,
          0.0,
          0.0,
          0.0,
          0.0,
          0.0,
          0.0,
          0.0,
          0.0,
          0.0,
          0.0,
          0.0,
          0.0,
          0.0,
          0.0,
          0.0,
          0.0,
          0.0,
          0.0,
          0.0,
          0.0,
          0.0,
          0.0,
          0.0,
          0.0,
          0.0,
          0.0,
          0.0,
          0.0,
          0.0,
          0.0,
          0.0,
          0.0,
          0.0,
          0.0,
          0.0,
          0.0,
          0.0,
          0.0,
          0.0,
          0.0,
          0.0,
          0.0,
          0.0,
          0.0,
          0.0,
          0.12754023563855704,
          0.12754019275635686,
          0.12754015014547773,
          0.127540107819672,
          0.12754006579269203,
          0.12754002407829015,
          0.12753998269021855,
          0.1275399416422295,
          0.12753990094807505,
          0.12753986062150743,
          0.1275398206762787,
          0.1275397811261408,
          0.12753974198484586,
          0.1275397032661458,
          0.1275396649837925,
          0.12753962715153788,
          0.12753958978313384,
          0.12753955289233215,
          0.12753951649288464,
          0.1275394805985431,
          0.12753944522305918,
          0.12753941038018465,
          0.12753937608367125,
          0.12753934234727057,
          0.12753930918473433,
          0.1275392766098141,
          0.1275392446362615,
          0.12753921327782813,
          0.12753918254826563,
          0.1275391524613255,
          0.12753912303075932,
          0.12753909427031862,
          0.127539066193755,
          0.12753903881481995,
          0.12753901214726507,
          0.12753898620484183,
          0.12753896100130185,
          0.12753893655039664,
          0.12753891286587776,
          0.12753888996149682,
          0.12753886785100535,
          0.12753884654815495,
          0.12753882606669725,
          0.1275388064203839,
          0.12753878762296653,
          0.1275387696881968,
          0.12753875262982645,
          0.12753873646160718,
          0.12753872119729082,
          0.12753870685062912,
          0.1275386934348509,
          0.12753868095115592,
          0.1275386693887146,
          0.12753865873617462,
          0.12753864898218353,
          0.12753864011538912,
          0.1275386321244391,
          0.1275386249979814,
          0.12753861872466385,
          0.12753861329313443,
          0.12753860869204112,
          0.127538604910032,
          0.12753860193575517,
          0.12753859975785875,
          0.12753859836499098,
          0.1275385977458001,
          0.12753859788893437,
          0.1275385987830421,
          0.1275386004167717,
          0.12753860277877152,
          0.12753860585769,
          0.1275386096421756,
          0.1275386141208768,
          0.12753861928244214,
          0.12753862511552014,
          0.1275386316087594,
          0.12753863875080845,
          0.127538646530316,
          0.12753865493593056,
          0.12753866395630087,
          0.12753867358007556,
          0.12753868379590336,
          0.12753869459243292,
          0.12753870595831293,
          0.12753871788219215,
          0.1275387303527193,
          0.1275387433585431,
          0.12753875688831232,
          0.12753877093067564,
          0.12753878547428188,
          0.12753880050777977,
          0.12753881601981806,
          0.1275388319990455,
          0.1275388484341108,
          0.12753886531366282,
          0.1275388826263502,
          0.1275389003608217,
          0.1275389185057261,
          0.1275389370497121,
          0.12753895598142836,
          0.2550779505790475,
          0.25507798992529357,
          0.25507802997889256,
          0.2550780707171418,
          0.25507811211733844,
          0.25507815415678,
          0.25507819681276367,
          0.25507824006258667,
          0.25507828388354625,
          0.2550783282529396,
          0.2550783731480638,
          0.25507841854621605,
          0.25507846442469334,
          0.25507851076079274,
          0.2550785575318113,
          0.25507860471504584,
          0.2550786522877934,
          0.2550787002273508,
          0.2550787485110149,
          0.2550787971160824,
          0.2550788460198501,
          0.25507889519961463,
          0.25507894463267267,
          0.2550789942963208,
          0.25507904416785554,
          0.2550790942245735,
          0.25507914444377094,
          0.25507919480274444,
          0.2550792452787902,
          0.25507929584920463,
          0.25507934649128383,
          0.25507939718232414,
          0.25507944789962156,
          0.2550794986204723,
          0.25507954932217236,
          0.2550795999820177,
          0.25507965057730425,
          0.2550797010853279,
          0.2550797514833846,
          0.25507980174876993,
          0.25507985185877974,
          0.25507990179070966,
          0.2550799515218554,
          0.25508000102951245,
          0.2550800502909764,
          0.25508009928354275,
          0.25508014798450684,
          0.25508019637116414,
          0.25508024442081,
          0.2550802921107397,
          0.2550803394182484,
          0.25508038632063157,
          0.2550804327951841,
          0.25508047881920126,
          0.25508052436997813,
          0.2550805694248098,
          0.2550806139609911,
          0.2550806579558172,
          0.2550807013865829,
          0.25508074423058325,
          0.25508078646511295,
          0.255080828067467,
          0.25508086901494015,
          0.25508090928482724,
          0.2550809488544229,
          0.255080987701022,
          0.25508102580191916,
          0.2550810631344092,
          0.2550810996757866,
          0.2550811354033462,
          0.25508117029438254,
          0.2550812043261903,
          0.2550812374760641,
          0.2550812697212985,
          0.2550813010391882,
          0.2550813314070277,
          0.2550813608021117,
          0.25508138920173473,
          0.2550814165831915,
          0.2550814429237765,
          0.2550814682007844,
          0.25508149239150985,
          0.25508151547324753,
          0.2550815374232921,
          0.2550815582189382,
          0.2550815778374805,
          0.25508159625621385,
          0.25508161345243296,
          0.25508162940343265,
          0.25508164408650774,
          0.2550816574789531,
          0.25508166955806366,
          0.2550816803011343,
          0.25508168968546013,
          0.2550816976883362,
          0.25508170428705756,
          0.2550817094589194,
          0.255081713181217,
          0.2550817154312456,
          0.2550817161863006
         ],
         "type": "scatter3d"
        }
       ],
       "layout": {
        "template": {
         "data": {
          "histogram2dcontour": [
           {
            "type": "histogram2dcontour",
            "colorbar": {
             "outlinewidth": 0,
             "ticks": ""
            },
            "colorscale": [
             [
              0.0,
              "#0d0887"
             ],
             [
              0.1111111111111111,
              "#46039f"
             ],
             [
              0.2222222222222222,
              "#7201a8"
             ],
             [
              0.3333333333333333,
              "#9c179e"
             ],
             [
              0.4444444444444444,
              "#bd3786"
             ],
             [
              0.5555555555555556,
              "#d8576b"
             ],
             [
              0.6666666666666666,
              "#ed7953"
             ],
             [
              0.7777777777777778,
              "#fb9f3a"
             ],
             [
              0.8888888888888888,
              "#fdca26"
             ],
             [
              1.0,
              "#f0f921"
             ]
            ]
           }
          ],
          "choropleth": [
           {
            "type": "choropleth",
            "colorbar": {
             "outlinewidth": 0,
             "ticks": ""
            }
           }
          ],
          "histogram2d": [
           {
            "type": "histogram2d",
            "colorbar": {
             "outlinewidth": 0,
             "ticks": ""
            },
            "colorscale": [
             [
              0.0,
              "#0d0887"
             ],
             [
              0.1111111111111111,
              "#46039f"
             ],
             [
              0.2222222222222222,
              "#7201a8"
             ],
             [
              0.3333333333333333,
              "#9c179e"
             ],
             [
              0.4444444444444444,
              "#bd3786"
             ],
             [
              0.5555555555555556,
              "#d8576b"
             ],
             [
              0.6666666666666666,
              "#ed7953"
             ],
             [
              0.7777777777777778,
              "#fb9f3a"
             ],
             [
              0.8888888888888888,
              "#fdca26"
             ],
             [
              1.0,
              "#f0f921"
             ]
            ]
           }
          ],
          "heatmap": [
           {
            "type": "heatmap",
            "colorbar": {
             "outlinewidth": 0,
             "ticks": ""
            },
            "colorscale": [
             [
              0.0,
              "#0d0887"
             ],
             [
              0.1111111111111111,
              "#46039f"
             ],
             [
              0.2222222222222222,
              "#7201a8"
             ],
             [
              0.3333333333333333,
              "#9c179e"
             ],
             [
              0.4444444444444444,
              "#bd3786"
             ],
             [
              0.5555555555555556,
              "#d8576b"
             ],
             [
              0.6666666666666666,
              "#ed7953"
             ],
             [
              0.7777777777777778,
              "#fb9f3a"
             ],
             [
              0.8888888888888888,
              "#fdca26"
             ],
             [
              1.0,
              "#f0f921"
             ]
            ]
           }
          ],
          "heatmapgl": [
           {
            "type": "heatmapgl",
            "colorbar": {
             "outlinewidth": 0,
             "ticks": ""
            },
            "colorscale": [
             [
              0.0,
              "#0d0887"
             ],
             [
              0.1111111111111111,
              "#46039f"
             ],
             [
              0.2222222222222222,
              "#7201a8"
             ],
             [
              0.3333333333333333,
              "#9c179e"
             ],
             [
              0.4444444444444444,
              "#bd3786"
             ],
             [
              0.5555555555555556,
              "#d8576b"
             ],
             [
              0.6666666666666666,
              "#ed7953"
             ],
             [
              0.7777777777777778,
              "#fb9f3a"
             ],
             [
              0.8888888888888888,
              "#fdca26"
             ],
             [
              1.0,
              "#f0f921"
             ]
            ]
           }
          ],
          "contourcarpet": [
           {
            "type": "contourcarpet",
            "colorbar": {
             "outlinewidth": 0,
             "ticks": ""
            }
           }
          ],
          "contour": [
           {
            "type": "contour",
            "colorbar": {
             "outlinewidth": 0,
             "ticks": ""
            },
            "colorscale": [
             [
              0.0,
              "#0d0887"
             ],
             [
              0.1111111111111111,
              "#46039f"
             ],
             [
              0.2222222222222222,
              "#7201a8"
             ],
             [
              0.3333333333333333,
              "#9c179e"
             ],
             [
              0.4444444444444444,
              "#bd3786"
             ],
             [
              0.5555555555555556,
              "#d8576b"
             ],
             [
              0.6666666666666666,
              "#ed7953"
             ],
             [
              0.7777777777777778,
              "#fb9f3a"
             ],
             [
              0.8888888888888888,
              "#fdca26"
             ],
             [
              1.0,
              "#f0f921"
             ]
            ]
           }
          ],
          "surface": [
           {
            "type": "surface",
            "colorbar": {
             "outlinewidth": 0,
             "ticks": ""
            },
            "colorscale": [
             [
              0.0,
              "#0d0887"
             ],
             [
              0.1111111111111111,
              "#46039f"
             ],
             [
              0.2222222222222222,
              "#7201a8"
             ],
             [
              0.3333333333333333,
              "#9c179e"
             ],
             [
              0.4444444444444444,
              "#bd3786"
             ],
             [
              0.5555555555555556,
              "#d8576b"
             ],
             [
              0.6666666666666666,
              "#ed7953"
             ],
             [
              0.7777777777777778,
              "#fb9f3a"
             ],
             [
              0.8888888888888888,
              "#fdca26"
             ],
             [
              1.0,
              "#f0f921"
             ]
            ]
           }
          ],
          "mesh3d": [
           {
            "type": "mesh3d",
            "colorbar": {
             "outlinewidth": 0,
             "ticks": ""
            }
           }
          ],
          "scatter": [
           {
            "marker": {
             "line": {
              "color": "#283442"
             }
            },
            "type": "scatter"
           }
          ],
          "parcoords": [
           {
            "type": "parcoords",
            "line": {
             "colorbar": {
              "outlinewidth": 0,
              "ticks": ""
             }
            }
           }
          ],
          "scatterpolargl": [
           {
            "type": "scatterpolargl",
            "marker": {
             "colorbar": {
              "outlinewidth": 0,
              "ticks": ""
             }
            }
           }
          ],
          "bar": [
           {
            "error_x": {
             "color": "#f2f5fa"
            },
            "error_y": {
             "color": "#f2f5fa"
            },
            "marker": {
             "line": {
              "color": "rgb(17,17,17)",
              "width": 0.5
             },
             "pattern": {
              "fillmode": "overlay",
              "size": 10,
              "solidity": 0.2
             }
            },
            "type": "bar"
           }
          ],
          "scattergeo": [
           {
            "type": "scattergeo",
            "marker": {
             "colorbar": {
              "outlinewidth": 0,
              "ticks": ""
             }
            }
           }
          ],
          "scatterpolar": [
           {
            "type": "scatterpolar",
            "marker": {
             "colorbar": {
              "outlinewidth": 0,
              "ticks": ""
             }
            }
           }
          ],
          "histogram": [
           {
            "marker": {
             "pattern": {
              "fillmode": "overlay",
              "size": 10,
              "solidity": 0.2
             }
            },
            "type": "histogram"
           }
          ],
          "scattergl": [
           {
            "marker": {
             "line": {
              "color": "#283442"
             }
            },
            "type": "scattergl"
           }
          ],
          "scatter3d": [
           {
            "type": "scatter3d",
            "line": {
             "colorbar": {
              "outlinewidth": 0,
              "ticks": ""
             }
            },
            "marker": {
             "colorbar": {
              "outlinewidth": 0,
              "ticks": ""
             }
            }
           }
          ],
          "scattermapbox": [
           {
            "type": "scattermapbox",
            "marker": {
             "colorbar": {
              "outlinewidth": 0,
              "ticks": ""
             }
            }
           }
          ],
          "scatterternary": [
           {
            "type": "scatterternary",
            "marker": {
             "colorbar": {
              "outlinewidth": 0,
              "ticks": ""
             }
            }
           }
          ],
          "scattercarpet": [
           {
            "type": "scattercarpet",
            "marker": {
             "colorbar": {
              "outlinewidth": 0,
              "ticks": ""
             }
            }
           }
          ],
          "carpet": [
           {
            "aaxis": {
             "endlinecolor": "#A2B1C6",
             "gridcolor": "#506784",
             "linecolor": "#506784",
             "minorgridcolor": "#506784",
             "startlinecolor": "#A2B1C6"
            },
            "baxis": {
             "endlinecolor": "#A2B1C6",
             "gridcolor": "#506784",
             "linecolor": "#506784",
             "minorgridcolor": "#506784",
             "startlinecolor": "#A2B1C6"
            },
            "type": "carpet"
           }
          ],
          "table": [
           {
            "cells": {
             "fill": {
              "color": "#506784"
             },
             "line": {
              "color": "rgb(17,17,17)"
             }
            },
            "header": {
             "fill": {
              "color": "#2a3f5f"
             },
             "line": {
              "color": "rgb(17,17,17)"
             }
            },
            "type": "table"
           }
          ],
          "barpolar": [
           {
            "marker": {
             "line": {
              "color": "rgb(17,17,17)",
              "width": 0.5
             },
             "pattern": {
              "fillmode": "overlay",
              "size": 10,
              "solidity": 0.2
             }
            },
            "type": "barpolar"
           }
          ],
          "pie": [
           {
            "automargin": true,
            "type": "pie"
           }
          ]
         },
         "layout": {
          "autotypenumbers": "strict",
          "colorway": [
           "#636efa",
           "#EF553B",
           "#00cc96",
           "#ab63fa",
           "#FFA15A",
           "#19d3f3",
           "#FF6692",
           "#B6E880",
           "#FF97FF",
           "#FECB52"
          ],
          "font": {
           "color": "#f2f5fa"
          },
          "hovermode": "closest",
          "hoverlabel": {
           "align": "left"
          },
          "paper_bgcolor": "rgb(17,17,17)",
          "plot_bgcolor": "rgb(17,17,17)",
          "polar": {
           "bgcolor": "rgb(17,17,17)",
           "angularaxis": {
            "gridcolor": "#506784",
            "linecolor": "#506784",
            "ticks": ""
           },
           "radialaxis": {
            "gridcolor": "#506784",
            "linecolor": "#506784",
            "ticks": ""
           }
          },
          "ternary": {
           "bgcolor": "rgb(17,17,17)",
           "aaxis": {
            "gridcolor": "#506784",
            "linecolor": "#506784",
            "ticks": ""
           },
           "baxis": {
            "gridcolor": "#506784",
            "linecolor": "#506784",
            "ticks": ""
           },
           "caxis": {
            "gridcolor": "#506784",
            "linecolor": "#506784",
            "ticks": ""
           }
          },
          "coloraxis": {
           "colorbar": {
            "outlinewidth": 0,
            "ticks": ""
           }
          },
          "colorscale": {
           "sequential": [
            [
             0.0,
             "#0d0887"
            ],
            [
             0.1111111111111111,
             "#46039f"
            ],
            [
             0.2222222222222222,
             "#7201a8"
            ],
            [
             0.3333333333333333,
             "#9c179e"
            ],
            [
             0.4444444444444444,
             "#bd3786"
            ],
            [
             0.5555555555555556,
             "#d8576b"
            ],
            [
             0.6666666666666666,
             "#ed7953"
            ],
            [
             0.7777777777777778,
             "#fb9f3a"
            ],
            [
             0.8888888888888888,
             "#fdca26"
            ],
            [
             1.0,
             "#f0f921"
            ]
           ],
           "sequentialminus": [
            [
             0.0,
             "#0d0887"
            ],
            [
             0.1111111111111111,
             "#46039f"
            ],
            [
             0.2222222222222222,
             "#7201a8"
            ],
            [
             0.3333333333333333,
             "#9c179e"
            ],
            [
             0.4444444444444444,
             "#bd3786"
            ],
            [
             0.5555555555555556,
             "#d8576b"
            ],
            [
             0.6666666666666666,
             "#ed7953"
            ],
            [
             0.7777777777777778,
             "#fb9f3a"
            ],
            [
             0.8888888888888888,
             "#fdca26"
            ],
            [
             1.0,
             "#f0f921"
            ]
           ],
           "diverging": [
            [
             0,
             "#8e0152"
            ],
            [
             0.1,
             "#c51b7d"
            ],
            [
             0.2,
             "#de77ae"
            ],
            [
             0.3,
             "#f1b6da"
            ],
            [
             0.4,
             "#fde0ef"
            ],
            [
             0.5,
             "#f7f7f7"
            ],
            [
             0.6,
             "#e6f5d0"
            ],
            [
             0.7,
             "#b8e186"
            ],
            [
             0.8,
             "#7fbc41"
            ],
            [
             0.9,
             "#4d9221"
            ],
            [
             1,
             "#276419"
            ]
           ]
          },
          "xaxis": {
           "gridcolor": "#283442",
           "linecolor": "#506784",
           "ticks": "",
           "title": {
            "standoff": 15
           },
           "zerolinecolor": "#283442",
           "automargin": true,
           "zerolinewidth": 2
          },
          "yaxis": {
           "gridcolor": "#283442",
           "linecolor": "#506784",
           "ticks": "",
           "title": {
            "standoff": 15
           },
           "zerolinecolor": "#283442",
           "automargin": true,
           "zerolinewidth": 2
          },
          "scene": {
           "xaxis": {
            "backgroundcolor": "rgb(17,17,17)",
            "gridcolor": "#506784",
            "linecolor": "#506784",
            "showbackground": true,
            "ticks": "",
            "zerolinecolor": "#C8D4E3",
            "gridwidth": 2
           },
           "yaxis": {
            "backgroundcolor": "rgb(17,17,17)",
            "gridcolor": "#506784",
            "linecolor": "#506784",
            "showbackground": true,
            "ticks": "",
            "zerolinecolor": "#C8D4E3",
            "gridwidth": 2
           },
           "zaxis": {
            "backgroundcolor": "rgb(17,17,17)",
            "gridcolor": "#506784",
            "linecolor": "#506784",
            "showbackground": true,
            "ticks": "",
            "zerolinecolor": "#C8D4E3",
            "gridwidth": 2
           }
          },
          "shapedefaults": {
           "line": {
            "color": "#f2f5fa"
           }
          },
          "annotationdefaults": {
           "arrowcolor": "#f2f5fa",
           "arrowhead": 0,
           "arrowwidth": 1
          },
          "geo": {
           "bgcolor": "rgb(17,17,17)",
           "landcolor": "rgb(17,17,17)",
           "subunitcolor": "#506784",
           "showland": true,
           "showlakes": true,
           "lakecolor": "rgb(17,17,17)"
          },
          "title": {
           "x": 0.05
          },
          "updatemenudefaults": {
           "bgcolor": "#506784",
           "borderwidth": 0
          },
          "sliderdefaults": {
           "bgcolor": "#C8D4E3",
           "borderwidth": 1,
           "bordercolor": "rgb(17,17,17)",
           "tickwidth": 0
          },
          "mapbox": {
           "style": "dark"
          }
         }
        },
        "scene": {
         "camera": {
          "eye": {
           "x": 1.5,
           "y": 1.5,
           "z": 1.5
          }
         },
         "xaxis": {
          "title": {
           "text": "Inputs Feature 1"
          }
         },
         "yaxis": {
          "title": {
           "text": "Inputs Feature 2"
          }
         },
         "zaxis": {
          "title": {
           "text": "Values"
          }
         }
        },
        "title": {
         "font": {
          "size": 20
         },
         "text": "3D Scatter Plot of Errors",
         "y": 0.95,
         "x": 0.5,
         "xanchor": "center",
         "yanchor": "top"
        },
        "margin": {
         "l": 0,
         "r": 0,
         "t": 0,
         "b": 0
        }
       },
       "config": {
        "plotlyServerURL": "https://plot.ly"
       }
      },
      "text/html": [
       "<div>                            <div id=\"8dc58ee3-9ec6-4e76-a34b-b6d856bc7b52\" class=\"plotly-graph-div\" style=\"height:525px; width:100%;\"></div>            <script type=\"text/javascript\">                require([\"plotly\"], function(Plotly) {                    window.PLOTLYENV=window.PLOTLYENV || {};                                    if (document.getElementById(\"8dc58ee3-9ec6-4e76-a34b-b6d856bc7b52\")) {                    Plotly.newPlot(                        \"8dc58ee3-9ec6-4e76-a34b-b6d856bc7b52\",                        [{\"marker\":{\"color\":[0.0,0.0,0.0,0.0,0.0,0.0,0.0,0.0,0.0,0.0,0.0,0.0,0.0,0.0,0.0,0.0,0.0,0.0,0.0,0.0,0.0,0.0,0.0,0.0,0.0,0.0,0.0,0.0,0.0,0.0,0.0,0.0,0.0,0.0,0.0,0.0,0.0,0.0,0.0,0.0,0.0,0.0,0.0,0.0,0.0,0.0,0.0,0.0,0.0,0.0,0.0,0.0,0.0,0.0,0.0,0.0,0.0,0.0,0.0,0.0,0.0,0.0,0.0,0.0,0.0,0.0,0.0,0.0,0.0,0.0,0.0,0.0,0.0,0.0,0.0,0.0,0.0,0.0,0.0,0.0,0.0,0.0,0.0,0.0,0.0,0.0,0.0,0.0,0.0,0.0,0.0,0.0,0.0,0.0,0.0,0.0,0.0,0.0,0.0,0.0,0.12754023563855704,0.12754019275635686,0.12754015014547773,0.127540107819672,0.12754006579269203,0.12754002407829015,0.12753998269021855,0.1275399416422295,0.12753990094807505,0.12753986062150743,0.1275398206762787,0.1275397811261408,0.12753974198484586,0.1275397032661458,0.1275396649837925,0.12753962715153788,0.12753958978313384,0.12753955289233215,0.12753951649288464,0.1275394805985431,0.12753944522305918,0.12753941038018465,0.12753937608367125,0.12753934234727057,0.12753930918473433,0.1275392766098141,0.1275392446362615,0.12753921327782813,0.12753918254826563,0.1275391524613255,0.12753912303075932,0.12753909427031862,0.127539066193755,0.12753903881481995,0.12753901214726507,0.12753898620484183,0.12753896100130185,0.12753893655039664,0.12753891286587776,0.12753888996149682,0.12753886785100535,0.12753884654815495,0.12753882606669725,0.1275388064203839,0.12753878762296653,0.1275387696881968,0.12753875262982645,0.12753873646160718,0.12753872119729082,0.12753870685062912,0.1275386934348509,0.12753868095115592,0.1275386693887146,0.12753865873617462,0.12753864898218353,0.12753864011538912,0.1275386321244391,0.1275386249979814,0.12753861872466385,0.12753861329313443,0.12753860869204112,0.127538604910032,0.12753860193575517,0.12753859975785875,0.12753859836499098,0.1275385977458001,0.12753859788893437,0.1275385987830421,0.1275386004167717,0.12753860277877152,0.12753860585769,0.1275386096421756,0.1275386141208768,0.12753861928244214,0.12753862511552014,0.1275386316087594,0.12753863875080845,0.127538646530316,0.12753865493593056,0.12753866395630087,0.12753867358007556,0.12753868379590336,0.12753869459243292,0.12753870595831293,0.12753871788219215,0.1275387303527193,0.1275387433585431,0.12753875688831232,0.12753877093067564,0.12753878547428188,0.12753880050777977,0.12753881601981806,0.1275388319990455,0.1275388484341108,0.12753886531366282,0.1275388826263502,0.1275389003608217,0.1275389185057261,0.1275389370497121,0.12753895598142836,0.2550779505790475,0.25507798992529357,0.25507802997889256,0.2550780707171418,0.25507811211733844,0.25507815415678,0.25507819681276367,0.25507824006258667,0.25507828388354625,0.2550783282529396,0.2550783731480638,0.25507841854621605,0.25507846442469334,0.25507851076079274,0.2550785575318113,0.25507860471504584,0.2550786522877934,0.2550787002273508,0.2550787485110149,0.2550787971160824,0.2550788460198501,0.25507889519961463,0.25507894463267267,0.2550789942963208,0.25507904416785554,0.2550790942245735,0.25507914444377094,0.25507919480274444,0.2550792452787902,0.25507929584920463,0.25507934649128383,0.25507939718232414,0.25507944789962156,0.2550794986204723,0.25507954932217236,0.2550795999820177,0.25507965057730425,0.2550797010853279,0.2550797514833846,0.25507980174876993,0.25507985185877974,0.25507990179070966,0.2550799515218554,0.25508000102951245,0.2550800502909764,0.25508009928354275,0.25508014798450684,0.25508019637116414,0.25508024442081,0.2550802921107397,0.2550803394182484,0.25508038632063157,0.2550804327951841,0.25508047881920126,0.25508052436997813,0.2550805694248098,0.2550806139609911,0.2550806579558172,0.2550807013865829,0.25508074423058325,0.25508078646511295,0.255080828067467,0.25508086901494015,0.25508090928482724,0.2550809488544229,0.255080987701022,0.25508102580191916,0.2550810631344092,0.2550810996757866,0.2550811354033462,0.25508117029438254,0.2550812043261903,0.2550812374760641,0.2550812697212985,0.2550813010391882,0.2550813314070277,0.2550813608021117,0.25508138920173473,0.2550814165831915,0.2550814429237765,0.2550814682007844,0.25508149239150985,0.25508151547324753,0.2550815374232921,0.2550815582189382,0.2550815778374805,0.25508159625621385,0.25508161345243296,0.25508162940343265,0.25508164408650774,0.2550816574789531,0.25508166955806366,0.2550816803011343,0.25508168968546013,0.2550816976883362,0.25508170428705756,0.2550817094589194,0.255081713181217,0.2550817154312456,0.2550817161863006],\"colorscale\":[[0.0,\"#30123b\"],[0.07142857142857142,\"#4145ab\"],[0.14285714285714285,\"#4675ed\"],[0.21428571428571427,\"#39a2fc\"],[0.2857142857142857,\"#1bcfd4\"],[0.35714285714285715,\"#24eca6\"],[0.42857142857142855,\"#61fc6c\"],[0.5,\"#a4fc3b\"],[0.5714285714285714,\"#d1e834\"],[0.6428571428571429,\"#f3c63a\"],[0.7142857142857143,\"#fe9b2d\"],[0.7857142857142857,\"#f36315\"],[0.8571428571428571,\"#d93806\"],[0.9285714285714286,\"#b11901\"],[1.0,\"#7a0402\"]],\"opacity\":0.8,\"size\":5},\"mode\":\"markers\",\"name\":\"Errors\",\"x\":[-0.0,-0.004582515122649984,-0.011592994964748946,-0.01253222502022532,0.009844453345436968,-0.00701849452951002,0.03177512568343273,0.07022276826355126,0.05389050368622246,-0.0033385027180088084,0.10001458454800585,0.09340732411685898,0.0994632719601172,0.12129363722149851,0.09654416785603548,0.1513522832873372,0.14739525568017692,0.16034212070272189,0.15665737044430797,0.15243453880690597,0.1992681964884984,0.10462151490986037,0.2216453983961366,0.13089064715626267,0.17205688108091033,0.1543443436851062,0.0828729148835332,0.08252940408394611,0.2721066073723183,0.22213389342864154,0.1837726427431369,0.040065612696781085,-0.1494780127863809,-0.22008273481769774,-0.20194974107100103,-0.16367238427873218,-0.003505163895717973,-0.34647186897576443,-0.26157153187074134,-0.07005876235968785,-0.2244022051690305,-0.4138415706485235,-0.41136823671100603,-0.2909063097062994,-0.3140570665444941,-0.43570555302161124,-0.4536331872449286,-0.4048211688086206,-0.17021648875005305,-0.4840249280016931,-0.5046903044689723,-0.5024819841377433,-0.4640154116396399,-0.5296629714108216,-0.2718065918214989,-0.39316628741460297,-0.5639360068563977,-0.4724832224211408,-0.490417976302749,-0.3963103238861374,-0.28917872269695477,-0.01715229312984231,-0.10464879783894865,-0.008278600599892716,-0.12409761272707925,0.384631410019497,0.1616693970433167,0.6739488425932418,0.09495099522376801,0.43062272363085397,0.7008130961197158,0.2225215834723647,0.3576167727844365,0.3744977051018187,0.6749462418853286,0.6902531434312098,0.7657725206576843,0.688872415290625,0.6702713457923702,0.7961939881981522,0.7356956029357987,0.49051445242747066,0.8169594413108873,0.8004500803123067,0.8031647751380825,0.5511133219681809,0.16350374903595105,0.6917451922006879,-0.4736025711458138,0.6361919108138768,0.32379326047994156,0.11391109004380326,0.7246739899637119,-0.18488599319984964,-0.07653461252312414,-0.23681961960857045,-0.689522427199032,-0.3779698940738159,-0.8475571120800622,0.09353555759555832,-0.0,-0.009742767259936603,-0.01357670719553671,-0.008019412082767918,-0.015782417800004757,-0.03259811159867374,-0.03038110519677993,-0.07064814335108528,0.0019576110230110893,-0.07990314669538681,-0.07849195324840162,-0.09347947135913177,-0.1209300981700651,-0.12545173091540726,-0.11194406624820298,-0.15033604456759858,-0.15212196674669323,-0.07164325049787018,-0.10443024800108501,-0.10582575963409267,-0.10715587727756182,-0.17932908590074795,-0.04270207052602193,0.16925187805444655,-0.06550548265048903,-0.13044087998772425,-0.1689887577691245,-0.19566068478632823,0.025487683429303458,0.027127381388828746,0.2527605810859565,0.15693868472868225,0.2714040592227722,0.2937746607000887,0.34159570597799493,0.2571778987580704,0.3635914378854544,0.3680765077678866,0.25900456590670234,0.29866026162604725,0.40146154174301735,0.4092770664865881,0.2291763539551208,0.410246614232483,0.4025759162553396,0.3972825999911258,0.1366786663113856,0.43517876866082844,0.48406438114730976,0.21144246442932646,0.27678264487528037,0.1304977160728734,0.06902556507543081,0.1477656813657453,0.2753166536779954,0.10227929886611302,0.07358414579967157,0.10225338830716739,-0.13302555374010375,-0.11356766341283529,-0.22311876658120122,0.05626112592352307,-0.2506934887890564,-0.052381584892099514,-0.1457637506707856,-0.6563653221105675,-0.29014435602723626,-0.6525579839251852,-0.21520828804858824,-0.6520841778883038,-0.6726313601355268,-0.6881644239377761,-0.6762584066190106,-0.6499665203945987,-0.747439000325803,-0.7444156102233234,-0.7514729489859345,-0.6807027671904989,-0.5289372473726536,-0.3698564153715191,0.053927894386294244,-0.6110836998660819,-0.5527130095992872,-0.5684982733404433,-0.17569024118330379,-0.15822043471693248,-0.6885949637297485,0.15464431072457088,0.283692429373373,0.23751611513584409,0.10949150841524069,-0.5311461551734793,0.44060178714390236,0.4429169084900996,0.38056779224246695,0.6750600585010855,0.6503960862490932,0.8160551449075751,0.8281528535088694,0.7928763722884767,0.0,0.00596909840996183,0.02017910130511096,0.030024017233558662,0.03969838966987445,0.04820484111558114,0.060161058684051076,0.02266123364265023,0.08005543709363765,0.07877560130357734,0.09536226475460824,0.096904443192187,0.11666184705037298,0.04354289360382271,0.10549242925494307,0.022372224793344997,-0.025281975651059062,0.04821517791027666,0.07722579399270649,-0.015896561251966642,-0.0619639367893133,-0.09317860838792637,0.09318722024207184,-0.20540013867223275,0.0015301487802244548,0.039235321598037984,-0.21251482832034113,-0.14575745058807396,-0.2201069769029019,-0.25347682094148904,-0.28682142627904983,-0.2935061479761285,-0.3217817038488744,-0.30724409670724745,-0.30461549235228735,-0.3250157132621674,-0.33924547517691056,-0.21339575866472926,-0.3815602576470943,-0.333119088942372,-0.26232458080789806,-0.4007654144255746,-0.42384303342488494,-0.22451113126618272,-0.2407284477525145,-0.35792397264044873,-0.014313673014819742,-0.35129197277762964,-0.40917170164226346,-0.069436728320595,-0.008157273317947945,0.24331737731765024,0.12071609913673652,0.3186583224953131,-0.08834927054223328,0.4191694603564193,0.0009236344808208762,0.5228526315628832,0.3439381307032161,0.4368582557727681,0.3999937723612063,0.5063282852471688,0.5167172702120382,0.3051941397121265,0.513426140688175,0.5910506963514178,0.6635635704980446,0.6408740365670179,0.6868263489878613,0.6250840664133599,0.5865424484545015,0.6822252392730362,0.5798866255373556,0.5698026530182949,0.05420203768273835,0.6243580951252766,0.17313651095317384,0.5846889357400419,0.5221223417852395,-0.5503312485983672,0.1842315550198058,0.43717726249197564,-0.4546105371757991,-0.21953412601944078,-0.335551856110151,0.5098274639159994,-0.20798990965193317,-0.45815573197426973,-0.45271514602152807,-0.1859923804145453,-0.5506479553499022,-0.9171210828723341,-0.6816548852406843,-0.9314714339012834,-0.8721414218379816,-0.9107805713731808,-0.9467732923917749,-0.8400771379185444,-0.7905789851399508,-0.8792201960329165],\"y\":[0.0,0.00900171984741762,0.01654460903104507,0.027590160956196166,0.03918639074093,0.0500150063586614,0.05160848738325456,0.00826151713538605,0.06021428016949602,0.0908477694251169,0.014146497225836517,0.06017267497522222,0.06927796085141168,0.05030896565065893,0.1033304555534545,0.00702335264449564,-0.06629043896759584,0.061458859337758714,-0.09228390718399546,-0.11660483525841242,-0.03323173020630204,-0.18452573600920316,-0.016001044315938077,-0.19194197759773482,-0.17078039403771544,-0.19986702263093925,-0.24920801311303242,-0.2599404984814889,-0.07713515276397775,-0.1909557646322531,-0.2409460112428522,-0.31055750826951845,-0.286592844424978,-0.25034915806983266,-0.27778309943467444,-0.3133665534543891,-0.36361946975477244,-0.14013161148202824,-0.28091322258387247,-0.3876596650593995,-0.33599449163998113,0.01575643710403792,0.10371985515014381,-0.32253331290009707,0.31448215076693636,0.12950768824307624,0.10056474799086357,-0.24800198802333528,0.4539872247293689,0.10341601241449971,-0.01907116217712691,0.11354707913415721,0.2461298702820327,0.07784949923916079,0.47290785339155234,0.39250763782283243,0.04408549014405526,0.3290233890968474,0.32050037619843497,0.44509096508195917,0.5326209952282269,0.6159228328867854,0.6174572909636947,0.6363097849774574,0.6344417401496376,0.5321063237811643,0.6467669213125351,0.061704504574206585,0.680274137026192,0.5480244779084019,0.09386154220215974,0.681776661964885,0.6332739246629026,0.6351940628201627,0.32119475194546554,0.3122044625719129,0.05403763721913262,-0.36109980207222336,0.41411267476259767,0.05335626618308152,-0.33428516600271607,0.6548412476036345,-0.13649071353467362,-0.24933336999134303,-0.2735925475698301,-0.6583644757372716,-0.8531608288477536,-0.5419932886777595,-0.752212776675721,-0.6351713871868421,-0.8494728986021298,-0.9121063796908541,-0.5817499090708201,-0.9210201642138838,-0.9464053635743788,-0.9299144441513653,-0.6818145168805381,-0.9039595347082916,-0.5114166129150922,-0.9956159397404644,-0.0,-0.0026662503969836597,-0.014959767443696915,-0.02922263977455029,-0.037194109336794484,-0.03857620052205913,-0.05244123405496559,-0.002886120063199499,-0.0807843653374086,-0.04335838970825427,-0.06357714826351953,-0.06006053152248107,-0.00826375733673157,-0.03879435094943494,0.08640882723261978,0.018865705458008575,0.05457738477299212,0.1560577832747988,0.14883606599914317,0.16010585506090297,0.17125939387128333,0.11329822408923465,0.21808083185409344,0.15914737211828964,0.23340639463753846,0.21622714906082144,0.20103570222397527,0.18999226752213186,0.28167750275981,0.29167049188260463,0.16715098923945051,0.27096396162399855,0.17555332927508682,0.15750415817259844,0.0354897436955215,0.24258354146510255,0.005715877453676058,0.06480207525616995,0.28328173210982593,0.2568857610355195,-0.045577171900552674,0.06328818021703009,0.35701517238756997,-0.14266020632269388,-0.18831753993907385,-0.22085766002614682,-0.444089269498599,-0.18974879205399275,0.027563166805421084,-0.4475121079778883,-0.4224539976702963,-0.4983487028804887,-0.5206973080880793,-0.5145568104942797,-0.4708730204254387,-0.5460594476172886,-0.5608500011208998,-0.566604827566748,-0.5705562940467495,-0.585038653289912,-0.5634957623778839,-0.6135876652449204,-0.5738968999150746,-0.6342041053557934,-0.6298170116145209,-0.016218055129473243,-0.6002172082754583,-0.17939499974362838,-0.6522836696989357,-0.24607515811590233,0.21798173813349808,0.201903436170409,-0.26758211321354747,0.34822916439415486,0.007310191817025019,-0.14059312828982892,-0.15689495394381905,-0.37627385551501663,0.5839335345150066,0.7070912175896471,0.8062793403006135,0.5440571655270117,0.6168960792936681,0.6161957267558359,0.8300960650800056,0.8438814908514116,0.5295789381716605,0.8650741431027875,0.8424025535967691,0.8670460965465708,0.9024732076780401,0.7501983378761606,0.8182025504723344,0.8284235544355539,0.869890116407878,0.6819958380293839,0.7192337200321938,0.5422712252056892,0.5422756323385348,0.6093825221210935,0.0,0.008148636035122643,0.0009620243036959595,0.004102686279176779,-0.007518266993804861,-0.015068291858710484,-0.007330866265295903,-0.0669772971817161,-0.011003313847743458,-0.0453747446183136,-0.03330283722061552,-0.054361823938844096,-0.032899722970525826,-0.12388363439884158,-0.09417699698859391,-0.1498543449368598,-0.15962645583586868,-0.1648092342122401,-0.16460263661881447,-0.1912597071190848,-0.19228268918925914,-0.19056011012450041,-0.20173957973818205,-0.10855812871702487,-0.2424194133308598,-0.24945859917437424,-0.15430489805905262,-0.23051015354496077,-0.1776084352902772,-0.14682326757517625,0.0977795171898945,-0.10911168756625216,-0.030588720965094317,-0.12927558218650076,-0.1586081652032837,0.13911158230734075,0.1309347644083491,0.30682547924188763,-0.0417573309964311,0.21028532682890905,0.3073019075780259,-0.10440399181711296,0.018404280596670604,0.3718184649729329,0.37360497673370974,0.28018208375485626,0.4644259422914305,0.3193416894818234,0.2601087692390358,0.4900546329858458,0.5049846250568294,0.4540679877046631,0.5111925651780983,0.43018633325572075,0.5382518625622025,0.36460792478105886,0.5656558115760206,0.24108486412466573,0.4742750730036309,0.4053673696531328,0.4553179551596891,0.35112220777039527,0.35384762217369975,0.5584041679387123,0.39282329002581645,0.2858977714568543,-0.06424820894259371,-0.21747403884559477,-0.0076262268992521665,-0.3082801784256808,-0.3948631927116887,-0.22114247626785316,0.4389272392522587,-0.46802239816255176,-0.7455069665827923,-0.42906642553108154,-0.7478979664403504,-0.5129104405528468,-0.5900349520139002,-0.5778471033067842,-0.7867994194987158,-0.6915905788566875,-0.6923739618998773,-0.8091305382792683,-0.7793147566737004,-0.6908296704692094,-0.843419867747955,-0.7499076350882293,-0.7649656550151974,-0.8795394663763532,-0.7233485399589246,0.06166606569906347,-0.6316106125306502,-0.12174539496815225,0.37537980690340933,-0.30216412176503166,-0.2096009204491348,0.5042563669035716,0.5957221487053558,0.4764156241013093],\"z\":[0.0,0.0,0.0,0.0,0.0,0.0,0.0,0.0,0.0,0.0,0.0,0.0,0.0,0.0,0.0,0.0,0.0,0.0,0.0,0.0,0.0,0.0,0.0,0.0,0.0,0.0,0.0,0.0,0.0,0.0,0.0,0.0,0.0,0.0,0.0,0.0,0.0,0.0,0.0,0.0,0.0,0.0,0.0,0.0,0.0,0.0,0.0,0.0,0.0,0.0,0.0,0.0,0.0,0.0,0.0,0.0,0.0,0.0,0.0,0.0,0.0,0.0,0.0,0.0,0.0,0.0,0.0,0.0,0.0,0.0,0.0,0.0,0.0,0.0,0.0,0.0,0.0,0.0,0.0,0.0,0.0,0.0,0.0,0.0,0.0,0.0,0.0,0.0,0.0,0.0,0.0,0.0,0.0,0.0,0.0,0.0,0.0,0.0,0.0,0.0,0.12754023563855704,0.12754019275635686,0.12754015014547773,0.127540107819672,0.12754006579269203,0.12754002407829015,0.12753998269021855,0.1275399416422295,0.12753990094807505,0.12753986062150743,0.1275398206762787,0.1275397811261408,0.12753974198484586,0.1275397032661458,0.1275396649837925,0.12753962715153788,0.12753958978313384,0.12753955289233215,0.12753951649288464,0.1275394805985431,0.12753944522305918,0.12753941038018465,0.12753937608367125,0.12753934234727057,0.12753930918473433,0.1275392766098141,0.1275392446362615,0.12753921327782813,0.12753918254826563,0.1275391524613255,0.12753912303075932,0.12753909427031862,0.127539066193755,0.12753903881481995,0.12753901214726507,0.12753898620484183,0.12753896100130185,0.12753893655039664,0.12753891286587776,0.12753888996149682,0.12753886785100535,0.12753884654815495,0.12753882606669725,0.1275388064203839,0.12753878762296653,0.1275387696881968,0.12753875262982645,0.12753873646160718,0.12753872119729082,0.12753870685062912,0.1275386934348509,0.12753868095115592,0.1275386693887146,0.12753865873617462,0.12753864898218353,0.12753864011538912,0.1275386321244391,0.1275386249979814,0.12753861872466385,0.12753861329313443,0.12753860869204112,0.127538604910032,0.12753860193575517,0.12753859975785875,0.12753859836499098,0.1275385977458001,0.12753859788893437,0.1275385987830421,0.1275386004167717,0.12753860277877152,0.12753860585769,0.1275386096421756,0.1275386141208768,0.12753861928244214,0.12753862511552014,0.1275386316087594,0.12753863875080845,0.127538646530316,0.12753865493593056,0.12753866395630087,0.12753867358007556,0.12753868379590336,0.12753869459243292,0.12753870595831293,0.12753871788219215,0.1275387303527193,0.1275387433585431,0.12753875688831232,0.12753877093067564,0.12753878547428188,0.12753880050777977,0.12753881601981806,0.1275388319990455,0.1275388484341108,0.12753886531366282,0.1275388826263502,0.1275389003608217,0.1275389185057261,0.1275389370497121,0.12753895598142836,0.2550779505790475,0.25507798992529357,0.25507802997889256,0.2550780707171418,0.25507811211733844,0.25507815415678,0.25507819681276367,0.25507824006258667,0.25507828388354625,0.2550783282529396,0.2550783731480638,0.25507841854621605,0.25507846442469334,0.25507851076079274,0.2550785575318113,0.25507860471504584,0.2550786522877934,0.2550787002273508,0.2550787485110149,0.2550787971160824,0.2550788460198501,0.25507889519961463,0.25507894463267267,0.2550789942963208,0.25507904416785554,0.2550790942245735,0.25507914444377094,0.25507919480274444,0.2550792452787902,0.25507929584920463,0.25507934649128383,0.25507939718232414,0.25507944789962156,0.2550794986204723,0.25507954932217236,0.2550795999820177,0.25507965057730425,0.2550797010853279,0.2550797514833846,0.25507980174876993,0.25507985185877974,0.25507990179070966,0.2550799515218554,0.25508000102951245,0.2550800502909764,0.25508009928354275,0.25508014798450684,0.25508019637116414,0.25508024442081,0.2550802921107397,0.2550803394182484,0.25508038632063157,0.2550804327951841,0.25508047881920126,0.25508052436997813,0.2550805694248098,0.2550806139609911,0.2550806579558172,0.2550807013865829,0.25508074423058325,0.25508078646511295,0.255080828067467,0.25508086901494015,0.25508090928482724,0.2550809488544229,0.255080987701022,0.25508102580191916,0.2550810631344092,0.2550810996757866,0.2550811354033462,0.25508117029438254,0.2550812043261903,0.2550812374760641,0.2550812697212985,0.2550813010391882,0.2550813314070277,0.2550813608021117,0.25508138920173473,0.2550814165831915,0.2550814429237765,0.2550814682007844,0.25508149239150985,0.25508151547324753,0.2550815374232921,0.2550815582189382,0.2550815778374805,0.25508159625621385,0.25508161345243296,0.25508162940343265,0.25508164408650774,0.2550816574789531,0.25508166955806366,0.2550816803011343,0.25508168968546013,0.2550816976883362,0.25508170428705756,0.2550817094589194,0.255081713181217,0.2550817154312456,0.2550817161863006],\"type\":\"scatter3d\"}],                        {\"template\":{\"data\":{\"histogram2dcontour\":[{\"type\":\"histogram2dcontour\",\"colorbar\":{\"outlinewidth\":0,\"ticks\":\"\"},\"colorscale\":[[0.0,\"#0d0887\"],[0.1111111111111111,\"#46039f\"],[0.2222222222222222,\"#7201a8\"],[0.3333333333333333,\"#9c179e\"],[0.4444444444444444,\"#bd3786\"],[0.5555555555555556,\"#d8576b\"],[0.6666666666666666,\"#ed7953\"],[0.7777777777777778,\"#fb9f3a\"],[0.8888888888888888,\"#fdca26\"],[1.0,\"#f0f921\"]]}],\"choropleth\":[{\"type\":\"choropleth\",\"colorbar\":{\"outlinewidth\":0,\"ticks\":\"\"}}],\"histogram2d\":[{\"type\":\"histogram2d\",\"colorbar\":{\"outlinewidth\":0,\"ticks\":\"\"},\"colorscale\":[[0.0,\"#0d0887\"],[0.1111111111111111,\"#46039f\"],[0.2222222222222222,\"#7201a8\"],[0.3333333333333333,\"#9c179e\"],[0.4444444444444444,\"#bd3786\"],[0.5555555555555556,\"#d8576b\"],[0.6666666666666666,\"#ed7953\"],[0.7777777777777778,\"#fb9f3a\"],[0.8888888888888888,\"#fdca26\"],[1.0,\"#f0f921\"]]}],\"heatmap\":[{\"type\":\"heatmap\",\"colorbar\":{\"outlinewidth\":0,\"ticks\":\"\"},\"colorscale\":[[0.0,\"#0d0887\"],[0.1111111111111111,\"#46039f\"],[0.2222222222222222,\"#7201a8\"],[0.3333333333333333,\"#9c179e\"],[0.4444444444444444,\"#bd3786\"],[0.5555555555555556,\"#d8576b\"],[0.6666666666666666,\"#ed7953\"],[0.7777777777777778,\"#fb9f3a\"],[0.8888888888888888,\"#fdca26\"],[1.0,\"#f0f921\"]]}],\"heatmapgl\":[{\"type\":\"heatmapgl\",\"colorbar\":{\"outlinewidth\":0,\"ticks\":\"\"},\"colorscale\":[[0.0,\"#0d0887\"],[0.1111111111111111,\"#46039f\"],[0.2222222222222222,\"#7201a8\"],[0.3333333333333333,\"#9c179e\"],[0.4444444444444444,\"#bd3786\"],[0.5555555555555556,\"#d8576b\"],[0.6666666666666666,\"#ed7953\"],[0.7777777777777778,\"#fb9f3a\"],[0.8888888888888888,\"#fdca26\"],[1.0,\"#f0f921\"]]}],\"contourcarpet\":[{\"type\":\"contourcarpet\",\"colorbar\":{\"outlinewidth\":0,\"ticks\":\"\"}}],\"contour\":[{\"type\":\"contour\",\"colorbar\":{\"outlinewidth\":0,\"ticks\":\"\"},\"colorscale\":[[0.0,\"#0d0887\"],[0.1111111111111111,\"#46039f\"],[0.2222222222222222,\"#7201a8\"],[0.3333333333333333,\"#9c179e\"],[0.4444444444444444,\"#bd3786\"],[0.5555555555555556,\"#d8576b\"],[0.6666666666666666,\"#ed7953\"],[0.7777777777777778,\"#fb9f3a\"],[0.8888888888888888,\"#fdca26\"],[1.0,\"#f0f921\"]]}],\"surface\":[{\"type\":\"surface\",\"colorbar\":{\"outlinewidth\":0,\"ticks\":\"\"},\"colorscale\":[[0.0,\"#0d0887\"],[0.1111111111111111,\"#46039f\"],[0.2222222222222222,\"#7201a8\"],[0.3333333333333333,\"#9c179e\"],[0.4444444444444444,\"#bd3786\"],[0.5555555555555556,\"#d8576b\"],[0.6666666666666666,\"#ed7953\"],[0.7777777777777778,\"#fb9f3a\"],[0.8888888888888888,\"#fdca26\"],[1.0,\"#f0f921\"]]}],\"mesh3d\":[{\"type\":\"mesh3d\",\"colorbar\":{\"outlinewidth\":0,\"ticks\":\"\"}}],\"scatter\":[{\"marker\":{\"line\":{\"color\":\"#283442\"}},\"type\":\"scatter\"}],\"parcoords\":[{\"type\":\"parcoords\",\"line\":{\"colorbar\":{\"outlinewidth\":0,\"ticks\":\"\"}}}],\"scatterpolargl\":[{\"type\":\"scatterpolargl\",\"marker\":{\"colorbar\":{\"outlinewidth\":0,\"ticks\":\"\"}}}],\"bar\":[{\"error_x\":{\"color\":\"#f2f5fa\"},\"error_y\":{\"color\":\"#f2f5fa\"},\"marker\":{\"line\":{\"color\":\"rgb(17,17,17)\",\"width\":0.5},\"pattern\":{\"fillmode\":\"overlay\",\"size\":10,\"solidity\":0.2}},\"type\":\"bar\"}],\"scattergeo\":[{\"type\":\"scattergeo\",\"marker\":{\"colorbar\":{\"outlinewidth\":0,\"ticks\":\"\"}}}],\"scatterpolar\":[{\"type\":\"scatterpolar\",\"marker\":{\"colorbar\":{\"outlinewidth\":0,\"ticks\":\"\"}}}],\"histogram\":[{\"marker\":{\"pattern\":{\"fillmode\":\"overlay\",\"size\":10,\"solidity\":0.2}},\"type\":\"histogram\"}],\"scattergl\":[{\"marker\":{\"line\":{\"color\":\"#283442\"}},\"type\":\"scattergl\"}],\"scatter3d\":[{\"type\":\"scatter3d\",\"line\":{\"colorbar\":{\"outlinewidth\":0,\"ticks\":\"\"}},\"marker\":{\"colorbar\":{\"outlinewidth\":0,\"ticks\":\"\"}}}],\"scattermapbox\":[{\"type\":\"scattermapbox\",\"marker\":{\"colorbar\":{\"outlinewidth\":0,\"ticks\":\"\"}}}],\"scatterternary\":[{\"type\":\"scatterternary\",\"marker\":{\"colorbar\":{\"outlinewidth\":0,\"ticks\":\"\"}}}],\"scattercarpet\":[{\"type\":\"scattercarpet\",\"marker\":{\"colorbar\":{\"outlinewidth\":0,\"ticks\":\"\"}}}],\"carpet\":[{\"aaxis\":{\"endlinecolor\":\"#A2B1C6\",\"gridcolor\":\"#506784\",\"linecolor\":\"#506784\",\"minorgridcolor\":\"#506784\",\"startlinecolor\":\"#A2B1C6\"},\"baxis\":{\"endlinecolor\":\"#A2B1C6\",\"gridcolor\":\"#506784\",\"linecolor\":\"#506784\",\"minorgridcolor\":\"#506784\",\"startlinecolor\":\"#A2B1C6\"},\"type\":\"carpet\"}],\"table\":[{\"cells\":{\"fill\":{\"color\":\"#506784\"},\"line\":{\"color\":\"rgb(17,17,17)\"}},\"header\":{\"fill\":{\"color\":\"#2a3f5f\"},\"line\":{\"color\":\"rgb(17,17,17)\"}},\"type\":\"table\"}],\"barpolar\":[{\"marker\":{\"line\":{\"color\":\"rgb(17,17,17)\",\"width\":0.5},\"pattern\":{\"fillmode\":\"overlay\",\"size\":10,\"solidity\":0.2}},\"type\":\"barpolar\"}],\"pie\":[{\"automargin\":true,\"type\":\"pie\"}]},\"layout\":{\"autotypenumbers\":\"strict\",\"colorway\":[\"#636efa\",\"#EF553B\",\"#00cc96\",\"#ab63fa\",\"#FFA15A\",\"#19d3f3\",\"#FF6692\",\"#B6E880\",\"#FF97FF\",\"#FECB52\"],\"font\":{\"color\":\"#f2f5fa\"},\"hovermode\":\"closest\",\"hoverlabel\":{\"align\":\"left\"},\"paper_bgcolor\":\"rgb(17,17,17)\",\"plot_bgcolor\":\"rgb(17,17,17)\",\"polar\":{\"bgcolor\":\"rgb(17,17,17)\",\"angularaxis\":{\"gridcolor\":\"#506784\",\"linecolor\":\"#506784\",\"ticks\":\"\"},\"radialaxis\":{\"gridcolor\":\"#506784\",\"linecolor\":\"#506784\",\"ticks\":\"\"}},\"ternary\":{\"bgcolor\":\"rgb(17,17,17)\",\"aaxis\":{\"gridcolor\":\"#506784\",\"linecolor\":\"#506784\",\"ticks\":\"\"},\"baxis\":{\"gridcolor\":\"#506784\",\"linecolor\":\"#506784\",\"ticks\":\"\"},\"caxis\":{\"gridcolor\":\"#506784\",\"linecolor\":\"#506784\",\"ticks\":\"\"}},\"coloraxis\":{\"colorbar\":{\"outlinewidth\":0,\"ticks\":\"\"}},\"colorscale\":{\"sequential\":[[0.0,\"#0d0887\"],[0.1111111111111111,\"#46039f\"],[0.2222222222222222,\"#7201a8\"],[0.3333333333333333,\"#9c179e\"],[0.4444444444444444,\"#bd3786\"],[0.5555555555555556,\"#d8576b\"],[0.6666666666666666,\"#ed7953\"],[0.7777777777777778,\"#fb9f3a\"],[0.8888888888888888,\"#fdca26\"],[1.0,\"#f0f921\"]],\"sequentialminus\":[[0.0,\"#0d0887\"],[0.1111111111111111,\"#46039f\"],[0.2222222222222222,\"#7201a8\"],[0.3333333333333333,\"#9c179e\"],[0.4444444444444444,\"#bd3786\"],[0.5555555555555556,\"#d8576b\"],[0.6666666666666666,\"#ed7953\"],[0.7777777777777778,\"#fb9f3a\"],[0.8888888888888888,\"#fdca26\"],[1.0,\"#f0f921\"]],\"diverging\":[[0,\"#8e0152\"],[0.1,\"#c51b7d\"],[0.2,\"#de77ae\"],[0.3,\"#f1b6da\"],[0.4,\"#fde0ef\"],[0.5,\"#f7f7f7\"],[0.6,\"#e6f5d0\"],[0.7,\"#b8e186\"],[0.8,\"#7fbc41\"],[0.9,\"#4d9221\"],[1,\"#276419\"]]},\"xaxis\":{\"gridcolor\":\"#283442\",\"linecolor\":\"#506784\",\"ticks\":\"\",\"title\":{\"standoff\":15},\"zerolinecolor\":\"#283442\",\"automargin\":true,\"zerolinewidth\":2},\"yaxis\":{\"gridcolor\":\"#283442\",\"linecolor\":\"#506784\",\"ticks\":\"\",\"title\":{\"standoff\":15},\"zerolinecolor\":\"#283442\",\"automargin\":true,\"zerolinewidth\":2},\"scene\":{\"xaxis\":{\"backgroundcolor\":\"rgb(17,17,17)\",\"gridcolor\":\"#506784\",\"linecolor\":\"#506784\",\"showbackground\":true,\"ticks\":\"\",\"zerolinecolor\":\"#C8D4E3\",\"gridwidth\":2},\"yaxis\":{\"backgroundcolor\":\"rgb(17,17,17)\",\"gridcolor\":\"#506784\",\"linecolor\":\"#506784\",\"showbackground\":true,\"ticks\":\"\",\"zerolinecolor\":\"#C8D4E3\",\"gridwidth\":2},\"zaxis\":{\"backgroundcolor\":\"rgb(17,17,17)\",\"gridcolor\":\"#506784\",\"linecolor\":\"#506784\",\"showbackground\":true,\"ticks\":\"\",\"zerolinecolor\":\"#C8D4E3\",\"gridwidth\":2}},\"shapedefaults\":{\"line\":{\"color\":\"#f2f5fa\"}},\"annotationdefaults\":{\"arrowcolor\":\"#f2f5fa\",\"arrowhead\":0,\"arrowwidth\":1},\"geo\":{\"bgcolor\":\"rgb(17,17,17)\",\"landcolor\":\"rgb(17,17,17)\",\"subunitcolor\":\"#506784\",\"showland\":true,\"showlakes\":true,\"lakecolor\":\"rgb(17,17,17)\"},\"title\":{\"x\":0.05},\"updatemenudefaults\":{\"bgcolor\":\"#506784\",\"borderwidth\":0},\"sliderdefaults\":{\"bgcolor\":\"#C8D4E3\",\"borderwidth\":1,\"bordercolor\":\"rgb(17,17,17)\",\"tickwidth\":0},\"mapbox\":{\"style\":\"dark\"}}},\"scene\":{\"camera\":{\"eye\":{\"x\":1.5,\"y\":1.5,\"z\":1.5}},\"xaxis\":{\"title\":{\"text\":\"Inputs Feature 1\"}},\"yaxis\":{\"title\":{\"text\":\"Inputs Feature 2\"}},\"zaxis\":{\"title\":{\"text\":\"Values\"}}},\"title\":{\"font\":{\"size\":20},\"text\":\"3D Scatter Plot of Errors\",\"y\":0.95,\"x\":0.5,\"xanchor\":\"center\",\"yanchor\":\"top\"},\"margin\":{\"l\":0,\"r\":0,\"t\":0,\"b\":0}},                        {\"responsive\": true}                    ).then(function(){\n",
       "                            \n",
       "var gd = document.getElementById('8dc58ee3-9ec6-4e76-a34b-b6d856bc7b52');\n",
       "var x = new MutationObserver(function (mutations, observer) {{\n",
       "        var display = window.getComputedStyle(gd).display;\n",
       "        if (!display || display === 'none') {{\n",
       "            console.log([gd, 'removed!']);\n",
       "            Plotly.purge(gd);\n",
       "            observer.disconnect();\n",
       "        }}\n",
       "}});\n",
       "\n",
       "// Listen for the removal of the full notebook cells\n",
       "var notebookContainer = gd.closest('#notebook-container');\n",
       "if (notebookContainer) {{\n",
       "    x.observe(notebookContainer, {childList: true});\n",
       "}}\n",
       "\n",
       "// Listen for the clearing of the current output cell\n",
       "var outputEl = gd.closest('.output');\n",
       "if (outputEl) {{\n",
       "    x.observe(outputEl, {childList: true});\n",
       "}}\n",
       "\n",
       "                        })                };                });            </script>        </div>"
      ]
     },
     "metadata": {},
     "output_type": "display_data"
    }
   ],
   "execution_count": 94
  },
  {
   "metadata": {
    "ExecuteTime": {
     "end_time": "2024-09-11T18:33:46.279383Z",
     "start_time": "2024-09-11T18:33:46.271953Z"
    }
   },
   "cell_type": "code",
   "source": [
    "# Display the 3D scatter plot image\n",
    "from src.utils.mermaid import display_image_from_file\n",
    "\n",
    "display_image_from_file('../assets/images/spiral_scatter_plot_3d_error_values.png')"
   ],
   "id": "4a6dbe5537d12976",
   "outputs": [
    {
     "data": {
      "image/png": "[encoded data removed]",
      "text/plain": [
       "<IPython.core.display.Image object>"
      ]
     },
     "metadata": {},
     "output_type": "display_data"
    }
   ],
   "execution_count": 95
  },
  {
   "metadata": {
    "ExecuteTime": {
     "end_time": "2024-09-11T18:33:46.458452Z",
     "start_time": "2024-09-11T18:33:46.454962Z"
    }
   },
   "cell_type": "code",
   "source": "",
   "id": "e574c51d70322233",
   "outputs": [],
   "execution_count": null
  }
 ],
 "metadata": {
  "kernelspec": {
   "display_name": "Python 3 (ipykernel)",
   "language": "python",
   "name": "python3"
  },
  "language_info": {
   "codemirror_mode": {
    "name": "ipython",
    "version": 3
   },
   "file_extension": ".py",
   "mimetype": "text/x-python",
   "name": "python",
   "nbconvert_exporter": "python",
   "pygments_lexer": "ipython3",
   "version": "3.12.2"
  }
 },
 "nbformat": 4,
 "nbformat_minor": 5
}

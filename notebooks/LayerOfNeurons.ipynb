{
 "cells": [
  {
   "metadata": {},
   "cell_type": "markdown",
   "source": [
    "# Neural Networks\n",
    "\n",
    "## A mathematical model of a neural network is a collection of neurons that are connected in layers\n",
    "\n",
    "### A neural network is a collection of neurons that are connected in layers.\n",
    "- A neural network has an input layer, hidden layers, and an output layer.\n",
    "- The input layer is the first layer of the neural network.\n",
    "    - The input layer has neurons that take the input to the neural network.\n",
    "    - **Note**: The input to the neural network is the data that the network is trained on. \\\n",
    "    Not the data that the network is predicting. The input sits at the beginning of the neurons \\\n",
    "    dendrites and aggregates the input signals via dot product to the nucleus to which we \\\n",
    "    apply an activation function, add the bias and pass the output to the axon terminals of \\\n",
    "    other neurons.\n",
    "- The hidden layers are the layers between the input and output layers.\n",
    "- The output layer is the last layer of the neural network.\n",
    "    - The output layer has neurons that produce the output of the neural network.\n",
    "    - The output of the neural network is the prediction of the network.\n",
    "\n",
    "---\n",
    "\n",
    "### A neural network’s forward pass:\n",
    "- The forward pass is the process of calculating the output of a neural network given an input.\n",
    "- The output of the neural network is calculated using the weights and biases of the neurons in the network.\n",
    "- The output of the neural network is the prediction of the network.\n",
    "- The prediction of the network is the output of the last layer of neurons.\n",
    "\n",
    "---\n",
    "\n",
    "$$\n",
    "\\begin{equation}\n",
    "L = -\\sum_{l=1}^{N} y_l \\log \\left( \\frac{\\exp\\left(\\sum_{i=1}^{n_2}\\left(\\forall_{j=1}^{n_2} \\max\\left(0,\\sum_{i=1}^{n_1}\\left(\\forall_{j=1}^{n_1} \\max\\left(0,\\sum_{i=1}^{n_0} X_i w_{1,i,j} + b_{1,j}\\right)\\right)w_{2,i,j} + b_{2,j}\\right)\\right)w_{3,i,j} + b_{3,j}\\right)}{\\sum_{k=1}^{n_3} \\exp\\left(\\sum_{i=1}^{n_2}\\left(\\forall_{j=1}^{n_2} \\max\\left(0,\\sum_{i=1}^{n_1}\\left(\\forall_{j=1}^{n_1} \\max\\left(0,\\sum_{i=1}^{n_0} X_i w_{1,i,j} + b_{1,j}\\right)\\right)w_{2,i,j} + b_{2,k}\\right)\\right)w_{3,i,k} + b_{3,k}\\right)}\\right)\n",
    "\\end{equation}\n",
    "$$\n",
    "\n",
    "---"
   ],
   "id": "d63c06f41b1fed64"
  },
  {
   "metadata": {},
   "cell_type": "markdown",
   "source": "### The Forward Pass can be represented as a series of matrix multiplications ",
   "id": "ef3e52a2bcef9ccf"
  },
  {
   "metadata": {
    "ExecuteTime": {
     "end_time": "2024-08-27T04:36:55.280249Z",
     "start_time": "2024-08-27T04:36:55.266459Z"
    }
   },
   "cell_type": "code",
   "source": [
    "import numpy as np\n",
    "from src.functions.activation import Sigmoid\n",
    "\n",
    "\n",
    "# create the input data\n",
    "X = np.array([[1.0, 2.0, 3.0, 2.5],\n",
    "                [2.0, 5.0, -1.0, 2.0],\n",
    "                [-1.5, 2.7, 3.3, -0.8]])\n",
    "\n",
    "# create the Expected output data\n",
    "y = np.array([[0, 1, 0],\n",
    "                [1, 0, 1],\n",
    "                [0, 1, 0]])\n",
    "\n",
    "# create the weights\n",
    "w1 = np.array([[0.2, 0.8, -0.5, 1.0],\n",
    "                [0.5, -0.91, 0.26, -0.5],\n",
    "                [-0.26, -0.27, 0.17, 0.87]])\n",
    "w2 = np.array([[0.1, -0.14, 0.5],\n",
    "                [-0.5, 0.12, -0.33],\n",
    "                [-0.44, 0.73, -0.13]])\n",
    "w3 = np.array([[-0.1, -0.14, -0.5],\n",
    "                [0.5, 0.12, -0.33],\n",
    "                [-0.44, 0.73, -0.13]])\n",
    "\n",
    "# create the biases\n",
    "b1 = np.array([2.0, 3.0, 0.5])\n",
    "b2 = np.array([-1.0, 2.0, -0.5])\n",
    "b3 = np.array([2.0, 3.0, 0.5])\n",
    "\n",
    "# create the activation function\n",
    "sigmoid = Sigmoid()\n",
    "\n",
    "# calculate the output/loss of the neural network\n",
    "loss = -np.log(  # cross-entropy loss\n",
    "    np.sum(  # sum over the output neurons\n",
    "        y * np.exp(  # element-wise multiplication with the exponential of the output\n",
    "            np.dot(  # dot product of the output\n",
    "                np.maximum(  # ReLU activation\n",
    "                    0,  # ReLU\n",
    "                    np.dot(  # dot product of the hidden layer\n",
    "                        np.maximum(  # ReLU activation\n",
    "                            0,  # ReLU\n",
    "                            np.dot(  # dot product of the input layer\n",
    "                                X,  # input data\n",
    "                                w1.T  # transpose of the weights\n",
    "                            ) + b1 # add the bias\n",
    "                        ),  # ReLU\n",
    "                        w2.T  # transpose of the weights\n",
    "                    ) + b2  # add the bias\n",
    "                ),  # ReLU\n",
    "                w3.T  # transpose of the weights\n",
    "            ) + b3  # add the bias\n",
    "        ) /  # divide by the sum of the exponential of the output\n",
    "        np.sum(  # sum over the output neurons\n",
    "            np.exp(  # exponential of the output\n",
    "                np.dot(  # dot product of the output\n",
    "                    np.maximum(  # ReLU activation\n",
    "                        0,  # ReLU\n",
    "                        np.dot(  # dot product of the hidden layer\n",
    "                            np.maximum(  # ReLU activation\n",
    "                                0,  # ReLU\n",
    "                                np.dot(  # dot product of the input layer\n",
    "                                    X,  # input data\n",
    "                                    w1.T  # transpose of the weights\n",
    "                                ) + b1  # add the bias\n",
    "                            ),  # ReLU\n",
    "                            w2.T  # transpose of the weights\n",
    "                        ) + b2  # add the bias\n",
    "                    ),  # ReLU\n",
    "                    w3.T  # transpose of the weights\n",
    "                ) + b3  # add the bias\n",
    "            ),  # exponential of the output\n",
    "        axis=1, # sum over the output neurons\n",
    "        keepdims=True  # keep the dimensions of the output\n",
    "        ) # sum over the output neurons\n",
    "    )  # sum over the output neurons\n",
    ")  # cross-entropy loss\n",
    "\n",
    "# verify the accuracy of the loss\n",
    "# assert loss.shape == (3, 3), \"The shape of the loss is incorrect\"\n",
    "\n",
    "# print the loss\n",
    "print(loss)"
   ],
   "id": "c52aa918f101e9a5",
   "outputs": [
    {
     "name": "stdout",
     "output_type": "stream",
     "text": [
      "-0.5631323300324019\n"
     ]
    }
   ],
   "execution_count": 83
  },
  {
   "metadata": {},
   "cell_type": "markdown",
   "source": [
    "# Layer of Neurons\n",
    "\n",
    "### A layer of neurons is a collection of neurons that take the same number of inputs and produce the same number of outputs.\n",
    "\n",
    "#### The output of each neuron is calculated as follows:\n",
    "\n",
    "---\n",
    "\n",
    "$\n",
    "\\begin{align*}\n",
    "\\text{``Predictions``} &= \\text{Activation Function}(\\text{weights} \\cdot \\text{inputs} + \\text{Bias}) \\\\\n",
    "\\text{``Weighted Sum of Inputs w/ Bias``} &= \\sigma(\\sum_{i=1}^{n} w_i \\cdot x_i + b) \\\\\n",
    "\\text{``Weighted Sum of Inputs w/ Bias``} &= \\sigma(w_1 \\cdot x_1 + w_2 \\cdot x_2 + . . . + w_n \\cdot x_n + b)\n",
    "\\end{align*}\n",
    "$\n",
    "\n",
    "---\n",
    "\n",
    "#### The Predictions are the output of the layer of neurons.\n",
    "- The weights are the weights of the neurons in the layer.\n",
    "- The inputs are the inputs to the layer.\n",
    "- The bias is the bias of the neurons in the layer.\n",
    "- The activation function is the activation function of the neurons in the layer.\n",
    "- The weighted sum of inputs w/ bias is the weighted sum of the inputs to the layer plus the bias.\n",
    "- The weighted sum of inputs w/ bias is the dot product of the weights and inputs plus the bias.\n",
    "\n",
    "#### The output of each neuron is calculated as follows:\n",
    "- The weighted sum of inputs and bias is calculated.\n",
    "- The activation function is applied to the weighted sum of inputs and bias.\n",
    "- The result is the prediction of the neuron.\n",
    "- The predictions of all the neurons in the layer are returned as a list.\n",
    "- The output of the layer of neurons is the list of predictions.\n",
    "\n",
    "#### The output of the layer of neurons is a list of predictions, one for each neuron in the layer.\n",
    "\n",
    "### Using Dot Product\n",
    "\n",
    "#### Calculate the weighted sum of inputs and add the bias\n",
    "\n",
    "---\n",
    "\n",
    "$\n",
    "\\begin{align*}\n",
    "\\text{Weighted Sum w/ Bias} &= \\sum_{i=1}^{n} w_i \\cdot x_i + b \\\\\n",
    "\\text{Weighted Sum w/ Bias} &= w_1 \\cdot x_1 + w_2 \\cdot x_2 + . . . + w_n \\cdot x_n + b\n",
    "\\end{align*}\n",
    "$\n",
    "\n",
    "---\n",
    "\n",
    "```python\n",
    "inputs = [1.0, 2.0, 3.0, 2.5]\n",
    "weights = [0.2, 0.8, -0.5, 1.0]\n",
    "bias = 2.0\n",
    "\n",
    "# calculate the weighted sum of inputs and add the bias for each neuron\n",
    "output = [\n",
    "# Neuron 1: \n",
    "inputs[0]*weights[0] + inputs[1]*weights[1] + inputs[2]*weights[2] + inputs[3]*weights[3] + bias,\n",
    "]\n",
    "\n",
    "predictions = ActivationFunction(output)\n",
    "```\n",
    "\n",
    "In the context of binary classification using a sigmoid activation function, a prediction close to \"1\" typically indicates a positive class, while a prediction close to \"0\" indicates a negative class. Whether \"1\" or \"0\" is considered good or bad depends on the true label of the data point:\n",
    "\n",
    "- If the true label is \"1\" (positive class), a prediction close to \"1\" is good, and a prediction close to \"0\" is bad.\n",
    "- If the true label is \"0\" (negative class), a prediction close to \"0\" is good, and a prediction close to \"1\" is bad.\n",
    "\n"
   ],
   "id": "830d3fc99896b802"
  },
  {
   "metadata": {},
   "cell_type": "markdown",
   "source": [
    "### This example demonstrates how to calculate the output of a layer of neurons using a dot product.\n",
    "\n",
    "- The input data is a 1x4 matrix. Meaning we have 1 sample with 4 inputs.\n",
    "- The weights define the number of neurons in the layer. This layer has 3 neurons with 4 inputs each to match your input data.\n",
    "- The bias is a 1x3 matrix. Meaning we have 3 biases for the 3 neurons in the layer, in the shape of a 1x3 matrix and 1 input per neuron.\n",
    "- The output of the layer of neurons is a 1x3 matrix. Meaning we have 1 sample with 3 predictions.\n",
    "- The prediction is a sort of transformation of the output of the neurons in the layer.\n",
    "\n",
    "$\n",
    "\\begin{align*}\n",
    "O &= XW^T + B = \\begin{bmatrix} 1.0 & 2.0 & 3.0 & 2.5 \\end{bmatrix} \\begin{bmatrix} 0.2 & 0.5 & -0.26 \\\\ 0.8 & -0.91 & -0.27 \\\\ -0.5 & 0.26 & 0.17 \\\\ 1.0 & -0.5 & 0.87 \\end{bmatrix} + \\begin{bmatrix} 0.0 & 0.0 & 0.0 \\end{bmatrix} \\\\\n",
    "O &= \\begin{bmatrix} 2.8 & -1.79 & 1.885 \\end{bmatrix}\n",
    "\\end{align*}\n",
    "$\n",
    "\n",
    "Next, lets take a closer look at this matrix multiplication in algebraic form:\n",
    "\n",
    "$\n",
    "\\begin{align*}\n",
    "O &= \\begin{bmatrix} 1.0 \\cdot 0.2 + 2.0 \\cdot 0.8 + 3.0 \\cdot -0.5 + 2.5 \\cdot 1.0 & 1.0 \\cdot 0.5 + 2.0 \\cdot -0.91 + 3.0 \\cdot 0.26 + 2.5 \\cdot -0.5 & 1.0 \\cdot -0.26 + 2.0 \\cdot -0.27 + 3.0 \\cdot 0.17 + 2.5 \\cdot 0.87 \\end{bmatrix} + \\begin{bmatrix} 0.0 & 0.0 & 0.0 \\end{bmatrix} \\\\\n",
    "O &= \\begin{bmatrix} 2.8 & -1.79 & 1.885 \\end{bmatrix} + \\begin{bmatrix} 0.0 & 0.0 & 0.0 \\end{bmatrix} \\\\\n",
    "O &= \\begin{bmatrix} 2.8 & -1.79 & 1.885 \\end{bmatrix}\n",
    "\\end{align*}\n",
    "$\n"
   ],
   "id": "aaaff353415c4224"
  },
  {
   "metadata": {
    "ExecuteTime": {
     "end_time": "2024-08-27T06:19:17.737982Z",
     "start_time": "2024-08-27T06:19:17.715424Z"
    }
   },
   "cell_type": "code",
   "source": [
    "# Layer of Neurons Example \n",
    "import numpy as np\n",
    "from src.functions.activation import Sigmoid\n",
    "\n",
    "# initialize the activation function\n",
    "sigmoid = Sigmoid()\n",
    "\n",
    "# Create the encoding sample input data\n",
    "encoded_inputs = np.array(\n",
    "    # Input sample 1: 1x4 matrix; 4 inputs for 4 neurons\n",
    "    [1.0, 2.0, 3.0, 2.5]\n",
    ")\n",
    "print(f\"Encoded Inputs: \\n{encoded_inputs}\")\n",
    "\n",
    "\n",
    "# Our weights define the number of neurons in the layer. This \n",
    "# layer has 3 neurons with 4 inputs each to match your input data.\n",
    "# initialize  weights and biases\n",
    "weights = np.array([\n",
    "    # Neuron 1: 4 inputs\n",
    "    [0.2, 0.8, -0.5, 1.0],\n",
    "    # Neuron 2: 4 inputs\n",
    "    [0.5, -0.91, 0.26, -0.5],\n",
    "    # Neuron 3: 4 inputs\n",
    "    [-0.26, -0.27, 0.17, 0.87]])\n",
    "print(f\"Weights: \\n{weights}\")\n",
    "\n",
    "# initialize random bias\n",
    "# This layer has 4 neurons, so we need 4 biases.\n",
    "# The bias is a 4x1 matrix. Meaning we have 4 biases for the 4 \n",
    "# neurons in the layer, in the shape of a 4x1 matrix and 1 input per neuron.\n",
    "bias  = np.array([[0.0, 0.0, 0.0]])\n",
    "print(f\"Bias: \\n{bias}\")\n",
    "\n",
    "# get the weighted sums of the inputs and add the bias\n",
    "# Here we model the neurons output using sample input data, \n",
    "# a vector that is passed to each neuron in the layer.\n",
    "outputs = np.dot(weights, encoded_inputs) + bias\n",
    "print(f\"Outputs: \\n{outputs}\") # Outputs: [[2.8, -1.79, 1.885]]\n",
    "\n",
    "# apply the activation function and get the predictions\n",
    "# The prediction is a sort of transformation of the output of the \n",
    "# neurons in the layer.\n",
    "predictions = sigmoid(outputs)\n",
    "print(f\"Predictions: \\n{predictions}\")\n",
    "\n",
    "# Error\n",
    "error_rate = 1 - predictions\n",
    "print(f\"Error Ratio: \\n{error_rate}\")"
   ],
   "id": "d85c690bb74fb820",
   "outputs": [
    {
     "name": "stdout",
     "output_type": "stream",
     "text": [
      "Encoded Inputs: \n",
      "[1.  2.  3.  2.5]\n",
      "Weights: \n",
      "[[ 0.2   0.8  -0.5   1.  ]\n",
      " [ 0.5  -0.91  0.26 -0.5 ]\n",
      " [-0.26 -0.27  0.17  0.87]]\n",
      "Bias: \n",
      "[[0. 0. 0.]]\n",
      "Outputs: \n",
      "[[ 2.8   -1.79   1.885]]\n",
      "Predictions: \n",
      "[[0.94267582 0.14307272 0.86818438]]\n",
      "Error Ratio: \n",
      "[[0.05732418 0.85692728 0.13181562]]\n"
     ]
    }
   ],
   "execution_count": 111
  },
  {
   "metadata": {},
   "cell_type": "markdown",
   "source": [
    "\n",
    "### This example demonstrates how to calculate the output of a layer of neurons using a dot product.\n",
    "\n",
    "- The input data is a 3x4 matrix. Meaning we have 3 samples with 4 inputs each.\n",
    "- The weights define the number of neurons in the layer. This layer has 3 neurons with 4 inputs each to match your input data.\n",
    "- The bias is a 3x1 matrix. Meaning we have 3 biases for the 3 neurons in the layer, in the shape of a 3x1 matrix and 1 input per neuron.\n",
    "- The output of the layer of neurons is a 3x3 matrix. Meaning we have 3 samples with 3 predictions each.\n",
    "\n",
    "\n",
    "$\n",
    "\\begin{align*}\n",
    "O &= XW^T + B = \\begin{bmatrix} 1.0 & 2.0 & 3.0 & 2.5 \\\\ 2.0 & 5.0 & -1.0 & 2.0 \\\\ -1.5 & 2.7 & 3.3 & -0.8 \\end{bmatrix} \\begin{bmatrix} 0.2 & 0.5 & -0.26 \\\\ 0.8 & -0.91 & -0.27 \\\\ -0.5 & 0.26 & 0.17 \\\\ 1.0 & -0.5 & 0.87 \\end{bmatrix} + \\begin{bmatrix} 0.0 & 0.0 & 0.0 \\end{bmatrix} \\\\\n",
    "O &= \\begin{bmatrix} 2.8 & -1.79 & 1.885 \\\\ 6.9 & -4.81 & -0.3 \\\\ -0.59 & -1.949 & -0.474 \\end{bmatrix} + \\begin{bmatrix} 0.0 & 0.0 & 0.0 \\end{bmatrix} \\\\\\\\\n",
    "O &= \\begin{bmatrix} 2.8 & -1.79 & 1.885 \\\\ 6.9 & -4.81 & -0.3 \\\\ -0.59 & -1.949 & -0.474 \\end{bmatrix}\n",
    "\\end{align*}\n",
    "$"
   ],
   "id": "c45de9b8f554abe7"
  },
  {
   "metadata": {
    "ExecuteTime": {
     "end_time": "2024-08-27T06:21:38.784684Z",
     "start_time": "2024-08-27T06:21:38.772819Z"
    }
   },
   "cell_type": "code",
   "source": [
    "# Layer of Neurons Example \n",
    "import numpy as np\n",
    "from src.functions.activation import Sigmoid\n",
    "\n",
    "# initialize the activation function\n",
    "sigmoid = Sigmoid()\n",
    "\n",
    "# Create the encoding sample input data\n",
    "# The input data is a 3x4 matrix. Meaning we have 3 samples with 4 inputs each.\n",
    "encoded_inputs = np.array([\n",
    "    # Input sample 1: 1x4 matrix; 4 inputs for 4 neurons\n",
    "    [1.0, 2.0, 3.0, 2.5],\n",
    "    # Input sample 2: 1x4 matrix; 4 inputs for 4 neurons\n",
    "    [2.0, 5.0, -1.0, 2.0],\n",
    "    # Input sample 3: 1x4 matrix; 4 inputs for 4 neurons\n",
    "    [-1.5, 2.7, 3.3, -0.8]\n",
    "])\n",
    "print(f\"Encoded Inputs: \\n{encoded_inputs}\")\n",
    "\n",
    "\n",
    "# Our weights define the number of neurons in the layer. This \n",
    "# layer has 3 neurons with 4 inputs each to match your input data.\n",
    "# initialize  weights and biases\n",
    "weights = np.array([\n",
    "    # Neuron 1: 4 inputs\n",
    "    [0.2, 0.8, -0.5, 1.0],\n",
    "    # Neuron 2: 4 inputs\n",
    "    [0.5, -0.91, 0.26, -0.5],\n",
    "    # Neuron 3: 4 inputs\n",
    "    [-0.26, -0.27, 0.17, 0.87]]).T\n",
    "print(f\"Weights: \\n{weights}\")\n",
    "\n",
    "# initialize random bias\n",
    "# This layer has 4 neurons, so we need 4 biases.\n",
    "# The bias is a 4x1 matrix. Meaning we have 4 biases for the 4 \n",
    "# neurons in the layer, in the shape of a 4x1 matrix and 1 input per neuron.\n",
    "bias  = np.array([[0.0, 0.0, 0.0]])\n",
    "print(f\"Bias: \\n{bias}\")\n",
    "\n",
    "# get the weighted sums of the inputs and add the bias\n",
    "# Here we model the neurons output using sample input data, \n",
    "# a vector that is passed to each neuron in the layer.\n",
    "# $O = XW^T + B &= \\begin{bmatrix} 1.0 & 2.0 & 3.0 & 2.5 \\\\ 2.0 & 5.0 & -1.0 & 2.0 \\\\ -1.5 & 2.7 & 3.3 & -0.8 \\end{bmatrix} \\begin{bmatrix} 0.2 & 0.5 & -0.26 \\\\ 0.8 & -0.91 & -0.27 \\\\ -0.5 & 0.26 & 0.17 \\\\ 1.0 & -0.5 & 0.87 \\end{bmatrix} + \\begin{bmatrix} 0.0 & 0.0 & 0.0 \\end{bmatrix}$\n",
    "outputs = np.dot(encoded_inputs, weights) + bias\n",
    "# Outputs: [[ 2.8   -1.79   1.885], [ 6.9   -4.81  -0.3  ], [-0.59  -1.949 -0.474]]\n",
    "print(f\"Outputs: \\n{outputs}\") \n",
    "\n",
    "# apply the activation function and get the predictions\n",
    "# The prediction is a sort of transformation of the output of the \n",
    "# neurons in the layer.\n",
    "predictions = sigmoid(outputs)\n",
    "print(f\"Predictions: \\n{predictions}\")\n",
    "\n",
    "# Error\n",
    "error_rate = 1 - predictions \n",
    "print(f\"Error Ratio: \\n{error_rate}\")"
   ],
   "id": "e7705355e5e36c85",
   "outputs": [
    {
     "name": "stdout",
     "output_type": "stream",
     "text": [
      "Encoded Inputs: \n",
      "[[ 1.   2.   3.   2.5]\n",
      " [ 2.   5.  -1.   2. ]\n",
      " [-1.5  2.7  3.3 -0.8]]\n",
      "Weights: \n",
      "[[ 0.2   0.5  -0.26]\n",
      " [ 0.8  -0.91 -0.27]\n",
      " [-0.5   0.26  0.17]\n",
      " [ 1.   -0.5   0.87]]\n",
      "Bias: \n",
      "[[0. 0. 0.]]\n",
      "Outputs: \n",
      "[[ 2.8   -1.79   1.885]\n",
      " [ 6.9   -4.81  -0.3  ]\n",
      " [-0.59  -1.949 -0.474]]\n",
      "Predictions: \n",
      "[[0.94267582 0.14307272 0.86818438]\n",
      " [0.99899323 0.00808201 0.42555748]\n",
      " [0.35663485 0.12466244 0.38366994]]\n",
      "Error Ratio: \n",
      "[[0.05732418 0.85692728 0.13181562]\n",
      " [0.00100677 0.99191799 0.57444252]\n",
      " [0.64336515 0.87533756 0.61633006]]\n"
     ]
    }
   ],
   "execution_count": 112
  },
  {
   "metadata": {
    "ExecuteTime": {
     "end_time": "2024-08-27T06:34:38.648130Z",
     "start_time": "2024-08-27T06:34:38.636759Z"
    }
   },
   "cell_type": "code",
   "source": [
    "# Layer of Neurons Example \n",
    "import numpy as np\n",
    "from src.functions.activation import Sigmoid\n",
    "from src.encoder.label import encode as encode_labels\n",
    "\n",
    "# initialize the activation function\n",
    "sigmoid = Sigmoid()\n",
    "\n",
    "# convert the words to sums of Unicode values\n",
    "input_words = np.array(['Cat', 'Dog', 'Rabbit', 'Horse'])\n",
    "encoded_inputs = encode_labels(input_words)\n",
    "print(f\"Encoded Inputs: \\n{encoded_inputs}\")\n",
    "\n",
    "# initialize seed for reproducibility\n",
    "np.random.seed(10)\n",
    "\n",
    "\n",
    "# TODO: Our weights define the number of neurons in the layer. This layer has 3 neurons with 4 inputs each to match your input data. In the 'np.random.rand(3, 4)' function, the first argument is the number of neurons in the layer, and the second argument is the number of inputs to each neuron.\n",
    "# initialize random weights and biases\n",
    "weights = np.random.rand(3, 4)\n",
    "print(f\"Weights: \\n{weights}\")\n",
    "\n",
    "# initialize random bias\n",
    "# This layer has 4 neurons, so we need 4 biases.\n",
    "# The bias is a 4x1 matrix. Meaning we have 4 biases for the 4 neurons in the layer, in the shape of a 4x1 matrix and 1 input per neuron.\n",
    "bias  = np.random.rand(1, 3)\n",
    "print(f\"Bias: \\n{bias}\")\n",
    "\n",
    "# convert the words to sums of Unicode values\n",
    "labels = np.array(['Cat', 'Dog', 'Rabbit', 'Horse'])\n",
    "encoded_labels = encode_labels(labels)\n",
    "print(f\"Labels: \\n{labels}\")\n",
    "print(f\"Encoded Labels: \\n{encoded_labels}\")\n",
    "\n",
    "# get the weighted sums of the inputs and add the bias\n",
    "outputs = np.dot(encoded_inputs, weights.T) + bias\n",
    "print(f\"Outputs: \\n{outputs}\")\n",
    "\n",
    "# apply the activation function and get the predictions\n",
    "# The prediction is a sort of transformation of the output of the neurons in the layer.\n",
    "predictions = sigmoid(outputs)\n",
    "print(f\"Predictions: \\n{predictions}\")\n",
    "\n",
    "# Error\n",
    "error_rate = (1 - predictions).tolist()\n",
    "print(f\"Error Ratio: \\n{error_rate}\")"
   ],
   "id": "ebe52e88d18caffa",
   "outputs": [
    {
     "name": "stdout",
     "output_type": "stream",
     "text": [
      "Encoded Inputs: \n",
      "[[104.       104.666664 104.666664 109.      ]]\n",
      "Weights: \n",
      "[[0.77132064 0.02075195 0.63364823 0.74880388]\n",
      " [0.49850701 0.22479665 0.19806286 0.76053071]\n",
      " [0.16911084 0.08833981 0.68535982 0.95339335]]\n",
      "Bias: \n",
      "[[0.00394827 0.51219226 0.81262096]]\n",
      "Labels: \n",
      "['Cat' 'Dog' 'Rabbit' 'Horse']\n",
      "Encoded Labels: \n",
      "[[104.       104.666664 104.666664 109.      ]]\n",
      "Outputs: \n",
      "[[230.33480265 179.51406351 203.30058227]]\n",
      "Predictions: \n",
      "[[1. 1. 1.]]\n",
      "Error Ratio: \n",
      "[[0.0, 0.0, 0.0]]\n"
     ]
    }
   ],
   "execution_count": 131
  },
  {
   "metadata": {
    "ExecuteTime": {
     "end_time": "2024-08-27T06:34:44.721794Z",
     "start_time": "2024-08-27T06:34:44.703862Z"
    }
   },
   "cell_type": "code",
   "source": [
    "# Graph the error on a line plot\n",
    "from plotly import graph_objects as go\n",
    "\n",
    "fig = go.Figure()\n",
    "fig.add_trace(\n",
    "    go.Scatter(\n",
    "        x=labels, y=error_rate[0], mode='lines+markers', \n",
    "    xaxis='x', yaxis='y', name='Outputs'\n",
    "    ))\n",
    "fig.update_layout(title='Error Ratio', xaxis_title='Labels', yaxis_title='Error')\n",
    "fig.show()"
   ],
   "id": "a131bfe5a9629d2b",
   "outputs": [
    {
     "data": {
      "application/vnd.plotly.v1+json": {
       "data": [
        {
         "mode": "lines+markers",
         "name": "Outputs",
         "x": [
          "Cat",
          "Dog",
          "Rabbit",
          "Horse"
         ],
         "xaxis": "x",
         "y": [
          0.0,
          0.0,
          0.0
         ],
         "yaxis": "y",
         "type": "scatter"
        }
       ],
       "layout": {
        "template": {
         "data": {
          "histogram2dcontour": [
           {
            "type": "histogram2dcontour",
            "colorbar": {
             "outlinewidth": 0,
             "ticks": ""
            },
            "colorscale": [
             [
              0.0,
              "#0d0887"
             ],
             [
              0.1111111111111111,
              "#46039f"
             ],
             [
              0.2222222222222222,
              "#7201a8"
             ],
             [
              0.3333333333333333,
              "#9c179e"
             ],
             [
              0.4444444444444444,
              "#bd3786"
             ],
             [
              0.5555555555555556,
              "#d8576b"
             ],
             [
              0.6666666666666666,
              "#ed7953"
             ],
             [
              0.7777777777777778,
              "#fb9f3a"
             ],
             [
              0.8888888888888888,
              "#fdca26"
             ],
             [
              1.0,
              "#f0f921"
             ]
            ]
           }
          ],
          "choropleth": [
           {
            "type": "choropleth",
            "colorbar": {
             "outlinewidth": 0,
             "ticks": ""
            }
           }
          ],
          "histogram2d": [
           {
            "type": "histogram2d",
            "colorbar": {
             "outlinewidth": 0,
             "ticks": ""
            },
            "colorscale": [
             [
              0.0,
              "#0d0887"
             ],
             [
              0.1111111111111111,
              "#46039f"
             ],
             [
              0.2222222222222222,
              "#7201a8"
             ],
             [
              0.3333333333333333,
              "#9c179e"
             ],
             [
              0.4444444444444444,
              "#bd3786"
             ],
             [
              0.5555555555555556,
              "#d8576b"
             ],
             [
              0.6666666666666666,
              "#ed7953"
             ],
             [
              0.7777777777777778,
              "#fb9f3a"
             ],
             [
              0.8888888888888888,
              "#fdca26"
             ],
             [
              1.0,
              "#f0f921"
             ]
            ]
           }
          ],
          "heatmap": [
           {
            "type": "heatmap",
            "colorbar": {
             "outlinewidth": 0,
             "ticks": ""
            },
            "colorscale": [
             [
              0.0,
              "#0d0887"
             ],
             [
              0.1111111111111111,
              "#46039f"
             ],
             [
              0.2222222222222222,
              "#7201a8"
             ],
             [
              0.3333333333333333,
              "#9c179e"
             ],
             [
              0.4444444444444444,
              "#bd3786"
             ],
             [
              0.5555555555555556,
              "#d8576b"
             ],
             [
              0.6666666666666666,
              "#ed7953"
             ],
             [
              0.7777777777777778,
              "#fb9f3a"
             ],
             [
              0.8888888888888888,
              "#fdca26"
             ],
             [
              1.0,
              "#f0f921"
             ]
            ]
           }
          ],
          "heatmapgl": [
           {
            "type": "heatmapgl",
            "colorbar": {
             "outlinewidth": 0,
             "ticks": ""
            },
            "colorscale": [
             [
              0.0,
              "#0d0887"
             ],
             [
              0.1111111111111111,
              "#46039f"
             ],
             [
              0.2222222222222222,
              "#7201a8"
             ],
             [
              0.3333333333333333,
              "#9c179e"
             ],
             [
              0.4444444444444444,
              "#bd3786"
             ],
             [
              0.5555555555555556,
              "#d8576b"
             ],
             [
              0.6666666666666666,
              "#ed7953"
             ],
             [
              0.7777777777777778,
              "#fb9f3a"
             ],
             [
              0.8888888888888888,
              "#fdca26"
             ],
             [
              1.0,
              "#f0f921"
             ]
            ]
           }
          ],
          "contourcarpet": [
           {
            "type": "contourcarpet",
            "colorbar": {
             "outlinewidth": 0,
             "ticks": ""
            }
           }
          ],
          "contour": [
           {
            "type": "contour",
            "colorbar": {
             "outlinewidth": 0,
             "ticks": ""
            },
            "colorscale": [
             [
              0.0,
              "#0d0887"
             ],
             [
              0.1111111111111111,
              "#46039f"
             ],
             [
              0.2222222222222222,
              "#7201a8"
             ],
             [
              0.3333333333333333,
              "#9c179e"
             ],
             [
              0.4444444444444444,
              "#bd3786"
             ],
             [
              0.5555555555555556,
              "#d8576b"
             ],
             [
              0.6666666666666666,
              "#ed7953"
             ],
             [
              0.7777777777777778,
              "#fb9f3a"
             ],
             [
              0.8888888888888888,
              "#fdca26"
             ],
             [
              1.0,
              "#f0f921"
             ]
            ]
           }
          ],
          "surface": [
           {
            "type": "surface",
            "colorbar": {
             "outlinewidth": 0,
             "ticks": ""
            },
            "colorscale": [
             [
              0.0,
              "#0d0887"
             ],
             [
              0.1111111111111111,
              "#46039f"
             ],
             [
              0.2222222222222222,
              "#7201a8"
             ],
             [
              0.3333333333333333,
              "#9c179e"
             ],
             [
              0.4444444444444444,
              "#bd3786"
             ],
             [
              0.5555555555555556,
              "#d8576b"
             ],
             [
              0.6666666666666666,
              "#ed7953"
             ],
             [
              0.7777777777777778,
              "#fb9f3a"
             ],
             [
              0.8888888888888888,
              "#fdca26"
             ],
             [
              1.0,
              "#f0f921"
             ]
            ]
           }
          ],
          "mesh3d": [
           {
            "type": "mesh3d",
            "colorbar": {
             "outlinewidth": 0,
             "ticks": ""
            }
           }
          ],
          "scatter": [
           {
            "marker": {
             "line": {
              "color": "#283442"
             }
            },
            "type": "scatter"
           }
          ],
          "parcoords": [
           {
            "type": "parcoords",
            "line": {
             "colorbar": {
              "outlinewidth": 0,
              "ticks": ""
             }
            }
           }
          ],
          "scatterpolargl": [
           {
            "type": "scatterpolargl",
            "marker": {
             "colorbar": {
              "outlinewidth": 0,
              "ticks": ""
             }
            }
           }
          ],
          "bar": [
           {
            "error_x": {
             "color": "#f2f5fa"
            },
            "error_y": {
             "color": "#f2f5fa"
            },
            "marker": {
             "line": {
              "color": "rgb(17,17,17)",
              "width": 0.5
             },
             "pattern": {
              "fillmode": "overlay",
              "size": 10,
              "solidity": 0.2
             }
            },
            "type": "bar"
           }
          ],
          "scattergeo": [
           {
            "type": "scattergeo",
            "marker": {
             "colorbar": {
              "outlinewidth": 0,
              "ticks": ""
             }
            }
           }
          ],
          "scatterpolar": [
           {
            "type": "scatterpolar",
            "marker": {
             "colorbar": {
              "outlinewidth": 0,
              "ticks": ""
             }
            }
           }
          ],
          "histogram": [
           {
            "marker": {
             "pattern": {
              "fillmode": "overlay",
              "size": 10,
              "solidity": 0.2
             }
            },
            "type": "histogram"
           }
          ],
          "scattergl": [
           {
            "marker": {
             "line": {
              "color": "#283442"
             }
            },
            "type": "scattergl"
           }
          ],
          "scatter3d": [
           {
            "type": "scatter3d",
            "line": {
             "colorbar": {
              "outlinewidth": 0,
              "ticks": ""
             }
            },
            "marker": {
             "colorbar": {
              "outlinewidth": 0,
              "ticks": ""
             }
            }
           }
          ],
          "scattermapbox": [
           {
            "type": "scattermapbox",
            "marker": {
             "colorbar": {
              "outlinewidth": 0,
              "ticks": ""
             }
            }
           }
          ],
          "scatterternary": [
           {
            "type": "scatterternary",
            "marker": {
             "colorbar": {
              "outlinewidth": 0,
              "ticks": ""
             }
            }
           }
          ],
          "scattercarpet": [
           {
            "type": "scattercarpet",
            "marker": {
             "colorbar": {
              "outlinewidth": 0,
              "ticks": ""
             }
            }
           }
          ],
          "carpet": [
           {
            "aaxis": {
             "endlinecolor": "#A2B1C6",
             "gridcolor": "#506784",
             "linecolor": "#506784",
             "minorgridcolor": "#506784",
             "startlinecolor": "#A2B1C6"
            },
            "baxis": {
             "endlinecolor": "#A2B1C6",
             "gridcolor": "#506784",
             "linecolor": "#506784",
             "minorgridcolor": "#506784",
             "startlinecolor": "#A2B1C6"
            },
            "type": "carpet"
           }
          ],
          "table": [
           {
            "cells": {
             "fill": {
              "color": "#506784"
             },
             "line": {
              "color": "rgb(17,17,17)"
             }
            },
            "header": {
             "fill": {
              "color": "#2a3f5f"
             },
             "line": {
              "color": "rgb(17,17,17)"
             }
            },
            "type": "table"
           }
          ],
          "barpolar": [
           {
            "marker": {
             "line": {
              "color": "rgb(17,17,17)",
              "width": 0.5
             },
             "pattern": {
              "fillmode": "overlay",
              "size": 10,
              "solidity": 0.2
             }
            },
            "type": "barpolar"
           }
          ],
          "pie": [
           {
            "automargin": true,
            "type": "pie"
           }
          ]
         },
         "layout": {
          "autotypenumbers": "strict",
          "colorway": [
           "#636efa",
           "#EF553B",
           "#00cc96",
           "#ab63fa",
           "#FFA15A",
           "#19d3f3",
           "#FF6692",
           "#B6E880",
           "#FF97FF",
           "#FECB52"
          ],
          "font": {
           "color": "#f2f5fa"
          },
          "hovermode": "closest",
          "hoverlabel": {
           "align": "left"
          },
          "paper_bgcolor": "rgb(17,17,17)",
          "plot_bgcolor": "rgb(17,17,17)",
          "polar": {
           "bgcolor": "rgb(17,17,17)",
           "angularaxis": {
            "gridcolor": "#506784",
            "linecolor": "#506784",
            "ticks": ""
           },
           "radialaxis": {
            "gridcolor": "#506784",
            "linecolor": "#506784",
            "ticks": ""
           }
          },
          "ternary": {
           "bgcolor": "rgb(17,17,17)",
           "aaxis": {
            "gridcolor": "#506784",
            "linecolor": "#506784",
            "ticks": ""
           },
           "baxis": {
            "gridcolor": "#506784",
            "linecolor": "#506784",
            "ticks": ""
           },
           "caxis": {
            "gridcolor": "#506784",
            "linecolor": "#506784",
            "ticks": ""
           }
          },
          "coloraxis": {
           "colorbar": {
            "outlinewidth": 0,
            "ticks": ""
           }
          },
          "colorscale": {
           "sequential": [
            [
             0.0,
             "#0d0887"
            ],
            [
             0.1111111111111111,
             "#46039f"
            ],
            [
             0.2222222222222222,
             "#7201a8"
            ],
            [
             0.3333333333333333,
             "#9c179e"
            ],
            [
             0.4444444444444444,
             "#bd3786"
            ],
            [
             0.5555555555555556,
             "#d8576b"
            ],
            [
             0.6666666666666666,
             "#ed7953"
            ],
            [
             0.7777777777777778,
             "#fb9f3a"
            ],
            [
             0.8888888888888888,
             "#fdca26"
            ],
            [
             1.0,
             "#f0f921"
            ]
           ],
           "sequentialminus": [
            [
             0.0,
             "#0d0887"
            ],
            [
             0.1111111111111111,
             "#46039f"
            ],
            [
             0.2222222222222222,
             "#7201a8"
            ],
            [
             0.3333333333333333,
             "#9c179e"
            ],
            [
             0.4444444444444444,
             "#bd3786"
            ],
            [
             0.5555555555555556,
             "#d8576b"
            ],
            [
             0.6666666666666666,
             "#ed7953"
            ],
            [
             0.7777777777777778,
             "#fb9f3a"
            ],
            [
             0.8888888888888888,
             "#fdca26"
            ],
            [
             1.0,
             "#f0f921"
            ]
           ],
           "diverging": [
            [
             0,
             "#8e0152"
            ],
            [
             0.1,
             "#c51b7d"
            ],
            [
             0.2,
             "#de77ae"
            ],
            [
             0.3,
             "#f1b6da"
            ],
            [
             0.4,
             "#fde0ef"
            ],
            [
             0.5,
             "#f7f7f7"
            ],
            [
             0.6,
             "#e6f5d0"
            ],
            [
             0.7,
             "#b8e186"
            ],
            [
             0.8,
             "#7fbc41"
            ],
            [
             0.9,
             "#4d9221"
            ],
            [
             1,
             "#276419"
            ]
           ]
          },
          "xaxis": {
           "gridcolor": "#283442",
           "linecolor": "#506784",
           "ticks": "",
           "title": {
            "standoff": 15
           },
           "zerolinecolor": "#283442",
           "automargin": true,
           "zerolinewidth": 2
          },
          "yaxis": {
           "gridcolor": "#283442",
           "linecolor": "#506784",
           "ticks": "",
           "title": {
            "standoff": 15
           },
           "zerolinecolor": "#283442",
           "automargin": true,
           "zerolinewidth": 2
          },
          "scene": {
           "xaxis": {
            "backgroundcolor": "rgb(17,17,17)",
            "gridcolor": "#506784",
            "linecolor": "#506784",
            "showbackground": true,
            "ticks": "",
            "zerolinecolor": "#C8D4E3",
            "gridwidth": 2
           },
           "yaxis": {
            "backgroundcolor": "rgb(17,17,17)",
            "gridcolor": "#506784",
            "linecolor": "#506784",
            "showbackground": true,
            "ticks": "",
            "zerolinecolor": "#C8D4E3",
            "gridwidth": 2
           },
           "zaxis": {
            "backgroundcolor": "rgb(17,17,17)",
            "gridcolor": "#506784",
            "linecolor": "#506784",
            "showbackground": true,
            "ticks": "",
            "zerolinecolor": "#C8D4E3",
            "gridwidth": 2
           }
          },
          "shapedefaults": {
           "line": {
            "color": "#f2f5fa"
           }
          },
          "annotationdefaults": {
           "arrowcolor": "#f2f5fa",
           "arrowhead": 0,
           "arrowwidth": 1
          },
          "geo": {
           "bgcolor": "rgb(17,17,17)",
           "landcolor": "rgb(17,17,17)",
           "subunitcolor": "#506784",
           "showland": true,
           "showlakes": true,
           "lakecolor": "rgb(17,17,17)"
          },
          "title": {
           "x": 0.05
          },
          "updatemenudefaults": {
           "bgcolor": "#506784",
           "borderwidth": 0
          },
          "sliderdefaults": {
           "bgcolor": "#C8D4E3",
           "borderwidth": 1,
           "bordercolor": "rgb(17,17,17)",
           "tickwidth": 0
          },
          "mapbox": {
           "style": "dark"
          }
         }
        },
        "title": {
         "text": "Error Ratio"
        },
        "xaxis": {
         "title": {
          "text": "Labels"
         }
        },
        "yaxis": {
         "title": {
          "text": "Error"
         }
        }
       },
       "config": {
        "plotlyServerURL": "https://plot.ly"
       }
      },
      "text/html": [
       "<div>                            <div id=\"eff3bd2e-c02b-4b33-9cf3-ee2a46b4aaf8\" class=\"plotly-graph-div\" style=\"height:525px; width:100%;\"></div>            <script type=\"text/javascript\">                require([\"plotly\"], function(Plotly) {                    window.PLOTLYENV=window.PLOTLYENV || {};                                    if (document.getElementById(\"eff3bd2e-c02b-4b33-9cf3-ee2a46b4aaf8\")) {                    Plotly.newPlot(                        \"eff3bd2e-c02b-4b33-9cf3-ee2a46b4aaf8\",                        [{\"mode\":\"lines+markers\",\"name\":\"Outputs\",\"x\":[\"Cat\",\"Dog\",\"Rabbit\",\"Horse\"],\"xaxis\":\"x\",\"y\":[0.0,0.0,0.0],\"yaxis\":\"y\",\"type\":\"scatter\"}],                        {\"template\":{\"data\":{\"histogram2dcontour\":[{\"type\":\"histogram2dcontour\",\"colorbar\":{\"outlinewidth\":0,\"ticks\":\"\"},\"colorscale\":[[0.0,\"#0d0887\"],[0.1111111111111111,\"#46039f\"],[0.2222222222222222,\"#7201a8\"],[0.3333333333333333,\"#9c179e\"],[0.4444444444444444,\"#bd3786\"],[0.5555555555555556,\"#d8576b\"],[0.6666666666666666,\"#ed7953\"],[0.7777777777777778,\"#fb9f3a\"],[0.8888888888888888,\"#fdca26\"],[1.0,\"#f0f921\"]]}],\"choropleth\":[{\"type\":\"choropleth\",\"colorbar\":{\"outlinewidth\":0,\"ticks\":\"\"}}],\"histogram2d\":[{\"type\":\"histogram2d\",\"colorbar\":{\"outlinewidth\":0,\"ticks\":\"\"},\"colorscale\":[[0.0,\"#0d0887\"],[0.1111111111111111,\"#46039f\"],[0.2222222222222222,\"#7201a8\"],[0.3333333333333333,\"#9c179e\"],[0.4444444444444444,\"#bd3786\"],[0.5555555555555556,\"#d8576b\"],[0.6666666666666666,\"#ed7953\"],[0.7777777777777778,\"#fb9f3a\"],[0.8888888888888888,\"#fdca26\"],[1.0,\"#f0f921\"]]}],\"heatmap\":[{\"type\":\"heatmap\",\"colorbar\":{\"outlinewidth\":0,\"ticks\":\"\"},\"colorscale\":[[0.0,\"#0d0887\"],[0.1111111111111111,\"#46039f\"],[0.2222222222222222,\"#7201a8\"],[0.3333333333333333,\"#9c179e\"],[0.4444444444444444,\"#bd3786\"],[0.5555555555555556,\"#d8576b\"],[0.6666666666666666,\"#ed7953\"],[0.7777777777777778,\"#fb9f3a\"],[0.8888888888888888,\"#fdca26\"],[1.0,\"#f0f921\"]]}],\"heatmapgl\":[{\"type\":\"heatmapgl\",\"colorbar\":{\"outlinewidth\":0,\"ticks\":\"\"},\"colorscale\":[[0.0,\"#0d0887\"],[0.1111111111111111,\"#46039f\"],[0.2222222222222222,\"#7201a8\"],[0.3333333333333333,\"#9c179e\"],[0.4444444444444444,\"#bd3786\"],[0.5555555555555556,\"#d8576b\"],[0.6666666666666666,\"#ed7953\"],[0.7777777777777778,\"#fb9f3a\"],[0.8888888888888888,\"#fdca26\"],[1.0,\"#f0f921\"]]}],\"contourcarpet\":[{\"type\":\"contourcarpet\",\"colorbar\":{\"outlinewidth\":0,\"ticks\":\"\"}}],\"contour\":[{\"type\":\"contour\",\"colorbar\":{\"outlinewidth\":0,\"ticks\":\"\"},\"colorscale\":[[0.0,\"#0d0887\"],[0.1111111111111111,\"#46039f\"],[0.2222222222222222,\"#7201a8\"],[0.3333333333333333,\"#9c179e\"],[0.4444444444444444,\"#bd3786\"],[0.5555555555555556,\"#d8576b\"],[0.6666666666666666,\"#ed7953\"],[0.7777777777777778,\"#fb9f3a\"],[0.8888888888888888,\"#fdca26\"],[1.0,\"#f0f921\"]]}],\"surface\":[{\"type\":\"surface\",\"colorbar\":{\"outlinewidth\":0,\"ticks\":\"\"},\"colorscale\":[[0.0,\"#0d0887\"],[0.1111111111111111,\"#46039f\"],[0.2222222222222222,\"#7201a8\"],[0.3333333333333333,\"#9c179e\"],[0.4444444444444444,\"#bd3786\"],[0.5555555555555556,\"#d8576b\"],[0.6666666666666666,\"#ed7953\"],[0.7777777777777778,\"#fb9f3a\"],[0.8888888888888888,\"#fdca26\"],[1.0,\"#f0f921\"]]}],\"mesh3d\":[{\"type\":\"mesh3d\",\"colorbar\":{\"outlinewidth\":0,\"ticks\":\"\"}}],\"scatter\":[{\"marker\":{\"line\":{\"color\":\"#283442\"}},\"type\":\"scatter\"}],\"parcoords\":[{\"type\":\"parcoords\",\"line\":{\"colorbar\":{\"outlinewidth\":0,\"ticks\":\"\"}}}],\"scatterpolargl\":[{\"type\":\"scatterpolargl\",\"marker\":{\"colorbar\":{\"outlinewidth\":0,\"ticks\":\"\"}}}],\"bar\":[{\"error_x\":{\"color\":\"#f2f5fa\"},\"error_y\":{\"color\":\"#f2f5fa\"},\"marker\":{\"line\":{\"color\":\"rgb(17,17,17)\",\"width\":0.5},\"pattern\":{\"fillmode\":\"overlay\",\"size\":10,\"solidity\":0.2}},\"type\":\"bar\"}],\"scattergeo\":[{\"type\":\"scattergeo\",\"marker\":{\"colorbar\":{\"outlinewidth\":0,\"ticks\":\"\"}}}],\"scatterpolar\":[{\"type\":\"scatterpolar\",\"marker\":{\"colorbar\":{\"outlinewidth\":0,\"ticks\":\"\"}}}],\"histogram\":[{\"marker\":{\"pattern\":{\"fillmode\":\"overlay\",\"size\":10,\"solidity\":0.2}},\"type\":\"histogram\"}],\"scattergl\":[{\"marker\":{\"line\":{\"color\":\"#283442\"}},\"type\":\"scattergl\"}],\"scatter3d\":[{\"type\":\"scatter3d\",\"line\":{\"colorbar\":{\"outlinewidth\":0,\"ticks\":\"\"}},\"marker\":{\"colorbar\":{\"outlinewidth\":0,\"ticks\":\"\"}}}],\"scattermapbox\":[{\"type\":\"scattermapbox\",\"marker\":{\"colorbar\":{\"outlinewidth\":0,\"ticks\":\"\"}}}],\"scatterternary\":[{\"type\":\"scatterternary\",\"marker\":{\"colorbar\":{\"outlinewidth\":0,\"ticks\":\"\"}}}],\"scattercarpet\":[{\"type\":\"scattercarpet\",\"marker\":{\"colorbar\":{\"outlinewidth\":0,\"ticks\":\"\"}}}],\"carpet\":[{\"aaxis\":{\"endlinecolor\":\"#A2B1C6\",\"gridcolor\":\"#506784\",\"linecolor\":\"#506784\",\"minorgridcolor\":\"#506784\",\"startlinecolor\":\"#A2B1C6\"},\"baxis\":{\"endlinecolor\":\"#A2B1C6\",\"gridcolor\":\"#506784\",\"linecolor\":\"#506784\",\"minorgridcolor\":\"#506784\",\"startlinecolor\":\"#A2B1C6\"},\"type\":\"carpet\"}],\"table\":[{\"cells\":{\"fill\":{\"color\":\"#506784\"},\"line\":{\"color\":\"rgb(17,17,17)\"}},\"header\":{\"fill\":{\"color\":\"#2a3f5f\"},\"line\":{\"color\":\"rgb(17,17,17)\"}},\"type\":\"table\"}],\"barpolar\":[{\"marker\":{\"line\":{\"color\":\"rgb(17,17,17)\",\"width\":0.5},\"pattern\":{\"fillmode\":\"overlay\",\"size\":10,\"solidity\":0.2}},\"type\":\"barpolar\"}],\"pie\":[{\"automargin\":true,\"type\":\"pie\"}]},\"layout\":{\"autotypenumbers\":\"strict\",\"colorway\":[\"#636efa\",\"#EF553B\",\"#00cc96\",\"#ab63fa\",\"#FFA15A\",\"#19d3f3\",\"#FF6692\",\"#B6E880\",\"#FF97FF\",\"#FECB52\"],\"font\":{\"color\":\"#f2f5fa\"},\"hovermode\":\"closest\",\"hoverlabel\":{\"align\":\"left\"},\"paper_bgcolor\":\"rgb(17,17,17)\",\"plot_bgcolor\":\"rgb(17,17,17)\",\"polar\":{\"bgcolor\":\"rgb(17,17,17)\",\"angularaxis\":{\"gridcolor\":\"#506784\",\"linecolor\":\"#506784\",\"ticks\":\"\"},\"radialaxis\":{\"gridcolor\":\"#506784\",\"linecolor\":\"#506784\",\"ticks\":\"\"}},\"ternary\":{\"bgcolor\":\"rgb(17,17,17)\",\"aaxis\":{\"gridcolor\":\"#506784\",\"linecolor\":\"#506784\",\"ticks\":\"\"},\"baxis\":{\"gridcolor\":\"#506784\",\"linecolor\":\"#506784\",\"ticks\":\"\"},\"caxis\":{\"gridcolor\":\"#506784\",\"linecolor\":\"#506784\",\"ticks\":\"\"}},\"coloraxis\":{\"colorbar\":{\"outlinewidth\":0,\"ticks\":\"\"}},\"colorscale\":{\"sequential\":[[0.0,\"#0d0887\"],[0.1111111111111111,\"#46039f\"],[0.2222222222222222,\"#7201a8\"],[0.3333333333333333,\"#9c179e\"],[0.4444444444444444,\"#bd3786\"],[0.5555555555555556,\"#d8576b\"],[0.6666666666666666,\"#ed7953\"],[0.7777777777777778,\"#fb9f3a\"],[0.8888888888888888,\"#fdca26\"],[1.0,\"#f0f921\"]],\"sequentialminus\":[[0.0,\"#0d0887\"],[0.1111111111111111,\"#46039f\"],[0.2222222222222222,\"#7201a8\"],[0.3333333333333333,\"#9c179e\"],[0.4444444444444444,\"#bd3786\"],[0.5555555555555556,\"#d8576b\"],[0.6666666666666666,\"#ed7953\"],[0.7777777777777778,\"#fb9f3a\"],[0.8888888888888888,\"#fdca26\"],[1.0,\"#f0f921\"]],\"diverging\":[[0,\"#8e0152\"],[0.1,\"#c51b7d\"],[0.2,\"#de77ae\"],[0.3,\"#f1b6da\"],[0.4,\"#fde0ef\"],[0.5,\"#f7f7f7\"],[0.6,\"#e6f5d0\"],[0.7,\"#b8e186\"],[0.8,\"#7fbc41\"],[0.9,\"#4d9221\"],[1,\"#276419\"]]},\"xaxis\":{\"gridcolor\":\"#283442\",\"linecolor\":\"#506784\",\"ticks\":\"\",\"title\":{\"standoff\":15},\"zerolinecolor\":\"#283442\",\"automargin\":true,\"zerolinewidth\":2},\"yaxis\":{\"gridcolor\":\"#283442\",\"linecolor\":\"#506784\",\"ticks\":\"\",\"title\":{\"standoff\":15},\"zerolinecolor\":\"#283442\",\"automargin\":true,\"zerolinewidth\":2},\"scene\":{\"xaxis\":{\"backgroundcolor\":\"rgb(17,17,17)\",\"gridcolor\":\"#506784\",\"linecolor\":\"#506784\",\"showbackground\":true,\"ticks\":\"\",\"zerolinecolor\":\"#C8D4E3\",\"gridwidth\":2},\"yaxis\":{\"backgroundcolor\":\"rgb(17,17,17)\",\"gridcolor\":\"#506784\",\"linecolor\":\"#506784\",\"showbackground\":true,\"ticks\":\"\",\"zerolinecolor\":\"#C8D4E3\",\"gridwidth\":2},\"zaxis\":{\"backgroundcolor\":\"rgb(17,17,17)\",\"gridcolor\":\"#506784\",\"linecolor\":\"#506784\",\"showbackground\":true,\"ticks\":\"\",\"zerolinecolor\":\"#C8D4E3\",\"gridwidth\":2}},\"shapedefaults\":{\"line\":{\"color\":\"#f2f5fa\"}},\"annotationdefaults\":{\"arrowcolor\":\"#f2f5fa\",\"arrowhead\":0,\"arrowwidth\":1},\"geo\":{\"bgcolor\":\"rgb(17,17,17)\",\"landcolor\":\"rgb(17,17,17)\",\"subunitcolor\":\"#506784\",\"showland\":true,\"showlakes\":true,\"lakecolor\":\"rgb(17,17,17)\"},\"title\":{\"x\":0.05},\"updatemenudefaults\":{\"bgcolor\":\"#506784\",\"borderwidth\":0},\"sliderdefaults\":{\"bgcolor\":\"#C8D4E3\",\"borderwidth\":1,\"bordercolor\":\"rgb(17,17,17)\",\"tickwidth\":0},\"mapbox\":{\"style\":\"dark\"}}},\"title\":{\"text\":\"Error Ratio\"},\"xaxis\":{\"title\":{\"text\":\"Labels\"}},\"yaxis\":{\"title\":{\"text\":\"Error\"}}},                        {\"responsive\": true}                    ).then(function(){\n",
       "                            \n",
       "var gd = document.getElementById('eff3bd2e-c02b-4b33-9cf3-ee2a46b4aaf8');\n",
       "var x = new MutationObserver(function (mutations, observer) {{\n",
       "        var display = window.getComputedStyle(gd).display;\n",
       "        if (!display || display === 'none') {{\n",
       "            console.log([gd, 'removed!']);\n",
       "            Plotly.purge(gd);\n",
       "            observer.disconnect();\n",
       "        }}\n",
       "}});\n",
       "\n",
       "// Listen for the removal of the full notebook cells\n",
       "var notebookContainer = gd.closest('#notebook-container');\n",
       "if (notebookContainer) {{\n",
       "    x.observe(notebookContainer, {childList: true});\n",
       "}}\n",
       "\n",
       "// Listen for the clearing of the current output cell\n",
       "var outputEl = gd.closest('.output');\n",
       "if (outputEl) {{\n",
       "    x.observe(outputEl, {childList: true});\n",
       "}}\n",
       "\n",
       "                        })                };                });            </script>        </div>"
      ]
     },
     "metadata": {},
     "output_type": "display_data"
    }
   ],
   "execution_count": 132
  },
  {
   "metadata": {
    "ExecuteTime": {
     "end_time": "2024-08-27T06:37:52.669027Z",
     "start_time": "2024-08-27T06:37:52.661063Z"
    }
   },
   "cell_type": "code",
   "source": [
    "\n",
    "inputs=[1, 2, 3, 2.5]\n",
    "\n",
    "weights1 = [0.2, 0.8, -0.5, 1] \n",
    "weights2 = [0.5, -0.91, 0.26, -0.5] \n",
    "weights3 = [-0.26, -0.27, 0.17, 0.87]\n",
    "\n",
    "bias1 = 2 \n",
    "bias2 = 3 \n",
    "bias3 = 0.5\n",
    "\n",
    "# calculate the weighted sum of inputs and add the bias for three neurons.\n",
    "outputs = np.array([\n",
    "    # Neuron 1:\n",
    "    inputs[0]*weights1[0] + inputs[1]*weights1[1] + inputs[2]*weights1[2] + inputs[3]*weights1[3] + bias1,\n",
    "    # Neuron 2: \n",
    "    inputs[0]*weights2[0] + inputs[1]*weights2[1] + inputs[2]*weights2[2] + inputs[3]*weights2[3] + bias2,\n",
    "    # Neuron 3: \n",
    "    inputs[0]*weights3[0] + inputs[1]*weights3[1] + inputs[2]*weights3[2] + inputs[3]*weights3[3] + bias3\n",
    "    ])\n",
    "print(f\"Outputs: \\n{outputs}\")  # [4.8, 1.21, 2.385]\n",
    "\n",
    "# apply the activation function and get the predictions\n",
    "predictions = sigmoid(outputs)\n",
    "print(f\"Predictions: \\n{predictions}\")  # [0.99194602, 0.77015115, 0.9158585]\n",
    "\n",
    "# Error ratio is the difference between the prediction and the actual value\n",
    "error_ratio = 1 - predictions\n",
    "print(f\"Error Ratio: \\n{error_ratio}\")  # [0.00816257 0.22970105 0.0843237 ]"
   ],
   "id": "daafd12053f1a968",
   "outputs": [
    {
     "name": "stdout",
     "output_type": "stream",
     "text": [
      "Outputs: \n",
      "[4.8   1.21  2.385]\n",
      "Predictions: \n",
      "[0.99183743 0.77029895 0.9156763 ]\n",
      "Error Ratio: \n",
      "[0.00816257 0.22970105 0.0843237 ]\n"
     ]
    }
   ],
   "execution_count": 133
  },
  {
   "metadata": {
    "ExecuteTime": {
     "end_time": "2024-08-27T06:44:04.179977Z",
     "start_time": "2024-08-27T06:44:04.161929Z"
    }
   },
   "cell_type": "code",
   "source": [
    "# Graph the error on a line plot\n",
    "from plotly import graph_objects as go\n",
    "\n",
    "fig = go.Figure()\n",
    "fig.add_trace(\n",
    "    go.Scatter(\n",
    "        x=predictions, y=error_ratio, mode='lines+markers', \n",
    "    xaxis='x', yaxis='y', name='Outputs'\n",
    "    ))\n",
    "fig.update_layout(title='Error Ratio vs Predictions', xaxis_title='Predictions', yaxis_title='Error Ratio')\n",
    "fig.show()"
   ],
   "id": "928427f075750b66",
   "outputs": [
    {
     "data": {
      "application/vnd.plotly.v1+json": {
       "data": [
        {
         "mode": "lines+markers",
         "name": "Outputs",
         "x": [
          0.9918374288468401,
          0.7702989490466019,
          0.9156763035785255
         ],
         "xaxis": "x",
         "y": [
          0.008162571153159881,
          0.2297010509533981,
          0.08432369642147453
         ],
         "yaxis": "y",
         "type": "scatter"
        }
       ],
       "layout": {
        "template": {
         "data": {
          "histogram2dcontour": [
           {
            "type": "histogram2dcontour",
            "colorbar": {
             "outlinewidth": 0,
             "ticks": ""
            },
            "colorscale": [
             [
              0.0,
              "#0d0887"
             ],
             [
              0.1111111111111111,
              "#46039f"
             ],
             [
              0.2222222222222222,
              "#7201a8"
             ],
             [
              0.3333333333333333,
              "#9c179e"
             ],
             [
              0.4444444444444444,
              "#bd3786"
             ],
             [
              0.5555555555555556,
              "#d8576b"
             ],
             [
              0.6666666666666666,
              "#ed7953"
             ],
             [
              0.7777777777777778,
              "#fb9f3a"
             ],
             [
              0.8888888888888888,
              "#fdca26"
             ],
             [
              1.0,
              "#f0f921"
             ]
            ]
           }
          ],
          "choropleth": [
           {
            "type": "choropleth",
            "colorbar": {
             "outlinewidth": 0,
             "ticks": ""
            }
           }
          ],
          "histogram2d": [
           {
            "type": "histogram2d",
            "colorbar": {
             "outlinewidth": 0,
             "ticks": ""
            },
            "colorscale": [
             [
              0.0,
              "#0d0887"
             ],
             [
              0.1111111111111111,
              "#46039f"
             ],
             [
              0.2222222222222222,
              "#7201a8"
             ],
             [
              0.3333333333333333,
              "#9c179e"
             ],
             [
              0.4444444444444444,
              "#bd3786"
             ],
             [
              0.5555555555555556,
              "#d8576b"
             ],
             [
              0.6666666666666666,
              "#ed7953"
             ],
             [
              0.7777777777777778,
              "#fb9f3a"
             ],
             [
              0.8888888888888888,
              "#fdca26"
             ],
             [
              1.0,
              "#f0f921"
             ]
            ]
           }
          ],
          "heatmap": [
           {
            "type": "heatmap",
            "colorbar": {
             "outlinewidth": 0,
             "ticks": ""
            },
            "colorscale": [
             [
              0.0,
              "#0d0887"
             ],
             [
              0.1111111111111111,
              "#46039f"
             ],
             [
              0.2222222222222222,
              "#7201a8"
             ],
             [
              0.3333333333333333,
              "#9c179e"
             ],
             [
              0.4444444444444444,
              "#bd3786"
             ],
             [
              0.5555555555555556,
              "#d8576b"
             ],
             [
              0.6666666666666666,
              "#ed7953"
             ],
             [
              0.7777777777777778,
              "#fb9f3a"
             ],
             [
              0.8888888888888888,
              "#fdca26"
             ],
             [
              1.0,
              "#f0f921"
             ]
            ]
           }
          ],
          "heatmapgl": [
           {
            "type": "heatmapgl",
            "colorbar": {
             "outlinewidth": 0,
             "ticks": ""
            },
            "colorscale": [
             [
              0.0,
              "#0d0887"
             ],
             [
              0.1111111111111111,
              "#46039f"
             ],
             [
              0.2222222222222222,
              "#7201a8"
             ],
             [
              0.3333333333333333,
              "#9c179e"
             ],
             [
              0.4444444444444444,
              "#bd3786"
             ],
             [
              0.5555555555555556,
              "#d8576b"
             ],
             [
              0.6666666666666666,
              "#ed7953"
             ],
             [
              0.7777777777777778,
              "#fb9f3a"
             ],
             [
              0.8888888888888888,
              "#fdca26"
             ],
             [
              1.0,
              "#f0f921"
             ]
            ]
           }
          ],
          "contourcarpet": [
           {
            "type": "contourcarpet",
            "colorbar": {
             "outlinewidth": 0,
             "ticks": ""
            }
           }
          ],
          "contour": [
           {
            "type": "contour",
            "colorbar": {
             "outlinewidth": 0,
             "ticks": ""
            },
            "colorscale": [
             [
              0.0,
              "#0d0887"
             ],
             [
              0.1111111111111111,
              "#46039f"
             ],
             [
              0.2222222222222222,
              "#7201a8"
             ],
             [
              0.3333333333333333,
              "#9c179e"
             ],
             [
              0.4444444444444444,
              "#bd3786"
             ],
             [
              0.5555555555555556,
              "#d8576b"
             ],
             [
              0.6666666666666666,
              "#ed7953"
             ],
             [
              0.7777777777777778,
              "#fb9f3a"
             ],
             [
              0.8888888888888888,
              "#fdca26"
             ],
             [
              1.0,
              "#f0f921"
             ]
            ]
           }
          ],
          "surface": [
           {
            "type": "surface",
            "colorbar": {
             "outlinewidth": 0,
             "ticks": ""
            },
            "colorscale": [
             [
              0.0,
              "#0d0887"
             ],
             [
              0.1111111111111111,
              "#46039f"
             ],
             [
              0.2222222222222222,
              "#7201a8"
             ],
             [
              0.3333333333333333,
              "#9c179e"
             ],
             [
              0.4444444444444444,
              "#bd3786"
             ],
             [
              0.5555555555555556,
              "#d8576b"
             ],
             [
              0.6666666666666666,
              "#ed7953"
             ],
             [
              0.7777777777777778,
              "#fb9f3a"
             ],
             [
              0.8888888888888888,
              "#fdca26"
             ],
             [
              1.0,
              "#f0f921"
             ]
            ]
           }
          ],
          "mesh3d": [
           {
            "type": "mesh3d",
            "colorbar": {
             "outlinewidth": 0,
             "ticks": ""
            }
           }
          ],
          "scatter": [
           {
            "marker": {
             "line": {
              "color": "#283442"
             }
            },
            "type": "scatter"
           }
          ],
          "parcoords": [
           {
            "type": "parcoords",
            "line": {
             "colorbar": {
              "outlinewidth": 0,
              "ticks": ""
             }
            }
           }
          ],
          "scatterpolargl": [
           {
            "type": "scatterpolargl",
            "marker": {
             "colorbar": {
              "outlinewidth": 0,
              "ticks": ""
             }
            }
           }
          ],
          "bar": [
           {
            "error_x": {
             "color": "#f2f5fa"
            },
            "error_y": {
             "color": "#f2f5fa"
            },
            "marker": {
             "line": {
              "color": "rgb(17,17,17)",
              "width": 0.5
             },
             "pattern": {
              "fillmode": "overlay",
              "size": 10,
              "solidity": 0.2
             }
            },
            "type": "bar"
           }
          ],
          "scattergeo": [
           {
            "type": "scattergeo",
            "marker": {
             "colorbar": {
              "outlinewidth": 0,
              "ticks": ""
             }
            }
           }
          ],
          "scatterpolar": [
           {
            "type": "scatterpolar",
            "marker": {
             "colorbar": {
              "outlinewidth": 0,
              "ticks": ""
             }
            }
           }
          ],
          "histogram": [
           {
            "marker": {
             "pattern": {
              "fillmode": "overlay",
              "size": 10,
              "solidity": 0.2
             }
            },
            "type": "histogram"
           }
          ],
          "scattergl": [
           {
            "marker": {
             "line": {
              "color": "#283442"
             }
            },
            "type": "scattergl"
           }
          ],
          "scatter3d": [
           {
            "type": "scatter3d",
            "line": {
             "colorbar": {
              "outlinewidth": 0,
              "ticks": ""
             }
            },
            "marker": {
             "colorbar": {
              "outlinewidth": 0,
              "ticks": ""
             }
            }
           }
          ],
          "scattermapbox": [
           {
            "type": "scattermapbox",
            "marker": {
             "colorbar": {
              "outlinewidth": 0,
              "ticks": ""
             }
            }
           }
          ],
          "scatterternary": [
           {
            "type": "scatterternary",
            "marker": {
             "colorbar": {
              "outlinewidth": 0,
              "ticks": ""
             }
            }
           }
          ],
          "scattercarpet": [
           {
            "type": "scattercarpet",
            "marker": {
             "colorbar": {
              "outlinewidth": 0,
              "ticks": ""
             }
            }
           }
          ],
          "carpet": [
           {
            "aaxis": {
             "endlinecolor": "#A2B1C6",
             "gridcolor": "#506784",
             "linecolor": "#506784",
             "minorgridcolor": "#506784",
             "startlinecolor": "#A2B1C6"
            },
            "baxis": {
             "endlinecolor": "#A2B1C6",
             "gridcolor": "#506784",
             "linecolor": "#506784",
             "minorgridcolor": "#506784",
             "startlinecolor": "#A2B1C6"
            },
            "type": "carpet"
           }
          ],
          "table": [
           {
            "cells": {
             "fill": {
              "color": "#506784"
             },
             "line": {
              "color": "rgb(17,17,17)"
             }
            },
            "header": {
             "fill": {
              "color": "#2a3f5f"
             },
             "line": {
              "color": "rgb(17,17,17)"
             }
            },
            "type": "table"
           }
          ],
          "barpolar": [
           {
            "marker": {
             "line": {
              "color": "rgb(17,17,17)",
              "width": 0.5
             },
             "pattern": {
              "fillmode": "overlay",
              "size": 10,
              "solidity": 0.2
             }
            },
            "type": "barpolar"
           }
          ],
          "pie": [
           {
            "automargin": true,
            "type": "pie"
           }
          ]
         },
         "layout": {
          "autotypenumbers": "strict",
          "colorway": [
           "#636efa",
           "#EF553B",
           "#00cc96",
           "#ab63fa",
           "#FFA15A",
           "#19d3f3",
           "#FF6692",
           "#B6E880",
           "#FF97FF",
           "#FECB52"
          ],
          "font": {
           "color": "#f2f5fa"
          },
          "hovermode": "closest",
          "hoverlabel": {
           "align": "left"
          },
          "paper_bgcolor": "rgb(17,17,17)",
          "plot_bgcolor": "rgb(17,17,17)",
          "polar": {
           "bgcolor": "rgb(17,17,17)",
           "angularaxis": {
            "gridcolor": "#506784",
            "linecolor": "#506784",
            "ticks": ""
           },
           "radialaxis": {
            "gridcolor": "#506784",
            "linecolor": "#506784",
            "ticks": ""
           }
          },
          "ternary": {
           "bgcolor": "rgb(17,17,17)",
           "aaxis": {
            "gridcolor": "#506784",
            "linecolor": "#506784",
            "ticks": ""
           },
           "baxis": {
            "gridcolor": "#506784",
            "linecolor": "#506784",
            "ticks": ""
           },
           "caxis": {
            "gridcolor": "#506784",
            "linecolor": "#506784",
            "ticks": ""
           }
          },
          "coloraxis": {
           "colorbar": {
            "outlinewidth": 0,
            "ticks": ""
           }
          },
          "colorscale": {
           "sequential": [
            [
             0.0,
             "#0d0887"
            ],
            [
             0.1111111111111111,
             "#46039f"
            ],
            [
             0.2222222222222222,
             "#7201a8"
            ],
            [
             0.3333333333333333,
             "#9c179e"
            ],
            [
             0.4444444444444444,
             "#bd3786"
            ],
            [
             0.5555555555555556,
             "#d8576b"
            ],
            [
             0.6666666666666666,
             "#ed7953"
            ],
            [
             0.7777777777777778,
             "#fb9f3a"
            ],
            [
             0.8888888888888888,
             "#fdca26"
            ],
            [
             1.0,
             "#f0f921"
            ]
           ],
           "sequentialminus": [
            [
             0.0,
             "#0d0887"
            ],
            [
             0.1111111111111111,
             "#46039f"
            ],
            [
             0.2222222222222222,
             "#7201a8"
            ],
            [
             0.3333333333333333,
             "#9c179e"
            ],
            [
             0.4444444444444444,
             "#bd3786"
            ],
            [
             0.5555555555555556,
             "#d8576b"
            ],
            [
             0.6666666666666666,
             "#ed7953"
            ],
            [
             0.7777777777777778,
             "#fb9f3a"
            ],
            [
             0.8888888888888888,
             "#fdca26"
            ],
            [
             1.0,
             "#f0f921"
            ]
           ],
           "diverging": [
            [
             0,
             "#8e0152"
            ],
            [
             0.1,
             "#c51b7d"
            ],
            [
             0.2,
             "#de77ae"
            ],
            [
             0.3,
             "#f1b6da"
            ],
            [
             0.4,
             "#fde0ef"
            ],
            [
             0.5,
             "#f7f7f7"
            ],
            [
             0.6,
             "#e6f5d0"
            ],
            [
             0.7,
             "#b8e186"
            ],
            [
             0.8,
             "#7fbc41"
            ],
            [
             0.9,
             "#4d9221"
            ],
            [
             1,
             "#276419"
            ]
           ]
          },
          "xaxis": {
           "gridcolor": "#283442",
           "linecolor": "#506784",
           "ticks": "",
           "title": {
            "standoff": 15
           },
           "zerolinecolor": "#283442",
           "automargin": true,
           "zerolinewidth": 2
          },
          "yaxis": {
           "gridcolor": "#283442",
           "linecolor": "#506784",
           "ticks": "",
           "title": {
            "standoff": 15
           },
           "zerolinecolor": "#283442",
           "automargin": true,
           "zerolinewidth": 2
          },
          "scene": {
           "xaxis": {
            "backgroundcolor": "rgb(17,17,17)",
            "gridcolor": "#506784",
            "linecolor": "#506784",
            "showbackground": true,
            "ticks": "",
            "zerolinecolor": "#C8D4E3",
            "gridwidth": 2
           },
           "yaxis": {
            "backgroundcolor": "rgb(17,17,17)",
            "gridcolor": "#506784",
            "linecolor": "#506784",
            "showbackground": true,
            "ticks": "",
            "zerolinecolor": "#C8D4E3",
            "gridwidth": 2
           },
           "zaxis": {
            "backgroundcolor": "rgb(17,17,17)",
            "gridcolor": "#506784",
            "linecolor": "#506784",
            "showbackground": true,
            "ticks": "",
            "zerolinecolor": "#C8D4E3",
            "gridwidth": 2
           }
          },
          "shapedefaults": {
           "line": {
            "color": "#f2f5fa"
           }
          },
          "annotationdefaults": {
           "arrowcolor": "#f2f5fa",
           "arrowhead": 0,
           "arrowwidth": 1
          },
          "geo": {
           "bgcolor": "rgb(17,17,17)",
           "landcolor": "rgb(17,17,17)",
           "subunitcolor": "#506784",
           "showland": true,
           "showlakes": true,
           "lakecolor": "rgb(17,17,17)"
          },
          "title": {
           "x": 0.05
          },
          "updatemenudefaults": {
           "bgcolor": "#506784",
           "borderwidth": 0
          },
          "sliderdefaults": {
           "bgcolor": "#C8D4E3",
           "borderwidth": 1,
           "bordercolor": "rgb(17,17,17)",
           "tickwidth": 0
          },
          "mapbox": {
           "style": "dark"
          }
         }
        },
        "title": {
         "text": "Error Ratio vs Predictions"
        },
        "xaxis": {
         "title": {
          "text": "Predictions"
         }
        },
        "yaxis": {
         "title": {
          "text": "Error Ratio"
         }
        }
       },
       "config": {
        "plotlyServerURL": "https://plot.ly"
       }
      },
      "text/html": [
       "<div>                            <div id=\"ff23cf0d-67fa-46a2-86e8-a85a3ea96de0\" class=\"plotly-graph-div\" style=\"height:525px; width:100%;\"></div>            <script type=\"text/javascript\">                require([\"plotly\"], function(Plotly) {                    window.PLOTLYENV=window.PLOTLYENV || {};                                    if (document.getElementById(\"ff23cf0d-67fa-46a2-86e8-a85a3ea96de0\")) {                    Plotly.newPlot(                        \"ff23cf0d-67fa-46a2-86e8-a85a3ea96de0\",                        [{\"mode\":\"lines+markers\",\"name\":\"Outputs\",\"x\":[0.9918374288468401,0.7702989490466019,0.9156763035785255],\"xaxis\":\"x\",\"y\":[0.008162571153159881,0.2297010509533981,0.08432369642147453],\"yaxis\":\"y\",\"type\":\"scatter\"}],                        {\"template\":{\"data\":{\"histogram2dcontour\":[{\"type\":\"histogram2dcontour\",\"colorbar\":{\"outlinewidth\":0,\"ticks\":\"\"},\"colorscale\":[[0.0,\"#0d0887\"],[0.1111111111111111,\"#46039f\"],[0.2222222222222222,\"#7201a8\"],[0.3333333333333333,\"#9c179e\"],[0.4444444444444444,\"#bd3786\"],[0.5555555555555556,\"#d8576b\"],[0.6666666666666666,\"#ed7953\"],[0.7777777777777778,\"#fb9f3a\"],[0.8888888888888888,\"#fdca26\"],[1.0,\"#f0f921\"]]}],\"choropleth\":[{\"type\":\"choropleth\",\"colorbar\":{\"outlinewidth\":0,\"ticks\":\"\"}}],\"histogram2d\":[{\"type\":\"histogram2d\",\"colorbar\":{\"outlinewidth\":0,\"ticks\":\"\"},\"colorscale\":[[0.0,\"#0d0887\"],[0.1111111111111111,\"#46039f\"],[0.2222222222222222,\"#7201a8\"],[0.3333333333333333,\"#9c179e\"],[0.4444444444444444,\"#bd3786\"],[0.5555555555555556,\"#d8576b\"],[0.6666666666666666,\"#ed7953\"],[0.7777777777777778,\"#fb9f3a\"],[0.8888888888888888,\"#fdca26\"],[1.0,\"#f0f921\"]]}],\"heatmap\":[{\"type\":\"heatmap\",\"colorbar\":{\"outlinewidth\":0,\"ticks\":\"\"},\"colorscale\":[[0.0,\"#0d0887\"],[0.1111111111111111,\"#46039f\"],[0.2222222222222222,\"#7201a8\"],[0.3333333333333333,\"#9c179e\"],[0.4444444444444444,\"#bd3786\"],[0.5555555555555556,\"#d8576b\"],[0.6666666666666666,\"#ed7953\"],[0.7777777777777778,\"#fb9f3a\"],[0.8888888888888888,\"#fdca26\"],[1.0,\"#f0f921\"]]}],\"heatmapgl\":[{\"type\":\"heatmapgl\",\"colorbar\":{\"outlinewidth\":0,\"ticks\":\"\"},\"colorscale\":[[0.0,\"#0d0887\"],[0.1111111111111111,\"#46039f\"],[0.2222222222222222,\"#7201a8\"],[0.3333333333333333,\"#9c179e\"],[0.4444444444444444,\"#bd3786\"],[0.5555555555555556,\"#d8576b\"],[0.6666666666666666,\"#ed7953\"],[0.7777777777777778,\"#fb9f3a\"],[0.8888888888888888,\"#fdca26\"],[1.0,\"#f0f921\"]]}],\"contourcarpet\":[{\"type\":\"contourcarpet\",\"colorbar\":{\"outlinewidth\":0,\"ticks\":\"\"}}],\"contour\":[{\"type\":\"contour\",\"colorbar\":{\"outlinewidth\":0,\"ticks\":\"\"},\"colorscale\":[[0.0,\"#0d0887\"],[0.1111111111111111,\"#46039f\"],[0.2222222222222222,\"#7201a8\"],[0.3333333333333333,\"#9c179e\"],[0.4444444444444444,\"#bd3786\"],[0.5555555555555556,\"#d8576b\"],[0.6666666666666666,\"#ed7953\"],[0.7777777777777778,\"#fb9f3a\"],[0.8888888888888888,\"#fdca26\"],[1.0,\"#f0f921\"]]}],\"surface\":[{\"type\":\"surface\",\"colorbar\":{\"outlinewidth\":0,\"ticks\":\"\"},\"colorscale\":[[0.0,\"#0d0887\"],[0.1111111111111111,\"#46039f\"],[0.2222222222222222,\"#7201a8\"],[0.3333333333333333,\"#9c179e\"],[0.4444444444444444,\"#bd3786\"],[0.5555555555555556,\"#d8576b\"],[0.6666666666666666,\"#ed7953\"],[0.7777777777777778,\"#fb9f3a\"],[0.8888888888888888,\"#fdca26\"],[1.0,\"#f0f921\"]]}],\"mesh3d\":[{\"type\":\"mesh3d\",\"colorbar\":{\"outlinewidth\":0,\"ticks\":\"\"}}],\"scatter\":[{\"marker\":{\"line\":{\"color\":\"#283442\"}},\"type\":\"scatter\"}],\"parcoords\":[{\"type\":\"parcoords\",\"line\":{\"colorbar\":{\"outlinewidth\":0,\"ticks\":\"\"}}}],\"scatterpolargl\":[{\"type\":\"scatterpolargl\",\"marker\":{\"colorbar\":{\"outlinewidth\":0,\"ticks\":\"\"}}}],\"bar\":[{\"error_x\":{\"color\":\"#f2f5fa\"},\"error_y\":{\"color\":\"#f2f5fa\"},\"marker\":{\"line\":{\"color\":\"rgb(17,17,17)\",\"width\":0.5},\"pattern\":{\"fillmode\":\"overlay\",\"size\":10,\"solidity\":0.2}},\"type\":\"bar\"}],\"scattergeo\":[{\"type\":\"scattergeo\",\"marker\":{\"colorbar\":{\"outlinewidth\":0,\"ticks\":\"\"}}}],\"scatterpolar\":[{\"type\":\"scatterpolar\",\"marker\":{\"colorbar\":{\"outlinewidth\":0,\"ticks\":\"\"}}}],\"histogram\":[{\"marker\":{\"pattern\":{\"fillmode\":\"overlay\",\"size\":10,\"solidity\":0.2}},\"type\":\"histogram\"}],\"scattergl\":[{\"marker\":{\"line\":{\"color\":\"#283442\"}},\"type\":\"scattergl\"}],\"scatter3d\":[{\"type\":\"scatter3d\",\"line\":{\"colorbar\":{\"outlinewidth\":0,\"ticks\":\"\"}},\"marker\":{\"colorbar\":{\"outlinewidth\":0,\"ticks\":\"\"}}}],\"scattermapbox\":[{\"type\":\"scattermapbox\",\"marker\":{\"colorbar\":{\"outlinewidth\":0,\"ticks\":\"\"}}}],\"scatterternary\":[{\"type\":\"scatterternary\",\"marker\":{\"colorbar\":{\"outlinewidth\":0,\"ticks\":\"\"}}}],\"scattercarpet\":[{\"type\":\"scattercarpet\",\"marker\":{\"colorbar\":{\"outlinewidth\":0,\"ticks\":\"\"}}}],\"carpet\":[{\"aaxis\":{\"endlinecolor\":\"#A2B1C6\",\"gridcolor\":\"#506784\",\"linecolor\":\"#506784\",\"minorgridcolor\":\"#506784\",\"startlinecolor\":\"#A2B1C6\"},\"baxis\":{\"endlinecolor\":\"#A2B1C6\",\"gridcolor\":\"#506784\",\"linecolor\":\"#506784\",\"minorgridcolor\":\"#506784\",\"startlinecolor\":\"#A2B1C6\"},\"type\":\"carpet\"}],\"table\":[{\"cells\":{\"fill\":{\"color\":\"#506784\"},\"line\":{\"color\":\"rgb(17,17,17)\"}},\"header\":{\"fill\":{\"color\":\"#2a3f5f\"},\"line\":{\"color\":\"rgb(17,17,17)\"}},\"type\":\"table\"}],\"barpolar\":[{\"marker\":{\"line\":{\"color\":\"rgb(17,17,17)\",\"width\":0.5},\"pattern\":{\"fillmode\":\"overlay\",\"size\":10,\"solidity\":0.2}},\"type\":\"barpolar\"}],\"pie\":[{\"automargin\":true,\"type\":\"pie\"}]},\"layout\":{\"autotypenumbers\":\"strict\",\"colorway\":[\"#636efa\",\"#EF553B\",\"#00cc96\",\"#ab63fa\",\"#FFA15A\",\"#19d3f3\",\"#FF6692\",\"#B6E880\",\"#FF97FF\",\"#FECB52\"],\"font\":{\"color\":\"#f2f5fa\"},\"hovermode\":\"closest\",\"hoverlabel\":{\"align\":\"left\"},\"paper_bgcolor\":\"rgb(17,17,17)\",\"plot_bgcolor\":\"rgb(17,17,17)\",\"polar\":{\"bgcolor\":\"rgb(17,17,17)\",\"angularaxis\":{\"gridcolor\":\"#506784\",\"linecolor\":\"#506784\",\"ticks\":\"\"},\"radialaxis\":{\"gridcolor\":\"#506784\",\"linecolor\":\"#506784\",\"ticks\":\"\"}},\"ternary\":{\"bgcolor\":\"rgb(17,17,17)\",\"aaxis\":{\"gridcolor\":\"#506784\",\"linecolor\":\"#506784\",\"ticks\":\"\"},\"baxis\":{\"gridcolor\":\"#506784\",\"linecolor\":\"#506784\",\"ticks\":\"\"},\"caxis\":{\"gridcolor\":\"#506784\",\"linecolor\":\"#506784\",\"ticks\":\"\"}},\"coloraxis\":{\"colorbar\":{\"outlinewidth\":0,\"ticks\":\"\"}},\"colorscale\":{\"sequential\":[[0.0,\"#0d0887\"],[0.1111111111111111,\"#46039f\"],[0.2222222222222222,\"#7201a8\"],[0.3333333333333333,\"#9c179e\"],[0.4444444444444444,\"#bd3786\"],[0.5555555555555556,\"#d8576b\"],[0.6666666666666666,\"#ed7953\"],[0.7777777777777778,\"#fb9f3a\"],[0.8888888888888888,\"#fdca26\"],[1.0,\"#f0f921\"]],\"sequentialminus\":[[0.0,\"#0d0887\"],[0.1111111111111111,\"#46039f\"],[0.2222222222222222,\"#7201a8\"],[0.3333333333333333,\"#9c179e\"],[0.4444444444444444,\"#bd3786\"],[0.5555555555555556,\"#d8576b\"],[0.6666666666666666,\"#ed7953\"],[0.7777777777777778,\"#fb9f3a\"],[0.8888888888888888,\"#fdca26\"],[1.0,\"#f0f921\"]],\"diverging\":[[0,\"#8e0152\"],[0.1,\"#c51b7d\"],[0.2,\"#de77ae\"],[0.3,\"#f1b6da\"],[0.4,\"#fde0ef\"],[0.5,\"#f7f7f7\"],[0.6,\"#e6f5d0\"],[0.7,\"#b8e186\"],[0.8,\"#7fbc41\"],[0.9,\"#4d9221\"],[1,\"#276419\"]]},\"xaxis\":{\"gridcolor\":\"#283442\",\"linecolor\":\"#506784\",\"ticks\":\"\",\"title\":{\"standoff\":15},\"zerolinecolor\":\"#283442\",\"automargin\":true,\"zerolinewidth\":2},\"yaxis\":{\"gridcolor\":\"#283442\",\"linecolor\":\"#506784\",\"ticks\":\"\",\"title\":{\"standoff\":15},\"zerolinecolor\":\"#283442\",\"automargin\":true,\"zerolinewidth\":2},\"scene\":{\"xaxis\":{\"backgroundcolor\":\"rgb(17,17,17)\",\"gridcolor\":\"#506784\",\"linecolor\":\"#506784\",\"showbackground\":true,\"ticks\":\"\",\"zerolinecolor\":\"#C8D4E3\",\"gridwidth\":2},\"yaxis\":{\"backgroundcolor\":\"rgb(17,17,17)\",\"gridcolor\":\"#506784\",\"linecolor\":\"#506784\",\"showbackground\":true,\"ticks\":\"\",\"zerolinecolor\":\"#C8D4E3\",\"gridwidth\":2},\"zaxis\":{\"backgroundcolor\":\"rgb(17,17,17)\",\"gridcolor\":\"#506784\",\"linecolor\":\"#506784\",\"showbackground\":true,\"ticks\":\"\",\"zerolinecolor\":\"#C8D4E3\",\"gridwidth\":2}},\"shapedefaults\":{\"line\":{\"color\":\"#f2f5fa\"}},\"annotationdefaults\":{\"arrowcolor\":\"#f2f5fa\",\"arrowhead\":0,\"arrowwidth\":1},\"geo\":{\"bgcolor\":\"rgb(17,17,17)\",\"landcolor\":\"rgb(17,17,17)\",\"subunitcolor\":\"#506784\",\"showland\":true,\"showlakes\":true,\"lakecolor\":\"rgb(17,17,17)\"},\"title\":{\"x\":0.05},\"updatemenudefaults\":{\"bgcolor\":\"#506784\",\"borderwidth\":0},\"sliderdefaults\":{\"bgcolor\":\"#C8D4E3\",\"borderwidth\":1,\"bordercolor\":\"rgb(17,17,17)\",\"tickwidth\":0},\"mapbox\":{\"style\":\"dark\"}}},\"title\":{\"text\":\"Error Ratio vs Predictions\"},\"xaxis\":{\"title\":{\"text\":\"Predictions\"}},\"yaxis\":{\"title\":{\"text\":\"Error Ratio\"}}},                        {\"responsive\": true}                    ).then(function(){\n",
       "                            \n",
       "var gd = document.getElementById('ff23cf0d-67fa-46a2-86e8-a85a3ea96de0');\n",
       "var x = new MutationObserver(function (mutations, observer) {{\n",
       "        var display = window.getComputedStyle(gd).display;\n",
       "        if (!display || display === 'none') {{\n",
       "            console.log([gd, 'removed!']);\n",
       "            Plotly.purge(gd);\n",
       "            observer.disconnect();\n",
       "        }}\n",
       "}});\n",
       "\n",
       "// Listen for the removal of the full notebook cells\n",
       "var notebookContainer = gd.closest('#notebook-container');\n",
       "if (notebookContainer) {{\n",
       "    x.observe(notebookContainer, {childList: true});\n",
       "}}\n",
       "\n",
       "// Listen for the clearing of the current output cell\n",
       "var outputEl = gd.closest('.output');\n",
       "if (outputEl) {{\n",
       "    x.observe(outputEl, {childList: true});\n",
       "}}\n",
       "\n",
       "                        })                };                });            </script>        </div>"
      ]
     },
     "metadata": {},
     "output_type": "display_data"
    }
   ],
   "execution_count": 136
  },
  {
   "metadata": {
    "ExecuteTime": {
     "end_time": "2024-08-27T06:44:16.410888Z",
     "start_time": "2024-08-27T06:44:16.397903Z"
    }
   },
   "cell_type": "code",
   "source": [
    "from src.encoder.label import encode as encode_labels\n",
    "\n",
    "# Test the label encoder\n",
    "labels = [\"cat\", \"dog\", \"fish\", \"elephant\", \"lion\", \"tiger\", \"bear\"]\n",
    "encoded_labels = encode_labels(labels)\n",
    "print(f\"Encoded labels: \\n{encoded_labels}\\n\")\n",
    "print(f\"Data type: \\n{encoded_labels.dtype}\\n\")\n",
    "print(f\"Shape: \\n{encoded_labels.shape}\\n\")\n",
    "print(f\"Size: \\n{encoded_labels.size}\\n\")\n",
    "print(f\"Number of dimensions: \\n{encoded_labels.ndim}\\n\")\n",
    "print(f\"Item size: \\n{encoded_labels.itemsize}\\n\")\n",
    "print(f\"Total bytes: \\n{encoded_labels.nbytes}\\n\")\n",
    "print(f\"Strides: \\n{encoded_labels.strides}\\n\")\n",
    "print(f\"Flags: \\n{encoded_labels.flags}\\n\")\n",
    "print(f\"Ctypes: \\n{encoded_labels.ctypes}\\n\")\n",
    "print(f\"Base: \\n{encoded_labels.base}\\n\")\n",
    "print(f\"Data: \\n{encoded_labels.data}\\n\")\n",
    "print(f\"Transpose: \\n{encoded_labels.T}\\n\")\n",
    "print(f\"Real part: \\n{encoded_labels.real}\\n\")\n",
    "print(f\"Imaginary part: \\n{encoded_labels.imag}\\n\")\n",
    "print(f\"Flat: \\n{encoded_labels.flat}\\n\")\n",
    "print(f\"Item: \\n{encoded_labels.item}\\n\")\n",
    "print(f\"List: \\n{encoded_labels.tolist()}\\n\")\n",
    "print(f\"Bytes: {encoded_labels.tobytes()}\\n\")"
   ],
   "id": "d0d21742f1e33526",
   "outputs": [
    {
     "name": "stdout",
     "output_type": "stream",
     "text": [
      "Encoded labels: \n",
      "[[104.       104.666664 106.5      106.125    108.5      107.8\n",
      "  102.5     ]]\n",
      "\n",
      "Data type: \n",
      "float32\n",
      "\n",
      "Shape: \n",
      "(1, 7)\n",
      "\n",
      "Size: \n",
      "7\n",
      "\n",
      "Number of dimensions: \n",
      "2\n",
      "\n",
      "Item size: \n",
      "4\n",
      "\n",
      "Total bytes: \n",
      "28\n",
      "\n",
      "Strides: \n",
      "(28, 4)\n",
      "\n",
      "Flags: \n",
      "  C_CONTIGUOUS : True\n",
      "  F_CONTIGUOUS : True\n",
      "  OWNDATA : True\n",
      "  WRITEABLE : True\n",
      "  ALIGNED : True\n",
      "  WRITEBACKIFCOPY : False\n",
      "\n",
      "\n",
      "Ctypes: \n",
      "<numpy.core._internal._ctypes object at 0x109f9fb90>\n",
      "\n",
      "Base: \n",
      "None\n",
      "\n",
      "Data: \n",
      "<memory at 0x10a128ad0>\n",
      "\n",
      "Transpose: \n",
      "[[104.      ]\n",
      " [104.666664]\n",
      " [106.5     ]\n",
      " [106.125   ]\n",
      " [108.5     ]\n",
      " [107.8     ]\n",
      " [102.5     ]]\n",
      "\n",
      "Real part: \n",
      "[[104.       104.666664 106.5      106.125    108.5      107.8\n",
      "  102.5     ]]\n",
      "\n",
      "Imaginary part: \n",
      "[[0. 0. 0. 0. 0. 0. 0.]]\n",
      "\n",
      "Flat: \n",
      "<numpy.flatiter object at 0x7fd071aaa200>\n",
      "\n",
      "Item: \n",
      "<built-in method item of numpy.ndarray object at 0x1066bfab0>\n",
      "\n",
      "List: \n",
      "[[104.0, 104.66666412353516, 106.5, 106.125, 108.5, 107.80000305175781, 102.5]]\n",
      "\n",
      "Bytes: b'\\x00\\x00\\xd0BUU\\xd1B\\x00\\x00\\xd5B\\x00@\\xd4B\\x00\\x00\\xd9B\\x9a\\x99\\xd7B\\x00\\x00\\xcdB'\n",
      "\n"
     ]
    }
   ],
   "execution_count": 137
  },
  {
   "metadata": {
    "ExecuteTime": {
     "end_time": "2024-08-27T04:36:55.554572Z",
     "start_time": "2024-08-27T04:36:55.551196Z"
    }
   },
   "cell_type": "code",
   "source": "",
   "id": "5cf6ae726b420884",
   "outputs": [],
   "execution_count": null
  }
 ],
 "metadata": {
  "kernelspec": {
   "display_name": "Python 3",
   "language": "python",
   "name": "python3"
  },
  "language_info": {
   "codemirror_mode": {
    "name": "ipython",
    "version": 2
   },
   "file_extension": ".py",
   "mimetype": "text/x-python",
   "name": "python",
   "nbconvert_exporter": "python",
   "pygments_lexer": "ipython2",
   "version": "2.7.6"
  }
 },
 "nbformat": 4,
 "nbformat_minor": 5
}

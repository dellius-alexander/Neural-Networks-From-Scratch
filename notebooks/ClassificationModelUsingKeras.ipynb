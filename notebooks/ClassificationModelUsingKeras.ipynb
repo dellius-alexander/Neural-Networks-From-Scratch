{
 "cells": [
  {
   "metadata": {},
   "cell_type": "markdown",
   "source": "",
   "id": "47af6db39151f4ec"
  },
  {
   "metadata": {
    "ExecuteTime": {
     "end_time": "2024-08-27T18:39:34.784693Z",
     "start_time": "2024-08-27T18:39:34.778436Z"
    }
   },
   "cell_type": "code",
   "source": [
    "def train_model(features, labels, activation, epochs, learning_rate):\n",
    "    import tensorflow as tf\n",
    "    model = tf.keras.Sequential([\n",
    "        tf.keras.layers.Dense(10, activation=activation),\n",
    "        tf.keras.layers.Dense(10, activation=activation),\n",
    "        tf.keras.layers.Dense(1, activation='sigmoid')\n",
    "    ])\n",
    "    model.compile(optimizer=tf.keras.optimizers.Adam(learning_rate=learning_rate),\n",
    "                  loss='binary_crossentropy',\n",
    "                  metrics=['accuracy'])\n",
    "    model.fit(features, labels, epochs=epochs)\n",
    "    return model"
   ],
   "id": "initial_id",
   "outputs": [],
   "execution_count": 7
  },
  {
   "metadata": {
    "ExecuteTime": {
     "end_time": "2024-08-27T18:39:36.853378Z",
     "start_time": "2024-08-27T18:39:34.806885Z"
    }
   },
   "cell_type": "code",
   "source": [
    "import numpy as np\n",
    "feat = np.random.rand(100, 5)\n",
    "lab = np.random.randint(0, 2, 100)\n",
    "act = 'relu'\n",
    "epo = 10\n",
    "learn_rate = 0.01\n",
    "m = train_model(feat, lab, act, epo, learn_rate)\n",
    "\n",
    "# save model to file\n",
    "# `model.save('my_model.keras')`\n",
    "# `keras.saving.save_model(model, 'my_model.keras')`\n",
    "m.save('../models/model.keras')\n"
   ],
   "id": "b2b950941c0a2d9d",
   "outputs": [
    {
     "name": "stdout",
     "output_type": "stream",
     "text": [
      "Epoch 1/10\n",
      "\u001B[1m4/4\u001B[0m \u001B[32m━━━━━━━━━━━━━━━━━━━━\u001B[0m\u001B[37m\u001B[0m \u001B[1m2s\u001B[0m 2ms/step - accuracy: 0.4819 - loss: 0.7000\n",
      "Epoch 2/10\n",
      "\u001B[1m4/4\u001B[0m \u001B[32m━━━━━━━━━━━━━━━━━━━━\u001B[0m\u001B[37m\u001B[0m \u001B[1m0s\u001B[0m 2ms/step - accuracy: 0.5373 - loss: 0.6883 \n",
      "Epoch 3/10\n",
      "\u001B[1m4/4\u001B[0m \u001B[32m━━━━━━━━━━━━━━━━━━━━\u001B[0m\u001B[37m\u001B[0m \u001B[1m0s\u001B[0m 3ms/step - accuracy: 0.5374 - loss: 0.6958 \n",
      "Epoch 4/10\n",
      "\u001B[1m4/4\u001B[0m \u001B[32m━━━━━━━━━━━━━━━━━━━━\u001B[0m\u001B[37m\u001B[0m \u001B[1m0s\u001B[0m 4ms/step - accuracy: 0.4985 - loss: 0.6905 \n",
      "Epoch 5/10\n",
      "\u001B[1m4/4\u001B[0m \u001B[32m━━━━━━━━━━━━━━━━━━━━\u001B[0m\u001B[37m\u001B[0m \u001B[1m0s\u001B[0m 3ms/step - accuracy: 0.5957 - loss: 0.6794 \n",
      "Epoch 6/10\n",
      "\u001B[1m4/4\u001B[0m \u001B[32m━━━━━━━━━━━━━━━━━━━━\u001B[0m\u001B[37m\u001B[0m \u001B[1m0s\u001B[0m 3ms/step - accuracy: 0.5834 - loss: 0.6825 \n",
      "Epoch 7/10\n",
      "\u001B[1m4/4\u001B[0m \u001B[32m━━━━━━━━━━━━━━━━━━━━\u001B[0m\u001B[37m\u001B[0m \u001B[1m0s\u001B[0m 4ms/step - accuracy: 0.5545 - loss: 0.6868 \n",
      "Epoch 8/10\n",
      "\u001B[1m4/4\u001B[0m \u001B[32m━━━━━━━━━━━━━━━━━━━━\u001B[0m\u001B[37m\u001B[0m \u001B[1m0s\u001B[0m 3ms/step - accuracy: 0.5738 - loss: 0.6816 \n",
      "Epoch 9/10\n",
      "\u001B[1m4/4\u001B[0m \u001B[32m━━━━━━━━━━━━━━━━━━━━\u001B[0m\u001B[37m\u001B[0m \u001B[1m0s\u001B[0m 3ms/step - accuracy: 0.5544 - loss: 0.6814 \n",
      "Epoch 10/10\n",
      "\u001B[1m4/4\u001B[0m \u001B[32m━━━━━━━━━━━━━━━━━━━━\u001B[0m\u001B[37m\u001B[0m \u001B[1m0s\u001B[0m 4ms/step - accuracy: 0.6287 - loss: 0.6760 \n"
     ]
    }
   ],
   "execution_count": 8
  },
  {
   "metadata": {
    "ExecuteTime": {
     "end_time": "2024-08-27T18:39:36.962858Z",
     "start_time": "2024-08-27T18:39:36.871274Z"
    }
   },
   "cell_type": "code",
   "source": [
    "# Reload the model\n",
    "import tensorflow as tf\n",
    "\n",
    "m = tf.keras.models.load_model('../models/model.keras')\n",
    "print(m)"
   ],
   "id": "9a9671ab75eeb126",
   "outputs": [
    {
     "name": "stdout",
     "output_type": "stream",
     "text": [
      "<Sequential name=sequential_2, built=True>\n"
     ]
    }
   ],
   "execution_count": 9
  },
  {
   "metadata": {
    "ExecuteTime": {
     "end_time": "2024-08-27T18:39:37.044963Z",
     "start_time": "2024-08-27T18:39:37.041661Z"
    }
   },
   "cell_type": "code",
   "source": "",
   "id": "929c93b5e536d2c5",
   "outputs": [],
   "execution_count": null
  }
 ],
 "metadata": {
  "kernelspec": {
   "display_name": "Python 3",
   "language": "python",
   "name": "python3"
  },
  "language_info": {
   "codemirror_mode": {
    "name": "ipython",
    "version": 2
   },
   "file_extension": ".py",
   "mimetype": "text/x-python",
   "name": "python",
   "nbconvert_exporter": "python",
   "pygments_lexer": "ipython2",
   "version": "2.7.6"
  }
 },
 "nbformat": 4,
 "nbformat_minor": 5
}

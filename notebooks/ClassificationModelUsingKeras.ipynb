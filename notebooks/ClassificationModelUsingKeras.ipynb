{
 "cells": [
  {
   "metadata": {},
   "cell_type": "markdown",
   "source": "",
   "id": "47af6db39151f4ec"
  },
  {
   "metadata": {
    "ExecuteTime": {
     "end_time": "2024-09-21T06:42:16.841858Z",
     "start_time": "2024-09-21T06:42:16.823391Z"
    }
   },
   "cell_type": "code",
   "source": [
    "from IPython.display import display, Javascript\n",
    "\n",
    "display(Javascript(\"MathJax.typeset()\"))"
   ],
   "id": "eec47e0a2411c753",
   "outputs": [
    {
     "data": {
      "text/plain": [
       "<IPython.core.display.Javascript object>"
      ],
      "application/javascript": "MathJax.typeset()"
     },
     "metadata": {},
     "output_type": "display_data"
    }
   ],
   "execution_count": 1
  },
  {
   "metadata": {
    "ExecuteTime": {
     "end_time": "2024-09-21T06:42:16.887677Z",
     "start_time": "2024-09-21T06:42:16.880464Z"
    }
   },
   "cell_type": "code",
   "source": [
    "def train_model(features, labels, activation, epochs, learning_rate):\n",
    "    import tensorflow as tf\n",
    "\n",
    "    model = tf.keras.Sequential(\n",
    "        [\n",
    "            tf.keras.layers.Dense(10, activation=activation),\n",
    "            tf.keras.layers.Dense(10, activation=activation),\n",
    "            tf.keras.layers.Dense(1, activation=\"sigmoid\"),\n",
    "        ]\n",
    "    )\n",
    "    model.compile(\n",
    "        optimizer=tf.keras.optimizers.Adam(learning_rate=learning_rate),\n",
    "        loss=\"binary_crossentropy\",\n",
    "        metrics=[\"accuracy\"],\n",
    "    )\n",
    "    model.fit(features, labels, epochs=epochs)\n",
    "    return model"
   ],
   "id": "initial_id",
   "outputs": [],
   "execution_count": 2
  },
  {
   "metadata": {
    "ExecuteTime": {
     "end_time": "2024-09-21T06:43:09.013291Z",
     "start_time": "2024-09-21T06:42:17.163789Z"
    }
   },
   "cell_type": "code",
   "source": [
    "import numpy as np\n",
    "\n",
    "feat = np.random.rand(100, 5)\n",
    "lab = np.random.randint(0, 2, 100)\n",
    "act = \"relu\"\n",
    "epo = 10\n",
    "learn_rate = 0.01\n",
    "m = train_model(feat, lab, act, epo, learn_rate)\n",
    "\n",
    "# save model to file\n",
    "# `model.save('my_model.keras')`\n",
    "# `keras.saving.save_model(model, 'my_model.keras')`\n",
    "m.save(\"../models/model.keras\")"
   ],
   "id": "b2b950941c0a2d9d",
   "outputs": [
    {
     "name": "stderr",
     "output_type": "stream",
     "text": [
      "2024-09-21 02:42:49.257215: I tensorflow/core/platform/cpu_feature_guard.cc:210] This TensorFlow binary is optimized to use available CPU instructions in performance-critical operations.\n",
      "To enable the following instructions: AVX2 FMA, in other operations, rebuild TensorFlow with the appropriate compiler flags.\n"
     ]
    },
    {
     "name": "stdout",
     "output_type": "stream",
     "text": [
      "Epoch 1/10\n",
      "\u001B[1m4/4\u001B[0m \u001B[32m━━━━━━━━━━━━━━━━━━━━\u001B[0m\u001B[37m\u001B[0m \u001B[1m2s\u001B[0m 3ms/step - accuracy: 0.5618 - loss: 0.6936\n",
      "Epoch 2/10\n",
      "\u001B[1m4/4\u001B[0m \u001B[32m━━━━━━━━━━━━━━━━━━━━\u001B[0m\u001B[37m\u001B[0m \u001B[1m0s\u001B[0m 2ms/step - accuracy: 0.5707 - loss: 0.6841 \n",
      "Epoch 3/10\n",
      "\u001B[1m4/4\u001B[0m \u001B[32m━━━━━━━━━━━━━━━━━━━━\u001B[0m\u001B[37m\u001B[0m \u001B[1m0s\u001B[0m 2ms/step - accuracy: 0.5858 - loss: 0.6808 \n",
      "Epoch 4/10\n",
      "\u001B[1m4/4\u001B[0m \u001B[32m━━━━━━━━━━━━━━━━━━━━\u001B[0m\u001B[37m\u001B[0m \u001B[1m0s\u001B[0m 2ms/step - accuracy: 0.6056 - loss: 0.6797 \n",
      "Epoch 5/10\n",
      "\u001B[1m4/4\u001B[0m \u001B[32m━━━━━━━━━━━━━━━━━━━━\u001B[0m\u001B[37m\u001B[0m \u001B[1m0s\u001B[0m 2ms/step - accuracy: 0.5820 - loss: 0.6769 \n",
      "Epoch 6/10\n",
      "\u001B[1m4/4\u001B[0m \u001B[32m━━━━━━━━━━━━━━━━━━━━\u001B[0m\u001B[37m\u001B[0m \u001B[1m0s\u001B[0m 2ms/step - accuracy: 0.5633 - loss: 0.6741 \n",
      "Epoch 7/10\n",
      "\u001B[1m4/4\u001B[0m \u001B[32m━━━━━━━━━━━━━━━━━━━━\u001B[0m\u001B[37m\u001B[0m \u001B[1m0s\u001B[0m 2ms/step - accuracy: 0.5754 - loss: 0.6700 \n",
      "Epoch 8/10\n",
      "\u001B[1m4/4\u001B[0m \u001B[32m━━━━━━━━━━━━━━━━━━━━\u001B[0m\u001B[37m\u001B[0m \u001B[1m0s\u001B[0m 2ms/step - accuracy: 0.5716 - loss: 0.6661 \n",
      "Epoch 9/10\n",
      "\u001B[1m4/4\u001B[0m \u001B[32m━━━━━━━━━━━━━━━━━━━━\u001B[0m\u001B[37m\u001B[0m \u001B[1m0s\u001B[0m 2ms/step - accuracy: 0.5683 - loss: 0.6745 \n",
      "Epoch 10/10\n",
      "\u001B[1m4/4\u001B[0m \u001B[32m━━━━━━━━━━━━━━━━━━━━\u001B[0m\u001B[37m\u001B[0m \u001B[1m0s\u001B[0m 2ms/step - accuracy: 0.6265 - loss: 0.6591 \n"
     ]
    }
   ],
   "execution_count": 3
  },
  {
   "metadata": {
    "ExecuteTime": {
     "end_time": "2024-09-21T06:43:09.133989Z",
     "start_time": "2024-09-21T06:43:09.052272Z"
    }
   },
   "cell_type": "code",
   "source": [
    "# Reload the model\n",
    "import tensorflow as tf\n",
    "\n",
    "m = tf.keras.models.load_model(\"../models/model.keras\")\n",
    "print(m)"
   ],
   "id": "9a9671ab75eeb126",
   "outputs": [
    {
     "name": "stdout",
     "output_type": "stream",
     "text": [
      "<Sequential name=sequential, built=True>\n"
     ]
    }
   ],
   "execution_count": 4
  },
  {
   "metadata": {
    "ExecuteTime": {
     "end_time": "2024-09-21T06:43:09.155163Z",
     "start_time": "2024-09-21T06:43:09.152491Z"
    }
   },
   "cell_type": "code",
   "source": "",
   "id": "929c93b5e536d2c5",
   "outputs": [],
   "execution_count": null
  }
 ],
 "metadata": {
  "kernelspec": {
   "display_name": "Python 3",
   "language": "python",
   "name": "python3"
  },
  "language_info": {
   "codemirror_mode": {
    "name": "ipython",
    "version": 2
   },
   "file_extension": ".py",
   "mimetype": "text/x-python",
   "name": "python",
   "nbconvert_exporter": "python",
   "pygments_lexer": "ipython2",
   "version": "2.7.6"
  }
 },
 "nbformat": 4,
 "nbformat_minor": 5
}
